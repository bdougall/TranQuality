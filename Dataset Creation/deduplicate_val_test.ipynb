{
  "nbformat": 4,
  "nbformat_minor": 0,
  "metadata": {
    "colab": {
      "name": "deduplicate_val_test.ipynb",
      "provenance": [],
      "collapsed_sections": [],
      "machine_shape": "hm"
    },
    "kernelspec": {
      "name": "python3",
      "display_name": "Python 3"
    },
    "language_info": {
      "name": "python"
    },
    "accelerator": "GPU"
  },
  "cells": [
    {
      "cell_type": "code",
      "metadata": {
        "colab": {
          "base_uri": "https://localhost:8080/"
        },
        "id": "Xh4ZQuEAhyf1",
        "outputId": "15b53ac1-8e11-42e1-df77-9a88ce6da7f2"
      },
      "source": [
        "# Mount Google drive to upload datasets\n",
        "from google.colab import drive\n",
        "drive.mount('/content/drive')"
      ],
      "execution_count": null,
      "outputs": [
        {
          "output_type": "stream",
          "name": "stdout",
          "text": [
            "Mounted at /content/drive\n"
          ]
        }
      ]
    },
    {
      "cell_type": "code",
      "metadata": {
        "id": "AFt05MH047S_"
      },
      "source": [
        "# The path to the data on my drive\n",
        "D = '/content/drive/My Drive/W266_Project_Data/pmi_data'"
      ],
      "execution_count": null,
      "outputs": []
    },
    {
      "cell_type": "code",
      "metadata": {
        "id": "73eMNw7I42QK"
      },
      "source": [
        "# Import the necessary libraries\n",
        "import numpy as np\n",
        "import pandas as pd\n",
        "from sklearn.model_selection import train_test_split"
      ],
      "execution_count": null,
      "outputs": []
    },
    {
      "cell_type": "code",
      "metadata": {
        "id": "MQl0yHq3-dr3"
      },
      "source": [
        "# Load the paraphrase training, dev, and test sets created with punjabi\n",
        "paraphrase_train = pd.read_csv(D+\"/xml/amrita-paraphrase-exact/paraphrase_train_w_punjabi.csv\")\n",
        "paraphrase_train.drop(columns={\"Unnamed: 0\"}, inplace=True)\n",
        "\n",
        "paraphrase_dev = pd.read_csv(D+\"/xml/amrita-paraphrase-exact/paraphrase_dev_w_punjabi.csv\")\n",
        "paraphrase_dev.drop(columns={\"Unnamed: 0\"}, inplace=True)\n",
        "\n",
        "paraphrase_test = pd.read_csv(D+\"/xml/amrita-paraphrase-exact/paraphrase_test_w_punjabi.csv\")\n",
        "paraphrase_test.drop(columns={\"Unnamed: 0\"}, inplace=True)"
      ],
      "execution_count": null,
      "outputs": []
    },
    {
      "cell_type": "code",
      "source": [
        "# Rejoin and split the dev and test datasets so that no duplicates are in each other\n",
        "# and the datasets are balanced\n",
        "para_clean = pd.concat([paraphrase_dev, paraphrase_test])\n",
        "paraphrase_clean = para_clean.drop_duplicates(subset=['sentence_1','sentence_2'], keep='first')\n",
        "\n",
        "hi_clean = paraphrase_clean[paraphrase_clean.language_task == 'translate English to Hindi']\n",
        "ta_clean = paraphrase_clean[paraphrase_clean.language_task == 'translate English to Tamil']\n",
        "ma_clean = paraphrase_clean[paraphrase_clean.language_task == 'translate English to Malayalam']\n",
        "pb_clean = paraphrase_clean[paraphrase_clean.language_task == 'translate English to Punjabi']\n",
        "\n",
        "# Get the updated dev and test sets for each language\n",
        "hi_dev, hi_test = train_test_split(hi_clean, test_size=0.5, random_state=42)\n",
        "ma_dev, ma_test = train_test_split(ma_clean, test_size=0.5, random_state=42)\n",
        "ta_dev, ta_test = train_test_split(ta_clean, test_size=0.5, random_state=42)\n",
        "pb_dev, pb_test = train_test_split(pb_clean, test_size=0.5, random_state=42)\n",
        "\n",
        "# Concatenate the dev dataframes and replace paraphrase NP/P labels with 0 and 1\n",
        "p_dev_new = pd.concat([hi_dev, ma_dev, ta_dev, pb_dev])\n",
        "\n",
        "# Concatenate the test dataframes and replace paraphrase NP/P labels with 0 and 1\n",
        "p_test_new = pd.concat([hi_test, ma_test, ta_test, pb_test])"
      ],
      "metadata": {
        "id": "uU9Y7OqKF_jh"
      },
      "execution_count": null,
      "outputs": []
    },
    {
      "cell_type": "code",
      "source": [
        "# Write the deduplicated validation and test sets to csvs\n",
        "p_dev_new.to_csv(D+\"/xml/dedup_para_dev.csv\")\n",
        "p_test_new.to_csv(D+\"/xml/dedup_para_test.csv\")"
      ],
      "metadata": {
        "id": "Gi5kREv3TWSl"
      },
      "execution_count": null,
      "outputs": []
    },
    {
      "cell_type": "code",
      "source": [
        "# Verify that the deduplicatd paraphrase val and test datasets are relatively language balanced\n",
        "print(p_dev_new.language_task.value_counts())\n",
        "\n",
        "print(p_test_new.language_task.value_counts())"
      ],
      "metadata": {
        "colab": {
          "base_uri": "https://localhost:8080/"
        },
        "id": "3PCJnQE-FNTP",
        "outputId": "beff5ae0-8b19-4c3a-df84-9663f50ff2d5"
      },
      "execution_count": null,
      "outputs": [
        {
          "output_type": "stream",
          "name": "stdout",
          "text": [
            "translate English to Malayalam    450\n",
            "translate English to Hindi        448\n",
            "translate English to Tamil        425\n",
            "translate English to Punjabi      250\n",
            "Name: language_task, dtype: int64\n",
            "translate English to Malayalam    450\n",
            "translate English to Hindi        448\n",
            "translate English to Tamil        426\n",
            "translate English to Punjabi      250\n",
            "Name: language_task, dtype: int64\n"
          ]
        }
      ]
    },
    {
      "cell_type": "code",
      "source": [
        "# Check the distribution of NP (0) and P (1) labels in the paraphrase set\n",
        "p_dev_new.label.value_counts()"
      ],
      "metadata": {
        "colab": {
          "base_uri": "https://localhost:8080/"
        },
        "id": "K3N2r5diUF2L",
        "outputId": "81b3b348-63e8-43a8-bbf2-3fd4b7ecf5e8"
      },
      "execution_count": null,
      "outputs": [
        {
          "output_type": "execute_result",
          "data": {
            "text/plain": [
              "0    866\n",
              "1    707\n",
              "Name: label, dtype: int64"
            ]
          },
          "metadata": {},
          "execution_count": 22
        }
      ]
    }
  ]
}