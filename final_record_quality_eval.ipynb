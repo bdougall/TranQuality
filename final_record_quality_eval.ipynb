{
  "nbformat": 4,
  "nbformat_minor": 0,
  "metadata": {
    "colab": {
      "name": "final_record_quality_eval.ipynb",
      "provenance": [],
      "collapsed_sections": []
    },
    "kernelspec": {
      "name": "python3",
      "display_name": "Python 3"
    },
    "language_info": {
      "name": "python"
    }
  },
  "cells": [
    {
      "cell_type": "code",
      "metadata": {
        "colab": {
          "base_uri": "https://localhost:8080/"
        },
        "id": "5iLUODzYUmlX",
        "outputId": "f5094f59-75d4-4b21-8e36-35b2b7580a1c"
      },
      "source": [
        "# Mount Google drive to upload datasets\n",
        "from google.colab import drive\n",
        "drive.mount('/content/drive')"
      ],
      "execution_count": 1,
      "outputs": [
        {
          "output_type": "stream",
          "name": "stdout",
          "text": [
            "Mounted at /content/drive\n"
          ]
        }
      ]
    },
    {
      "cell_type": "code",
      "metadata": {
        "id": "xn8OyIVSWD3H"
      },
      "source": [
        "# The path to the data on my drive\n",
        "D = '/content/drive/My Drive/W266_Project_Data/pmi_data'"
      ],
      "execution_count": 2,
      "outputs": []
    },
    {
      "cell_type": "code",
      "metadata": {
        "id": "T52H4_SuiXJj"
      },
      "source": [
        "import pandas as pd\n",
        "import numpy as np"
      ],
      "execution_count": 3,
      "outputs": []
    },
    {
      "cell_type": "code",
      "metadata": {
        "id": "pkEKYkxhh3tn"
      },
      "source": [
        "# Load the eval files for each model's translations\n",
        "final = pd.read_csv(D+\"/predicted_text/siamese_evaluations_of_translations/record_comparison.csv\")\n",
        "final.drop(columns={'Unnamed: 0'}, inplace=True)"
      ],
      "execution_count": 4,
      "outputs": []
    },
    {
      "cell_type": "code",
      "metadata": {
        "colab": {
          "base_uri": "https://localhost:8080/",
          "height": 530
        },
        "id": "Myrlu_7Yid3N",
        "outputId": "73f0bdf6-97d3-4b80-e678-f343e64d314c"
      },
      "source": [
        "# View the first few records in each file\n",
        "final.head()"
      ],
      "execution_count": 5,
      "outputs": [
        {
          "output_type": "execute_result",
          "data": {
            "text/html": [
              "<div>\n",
              "<style scoped>\n",
              "    .dataframe tbody tr th:only-of-type {\n",
              "        vertical-align: middle;\n",
              "    }\n",
              "\n",
              "    .dataframe tbody tr th {\n",
              "        vertical-align: top;\n",
              "    }\n",
              "\n",
              "    .dataframe thead th {\n",
              "        text-align: right;\n",
              "    }\n",
              "</style>\n",
              "<table border=\"1\" class=\"dataframe\">\n",
              "  <thead>\n",
              "    <tr style=\"text-align: right;\">\n",
              "      <th></th>\n",
              "      <th>language_task</th>\n",
              "      <th>target_sentence</th>\n",
              "      <th>bart_translation</th>\n",
              "      <th>bart_paraphrase_score</th>\n",
              "      <th>bart_cosine_score</th>\n",
              "      <th>indictrans_translation</th>\n",
              "      <th>indictrans_paraphrase_score</th>\n",
              "      <th>indictrans_cosine_score</th>\n",
              "      <th>best_trans</th>\n",
              "    </tr>\n",
              "  </thead>\n",
              "  <tbody>\n",
              "    <tr>\n",
              "      <th>0</th>\n",
              "      <td>translate English to Hindi</td>\n",
              "      <td>प्रधानमंत्री ने कहा कि बाबा साहेब अम्बेडकर की ...</td>\n",
              "      <td>Prime Minister said Babasaheb Ambedkar has a k...</td>\n",
              "      <td>0.088514</td>\n",
              "      <td>0.770237</td>\n",
              "      <td>प्रधानमंत्री ने कहा कि करोड़ों लोगों के दिलों ...</td>\n",
              "      <td>0.974685</td>\n",
              "      <td>0.948379</td>\n",
              "      <td>प्रधानमंत्री ने कहा कि करोड़ों लोगों के दिलों ...</td>\n",
              "    </tr>\n",
              "    <tr>\n",
              "      <th>1</th>\n",
              "      <td>translate English to Hindi</td>\n",
              "      <td>इस समारोह को आज बीजापुर में आयोजित करने के महत...</td>\n",
              "      <td>आज बीजापुर में इस समारोह को आयोजित करने के महत...</td>\n",
              "      <td>0.979257</td>\n",
              "      <td>0.946777</td>\n",
              "      <td>आज बीजापुर में इस कार्यक्रम के आयोजन के महत्व ...</td>\n",
              "      <td>0.978843</td>\n",
              "      <td>0.973164</td>\n",
              "      <td>आज बीजापुर में इस समारोह को आयोजित करने के महत...</td>\n",
              "    </tr>\n",
              "    <tr>\n",
              "      <th>2</th>\n",
              "      <td>translate English to Hindi</td>\n",
              "      <td>उन्होंने कहा कि इस कार्य को 2022 तक पूरा कर ले...</td>\n",
              "      <td>उन्होंने कहा कि लक्ष्य 2022 तक इस कार्य को पूर...</td>\n",
              "      <td>0.986500</td>\n",
              "      <td>0.956433</td>\n",
              "      <td>उन्होंने कहा कि इस कार्य को 2022 तक पूरा करने ...</td>\n",
              "      <td>0.987696</td>\n",
              "      <td>0.985965</td>\n",
              "      <td>उन्होंने कहा कि इस कार्य को 2022 तक पूरा करने ...</td>\n",
              "    </tr>\n",
              "    <tr>\n",
              "      <th>3</th>\n",
              "      <td>translate English to Hindi</td>\n",
              "      <td>प्रधानमंत्री ने कहा कि सरकार स्पष्ट लक्ष्यों औ...</td>\n",
              "      <td>प्रधानमंत्री ने कहा कि सरकार स्पष्ट लक्ष्यों औ...</td>\n",
              "      <td>0.980670</td>\n",
              "      <td>0.965325</td>\n",
              "      <td>प्रधानमंत्री ने कहा कि सरकार स्पष्ट लक्ष्यों औ...</td>\n",
              "      <td>0.986279</td>\n",
              "      <td>0.986373</td>\n",
              "      <td>प्रधानमंत्री ने कहा कि सरकार स्पष्ट लक्ष्यों औ...</td>\n",
              "    </tr>\n",
              "    <tr>\n",
              "      <th>4</th>\n",
              "      <td>translate English to Hindi</td>\n",
              "      <td>उन्होंने इस संदर्भ में जन धन खाता खोलने, गरीबो...</td>\n",
              "      <td>इस संदर्भ में उन्होंने जनधन खाते खोलने, गरीबों...</td>\n",
              "      <td>0.984052</td>\n",
              "      <td>0.979276</td>\n",
              "      <td>इस संदर्भ में उन्होंने जन धन खाते खोलने, गरीबो...</td>\n",
              "      <td>0.985711</td>\n",
              "      <td>0.992806</td>\n",
              "      <td>इस संदर्भ में उन्होंने जन धन खाते खोलने, गरीबो...</td>\n",
              "    </tr>\n",
              "  </tbody>\n",
              "</table>\n",
              "</div>"
            ],
            "text/plain": [
              "                language_task  ...                                         best_trans\n",
              "0  translate English to Hindi  ...  प्रधानमंत्री ने कहा कि करोड़ों लोगों के दिलों ...\n",
              "1  translate English to Hindi  ...  आज बीजापुर में इस समारोह को आयोजित करने के महत...\n",
              "2  translate English to Hindi  ...  उन्होंने कहा कि इस कार्य को 2022 तक पूरा करने ...\n",
              "3  translate English to Hindi  ...  प्रधानमंत्री ने कहा कि सरकार स्पष्ट लक्ष्यों औ...\n",
              "4  translate English to Hindi  ...  इस संदर्भ में उन्होंने जन धन खाते खोलने, गरीबो...\n",
              "\n",
              "[5 rows x 9 columns]"
            ]
          },
          "metadata": {},
          "execution_count": 5
        }
      ]
    },
    {
      "cell_type": "code",
      "metadata": {
        "id": "-UiBfTRtwSsp"
      },
      "source": [
        "# Add a new column for the source of the best translation\n",
        "final['best_trans_source'] = np.where(final.best_trans == final.indictrans_translation, \"indictrans\", \"mbart\")"
      ],
      "execution_count": 7,
      "outputs": []
    },
    {
      "cell_type": "code",
      "metadata": {
        "id": "VScHdVCewuLX"
      },
      "source": [
        "# Add a new column based upon whether or not cosine similarity score went up or down\n",
        "conditions = [\n",
        "    (final['best_trans_source'] == 'indictrans') & (final['indictrans_cosine_score'] > final['bart_cosine_score']),\n",
        "    (final['best_trans_source'] == 'indictrans') & (final['indictrans_cosine_score'] < final['bart_cosine_score']),\n",
        "    (final['best_trans_source'] == 'indictrans') & (final['indictrans_cosine_score'] == final['bart_cosine_score']),\n",
        "    (final['best_trans_source'] == 'mbart') & (final['bart_cosine_score'] > final['indictrans_cosine_score']),\n",
        "    (final['best_trans_source'] == 'mbart') & (final['bart_cosine_score'] < final['indictrans_cosine_score']),\n",
        "    (final['best_trans_source'] == 'mbart') & (final['bart_cosine_score'] == final['bart_cosine_score'])\n",
        "    ]\n",
        "values = ['score increased', 'score decreased', 'no change', 'score increased', 'score decreased', 'no change']\n",
        "\n",
        "final['cos_change'] = np.select(conditions, values)"
      ],
      "execution_count": 11,
      "outputs": []
    },
    {
      "cell_type": "code",
      "metadata": {
        "colab": {
          "base_uri": "https://localhost:8080/"
        },
        "id": "whcY05lFy6b9",
        "outputId": "374fbfbc-be47-4320-e4f3-546cb0b55049"
      },
      "source": [
        "# The cosine similarity score of the sentence chosen by the paraphrase evaluator was higher than that of the non-chosen sentence 75% of the time\n",
        "# 2,243 of 3,000 times\n",
        "# in 724 cases, the cosine similarity score of the chosen sentence was lower than that of the non-chosen sentence\n",
        "final.cos_change.value_counts()"
      ],
      "execution_count": 14,
      "outputs": [
        {
          "output_type": "execute_result",
          "data": {
            "text/plain": [
              "score increased    2243\n",
              "score decreased     724\n",
              "no change            33\n",
              "Name: cos_change, dtype: int64"
            ]
          },
          "metadata": {},
          "execution_count": 14
        }
      ]
    },
    {
      "cell_type": "code",
      "metadata": {
        "id": "2U2f4bx0zpIw"
      },
      "source": [
        "# IndicTrans initially had higher Sacre Bleu scores for \n",
        "indic_chosen = final[final.best_trans_source == 'indictrans']\n",
        "mbart_chosen = final[final.best_trans_source == 'mbart']"
      ],
      "execution_count": 21,
      "outputs": []
    },
    {
      "cell_type": "code",
      "metadata": {
        "colab": {
          "base_uri": "https://localhost:8080/"
        },
        "id": "DdHrbExXz6W-",
        "outputId": "7bad6aee-6f9e-4218-9604-be33f248b3ba"
      },
      "source": [
        "# When Indictrans was chosen as the translation, the cosine similarity was higher than that the Bart translation 1,489 times out of 1,921\n",
        "# 78% of the time\n",
        "indic_chosen.cos_change.value_counts()"
      ],
      "execution_count": 22,
      "outputs": [
        {
          "output_type": "execute_result",
          "data": {
            "text/plain": [
              "score increased    1489\n",
              "score decreased     399\n",
              "no change            33\n",
              "Name: cos_change, dtype: int64"
            ]
          },
          "metadata": {},
          "execution_count": 22
        }
      ]
    },
    {
      "cell_type": "code",
      "metadata": {
        "colab": {
          "base_uri": "https://localhost:8080/"
        },
        "id": "tw3UZ0Mw0VO6",
        "outputId": "13fdc818-e661-4314-8233-8c66684527ff"
      },
      "source": [
        "# Mbart's translation was chosen as the better translation 1,079 times\n",
        "# 70% of the time, this replacement resulted in an increase in sentence similarity as measured by cosine similarity score\n",
        "mbart_chosen.cos_change.value_counts()"
      ],
      "execution_count": 24,
      "outputs": [
        {
          "output_type": "execute_result",
          "data": {
            "text/plain": [
              "score increased    754\n",
              "score decreased    325\n",
              "Name: cos_change, dtype: int64"
            ]
          },
          "metadata": {},
          "execution_count": 24
        }
      ]
    },
    {
      "cell_type": "code",
      "metadata": {
        "colab": {
          "base_uri": "https://localhost:8080/"
        },
        "id": "-RB5cWvg1PDe",
        "outputId": "bcc665cc-a7d8-4ca7-ad5b-4340e82ec073"
      },
      "source": [
        "final.columns"
      ],
      "execution_count": 25,
      "outputs": [
        {
          "output_type": "execute_result",
          "data": {
            "text/plain": [
              "Index(['language_task', 'target_sentence', 'bart_translation',\n",
              "       'bart_paraphrase_score', 'bart_cosine_score', 'indictrans_translation',\n",
              "       'indictrans_paraphrase_score', 'indictrans_cosine_score', 'best_trans',\n",
              "       'best_trans_source', 'cos_change'],\n",
              "      dtype='object')"
            ]
          },
          "metadata": {},
          "execution_count": 25
        }
      ]
    },
    {
      "cell_type": "code",
      "metadata": {
        "id": "dqiNhyzl0_Ro"
      },
      "source": [
        "# Look at langage specific changes in cosine sentence similarity, then by language + translator used\n",
        "# Initial Sacre Bleu scores were highest for Hindi from IndicTrans, MBart for Tamil, and IndicTrans for Malayalam\n",
        "hi_cos_change = final[final.language_task == 'translate English to Hindi']\n",
        "ta_cos_change = final[final.language_task == 'translate English to Tamil']\n",
        "ml_cos_change = final[final.language_task == 'translate English to Malayalam']"
      ],
      "execution_count": 26,
      "outputs": []
    },
    {
      "cell_type": "code",
      "metadata": {
        "colab": {
          "base_uri": "https://localhost:8080/"
        },
        "id": "dZPkkwCW174P",
        "outputId": "c3bc004d-de53-4a37-e36c-efdaf1416000"
      },
      "source": [
        "# 793 of 1,000 times, the cosine similarity score for Hindi increased\n",
        "# an additional 24 times there was no change\n",
        "hi_cos_change.cos_change.value_counts()"
      ],
      "execution_count": 27,
      "outputs": [
        {
          "output_type": "execute_result",
          "data": {
            "text/plain": [
              "score increased    793\n",
              "score decreased    183\n",
              "no change           24\n",
              "Name: cos_change, dtype: int64"
            ]
          },
          "metadata": {},
          "execution_count": 27
        }
      ]
    },
    {
      "cell_type": "code",
      "metadata": {
        "colab": {
          "base_uri": "https://localhost:8080/"
        },
        "id": "YojMCj6e2fZz",
        "outputId": "8933b4b9-4727-47ca-875d-d9a1b80dcb9b"
      },
      "source": [
        "print(hi_cos_change[hi_cos_change.best_trans_source == 'indictrans'].cos_change.value_counts(), \"\\n\")\n",
        "print(hi_cos_change[hi_cos_change.best_trans_source == 'mbart'].cos_change.value_counts())"
      ],
      "execution_count": 29,
      "outputs": [
        {
          "output_type": "stream",
          "name": "stdout",
          "text": [
            "score increased    555\n",
            "score decreased     81\n",
            "no change           24\n",
            "Name: cos_change, dtype: int64 \n",
            "\n",
            "score increased    238\n",
            "score decreased    102\n",
            "Name: cos_change, dtype: int64\n"
          ]
        }
      ]
    },
    {
      "cell_type": "code",
      "metadata": {
        "colab": {
          "base_uri": "https://localhost:8080/"
        },
        "id": "iMNRkcWZ22Mb",
        "outputId": "61f1693b-0b4c-4d5e-ac5f-7c08bd349091"
      },
      "source": [
        "print(ta_cos_change.cos_change.value_counts(), \"\\n\")\n",
        "print(ta_cos_change[ta_cos_change.best_trans_source == 'indictrans'].cos_change.value_counts(), \"\\n\")\n",
        "print(ta_cos_change[ta_cos_change.best_trans_source == 'mbart'].cos_change.value_counts())"
      ],
      "execution_count": 32,
      "outputs": [
        {
          "output_type": "stream",
          "name": "stdout",
          "text": [
            "score increased    723\n",
            "score decreased    268\n",
            "no change            9\n",
            "Name: cos_change, dtype: int64 \n",
            "\n",
            "score increased    408\n",
            "score decreased    124\n",
            "no change            9\n",
            "Name: cos_change, dtype: int64 \n",
            "\n",
            "score increased    315\n",
            "score decreased    144\n",
            "Name: cos_change, dtype: int64\n"
          ]
        }
      ]
    },
    {
      "cell_type": "code",
      "metadata": {
        "colab": {
          "base_uri": "https://localhost:8080/"
        },
        "id": "eVcyTHSQ3Hql",
        "outputId": "4e0df8a5-c8e3-4915-c088-47f06de83c61"
      },
      "source": [
        "print(ml_cos_change.cos_change.value_counts(), \"\\n\")\n",
        "print(ml_cos_change[ml_cos_change.best_trans_source == 'indictrans'].cos_change.value_counts(), \"\\n\")\n",
        "print(ml_cos_change[ml_cos_change.best_trans_source == 'mbart'].cos_change.value_counts())"
      ],
      "execution_count": 33,
      "outputs": [
        {
          "output_type": "stream",
          "name": "stdout",
          "text": [
            "score increased    727\n",
            "score decreased    273\n",
            "Name: cos_change, dtype: int64 \n",
            "\n",
            "score increased    526\n",
            "score decreased    194\n",
            "Name: cos_change, dtype: int64 \n",
            "\n",
            "score increased    201\n",
            "score decreased     79\n",
            "Name: cos_change, dtype: int64\n"
          ]
        }
      ]
    }
  ]
}