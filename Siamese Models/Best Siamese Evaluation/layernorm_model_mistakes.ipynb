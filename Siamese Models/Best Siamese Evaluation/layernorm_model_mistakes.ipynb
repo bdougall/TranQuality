{
  "nbformat": 4,
  "nbformat_minor": 0,
  "metadata": {
    "colab": {
      "name": "layernorm_model_mistakes.ipynb",
      "provenance": [],
      "collapsed_sections": [],
      "machine_shape": "hm"
    },
    "kernelspec": {
      "name": "python3",
      "display_name": "Python 3"
    },
    "language_info": {
      "name": "python"
    },
    "accelerator": "GPU",
    "widgets": {
      "application/vnd.jupyter.widget-state+json": {
        "74177e81e9f54fd9addf0b152c77f47b": {
          "model_module": "@jupyter-widgets/controls",
          "model_name": "HBoxModel",
          "model_module_version": "1.5.0",
          "state": {
            "_view_name": "HBoxView",
            "_dom_classes": [],
            "_model_name": "HBoxModel",
            "_view_module": "@jupyter-widgets/controls",
            "_model_module_version": "1.5.0",
            "_view_count": null,
            "_view_module_version": "1.5.0",
            "box_style": "",
            "layout": "IPY_MODEL_b8514ea064bc405883ddffaa02686d0b",
            "_model_module": "@jupyter-widgets/controls",
            "children": [
              "IPY_MODEL_d12d926efc3245a3b60277fd7727025c",
              "IPY_MODEL_4f8fd2d99c294fcab8a9d510141af593",
              "IPY_MODEL_7342fad23e43431f945cebb6ae4d74f2"
            ]
          }
        },
        "b8514ea064bc405883ddffaa02686d0b": {
          "model_module": "@jupyter-widgets/base",
          "model_name": "LayoutModel",
          "model_module_version": "1.2.0",
          "state": {
            "_view_name": "LayoutView",
            "grid_template_rows": null,
            "right": null,
            "justify_content": null,
            "_view_module": "@jupyter-widgets/base",
            "overflow": null,
            "_model_module_version": "1.2.0",
            "_view_count": null,
            "flex_flow": null,
            "width": null,
            "min_width": null,
            "border": null,
            "align_items": null,
            "bottom": null,
            "_model_module": "@jupyter-widgets/base",
            "top": null,
            "grid_column": null,
            "overflow_y": null,
            "overflow_x": null,
            "grid_auto_flow": null,
            "grid_area": null,
            "grid_template_columns": null,
            "flex": null,
            "_model_name": "LayoutModel",
            "justify_items": null,
            "grid_row": null,
            "max_height": null,
            "align_content": null,
            "visibility": null,
            "align_self": null,
            "height": null,
            "min_height": null,
            "padding": null,
            "grid_auto_rows": null,
            "grid_gap": null,
            "max_width": null,
            "order": null,
            "_view_module_version": "1.2.0",
            "grid_template_areas": null,
            "object_position": null,
            "object_fit": null,
            "grid_auto_columns": null,
            "margin": null,
            "display": null,
            "left": null
          }
        },
        "d12d926efc3245a3b60277fd7727025c": {
          "model_module": "@jupyter-widgets/controls",
          "model_name": "HTMLModel",
          "model_module_version": "1.5.0",
          "state": {
            "_view_name": "HTMLView",
            "style": "IPY_MODEL_ad210555693e4ea69d6a8d839ca1c2ad",
            "_dom_classes": [],
            "description": "",
            "_model_name": "HTMLModel",
            "placeholder": "​",
            "_view_module": "@jupyter-widgets/controls",
            "_model_module_version": "1.5.0",
            "value": "Downloading: 100%",
            "_view_count": null,
            "_view_module_version": "1.5.0",
            "description_tooltip": null,
            "_model_module": "@jupyter-widgets/controls",
            "layout": "IPY_MODEL_59e05be5d045459bb0dedbace7921526"
          }
        },
        "4f8fd2d99c294fcab8a9d510141af593": {
          "model_module": "@jupyter-widgets/controls",
          "model_name": "FloatProgressModel",
          "model_module_version": "1.5.0",
          "state": {
            "_view_name": "ProgressView",
            "style": "IPY_MODEL_da4c789cc7bc4b16afad62ac419280a8",
            "_dom_classes": [],
            "description": "",
            "_model_name": "FloatProgressModel",
            "bar_style": "success",
            "max": 507,
            "_view_module": "@jupyter-widgets/controls",
            "_model_module_version": "1.5.0",
            "value": 507,
            "_view_count": null,
            "_view_module_version": "1.5.0",
            "orientation": "horizontal",
            "min": 0,
            "description_tooltip": null,
            "_model_module": "@jupyter-widgets/controls",
            "layout": "IPY_MODEL_40d499f02f3643d4825e676af3b08dd3"
          }
        },
        "7342fad23e43431f945cebb6ae4d74f2": {
          "model_module": "@jupyter-widgets/controls",
          "model_name": "HTMLModel",
          "model_module_version": "1.5.0",
          "state": {
            "_view_name": "HTMLView",
            "style": "IPY_MODEL_80f9cb053acd4f98a420d095aa90dc91",
            "_dom_classes": [],
            "description": "",
            "_model_name": "HTMLModel",
            "placeholder": "​",
            "_view_module": "@jupyter-widgets/controls",
            "_model_module_version": "1.5.0",
            "value": " 507/507 [00:00&lt;00:00, 21.1kB/s]",
            "_view_count": null,
            "_view_module_version": "1.5.0",
            "description_tooltip": null,
            "_model_module": "@jupyter-widgets/controls",
            "layout": "IPY_MODEL_285c95655ac342d7a4520bc9b7ce4364"
          }
        },
        "ad210555693e4ea69d6a8d839ca1c2ad": {
          "model_module": "@jupyter-widgets/controls",
          "model_name": "DescriptionStyleModel",
          "model_module_version": "1.5.0",
          "state": {
            "_view_name": "StyleView",
            "_model_name": "DescriptionStyleModel",
            "description_width": "",
            "_view_module": "@jupyter-widgets/base",
            "_model_module_version": "1.5.0",
            "_view_count": null,
            "_view_module_version": "1.2.0",
            "_model_module": "@jupyter-widgets/controls"
          }
        },
        "59e05be5d045459bb0dedbace7921526": {
          "model_module": "@jupyter-widgets/base",
          "model_name": "LayoutModel",
          "model_module_version": "1.2.0",
          "state": {
            "_view_name": "LayoutView",
            "grid_template_rows": null,
            "right": null,
            "justify_content": null,
            "_view_module": "@jupyter-widgets/base",
            "overflow": null,
            "_model_module_version": "1.2.0",
            "_view_count": null,
            "flex_flow": null,
            "width": null,
            "min_width": null,
            "border": null,
            "align_items": null,
            "bottom": null,
            "_model_module": "@jupyter-widgets/base",
            "top": null,
            "grid_column": null,
            "overflow_y": null,
            "overflow_x": null,
            "grid_auto_flow": null,
            "grid_area": null,
            "grid_template_columns": null,
            "flex": null,
            "_model_name": "LayoutModel",
            "justify_items": null,
            "grid_row": null,
            "max_height": null,
            "align_content": null,
            "visibility": null,
            "align_self": null,
            "height": null,
            "min_height": null,
            "padding": null,
            "grid_auto_rows": null,
            "grid_gap": null,
            "max_width": null,
            "order": null,
            "_view_module_version": "1.2.0",
            "grid_template_areas": null,
            "object_position": null,
            "object_fit": null,
            "grid_auto_columns": null,
            "margin": null,
            "display": null,
            "left": null
          }
        },
        "da4c789cc7bc4b16afad62ac419280a8": {
          "model_module": "@jupyter-widgets/controls",
          "model_name": "ProgressStyleModel",
          "model_module_version": "1.5.0",
          "state": {
            "_view_name": "StyleView",
            "_model_name": "ProgressStyleModel",
            "description_width": "",
            "_view_module": "@jupyter-widgets/base",
            "_model_module_version": "1.5.0",
            "_view_count": null,
            "_view_module_version": "1.2.0",
            "bar_color": null,
            "_model_module": "@jupyter-widgets/controls"
          }
        },
        "40d499f02f3643d4825e676af3b08dd3": {
          "model_module": "@jupyter-widgets/base",
          "model_name": "LayoutModel",
          "model_module_version": "1.2.0",
          "state": {
            "_view_name": "LayoutView",
            "grid_template_rows": null,
            "right": null,
            "justify_content": null,
            "_view_module": "@jupyter-widgets/base",
            "overflow": null,
            "_model_module_version": "1.2.0",
            "_view_count": null,
            "flex_flow": null,
            "width": null,
            "min_width": null,
            "border": null,
            "align_items": null,
            "bottom": null,
            "_model_module": "@jupyter-widgets/base",
            "top": null,
            "grid_column": null,
            "overflow_y": null,
            "overflow_x": null,
            "grid_auto_flow": null,
            "grid_area": null,
            "grid_template_columns": null,
            "flex": null,
            "_model_name": "LayoutModel",
            "justify_items": null,
            "grid_row": null,
            "max_height": null,
            "align_content": null,
            "visibility": null,
            "align_self": null,
            "height": null,
            "min_height": null,
            "padding": null,
            "grid_auto_rows": null,
            "grid_gap": null,
            "max_width": null,
            "order": null,
            "_view_module_version": "1.2.0",
            "grid_template_areas": null,
            "object_position": null,
            "object_fit": null,
            "grid_auto_columns": null,
            "margin": null,
            "display": null,
            "left": null
          }
        },
        "80f9cb053acd4f98a420d095aa90dc91": {
          "model_module": "@jupyter-widgets/controls",
          "model_name": "DescriptionStyleModel",
          "model_module_version": "1.5.0",
          "state": {
            "_view_name": "StyleView",
            "_model_name": "DescriptionStyleModel",
            "description_width": "",
            "_view_module": "@jupyter-widgets/base",
            "_model_module_version": "1.5.0",
            "_view_count": null,
            "_view_module_version": "1.2.0",
            "_model_module": "@jupyter-widgets/controls"
          }
        },
        "285c95655ac342d7a4520bc9b7ce4364": {
          "model_module": "@jupyter-widgets/base",
          "model_name": "LayoutModel",
          "model_module_version": "1.2.0",
          "state": {
            "_view_name": "LayoutView",
            "grid_template_rows": null,
            "right": null,
            "justify_content": null,
            "_view_module": "@jupyter-widgets/base",
            "overflow": null,
            "_model_module_version": "1.2.0",
            "_view_count": null,
            "flex_flow": null,
            "width": null,
            "min_width": null,
            "border": null,
            "align_items": null,
            "bottom": null,
            "_model_module": "@jupyter-widgets/base",
            "top": null,
            "grid_column": null,
            "overflow_y": null,
            "overflow_x": null,
            "grid_auto_flow": null,
            "grid_area": null,
            "grid_template_columns": null,
            "flex": null,
            "_model_name": "LayoutModel",
            "justify_items": null,
            "grid_row": null,
            "max_height": null,
            "align_content": null,
            "visibility": null,
            "align_self": null,
            "height": null,
            "min_height": null,
            "padding": null,
            "grid_auto_rows": null,
            "grid_gap": null,
            "max_width": null,
            "order": null,
            "_view_module_version": "1.2.0",
            "grid_template_areas": null,
            "object_position": null,
            "object_fit": null,
            "grid_auto_columns": null,
            "margin": null,
            "display": null,
            "left": null
          }
        },
        "59c113af27d142b5a688f754aac298d5": {
          "model_module": "@jupyter-widgets/controls",
          "model_name": "HBoxModel",
          "model_module_version": "1.5.0",
          "state": {
            "_view_name": "HBoxView",
            "_dom_classes": [],
            "_model_name": "HBoxModel",
            "_view_module": "@jupyter-widgets/controls",
            "_model_module_version": "1.5.0",
            "_view_count": null,
            "_view_module_version": "1.5.0",
            "box_style": "",
            "layout": "IPY_MODEL_81b7152472f641b8a798208b8719777f",
            "_model_module": "@jupyter-widgets/controls",
            "children": [
              "IPY_MODEL_1ba3bf00ae6f4340b2d6bc6cbbc14419",
              "IPY_MODEL_252e26731d9a4870aff330a2b5347c83",
              "IPY_MODEL_739417b968d549c09dda5ea3e336b242"
            ]
          }
        },
        "81b7152472f641b8a798208b8719777f": {
          "model_module": "@jupyter-widgets/base",
          "model_name": "LayoutModel",
          "model_module_version": "1.2.0",
          "state": {
            "_view_name": "LayoutView",
            "grid_template_rows": null,
            "right": null,
            "justify_content": null,
            "_view_module": "@jupyter-widgets/base",
            "overflow": null,
            "_model_module_version": "1.2.0",
            "_view_count": null,
            "flex_flow": null,
            "width": null,
            "min_width": null,
            "border": null,
            "align_items": null,
            "bottom": null,
            "_model_module": "@jupyter-widgets/base",
            "top": null,
            "grid_column": null,
            "overflow_y": null,
            "overflow_x": null,
            "grid_auto_flow": null,
            "grid_area": null,
            "grid_template_columns": null,
            "flex": null,
            "_model_name": "LayoutModel",
            "justify_items": null,
            "grid_row": null,
            "max_height": null,
            "align_content": null,
            "visibility": null,
            "align_self": null,
            "height": null,
            "min_height": null,
            "padding": null,
            "grid_auto_rows": null,
            "grid_gap": null,
            "max_width": null,
            "order": null,
            "_view_module_version": "1.2.0",
            "grid_template_areas": null,
            "object_position": null,
            "object_fit": null,
            "grid_auto_columns": null,
            "margin": null,
            "display": null,
            "left": null
          }
        },
        "1ba3bf00ae6f4340b2d6bc6cbbc14419": {
          "model_module": "@jupyter-widgets/controls",
          "model_name": "HTMLModel",
          "model_module_version": "1.5.0",
          "state": {
            "_view_name": "HTMLView",
            "style": "IPY_MODEL_aff50f4a4d954f5ab6fd14baee246b83",
            "_dom_classes": [],
            "description": "",
            "_model_name": "HTMLModel",
            "placeholder": "​",
            "_view_module": "@jupyter-widgets/controls",
            "_model_module_version": "1.5.0",
            "value": "Downloading: 100%",
            "_view_count": null,
            "_view_module_version": "1.5.0",
            "description_tooltip": null,
            "_model_module": "@jupyter-widgets/controls",
            "layout": "IPY_MODEL_b7cdcf2f31c04fb09b7945feea41288a"
          }
        },
        "252e26731d9a4870aff330a2b5347c83": {
          "model_module": "@jupyter-widgets/controls",
          "model_name": "FloatProgressModel",
          "model_module_version": "1.5.0",
          "state": {
            "_view_name": "ProgressView",
            "style": "IPY_MODEL_43d1c038af734566a4cfb3e7a6e3d245",
            "_dom_classes": [],
            "description": "",
            "_model_name": "FloatProgressModel",
            "bar_style": "success",
            "max": 5646064,
            "_view_module": "@jupyter-widgets/controls",
            "_model_module_version": "1.5.0",
            "value": 5646064,
            "_view_count": null,
            "_view_module_version": "1.5.0",
            "orientation": "horizontal",
            "min": 0,
            "description_tooltip": null,
            "_model_module": "@jupyter-widgets/controls",
            "layout": "IPY_MODEL_bd2c88e0b0c84ddb98a9f75c886c1227"
          }
        },
        "739417b968d549c09dda5ea3e336b242": {
          "model_module": "@jupyter-widgets/controls",
          "model_name": "HTMLModel",
          "model_module_version": "1.5.0",
          "state": {
            "_view_name": "HTMLView",
            "style": "IPY_MODEL_f1b8193db8c64b0f885999873687d19e",
            "_dom_classes": [],
            "description": "",
            "_model_name": "HTMLModel",
            "placeholder": "​",
            "_view_module": "@jupyter-widgets/controls",
            "_model_module_version": "1.5.0",
            "value": " 5.38M/5.38M [00:00&lt;00:00, 10.5MB/s]",
            "_view_count": null,
            "_view_module_version": "1.5.0",
            "description_tooltip": null,
            "_model_module": "@jupyter-widgets/controls",
            "layout": "IPY_MODEL_b4ec9da5feba43f69287eb5ce00f1dbe"
          }
        },
        "aff50f4a4d954f5ab6fd14baee246b83": {
          "model_module": "@jupyter-widgets/controls",
          "model_name": "DescriptionStyleModel",
          "model_module_version": "1.5.0",
          "state": {
            "_view_name": "StyleView",
            "_model_name": "DescriptionStyleModel",
            "description_width": "",
            "_view_module": "@jupyter-widgets/base",
            "_model_module_version": "1.5.0",
            "_view_count": null,
            "_view_module_version": "1.2.0",
            "_model_module": "@jupyter-widgets/controls"
          }
        },
        "b7cdcf2f31c04fb09b7945feea41288a": {
          "model_module": "@jupyter-widgets/base",
          "model_name": "LayoutModel",
          "model_module_version": "1.2.0",
          "state": {
            "_view_name": "LayoutView",
            "grid_template_rows": null,
            "right": null,
            "justify_content": null,
            "_view_module": "@jupyter-widgets/base",
            "overflow": null,
            "_model_module_version": "1.2.0",
            "_view_count": null,
            "flex_flow": null,
            "width": null,
            "min_width": null,
            "border": null,
            "align_items": null,
            "bottom": null,
            "_model_module": "@jupyter-widgets/base",
            "top": null,
            "grid_column": null,
            "overflow_y": null,
            "overflow_x": null,
            "grid_auto_flow": null,
            "grid_area": null,
            "grid_template_columns": null,
            "flex": null,
            "_model_name": "LayoutModel",
            "justify_items": null,
            "grid_row": null,
            "max_height": null,
            "align_content": null,
            "visibility": null,
            "align_self": null,
            "height": null,
            "min_height": null,
            "padding": null,
            "grid_auto_rows": null,
            "grid_gap": null,
            "max_width": null,
            "order": null,
            "_view_module_version": "1.2.0",
            "grid_template_areas": null,
            "object_position": null,
            "object_fit": null,
            "grid_auto_columns": null,
            "margin": null,
            "display": null,
            "left": null
          }
        },
        "43d1c038af734566a4cfb3e7a6e3d245": {
          "model_module": "@jupyter-widgets/controls",
          "model_name": "ProgressStyleModel",
          "model_module_version": "1.5.0",
          "state": {
            "_view_name": "StyleView",
            "_model_name": "ProgressStyleModel",
            "description_width": "",
            "_view_module": "@jupyter-widgets/base",
            "_model_module_version": "1.5.0",
            "_view_count": null,
            "_view_module_version": "1.2.0",
            "bar_color": null,
            "_model_module": "@jupyter-widgets/controls"
          }
        },
        "bd2c88e0b0c84ddb98a9f75c886c1227": {
          "model_module": "@jupyter-widgets/base",
          "model_name": "LayoutModel",
          "model_module_version": "1.2.0",
          "state": {
            "_view_name": "LayoutView",
            "grid_template_rows": null,
            "right": null,
            "justify_content": null,
            "_view_module": "@jupyter-widgets/base",
            "overflow": null,
            "_model_module_version": "1.2.0",
            "_view_count": null,
            "flex_flow": null,
            "width": null,
            "min_width": null,
            "border": null,
            "align_items": null,
            "bottom": null,
            "_model_module": "@jupyter-widgets/base",
            "top": null,
            "grid_column": null,
            "overflow_y": null,
            "overflow_x": null,
            "grid_auto_flow": null,
            "grid_area": null,
            "grid_template_columns": null,
            "flex": null,
            "_model_name": "LayoutModel",
            "justify_items": null,
            "grid_row": null,
            "max_height": null,
            "align_content": null,
            "visibility": null,
            "align_self": null,
            "height": null,
            "min_height": null,
            "padding": null,
            "grid_auto_rows": null,
            "grid_gap": null,
            "max_width": null,
            "order": null,
            "_view_module_version": "1.2.0",
            "grid_template_areas": null,
            "object_position": null,
            "object_fit": null,
            "grid_auto_columns": null,
            "margin": null,
            "display": null,
            "left": null
          }
        },
        "f1b8193db8c64b0f885999873687d19e": {
          "model_module": "@jupyter-widgets/controls",
          "model_name": "DescriptionStyleModel",
          "model_module_version": "1.5.0",
          "state": {
            "_view_name": "StyleView",
            "_model_name": "DescriptionStyleModel",
            "description_width": "",
            "_view_module": "@jupyter-widgets/base",
            "_model_module_version": "1.5.0",
            "_view_count": null,
            "_view_module_version": "1.2.0",
            "_model_module": "@jupyter-widgets/controls"
          }
        },
        "b4ec9da5feba43f69287eb5ce00f1dbe": {
          "model_module": "@jupyter-widgets/base",
          "model_name": "LayoutModel",
          "model_module_version": "1.2.0",
          "state": {
            "_view_name": "LayoutView",
            "grid_template_rows": null,
            "right": null,
            "justify_content": null,
            "_view_module": "@jupyter-widgets/base",
            "overflow": null,
            "_model_module_version": "1.2.0",
            "_view_count": null,
            "flex_flow": null,
            "width": null,
            "min_width": null,
            "border": null,
            "align_items": null,
            "bottom": null,
            "_model_module": "@jupyter-widgets/base",
            "top": null,
            "grid_column": null,
            "overflow_y": null,
            "overflow_x": null,
            "grid_auto_flow": null,
            "grid_area": null,
            "grid_template_columns": null,
            "flex": null,
            "_model_name": "LayoutModel",
            "justify_items": null,
            "grid_row": null,
            "max_height": null,
            "align_content": null,
            "visibility": null,
            "align_self": null,
            "height": null,
            "min_height": null,
            "padding": null,
            "grid_auto_rows": null,
            "grid_gap": null,
            "max_width": null,
            "order": null,
            "_view_module_version": "1.2.0",
            "grid_template_areas": null,
            "object_position": null,
            "object_fit": null,
            "grid_auto_columns": null,
            "margin": null,
            "display": null,
            "left": null
          }
        },
        "502ef141e2644b48b017345cf4beca1f": {
          "model_module": "@jupyter-widgets/controls",
          "model_name": "HBoxModel",
          "model_module_version": "1.5.0",
          "state": {
            "_view_name": "HBoxView",
            "_dom_classes": [],
            "_model_name": "HBoxModel",
            "_view_module": "@jupyter-widgets/controls",
            "_model_module_version": "1.5.0",
            "_view_count": null,
            "_view_module_version": "1.5.0",
            "box_style": "",
            "layout": "IPY_MODEL_a214890c34314fecb6cdc8b04f48c6ce",
            "_model_module": "@jupyter-widgets/controls",
            "children": [
              "IPY_MODEL_295c4b6c614c4d2ab58fdf813cdccdfa",
              "IPY_MODEL_f30dcb9b5d1b41c8bf8c45843d178be3",
              "IPY_MODEL_73e73d84756040d4b8e1ab556f0f8575"
            ]
          }
        },
        "a214890c34314fecb6cdc8b04f48c6ce": {
          "model_module": "@jupyter-widgets/base",
          "model_name": "LayoutModel",
          "model_module_version": "1.2.0",
          "state": {
            "_view_name": "LayoutView",
            "grid_template_rows": null,
            "right": null,
            "justify_content": null,
            "_view_module": "@jupyter-widgets/base",
            "overflow": null,
            "_model_module_version": "1.2.0",
            "_view_count": null,
            "flex_flow": null,
            "width": null,
            "min_width": null,
            "border": null,
            "align_items": null,
            "bottom": null,
            "_model_module": "@jupyter-widgets/base",
            "top": null,
            "grid_column": null,
            "overflow_y": null,
            "overflow_x": null,
            "grid_auto_flow": null,
            "grid_area": null,
            "grid_template_columns": null,
            "flex": null,
            "_model_name": "LayoutModel",
            "justify_items": null,
            "grid_row": null,
            "max_height": null,
            "align_content": null,
            "visibility": null,
            "align_self": null,
            "height": null,
            "min_height": null,
            "padding": null,
            "grid_auto_rows": null,
            "grid_gap": null,
            "max_width": null,
            "order": null,
            "_view_module_version": "1.2.0",
            "grid_template_areas": null,
            "object_position": null,
            "object_fit": null,
            "grid_auto_columns": null,
            "margin": null,
            "display": null,
            "left": null
          }
        },
        "295c4b6c614c4d2ab58fdf813cdccdfa": {
          "model_module": "@jupyter-widgets/controls",
          "model_name": "HTMLModel",
          "model_module_version": "1.5.0",
          "state": {
            "_view_name": "HTMLView",
            "style": "IPY_MODEL_9b4963e2961a4ef78d7b7408e4c975b5",
            "_dom_classes": [],
            "description": "",
            "_model_name": "HTMLModel",
            "placeholder": "​",
            "_view_module": "@jupyter-widgets/controls",
            "_model_module_version": "1.5.0",
            "value": "Downloading: 100%",
            "_view_count": null,
            "_view_module_version": "1.5.0",
            "description_tooltip": null,
            "_model_module": "@jupyter-widgets/controls",
            "layout": "IPY_MODEL_092321390bc5431ba439f7c5a878e44f"
          }
        },
        "f30dcb9b5d1b41c8bf8c45843d178be3": {
          "model_module": "@jupyter-widgets/controls",
          "model_name": "FloatProgressModel",
          "model_module_version": "1.5.0",
          "state": {
            "_view_name": "ProgressView",
            "style": "IPY_MODEL_57192dfe86774490af35cb77f060b611",
            "_dom_classes": [],
            "description": "",
            "_model_name": "FloatProgressModel",
            "bar_style": "success",
            "max": 134982446,
            "_view_module": "@jupyter-widgets/controls",
            "_model_module_version": "1.5.0",
            "value": 134982446,
            "_view_count": null,
            "_view_module_version": "1.5.0",
            "orientation": "horizontal",
            "min": 0,
            "description_tooltip": null,
            "_model_module": "@jupyter-widgets/controls",
            "layout": "IPY_MODEL_0816c3afc5974c92bd5e3ade855b72ff"
          }
        },
        "73e73d84756040d4b8e1ab556f0f8575": {
          "model_module": "@jupyter-widgets/controls",
          "model_name": "HTMLModel",
          "model_module_version": "1.5.0",
          "state": {
            "_view_name": "HTMLView",
            "style": "IPY_MODEL_b03986ea319946a4b8d59bcc21b0ab36",
            "_dom_classes": [],
            "description": "",
            "_model_name": "HTMLModel",
            "placeholder": "​",
            "_view_module": "@jupyter-widgets/controls",
            "_model_module_version": "1.5.0",
            "value": " 129M/129M [00:02&lt;00:00, 61.6MB/s]",
            "_view_count": null,
            "_view_module_version": "1.5.0",
            "description_tooltip": null,
            "_model_module": "@jupyter-widgets/controls",
            "layout": "IPY_MODEL_90e6dfdfc4ed4a1b8f5ca9e5d0a302d2"
          }
        },
        "9b4963e2961a4ef78d7b7408e4c975b5": {
          "model_module": "@jupyter-widgets/controls",
          "model_name": "DescriptionStyleModel",
          "model_module_version": "1.5.0",
          "state": {
            "_view_name": "StyleView",
            "_model_name": "DescriptionStyleModel",
            "description_width": "",
            "_view_module": "@jupyter-widgets/base",
            "_model_module_version": "1.5.0",
            "_view_count": null,
            "_view_module_version": "1.2.0",
            "_model_module": "@jupyter-widgets/controls"
          }
        },
        "092321390bc5431ba439f7c5a878e44f": {
          "model_module": "@jupyter-widgets/base",
          "model_name": "LayoutModel",
          "model_module_version": "1.2.0",
          "state": {
            "_view_name": "LayoutView",
            "grid_template_rows": null,
            "right": null,
            "justify_content": null,
            "_view_module": "@jupyter-widgets/base",
            "overflow": null,
            "_model_module_version": "1.2.0",
            "_view_count": null,
            "flex_flow": null,
            "width": null,
            "min_width": null,
            "border": null,
            "align_items": null,
            "bottom": null,
            "_model_module": "@jupyter-widgets/base",
            "top": null,
            "grid_column": null,
            "overflow_y": null,
            "overflow_x": null,
            "grid_auto_flow": null,
            "grid_area": null,
            "grid_template_columns": null,
            "flex": null,
            "_model_name": "LayoutModel",
            "justify_items": null,
            "grid_row": null,
            "max_height": null,
            "align_content": null,
            "visibility": null,
            "align_self": null,
            "height": null,
            "min_height": null,
            "padding": null,
            "grid_auto_rows": null,
            "grid_gap": null,
            "max_width": null,
            "order": null,
            "_view_module_version": "1.2.0",
            "grid_template_areas": null,
            "object_position": null,
            "object_fit": null,
            "grid_auto_columns": null,
            "margin": null,
            "display": null,
            "left": null
          }
        },
        "57192dfe86774490af35cb77f060b611": {
          "model_module": "@jupyter-widgets/controls",
          "model_name": "ProgressStyleModel",
          "model_module_version": "1.5.0",
          "state": {
            "_view_name": "StyleView",
            "_model_name": "ProgressStyleModel",
            "description_width": "",
            "_view_module": "@jupyter-widgets/base",
            "_model_module_version": "1.5.0",
            "_view_count": null,
            "_view_module_version": "1.2.0",
            "bar_color": null,
            "_model_module": "@jupyter-widgets/controls"
          }
        },
        "0816c3afc5974c92bd5e3ade855b72ff": {
          "model_module": "@jupyter-widgets/base",
          "model_name": "LayoutModel",
          "model_module_version": "1.2.0",
          "state": {
            "_view_name": "LayoutView",
            "grid_template_rows": null,
            "right": null,
            "justify_content": null,
            "_view_module": "@jupyter-widgets/base",
            "overflow": null,
            "_model_module_version": "1.2.0",
            "_view_count": null,
            "flex_flow": null,
            "width": null,
            "min_width": null,
            "border": null,
            "align_items": null,
            "bottom": null,
            "_model_module": "@jupyter-widgets/base",
            "top": null,
            "grid_column": null,
            "overflow_y": null,
            "overflow_x": null,
            "grid_auto_flow": null,
            "grid_area": null,
            "grid_template_columns": null,
            "flex": null,
            "_model_name": "LayoutModel",
            "justify_items": null,
            "grid_row": null,
            "max_height": null,
            "align_content": null,
            "visibility": null,
            "align_self": null,
            "height": null,
            "min_height": null,
            "padding": null,
            "grid_auto_rows": null,
            "grid_gap": null,
            "max_width": null,
            "order": null,
            "_view_module_version": "1.2.0",
            "grid_template_areas": null,
            "object_position": null,
            "object_fit": null,
            "grid_auto_columns": null,
            "margin": null,
            "display": null,
            "left": null
          }
        },
        "b03986ea319946a4b8d59bcc21b0ab36": {
          "model_module": "@jupyter-widgets/controls",
          "model_name": "DescriptionStyleModel",
          "model_module_version": "1.5.0",
          "state": {
            "_view_name": "StyleView",
            "_model_name": "DescriptionStyleModel",
            "description_width": "",
            "_view_module": "@jupyter-widgets/base",
            "_model_module_version": "1.5.0",
            "_view_count": null,
            "_view_module_version": "1.2.0",
            "_model_module": "@jupyter-widgets/controls"
          }
        },
        "90e6dfdfc4ed4a1b8f5ca9e5d0a302d2": {
          "model_module": "@jupyter-widgets/base",
          "model_name": "LayoutModel",
          "model_module_version": "1.2.0",
          "state": {
            "_view_name": "LayoutView",
            "grid_template_rows": null,
            "right": null,
            "justify_content": null,
            "_view_module": "@jupyter-widgets/base",
            "overflow": null,
            "_model_module_version": "1.2.0",
            "_view_count": null,
            "flex_flow": null,
            "width": null,
            "min_width": null,
            "border": null,
            "align_items": null,
            "bottom": null,
            "_model_module": "@jupyter-widgets/base",
            "top": null,
            "grid_column": null,
            "overflow_y": null,
            "overflow_x": null,
            "grid_auto_flow": null,
            "grid_area": null,
            "grid_template_columns": null,
            "flex": null,
            "_model_name": "LayoutModel",
            "justify_items": null,
            "grid_row": null,
            "max_height": null,
            "align_content": null,
            "visibility": null,
            "align_self": null,
            "height": null,
            "min_height": null,
            "padding": null,
            "grid_auto_rows": null,
            "grid_gap": null,
            "max_width": null,
            "order": null,
            "_view_module_version": "1.2.0",
            "grid_template_areas": null,
            "object_position": null,
            "object_fit": null,
            "grid_auto_columns": null,
            "margin": null,
            "display": null,
            "left": null
          }
        }
      }
    }
  },
  "cells": [
    {
      "cell_type": "code",
      "metadata": {
        "id": "BD-v6n1nJvO4",
        "colab": {
          "base_uri": "https://localhost:8080/"
        },
        "outputId": "ff6b1b1e-da68-4c20-eccd-22ea5f31fca1"
      },
      "source": [
        "!pip install transformers -q\n",
        "!pip install sentencepiece -q\n",
        "!pip install editdistance -q"
      ],
      "execution_count": 2,
      "outputs": [
        {
          "output_type": "stream",
          "name": "stdout",
          "text": [
            "\u001b[K     |████████████████████████████████| 3.1 MB 14.8 MB/s \n",
            "\u001b[K     |████████████████████████████████| 61 kB 585 kB/s \n",
            "\u001b[K     |████████████████████████████████| 596 kB 70.4 MB/s \n",
            "\u001b[K     |████████████████████████████████| 3.3 MB 49.1 MB/s \n",
            "\u001b[K     |████████████████████████████████| 895 kB 54.9 MB/s \n",
            "\u001b[K     |████████████████████████████████| 1.2 MB 14.5 MB/s \n",
            "\u001b[?25h"
          ]
        }
      ]
    },
    {
      "cell_type": "code",
      "metadata": {
        "colab": {
          "base_uri": "https://localhost:8080/"
        },
        "id": "5iLUODzYUmlX",
        "outputId": "35dd399c-6e90-4f2d-d698-6b02a17d0670"
      },
      "source": [
        "# Mount Google drive to upload datasets\n",
        "from google.colab import drive\n",
        "drive.mount('/content/drive')"
      ],
      "execution_count": 3,
      "outputs": [
        {
          "output_type": "stream",
          "name": "stdout",
          "text": [
            "Mounted at /content/drive\n"
          ]
        }
      ]
    },
    {
      "cell_type": "code",
      "metadata": {
        "id": "xn8OyIVSWD3H"
      },
      "source": [
        "# The path to the data on my drive\n",
        "D = '/content/drive/My Drive/W266_Project_Data/pmi_data'"
      ],
      "execution_count": 4,
      "outputs": []
    },
    {
      "cell_type": "code",
      "metadata": {
        "id": "T52H4_SuiXJj"
      },
      "source": [
        "import pandas as pd\n",
        "import numpy as np\n",
        "from transformers import AutoTokenizer, AutoModel\n",
        "import torch\n",
        "import torch.nn.functional as F\n",
        "import matplotlib.pyplot as plt\n",
        "import seaborn as sns\n",
        "import editdistance"
      ],
      "execution_count": 5,
      "outputs": []
    },
    {
      "cell_type": "code",
      "metadata": {
        "id": "jFsHhBXbaimH"
      },
      "source": [
        "# Set up the device to run on GPU if available\n",
        "device = torch.device('cuda') if torch.cuda.is_available() else torch.device('cpu')"
      ],
      "execution_count": 6,
      "outputs": []
    },
    {
      "cell_type": "code",
      "metadata": {
        "colab": {
          "base_uri": "https://localhost:8080/",
          "height": 185,
          "referenced_widgets": [
            "74177e81e9f54fd9addf0b152c77f47b",
            "b8514ea064bc405883ddffaa02686d0b",
            "d12d926efc3245a3b60277fd7727025c",
            "4f8fd2d99c294fcab8a9d510141af593",
            "7342fad23e43431f945cebb6ae4d74f2",
            "ad210555693e4ea69d6a8d839ca1c2ad",
            "59e05be5d045459bb0dedbace7921526",
            "da4c789cc7bc4b16afad62ac419280a8",
            "40d499f02f3643d4825e676af3b08dd3",
            "80f9cb053acd4f98a420d095aa90dc91",
            "285c95655ac342d7a4520bc9b7ce4364",
            "59c113af27d142b5a688f754aac298d5",
            "81b7152472f641b8a798208b8719777f",
            "1ba3bf00ae6f4340b2d6bc6cbbc14419",
            "252e26731d9a4870aff330a2b5347c83",
            "739417b968d549c09dda5ea3e336b242",
            "aff50f4a4d954f5ab6fd14baee246b83",
            "b7cdcf2f31c04fb09b7945feea41288a",
            "43d1c038af734566a4cfb3e7a6e3d245",
            "bd2c88e0b0c84ddb98a9f75c886c1227",
            "f1b8193db8c64b0f885999873687d19e",
            "b4ec9da5feba43f69287eb5ce00f1dbe",
            "502ef141e2644b48b017345cf4beca1f",
            "a214890c34314fecb6cdc8b04f48c6ce",
            "295c4b6c614c4d2ab58fdf813cdccdfa",
            "f30dcb9b5d1b41c8bf8c45843d178be3",
            "73e73d84756040d4b8e1ab556f0f8575",
            "9b4963e2961a4ef78d7b7408e4c975b5",
            "092321390bc5431ba439f7c5a878e44f",
            "57192dfe86774490af35cb77f060b611",
            "0816c3afc5974c92bd5e3ade855b72ff",
            "b03986ea319946a4b8d59bcc21b0ab36",
            "90e6dfdfc4ed4a1b8f5ca9e5d0a302d2"
          ]
        },
        "id": "LbdJW8mQaimJ",
        "outputId": "6a26beac-d52a-44a2-9dcd-18252e58f6b3"
      },
      "source": [
        "# Create an instance of the tokenizer and model using Indic Bert\n",
        "tokenizer = AutoTokenizer.from_pretrained('ai4bharat/indic-bert', keep_accents=True)\n",
        "model = AutoModel.from_pretrained('ai4bharat/indic-bert')"
      ],
      "execution_count": 7,
      "outputs": [
        {
          "output_type": "display_data",
          "data": {
            "application/vnd.jupyter.widget-view+json": {
              "model_id": "74177e81e9f54fd9addf0b152c77f47b",
              "version_minor": 0,
              "version_major": 2
            },
            "text/plain": [
              "Downloading:   0%|          | 0.00/507 [00:00<?, ?B/s]"
            ]
          },
          "metadata": {}
        },
        {
          "output_type": "display_data",
          "data": {
            "application/vnd.jupyter.widget-view+json": {
              "model_id": "59c113af27d142b5a688f754aac298d5",
              "version_minor": 0,
              "version_major": 2
            },
            "text/plain": [
              "Downloading:   0%|          | 0.00/5.38M [00:00<?, ?B/s]"
            ]
          },
          "metadata": {}
        },
        {
          "output_type": "display_data",
          "data": {
            "application/vnd.jupyter.widget-view+json": {
              "model_id": "502ef141e2644b48b017345cf4beca1f",
              "version_minor": 0,
              "version_major": 2
            },
            "text/plain": [
              "Downloading:   0%|          | 0.00/129M [00:00<?, ?B/s]"
            ]
          },
          "metadata": {}
        },
        {
          "output_type": "stream",
          "name": "stderr",
          "text": [
            "Some weights of the model checkpoint at ai4bharat/indic-bert were not used when initializing AlbertModel: ['sop_classifier.classifier.weight', 'predictions.LayerNorm.bias', 'predictions.decoder.bias', 'sop_classifier.classifier.bias', 'predictions.bias', 'predictions.dense.bias', 'predictions.LayerNorm.weight', 'predictions.decoder.weight', 'predictions.dense.weight']\n",
            "- This IS expected if you are initializing AlbertModel from the checkpoint of a model trained on another task or with another architecture (e.g. initializing a BertForSequenceClassification model from a BertForPreTraining model).\n",
            "- This IS NOT expected if you are initializing AlbertModel from the checkpoint of a model that you expect to be exactly identical (initializing a BertForSequenceClassification model from a BertForSequenceClassification model).\n"
          ]
        }
      ]
    },
    {
      "cell_type": "code",
      "metadata": {
        "id": "pkEKYkxhh3tn"
      },
      "source": [
        "# Load the test paraphrase file\n",
        "model_test = pd.read_csv(D+\"/predicted_text/siamese_evaluations_of_translations/three_dense_w_punjabi_paraphrase_test_eval_and_errors_layernorm.csv\")\n",
        "model_test.drop(columns={'Unnamed: 0'}, inplace=True)"
      ],
      "execution_count": 8,
      "outputs": []
    },
    {
      "cell_type": "code",
      "metadata": {
        "colab": {
          "base_uri": "https://localhost:8080/",
          "height": 206
        },
        "id": "Myrlu_7Yid3N",
        "outputId": "e990b965-8e95-4eec-e840-1f10b64bfa40"
      },
      "source": [
        "# View the first few records in each file\n",
        "model_test.head()"
      ],
      "execution_count": 9,
      "outputs": [
        {
          "output_type": "execute_result",
          "data": {
            "text/html": [
              "<div>\n",
              "<style scoped>\n",
              "    .dataframe tbody tr th:only-of-type {\n",
              "        vertical-align: middle;\n",
              "    }\n",
              "\n",
              "    .dataframe tbody tr th {\n",
              "        vertical-align: top;\n",
              "    }\n",
              "\n",
              "    .dataframe thead th {\n",
              "        text-align: right;\n",
              "    }\n",
              "</style>\n",
              "<table border=\"1\" class=\"dataframe\">\n",
              "  <thead>\n",
              "    <tr style=\"text-align: right;\">\n",
              "      <th></th>\n",
              "      <th>language</th>\n",
              "      <th>actual_label</th>\n",
              "      <th>predicted_label</th>\n",
              "      <th>sentence_1</th>\n",
              "      <th>sentence_2</th>\n",
              "    </tr>\n",
              "  </thead>\n",
              "  <tbody>\n",
              "    <tr>\n",
              "      <th>0</th>\n",
              "      <td>translate English to Hindi</td>\n",
              "      <td>1</td>\n",
              "      <td>1</td>\n",
              "      <td>1984 में बारामती से उन्होंने पहली बार लोकसभा च...</td>\n",
              "      <td>बारामती से 1984 में  उन्होंने पहली बार लोकसभा ...</td>\n",
              "    </tr>\n",
              "    <tr>\n",
              "      <th>1</th>\n",
              "      <td>translate English to Hindi</td>\n",
              "      <td>0</td>\n",
              "      <td>0</td>\n",
              "      <td>सुप्रीम कोर्ट की फटकार के बाद भी आजम अपने बयान...</td>\n",
              "      <td>सरकार का फर्ज बनता है कि लगातार हो रही एक जैस...</td>\n",
              "    </tr>\n",
              "    <tr>\n",
              "      <th>2</th>\n",
              "      <td>translate English to Hindi</td>\n",
              "      <td>1</td>\n",
              "      <td>1</td>\n",
              "      <td>उत्तराखंड में जारी रहेगा राष्ट्रपति शासन,  हाई...</td>\n",
              "      <td>उत्तराखण्ड में राष्ट्रपति शासन हटाने के नैनीता...</td>\n",
              "    </tr>\n",
              "    <tr>\n",
              "      <th>3</th>\n",
              "      <td>translate English to Hindi</td>\n",
              "      <td>1</td>\n",
              "      <td>0</td>\n",
              "      <td>भारत ने पृथ्वी-दो मिसाइल का किया सफल प्रक्षेपण</td>\n",
              "      <td>भारत ने आज परमाणु क्षमता संपन्न और स्वदेश में ...</td>\n",
              "    </tr>\n",
              "    <tr>\n",
              "      <th>4</th>\n",
              "      <td>translate English to Hindi</td>\n",
              "      <td>1</td>\n",
              "      <td>1</td>\n",
              "      <td>मीडिया रिपोर्ट्स में ये जानकारी नहीं है कि फा...</td>\n",
              "      <td>फाइनेंशियल मदद के तौर पर कितना अमाउंट दिया गय...</td>\n",
              "    </tr>\n",
              "  </tbody>\n",
              "</table>\n",
              "</div>"
            ],
            "text/plain": [
              "                     language  ...                                         sentence_2\n",
              "0  translate English to Hindi  ...  बारामती से 1984 में  उन्होंने पहली बार लोकसभा ...\n",
              "1  translate English to Hindi  ...   सरकार का फर्ज बनता है कि लगातार हो रही एक जैस...\n",
              "2  translate English to Hindi  ...  उत्तराखण्ड में राष्ट्रपति शासन हटाने के नैनीता...\n",
              "3  translate English to Hindi  ...  भारत ने आज परमाणु क्षमता संपन्न और स्वदेश में ...\n",
              "4  translate English to Hindi  ...   फाइनेंशियल मदद के तौर पर कितना अमाउंट दिया गय...\n",
              "\n",
              "[5 rows x 5 columns]"
            ]
          },
          "metadata": {},
          "execution_count": 9
        }
      ]
    },
    {
      "cell_type": "code",
      "metadata": {
        "id": "kJO_I2M5aimL"
      },
      "source": [
        "# Define the same sentence embeddings function used to create the model inputs\n",
        "# Mean Pooling - Take attention mask into account for correct averaging\n",
        "def mean_pooling(model_output, attention_mask):\n",
        "    token_embeddings = model_output[0]\n",
        "    input_mask_expanded = attention_mask.unsqueeze(-1).expand(token_embeddings.size()).float()\n",
        "    sum_embeddings = torch.sum(token_embeddings * input_mask_expanded, 1)\n",
        "    sum_mask = torch.clamp(input_mask_expanded.sum(1), min=1e-9)\n",
        "    return sum_embeddings / sum_mask\n",
        "\n",
        "def sentence_embeddings(device, tokenizer, model, sentences):\n",
        "  \"\"\"Create contextualized sentence embeddings\n",
        "  \n",
        "  Parameters:\n",
        "  tokenizer: transformers tokenizer for creating word tokens\n",
        "  model:\n",
        "  sentences: sentences to generate sentence embeddings for\n",
        "  \"\"\"\n",
        "\n",
        "  # Tokenize sentences and return PyTorch tensors\n",
        "  encoded_input = tokenizer(sentences, padding=True, truncation=True, \n",
        "                            max_length=128, return_tensors='pt')\n",
        "  encoded_input = encoded_input.to(device)\n",
        "  \n",
        "  # Pass the tokenized input to the model \n",
        "  with torch.no_grad():\n",
        "    model.to(device)\n",
        "    model_output = model(**encoded_input) \n",
        "  \n",
        "  # Perform mean pooling to get total sentence embeddings\n",
        "  sentence_embeddings = mean_pooling(model_output, \n",
        "                                     encoded_input['attention_mask'])\n",
        "  \n",
        "  return sentence_embeddings"
      ],
      "execution_count": 10,
      "outputs": []
    },
    {
      "cell_type": "code",
      "metadata": {
        "id": "l5Opaph2lQpN"
      },
      "source": [
        "# Get the sentence embeddings and cosine similarity scores between each pair of sentences in the dataset\n",
        "# This is to check if low scoring sentences have exact similarity scores or if they are of low quality\n",
        "def check_cosine_similarity(df, device, tokenizer, model):\n",
        "\n",
        "  # Create an empty list to check cosine similarity scores\n",
        "  cosine_scores = []\n",
        "\n",
        "  for index, rows in df.iterrows():\n",
        "    # Get the sentence embeddings of each pair of target sentences\n",
        "    sent1_embed = sentence_embeddings(device, tokenizer, model, rows['sentence_1'])\n",
        "    sent2_embed = sentence_embeddings(device, tokenizer, model, rows['sentence_2'])\n",
        "\n",
        "    # Reshape the embeddings to be of a single dimension \n",
        "    # Get the cosine similarity between the two pairs of sentence embeddings\n",
        "    cosine_similarity_value = F.cosine_similarity(sent1_embed.squeeze(0), sent2_embed.squeeze(0), dim=0)\n",
        "\n",
        "    # Add the cosine similarity score to the list of scores\n",
        "    cosine_scores.append(cosine_similarity_value.item())\n",
        "\n",
        "  return cosine_scores"
      ],
      "execution_count": 11,
      "outputs": []
    },
    {
      "cell_type": "code",
      "metadata": {
        "id": "QbVcnsdbqDAC"
      },
      "source": [
        "# Calculate the cosine similarity scores between each pair of sentences in the test set\n",
        "test_cos_scores = check_cosine_similarity(model_test, device, tokenizer, model)\n",
        "\n",
        "# Add the translation similarity scores to the indictrans performance dataframe\n",
        "model_test['cosine_similarity_scores'] = test_cos_scores"
      ],
      "execution_count": 12,
      "outputs": []
    },
    {
      "cell_type": "code",
      "metadata": {
        "colab": {
          "base_uri": "https://localhost:8080/",
          "height": 206
        },
        "id": "shjFGG72q_-A",
        "outputId": "a324d026-1f80-411d-9699-f577f4dfbdee"
      },
      "source": [
        "# View the first few records in each file\n",
        "model_test.head()"
      ],
      "execution_count": 13,
      "outputs": [
        {
          "output_type": "execute_result",
          "data": {
            "text/html": [
              "<div>\n",
              "<style scoped>\n",
              "    .dataframe tbody tr th:only-of-type {\n",
              "        vertical-align: middle;\n",
              "    }\n",
              "\n",
              "    .dataframe tbody tr th {\n",
              "        vertical-align: top;\n",
              "    }\n",
              "\n",
              "    .dataframe thead th {\n",
              "        text-align: right;\n",
              "    }\n",
              "</style>\n",
              "<table border=\"1\" class=\"dataframe\">\n",
              "  <thead>\n",
              "    <tr style=\"text-align: right;\">\n",
              "      <th></th>\n",
              "      <th>language</th>\n",
              "      <th>actual_label</th>\n",
              "      <th>predicted_label</th>\n",
              "      <th>sentence_1</th>\n",
              "      <th>sentence_2</th>\n",
              "      <th>cosine_similarity_scores</th>\n",
              "    </tr>\n",
              "  </thead>\n",
              "  <tbody>\n",
              "    <tr>\n",
              "      <th>0</th>\n",
              "      <td>translate English to Hindi</td>\n",
              "      <td>1</td>\n",
              "      <td>1</td>\n",
              "      <td>1984 में बारामती से उन्होंने पहली बार लोकसभा च...</td>\n",
              "      <td>बारामती से 1984 में  उन्होंने पहली बार लोकसभा ...</td>\n",
              "      <td>0.994218</td>\n",
              "    </tr>\n",
              "    <tr>\n",
              "      <th>1</th>\n",
              "      <td>translate English to Hindi</td>\n",
              "      <td>0</td>\n",
              "      <td>0</td>\n",
              "      <td>सुप्रीम कोर्ट की फटकार के बाद भी आजम अपने बयान...</td>\n",
              "      <td>सरकार का फर्ज बनता है कि लगातार हो रही एक जैस...</td>\n",
              "      <td>0.716098</td>\n",
              "    </tr>\n",
              "    <tr>\n",
              "      <th>2</th>\n",
              "      <td>translate English to Hindi</td>\n",
              "      <td>1</td>\n",
              "      <td>1</td>\n",
              "      <td>उत्तराखंड में जारी रहेगा राष्ट्रपति शासन,  हाई...</td>\n",
              "      <td>उत्तराखण्ड में राष्ट्रपति शासन हटाने के नैनीता...</td>\n",
              "      <td>0.887607</td>\n",
              "    </tr>\n",
              "    <tr>\n",
              "      <th>3</th>\n",
              "      <td>translate English to Hindi</td>\n",
              "      <td>1</td>\n",
              "      <td>0</td>\n",
              "      <td>भारत ने पृथ्वी-दो मिसाइल का किया सफल प्रक्षेपण</td>\n",
              "      <td>भारत ने आज परमाणु क्षमता संपन्न और स्वदेश में ...</td>\n",
              "      <td>0.743593</td>\n",
              "    </tr>\n",
              "    <tr>\n",
              "      <th>4</th>\n",
              "      <td>translate English to Hindi</td>\n",
              "      <td>1</td>\n",
              "      <td>1</td>\n",
              "      <td>मीडिया रिपोर्ट्स में ये जानकारी नहीं है कि फा...</td>\n",
              "      <td>फाइनेंशियल मदद के तौर पर कितना अमाउंट दिया गय...</td>\n",
              "      <td>0.969318</td>\n",
              "    </tr>\n",
              "  </tbody>\n",
              "</table>\n",
              "</div>"
            ],
            "text/plain": [
              "                     language  ...  cosine_similarity_scores\n",
              "0  translate English to Hindi  ...                  0.994218\n",
              "1  translate English to Hindi  ...                  0.716098\n",
              "2  translate English to Hindi  ...                  0.887607\n",
              "3  translate English to Hindi  ...                  0.743593\n",
              "4  translate English to Hindi  ...                  0.969318\n",
              "\n",
              "[5 rows x 6 columns]"
            ]
          },
          "metadata": {},
          "execution_count": 13
        }
      ]
    },
    {
      "cell_type": "code",
      "metadata": {
        "id": "m8jklFjwrB7z"
      },
      "source": [
        "# Create two sets - 1 for correct predictions, 1 for incorrect predictions\n",
        "correct = model_test[model_test.actual_label == model_test.predicted_label]\n",
        "incorrect = model_test[model_test.actual_label != model_test.predicted_label]"
      ],
      "execution_count": 14,
      "outputs": []
    },
    {
      "cell_type": "code",
      "metadata": {
        "colab": {
          "base_uri": "https://localhost:8080/"
        },
        "id": "jRzCILd4r7XS",
        "outputId": "3b6baa2a-09b2-40b8-f33b-b06b47077a44"
      },
      "source": [
        "# Get the min and max of cosine similarity values for incorrect and correct examples\n",
        "print(min(correct.cosine_similarity_scores))\n",
        "print(max(correct.cosine_similarity_scores), \"\\n\")\n",
        "\n",
        "# The incorrect examples have a higher minimum cosine similarity score than that of the minimum of correctly labeled examples\n",
        "print(min(incorrect.cosine_similarity_scores))\n",
        "print(max(incorrect.cosine_similarity_scores))"
      ],
      "execution_count": 15,
      "outputs": [
        {
          "output_type": "stream",
          "name": "stdout",
          "text": [
            "0.5050786137580872\n",
            "0.9990822076797485 \n",
            "\n",
            "0.6169906258583069\n",
            "0.9695481657981873\n"
          ]
        }
      ]
    },
    {
      "cell_type": "code",
      "metadata": {
        "id": "A1eXJWU-sgjc"
      },
      "source": [
        "# Get the min and max values for paraphrases vs not paraphrases\n",
        "p = model_test[model_test.actual_label == 1]\n",
        "np = model_test[model_test.actual_label == 0]"
      ],
      "execution_count": 16,
      "outputs": []
    },
    {
      "cell_type": "code",
      "metadata": {
        "colab": {
          "base_uri": "https://localhost:8080/"
        },
        "id": "pEpspfnHuT9L",
        "outputId": "cc6f87d3-a7b7-4607-b218-28876f08ee97"
      },
      "source": [
        "# Get the min and max of cosine similarity values for paraphrases versus not paraphrases\n",
        "print(min(p.cosine_similarity_scores))\n",
        "print(max(p.cosine_similarity_scores), \"\\n\")\n",
        "\n",
        "\n",
        "print(min(np.cosine_similarity_scores))\n",
        "print(max(np.cosine_similarity_scores))"
      ],
      "execution_count": 17,
      "outputs": [
        {
          "output_type": "stream",
          "name": "stdout",
          "text": [
            "0.6169906258583069\n",
            "0.9990822076797485 \n",
            "\n",
            "0.5050786137580872\n",
            "0.9695481657981873\n"
          ]
        }
      ]
    },
    {
      "cell_type": "code",
      "metadata": {
        "colab": {
          "base_uri": "https://localhost:8080/"
        },
        "id": "MtD33b9dujjD",
        "outputId": "343c00f7-6c0c-47e7-a763-fd008d564a41"
      },
      "source": [
        "# View the row with the maximum cosine similarity score where the sentences are not paraphrases\n",
        "print(np.loc[np.cosine_similarity_scores == max(np.cosine_similarity_scores), 'sentence_1'].iloc[0])\n",
        "print(np.loc[np.cosine_similarity_scores == max(np.cosine_similarity_scores), 'sentence_2'].iloc[0])\n",
        "print(np.loc[np.cosine_similarity_scores == max(np.cosine_similarity_scores), 'predicted_label'].iloc[0])\n",
        "print(np.loc[np.cosine_similarity_scores == max(np.cosine_similarity_scores), 'language'].iloc[0])"
      ],
      "execution_count": 18,
      "outputs": [
        {
          "output_type": "stream",
          "name": "stdout",
          "text": [
            "மலேசிய நாட்டின் தலைநகரான கோலாலம்பூரில் வெள்ளையர் ஆட்சிக்கு எதிராக இந்திய தேசிய ராணுவத்தை உருவாக்கிய மாவீரர் நேதாஜி சுபாஷ் சந்திரபோசின் உருவச்சிலை திறந்து வைக்கப்பட்டது.\n",
            "இந்திய பிரதமர் நரேந்திர மோடி கடந்த ஆண்டு மலேசியா வந்திருந்தபோது தலைநகர் கோலாலம்பூரில் உள்ள இந்திய கலாசார மையத்துக்கு நேதாஜி சுபாஷ் சந்திரபோசின் பெயர் சூட்டப்படும் என அறிவித்திருந்தார்.\n",
            "1\n",
            "translate English to Tamil\n"
          ]
        }
      ]
    },
    {
      "cell_type": "code",
      "metadata": {
        "id": "9ELt5Zy3vjqk"
      },
      "source": [
        "# Back translate to English\n",
        "# The sentences have similar ideas in some places - prime minister, the entity Netaji Subhash Chandra\n",
        "# However, the second sentence misses the importance of Netaji (no indication of why he is being honored)\n",
        "sent_1 = 'A statue of Netaji Subhash Chandra Bose, the hero who created the Indian National Army against white rule, was unveiled in the Malaysian capital Kuala Lumpur.'\n",
        "sent_2 = 'When Indian Prime Minister Narendra Modi visited Malaysia last year, he announced that the Indian Cultural Center in the capital Kuala Lumpur would be named after Netaji Subhash Chandra Bose.'"
      ],
      "execution_count": 19,
      "outputs": []
    },
    {
      "cell_type": "code",
      "metadata": {
        "id": "aFlj14pawLse"
      },
      "source": [
        "# Replace the long translation task text strings in-place with just the language names\n",
        "model_test[\"language\"] = model_test[\"language\"].str.replace(\"translate English to Hindi\", \"Hindi\", case = False)\n",
        "model_test[\"language\"] = model_test[\"language\"].str.replace(\"translate English to Punjabi\", \"Punjabi\", case = False)\n",
        "model_test[\"language\"] = model_test[\"language\"].str.replace(\"translate English to Tamil\", \"Tamil\", case = False)\n",
        "model_test[\"language\"] = model_test[\"language\"].str.replace(\"translate English to Malayalam\", \"Malayalam\", case = False)"
      ],
      "execution_count": 20,
      "outputs": []
    },
    {
      "cell_type": "code",
      "metadata": {
        "colab": {
          "base_uri": "https://localhost:8080/",
          "height": 424
        },
        "id": "R1plFRwixBjt",
        "outputId": "d449d6f5-02c4-4010-e526-d16178e64272"
      },
      "source": [
        "model_test"
      ],
      "execution_count": 21,
      "outputs": [
        {
          "output_type": "execute_result",
          "data": {
            "text/html": [
              "<div>\n",
              "<style scoped>\n",
              "    .dataframe tbody tr th:only-of-type {\n",
              "        vertical-align: middle;\n",
              "    }\n",
              "\n",
              "    .dataframe tbody tr th {\n",
              "        vertical-align: top;\n",
              "    }\n",
              "\n",
              "    .dataframe thead th {\n",
              "        text-align: right;\n",
              "    }\n",
              "</style>\n",
              "<table border=\"1\" class=\"dataframe\">\n",
              "  <thead>\n",
              "    <tr style=\"text-align: right;\">\n",
              "      <th></th>\n",
              "      <th>language</th>\n",
              "      <th>actual_label</th>\n",
              "      <th>predicted_label</th>\n",
              "      <th>sentence_1</th>\n",
              "      <th>sentence_2</th>\n",
              "      <th>cosine_similarity_scores</th>\n",
              "    </tr>\n",
              "  </thead>\n",
              "  <tbody>\n",
              "    <tr>\n",
              "      <th>0</th>\n",
              "      <td>Hindi</td>\n",
              "      <td>1</td>\n",
              "      <td>1</td>\n",
              "      <td>1984 में बारामती से उन्होंने पहली बार लोकसभा च...</td>\n",
              "      <td>बारामती से 1984 में  उन्होंने पहली बार लोकसभा ...</td>\n",
              "      <td>0.994218</td>\n",
              "    </tr>\n",
              "    <tr>\n",
              "      <th>1</th>\n",
              "      <td>Hindi</td>\n",
              "      <td>0</td>\n",
              "      <td>0</td>\n",
              "      <td>सुप्रीम कोर्ट की फटकार के बाद भी आजम अपने बयान...</td>\n",
              "      <td>सरकार का फर्ज बनता है कि लगातार हो रही एक जैस...</td>\n",
              "      <td>0.716098</td>\n",
              "    </tr>\n",
              "    <tr>\n",
              "      <th>2</th>\n",
              "      <td>Hindi</td>\n",
              "      <td>1</td>\n",
              "      <td>1</td>\n",
              "      <td>उत्तराखंड में जारी रहेगा राष्ट्रपति शासन,  हाई...</td>\n",
              "      <td>उत्तराखण्ड में राष्ट्रपति शासन हटाने के नैनीता...</td>\n",
              "      <td>0.887607</td>\n",
              "    </tr>\n",
              "    <tr>\n",
              "      <th>3</th>\n",
              "      <td>Hindi</td>\n",
              "      <td>1</td>\n",
              "      <td>0</td>\n",
              "      <td>भारत ने पृथ्वी-दो मिसाइल का किया सफल प्रक्षेपण</td>\n",
              "      <td>भारत ने आज परमाणु क्षमता संपन्न और स्वदेश में ...</td>\n",
              "      <td>0.743593</td>\n",
              "    </tr>\n",
              "    <tr>\n",
              "      <th>4</th>\n",
              "      <td>Hindi</td>\n",
              "      <td>1</td>\n",
              "      <td>1</td>\n",
              "      <td>मीडिया रिपोर्ट्स में ये जानकारी नहीं है कि फा...</td>\n",
              "      <td>फाइनेंशियल मदद के तौर पर कितना अमाउंट दिया गय...</td>\n",
              "      <td>0.969318</td>\n",
              "    </tr>\n",
              "    <tr>\n",
              "      <th>...</th>\n",
              "      <td>...</td>\n",
              "      <td>...</td>\n",
              "      <td>...</td>\n",
              "      <td>...</td>\n",
              "      <td>...</td>\n",
              "      <td>...</td>\n",
              "    </tr>\n",
              "    <tr>\n",
              "      <th>1595</th>\n",
              "      <td>Punjabi</td>\n",
              "      <td>1</td>\n",
              "      <td>1</td>\n",
              "      <td>ਉਂਜ ਹਰ ਡਿਪੂ ਨੂੰ ਘੱਟੋ-ਘੱਟ 25 ਨਵੀਆਂ ਬੱਸਾਂ ਦਿੱਤੀ...</td>\n",
              "      <td>ਉਂਜ ਘੱਟੋ-ਘੱਟ 25 ਨਵੀਆਂ ਬੱਸਾਂ ਹਰ ਡਿਪੂ ਨੂੰ ਦਿੱਤੀਆ...</td>\n",
              "      <td>0.991908</td>\n",
              "    </tr>\n",
              "    <tr>\n",
              "      <th>1596</th>\n",
              "      <td>Punjabi</td>\n",
              "      <td>1</td>\n",
              "      <td>1</td>\n",
              "      <td>ਇਨ੍ਹਾਂ ਵਿੱਚ 241 ਰਾਜਨੀਤੀ ਸ਼ਾਸਤਰ ਤੇ 170 ਇਤਿਹਾਸ ਦੇ...</td>\n",
              "      <td>170 ਇਤਿਹਾਸ ਦੇ ਅਤੇ 241 ਰਾਜਨੀਤੀ ਸ਼ਾਸਤਰ ਦੇ  ਲੈਕਚਰਾ...</td>\n",
              "      <td>0.977593</td>\n",
              "    </tr>\n",
              "    <tr>\n",
              "      <th>1597</th>\n",
              "      <td>Punjabi</td>\n",
              "      <td>0</td>\n",
              "      <td>0</td>\n",
              "      <td>ਇਸਤੋਂ ਪਹਿਲਾਂ ਸ਼ੋਮਣੀ ਅਕਾਲੀ ਦਲ ਦੇ ਇਤਿਹਾਸ ਤੇ ਪਿਛਲੇ...</td>\n",
              "      <td>ਪਹਿਲਾਂ ਇਹ ਵੈੱਬਸਾਈਟ ਸਰਬੱਤ ਖ਼ਾਲਸਾ ਦੀ ਚੱਲ ਰਹੀ ਸੀ|</td>\n",
              "      <td>0.701737</td>\n",
              "    </tr>\n",
              "    <tr>\n",
              "      <th>1598</th>\n",
              "      <td>Punjabi</td>\n",
              "      <td>1</td>\n",
              "      <td>1</td>\n",
              "      <td>ਟਾਸਕ ਫੋਰਸ ਖੇਡ ਸਹੂਲਤਾਂ, ਸਿਖਲਾਈ, ਚੋਣ ਅਮਲ ਤੇ ਇਨ੍ਹ...</td>\n",
              "      <td>ਖੇਡ ਸਹੂਲਤਾਂ, ਸਿਖਲਾਈ, ਚੋਣ ਅਮਲ ਤੇ ਇਨ੍ਹਾਂ ਨਾਲ ਸਬੰ...</td>\n",
              "      <td>0.985355</td>\n",
              "    </tr>\n",
              "    <tr>\n",
              "      <th>1599</th>\n",
              "      <td>Punjabi</td>\n",
              "      <td>1</td>\n",
              "      <td>1</td>\n",
              "      <td>ਖਾਧ ਨਿਗਮ ਦੇ ਕਰਮਚਾਰੀਆਂ ਨੇ ਆਪਣੀਆਂ ਮੰਗਾਂ ਪ੍ਰਤੀ ਕੱ...</td>\n",
              "      <td>ਆਪਣੀਆਂ ਮੰਗਾਂ ਪ੍ਰਤੀ ਖਾਧ ਨਿਗਮ ਦੇ ਕਰਮਚਾਰੀਆਂ ਨੇ ਕੱ...</td>\n",
              "      <td>0.979309</td>\n",
              "    </tr>\n",
              "  </tbody>\n",
              "</table>\n",
              "<p>1600 rows × 6 columns</p>\n",
              "</div>"
            ],
            "text/plain": [
              "     language  ...  cosine_similarity_scores\n",
              "0       Hindi  ...                  0.994218\n",
              "1       Hindi  ...                  0.716098\n",
              "2       Hindi  ...                  0.887607\n",
              "3       Hindi  ...                  0.743593\n",
              "4       Hindi  ...                  0.969318\n",
              "...       ...  ...                       ...\n",
              "1595  Punjabi  ...                  0.991908\n",
              "1596  Punjabi  ...                  0.977593\n",
              "1597  Punjabi  ...                  0.701737\n",
              "1598  Punjabi  ...                  0.985355\n",
              "1599  Punjabi  ...                  0.979309\n",
              "\n",
              "[1600 rows x 6 columns]"
            ]
          },
          "metadata": {},
          "execution_count": 21
        }
      ]
    },
    {
      "cell_type": "code",
      "metadata": {
        "colab": {
          "base_uri": "https://localhost:8080/"
        },
        "id": "iOl7-Aa-2-4S",
        "outputId": "ec24dc04-3507-4b3f-fd12-9c16ae486a1c"
      },
      "source": [
        "model_test.language.unique()"
      ],
      "execution_count": 22,
      "outputs": [
        {
          "output_type": "execute_result",
          "data": {
            "text/plain": [
              "array(['Hindi', 'Malayalam', 'Tamil', 'Punjabi'], dtype=object)"
            ]
          },
          "metadata": {},
          "execution_count": 22
        }
      ]
    },
    {
      "cell_type": "code",
      "metadata": {
        "id": "92xeYB16FJD6"
      },
      "source": [
        "# Map the 0 and 1 labels back to the original NP and P values\n",
        "model_test[\"actual_label\"] = model_test[\"actual_label\"].map({0: \"NP\", 1: \"P\"})\n",
        "model_test[\"predicted_label\"] = model_test[\"predicted_label\"].map({0: \"NP\", 1: \"P\"})"
      ],
      "execution_count": 23,
      "outputs": []
    },
    {
      "cell_type": "code",
      "metadata": {
        "colab": {
          "base_uri": "https://localhost:8080/",
          "height": 355
        },
        "id": "KgjvU9vX2ggj",
        "outputId": "ddd57c86-ed10-4acb-8891-826626b40258"
      },
      "source": [
        "sns.set(rc={'figure.figsize':(11,6)})\n",
        "sns.boxplot(x = model_test['language'],\n",
        "            y = model_test['cosine_similarity_scores'],\n",
        "            hue = model_test['actual_label'], palette=\"colorblind\").set_title('Cosine Similarity Scores by Language and Actual Label')\n",
        "plt.gcf().set_size_inches(8, 5)"
      ],
      "execution_count": 24,
      "outputs": [
        {
          "output_type": "display_data",
          "data": {
            "image/png": "[encoded data removed]",
            "text/plain": [
              "<Figure size 576x360 with 1 Axes>"
            ]
          },
          "metadata": {}
        }
      ]
    },
    {
      "cell_type": "code",
      "metadata": {
        "colab": {
          "base_uri": "https://localhost:8080/",
          "height": 427
        },
        "id": "UEpn5g_c6ahA",
        "outputId": "cfd1adc1-07cf-4d13-df07-c82a0c9e622a"
      },
      "source": [
        "# Let's look at the separation in cosine scores for incorrectly labeled examples that are paraphrases, but the model predicts them not to be\n",
        "pred_0_actual_1 = model_test[(model_test.predicted_label == \"NP\") & (model_test.actual_label == \"P\")]\n",
        "sns.boxplot(x = pred_0_actual_1['language'],\n",
        "            y = pred_0_actual_1['cosine_similarity_scores'],color=\"seagreen\").set_title('Cosine Similarity Scores of P Predicted to be NP')\n"
      ],
      "execution_count": 25,
      "outputs": [
        {
          "output_type": "execute_result",
          "data": {
            "text/plain": [
              "Text(0.5, 1.0, 'Cosine Similarity Scores of P Predicted to be NP')"
            ]
          },
          "metadata": {},
          "execution_count": 25
        },
        {
          "output_type": "display_data",
          "data": {
            "image/png": "[encoded data removed]",
            "text/plain": [
              "<Figure size 792x432 with 1 Axes>"
            ]
          },
          "metadata": {}
        }
      ]
    },
    {
      "cell_type": "code",
      "metadata": {
        "colab": {
          "base_uri": "https://localhost:8080/",
          "height": 427
        },
        "id": "Y8it6mlH7ilX",
        "outputId": "b6e8c001-93ef-44be-8b22-96b7c9b32930"
      },
      "source": [
        "# Let's look at the separation in cosine scores for incorrectly labeled examples that are not paraphrases, but the model predicts them to be\n",
        "pred_1_actual_0 = model_test[(model_test.predicted_label == \"P\") & (model_test.actual_label == \"NP\")]\n",
        "sns.boxplot(x = pred_1_actual_0['language'],\n",
        "            y = pred_1_actual_0['cosine_similarity_scores'],color=\"darkorange\").set_title('Cosine Similarity Scores of NP Predicted to be P')\n"
      ],
      "execution_count": 26,
      "outputs": [
        {
          "output_type": "execute_result",
          "data": {
            "text/plain": [
              "Text(0.5, 1.0, 'Cosine Similarity Scores of NP Predicted to be P')"
            ]
          },
          "metadata": {},
          "execution_count": 26
        },
        {
          "output_type": "display_data",
          "data": {
            "image/png": "[encoded data removed]",
            "text/plain": [
              "<Figure size 792x432 with 1 Axes>"
            ]
          },
          "metadata": {}
        }
      ]
    },
    {
      "cell_type": "code",
      "metadata": {
        "colab": {
          "base_uri": "https://localhost:8080/",
          "height": 206
        },
        "id": "etJrGF6YqWGz",
        "outputId": "82a2640f-ba0a-4768-c373-7ef71caa345c"
      },
      "source": [
        "# Look at an example sentence where the model is predicting not paraphrase for Tamil sentences that are paraphrases - the most frequent model mistake\n",
        "pred_1_actual_0_ta = pred_1_actual_0[pred_1_actual_0.language == 'Tamil'].reset_index().sort_values(\"cosine_similarity_scores\", ascending=False)\n",
        "# All of these sentences have high cosine similarity scores\n",
        "pred_1_actual_0_ta.head()"
      ],
      "execution_count": 27,
      "outputs": [
        {
          "output_type": "execute_result",
          "data": {
            "text/html": [
              "<div>\n",
              "<style scoped>\n",
              "    .dataframe tbody tr th:only-of-type {\n",
              "        vertical-align: middle;\n",
              "    }\n",
              "\n",
              "    .dataframe tbody tr th {\n",
              "        vertical-align: top;\n",
              "    }\n",
              "\n",
              "    .dataframe thead th {\n",
              "        text-align: right;\n",
              "    }\n",
              "</style>\n",
              "<table border=\"1\" class=\"dataframe\">\n",
              "  <thead>\n",
              "    <tr style=\"text-align: right;\">\n",
              "      <th></th>\n",
              "      <th>index</th>\n",
              "      <th>language</th>\n",
              "      <th>actual_label</th>\n",
              "      <th>predicted_label</th>\n",
              "      <th>sentence_1</th>\n",
              "      <th>sentence_2</th>\n",
              "      <th>cosine_similarity_scores</th>\n",
              "    </tr>\n",
              "  </thead>\n",
              "  <tbody>\n",
              "    <tr>\n",
              "      <th>41</th>\n",
              "      <td>1296</td>\n",
              "      <td>Tamil</td>\n",
              "      <td>NP</td>\n",
              "      <td>P</td>\n",
              "      <td>மலேசிய நாட்டின் தலைநகரான கோலாலம்பூரில் வெள்ளைய...</td>\n",
              "      <td>இந்திய பிரதமர் நரேந்திர மோடி கடந்த ஆண்டு மலேசி...</td>\n",
              "      <td>0.969548</td>\n",
              "    </tr>\n",
              "    <tr>\n",
              "      <th>29</th>\n",
              "      <td>1149</td>\n",
              "      <td>Tamil</td>\n",
              "      <td>NP</td>\n",
              "      <td>P</td>\n",
              "      <td>சர்வதேச தரவரிசையில் இந்திய டென்னிஸ் வீரர் யூகி...</td>\n",
              "      <td>சென்னையில் நடந்த போட்டியில் இந்திய டென்னிஸ் வீ...</td>\n",
              "      <td>0.967987</td>\n",
              "    </tr>\n",
              "    <tr>\n",
              "      <th>19</th>\n",
              "      <td>1088</td>\n",
              "      <td>Tamil</td>\n",
              "      <td>NP</td>\n",
              "      <td>P</td>\n",
              "      <td>குழந்தைகள் காணாமல்போய் 7 ஆண்டுகளுக்கு மேல் கண்...</td>\n",
              "      <td>ஓர் ஆண்டு முதல் 7 ஆண்டுகள் வரை கடத்தப்பட்ட, கண...</td>\n",
              "      <td>0.967232</td>\n",
              "    </tr>\n",
              "    <tr>\n",
              "      <th>11</th>\n",
              "      <td>1004</td>\n",
              "      <td>Tamil</td>\n",
              "      <td>NP</td>\n",
              "      <td>P</td>\n",
              "      <td>ஹராரேயில் நடைபெற்ற 2-வது டி20 போட்டியில் இந்தி...</td>\n",
              "      <td>இந்தியா- ஜிம்பாப்வே அணிகளுக்கு இடையிலான 2-வது ...</td>\n",
              "      <td>0.963441</td>\n",
              "    </tr>\n",
              "    <tr>\n",
              "      <th>16</th>\n",
              "      <td>1063</td>\n",
              "      <td>Tamil</td>\n",
              "      <td>NP</td>\n",
              "      <td>P</td>\n",
              "      <td>சர்வதேச யோகா தினமான ஜூன் 21-ம்தேதி, இந்தியா ம...</td>\n",
              "      <td>பிரதமர் நரேந்திரமோடியின் வேண்டுகோளை ஏற்று, ஜ...</td>\n",
              "      <td>0.949880</td>\n",
              "    </tr>\n",
              "  </tbody>\n",
              "</table>\n",
              "</div>"
            ],
            "text/plain": [
              "    index  ... cosine_similarity_scores\n",
              "41   1296  ...                 0.969548\n",
              "29   1149  ...                 0.967987\n",
              "19   1088  ...                 0.967232\n",
              "11   1004  ...                 0.963441\n",
              "16   1063  ...                 0.949880\n",
              "\n",
              "[5 rows x 7 columns]"
            ]
          },
          "metadata": {},
          "execution_count": 27
        }
      ]
    },
    {
      "cell_type": "code",
      "metadata": {
        "id": "hPm6pv9DlZ-X",
        "colab": {
          "base_uri": "https://localhost:8080/"
        },
        "outputId": "695a0385-b258-4a96-fc1c-027d28aadc5d"
      },
      "source": [
        "# Compare edit distances of sentence 2 from sentence 1 in P pairs and NP pairs\n",
        "model_test['edit_d'] = model_test.apply(lambda x: editdistance.eval(x['sentence_1'], x['sentence_2']), axis=1)\n",
        "\n",
        "# For each label category, find the min, median, max, and quartiles\n",
        "# NP pairs generally have a greater edit distance than P pairs\n",
        "print(model_test.groupby('actual_label', as_index=False)['edit_d'].min(), \"\\n\")\n",
        "print(model_test.groupby('actual_label', as_index=False)['edit_d'].median(),\"\\n\")\n",
        "print(model_test.groupby('actual_label', as_index=False)['edit_d'].max(), \"\\n\")\n",
        "print(model_test.groupby('actual_label', as_index=False)['edit_d'].quantile(.25), \"\\n\")\n",
        "print(model_test.groupby('actual_label', as_index=False)['edit_d'].quantile(.75), \"\\n\")\n"
      ],
      "execution_count": 28,
      "outputs": [
        {
          "output_type": "stream",
          "name": "stdout",
          "text": [
            "  actual_label  edit_d\n",
            "0           NP      24\n",
            "1            P       3 \n",
            "\n",
            "  actual_label  edit_d\n",
            "0           NP      84\n",
            "1            P      49 \n",
            "\n",
            "  actual_label  edit_d\n",
            "0           NP     236\n",
            "1            P     180 \n",
            "\n",
            "  actual_label  edit_d\n",
            "0           NP    65.0\n",
            "1            P    31.0 \n",
            "\n",
            "  actual_label  edit_d\n",
            "0           NP  107.75\n",
            "1            P   73.00 \n",
            "\n"
          ]
        }
      ]
    },
    {
      "cell_type": "code",
      "metadata": {
        "colab": {
          "base_uri": "https://localhost:8080/"
        },
        "id": "jawdeibOS19M",
        "outputId": "cad6b863-e56a-45d8-b71c-42c36ad71966"
      },
      "source": [
        "# Check the edit distance of P pairs labeled as NP\n",
        "# Mislabeled P pairs have a median edit distance equal to the first quantile edit distance of NP pairs\n",
        "print(model_test[(model_test.actual_label == 'P') & (model_test.predicted_label == 'NP')].groupby('actual_label', as_index=False)['edit_d'].min(), \"\\n\")\n",
        "print(model_test[(model_test.actual_label == 'P') & (model_test.predicted_label == 'NP')].groupby('actual_label', as_index=False)['edit_d'].median(),\"\\n\")\n",
        "print(model_test[(model_test.actual_label == 'P') & (model_test.predicted_label == 'NP')].groupby('actual_label', as_index=False)['edit_d'].max(), \"\\n\")\n",
        "print(model_test[(model_test.actual_label == 'P') & (model_test.predicted_label == 'NP')].groupby('actual_label', as_index=False)['edit_d'].quantile(.25), \"\\n\")\n",
        "print(model_test[(model_test.actual_label == 'P') & (model_test.predicted_label == 'NP')].groupby('actual_label', as_index=False)['edit_d'].quantile(.75))"
      ],
      "execution_count": 31,
      "outputs": [
        {
          "output_type": "stream",
          "name": "stdout",
          "text": [
            "  actual_label  edit_d\n",
            "0            P      13 \n",
            "\n",
            "  actual_label  edit_d\n",
            "0            P      65 \n",
            "\n",
            "  actual_label  edit_d\n",
            "0            P     169 \n",
            "\n",
            "  actual_label  edit_d\n",
            "0            P    47.0 \n",
            "\n",
            "  actual_label  edit_d\n",
            "0            P    86.0\n"
          ]
        }
      ]
    },
    {
      "cell_type": "code",
      "metadata": {
        "colab": {
          "base_uri": "https://localhost:8080/"
        },
        "id": "Gbzwb6rhzm5g",
        "outputId": "0b44ad9f-272c-49a9-9e2c-3552944b5f65"
      },
      "source": [
        "# Check the edit distance of NP pairs labeled as P\n",
        "# Mislabeled pairs NP pairs have a median edit distance equal to the 3rd quantile of P pairs\n",
        "print(model_test[(model_test.actual_label == 'NP') & (model_test.predicted_label == 'P')].groupby('actual_label', as_index=False)['edit_d'].min(), \"\\n\")\n",
        "print(model_test[(model_test.actual_label == 'NP') & (model_test.predicted_label == 'P')].groupby('actual_label', as_index=False)['edit_d'].median(),\"\\n\")\n",
        "print(model_test[(model_test.actual_label == 'NP') & (model_test.predicted_label == 'P')].groupby('actual_label', as_index=False)['edit_d'].max(), \"\\n\")\n",
        "print(model_test[(model_test.actual_label == 'NP') & (model_test.predicted_label == 'P')].groupby('actual_label', as_index=False)['edit_d'].quantile(.25), \"\\n\")\n",
        "print(model_test[(model_test.actual_label == 'NP') & (model_test.predicted_label == 'P')].groupby('actual_label', as_index=False)['edit_d'].quantile(.75))"
      ],
      "execution_count": 32,
      "outputs": [
        {
          "output_type": "stream",
          "name": "stdout",
          "text": [
            "  actual_label  edit_d\n",
            "0           NP      24 \n",
            "\n",
            "  actual_label  edit_d\n",
            "0           NP      73 \n",
            "\n",
            "  actual_label  edit_d\n",
            "0           NP     159 \n",
            "\n",
            "  actual_label  edit_d\n",
            "0           NP    54.0 \n",
            "\n",
            "  actual_label  edit_d\n",
            "0           NP   91.25\n"
          ]
        }
      ]
    }
  ]
}