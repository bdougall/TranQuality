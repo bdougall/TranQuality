{
  "nbformat": 4,
  "nbformat_minor": 0,
  "metadata": {
    "colab": {
      "name": "layernorm_final_record_quality_eval.ipynb",
      "provenance": [],
      "collapsed_sections": []
    },
    "kernelspec": {
      "name": "python3",
      "display_name": "Python 3"
    },
    "language_info": {
      "name": "python"
    }
  },
  "cells": [
    {
      "cell_type": "code",
      "metadata": {
        "colab": {
          "base_uri": "https://localhost:8080/"
        },
        "id": "PKI46xwG_s9w",
        "outputId": "674f39e2-ead9-43c2-9d67-be9b5c801917"
      },
      "source": [
        "!pip install editdistance -q\n",
        "!pip install sacrebleu -q"
      ],
      "execution_count": 1,
      "outputs": [
        {
          "output_type": "stream",
          "name": "stdout",
          "text": [
            "\u001b[?25l\r\u001b[K     |███▋                            | 10 kB 30.5 MB/s eta 0:00:01\r\u001b[K     |███████▏                        | 20 kB 29.7 MB/s eta 0:00:01\r\u001b[K     |██████████▉                     | 30 kB 20.3 MB/s eta 0:00:01\r\u001b[K     |██████████████▍                 | 40 kB 17.6 MB/s eta 0:00:01\r\u001b[K     |██████████████████              | 51 kB 9.3 MB/s eta 0:00:01\r\u001b[K     |█████████████████████▋          | 61 kB 8.8 MB/s eta 0:00:01\r\u001b[K     |█████████████████████████▎      | 71 kB 9.2 MB/s eta 0:00:01\r\u001b[K     |████████████████████████████▉   | 81 kB 10.1 MB/s eta 0:00:01\r\u001b[K     |████████████████████████████████| 90 kB 5.3 MB/s \n",
            "\u001b[?25h"
          ]
        }
      ]
    },
    {
      "cell_type": "code",
      "metadata": {
        "colab": {
          "base_uri": "https://localhost:8080/"
        },
        "id": "5iLUODzYUmlX",
        "outputId": "bf070e4c-e147-4394-a28c-ea3b9a89b90d"
      },
      "source": [
        "# Mount Google drive to upload datasets\n",
        "from google.colab import drive\n",
        "drive.mount('/content/drive')"
      ],
      "execution_count": 2,
      "outputs": [
        {
          "output_type": "stream",
          "name": "stdout",
          "text": [
            "Mounted at /content/drive\n"
          ]
        }
      ]
    },
    {
      "cell_type": "code",
      "metadata": {
        "id": "xn8OyIVSWD3H"
      },
      "source": [
        "# The path to the data on my drive\n",
        "D = '/content/drive/My Drive/W266_Project_Data/pmi_data'"
      ],
      "execution_count": 3,
      "outputs": []
    },
    {
      "cell_type": "code",
      "metadata": {
        "id": "T52H4_SuiXJj"
      },
      "source": [
        "import pandas as pd\n",
        "import numpy as np\n",
        "import editdistance\n",
        "import seaborn as sns\n",
        "import matplotlib.pyplot as plt"
      ],
      "execution_count": 4,
      "outputs": []
    },
    {
      "cell_type": "code",
      "metadata": {
        "id": "pkEKYkxhh3tn"
      },
      "source": [
        "# Load the eval files for each model's translations\n",
        "final = pd.read_csv(D+\"/predicted_text/siamese_evaluations_of_translations/record_comparison_layernorm.csv\")\n",
        "final.drop(columns={'Unnamed: 0'}, inplace=True)"
      ],
      "execution_count": 5,
      "outputs": []
    },
    {
      "cell_type": "code",
      "metadata": {
        "colab": {
          "base_uri": "https://localhost:8080/",
          "height": 310
        },
        "id": "Myrlu_7Yid3N",
        "outputId": "1673a4e0-a900-4630-8195-38e598f3c99d"
      },
      "source": [
        "# View the first few records in each file\n",
        "final.head()"
      ],
      "execution_count": 6,
      "outputs": [
        {
          "output_type": "execute_result",
          "data": {
            "text/html": [
              "<div>\n",
              "<style scoped>\n",
              "    .dataframe tbody tr th:only-of-type {\n",
              "        vertical-align: middle;\n",
              "    }\n",
              "\n",
              "    .dataframe tbody tr th {\n",
              "        vertical-align: top;\n",
              "    }\n",
              "\n",
              "    .dataframe thead th {\n",
              "        text-align: right;\n",
              "    }\n",
              "</style>\n",
              "<table border=\"1\" class=\"dataframe\">\n",
              "  <thead>\n",
              "    <tr style=\"text-align: right;\">\n",
              "      <th></th>\n",
              "      <th>language_task</th>\n",
              "      <th>target_sentence</th>\n",
              "      <th>bart_translation</th>\n",
              "      <th>bart_paraphrase_score</th>\n",
              "      <th>bart_cosine_score</th>\n",
              "      <th>indictrans_translation</th>\n",
              "      <th>indictrans_paraphrase_score</th>\n",
              "      <th>indictrans_cosine_score</th>\n",
              "      <th>best_trans</th>\n",
              "    </tr>\n",
              "  </thead>\n",
              "  <tbody>\n",
              "    <tr>\n",
              "      <th>0</th>\n",
              "      <td>translate English to Hindi</td>\n",
              "      <td>प्रधानमंत्री ने कहा कि बाबा साहेब अम्बेडकर की ...</td>\n",
              "      <td>Prime Minister said Babasaheb Ambedkar has a k...</td>\n",
              "      <td>0.296427</td>\n",
              "      <td>0.770237</td>\n",
              "      <td>प्रधानमंत्री ने कहा कि करोड़ों लोगों के दिलों ...</td>\n",
              "      <td>0.964050</td>\n",
              "      <td>0.948379</td>\n",
              "      <td>प्रधानमंत्री ने कहा कि करोड़ों लोगों के दिलों ...</td>\n",
              "    </tr>\n",
              "    <tr>\n",
              "      <th>1</th>\n",
              "      <td>translate English to Hindi</td>\n",
              "      <td>इस समारोह को आज बीजापुर में आयोजित करने के महत...</td>\n",
              "      <td>आज बीजापुर में इस समारोह को आयोजित करने के महत...</td>\n",
              "      <td>0.961452</td>\n",
              "      <td>0.946777</td>\n",
              "      <td>आज बीजापुर में इस कार्यक्रम के आयोजन के महत्व ...</td>\n",
              "      <td>0.975653</td>\n",
              "      <td>0.973164</td>\n",
              "      <td>आज बीजापुर में इस कार्यक्रम के आयोजन के महत्व ...</td>\n",
              "    </tr>\n",
              "    <tr>\n",
              "      <th>2</th>\n",
              "      <td>translate English to Hindi</td>\n",
              "      <td>उन्होंने कहा कि इस कार्य को 2022 तक पूरा कर ले...</td>\n",
              "      <td>उन्होंने कहा कि लक्ष्य 2022 तक इस कार्य को पूर...</td>\n",
              "      <td>0.984172</td>\n",
              "      <td>0.956433</td>\n",
              "      <td>उन्होंने कहा कि इस कार्य को 2022 तक पूरा करने ...</td>\n",
              "      <td>0.987264</td>\n",
              "      <td>0.985965</td>\n",
              "      <td>उन्होंने कहा कि इस कार्य को 2022 तक पूरा करने ...</td>\n",
              "    </tr>\n",
              "    <tr>\n",
              "      <th>3</th>\n",
              "      <td>translate English to Hindi</td>\n",
              "      <td>प्रधानमंत्री ने कहा कि सरकार स्पष्ट लक्ष्यों औ...</td>\n",
              "      <td>प्रधानमंत्री ने कहा कि सरकार स्पष्ट लक्ष्यों औ...</td>\n",
              "      <td>0.987658</td>\n",
              "      <td>0.965325</td>\n",
              "      <td>प्रधानमंत्री ने कहा कि सरकार स्पष्ट लक्ष्यों औ...</td>\n",
              "      <td>0.989116</td>\n",
              "      <td>0.986373</td>\n",
              "      <td>प्रधानमंत्री ने कहा कि सरकार स्पष्ट लक्ष्यों औ...</td>\n",
              "    </tr>\n",
              "    <tr>\n",
              "      <th>4</th>\n",
              "      <td>translate English to Hindi</td>\n",
              "      <td>उन्होंने इस संदर्भ में जन धन खाता खोलने, गरीबो...</td>\n",
              "      <td>इस संदर्भ में उन्होंने जनधन खाते खोलने, गरीबों...</td>\n",
              "      <td>0.979594</td>\n",
              "      <td>0.979276</td>\n",
              "      <td>इस संदर्भ में उन्होंने जन धन खाते खोलने, गरीबो...</td>\n",
              "      <td>0.986208</td>\n",
              "      <td>0.992806</td>\n",
              "      <td>इस संदर्भ में उन्होंने जन धन खाते खोलने, गरीबो...</td>\n",
              "    </tr>\n",
              "  </tbody>\n",
              "</table>\n",
              "</div>"
            ],
            "text/plain": [
              "                language_task  ...                                         best_trans\n",
              "0  translate English to Hindi  ...  प्रधानमंत्री ने कहा कि करोड़ों लोगों के दिलों ...\n",
              "1  translate English to Hindi  ...  आज बीजापुर में इस कार्यक्रम के आयोजन के महत्व ...\n",
              "2  translate English to Hindi  ...  उन्होंने कहा कि इस कार्य को 2022 तक पूरा करने ...\n",
              "3  translate English to Hindi  ...  प्रधानमंत्री ने कहा कि सरकार स्पष्ट लक्ष्यों औ...\n",
              "4  translate English to Hindi  ...  इस संदर्भ में उन्होंने जन धन खाते खोलने, गरीबो...\n",
              "\n",
              "[5 rows x 9 columns]"
            ]
          },
          "metadata": {},
          "execution_count": 6
        }
      ]
    },
    {
      "cell_type": "code",
      "metadata": {
        "id": "-UiBfTRtwSsp"
      },
      "source": [
        "# Add a new column for the source of the best translation\n",
        "final['best_trans_source'] = np.where(final.indictrans_paraphrase_score >= final.bart_paraphrase_score, \"indictrans\", \"mbart\")"
      ],
      "execution_count": 7,
      "outputs": []
    },
    {
      "cell_type": "code",
      "metadata": {
        "id": "VScHdVCewuLX"
      },
      "source": [
        "# Add a new column based upon whether or not cosine similarity score went up or down\n",
        "conditions = [\n",
        "    (final['best_trans_source'] == 'indictrans') & (final['indictrans_cosine_score'] > final['bart_cosine_score']),\n",
        "    (final['best_trans_source'] == 'indictrans') & (final['indictrans_cosine_score'] < final['bart_cosine_score']),\n",
        "    (final['best_trans_source'] == 'indictrans') & (final['indictrans_cosine_score'] == final['bart_cosine_score']),\n",
        "    (final['best_trans_source'] == 'mbart') & (final['bart_cosine_score'] > final['indictrans_cosine_score']),\n",
        "    (final['best_trans_source'] == 'mbart') & (final['bart_cosine_score'] < final['indictrans_cosine_score']),\n",
        "    (final['best_trans_source'] == 'mbart') & (final['bart_cosine_score'] == final['bart_cosine_score'])\n",
        "    ]\n",
        "values = ['score increased', 'score decreased', 'no change', 'score increased', 'score decreased', 'no change']\n",
        "\n",
        "final['cos_change'] = np.select(conditions, values)"
      ],
      "execution_count": 8,
      "outputs": []
    },
    {
      "cell_type": "code",
      "metadata": {
        "id": "15xPcWw2Fm-M"
      },
      "source": [
        "# Add a column for the best translation cosine similarity score and another for best translation paraphrase score\n",
        "final['best_paraphrase_cos'] = np.where(final.best_trans_source == 'mbart', final.bart_cosine_score, final.indictrans_cosine_score)\n",
        "final['best_paraphrase_para'] = np.where(final.best_trans_source == 'mbart', final.bart_paraphrase_score, final.indictrans_paraphrase_score)"
      ],
      "execution_count": 9,
      "outputs": []
    },
    {
      "cell_type": "code",
      "metadata": {
        "id": "1D8hqI3TIBDA"
      },
      "source": [
        "final.language_task = final['language_task'].str.replace('translate English to Hindi', 'Hindi').str.replace('translate English to Tamil', 'Tamil').str.replace('translate English to Malayalam', 'Malayalam')"
      ],
      "execution_count": 10,
      "outputs": []
    },
    {
      "cell_type": "code",
      "metadata": {
        "colab": {
          "base_uri": "https://localhost:8080/"
        },
        "id": "whcY05lFy6b9",
        "outputId": "e578794f-c871-485c-9f1f-6a1a81886f35"
      },
      "source": [
        "# The cosine similarity score of the sentence chosen by the paraphrase evaluator was higher than that of the non-chosen sentence 74% of the time\n",
        "# 2,195 of 2,967 times\n",
        "# in 772 cases, the cosine similarity score of the chosen sentence was lower than that of the non-chosen sentence\n",
        "final.cos_change.value_counts()"
      ],
      "execution_count": 11,
      "outputs": [
        {
          "output_type": "execute_result",
          "data": {
            "text/plain": [
              "score increased    2195\n",
              "score decreased     772\n",
              "no change            33\n",
              "Name: cos_change, dtype: int64"
            ]
          },
          "metadata": {},
          "execution_count": 11
        }
      ]
    },
    {
      "cell_type": "code",
      "metadata": {
        "id": "Htxc49kc9duy"
      },
      "source": [
        "# Add 2 new columns to calculate the character edit distance\n",
        "# 1 between IndicTrans translation and target\n",
        "# 1 for MBart translation and target\n",
        "final['indictrans_edit'] = final.apply(lambda x: editdistance.eval(x['target_sentence'], x['indictrans_translation']), axis=1)\n",
        "final['bart_edit'] = final.apply(lambda x: editdistance.eval(x['target_sentence'], x['bart_translation']), axis=1)"
      ],
      "execution_count": 12,
      "outputs": []
    },
    {
      "cell_type": "code",
      "metadata": {
        "id": "KU05yEVhL_K5"
      },
      "source": [
        "# Create a new column for the difference in edit distances between the translation chosen vs not chosen\n",
        "final[\"editd_chosen\"] = np.where(final.best_trans_source == 'mbart', final.bart_edit - final.indictrans_edit, \n",
        "                              final.indictrans_edit - final.bart_edit)"
      ],
      "execution_count": 13,
      "outputs": []
    },
    {
      "cell_type": "code",
      "metadata": {
        "id": "rErxa3Ind3He"
      },
      "source": [
        "# Set a column for the edit distance of the translation labeled as best by our classifier\n",
        "final['best_paraphrase_edit'] = np.where(final.best_trans_source == 'mbart', final.bart_edit, final.indictrans_edit)"
      ],
      "execution_count": 14,
      "outputs": []
    },
    {
      "cell_type": "code",
      "metadata": {
        "colab": {
          "base_uri": "https://localhost:8080/"
        },
        "id": "kwacF0MCFGRA",
        "outputId": "29d233b7-a084-4e7b-e233-ef73f88957c9"
      },
      "source": [
        "# Total number of times (for all languages) that BART was considered to have produced a paraphrase\n",
        "print(len(final[final.bart_paraphrase_score > .5]))\n",
        "print(len(final[final.indictrans_paraphrase_score > .5]))\n",
        "\n",
        "# MBARTs' translations were considered to be NP more often than P\n",
        "# IndicTrans' translations were considred to be P more often than NP\n",
        "print(len(final[final.bart_paraphrase_score < .5]))\n",
        "print(len(final[final.indictrans_paraphrase_score < .5]))"
      ],
      "execution_count": 15,
      "outputs": [
        {
          "output_type": "stream",
          "name": "stdout",
          "text": [
            "1493\n",
            "1813\n",
            "1507\n",
            "1187\n"
          ]
        }
      ]
    },
    {
      "cell_type": "code",
      "metadata": {
        "id": "W0QyspkT1o3s"
      },
      "source": [
        "# Write the final file to a csv\n",
        "final.to_csv(D+\"/predicted_text/siamese_evaluations_of_translations/record_comparison_final.csv\")"
      ],
      "execution_count": 16,
      "outputs": []
    },
    {
      "cell_type": "code",
      "metadata": {
        "id": "2U2f4bx0zpIw"
      },
      "source": [
        "# Create sub dataframes for each translator when it was chosen as the best translation\n",
        "indic_chosen = final[final.best_trans_source == 'indictrans']\n",
        "mbart_chosen = final[final.best_trans_source == 'mbart']"
      ],
      "execution_count": 17,
      "outputs": []
    },
    {
      "cell_type": "code",
      "metadata": {
        "colab": {
          "base_uri": "https://localhost:8080/"
        },
        "id": "DdHrbExXz6W-",
        "outputId": "7765711d-f622-4e83-d548-b59ebdc1df63"
      },
      "source": [
        "# When Indictrans was chosen as the translation, the cosine similarity was higher than that the Bart translation 1,485 times out of 1,928\n",
        "# 77% of the time\n",
        "# The 33 times that there was no change was when the translators produced the same translation, so we'll exclude these from the percentage\n",
        "indic_chosen.cos_change.value_counts()"
      ],
      "execution_count": 18,
      "outputs": [
        {
          "output_type": "execute_result",
          "data": {
            "text/plain": [
              "score increased    1485\n",
              "score decreased     443\n",
              "no change            33\n",
              "Name: cos_change, dtype: int64"
            ]
          },
          "metadata": {},
          "execution_count": 18
        }
      ]
    },
    {
      "cell_type": "code",
      "metadata": {
        "colab": {
          "base_uri": "https://localhost:8080/"
        },
        "id": "tw3UZ0Mw0VO6",
        "outputId": "1b418797-416a-4250-dbe2-d39b04455747"
      },
      "source": [
        "# Mbart's translation was chosen as the better translation 710 of 1039 times\n",
        "# 68% of the time, this replacement resulted in an increase in sentence similarity as measured by cosine similarity score\n",
        "mbart_chosen.cos_change.value_counts()"
      ],
      "execution_count": 19,
      "outputs": [
        {
          "output_type": "execute_result",
          "data": {
            "text/plain": [
              "score increased    710\n",
              "score decreased    329\n",
              "Name: cos_change, dtype: int64"
            ]
          },
          "metadata": {},
          "execution_count": 19
        }
      ]
    },
    {
      "cell_type": "code",
      "metadata": {
        "id": "dqiNhyzl0_Ro"
      },
      "source": [
        "# Look at langage specific changes in cosine sentence similarity, then by language + translator used\n",
        "# Initial Sacre Bleu scores were highest for Hindi from IndicTrans, MBart for Tamil, and IndicTrans for Malayalam\n",
        "hi_cos_change = final[final.language_task == 'Hindi']\n",
        "ta_cos_change = final[final.language_task == 'Tamil']\n",
        "ml_cos_change = final[final.language_task == 'Malayalam']"
      ],
      "execution_count": 20,
      "outputs": []
    },
    {
      "cell_type": "code",
      "metadata": {
        "colab": {
          "base_uri": "https://localhost:8080/"
        },
        "id": "dZPkkwCW174P",
        "outputId": "e4b98da2-05bc-4a57-c682-0a675b816f8a"
      },
      "source": [
        "# 786 of 976 times, the cosine similarity score for Hindi increased\n",
        "# an additional 24 times there was no change\n",
        "hi_cos_change.cos_change.value_counts()"
      ],
      "execution_count": 21,
      "outputs": [
        {
          "output_type": "execute_result",
          "data": {
            "text/plain": [
              "score increased    786\n",
              "score decreased    190\n",
              "no change           24\n",
              "Name: cos_change, dtype: int64"
            ]
          },
          "metadata": {},
          "execution_count": 21
        }
      ]
    },
    {
      "cell_type": "code",
      "metadata": {
        "colab": {
          "base_uri": "https://localhost:8080/"
        },
        "id": "YojMCj6e2fZz",
        "outputId": "023877a4-ffdf-42ae-80ca-5703a994e3c2"
      },
      "source": [
        "# For Hindi, cosine scores tended to be higher, regardless of the translator chosen\n",
        "print(hi_cos_change[hi_cos_change.best_trans_source == 'indictrans'].cos_change.value_counts(), \"\\n\")\n",
        "print(hi_cos_change[hi_cos_change.best_trans_source == 'mbart'].cos_change.value_counts())"
      ],
      "execution_count": 22,
      "outputs": [
        {
          "output_type": "stream",
          "name": "stdout",
          "text": [
            "score increased    569\n",
            "score decreased    102\n",
            "no change           24\n",
            "Name: cos_change, dtype: int64 \n",
            "\n",
            "score increased    217\n",
            "score decreased     88\n",
            "Name: cos_change, dtype: int64\n"
          ]
        }
      ]
    },
    {
      "cell_type": "code",
      "metadata": {
        "colab": {
          "base_uri": "https://localhost:8080/"
        },
        "id": "iMNRkcWZ22Mb",
        "outputId": "a172722b-0448-4c78-e5e5-a0d23d2f38fd"
      },
      "source": [
        "# Tamil cosine scores were higher, regardless of the translator chosen\n",
        "print(ta_cos_change.cos_change.value_counts(), \"\\n\")\n",
        "print(ta_cos_change[ta_cos_change.best_trans_source == 'indictrans'].cos_change.value_counts(), \"\\n\")\n",
        "print(ta_cos_change[ta_cos_change.best_trans_source == 'mbart'].cos_change.value_counts())"
      ],
      "execution_count": 23,
      "outputs": [
        {
          "output_type": "stream",
          "name": "stdout",
          "text": [
            "score increased    703\n",
            "score decreased    288\n",
            "no change            9\n",
            "Name: cos_change, dtype: int64 \n",
            "\n",
            "score increased    396\n",
            "score decreased    132\n",
            "no change            9\n",
            "Name: cos_change, dtype: int64 \n",
            "\n",
            "score increased    307\n",
            "score decreased    156\n",
            "Name: cos_change, dtype: int64\n"
          ]
        }
      ]
    },
    {
      "cell_type": "code",
      "metadata": {
        "colab": {
          "base_uri": "https://localhost:8080/"
        },
        "id": "eVcyTHSQ3Hql",
        "outputId": "6fee9df8-98d5-4cd3-ec42-70a445ec1057"
      },
      "source": [
        "print(ml_cos_change.cos_change.value_counts(), \"\\n\")\n",
        "print(ml_cos_change[ml_cos_change.best_trans_source == 'indictrans'].cos_change.value_counts(), \"\\n\")\n",
        "print(ml_cos_change[ml_cos_change.best_trans_source == 'mbart'].cos_change.value_counts())"
      ],
      "execution_count": 24,
      "outputs": [
        {
          "output_type": "stream",
          "name": "stdout",
          "text": [
            "score increased    706\n",
            "score decreased    294\n",
            "Name: cos_change, dtype: int64 \n",
            "\n",
            "score increased    520\n",
            "score decreased    209\n",
            "Name: cos_change, dtype: int64 \n",
            "\n",
            "score increased    186\n",
            "score decreased     85\n",
            "Name: cos_change, dtype: int64\n"
          ]
        }
      ]
    },
    {
      "cell_type": "code",
      "metadata": {
        "colab": {
          "base_uri": "https://localhost:8080/"
        },
        "id": "O5bkUWx3ACMF",
        "outputId": "4339eb29-1f8f-485d-dbb6-d0ae8d24d20a"
      },
      "source": [
        "# See if the chosen translation has a higher/lower/the same character edit distance as the translation not chosen\n",
        "print(len(indic_chosen[indic_chosen.indictrans_edit < indic_chosen.bart_edit]))\n",
        "print(len(indic_chosen[indic_chosen.indictrans_edit == indic_chosen.bart_edit]))\n",
        "print(len(indic_chosen[indic_chosen.indictrans_edit > indic_chosen.bart_edit]))"
      ],
      "execution_count": 25,
      "outputs": [
        {
          "output_type": "stream",
          "name": "stdout",
          "text": [
            "1509\n",
            "84\n",
            "368\n"
          ]
        }
      ]
    },
    {
      "cell_type": "code",
      "metadata": {
        "colab": {
          "base_uri": "https://localhost:8080/"
        },
        "id": "X4vXzBFoAc9Z",
        "outputId": "6ed9cebf-8d5c-47fc-e3a2-0fb3224f1833"
      },
      "source": [
        "# MBART translations tended to have a higher edit distance than the translations not chosen\n",
        "print(len(mbart_chosen[mbart_chosen.bart_edit < mbart_chosen.indictrans_edit]))\n",
        "print(len(mbart_chosen[mbart_chosen.bart_edit == mbart_chosen.indictrans_edit]))\n",
        "print(len(mbart_chosen[mbart_chosen.bart_edit > mbart_chosen.indictrans_edit]))"
      ],
      "execution_count": 26,
      "outputs": [
        {
          "output_type": "stream",
          "name": "stdout",
          "text": [
            "416\n",
            "47\n",
            "576\n"
          ]
        }
      ]
    },
    {
      "cell_type": "code",
      "metadata": {
        "colab": {
          "base_uri": "https://localhost:8080/"
        },
        "id": "8ieGQM9WCZu8",
        "outputId": "af9078e2-66cc-4888-99a2-2f830401e1f8"
      },
      "source": [
        "# Print the edit distance for Hindi by translator chosen\n",
        "# For Hindi, when IndicTrans was chosen as the best translator, it usually had a shorter edit distance\n",
        "print(len(hi_cos_change[(hi_cos_change.best_trans_source == 'indictrans') & (hi_cos_change.indictrans_edit < hi_cos_change.bart_edit)]))\n",
        "print(len(hi_cos_change[(hi_cos_change.best_trans_source == 'indictrans') & (hi_cos_change.indictrans_edit == hi_cos_change.bart_edit)]))\n",
        "print(len(hi_cos_change[(hi_cos_change.best_trans_source == 'indictrans') & (hi_cos_change.indictrans_edit > hi_cos_change.bart_edit)]), \"\\n\")\n",
        "\n",
        "# For Hindi, when Bart was chosen as the best translator, 49% of the time, the IndicTrans translation had a smaller edit distance\n",
        "print(len(hi_cos_change[(hi_cos_change.best_trans_source == 'mbart') & (hi_cos_change.bart_edit < hi_cos_change.indictrans_edit)]))\n",
        "print(len(hi_cos_change[(hi_cos_change.best_trans_source == 'mbart') & (hi_cos_change.bart_edit == hi_cos_change.indictrans_edit)]))\n",
        "print(len(hi_cos_change[(hi_cos_change.best_trans_source == 'mbart') & (hi_cos_change.bart_edit > hi_cos_change.indictrans_edit)]),\"\\n\")\n",
        "\n",
        "# Overall, edit distances of the chosen translation were less than that of the translation not chosen the majority of the time\n",
        "print(len(hi_cos_change[hi_cos_change.editd_chosen < 0]))\n",
        "print(len(hi_cos_change[hi_cos_change.editd_chosen == 0]))\n",
        "print(len(hi_cos_change[hi_cos_change.editd_chosen > 0]))"
      ],
      "execution_count": 27,
      "outputs": [
        {
          "output_type": "stream",
          "name": "stdout",
          "text": [
            "535\n",
            "47\n",
            "113 \n",
            "\n",
            "145\n",
            "11\n",
            "149 \n",
            "\n",
            "680\n",
            "58\n",
            "262\n"
          ]
        }
      ]
    },
    {
      "cell_type": "code",
      "metadata": {
        "colab": {
          "base_uri": "https://localhost:8080/"
        },
        "id": "56N8ezTpEJVg",
        "outputId": "f18c34a4-4733-4e05-d7fa-c9bf1f4bcd30"
      },
      "source": [
        "# Print the edit distance for Tamil by translator chosen\n",
        "# For Tamil, when IndicTrans was chosen as the best translator, it usually had a shorter edit distance\n",
        "print(len(ta_cos_change[(ta_cos_change.best_trans_source == 'indictrans') & (ta_cos_change.indictrans_edit < ta_cos_change.bart_edit)]))\n",
        "print(len(ta_cos_change[(ta_cos_change.best_trans_source == 'indictrans') & (ta_cos_change.indictrans_edit == ta_cos_change.bart_edit)]))\n",
        "print(len(ta_cos_change[(ta_cos_change.best_trans_source == 'indictrans') & (ta_cos_change.indictrans_edit > ta_cos_change.bart_edit)]), \"\\n\")\n",
        "\n",
        "# For Tamil, when Bart was chosen as the best translator, 49% of the time, the IndicTrans translation had a smaller edit distance\n",
        "print(len(ta_cos_change[(ta_cos_change.best_trans_source == 'mbart') & (ta_cos_change.bart_edit < ta_cos_change.indictrans_edit)]))\n",
        "print(len(ta_cos_change[(ta_cos_change.best_trans_source == 'mbart') & (ta_cos_change.bart_edit == ta_cos_change.indictrans_edit)]))\n",
        "print(len(ta_cos_change[(ta_cos_change.best_trans_source == 'mbart') & (ta_cos_change.bart_edit > ta_cos_change.indictrans_edit)]), \"\\n\")\n",
        "\n",
        "# Overall, edit distances of the chosen translation were less than that of the translation not chosen the majority of the time\n",
        "print(len(ta_cos_change[ta_cos_change.editd_chosen < 0]))\n",
        "print(len(ta_cos_change[ta_cos_change.editd_chosen == 0]))\n",
        "print(len(ta_cos_change[ta_cos_change.editd_chosen > 0]))"
      ],
      "execution_count": 28,
      "outputs": [
        {
          "output_type": "stream",
          "name": "stdout",
          "text": [
            "339\n",
            "24\n",
            "174 \n",
            "\n",
            "209\n",
            "25\n",
            "229 \n",
            "\n",
            "548\n",
            "49\n",
            "403\n"
          ]
        }
      ]
    },
    {
      "cell_type": "code",
      "metadata": {
        "colab": {
          "base_uri": "https://localhost:8080/"
        },
        "id": "GzlCf4eHEuSI",
        "outputId": "cfc06765-16f9-4642-e08d-6a643741da34"
      },
      "source": [
        "# For Malayalam, when IndicTrans was chosen as the best translator, it usually had a shorter edit distance\n",
        "print(len(ml_cos_change[(ml_cos_change.best_trans_source == 'indictrans') & (ml_cos_change.indictrans_edit < ml_cos_change.bart_edit)]))\n",
        "print(len(ml_cos_change[(ml_cos_change.best_trans_source == 'indictrans') & (ml_cos_change.indictrans_edit == ml_cos_change.bart_edit)]))\n",
        "print(len(ml_cos_change[(ml_cos_change.best_trans_source == 'indictrans') & (ml_cos_change.indictrans_edit > ml_cos_change.bart_edit)]), \"\\n\")\n",
        "\n",
        "# For Malayalam, when Bart was chosen as the best translator, the edit distance from the translated sentence to the target\n",
        "# tends to be greater than the edit distances of the translated sentences from IndicTrans\n",
        "print(len(ml_cos_change[(ml_cos_change.best_trans_source == 'mbart') & (ml_cos_change.bart_edit < ml_cos_change.indictrans_edit)]))\n",
        "print(len(ml_cos_change[(ml_cos_change.best_trans_source == 'mbart') & (ml_cos_change.bart_edit == ml_cos_change.indictrans_edit)]))\n",
        "print(len(ml_cos_change[(ml_cos_change.best_trans_source == 'mbart') & (ml_cos_change.bart_edit > ml_cos_change.indictrans_edit)]), \"\\n\")\n",
        "\n",
        "# Overall, edit distances of the chosen translation were less than that of the translation not chosen the majority of the time\n",
        "print(len(ml_cos_change[ml_cos_change.editd_chosen < 0]))\n",
        "print(len(ml_cos_change[ml_cos_change.editd_chosen == 0]))\n",
        "print(len(ml_cos_change[ml_cos_change.editd_chosen > 0]))"
      ],
      "execution_count": 29,
      "outputs": [
        {
          "output_type": "stream",
          "name": "stdout",
          "text": [
            "635\n",
            "13\n",
            "81 \n",
            "\n",
            "62\n",
            "11\n",
            "198 \n",
            "\n",
            "697\n",
            "24\n",
            "279\n"
          ]
        }
      ]
    },
    {
      "cell_type": "code",
      "metadata": {
        "colab": {
          "base_uri": "https://localhost:8080/"
        },
        "id": "HKN4BdneIfaL",
        "outputId": "9a061242-d254-47c9-f240-b44a1d73e265"
      },
      "source": [
        "# Get the language-specific counts of the number of times each translator was considered to have produced a paraphrase\n",
        "# For Hindi, both translators were considered to have produced a paraphrase the majority of the time\n",
        "print(len(hi_cos_change[hi_cos_change.bart_paraphrase_score >= .5]))\n",
        "print(len(hi_cos_change[hi_cos_change.indictrans_paraphrase_score >= .5]))\n",
        "# For Tamil, translations were considered NP more often than P, but less frequently for IndicTrans than MBART\n",
        "print(len(ta_cos_change[ta_cos_change.bart_paraphrase_score >= .5]))\n",
        "print(len(ta_cos_change[ta_cos_change.indictrans_paraphrase_score >= .5]))\n",
        "# For Malayalam, translations were considered NP more often than P, but less frequently for IndicTrans than MBART\n",
        "print(len(ml_cos_change[ml_cos_change.bart_paraphrase_score >= .5]))\n",
        "print(len(ml_cos_change[ml_cos_change.indictrans_paraphrase_score >= .5]))"
      ],
      "execution_count": 30,
      "outputs": [
        {
          "output_type": "stream",
          "name": "stdout",
          "text": [
            "916\n",
            "940\n",
            "371\n",
            "415\n",
            "206\n",
            "458\n"
          ]
        }
      ]
    },
    {
      "cell_type": "code",
      "metadata": {
        "colab": {
          "base_uri": "https://localhost:8080/"
        },
        "id": "KBhcx81WJP3c",
        "outputId": "bae2a3e2-f4e2-4748-f104-a4cf3e779ddf"
      },
      "source": [
        "# Get the Hindi mean paraphrase score by translator\n",
        "# The model has high confidence that the Hindi translations are paraphrases\n",
        "# with higher mean confidence scores for IndicTrans than MBART\n",
        "print(hi_cos_change.indictrans_paraphrase_score.mean())\n",
        "print(hi_cos_change.bart_paraphrase_score.mean())\n",
        "\n",
        "# Check the mean paraphrase probability scores for sentences considered paraphrases\n",
        "# The average score for translations considered paraphrases is near .9 for both, but higher for IndicTrans\n",
        "print(hi_cos_change.loc[hi_cos_change.indictrans_paraphrase_score >= .5].indictrans_paraphrase_score.mean())\n",
        "print(hi_cos_change.loc[hi_cos_change.bart_paraphrase_score >= .5].bart_paraphrase_score.mean())"
      ],
      "execution_count": 31,
      "outputs": [
        {
          "output_type": "stream",
          "name": "stdout",
          "text": [
            "0.9002341233398765\n",
            "0.8661293029543012\n",
            "0.9432541977217856\n",
            "0.9231072785942835\n"
          ]
        }
      ]
    },
    {
      "cell_type": "code",
      "metadata": {
        "colab": {
          "base_uri": "https://localhost:8080/"
        },
        "id": "RqMZvTJsJzl-",
        "outputId": "5d20d1be-9884-47e2-d6ae-30ce9d929969"
      },
      "source": [
        "# Get the Tamil mean paraphrase score by translator\n",
        "# The model has relatively low confidence that Tamil translations are paraphrases\n",
        "# with higher mean confidence scores for IndicTrans than MBART\n",
        "print(ta_cos_change.indictrans_paraphrase_score.mean())\n",
        "print(ta_cos_change.bart_paraphrase_score.mean())\n",
        "\n",
        "# Check the mean paraphrase probability scores for sentences considered paraphrases\n",
        "# The average score for translations considered paraphrases is ~.81 for IndicTrans and .80 for MBART\n",
        "print(ta_cos_change.loc[ta_cos_change.indictrans_paraphrase_score >= .5].indictrans_paraphrase_score.mean())\n",
        "print(ta_cos_change.loc[ta_cos_change.bart_paraphrase_score >= .5].bart_paraphrase_score.mean())"
      ],
      "execution_count": 32,
      "outputs": [
        {
          "output_type": "stream",
          "name": "stdout",
          "text": [
            "0.44019773973431436\n",
            "0.40234654091112315\n",
            "0.8117863103567836\n",
            "0.7955818356208082\n"
          ]
        }
      ]
    },
    {
      "cell_type": "code",
      "metadata": {
        "colab": {
          "base_uri": "https://localhost:8080/"
        },
        "id": "15uRkPRoKHQi",
        "outputId": "c5b88aa7-eaa3-480a-f95f-a97483d49a9c"
      },
      "source": [
        "# Get the Malayalam mean paraphrase score by translator\n",
        "# The model has relatively low confidence that Malayalam translations are paraphrases\n",
        "# with higher mean confidence scores for IndicTrans than MBART\n",
        "print(ml_cos_change.indictrans_paraphrase_score.mean())\n",
        "print(ml_cos_change.bart_paraphrase_score.mean())\n",
        "\n",
        "# Check the mean paraphrase probability scores for sentences considered paraphrases\n",
        "# The average score for translations considered paraphrases is ~.8 for IndicTrans and .75 for MBART\n",
        "print(ml_cos_change.loc[ml_cos_change.indictrans_paraphrase_score >= .5].indictrans_paraphrase_score.mean())\n",
        "print(ml_cos_change.loc[ml_cos_change.bart_paraphrase_score >= .5].bart_paraphrase_score.mean())"
      ],
      "execution_count": 33,
      "outputs": [
        {
          "output_type": "stream",
          "name": "stdout",
          "text": [
            "0.4706140532204881\n",
            "0.27135407165065406\n",
            "0.7999327314212332\n",
            "0.7488620981429387\n"
          ]
        }
      ]
    },
    {
      "cell_type": "code",
      "metadata": {
        "id": "AQ7XE4yQl0Gf"
      },
      "source": [
        "# Check the distribution of paraphrase and NP scores by translator\n",
        "hi_p_scores = hi_cos_change[[\"bart_paraphrase_score\", \"indictrans_paraphrase_score\"]]\n",
        "hi_p_scores = hi_p_scores.melt(var_name='cols',  value_name='vals')\n",
        "\n",
        "ta_p_scores = ta_cos_change[[\"bart_paraphrase_score\", \"indictrans_paraphrase_score\"]]\n",
        "ta_p_scores = ta_p_scores.melt(var_name='cols',  value_name='vals')\n",
        "\n",
        "ml_p_scores = ml_cos_change[[\"bart_paraphrase_score\", \"indictrans_paraphrase_score\"]]\n",
        "ml_p_scores = ml_p_scores.melt(var_name='cols',  value_name='vals')"
      ],
      "execution_count": 34,
      "outputs": []
    },
    {
      "cell_type": "code",
      "metadata": {
        "id": "8c0DYPC7pOXk"
      },
      "source": [
        "# Create a list of the column labels\n",
        "hi_p_labs = list(hi_p_scores.cols.unique())\n",
        "ta_p_labs = list(ta_p_scores.cols.unique())\n",
        "ml_p_labs = list(ml_p_scores.cols.unique())"
      ],
      "execution_count": 35,
      "outputs": []
    },
    {
      "cell_type": "code",
      "metadata": {
        "colab": {
          "base_uri": "https://localhost:8080/",
          "height": 408
        },
        "id": "oPVBj20LpZTm",
        "outputId": "76ac4bb3-6721-441d-e608-fe2503302a13"
      },
      "source": [
        "# For the majority of translations, the model has high confidence that the Hindi translations are paraphrases\n",
        "sns.set(rc={'figure.figsize':(5,4)})\n",
        "for lab in hi_p_labs:\n",
        "    # Subset to the translator\n",
        "    subset = hi_p_scores[hi_p_scores['cols'] == lab]\n",
        "    if lab == 'bart_paraphrase_score':\n",
        "      lab = 'MBART'\n",
        "    else:\n",
        "      lab = 'IndicTrans'\n",
        "    # Draw the density plot\n",
        "    sns.distplot(subset['vals'], hist = False, kde = True,\n",
        "                 kde_kws = {'shade': True, 'linewidth': 3},\n",
        "                 label = lab)\n",
        "    \n",
        "# Plot formatting\n",
        "plt.legend(prop={'size': 10}, title = 'Translator', loc = 'upper left')\n",
        "plt.title('SNN Density Plot of Hindi Traslation P Scores by Translator')\n",
        "plt.xlabel('Probability')\n",
        "plt.ylabel('Density')"
      ],
      "execution_count": 36,
      "outputs": [
        {
          "output_type": "stream",
          "name": "stderr",
          "text": [
            "/usr/local/lib/python3.7/dist-packages/seaborn/distributions.py:2619: FutureWarning: `distplot` is a deprecated function and will be removed in a future version. Please adapt your code to use either `displot` (a figure-level function with similar flexibility) or `kdeplot` (an axes-level function for kernel density plots).\n",
            "  warnings.warn(msg, FutureWarning)\n",
            "/usr/local/lib/python3.7/dist-packages/seaborn/distributions.py:2619: FutureWarning: `distplot` is a deprecated function and will be removed in a future version. Please adapt your code to use either `displot` (a figure-level function with similar flexibility) or `kdeplot` (an axes-level function for kernel density plots).\n",
            "  warnings.warn(msg, FutureWarning)\n"
          ]
        },
        {
          "output_type": "execute_result",
          "data": {
            "text/plain": [
              "Text(0, 0.5, 'Density')"
            ]
          },
          "metadata": {},
          "execution_count": 36
        },
        {
          "output_type": "display_data",
          "data": {
            "image/png": "[encoded data removed]",
            "text/plain": [
              "<Figure size 360x288 with 1 Axes>"
            ]
          },
          "metadata": {}
        }
      ]
    },
    {
      "cell_type": "code",
      "metadata": {
        "colab": {
          "base_uri": "https://localhost:8080/",
          "height": 408
        },
        "id": "ktGbXkupLeX_",
        "outputId": "94f8b45f-8d43-44bc-948d-cc11c27eb366"
      },
      "source": [
        "# The model believes that the majority of Tamil translations are not paraphrases\n",
        "# but it has high confidence in the ones that it does believe to be paraphrases\n",
        "sns.set(rc={'figure.figsize':(5,4)})\n",
        "for lab in ta_p_labs:\n",
        "    # Subset to the translator\n",
        "    subset = ta_p_scores[ta_p_scores['cols'] == lab]\n",
        "    if lab == 'bart_paraphrase_score':\n",
        "      lab = 'MBART'\n",
        "    else:\n",
        "      lab = 'IndicTrans'\n",
        "    # Draw the density plot\n",
        "    sns.distplot(subset['vals'], hist = False, kde = True,\n",
        "                 kde_kws = {'shade': True, 'linewidth': 3},\n",
        "                 label = lab)\n",
        "    \n",
        "# Plot formatting\n",
        "plt.legend(prop={'size': 10}, title = 'Translator', loc = 'upper right')\n",
        "plt.title('SNN Density Plot of Tamil Traslation P Scores by Translator')\n",
        "plt.xlabel('Probability')\n",
        "plt.ylabel('Density')"
      ],
      "execution_count": 37,
      "outputs": [
        {
          "output_type": "stream",
          "name": "stderr",
          "text": [
            "/usr/local/lib/python3.7/dist-packages/seaborn/distributions.py:2619: FutureWarning: `distplot` is a deprecated function and will be removed in a future version. Please adapt your code to use either `displot` (a figure-level function with similar flexibility) or `kdeplot` (an axes-level function for kernel density plots).\n",
            "  warnings.warn(msg, FutureWarning)\n",
            "/usr/local/lib/python3.7/dist-packages/seaborn/distributions.py:2619: FutureWarning: `distplot` is a deprecated function and will be removed in a future version. Please adapt your code to use either `displot` (a figure-level function with similar flexibility) or `kdeplot` (an axes-level function for kernel density plots).\n",
            "  warnings.warn(msg, FutureWarning)\n"
          ]
        },
        {
          "output_type": "execute_result",
          "data": {
            "text/plain": [
              "Text(0, 0.5, 'Density')"
            ]
          },
          "metadata": {},
          "execution_count": 37
        },
        {
          "output_type": "display_data",
          "data": {
            "image/png": "[encoded data removed]",
            "text/plain": [
              "<Figure size 360x288 with 1 Axes>"
            ]
          },
          "metadata": {}
        }
      ]
    },
    {
      "cell_type": "code",
      "metadata": {
        "colab": {
          "base_uri": "https://localhost:8080/",
          "height": 408
        },
        "id": "0tV8Ivg0L558",
        "outputId": "f6a108de-6147-4556-9cea-49f2d06ea46d"
      },
      "source": [
        "# The model believes that the majority of Malayalam MBART translations are not paraphrases\n",
        "# The model believes that IndicTrans translations have a close split between P & NP\n",
        "sns.set(rc={'figure.figsize':(5,4)})\n",
        "for lab in ml_p_labs:\n",
        "    # Subset to the translator\n",
        "    subset = ml_p_scores[ml_p_scores['cols'] == lab]\n",
        "    if lab == 'bart_paraphrase_score':\n",
        "      lab = 'MBART'\n",
        "    else:\n",
        "      lab = 'IndicTrans'\n",
        "    # Draw the density plot\n",
        "    sns.distplot(subset['vals'], hist = False, kde = True,\n",
        "                 kde_kws = {'shade': True, 'linewidth': 3},\n",
        "                 label = lab)\n",
        "    \n",
        "# Plot formatting\n",
        "plt.legend(prop={'size': 10}, title = 'Translator', loc = 'upper right')\n",
        "plt.title('SNN Density Plot of Tamil Traslation P Scores by Translator')\n",
        "plt.xlabel('Probability')\n",
        "plt.ylabel('Density')"
      ],
      "execution_count": 38,
      "outputs": [
        {
          "output_type": "stream",
          "name": "stderr",
          "text": [
            "/usr/local/lib/python3.7/dist-packages/seaborn/distributions.py:2619: FutureWarning: `distplot` is a deprecated function and will be removed in a future version. Please adapt your code to use either `displot` (a figure-level function with similar flexibility) or `kdeplot` (an axes-level function for kernel density plots).\n",
            "  warnings.warn(msg, FutureWarning)\n",
            "/usr/local/lib/python3.7/dist-packages/seaborn/distributions.py:2619: FutureWarning: `distplot` is a deprecated function and will be removed in a future version. Please adapt your code to use either `displot` (a figure-level function with similar flexibility) or `kdeplot` (an axes-level function for kernel density plots).\n",
            "  warnings.warn(msg, FutureWarning)\n"
          ]
        },
        {
          "output_type": "execute_result",
          "data": {
            "text/plain": [
              "Text(0, 0.5, 'Density')"
            ]
          },
          "metadata": {},
          "execution_count": 38
        },
        {
          "output_type": "display_data",
          "data": {
            "image/png": "[encoded data removed]",
            "text/plain": [
              "<Figure size 360x288 with 1 Axes>"
            ]
          },
          "metadata": {}
        }
      ]
    },
    {
      "cell_type": "code",
      "metadata": {
        "id": "HGDFTdnhP3Vk"
      },
      "source": [
        "# We'll now create corpuses for each language - for IndicTrans translations when chosen and their target texts\n",
        "hi_indict = indic_chosen[indic_chosen.language_task == 'Hindi']\n",
        "ta_indict = indic_chosen[indic_chosen.language_task == 'Tamil']\n",
        "ml_indict = indic_chosen[indic_chosen.language_task == 'Malayalam']\n",
        "\n",
        "# And again for the MBart translations when chosen and their target texts\n",
        "hi_mbart = mbart_chosen[mbart_chosen.language_task == 'Hindi']\n",
        "ta_mbart = mbart_chosen[mbart_chosen.language_task == 'Tamil']\n",
        "ml_mbart = mbart_chosen[mbart_chosen.language_task == 'Malayalam']\n",
        "\n",
        "# Save the target translations and the best translations for each language to a separate txt file\n",
        "np.savetxt(D+\"/predicted_text/siamese_evaluations_of_translations/indict_hi_target_layernorm.txt\", hi_indict.target_sentence.values, fmt='%s', newline='\\n')\n",
        "np.savetxt(D+\"/predicted_text/siamese_evaluations_of_translations/indict_hi_trans_layernorm.txt\", hi_indict.best_trans.values, fmt='%s', newline='\\n')\n",
        "np.savetxt(D+\"/predicted_text/siamese_evaluations_of_translations/indict_ta_target_layernorm.txt\", ta_indict.target_sentence.values, fmt='%s', newline='\\n')\n",
        "np.savetxt(D+\"/predicted_text/siamese_evaluations_of_translations/indict_ta_trans_layernorm.txt\", ta_indict.best_trans.values, fmt='%s', newline='\\n')\n",
        "np.savetxt(D+\"/predicted_text/siamese_evaluations_of_translations/indict_ml_target_layernorm.txt\", ml_indict.target_sentence.values, fmt='%s', newline='\\n')\n",
        "np.savetxt(D+\"/predicted_text/siamese_evaluations_of_translations/indict_ml_trans_layernorm.txt\", ml_indict.best_trans.values, fmt='%s', newline='\\n')\n",
        "\n",
        "np.savetxt(D+\"/predicted_text/siamese_evaluations_of_translations/mbart_hi_target_layernorm.txt\", hi_mbart.target_sentence.values, fmt='%s', newline='\\n')\n",
        "np.savetxt(D+\"/predicted_text/siamese_evaluations_of_translations/mbart_hi_trans_layernorm.txt\", hi_mbart.best_trans.values, fmt='%s', newline='\\n')\n",
        "np.savetxt(D+\"/predicted_text/siamese_evaluations_of_translations/mbart_ta_target_layernorm.txt\", ta_mbart.target_sentence.values, fmt='%s', newline='\\n')\n",
        "np.savetxt(D+\"/predicted_text/siamese_evaluations_of_translations/mbart_ta_trans_layernorm.txt\", ta_mbart.best_trans.values, fmt='%s', newline='\\n')\n",
        "np.savetxt(D+\"/predicted_text/siamese_evaluations_of_translations/mbart_ml_target_layernorm.txt\", ml_mbart.target_sentence.values, fmt='%s', newline='\\n')\n",
        "np.savetxt(D+\"/predicted_text/siamese_evaluations_of_translations/mbart_ml_trans_layernorm.txt\", ml_mbart.best_trans.values, fmt='%s', newline='\\n')"
      ],
      "execution_count": 39,
      "outputs": []
    },
    {
      "cell_type": "code",
      "metadata": {
        "colab": {
          "base_uri": "https://localhost:8080/"
        },
        "id": "Er8glBzlQ0Rf",
        "outputId": "ae6387a0-f31b-4bed-98b7-b5d3a76ffe2f"
      },
      "source": [
        "# cd into the directory where the files are saved then compute Sacre Bleu scores\n",
        "%cd /content/drive/MyDrive/W266_Project_Data/pmi_data/predicted_text/siamese_evaluations_of_translations/"
      ],
      "execution_count": 40,
      "outputs": [
        {
          "output_type": "stream",
          "name": "stdout",
          "text": [
            "/content/drive/MyDrive/W266_Project_Data/pmi_data/predicted_text/siamese_evaluations_of_translations\n"
          ]
        }
      ]
    },
    {
      "cell_type": "code",
      "metadata": {
        "colab": {
          "base_uri": "https://localhost:8080/"
        },
        "id": "1YLqlMihQ4ji",
        "outputId": "bd73fb53-777c-4dbb-b1ea-6c4e429d0960"
      },
      "source": [
        "# Get the Hindi Sacre Bleu scores when IndicTrans is chosen as the \"better translation\"\n",
        "!sacrebleu indict_hi_target_layernorm.txt -i  indict_hi_trans_layernorm.txt --tokenize intl --confidence\n",
        "\n",
        "# Get the Hindi Sacre Bleu scores when MBart is chosen as the \"better translation\"\n",
        "!sacrebleu mbart_hi_target_layernorm.txt -i mbart_hi_trans_layernorm.txt --tokenize intl --confidence"
      ],
      "execution_count": 41,
      "outputs": [
        {
          "output_type": "stream",
          "name": "stdout",
          "text": [
            "{\n",
            " \"name\": \"BLEU\",\n",
            " \"score\": 42.7,\n",
            " \"signature\": \"nrefs:1|bs:1000|seed:12345|case:mixed|eff:no|tok:intl|smooth:exp|version:2.0.0\",\n",
            " \"confidence_mean\": 42.7,\n",
            " \"confidence_var\": 1.6,\n",
            " \"confidence\": \"μ = 42.7 ± 1.6\",\n",
            " \"verbose_score\": \"72.5/51.0/36.8/27.4 (BP = 0.973 ratio = 0.974 hyp_len = 13402 ref_len = 13765)\",\n",
            " \"nrefs\": \"1\",\n",
            " \"bs\": \"1000\",\n",
            " \"seed\": \"12345\",\n",
            " \"case\": \"mixed\",\n",
            " \"eff\": \"no\",\n",
            " \"tok\": \"intl\",\n",
            " \"smooth\": \"exp\",\n",
            " \"version\": \"2.0.0\"\n",
            "}\n",
            "\u001b[0m{\n",
            " \"name\": \"BLEU\",\n",
            " \"score\": 28.8,\n",
            " \"signature\": \"nrefs:1|bs:1000|seed:12345|case:mixed|eff:no|tok:intl|smooth:exp|version:2.0.0\",\n",
            " \"confidence_mean\": 28.7,\n",
            " \"confidence_var\": 2.2,\n",
            " \"confidence\": \"μ = 28.7 ± 2.2\",\n",
            " \"verbose_score\": \"61.7/36.3/22.5/14.1 (BP = 0.992 ratio = 0.992 hyp_len = 5745 ref_len = 5792)\",\n",
            " \"nrefs\": \"1\",\n",
            " \"bs\": \"1000\",\n",
            " \"seed\": \"12345\",\n",
            " \"case\": \"mixed\",\n",
            " \"eff\": \"no\",\n",
            " \"tok\": \"intl\",\n",
            " \"smooth\": \"exp\",\n",
            " \"version\": \"2.0.0\"\n",
            "}\n",
            "\u001b[0m"
          ]
        }
      ]
    },
    {
      "cell_type": "code",
      "metadata": {
        "colab": {
          "base_uri": "https://localhost:8080/"
        },
        "id": "3iZKIIxwTUth",
        "outputId": "5a85da15-4c26-4b9f-94eb-71eaa040f087"
      },
      "source": [
        "# Repeat for Malayalam\n",
        "!sacrebleu indict_ml_target_layernorm.txt -i indict_ml_trans_layernorm.txt --tokenize intl --confidence\n",
        "!sacrebleu mbart_ml_target_layernorm.txt -i mbart_ml_trans_layernorm.txt --tokenize intl --confidence"
      ],
      "execution_count": 42,
      "outputs": [
        {
          "output_type": "stream",
          "name": "stdout",
          "text": [
            "{\n",
            " \"name\": \"BLEU\",\n",
            " \"score\": 9.2,\n",
            " \"signature\": \"nrefs:1|bs:1000|seed:12345|case:mixed|eff:no|tok:intl|smooth:exp|version:2.0.0\",\n",
            " \"confidence_mean\": 9.2,\n",
            " \"confidence_var\": 1.1,\n",
            " \"confidence\": \"μ = 9.2 ± 1.1\",\n",
            " \"verbose_score\": \"38.8/13.3/5.8/2.5 (BP = 0.993 ratio = 0.993 hyp_len = 8705 ref_len = 8762)\",\n",
            " \"nrefs\": \"1\",\n",
            " \"bs\": \"1000\",\n",
            " \"seed\": \"12345\",\n",
            " \"case\": \"mixed\",\n",
            " \"eff\": \"no\",\n",
            " \"tok\": \"intl\",\n",
            " \"smooth\": \"exp\",\n",
            " \"version\": \"2.0.0\"\n",
            "}\n",
            "\u001b[0m{\n",
            " \"name\": \"BLEU\",\n",
            " \"score\": 1.7,\n",
            " \"signature\": \"nrefs:1|bs:1000|seed:12345|case:mixed|eff:no|tok:intl|smooth:exp|version:2.0.0\",\n",
            " \"confidence_mean\": 1.6,\n",
            " \"confidence_var\": 0.7,\n",
            " \"confidence\": \"μ = 1.6 ± 0.7\",\n",
            " \"verbose_score\": \"21.7/2.9/0.6/0.2 (BP = 1.000 ratio = 1.161 hyp_len = 3676 ref_len = 3167)\",\n",
            " \"nrefs\": \"1\",\n",
            " \"bs\": \"1000\",\n",
            " \"seed\": \"12345\",\n",
            " \"case\": \"mixed\",\n",
            " \"eff\": \"no\",\n",
            " \"tok\": \"intl\",\n",
            " \"smooth\": \"exp\",\n",
            " \"version\": \"2.0.0\"\n",
            "}\n",
            "\u001b[0m"
          ]
        }
      ]
    },
    {
      "cell_type": "code",
      "metadata": {
        "colab": {
          "base_uri": "https://localhost:8080/"
        },
        "id": "e5BgXiVSTkGF",
        "outputId": "d46a3748-4b3d-49a9-f2d7-f4d933a25c13"
      },
      "source": [
        "# Repeat for Tamil\n",
        "!sacrebleu indict_ta_target_layernorm.txt -i indict_ta_trans_layernorm.txt --tokenize intl --confidence\n",
        "!sacrebleu mbart_ta_target_layernorm.txt -i mbart_ta_trans_layernorm.txt --tokenize intl --confidence"
      ],
      "execution_count": 43,
      "outputs": [
        {
          "output_type": "stream",
          "name": "stdout",
          "text": [
            "{\n",
            " \"name\": \"BLEU\",\n",
            " \"score\": 17.2,\n",
            " \"signature\": \"nrefs:1|bs:1000|seed:12345|case:mixed|eff:no|tok:intl|smooth:exp|version:2.0.0\",\n",
            " \"confidence_mean\": 17.2,\n",
            " \"confidence_var\": 1.5,\n",
            " \"confidence\": \"μ = 17.2 ± 1.5\",\n",
            " \"verbose_score\": \"49.8/23.7/12.8/7.1 (BP = 0.952 ratio = 0.953 hyp_len = 7391 ref_len = 7755)\",\n",
            " \"nrefs\": \"1\",\n",
            " \"bs\": \"1000\",\n",
            " \"seed\": \"12345\",\n",
            " \"case\": \"mixed\",\n",
            " \"eff\": \"no\",\n",
            " \"tok\": \"intl\",\n",
            " \"smooth\": \"exp\",\n",
            " \"version\": \"2.0.0\"\n",
            "}\n",
            "\u001b[0m{\n",
            " \"name\": \"BLEU\",\n",
            " \"score\": 13.6,\n",
            " \"signature\": \"nrefs:1|bs:1000|seed:12345|case:mixed|eff:no|tok:intl|smooth:exp|version:2.0.0\",\n",
            " \"confidence_mean\": 13.6,\n",
            " \"confidence_var\": 1.5,\n",
            " \"confidence\": \"μ = 13.6 ± 1.5\",\n",
            " \"verbose_score\": \"45.2/19.4/9.5/4.8 (BP = 0.959 ratio = 0.960 hyp_len = 6400 ref_len = 6670)\",\n",
            " \"nrefs\": \"1\",\n",
            " \"bs\": \"1000\",\n",
            " \"seed\": \"12345\",\n",
            " \"case\": \"mixed\",\n",
            " \"eff\": \"no\",\n",
            " \"tok\": \"intl\",\n",
            " \"smooth\": \"exp\",\n",
            " \"version\": \"2.0.0\"\n",
            "}\n",
            "\u001b[0m"
          ]
        }
      ]
    },
    {
      "cell_type": "markdown",
      "metadata": {
        "id": "Ip-yVd6sUZ20"
      },
      "source": [
        "So when Bart is considered to have produced the better translation, its sentences have less overlap with the target than do the translated sentences from IndicTrans when it is considered the better translator.\n",
        "Let's look at scores for the same sentences."
      ]
    },
    {
      "cell_type": "code",
      "metadata": {
        "id": "NLnC4BILUlJX"
      },
      "source": [
        "# Save the Bart translations when IndicTrans is considered the better translator\n",
        "np.savetxt(D+\"/predicted_text/siamese_evaluations_of_translations/hi_bart_bestindic_layernorm.txt\", \n",
        "           hi_indict.bart_translation.values, fmt='%s', newline='\\n')\n",
        "np.savetxt(D+\"/predicted_text/siamese_evaluations_of_translations/ml_bart_bestindic_layernorm.txt\", \n",
        "           ml_indict.bart_translation.values, fmt='%s', newline='\\n')\n",
        "np.savetxt(D+\"/predicted_text/siamese_evaluations_of_translations/ta_bart_bestindic_layernorm.txt\", \n",
        "           ta_indict.bart_translation.values, fmt='%s', newline='\\n')"
      ],
      "execution_count": 44,
      "outputs": []
    },
    {
      "cell_type": "markdown",
      "metadata": {
        "id": "9mwpYcwiZjmK"
      },
      "source": [
        "When IndicTrans translations are chosen as the \"better\" translation, their Sacre Bleu scores are higher than the MBart sentences that were not chosen (as seen below). However (as seen below), MBart chosen sentences have lower Sacre Bleu scores for Hindi than their IndicTrans counterparts that were not chosen. The SacreBleu scores of MBart chosen and IndicTrans not chosen sentences are equivalent for Tamil."
      ]
    },
    {
      "cell_type": "code",
      "metadata": {
        "colab": {
          "base_uri": "https://localhost:8080/"
        },
        "id": "X8XafNAXVT2j",
        "outputId": "90d1fbae-403b-4369-de05-9cae9cdcc28b"
      },
      "source": [
        "# Get the Sacre Bleu scores for the MBart translations for Hindi, Tamil, and Malayam, when IndicTrans is considered better\n",
        "# The Hindi score is 27.8 vs 42.7 from IndicTrans\n",
        "!sacrebleu indict_hi_target_layernorm.txt -i hi_bart_bestindic_layernorm.txt --tokenize intl --confidence\n",
        "# The Malayalam score is 1.1 vs 9.2 from IndicTrans\n",
        "!sacrebleu indict_ml_target_layernorm.txt -i ml_bart_bestindic_layernorm.txt --tokenize intl --confidence\n",
        "# The Tamil score is 12.5 vs 17.1 from IndicTrans\n",
        "!sacrebleu indict_ta_target_layernorm.txt -i ta_bart_bestindic_layernorm.txt --tokenize intl --confidence"
      ],
      "execution_count": 45,
      "outputs": [
        {
          "output_type": "stream",
          "name": "stdout",
          "text": [
            "{\n",
            " \"name\": \"BLEU\",\n",
            " \"score\": 27.8,\n",
            " \"signature\": \"nrefs:1|bs:1000|seed:12345|case:mixed|eff:no|tok:intl|smooth:exp|version:2.0.0\",\n",
            " \"confidence_mean\": 27.8,\n",
            " \"confidence_var\": 1.5,\n",
            " \"confidence\": \"μ = 27.8 ± 1.5\",\n",
            " \"verbose_score\": \"60.4/35.7/22.1/14.1 (BP = 0.971 ratio = 0.971 hyp_len = 13372 ref_len = 13765)\",\n",
            " \"nrefs\": \"1\",\n",
            " \"bs\": \"1000\",\n",
            " \"seed\": \"12345\",\n",
            " \"case\": \"mixed\",\n",
            " \"eff\": \"no\",\n",
            " \"tok\": \"intl\",\n",
            " \"smooth\": \"exp\",\n",
            " \"version\": \"2.0.0\"\n",
            "}\n",
            "\u001b[0m{\n",
            " \"name\": \"BLEU\",\n",
            " \"score\": 1.1,\n",
            " \"signature\": \"nrefs:1|bs:1000|seed:12345|case:mixed|eff:no|tok:intl|smooth:exp|version:2.0.0\",\n",
            " \"confidence_mean\": 1.1,\n",
            " \"confidence_var\": 0.5,\n",
            " \"confidence\": \"μ = 1.1 ± 0.5\",\n",
            " \"verbose_score\": \"18.5/2.3/0.4/0.1 (BP = 1.000 ratio = 1.227 hyp_len = 10753 ref_len = 8762)\",\n",
            " \"nrefs\": \"1\",\n",
            " \"bs\": \"1000\",\n",
            " \"seed\": \"12345\",\n",
            " \"case\": \"mixed\",\n",
            " \"eff\": \"no\",\n",
            " \"tok\": \"intl\",\n",
            " \"smooth\": \"exp\",\n",
            " \"version\": \"2.0.0\"\n",
            "}\n",
            "\u001b[0m{\n",
            " \"name\": \"BLEU\",\n",
            " \"score\": 12.6,\n",
            " \"signature\": \"nrefs:1|bs:1000|seed:12345|case:mixed|eff:no|tok:intl|smooth:exp|version:2.0.0\",\n",
            " \"confidence_mean\": 12.6,\n",
            " \"confidence_var\": 1.5,\n",
            " \"confidence\": \"μ = 12.6 ± 1.5\",\n",
            " \"verbose_score\": \"43.8/17.9/8.9/4.6 (BP = 0.940 ratio = 0.942 hyp_len = 7305 ref_len = 7755)\",\n",
            " \"nrefs\": \"1\",\n",
            " \"bs\": \"1000\",\n",
            " \"seed\": \"12345\",\n",
            " \"case\": \"mixed\",\n",
            " \"eff\": \"no\",\n",
            " \"tok\": \"intl\",\n",
            " \"smooth\": \"exp\",\n",
            " \"version\": \"2.0.0\"\n",
            "}\n",
            "\u001b[0m"
          ]
        }
      ]
    },
    {
      "cell_type": "code",
      "metadata": {
        "id": "otVYpUBNWSGn"
      },
      "source": [
        "# Save the IndicTrans translations when MBart is considered the better translator\n",
        "np.savetxt(D+\"/predicted_text/siamese_evaluations_of_translations/hi_indict_bestbart_layernorm.txt\", \n",
        "           hi_mbart.indictrans_translation.values, fmt='%s', newline='\\n')\n",
        "np.savetxt(D+\"/predicted_text/siamese_evaluations_of_translations/ml_indict_bestbart_layernorm.txt\", \n",
        "           ml_mbart.bart_translation.values, fmt='%s', newline='\\n')\n",
        "np.savetxt(D+\"/predicted_text/siamese_evaluations_of_translations/ta_indict_bestbart_layernorm.txt\", \n",
        "           ta_mbart.bart_translation.values, fmt='%s', newline='\\n')"
      ],
      "execution_count": 46,
      "outputs": []
    },
    {
      "cell_type": "code",
      "metadata": {
        "colab": {
          "base_uri": "https://localhost:8080/"
        },
        "id": "W1Sxr5uWWrmW",
        "outputId": "999f18cb-2229-427f-d501-ff89a4fe6108"
      },
      "source": [
        "# When MBart is considered to have produced the better translation\n",
        "# The Hindi IndicTrans scores are 30.2 vs 28.8 from MBart\n",
        "!sacrebleu mbart_hi_target_layernorm.txt -i hi_indict_bestbart_layernorm.txt --tokenize intl --confidence\n",
        "# The Malayalam IndicTrans scores are 1.7 vs 1.7 from MBart\n",
        "!sacrebleu mbart_ml_target_layernorm.txt -i ml_indict_bestbart_layernorm.txt --tokenize intl --confidence\n",
        "# The Tamil IndicTrans scores are 13.5 vs 13.5 from MBart\n",
        "!sacrebleu mbart_ta_target_layernorm.txt -i ta_indict_bestbart_layernorm.txt --tokenize intl --confidence"
      ],
      "execution_count": 47,
      "outputs": [
        {
          "output_type": "stream",
          "name": "stdout",
          "text": [
            "{\n",
            " \"name\": \"BLEU\",\n",
            " \"score\": 30.2,\n",
            " \"signature\": \"nrefs:1|bs:1000|seed:12345|case:mixed|eff:no|tok:intl|smooth:exp|version:2.0.0\",\n",
            " \"confidence_mean\": 30.1,\n",
            " \"confidence_var\": 2.2,\n",
            " \"confidence\": \"μ = 30.1 ± 2.2\",\n",
            " \"verbose_score\": \"62.3/37.8/23.6/15.3 (BP = 0.996 ratio = 0.996 hyp_len = 5771 ref_len = 5792)\",\n",
            " \"nrefs\": \"1\",\n",
            " \"bs\": \"1000\",\n",
            " \"seed\": \"12345\",\n",
            " \"case\": \"mixed\",\n",
            " \"eff\": \"no\",\n",
            " \"tok\": \"intl\",\n",
            " \"smooth\": \"exp\",\n",
            " \"version\": \"2.0.0\"\n",
            "}\n",
            "\u001b[0m{\n",
            " \"name\": \"BLEU\",\n",
            " \"score\": 1.7,\n",
            " \"signature\": \"nrefs:1|bs:1000|seed:12345|case:mixed|eff:no|tok:intl|smooth:exp|version:2.0.0\",\n",
            " \"confidence_mean\": 1.6,\n",
            " \"confidence_var\": 0.7,\n",
            " \"confidence\": \"μ = 1.6 ± 0.7\",\n",
            " \"verbose_score\": \"21.7/2.9/0.6/0.2 (BP = 1.000 ratio = 1.161 hyp_len = 3676 ref_len = 3167)\",\n",
            " \"nrefs\": \"1\",\n",
            " \"bs\": \"1000\",\n",
            " \"seed\": \"12345\",\n",
            " \"case\": \"mixed\",\n",
            " \"eff\": \"no\",\n",
            " \"tok\": \"intl\",\n",
            " \"smooth\": \"exp\",\n",
            " \"version\": \"2.0.0\"\n",
            "}\n",
            "\u001b[0m{\n",
            " \"name\": \"BLEU\",\n",
            " \"score\": 13.6,\n",
            " \"signature\": \"nrefs:1|bs:1000|seed:12345|case:mixed|eff:no|tok:intl|smooth:exp|version:2.0.0\",\n",
            " \"confidence_mean\": 13.6,\n",
            " \"confidence_var\": 1.5,\n",
            " \"confidence\": \"μ = 13.6 ± 1.5\",\n",
            " \"verbose_score\": \"45.2/19.4/9.5/4.8 (BP = 0.959 ratio = 0.960 hyp_len = 6400 ref_len = 6670)\",\n",
            " \"nrefs\": \"1\",\n",
            " \"bs\": \"1000\",\n",
            " \"seed\": \"12345\",\n",
            " \"case\": \"mixed\",\n",
            " \"eff\": \"no\",\n",
            " \"tok\": \"intl\",\n",
            " \"smooth\": \"exp\",\n",
            " \"version\": \"2.0.0\"\n",
            "}\n",
            "\u001b[0m"
          ]
        }
      ]
    },
    {
      "cell_type": "code",
      "metadata": {
        "colab": {
          "base_uri": "https://localhost:8080/"
        },
        "id": "7Ts1EgIvjXQv",
        "outputId": "ec839401-f252-4b77-fff9-4740e1b2e4c0"
      },
      "source": [
        "mbart_chosen.columns"
      ],
      "execution_count": 48,
      "outputs": [
        {
          "output_type": "execute_result",
          "data": {
            "text/plain": [
              "Index(['language_task', 'target_sentence', 'bart_translation',\n",
              "       'bart_paraphrase_score', 'bart_cosine_score', 'indictrans_translation',\n",
              "       'indictrans_paraphrase_score', 'indictrans_cosine_score', 'best_trans',\n",
              "       'best_trans_source', 'cos_change', 'best_paraphrase_cos',\n",
              "       'best_paraphrase_para', 'indictrans_edit', 'bart_edit', 'editd_chosen',\n",
              "       'best_paraphrase_edit'],\n",
              "      dtype='object')"
            ]
          },
          "metadata": {},
          "execution_count": 48
        }
      ]
    },
    {
      "cell_type": "code",
      "metadata": {
        "id": "s-YH5hf5hcjC"
      },
      "source": [
        "# Look at cosine similarity scores for each language when MBart was chosen as the better translator\n",
        "# Select only the cosine similarity scores for both MBart and IndicTrans\n",
        "df = mbart_chosen[[\"language_task\", \"bart_cosine_score\", \"indictrans_cosine_score\"]]\n",
        "\n",
        "# Use melt to reshape the values and allow for multiple column plotting\n",
        "df = df.melt('language_task', var_name='cols',  value_name='vals')"
      ],
      "execution_count": 49,
      "outputs": []
    },
    {
      "cell_type": "code",
      "metadata": {
        "colab": {
          "base_uri": "https://localhost:8080/",
          "height": 206
        },
        "id": "R1AM_jfzjvUv",
        "outputId": "e8f4e4ff-082b-4f46-ea78-b27943f33d7e"
      },
      "source": [
        "df.head()"
      ],
      "execution_count": 50,
      "outputs": [
        {
          "output_type": "execute_result",
          "data": {
            "text/html": [
              "<div>\n",
              "<style scoped>\n",
              "    .dataframe tbody tr th:only-of-type {\n",
              "        vertical-align: middle;\n",
              "    }\n",
              "\n",
              "    .dataframe tbody tr th {\n",
              "        vertical-align: top;\n",
              "    }\n",
              "\n",
              "    .dataframe thead th {\n",
              "        text-align: right;\n",
              "    }\n",
              "</style>\n",
              "<table border=\"1\" class=\"dataframe\">\n",
              "  <thead>\n",
              "    <tr style=\"text-align: right;\">\n",
              "      <th></th>\n",
              "      <th>language_task</th>\n",
              "      <th>cols</th>\n",
              "      <th>vals</th>\n",
              "    </tr>\n",
              "  </thead>\n",
              "  <tbody>\n",
              "    <tr>\n",
              "      <th>0</th>\n",
              "      <td>Hindi</td>\n",
              "      <td>bart_cosine_score</td>\n",
              "      <td>0.949312</td>\n",
              "    </tr>\n",
              "    <tr>\n",
              "      <th>1</th>\n",
              "      <td>Hindi</td>\n",
              "      <td>bart_cosine_score</td>\n",
              "      <td>0.960936</td>\n",
              "    </tr>\n",
              "    <tr>\n",
              "      <th>2</th>\n",
              "      <td>Hindi</td>\n",
              "      <td>bart_cosine_score</td>\n",
              "      <td>0.986871</td>\n",
              "    </tr>\n",
              "    <tr>\n",
              "      <th>3</th>\n",
              "      <td>Hindi</td>\n",
              "      <td>bart_cosine_score</td>\n",
              "      <td>0.945159</td>\n",
              "    </tr>\n",
              "    <tr>\n",
              "      <th>4</th>\n",
              "      <td>Hindi</td>\n",
              "      <td>bart_cosine_score</td>\n",
              "      <td>0.775883</td>\n",
              "    </tr>\n",
              "  </tbody>\n",
              "</table>\n",
              "</div>"
            ],
            "text/plain": [
              "  language_task               cols      vals\n",
              "0         Hindi  bart_cosine_score  0.949312\n",
              "1         Hindi  bart_cosine_score  0.960936\n",
              "2         Hindi  bart_cosine_score  0.986871\n",
              "3         Hindi  bart_cosine_score  0.945159\n",
              "4         Hindi  bart_cosine_score  0.775883"
            ]
          },
          "metadata": {},
          "execution_count": 50
        }
      ]
    },
    {
      "cell_type": "markdown",
      "metadata": {
        "id": "sh8bB02bkKAa"
      },
      "source": [
        "When MBart's translation is chosen as the better translation, it tends to have produced the more semantically similar sentence to the target translation, as measured by cosine similarity (despite having a higher edit distance). "
      ]
    },
    {
      "cell_type": "code",
      "metadata": {
        "colab": {
          "base_uri": "https://localhost:8080/",
          "height": 427
        },
        "id": "40GeUp89jDkQ",
        "outputId": "5edc1f2b-fb38-414d-ee7e-3f50508f2b94"
      },
      "source": [
        "# Plot the reshaped values\n",
        "sns.set(rc={'figure.figsize':(11,6)})\n",
        "sns.boxplot(x = df['language_task'],\n",
        "            y = df['vals'],\n",
        "            hue = df['cols'], palette=\"colorblind\").set_title('Cosine Similarity Scores by Language and Translator for MBart Best')"
      ],
      "execution_count": 51,
      "outputs": [
        {
          "output_type": "execute_result",
          "data": {
            "text/plain": [
              "Text(0.5, 1.0, 'Cosine Similarity Scores by Language and Translator for MBart Best')"
            ]
          },
          "metadata": {},
          "execution_count": 51
        },
        {
          "output_type": "display_data",
          "data": {
            "image/png": "[encoded data removed]",
            "text/plain": [
              "<Figure size 792x432 with 1 Axes>"
            ]
          },
          "metadata": {}
        }
      ]
    },
    {
      "cell_type": "markdown",
      "metadata": {
        "id": "MhY_JrIOk9V3"
      },
      "source": [
        "When IndicTrans' translations are chosen as being \"better\", they too are more semantically similar to the target text as measured by cosine similarity than the MBart translations that were not chosen."
      ]
    },
    {
      "cell_type": "code",
      "metadata": {
        "colab": {
          "base_uri": "https://localhost:8080/",
          "height": 427
        },
        "id": "WZ91OejZkgRm",
        "outputId": "361865b6-1a69-408a-c02c-1c1979902106"
      },
      "source": [
        "# Repeat for IndicTrans cosine scores when IndicTrans' translations are chosen as better\n",
        "df2 = indic_chosen[[\"language_task\", \"bart_cosine_score\", \"indictrans_cosine_score\"]]\n",
        "\n",
        "# Use melt to reshape the values and allow for multiple column plotting\n",
        "df2 = df2.melt('language_task', var_name='cols',  value_name='vals')\n",
        "\n",
        "sns.boxplot(x = df2['language_task'],\n",
        "            y = df2['vals'],\n",
        "            hue = df2['cols'], palette=\"colorblind\").set_title('Cosine Similarity Scores by Language and Translator for IndicTrans Best')"
      ],
      "execution_count": 52,
      "outputs": [
        {
          "output_type": "execute_result",
          "data": {
            "text/plain": [
              "Text(0.5, 1.0, 'Cosine Similarity Scores by Language and Translator for IndicTrans Best')"
            ]
          },
          "metadata": {},
          "execution_count": 52
        },
        {
          "output_type": "display_data",
          "data": {
            "image/png": "[encoded data removed]",
            "text/plain": [
              "<Figure size 792x432 with 1 Axes>"
            ]
          },
          "metadata": {}
        }
      ]
    },
    {
      "cell_type": "code",
      "metadata": {
        "colab": {
          "base_uri": "https://localhost:8080/",
          "height": 427
        },
        "id": "cxU3ByZDegNX",
        "outputId": "56610af6-8056-4ae8-e643-45dc5df7b58d"
      },
      "source": [
        "# Compare the MBart, IndicTrans, and Best Translation cosine similarity scores by language over the entire dataset\n",
        "translator_cos_compare = final[[\"language_task\", \"bart_cosine_score\", \"indictrans_cosine_score\", \"best_paraphrase_cos\"]]\n",
        "\n",
        "# Use melt to reshape the values and allow for multiple column plotting\n",
        "translator_cos_compare = translator_cos_compare.melt('language_task', var_name='cols',  value_name='vals')\n",
        "\n",
        "# The median cosine similarity score is highest when the ensemble method is used\n",
        "sns.boxplot(x = translator_cos_compare['language_task'],\n",
        "            y = translator_cos_compare['vals'],\n",
        "            hue = translator_cos_compare['cols'], palette=\"colorblind\").set_title('Cosine Similarity Scores by Language and Translator (MBART, IndicTrans, or Ensemble)')"
      ],
      "execution_count": 53,
      "outputs": [
        {
          "output_type": "execute_result",
          "data": {
            "text/plain": [
              "Text(0.5, 1.0, 'Cosine Similarity Scores by Language and Translator (Bart, IndicTrans, or Ensemble)')"
            ]
          },
          "metadata": {},
          "execution_count": 53
        },
        {
          "output_type": "display_data",
          "data": {
            "image/png": "[encoded data removed]",
            "text/plain": [
              "<Figure size 792x432 with 1 Axes>"
            ]
          },
          "metadata": {}
        }
      ]
    },
    {
      "cell_type": "code",
      "metadata": {
        "colab": {
          "base_uri": "https://localhost:8080/"
        },
        "id": "eLyPz0FTgaUU",
        "outputId": "e5e13109-e98d-40af-d5d4-0a9c67d343e4"
      },
      "source": [
        "# Get the median cosine scores overall\n",
        "# The ensemble method results in a higher median cosine similarity score\n",
        "print(translator_cos_compare.groupby('cols', as_index=False)['vals'].median(), \"\\n\")\n",
        "\n",
        "#  Get the median cosine scores by language and translator\n",
        "# The ensemble method results in a higher median cosine similarity score for Hindi, Malayalam, and Tamil\n",
        "print(translator_cos_compare.groupby(['language_task', 'cols'], as_index=False)['vals'].median())\n"
      ],
      "execution_count": 54,
      "outputs": [
        {
          "output_type": "stream",
          "name": "stdout",
          "text": [
            "                      cols      vals\n",
            "0        bart_cosine_score  0.913600\n",
            "1      best_paraphrase_cos  0.929733\n",
            "2  indictrans_cosine_score  0.923634 \n",
            "\n",
            "  language_task                     cols      vals\n",
            "0         Hindi        bart_cosine_score  0.931233\n",
            "1         Hindi      best_paraphrase_cos  0.948123\n",
            "2         Hindi  indictrans_cosine_score  0.946205\n",
            "3     Malayalam        bart_cosine_score  0.859585\n",
            "4     Malayalam      best_paraphrase_cos  0.889961\n",
            "5     Malayalam  indictrans_cosine_score  0.881433\n",
            "6         Tamil        bart_cosine_score  0.930840\n",
            "7         Tamil      best_paraphrase_cos  0.942361\n",
            "8         Tamil  indictrans_cosine_score  0.935245\n"
          ]
        }
      ]
    },
    {
      "cell_type": "code",
      "metadata": {
        "colab": {
          "base_uri": "https://localhost:8080/",
          "height": 427
        },
        "id": "6tkmAigRfh7K",
        "outputId": "6e2cb66b-8e04-4aef-8563-3955a970f5a3"
      },
      "source": [
        "# Compare the MBart, IndicTrans, and Best Translation cosine similarity scores by language over the entire dataset\n",
        "translator_edit_compare = final[[\"language_task\", \"bart_edit\", \"indictrans_edit\", \"best_paraphrase_edit\"]]\n",
        "\n",
        "# Use melt to reshape the values and allow for multiple column plotting\n",
        "translator_edit_compare = translator_edit_compare.melt('language_task', var_name='cols',  value_name='vals')\n",
        "\n",
        "# The median cosine similarity score is highest when the ensemble method is used\n",
        "sns.boxplot(x = translator_edit_compare['language_task'],\n",
        "            y = translator_edit_compare['vals'],\n",
        "            hue = translator_edit_compare['cols'], palette=\"colorblind\").set_title('Edit Distances by Language and Translator (MBART, IndicTrans, or Ensemble)')"
      ],
      "execution_count": 55,
      "outputs": [
        {
          "output_type": "execute_result",
          "data": {
            "text/plain": [
              "Text(0.5, 1.0, 'Edit Distances by Language and Translator (Bart, IndicTrans, or Ensemble)')"
            ]
          },
          "metadata": {},
          "execution_count": 55
        },
        {
          "output_type": "display_data",
          "data": {
            "image/png": "[encoded data removed]",
            "text/plain": [
              "<Figure size 792x432 with 1 Axes>"
            ]
          },
          "metadata": {}
        }
      ]
    },
    {
      "cell_type": "code",
      "metadata": {
        "colab": {
          "base_uri": "https://localhost:8080/"
        },
        "id": "ucnJsZWBhbhp",
        "outputId": "61ad48b1-922a-40e6-b722-1d8c2f1f6b89"
      },
      "source": [
        "# Get the median edit distances overall\n",
        "# The ensemble method results in a higher median edit distance than IndicTrans, but less than MBart\n",
        "print(translator_edit_compare.groupby('cols', as_index=False)['vals'].median(), \"\\n\")\n",
        "\n",
        "#  Get the median edit distances by language and translator\n",
        "# The ensemble method results in a higher median edit distance for Hindi and Malayalam, but has the same median edit distance as IndicTrans for Tamil (both are better than MBart)\n",
        "print(translator_edit_compare.groupby(['language_task', 'cols'], as_index=False)['vals'].median())"
      ],
      "execution_count": 56,
      "outputs": [
        {
          "output_type": "stream",
          "name": "stdout",
          "text": [
            "                   cols  vals\n",
            "0             bart_edit    54\n",
            "1  best_paraphrase_edit    46\n",
            "2       indictrans_edit    44 \n",
            "\n",
            "  language_task                  cols  vals\n",
            "0         Hindi             bart_edit  36.0\n",
            "1         Hindi  best_paraphrase_edit  29.0\n",
            "2         Hindi       indictrans_edit  28.5\n",
            "3     Malayalam             bart_edit  75.0\n",
            "4     Malayalam  best_paraphrase_edit  58.0\n",
            "5     Malayalam       indictrans_edit  55.0\n",
            "6         Tamil             bart_edit  55.5\n",
            "7         Tamil  best_paraphrase_edit  53.0\n",
            "8         Tamil       indictrans_edit  53.0\n"
          ]
        }
      ]
    },
    {
      "cell_type": "code",
      "metadata": {
        "colab": {
          "base_uri": "https://localhost:8080/"
        },
        "id": "bjDQ4iS9paKC",
        "outputId": "3d229a3a-dd76-46cb-8daa-c955b2328340"
      },
      "source": [
        "# Look at the magnitude of the difference between paraphrase probability scores of the translation chosen and the one not chosen\n",
        "# by language\n",
        "indic_chosen['p_score_diff'] = indic_chosen['indictrans_paraphrase_score'] - indic_chosen['bart_paraphrase_score']\n",
        "print(indic_chosen.p_score_diff.min(), \"\\n\")\n",
        "print(indic_chosen.p_score_diff.median(), \"\\n\")\n",
        "print(indic_chosen.p_score_diff.max(), \"\\n\")"
      ],
      "execution_count": 69,
      "outputs": [
        {
          "output_type": "stream",
          "name": "stdout",
          "text": [
            "0.0 \n",
            "\n",
            "0.11022770404815674 \n",
            "\n",
            "0.9725747983902693 \n",
            "\n"
          ]
        },
        {
          "output_type": "stream",
          "name": "stderr",
          "text": [
            "/usr/local/lib/python3.7/dist-packages/ipykernel_launcher.py:3: SettingWithCopyWarning: \n",
            "A value is trying to be set on a copy of a slice from a DataFrame.\n",
            "Try using .loc[row_indexer,col_indexer] = value instead\n",
            "\n",
            "See the caveats in the documentation: https://pandas.pydata.org/pandas-docs/stable/user_guide/indexing.html#returning-a-view-versus-a-copy\n",
            "  This is separate from the ipykernel package so we can avoid doing imports until\n"
          ]
        }
      ]
    },
    {
      "cell_type": "code",
      "metadata": {
        "colab": {
          "base_uri": "https://localhost:8080/",
          "height": 427
        },
        "id": "8_pu8-0lqS3h",
        "outputId": "aaa85244-c33c-4a6c-a2c4-772265758619"
      },
      "source": [
        "# Repeat for IndicTrans cosine scores when IndicTrans' translations are chosen as better\n",
        "indic_chosen_p_diff = indic_chosen[[\"language_task\", \"p_score_diff\"]]\n",
        "\n",
        "# When IndicTrans is chosen as the translator, there is a large separation in paraphrase probability scores\n",
        "# between its translations and those of MBART for Malayalam and Tamil\n",
        "# the difference is smaller for Hindi\n",
        "sns.boxplot(x = indic_chosen_p_diff['language_task'],\n",
        "            y = indic_chosen_p_diff['p_score_diff']\n",
        "            , palette=\"colorblind\").set_title('SNN Difference in Translator P Scores for IndicTrans Best')"
      ],
      "execution_count": 76,
      "outputs": [
        {
          "output_type": "execute_result",
          "data": {
            "text/plain": [
              "Text(0.5, 1.0, 'SNN Difference in Translator P Scores for IndicTrans Best')"
            ]
          },
          "metadata": {},
          "execution_count": 76
        },
        {
          "output_type": "display_data",
          "data": {
            "image/png": "[encoded data removed]",
            "text/plain": [
              "<Figure size 792x432 with 1 Axes>"
            ]
          },
          "metadata": {}
        }
      ]
    },
    {
      "cell_type": "code",
      "metadata": {
        "colab": {
          "base_uri": "https://localhost:8080/"
        },
        "id": "mOazyMwGs-Su",
        "outputId": "5269d494-02dc-42d0-8f21-5f5e2600c0bf"
      },
      "source": [
        "# Look at the magnitude of the difference between paraphrase probability scores of the translation chosen and the one not chosen\n",
        "# by language\n",
        "mbart_chosen['p_score_diff'] = mbart_chosen['bart_paraphrase_score'] - mbart_chosen['indictrans_paraphrase_score']\n",
        "print(mbart_chosen.p_score_diff.min(), \"\\n\")\n",
        "print(mbart_chosen.p_score_diff.median(), \"\\n\")\n",
        "print(mbart_chosen.p_score_diff.max(), \"\\n\")"
      ],
      "execution_count": 73,
      "outputs": [
        {
          "output_type": "stream",
          "name": "stdout",
          "text": [
            "1.782178878806384e-05 \n",
            "\n",
            "0.08064673840999603 \n",
            "\n",
            "0.9089924432337284 \n",
            "\n"
          ]
        },
        {
          "output_type": "stream",
          "name": "stderr",
          "text": [
            "/usr/local/lib/python3.7/dist-packages/ipykernel_launcher.py:3: SettingWithCopyWarning: \n",
            "A value is trying to be set on a copy of a slice from a DataFrame.\n",
            "Try using .loc[row_indexer,col_indexer] = value instead\n",
            "\n",
            "See the caveats in the documentation: https://pandas.pydata.org/pandas-docs/stable/user_guide/indexing.html#returning-a-view-versus-a-copy\n",
            "  This is separate from the ipykernel package so we can avoid doing imports until\n"
          ]
        }
      ]
    },
    {
      "cell_type": "code",
      "metadata": {
        "colab": {
          "base_uri": "https://localhost:8080/",
          "height": 427
        },
        "id": "O_5CuNQ3tHyi",
        "outputId": "3920d882-8e22-4d23-f500-2b855b7621ce"
      },
      "source": [
        "# Repeat for IndicTrans cosine scores when IndicTrans' translations are chosen as better\n",
        "mbart_chosen_p_diff = mbart_chosen[[\"language_task\", \"p_score_diff\"]]\n",
        "\n",
        "# When MBART is picked as the translator, there is a greater range of values for the difference for its P scores and those of IndicTrans for Tamil and Malayalam\n",
        "# Less so for IndicTrans\n",
        "sns.boxplot(x = mbart_chosen_p_diff['language_task'],\n",
        "            y = mbart_chosen_p_diff['p_score_diff'], palette=\"colorblind\").set_title('SNN Difference in Translator P Scores for MBART Best')"
      ],
      "execution_count": 77,
      "outputs": [
        {
          "output_type": "execute_result",
          "data": {
            "text/plain": [
              "Text(0.5, 1.0, 'SNN Difference in Translator P Scores for MBART Best')"
            ]
          },
          "metadata": {},
          "execution_count": 77
        },
        {
          "output_type": "display_data",
          "data": {
            "image/png": "[encoded data removed]",
            "text/plain": [
              "<Figure size 792x432 with 1 Axes>"
            ]
          },
          "metadata": {}
        }
      ]
    }
  ]
}