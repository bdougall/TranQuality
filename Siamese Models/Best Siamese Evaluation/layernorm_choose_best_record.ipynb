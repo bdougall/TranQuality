{
  "nbformat": 4,
  "nbformat_minor": 0,
  "metadata": {
    "colab": {
      "name": "layernorm_choose_best_record.ipynb",
      "provenance": [],
      "collapsed_sections": []
    },
    "kernelspec": {
      "name": "python3",
      "display_name": "Python 3"
    },
    "language_info": {
      "name": "python"
    }
  },
  "cells": [
    {
      "cell_type": "code",
      "metadata": {
        "colab": {
          "base_uri": "https://localhost:8080/"
        },
        "id": "YO6KSPvD2uaw",
        "outputId": "e60d0d20-442f-4ce4-ad7c-fbf9ff85a194"
      },
      "source": [
        "!pip install sacrebleu -q"
      ],
      "execution_count": 1,
      "outputs": [
        {
          "output_type": "stream",
          "name": "stdout",
          "text": [
            "\u001b[?25l\r\u001b[K     |███▋                            | 10 kB 19.6 MB/s eta 0:00:01\r\u001b[K     |███████▏                        | 20 kB 23.4 MB/s eta 0:00:01\r\u001b[K     |██████████▉                     | 30 kB 24.9 MB/s eta 0:00:01\r\u001b[K     |██████████████▍                 | 40 kB 18.6 MB/s eta 0:00:01\r\u001b[K     |██████████████████              | 51 kB 5.6 MB/s eta 0:00:01\r\u001b[K     |█████████████████████▋          | 61 kB 6.5 MB/s eta 0:00:01\r\u001b[K     |█████████████████████████▎      | 71 kB 7.4 MB/s eta 0:00:01\r\u001b[K     |████████████████████████████▉   | 81 kB 8.3 MB/s eta 0:00:01\r\u001b[K     |████████████████████████████████| 90 kB 3.6 MB/s \n",
            "\u001b[?25h"
          ]
        }
      ]
    },
    {
      "cell_type": "code",
      "metadata": {
        "colab": {
          "base_uri": "https://localhost:8080/"
        },
        "id": "5iLUODzYUmlX",
        "outputId": "c362b9a2-add5-4d36-91b1-54f51bebd20e"
      },
      "source": [
        "# Mount Google drive to upload datasets\n",
        "from google.colab import drive\n",
        "drive.mount('/content/drive')"
      ],
      "execution_count": 2,
      "outputs": [
        {
          "output_type": "stream",
          "name": "stdout",
          "text": [
            "Mounted at /content/drive\n"
          ]
        }
      ]
    },
    {
      "cell_type": "code",
      "metadata": {
        "id": "xn8OyIVSWD3H"
      },
      "source": [
        "# The path to the data on my drive\n",
        "D = '/content/drive/My Drive/W266_Project_Data/pmi_data'"
      ],
      "execution_count": 3,
      "outputs": []
    },
    {
      "cell_type": "code",
      "metadata": {
        "id": "T52H4_SuiXJj"
      },
      "source": [
        "import pandas as pd\n",
        "import numpy as np"
      ],
      "execution_count": 4,
      "outputs": []
    },
    {
      "cell_type": "code",
      "metadata": {
        "id": "pkEKYkxhh3tn"
      },
      "source": [
        "# Load the eval files for each model's translations\n",
        "bart_eval = pd.read_csv(D+\"/predicted_text/siamese_evaluations_of_translations/bart_siamese_paraphrase_eval_layernorm.csv\")\n",
        "bart_eval.drop(columns={'Unnamed: 0'}, inplace=True)\n",
        "indictrans_eval = pd.read_csv(D+\"/predicted_text/siamese_evaluations_of_translations/indictrans_siamese_paraphrase_eval_layernorm.csv\")\n",
        "indictrans_eval.drop(columns={'Unnamed: 0'}, inplace=True)"
      ],
      "execution_count": 5,
      "outputs": []
    },
    {
      "cell_type": "code",
      "metadata": {
        "colab": {
          "base_uri": "https://localhost:8080/",
          "height": 293
        },
        "id": "Myrlu_7Yid3N",
        "outputId": "29ecfc2a-268d-4c6e-a151-ae6b88c659c8"
      },
      "source": [
        "# View the first few records in each file\n",
        "bart_eval.head()"
      ],
      "execution_count": 6,
      "outputs": [
        {
          "output_type": "execute_result",
          "data": {
            "text/html": [
              "<div>\n",
              "<style scoped>\n",
              "    .dataframe tbody tr th:only-of-type {\n",
              "        vertical-align: middle;\n",
              "    }\n",
              "\n",
              "    .dataframe tbody tr th {\n",
              "        vertical-align: top;\n",
              "    }\n",
              "\n",
              "    .dataframe thead th {\n",
              "        text-align: right;\n",
              "    }\n",
              "</style>\n",
              "<table border=\"1\" class=\"dataframe\">\n",
              "  <thead>\n",
              "    <tr style=\"text-align: right;\">\n",
              "      <th></th>\n",
              "      <th>language_task</th>\n",
              "      <th>target_sentence</th>\n",
              "      <th>bart_translation</th>\n",
              "      <th>probability_of_paraphrase</th>\n",
              "      <th>cosine_similarity_scores</th>\n",
              "    </tr>\n",
              "  </thead>\n",
              "  <tbody>\n",
              "    <tr>\n",
              "      <th>0</th>\n",
              "      <td>translate English to Hindi</td>\n",
              "      <td>प्रधानमंत्री ने कहा कि बाबा साहेब अम्बेडकर की ...</td>\n",
              "      <td>Prime Minister said Babasaheb Ambedkar has a k...</td>\n",
              "      <td>0.296427</td>\n",
              "      <td>0.770237</td>\n",
              "    </tr>\n",
              "    <tr>\n",
              "      <th>1</th>\n",
              "      <td>translate English to Hindi</td>\n",
              "      <td>इस समारोह को आज बीजापुर में आयोजित करने के महत...</td>\n",
              "      <td>आज बीजापुर में इस समारोह को आयोजित करने के महत...</td>\n",
              "      <td>0.961452</td>\n",
              "      <td>0.946777</td>\n",
              "    </tr>\n",
              "    <tr>\n",
              "      <th>2</th>\n",
              "      <td>translate English to Hindi</td>\n",
              "      <td>उन्होंने कहा कि इस कार्य को 2022 तक पूरा कर ले...</td>\n",
              "      <td>उन्होंने कहा कि लक्ष्य 2022 तक इस कार्य को पूर...</td>\n",
              "      <td>0.984172</td>\n",
              "      <td>0.956433</td>\n",
              "    </tr>\n",
              "    <tr>\n",
              "      <th>3</th>\n",
              "      <td>translate English to Hindi</td>\n",
              "      <td>प्रधानमंत्री ने कहा कि सरकार स्पष्ट लक्ष्यों औ...</td>\n",
              "      <td>प्रधानमंत्री ने कहा कि सरकार स्पष्ट लक्ष्यों औ...</td>\n",
              "      <td>0.987658</td>\n",
              "      <td>0.965325</td>\n",
              "    </tr>\n",
              "    <tr>\n",
              "      <th>4</th>\n",
              "      <td>translate English to Hindi</td>\n",
              "      <td>उन्होंने इस संदर्भ में जन धन खाता खोलने, गरीबो...</td>\n",
              "      <td>इस संदर्भ में उन्होंने जनधन खाते खोलने, गरीबों...</td>\n",
              "      <td>0.979594</td>\n",
              "      <td>0.979276</td>\n",
              "    </tr>\n",
              "  </tbody>\n",
              "</table>\n",
              "</div>"
            ],
            "text/plain": [
              "                language_task  ... cosine_similarity_scores\n",
              "0  translate English to Hindi  ...                 0.770237\n",
              "1  translate English to Hindi  ...                 0.946777\n",
              "2  translate English to Hindi  ...                 0.956433\n",
              "3  translate English to Hindi  ...                 0.965325\n",
              "4  translate English to Hindi  ...                 0.979276\n",
              "\n",
              "[5 rows x 5 columns]"
            ]
          },
          "metadata": {},
          "execution_count": 6
        }
      ]
    },
    {
      "cell_type": "code",
      "metadata": {
        "colab": {
          "base_uri": "https://localhost:8080/",
          "height": 206
        },
        "id": "OYdCS62iivyi",
        "outputId": "6c4d3a07-4f91-4fce-e737-9615562d29d5"
      },
      "source": [
        "indictrans_eval.head()"
      ],
      "execution_count": 7,
      "outputs": [
        {
          "output_type": "execute_result",
          "data": {
            "text/html": [
              "<div>\n",
              "<style scoped>\n",
              "    .dataframe tbody tr th:only-of-type {\n",
              "        vertical-align: middle;\n",
              "    }\n",
              "\n",
              "    .dataframe tbody tr th {\n",
              "        vertical-align: top;\n",
              "    }\n",
              "\n",
              "    .dataframe thead th {\n",
              "        text-align: right;\n",
              "    }\n",
              "</style>\n",
              "<table border=\"1\" class=\"dataframe\">\n",
              "  <thead>\n",
              "    <tr style=\"text-align: right;\">\n",
              "      <th></th>\n",
              "      <th>language_task</th>\n",
              "      <th>target_sentence</th>\n",
              "      <th>indictrans_translation</th>\n",
              "      <th>probability_of_paraphrase</th>\n",
              "      <th>cosine_similarity_scores</th>\n",
              "    </tr>\n",
              "  </thead>\n",
              "  <tbody>\n",
              "    <tr>\n",
              "      <th>0</th>\n",
              "      <td>translate English to Hindi</td>\n",
              "      <td>प्रधानमंत्री ने कहा कि बाबा साहेब अम्बेडकर की ...</td>\n",
              "      <td>प्रधानमंत्री ने कहा कि करोड़ों लोगों के दिलों ...</td>\n",
              "      <td>0.964050</td>\n",
              "      <td>0.948379</td>\n",
              "    </tr>\n",
              "    <tr>\n",
              "      <th>1</th>\n",
              "      <td>translate English to Hindi</td>\n",
              "      <td>इस समारोह को आज बीजापुर में आयोजित करने के महत...</td>\n",
              "      <td>आज बीजापुर में इस कार्यक्रम के आयोजन के महत्व ...</td>\n",
              "      <td>0.975653</td>\n",
              "      <td>0.973164</td>\n",
              "    </tr>\n",
              "    <tr>\n",
              "      <th>2</th>\n",
              "      <td>translate English to Hindi</td>\n",
              "      <td>उन्होंने कहा कि इस कार्य को 2022 तक पूरा कर ले...</td>\n",
              "      <td>उन्होंने कहा कि इस कार्य को 2022 तक पूरा करने ...</td>\n",
              "      <td>0.987264</td>\n",
              "      <td>0.985965</td>\n",
              "    </tr>\n",
              "    <tr>\n",
              "      <th>3</th>\n",
              "      <td>translate English to Hindi</td>\n",
              "      <td>प्रधानमंत्री ने कहा कि सरकार स्पष्ट लक्ष्यों औ...</td>\n",
              "      <td>प्रधानमंत्री ने कहा कि सरकार स्पष्ट लक्ष्यों औ...</td>\n",
              "      <td>0.989116</td>\n",
              "      <td>0.986373</td>\n",
              "    </tr>\n",
              "    <tr>\n",
              "      <th>4</th>\n",
              "      <td>translate English to Hindi</td>\n",
              "      <td>उन्होंने इस संदर्भ में जन धन खाता खोलने, गरीबो...</td>\n",
              "      <td>इस संदर्भ में उन्होंने जन धन खाते खोलने, गरीबो...</td>\n",
              "      <td>0.986208</td>\n",
              "      <td>0.992806</td>\n",
              "    </tr>\n",
              "  </tbody>\n",
              "</table>\n",
              "</div>"
            ],
            "text/plain": [
              "                language_task  ... cosine_similarity_scores\n",
              "0  translate English to Hindi  ...                 0.948379\n",
              "1  translate English to Hindi  ...                 0.973164\n",
              "2  translate English to Hindi  ...                 0.985965\n",
              "3  translate English to Hindi  ...                 0.986373\n",
              "4  translate English to Hindi  ...                 0.992806\n",
              "\n",
              "[5 rows x 5 columns]"
            ]
          },
          "metadata": {},
          "execution_count": 7
        }
      ]
    },
    {
      "cell_type": "code",
      "metadata": {
        "id": "4DbA74WdjkYk"
      },
      "source": [
        "result = pd.merge(bart_eval, indictrans_eval, how=\"outer\", on=[\"target_sentence\"])"
      ],
      "execution_count": 8,
      "outputs": []
    },
    {
      "cell_type": "code",
      "metadata": {
        "colab": {
          "base_uri": "https://localhost:8080/",
          "height": 878
        },
        "id": "PTkZHi9ajrL7",
        "outputId": "f8344988-2d76-4b38-aee7-652b3c2136d5"
      },
      "source": [
        "# View several rows\n",
        "result"
      ],
      "execution_count": 9,
      "outputs": [
        {
          "output_type": "execute_result",
          "data": {
            "text/html": [
              "<div>\n",
              "<style scoped>\n",
              "    .dataframe tbody tr th:only-of-type {\n",
              "        vertical-align: middle;\n",
              "    }\n",
              "\n",
              "    .dataframe tbody tr th {\n",
              "        vertical-align: top;\n",
              "    }\n",
              "\n",
              "    .dataframe thead th {\n",
              "        text-align: right;\n",
              "    }\n",
              "</style>\n",
              "<table border=\"1\" class=\"dataframe\">\n",
              "  <thead>\n",
              "    <tr style=\"text-align: right;\">\n",
              "      <th></th>\n",
              "      <th>language_task_x</th>\n",
              "      <th>target_sentence</th>\n",
              "      <th>bart_translation</th>\n",
              "      <th>probability_of_paraphrase_x</th>\n",
              "      <th>cosine_similarity_scores_x</th>\n",
              "      <th>language_task_y</th>\n",
              "      <th>indictrans_translation</th>\n",
              "      <th>probability_of_paraphrase_y</th>\n",
              "      <th>cosine_similarity_scores_y</th>\n",
              "    </tr>\n",
              "  </thead>\n",
              "  <tbody>\n",
              "    <tr>\n",
              "      <th>0</th>\n",
              "      <td>translate English to Hindi</td>\n",
              "      <td>प्रधानमंत्री ने कहा कि बाबा साहेब अम्बेडकर की ...</td>\n",
              "      <td>Prime Minister said Babasaheb Ambedkar has a k...</td>\n",
              "      <td>0.296427</td>\n",
              "      <td>0.770237</td>\n",
              "      <td>translate English to Hindi</td>\n",
              "      <td>प्रधानमंत्री ने कहा कि करोड़ों लोगों के दिलों ...</td>\n",
              "      <td>0.964050</td>\n",
              "      <td>0.948379</td>\n",
              "    </tr>\n",
              "    <tr>\n",
              "      <th>1</th>\n",
              "      <td>translate English to Hindi</td>\n",
              "      <td>इस समारोह को आज बीजापुर में आयोजित करने के महत...</td>\n",
              "      <td>आज बीजापुर में इस समारोह को आयोजित करने के महत...</td>\n",
              "      <td>0.961452</td>\n",
              "      <td>0.946777</td>\n",
              "      <td>translate English to Hindi</td>\n",
              "      <td>आज बीजापुर में इस कार्यक्रम के आयोजन के महत्व ...</td>\n",
              "      <td>0.975653</td>\n",
              "      <td>0.973164</td>\n",
              "    </tr>\n",
              "    <tr>\n",
              "      <th>2</th>\n",
              "      <td>translate English to Hindi</td>\n",
              "      <td>उन्होंने कहा कि इस कार्य को 2022 तक पूरा कर ले...</td>\n",
              "      <td>उन्होंने कहा कि लक्ष्य 2022 तक इस कार्य को पूर...</td>\n",
              "      <td>0.984172</td>\n",
              "      <td>0.956433</td>\n",
              "      <td>translate English to Hindi</td>\n",
              "      <td>उन्होंने कहा कि इस कार्य को 2022 तक पूरा करने ...</td>\n",
              "      <td>0.987264</td>\n",
              "      <td>0.985965</td>\n",
              "    </tr>\n",
              "    <tr>\n",
              "      <th>3</th>\n",
              "      <td>translate English to Hindi</td>\n",
              "      <td>प्रधानमंत्री ने कहा कि सरकार स्पष्ट लक्ष्यों औ...</td>\n",
              "      <td>प्रधानमंत्री ने कहा कि सरकार स्पष्ट लक्ष्यों औ...</td>\n",
              "      <td>0.987658</td>\n",
              "      <td>0.965325</td>\n",
              "      <td>translate English to Hindi</td>\n",
              "      <td>प्रधानमंत्री ने कहा कि सरकार स्पष्ट लक्ष्यों औ...</td>\n",
              "      <td>0.989116</td>\n",
              "      <td>0.986373</td>\n",
              "    </tr>\n",
              "    <tr>\n",
              "      <th>4</th>\n",
              "      <td>translate English to Hindi</td>\n",
              "      <td>उन्होंने इस संदर्भ में जन धन खाता खोलने, गरीबो...</td>\n",
              "      <td>इस संदर्भ में उन्होंने जनधन खाते खोलने, गरीबों...</td>\n",
              "      <td>0.979594</td>\n",
              "      <td>0.979276</td>\n",
              "      <td>translate English to Hindi</td>\n",
              "      <td>इस संदर्भ में उन्होंने जन धन खाते खोलने, गरीबो...</td>\n",
              "      <td>0.986208</td>\n",
              "      <td>0.992806</td>\n",
              "    </tr>\n",
              "    <tr>\n",
              "      <th>...</th>\n",
              "      <td>...</td>\n",
              "      <td>...</td>\n",
              "      <td>...</td>\n",
              "      <td>...</td>\n",
              "      <td>...</td>\n",
              "      <td>...</td>\n",
              "      <td>...</td>\n",
              "      <td>...</td>\n",
              "      <td>...</td>\n",
              "    </tr>\n",
              "    <tr>\n",
              "      <th>2995</th>\n",
              "      <td>translate English to Tamil</td>\n",
              "      <td>6. மியான்மர் மத்திய தேர்தல் ஆணையம்</td>\n",
              "      <td>vi. மியான்மர் மத்திய தேர்தல் ஆணையம்;</td>\n",
              "      <td>0.959036</td>\n",
              "      <td>0.911552</td>\n",
              "      <td>translate English to Tamil</td>\n",
              "      <td>மியான்மர் ஒன்றிய தேர்தல் ஆணையம் மற்றும்</td>\n",
              "      <td>0.517491</td>\n",
              "      <td>0.760211</td>\n",
              "    </tr>\n",
              "    <tr>\n",
              "      <th>2996</th>\n",
              "      <td>translate English to Tamil</td>\n",
              "      <td>“சுதந்திரம் பெற்ற பிறகு ஏராளமானவை நிறைவேற்றப்ப...</td>\n",
              "      <td>சுதந்திரத்திற்குப் பிறகு பல சாதனைகள் ஏற்பட்டுள...</td>\n",
              "      <td>0.148377</td>\n",
              "      <td>0.878720</td>\n",
              "      <td>translate English to Tamil</td>\n",
              "      <td>நாடு சுதந்திரம் அடைந்ததிலிருந்து பல சாதனைகள் ப...</td>\n",
              "      <td>0.467208</td>\n",
              "      <td>0.886990</td>\n",
              "    </tr>\n",
              "    <tr>\n",
              "      <th>2997</th>\n",
              "      <td>translate English to Tamil</td>\n",
              "      <td>பொது மக்களின் பங்களிப்பு, தகவல் ஓட்டத்தின் முற...</td>\n",
              "      <td>ஜன் பாகிதாரி உள்ளிட்ட நல்ல நிர்வாகத்தின் சில அ...</td>\n",
              "      <td>0.186916</td>\n",
              "      <td>0.932954</td>\n",
              "      <td>translate English to Tamil</td>\n",
              "      <td>மக்கள் பங்கேற்பு, தகவல் பரிமாற்றம், ஆதாரங்களை ...</td>\n",
              "      <td>0.100424</td>\n",
              "      <td>0.961721</td>\n",
              "    </tr>\n",
              "    <tr>\n",
              "      <th>2998</th>\n",
              "      <td>translate English to Tamil</td>\n",
              "      <td>ஊரக சுயாட்சி திட்டம், வளமான பாரதம் போன்ற சமீபத...</td>\n",
              "      <td>கிராம சுயாட்சி இயக்கம், ஆயுஷ்மான் பாரத் போன்ற ...</td>\n",
              "      <td>0.722682</td>\n",
              "      <td>0.942588</td>\n",
              "      <td>translate English to Tamil</td>\n",
              "      <td>அண்மையில் மேற்கொள்ளப்பட்ட கிராம சுயாட்சி இயக்க...</td>\n",
              "      <td>0.800613</td>\n",
              "      <td>0.935723</td>\n",
              "    </tr>\n",
              "    <tr>\n",
              "      <th>2999</th>\n",
              "      <td>translate English to Tamil</td>\n",
              "      <td>இந்தியாவின் 130 லட்சம் மக்கள் சார்பில் உங்கள் ...</td>\n",
              "      <td>இந்தியாவின் மூன்று பில்லியன் மக்களின் சார்பில்...</td>\n",
              "      <td>0.352053</td>\n",
              "      <td>0.942548</td>\n",
              "      <td>translate English to Tamil</td>\n",
              "      <td>இந்தியாவின் 130 கோடி மக்களின் சார்பாக உங்கள் அ...</td>\n",
              "      <td>0.953314</td>\n",
              "      <td>0.979156</td>\n",
              "    </tr>\n",
              "  </tbody>\n",
              "</table>\n",
              "<p>3000 rows × 9 columns</p>\n",
              "</div>"
            ],
            "text/plain": [
              "                 language_task_x  ... cosine_similarity_scores_y\n",
              "0     translate English to Hindi  ...                   0.948379\n",
              "1     translate English to Hindi  ...                   0.973164\n",
              "2     translate English to Hindi  ...                   0.985965\n",
              "3     translate English to Hindi  ...                   0.986373\n",
              "4     translate English to Hindi  ...                   0.992806\n",
              "...                          ...  ...                        ...\n",
              "2995  translate English to Tamil  ...                   0.760211\n",
              "2996  translate English to Tamil  ...                   0.886990\n",
              "2997  translate English to Tamil  ...                   0.961721\n",
              "2998  translate English to Tamil  ...                   0.935723\n",
              "2999  translate English to Tamil  ...                   0.979156\n",
              "\n",
              "[3000 rows x 9 columns]"
            ]
          },
          "metadata": {},
          "execution_count": 9
        }
      ]
    },
    {
      "cell_type": "code",
      "metadata": {
        "colab": {
          "base_uri": "https://localhost:8080/"
        },
        "id": "cIAFn603j5JJ",
        "outputId": "c71967b8-1e9a-4809-f5e2-02df52840a93"
      },
      "source": [
        "# The language task field is also the same everywhere - we'll drop one instance of this column and rename the other\n",
        "result['language_task_x'].equals(result['language_task_y'])"
      ],
      "execution_count": 10,
      "outputs": [
        {
          "output_type": "execute_result",
          "data": {
            "text/plain": [
              "True"
            ]
          },
          "metadata": {},
          "execution_count": 10
        }
      ]
    },
    {
      "cell_type": "code",
      "metadata": {
        "colab": {
          "base_uri": "https://localhost:8080/"
        },
        "id": "DGKSzhwMkd-e",
        "outputId": "aa222a0a-a212-4520-b216-0eda37eadb7d"
      },
      "source": [
        "result.columns"
      ],
      "execution_count": 11,
      "outputs": [
        {
          "output_type": "execute_result",
          "data": {
            "text/plain": [
              "Index(['language_task_x', 'target_sentence', 'bart_translation',\n",
              "       'probability_of_paraphrase_x', 'cosine_similarity_scores_x',\n",
              "       'language_task_y', 'indictrans_translation',\n",
              "       'probability_of_paraphrase_y', 'cosine_similarity_scores_y'],\n",
              "      dtype='object')"
            ]
          },
          "metadata": {},
          "execution_count": 11
        }
      ]
    },
    {
      "cell_type": "code",
      "metadata": {
        "id": "Jqbibf3AkNbc"
      },
      "source": [
        "# Drop the redundant column\n",
        "result.drop(columns={'language_task_y'}, inplace=True)\n",
        "\n",
        "# Rename the columns of interest\n",
        "result.rename(columns={'language_task_x': 'language_task', 'probability_of_paraphrase_x': 'bart_paraphrase_score',\n",
        "                       'cosine_similarity_scores_x': 'bart_cosine_score', 'probability_of_paraphrase_y': 'indictrans_paraphrase_score',\n",
        "                       'cosine_similarity_scores_y': 'indictrans_cosine_score'}, inplace=True)"
      ],
      "execution_count": 12,
      "outputs": []
    },
    {
      "cell_type": "code",
      "metadata": {
        "colab": {
          "base_uri": "https://localhost:8080/",
          "height": 417
        },
        "id": "od1y6TA1mBNK",
        "outputId": "199dc4c8-e350-44f5-a3af-0a59fb243753"
      },
      "source": [
        "result.head()"
      ],
      "execution_count": 13,
      "outputs": [
        {
          "output_type": "execute_result",
          "data": {
            "text/html": [
              "<div>\n",
              "<style scoped>\n",
              "    .dataframe tbody tr th:only-of-type {\n",
              "        vertical-align: middle;\n",
              "    }\n",
              "\n",
              "    .dataframe tbody tr th {\n",
              "        vertical-align: top;\n",
              "    }\n",
              "\n",
              "    .dataframe thead th {\n",
              "        text-align: right;\n",
              "    }\n",
              "</style>\n",
              "<table border=\"1\" class=\"dataframe\">\n",
              "  <thead>\n",
              "    <tr style=\"text-align: right;\">\n",
              "      <th></th>\n",
              "      <th>language_task</th>\n",
              "      <th>target_sentence</th>\n",
              "      <th>bart_translation</th>\n",
              "      <th>bart_paraphrase_score</th>\n",
              "      <th>bart_cosine_score</th>\n",
              "      <th>indictrans_translation</th>\n",
              "      <th>indictrans_paraphrase_score</th>\n",
              "      <th>indictrans_cosine_score</th>\n",
              "    </tr>\n",
              "  </thead>\n",
              "  <tbody>\n",
              "    <tr>\n",
              "      <th>0</th>\n",
              "      <td>translate English to Hindi</td>\n",
              "      <td>प्रधानमंत्री ने कहा कि बाबा साहेब अम्बेडकर की ...</td>\n",
              "      <td>Prime Minister said Babasaheb Ambedkar has a k...</td>\n",
              "      <td>0.296427</td>\n",
              "      <td>0.770237</td>\n",
              "      <td>प्रधानमंत्री ने कहा कि करोड़ों लोगों के दिलों ...</td>\n",
              "      <td>0.964050</td>\n",
              "      <td>0.948379</td>\n",
              "    </tr>\n",
              "    <tr>\n",
              "      <th>1</th>\n",
              "      <td>translate English to Hindi</td>\n",
              "      <td>इस समारोह को आज बीजापुर में आयोजित करने के महत...</td>\n",
              "      <td>आज बीजापुर में इस समारोह को आयोजित करने के महत...</td>\n",
              "      <td>0.961452</td>\n",
              "      <td>0.946777</td>\n",
              "      <td>आज बीजापुर में इस कार्यक्रम के आयोजन के महत्व ...</td>\n",
              "      <td>0.975653</td>\n",
              "      <td>0.973164</td>\n",
              "    </tr>\n",
              "    <tr>\n",
              "      <th>2</th>\n",
              "      <td>translate English to Hindi</td>\n",
              "      <td>उन्होंने कहा कि इस कार्य को 2022 तक पूरा कर ले...</td>\n",
              "      <td>उन्होंने कहा कि लक्ष्य 2022 तक इस कार्य को पूर...</td>\n",
              "      <td>0.984172</td>\n",
              "      <td>0.956433</td>\n",
              "      <td>उन्होंने कहा कि इस कार्य को 2022 तक पूरा करने ...</td>\n",
              "      <td>0.987264</td>\n",
              "      <td>0.985965</td>\n",
              "    </tr>\n",
              "    <tr>\n",
              "      <th>3</th>\n",
              "      <td>translate English to Hindi</td>\n",
              "      <td>प्रधानमंत्री ने कहा कि सरकार स्पष्ट लक्ष्यों औ...</td>\n",
              "      <td>प्रधानमंत्री ने कहा कि सरकार स्पष्ट लक्ष्यों औ...</td>\n",
              "      <td>0.987658</td>\n",
              "      <td>0.965325</td>\n",
              "      <td>प्रधानमंत्री ने कहा कि सरकार स्पष्ट लक्ष्यों औ...</td>\n",
              "      <td>0.989116</td>\n",
              "      <td>0.986373</td>\n",
              "    </tr>\n",
              "    <tr>\n",
              "      <th>4</th>\n",
              "      <td>translate English to Hindi</td>\n",
              "      <td>उन्होंने इस संदर्भ में जन धन खाता खोलने, गरीबो...</td>\n",
              "      <td>इस संदर्भ में उन्होंने जनधन खाते खोलने, गरीबों...</td>\n",
              "      <td>0.979594</td>\n",
              "      <td>0.979276</td>\n",
              "      <td>इस संदर्भ में उन्होंने जन धन खाते खोलने, गरीबो...</td>\n",
              "      <td>0.986208</td>\n",
              "      <td>0.992806</td>\n",
              "    </tr>\n",
              "  </tbody>\n",
              "</table>\n",
              "</div>"
            ],
            "text/plain": [
              "                language_task  ... indictrans_cosine_score\n",
              "0  translate English to Hindi  ...                0.948379\n",
              "1  translate English to Hindi  ...                0.973164\n",
              "2  translate English to Hindi  ...                0.985965\n",
              "3  translate English to Hindi  ...                0.986373\n",
              "4  translate English to Hindi  ...                0.992806\n",
              "\n",
              "[5 rows x 8 columns]"
            ]
          },
          "metadata": {},
          "execution_count": 13
        }
      ]
    },
    {
      "cell_type": "code",
      "metadata": {
        "colab": {
          "base_uri": "https://localhost:8080/",
          "height": 487
        },
        "id": "5Q0ll3xroPtj",
        "outputId": "99539eb7-0957-4500-852d-f8757c8d1b9d"
      },
      "source": [
        "result.tail()"
      ],
      "execution_count": 14,
      "outputs": [
        {
          "output_type": "execute_result",
          "data": {
            "text/html": [
              "<div>\n",
              "<style scoped>\n",
              "    .dataframe tbody tr th:only-of-type {\n",
              "        vertical-align: middle;\n",
              "    }\n",
              "\n",
              "    .dataframe tbody tr th {\n",
              "        vertical-align: top;\n",
              "    }\n",
              "\n",
              "    .dataframe thead th {\n",
              "        text-align: right;\n",
              "    }\n",
              "</style>\n",
              "<table border=\"1\" class=\"dataframe\">\n",
              "  <thead>\n",
              "    <tr style=\"text-align: right;\">\n",
              "      <th></th>\n",
              "      <th>language_task</th>\n",
              "      <th>target_sentence</th>\n",
              "      <th>bart_translation</th>\n",
              "      <th>bart_paraphrase_score</th>\n",
              "      <th>bart_cosine_score</th>\n",
              "      <th>indictrans_translation</th>\n",
              "      <th>indictrans_paraphrase_score</th>\n",
              "      <th>indictrans_cosine_score</th>\n",
              "    </tr>\n",
              "  </thead>\n",
              "  <tbody>\n",
              "    <tr>\n",
              "      <th>2995</th>\n",
              "      <td>translate English to Tamil</td>\n",
              "      <td>6. மியான்மர் மத்திய தேர்தல் ஆணையம்</td>\n",
              "      <td>vi. மியான்மர் மத்திய தேர்தல் ஆணையம்;</td>\n",
              "      <td>0.959036</td>\n",
              "      <td>0.911552</td>\n",
              "      <td>மியான்மர் ஒன்றிய தேர்தல் ஆணையம் மற்றும்</td>\n",
              "      <td>0.517491</td>\n",
              "      <td>0.760211</td>\n",
              "    </tr>\n",
              "    <tr>\n",
              "      <th>2996</th>\n",
              "      <td>translate English to Tamil</td>\n",
              "      <td>“சுதந்திரம் பெற்ற பிறகு ஏராளமானவை நிறைவேற்றப்ப...</td>\n",
              "      <td>சுதந்திரத்திற்குப் பிறகு பல சாதனைகள் ஏற்பட்டுள...</td>\n",
              "      <td>0.148377</td>\n",
              "      <td>0.878720</td>\n",
              "      <td>நாடு சுதந்திரம் அடைந்ததிலிருந்து பல சாதனைகள் ப...</td>\n",
              "      <td>0.467208</td>\n",
              "      <td>0.886990</td>\n",
              "    </tr>\n",
              "    <tr>\n",
              "      <th>2997</th>\n",
              "      <td>translate English to Tamil</td>\n",
              "      <td>பொது மக்களின் பங்களிப்பு, தகவல் ஓட்டத்தின் முற...</td>\n",
              "      <td>ஜன் பாகிதாரி உள்ளிட்ட நல்ல நிர்வாகத்தின் சில அ...</td>\n",
              "      <td>0.186916</td>\n",
              "      <td>0.932954</td>\n",
              "      <td>மக்கள் பங்கேற்பு, தகவல் பரிமாற்றம், ஆதாரங்களை ...</td>\n",
              "      <td>0.100424</td>\n",
              "      <td>0.961721</td>\n",
              "    </tr>\n",
              "    <tr>\n",
              "      <th>2998</th>\n",
              "      <td>translate English to Tamil</td>\n",
              "      <td>ஊரக சுயாட்சி திட்டம், வளமான பாரதம் போன்ற சமீபத...</td>\n",
              "      <td>கிராம சுயாட்சி இயக்கம், ஆயுஷ்மான் பாரத் போன்ற ...</td>\n",
              "      <td>0.722682</td>\n",
              "      <td>0.942588</td>\n",
              "      <td>அண்மையில் மேற்கொள்ளப்பட்ட கிராம சுயாட்சி இயக்க...</td>\n",
              "      <td>0.800613</td>\n",
              "      <td>0.935723</td>\n",
              "    </tr>\n",
              "    <tr>\n",
              "      <th>2999</th>\n",
              "      <td>translate English to Tamil</td>\n",
              "      <td>இந்தியாவின் 130 லட்சம் மக்கள் சார்பில் உங்கள் ...</td>\n",
              "      <td>இந்தியாவின் மூன்று பில்லியன் மக்களின் சார்பில்...</td>\n",
              "      <td>0.352053</td>\n",
              "      <td>0.942548</td>\n",
              "      <td>இந்தியாவின் 130 கோடி மக்களின் சார்பாக உங்கள் அ...</td>\n",
              "      <td>0.953314</td>\n",
              "      <td>0.979156</td>\n",
              "    </tr>\n",
              "  </tbody>\n",
              "</table>\n",
              "</div>"
            ],
            "text/plain": [
              "                   language_task  ... indictrans_cosine_score\n",
              "2995  translate English to Tamil  ...                0.760211\n",
              "2996  translate English to Tamil  ...                0.886990\n",
              "2997  translate English to Tamil  ...                0.961721\n",
              "2998  translate English to Tamil  ...                0.935723\n",
              "2999  translate English to Tamil  ...                0.979156\n",
              "\n",
              "[5 rows x 8 columns]"
            ]
          },
          "metadata": {},
          "execution_count": 14
        }
      ]
    },
    {
      "cell_type": "code",
      "metadata": {
        "colab": {
          "base_uri": "https://localhost:8080/"
        },
        "id": "Ajisf8-kmEji",
        "outputId": "cbb211d2-5a7b-43d3-c96b-6e1ac560436b"
      },
      "source": [
        "# Check if any of the paraphrase scores are exactly equal\n",
        "len(result[result.bart_paraphrase_score == result.indictrans_paraphrase_score])"
      ],
      "execution_count": 15,
      "outputs": [
        {
          "output_type": "execute_result",
          "data": {
            "text/plain": [
              "33"
            ]
          },
          "metadata": {},
          "execution_count": 15
        }
      ]
    },
    {
      "cell_type": "code",
      "metadata": {
        "colab": {
          "base_uri": "https://localhost:8080/"
        },
        "id": "n_56IjWGU0wk",
        "outputId": "e2cdc7c7-cf6d-4da0-8fdf-a9092aab0039"
      },
      "source": [
        "# Check if the translations are equivalent when the paraphrase scores are equal\n",
        "equiv_q = result[result.bart_paraphrase_score == result.indictrans_paraphrase_score]\n",
        "# When the scores are the same, the models produced the same translation\n",
        "equiv_q['bart_translation'].equals(equiv_q['indictrans_translation'])"
      ],
      "execution_count": 16,
      "outputs": [
        {
          "output_type": "execute_result",
          "data": {
            "text/plain": [
              "True"
            ]
          },
          "metadata": {},
          "execution_count": 16
        }
      ]
    },
    {
      "cell_type": "code",
      "metadata": {
        "id": "xR0PGdNxnqAD"
      },
      "source": [
        "# Create a new column using the \"best\" translation as measured by paraphrase score\n",
        "# For equal sentences (IndicTrans and MBart produced the same output, we'll keep the Bart record)\n",
        "result['best_trans'] = np.where(result.indictrans_paraphrase_score >= result.bart_paraphrase_score, result.indictrans_translation, result.bart_translation)"
      ],
      "execution_count": 17,
      "outputs": []
    },
    {
      "cell_type": "code",
      "metadata": {
        "colab": {
          "base_uri": "https://localhost:8080/"
        },
        "id": "GacUPx7NolFD",
        "outputId": "6e0e5d06-f8ab-4754-ecf2-e96641406052"
      },
      "source": [
        "# Number of times that Bart produced a better translation than Indictrans\n",
        "len(result[result.best_trans == result.bart_translation]) - 33"
      ],
      "execution_count": 19,
      "outputs": [
        {
          "output_type": "execute_result",
          "data": {
            "text/plain": [
              "1039"
            ]
          },
          "metadata": {},
          "execution_count": 19
        }
      ]
    },
    {
      "cell_type": "code",
      "metadata": {
        "colab": {
          "base_uri": "https://localhost:8080/"
        },
        "id": "MGHAIOtvo1Om",
        "outputId": "1334ce84-3fd7-4cc3-98ff-96909a8a9d9e"
      },
      "source": [
        "# Number of times that Indictrans produced a better translation than Bart\n",
        "len(result[result.best_trans == result.indictrans_translation]) - 33"
      ],
      "execution_count": 20,
      "outputs": [
        {
          "output_type": "execute_result",
          "data": {
            "text/plain": [
              "1928"
            ]
          },
          "metadata": {},
          "execution_count": 20
        }
      ]
    },
    {
      "cell_type": "code",
      "metadata": {
        "id": "gJpsVdQ1pHPk"
      },
      "source": [
        "# Filter the dataset into its respective languages and save the target and results to compute language level sacre bleu\n",
        "hi_result = result[result.language_task == 'translate English to Hindi']\n",
        "ta_result = result[result.language_task == 'translate English to Tamil']\n",
        "ml_result = result[result.language_task == 'translate English to Malayalam']"
      ],
      "execution_count": 21,
      "outputs": []
    },
    {
      "cell_type": "code",
      "metadata": {
        "colab": {
          "base_uri": "https://localhost:8080/"
        },
        "id": "_ChsTZMTKcex",
        "outputId": "da87db13-03d0-45b6-c089-2503a1779fa2"
      },
      "source": [
        "# Pringt the number of times for each language when the models produced translations with the same paraphrase score\n",
        "print(len(hi_result[hi_result.bart_paraphrase_score == hi_result.indictrans_paraphrase_score]))\n",
        "print(len(ta_result[ta_result.bart_paraphrase_score == ta_result.indictrans_paraphrase_score]))\n",
        "print(len(ml_result[ml_result.bart_paraphrase_score == ml_result.indictrans_paraphrase_score]))"
      ],
      "execution_count": 22,
      "outputs": [
        {
          "output_type": "stream",
          "name": "stdout",
          "text": [
            "24\n",
            "9\n",
            "0\n"
          ]
        }
      ]
    },
    {
      "cell_type": "code",
      "metadata": {
        "colab": {
          "base_uri": "https://localhost:8080/"
        },
        "id": "jX2Im76XrAlK",
        "outputId": "de1e195c-2f20-4b83-8e68-934162e6ec92"
      },
      "source": [
        "# Find the number of times that MBart produced a better translation for Hindi than IndicTrans and vice versa\n",
        "print(len(hi_result[hi_result.best_trans == hi_result.bart_translation]) - len(hi_result[hi_result.bart_paraphrase_score == hi_result.indictrans_paraphrase_score]))\n",
        "print(len(hi_result[hi_result.best_trans == hi_result.indictrans_translation]) - len(hi_result[hi_result.bart_paraphrase_score == hi_result.indictrans_paraphrase_score]))"
      ],
      "execution_count": 23,
      "outputs": [
        {
          "output_type": "stream",
          "name": "stdout",
          "text": [
            "305\n",
            "671\n"
          ]
        }
      ]
    },
    {
      "cell_type": "code",
      "metadata": {
        "colab": {
          "base_uri": "https://localhost:8080/"
        },
        "id": "DlFqpdBOrl3a",
        "outputId": "374d6fc5-aaa1-48e0-c8bc-0c8332751bdc"
      },
      "source": [
        "# Find the number of times that MBart produced a better translation for Tamil than IndicTrans and vice versa\n",
        "print(len(ta_result[ta_result.best_trans == ta_result.bart_translation]) - len(ta_result[ta_result.bart_paraphrase_score == ta_result.indictrans_paraphrase_score]))\n",
        "print(len(ta_result[ta_result.best_trans == ta_result.indictrans_translation]) - len(ta_result[ta_result.bart_paraphrase_score == ta_result.indictrans_paraphrase_score]))"
      ],
      "execution_count": 24,
      "outputs": [
        {
          "output_type": "stream",
          "name": "stdout",
          "text": [
            "463\n",
            "528\n"
          ]
        }
      ]
    },
    {
      "cell_type": "code",
      "metadata": {
        "colab": {
          "base_uri": "https://localhost:8080/"
        },
        "id": "RUTFyirnruEe",
        "outputId": "221d3db5-4d78-46d2-894d-b7c8ac595178"
      },
      "source": [
        "# Find the number of times that MBart produced a better translation for Malayalam than IndicTrans and vice versa\n",
        "print(len(ml_result[ml_result.best_trans == ml_result.bart_translation]) - len(ml_result[ml_result.bart_paraphrase_score == ml_result.indictrans_paraphrase_score]))\n",
        "print(len(ml_result[ml_result.best_trans == ml_result.indictrans_translation]) - len(ml_result[ml_result.bart_paraphrase_score == ml_result.indictrans_paraphrase_score]))"
      ],
      "execution_count": 25,
      "outputs": [
        {
          "output_type": "stream",
          "name": "stdout",
          "text": [
            "271\n",
            "729\n"
          ]
        }
      ]
    },
    {
      "cell_type": "code",
      "metadata": {
        "id": "XIRZeoZIr5TI"
      },
      "source": [
        "# Save the target translations and the best translations for each language to a separate txt file\n",
        "np.savetxt(D+\"/predicted_text/siamese_evaluations_of_translations/hi_target_layernorm.txt\", hi_result.target_sentence.values, fmt='%s', newline='\\n')\n",
        "np.savetxt(D+\"/predicted_text/siamese_evaluations_of_translations/hi_best_layernorm.txt\", hi_result.best_trans.values, fmt='%s', newline='\\n')\n",
        "np.savetxt(D+\"/predicted_text/siamese_evaluations_of_translations/ta_target_layernorm.txt\", ta_result.target_sentence.values, fmt='%s', newline='\\n')\n",
        "np.savetxt(D+\"/predicted_text/siamese_evaluations_of_translations/ta_best_layernorm.txt\", ta_result.best_trans.values, fmt='%s', newline='\\n')\n",
        "np.savetxt(D+\"/predicted_text/siamese_evaluations_of_translations/ml_target_layernorm.txt\", ml_result.target_sentence.values, fmt='%s', newline='\\n')\n",
        "np.savetxt(D+\"/predicted_text/siamese_evaluations_of_translations/ml_best_layernorm.txt\", ml_result.best_trans.values, fmt='%s', newline='\\n')"
      ],
      "execution_count": 26,
      "outputs": []
    },
    {
      "cell_type": "code",
      "metadata": {
        "colab": {
          "base_uri": "https://localhost:8080/"
        },
        "id": "JQrC3VMdv9O_",
        "outputId": "4540c4e3-e6ef-46ee-a728-dffa50c1ee8e"
      },
      "source": [
        "# cd into the directory where the files are saved then compute Sacre Bleu scores\n",
        "%cd /content/drive/MyDrive/W266_Project_Data/pmi_data/predicted_text/siamese_evaluations_of_translations/"
      ],
      "execution_count": 27,
      "outputs": [
        {
          "output_type": "stream",
          "name": "stdout",
          "text": [
            "/content/drive/MyDrive/W266_Project_Data/pmi_data/predicted_text/siamese_evaluations_of_translations\n"
          ]
        }
      ]
    },
    {
      "cell_type": "code",
      "metadata": {
        "colab": {
          "base_uri": "https://localhost:8080/"
        },
        "id": "z34aPs7dv49R",
        "outputId": "1d8481fa-3c34-405c-cfdb-ba1553dd2f05"
      },
      "source": [
        "# Get the Hindi Sacre Bleu scores\n",
        "!sacrebleu hi_target_layernorm.txt -i hi_best_layernorm.txt --tokenize intl --confidence"
      ],
      "execution_count": 33,
      "outputs": [
        {
          "output_type": "stream",
          "name": "stdout",
          "text": [
            "{\n",
            " \"name\": \"BLEU\",\n",
            " \"score\": 38.7,\n",
            " \"signature\": \"nrefs:1|bs:1000|seed:12345|case:mixed|eff:no|tok:intl|smooth:exp|version:2.0.0\",\n",
            " \"confidence_mean\": 38.7,\n",
            " \"confidence_var\": 1.4,\n",
            " \"confidence\": \"μ = 38.7 ± 1.4\",\n",
            " \"verbose_score\": \"69.2/46.6/32.5/23.4 (BP = 0.979 ratio = 0.979 hyp_len = 19147 ref_len = 19557)\",\n",
            " \"nrefs\": \"1\",\n",
            " \"bs\": \"1000\",\n",
            " \"seed\": \"12345\",\n",
            " \"case\": \"mixed\",\n",
            " \"eff\": \"no\",\n",
            " \"tok\": \"intl\",\n",
            " \"smooth\": \"exp\",\n",
            " \"version\": \"2.0.0\"\n",
            "}\n",
            "\u001b[0m"
          ]
        }
      ]
    },
    {
      "cell_type": "code",
      "metadata": {
        "colab": {
          "base_uri": "https://localhost:8080/"
        },
        "id": "rYdbr_trw-pz",
        "outputId": "7b4cf881-cd17-41ec-ac91-1463b4a5d96e"
      },
      "source": [
        "# Get the Tamil translation Sacre Bleu scores\n",
        "!sacrebleu ta_target_layernorm.txt -i ta_best_layernorm.txt --tokenize intl --confidence"
      ],
      "execution_count": 34,
      "outputs": [
        {
          "output_type": "stream",
          "name": "stdout",
          "text": [
            "{\n",
            " \"name\": \"BLEU\",\n",
            " \"score\": 15.6,\n",
            " \"signature\": \"nrefs:1|bs:1000|seed:12345|case:mixed|eff:no|tok:intl|smooth:exp|version:2.0.0\",\n",
            " \"confidence_mean\": 15.6,\n",
            " \"confidence_var\": 1.1,\n",
            " \"confidence\": \"μ = 15.6 ± 1.1\",\n",
            " \"verbose_score\": \"47.7/21.7/11.3/6.0 (BP = 0.955 ratio = 0.956 hyp_len = 13791 ref_len = 14425)\",\n",
            " \"nrefs\": \"1\",\n",
            " \"bs\": \"1000\",\n",
            " \"seed\": \"12345\",\n",
            " \"case\": \"mixed\",\n",
            " \"eff\": \"no\",\n",
            " \"tok\": \"intl\",\n",
            " \"smooth\": \"exp\",\n",
            " \"version\": \"2.0.0\"\n",
            "}\n",
            "\u001b[0m"
          ]
        }
      ]
    },
    {
      "cell_type": "code",
      "metadata": {
        "colab": {
          "base_uri": "https://localhost:8080/"
        },
        "id": "oSGpxFhrxM44",
        "outputId": "fcf75e99-cc69-4e3f-f2c8-0e0dbcbfb858"
      },
      "source": [
        "# Get the Malayalam translation Sacre Bleu scores\n",
        "!sacrebleu ml_target_layernorm.txt -i  ml_best_layernorm.txt --tokenize intl --confidence"
      ],
      "execution_count": 35,
      "outputs": [
        {
          "output_type": "stream",
          "name": "stdout",
          "text": [
            "{\n",
            " \"name\": \"BLEU\",\n",
            " \"score\": 7.1,\n",
            " \"signature\": \"nrefs:1|bs:1000|seed:12345|case:mixed|eff:no|tok:intl|smooth:exp|version:2.0.0\",\n",
            " \"confidence_mean\": 7.1,\n",
            " \"confidence_var\": 0.9,\n",
            " \"confidence\": \"μ = 7.1 ± 0.9\",\n",
            " \"verbose_score\": \"33.7/10.2/4.2/1.8 (BP = 1.000 ratio = 1.038 hyp_len = 12381 ref_len = 11929)\",\n",
            " \"nrefs\": \"1\",\n",
            " \"bs\": \"1000\",\n",
            " \"seed\": \"12345\",\n",
            " \"case\": \"mixed\",\n",
            " \"eff\": \"no\",\n",
            " \"tok\": \"intl\",\n",
            " \"smooth\": \"exp\",\n",
            " \"version\": \"2.0.0\"\n",
            "}\n",
            "\u001b[0m"
          ]
        }
      ]
    },
    {
      "cell_type": "code",
      "metadata": {
        "id": "a9WiStdZJfgc"
      },
      "source": [
        "# Save the result file\n",
        "result.to_csv(D+\"/predicted_text/siamese_evaluations_of_translations/record_comparison_layernorm.csv\")"
      ],
      "execution_count": 36,
      "outputs": []
    }
  ]
}