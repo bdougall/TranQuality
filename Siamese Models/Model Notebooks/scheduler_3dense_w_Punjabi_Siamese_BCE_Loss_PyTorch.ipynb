{
  "nbformat": 4,
  "nbformat_minor": 0,
  "metadata": {
    "colab": {
      "name": "scheduler_3dense_w_Punjabi_Siamese_BCE_Loss_PyTorch.ipynb",
      "provenance": [],
      "collapsed_sections": [],
      "machine_shape": "hm"
    },
    "kernelspec": {
      "name": "python3",
      "display_name": "Python 3"
    },
    "language_info": {
      "name": "python"
    },
    "accelerator": "GPU",
    "widgets": {
      "application/vnd.jupyter.widget-state+json": {
        "14aba907620e4f80be81dd8c66fbc480": {
          "model_module": "@jupyter-widgets/controls",
          "model_name": "HBoxModel",
          "model_module_version": "1.5.0",
          "state": {
            "_view_name": "HBoxView",
            "_dom_classes": [],
            "_model_name": "HBoxModel",
            "_view_module": "@jupyter-widgets/controls",
            "_model_module_version": "1.5.0",
            "_view_count": null,
            "_view_module_version": "1.5.0",
            "box_style": "",
            "layout": "IPY_MODEL_783e4345ff2b4d0db03b759a79026ac9",
            "_model_module": "@jupyter-widgets/controls",
            "children": [
              "IPY_MODEL_61cf1b1bfb7a49c3ab64ce72663fdaec",
              "IPY_MODEL_2e5cc561072544baa77fa83f4d1399e4",
              "IPY_MODEL_5329deb01a1e4c2a9fa99da31a36f012"
            ]
          }
        },
        "783e4345ff2b4d0db03b759a79026ac9": {
          "model_module": "@jupyter-widgets/base",
          "model_name": "LayoutModel",
          "model_module_version": "1.2.0",
          "state": {
            "_view_name": "LayoutView",
            "grid_template_rows": null,
            "right": null,
            "justify_content": null,
            "_view_module": "@jupyter-widgets/base",
            "overflow": null,
            "_model_module_version": "1.2.0",
            "_view_count": null,
            "flex_flow": null,
            "width": null,
            "min_width": null,
            "border": null,
            "align_items": null,
            "bottom": null,
            "_model_module": "@jupyter-widgets/base",
            "top": null,
            "grid_column": null,
            "overflow_y": null,
            "overflow_x": null,
            "grid_auto_flow": null,
            "grid_area": null,
            "grid_template_columns": null,
            "flex": null,
            "_model_name": "LayoutModel",
            "justify_items": null,
            "grid_row": null,
            "max_height": null,
            "align_content": null,
            "visibility": null,
            "align_self": null,
            "height": null,
            "min_height": null,
            "padding": null,
            "grid_auto_rows": null,
            "grid_gap": null,
            "max_width": null,
            "order": null,
            "_view_module_version": "1.2.0",
            "grid_template_areas": null,
            "object_position": null,
            "object_fit": null,
            "grid_auto_columns": null,
            "margin": null,
            "display": null,
            "left": null
          }
        },
        "61cf1b1bfb7a49c3ab64ce72663fdaec": {
          "model_module": "@jupyter-widgets/controls",
          "model_name": "HTMLModel",
          "model_module_version": "1.5.0",
          "state": {
            "_view_name": "HTMLView",
            "style": "IPY_MODEL_f7995fc7b6384614996dcbcde2f4decf",
            "_dom_classes": [],
            "description": "",
            "_model_name": "HTMLModel",
            "placeholder": "​",
            "_view_module": "@jupyter-widgets/controls",
            "_model_module_version": "1.5.0",
            "value": "Downloading: 100%",
            "_view_count": null,
            "_view_module_version": "1.5.0",
            "description_tooltip": null,
            "_model_module": "@jupyter-widgets/controls",
            "layout": "IPY_MODEL_b44d15416d704dfeb4ebc0bd0c90abc7"
          }
        },
        "2e5cc561072544baa77fa83f4d1399e4": {
          "model_module": "@jupyter-widgets/controls",
          "model_name": "FloatProgressModel",
          "model_module_version": "1.5.0",
          "state": {
            "_view_name": "ProgressView",
            "style": "IPY_MODEL_a34cc6826b334dd890d5583a2bd5706b",
            "_dom_classes": [],
            "description": "",
            "_model_name": "FloatProgressModel",
            "bar_style": "success",
            "max": 507,
            "_view_module": "@jupyter-widgets/controls",
            "_model_module_version": "1.5.0",
            "value": 507,
            "_view_count": null,
            "_view_module_version": "1.5.0",
            "orientation": "horizontal",
            "min": 0,
            "description_tooltip": null,
            "_model_module": "@jupyter-widgets/controls",
            "layout": "IPY_MODEL_efec893ef10f435b97b649244e41d62e"
          }
        },
        "5329deb01a1e4c2a9fa99da31a36f012": {
          "model_module": "@jupyter-widgets/controls",
          "model_name": "HTMLModel",
          "model_module_version": "1.5.0",
          "state": {
            "_view_name": "HTMLView",
            "style": "IPY_MODEL_f083434f9c5e4154ac2ad52be9ce1215",
            "_dom_classes": [],
            "description": "",
            "_model_name": "HTMLModel",
            "placeholder": "​",
            "_view_module": "@jupyter-widgets/controls",
            "_model_module_version": "1.5.0",
            "value": " 507/507 [00:00&lt;00:00, 20.4kB/s]",
            "_view_count": null,
            "_view_module_version": "1.5.0",
            "description_tooltip": null,
            "_model_module": "@jupyter-widgets/controls",
            "layout": "IPY_MODEL_ae649961cc934aa5bab2b37cd4fc5afd"
          }
        },
        "f7995fc7b6384614996dcbcde2f4decf": {
          "model_module": "@jupyter-widgets/controls",
          "model_name": "DescriptionStyleModel",
          "model_module_version": "1.5.0",
          "state": {
            "_view_name": "StyleView",
            "_model_name": "DescriptionStyleModel",
            "description_width": "",
            "_view_module": "@jupyter-widgets/base",
            "_model_module_version": "1.5.0",
            "_view_count": null,
            "_view_module_version": "1.2.0",
            "_model_module": "@jupyter-widgets/controls"
          }
        },
        "b44d15416d704dfeb4ebc0bd0c90abc7": {
          "model_module": "@jupyter-widgets/base",
          "model_name": "LayoutModel",
          "model_module_version": "1.2.0",
          "state": {
            "_view_name": "LayoutView",
            "grid_template_rows": null,
            "right": null,
            "justify_content": null,
            "_view_module": "@jupyter-widgets/base",
            "overflow": null,
            "_model_module_version": "1.2.0",
            "_view_count": null,
            "flex_flow": null,
            "width": null,
            "min_width": null,
            "border": null,
            "align_items": null,
            "bottom": null,
            "_model_module": "@jupyter-widgets/base",
            "top": null,
            "grid_column": null,
            "overflow_y": null,
            "overflow_x": null,
            "grid_auto_flow": null,
            "grid_area": null,
            "grid_template_columns": null,
            "flex": null,
            "_model_name": "LayoutModel",
            "justify_items": null,
            "grid_row": null,
            "max_height": null,
            "align_content": null,
            "visibility": null,
            "align_self": null,
            "height": null,
            "min_height": null,
            "padding": null,
            "grid_auto_rows": null,
            "grid_gap": null,
            "max_width": null,
            "order": null,
            "_view_module_version": "1.2.0",
            "grid_template_areas": null,
            "object_position": null,
            "object_fit": null,
            "grid_auto_columns": null,
            "margin": null,
            "display": null,
            "left": null
          }
        },
        "a34cc6826b334dd890d5583a2bd5706b": {
          "model_module": "@jupyter-widgets/controls",
          "model_name": "ProgressStyleModel",
          "model_module_version": "1.5.0",
          "state": {
            "_view_name": "StyleView",
            "_model_name": "ProgressStyleModel",
            "description_width": "",
            "_view_module": "@jupyter-widgets/base",
            "_model_module_version": "1.5.0",
            "_view_count": null,
            "_view_module_version": "1.2.0",
            "bar_color": null,
            "_model_module": "@jupyter-widgets/controls"
          }
        },
        "efec893ef10f435b97b649244e41d62e": {
          "model_module": "@jupyter-widgets/base",
          "model_name": "LayoutModel",
          "model_module_version": "1.2.0",
          "state": {
            "_view_name": "LayoutView",
            "grid_template_rows": null,
            "right": null,
            "justify_content": null,
            "_view_module": "@jupyter-widgets/base",
            "overflow": null,
            "_model_module_version": "1.2.0",
            "_view_count": null,
            "flex_flow": null,
            "width": null,
            "min_width": null,
            "border": null,
            "align_items": null,
            "bottom": null,
            "_model_module": "@jupyter-widgets/base",
            "top": null,
            "grid_column": null,
            "overflow_y": null,
            "overflow_x": null,
            "grid_auto_flow": null,
            "grid_area": null,
            "grid_template_columns": null,
            "flex": null,
            "_model_name": "LayoutModel",
            "justify_items": null,
            "grid_row": null,
            "max_height": null,
            "align_content": null,
            "visibility": null,
            "align_self": null,
            "height": null,
            "min_height": null,
            "padding": null,
            "grid_auto_rows": null,
            "grid_gap": null,
            "max_width": null,
            "order": null,
            "_view_module_version": "1.2.0",
            "grid_template_areas": null,
            "object_position": null,
            "object_fit": null,
            "grid_auto_columns": null,
            "margin": null,
            "display": null,
            "left": null
          }
        },
        "f083434f9c5e4154ac2ad52be9ce1215": {
          "model_module": "@jupyter-widgets/controls",
          "model_name": "DescriptionStyleModel",
          "model_module_version": "1.5.0",
          "state": {
            "_view_name": "StyleView",
            "_model_name": "DescriptionStyleModel",
            "description_width": "",
            "_view_module": "@jupyter-widgets/base",
            "_model_module_version": "1.5.0",
            "_view_count": null,
            "_view_module_version": "1.2.0",
            "_model_module": "@jupyter-widgets/controls"
          }
        },
        "ae649961cc934aa5bab2b37cd4fc5afd": {
          "model_module": "@jupyter-widgets/base",
          "model_name": "LayoutModel",
          "model_module_version": "1.2.0",
          "state": {
            "_view_name": "LayoutView",
            "grid_template_rows": null,
            "right": null,
            "justify_content": null,
            "_view_module": "@jupyter-widgets/base",
            "overflow": null,
            "_model_module_version": "1.2.0",
            "_view_count": null,
            "flex_flow": null,
            "width": null,
            "min_width": null,
            "border": null,
            "align_items": null,
            "bottom": null,
            "_model_module": "@jupyter-widgets/base",
            "top": null,
            "grid_column": null,
            "overflow_y": null,
            "overflow_x": null,
            "grid_auto_flow": null,
            "grid_area": null,
            "grid_template_columns": null,
            "flex": null,
            "_model_name": "LayoutModel",
            "justify_items": null,
            "grid_row": null,
            "max_height": null,
            "align_content": null,
            "visibility": null,
            "align_self": null,
            "height": null,
            "min_height": null,
            "padding": null,
            "grid_auto_rows": null,
            "grid_gap": null,
            "max_width": null,
            "order": null,
            "_view_module_version": "1.2.0",
            "grid_template_areas": null,
            "object_position": null,
            "object_fit": null,
            "grid_auto_columns": null,
            "margin": null,
            "display": null,
            "left": null
          }
        },
        "9979925a0978492a90b834cf8490482d": {
          "model_module": "@jupyter-widgets/controls",
          "model_name": "HBoxModel",
          "model_module_version": "1.5.0",
          "state": {
            "_view_name": "HBoxView",
            "_dom_classes": [],
            "_model_name": "HBoxModel",
            "_view_module": "@jupyter-widgets/controls",
            "_model_module_version": "1.5.0",
            "_view_count": null,
            "_view_module_version": "1.5.0",
            "box_style": "",
            "layout": "IPY_MODEL_be085d055e054b82a48bd060a69ccbc4",
            "_model_module": "@jupyter-widgets/controls",
            "children": [
              "IPY_MODEL_469effe77da34aceae31b363a6acac9f",
              "IPY_MODEL_96a8ae94e5ca4b3697230c2ab5e9e0b5",
              "IPY_MODEL_91e60c68281b4874a109c119961bc19e"
            ]
          }
        },
        "be085d055e054b82a48bd060a69ccbc4": {
          "model_module": "@jupyter-widgets/base",
          "model_name": "LayoutModel",
          "model_module_version": "1.2.0",
          "state": {
            "_view_name": "LayoutView",
            "grid_template_rows": null,
            "right": null,
            "justify_content": null,
            "_view_module": "@jupyter-widgets/base",
            "overflow": null,
            "_model_module_version": "1.2.0",
            "_view_count": null,
            "flex_flow": null,
            "width": null,
            "min_width": null,
            "border": null,
            "align_items": null,
            "bottom": null,
            "_model_module": "@jupyter-widgets/base",
            "top": null,
            "grid_column": null,
            "overflow_y": null,
            "overflow_x": null,
            "grid_auto_flow": null,
            "grid_area": null,
            "grid_template_columns": null,
            "flex": null,
            "_model_name": "LayoutModel",
            "justify_items": null,
            "grid_row": null,
            "max_height": null,
            "align_content": null,
            "visibility": null,
            "align_self": null,
            "height": null,
            "min_height": null,
            "padding": null,
            "grid_auto_rows": null,
            "grid_gap": null,
            "max_width": null,
            "order": null,
            "_view_module_version": "1.2.0",
            "grid_template_areas": null,
            "object_position": null,
            "object_fit": null,
            "grid_auto_columns": null,
            "margin": null,
            "display": null,
            "left": null
          }
        },
        "469effe77da34aceae31b363a6acac9f": {
          "model_module": "@jupyter-widgets/controls",
          "model_name": "HTMLModel",
          "model_module_version": "1.5.0",
          "state": {
            "_view_name": "HTMLView",
            "style": "IPY_MODEL_2f08c909bc3a4a539b917ce70d5e3f3f",
            "_dom_classes": [],
            "description": "",
            "_model_name": "HTMLModel",
            "placeholder": "​",
            "_view_module": "@jupyter-widgets/controls",
            "_model_module_version": "1.5.0",
            "value": "Downloading: 100%",
            "_view_count": null,
            "_view_module_version": "1.5.0",
            "description_tooltip": null,
            "_model_module": "@jupyter-widgets/controls",
            "layout": "IPY_MODEL_b1744ee521fe421c9e20a53a89517169"
          }
        },
        "96a8ae94e5ca4b3697230c2ab5e9e0b5": {
          "model_module": "@jupyter-widgets/controls",
          "model_name": "FloatProgressModel",
          "model_module_version": "1.5.0",
          "state": {
            "_view_name": "ProgressView",
            "style": "IPY_MODEL_1355f0ed242f464fb1f383418718be05",
            "_dom_classes": [],
            "description": "",
            "_model_name": "FloatProgressModel",
            "bar_style": "success",
            "max": 5646064,
            "_view_module": "@jupyter-widgets/controls",
            "_model_module_version": "1.5.0",
            "value": 5646064,
            "_view_count": null,
            "_view_module_version": "1.5.0",
            "orientation": "horizontal",
            "min": 0,
            "description_tooltip": null,
            "_model_module": "@jupyter-widgets/controls",
            "layout": "IPY_MODEL_cd36afe0adc248d48e68e25cdad885a0"
          }
        },
        "91e60c68281b4874a109c119961bc19e": {
          "model_module": "@jupyter-widgets/controls",
          "model_name": "HTMLModel",
          "model_module_version": "1.5.0",
          "state": {
            "_view_name": "HTMLView",
            "style": "IPY_MODEL_6d883a771a5449d998d62ec429454d3c",
            "_dom_classes": [],
            "description": "",
            "_model_name": "HTMLModel",
            "placeholder": "​",
            "_view_module": "@jupyter-widgets/controls",
            "_model_module_version": "1.5.0",
            "value": " 5.38M/5.38M [00:00&lt;00:00, 12.1MB/s]",
            "_view_count": null,
            "_view_module_version": "1.5.0",
            "description_tooltip": null,
            "_model_module": "@jupyter-widgets/controls",
            "layout": "IPY_MODEL_89562e8b86e7464b864f5e8f9a145d7b"
          }
        },
        "2f08c909bc3a4a539b917ce70d5e3f3f": {
          "model_module": "@jupyter-widgets/controls",
          "model_name": "DescriptionStyleModel",
          "model_module_version": "1.5.0",
          "state": {
            "_view_name": "StyleView",
            "_model_name": "DescriptionStyleModel",
            "description_width": "",
            "_view_module": "@jupyter-widgets/base",
            "_model_module_version": "1.5.0",
            "_view_count": null,
            "_view_module_version": "1.2.0",
            "_model_module": "@jupyter-widgets/controls"
          }
        },
        "b1744ee521fe421c9e20a53a89517169": {
          "model_module": "@jupyter-widgets/base",
          "model_name": "LayoutModel",
          "model_module_version": "1.2.0",
          "state": {
            "_view_name": "LayoutView",
            "grid_template_rows": null,
            "right": null,
            "justify_content": null,
            "_view_module": "@jupyter-widgets/base",
            "overflow": null,
            "_model_module_version": "1.2.0",
            "_view_count": null,
            "flex_flow": null,
            "width": null,
            "min_width": null,
            "border": null,
            "align_items": null,
            "bottom": null,
            "_model_module": "@jupyter-widgets/base",
            "top": null,
            "grid_column": null,
            "overflow_y": null,
            "overflow_x": null,
            "grid_auto_flow": null,
            "grid_area": null,
            "grid_template_columns": null,
            "flex": null,
            "_model_name": "LayoutModel",
            "justify_items": null,
            "grid_row": null,
            "max_height": null,
            "align_content": null,
            "visibility": null,
            "align_self": null,
            "height": null,
            "min_height": null,
            "padding": null,
            "grid_auto_rows": null,
            "grid_gap": null,
            "max_width": null,
            "order": null,
            "_view_module_version": "1.2.0",
            "grid_template_areas": null,
            "object_position": null,
            "object_fit": null,
            "grid_auto_columns": null,
            "margin": null,
            "display": null,
            "left": null
          }
        },
        "1355f0ed242f464fb1f383418718be05": {
          "model_module": "@jupyter-widgets/controls",
          "model_name": "ProgressStyleModel",
          "model_module_version": "1.5.0",
          "state": {
            "_view_name": "StyleView",
            "_model_name": "ProgressStyleModel",
            "description_width": "",
            "_view_module": "@jupyter-widgets/base",
            "_model_module_version": "1.5.0",
            "_view_count": null,
            "_view_module_version": "1.2.0",
            "bar_color": null,
            "_model_module": "@jupyter-widgets/controls"
          }
        },
        "cd36afe0adc248d48e68e25cdad885a0": {
          "model_module": "@jupyter-widgets/base",
          "model_name": "LayoutModel",
          "model_module_version": "1.2.0",
          "state": {
            "_view_name": "LayoutView",
            "grid_template_rows": null,
            "right": null,
            "justify_content": null,
            "_view_module": "@jupyter-widgets/base",
            "overflow": null,
            "_model_module_version": "1.2.0",
            "_view_count": null,
            "flex_flow": null,
            "width": null,
            "min_width": null,
            "border": null,
            "align_items": null,
            "bottom": null,
            "_model_module": "@jupyter-widgets/base",
            "top": null,
            "grid_column": null,
            "overflow_y": null,
            "overflow_x": null,
            "grid_auto_flow": null,
            "grid_area": null,
            "grid_template_columns": null,
            "flex": null,
            "_model_name": "LayoutModel",
            "justify_items": null,
            "grid_row": null,
            "max_height": null,
            "align_content": null,
            "visibility": null,
            "align_self": null,
            "height": null,
            "min_height": null,
            "padding": null,
            "grid_auto_rows": null,
            "grid_gap": null,
            "max_width": null,
            "order": null,
            "_view_module_version": "1.2.0",
            "grid_template_areas": null,
            "object_position": null,
            "object_fit": null,
            "grid_auto_columns": null,
            "margin": null,
            "display": null,
            "left": null
          }
        },
        "6d883a771a5449d998d62ec429454d3c": {
          "model_module": "@jupyter-widgets/controls",
          "model_name": "DescriptionStyleModel",
          "model_module_version": "1.5.0",
          "state": {
            "_view_name": "StyleView",
            "_model_name": "DescriptionStyleModel",
            "description_width": "",
            "_view_module": "@jupyter-widgets/base",
            "_model_module_version": "1.5.0",
            "_view_count": null,
            "_view_module_version": "1.2.0",
            "_model_module": "@jupyter-widgets/controls"
          }
        },
        "89562e8b86e7464b864f5e8f9a145d7b": {
          "model_module": "@jupyter-widgets/base",
          "model_name": "LayoutModel",
          "model_module_version": "1.2.0",
          "state": {
            "_view_name": "LayoutView",
            "grid_template_rows": null,
            "right": null,
            "justify_content": null,
            "_view_module": "@jupyter-widgets/base",
            "overflow": null,
            "_model_module_version": "1.2.0",
            "_view_count": null,
            "flex_flow": null,
            "width": null,
            "min_width": null,
            "border": null,
            "align_items": null,
            "bottom": null,
            "_model_module": "@jupyter-widgets/base",
            "top": null,
            "grid_column": null,
            "overflow_y": null,
            "overflow_x": null,
            "grid_auto_flow": null,
            "grid_area": null,
            "grid_template_columns": null,
            "flex": null,
            "_model_name": "LayoutModel",
            "justify_items": null,
            "grid_row": null,
            "max_height": null,
            "align_content": null,
            "visibility": null,
            "align_self": null,
            "height": null,
            "min_height": null,
            "padding": null,
            "grid_auto_rows": null,
            "grid_gap": null,
            "max_width": null,
            "order": null,
            "_view_module_version": "1.2.0",
            "grid_template_areas": null,
            "object_position": null,
            "object_fit": null,
            "grid_auto_columns": null,
            "margin": null,
            "display": null,
            "left": null
          }
        },
        "2c4d56ec784648e6bd85cf4d3ac005e0": {
          "model_module": "@jupyter-widgets/controls",
          "model_name": "HBoxModel",
          "model_module_version": "1.5.0",
          "state": {
            "_view_name": "HBoxView",
            "_dom_classes": [],
            "_model_name": "HBoxModel",
            "_view_module": "@jupyter-widgets/controls",
            "_model_module_version": "1.5.0",
            "_view_count": null,
            "_view_module_version": "1.5.0",
            "box_style": "",
            "layout": "IPY_MODEL_c3e1d465f8ca460ca6b879a604210814",
            "_model_module": "@jupyter-widgets/controls",
            "children": [
              "IPY_MODEL_036a264af6174c239eda5c2dde79253f",
              "IPY_MODEL_9a181f83434542cea9e662e9377b7d80",
              "IPY_MODEL_85534c4b05d24ee1b7516731e2fc54a4"
            ]
          }
        },
        "c3e1d465f8ca460ca6b879a604210814": {
          "model_module": "@jupyter-widgets/base",
          "model_name": "LayoutModel",
          "model_module_version": "1.2.0",
          "state": {
            "_view_name": "LayoutView",
            "grid_template_rows": null,
            "right": null,
            "justify_content": null,
            "_view_module": "@jupyter-widgets/base",
            "overflow": null,
            "_model_module_version": "1.2.0",
            "_view_count": null,
            "flex_flow": null,
            "width": null,
            "min_width": null,
            "border": null,
            "align_items": null,
            "bottom": null,
            "_model_module": "@jupyter-widgets/base",
            "top": null,
            "grid_column": null,
            "overflow_y": null,
            "overflow_x": null,
            "grid_auto_flow": null,
            "grid_area": null,
            "grid_template_columns": null,
            "flex": null,
            "_model_name": "LayoutModel",
            "justify_items": null,
            "grid_row": null,
            "max_height": null,
            "align_content": null,
            "visibility": null,
            "align_self": null,
            "height": null,
            "min_height": null,
            "padding": null,
            "grid_auto_rows": null,
            "grid_gap": null,
            "max_width": null,
            "order": null,
            "_view_module_version": "1.2.0",
            "grid_template_areas": null,
            "object_position": null,
            "object_fit": null,
            "grid_auto_columns": null,
            "margin": null,
            "display": null,
            "left": null
          }
        },
        "036a264af6174c239eda5c2dde79253f": {
          "model_module": "@jupyter-widgets/controls",
          "model_name": "HTMLModel",
          "model_module_version": "1.5.0",
          "state": {
            "_view_name": "HTMLView",
            "style": "IPY_MODEL_50974a63e8054c058b9c4066e3e67574",
            "_dom_classes": [],
            "description": "",
            "_model_name": "HTMLModel",
            "placeholder": "​",
            "_view_module": "@jupyter-widgets/controls",
            "_model_module_version": "1.5.0",
            "value": "Downloading: 100%",
            "_view_count": null,
            "_view_module_version": "1.5.0",
            "description_tooltip": null,
            "_model_module": "@jupyter-widgets/controls",
            "layout": "IPY_MODEL_22d79b44cb064d26ba9051b53cda59b3"
          }
        },
        "9a181f83434542cea9e662e9377b7d80": {
          "model_module": "@jupyter-widgets/controls",
          "model_name": "FloatProgressModel",
          "model_module_version": "1.5.0",
          "state": {
            "_view_name": "ProgressView",
            "style": "IPY_MODEL_9a0cc939f07d4524b7848d107bf056ae",
            "_dom_classes": [],
            "description": "",
            "_model_name": "FloatProgressModel",
            "bar_style": "success",
            "max": 134982446,
            "_view_module": "@jupyter-widgets/controls",
            "_model_module_version": "1.5.0",
            "value": 134982446,
            "_view_count": null,
            "_view_module_version": "1.5.0",
            "orientation": "horizontal",
            "min": 0,
            "description_tooltip": null,
            "_model_module": "@jupyter-widgets/controls",
            "layout": "IPY_MODEL_644aa2c4cc5c4b31abf500354a0353de"
          }
        },
        "85534c4b05d24ee1b7516731e2fc54a4": {
          "model_module": "@jupyter-widgets/controls",
          "model_name": "HTMLModel",
          "model_module_version": "1.5.0",
          "state": {
            "_view_name": "HTMLView",
            "style": "IPY_MODEL_9ff67cdf33fd401385c1fe1f6c49346b",
            "_dom_classes": [],
            "description": "",
            "_model_name": "HTMLModel",
            "placeholder": "​",
            "_view_module": "@jupyter-widgets/controls",
            "_model_module_version": "1.5.0",
            "value": " 129M/129M [00:03&lt;00:00, 42.9MB/s]",
            "_view_count": null,
            "_view_module_version": "1.5.0",
            "description_tooltip": null,
            "_model_module": "@jupyter-widgets/controls",
            "layout": "IPY_MODEL_f1805b9522374fc0bc4175d90d842efc"
          }
        },
        "50974a63e8054c058b9c4066e3e67574": {
          "model_module": "@jupyter-widgets/controls",
          "model_name": "DescriptionStyleModel",
          "model_module_version": "1.5.0",
          "state": {
            "_view_name": "StyleView",
            "_model_name": "DescriptionStyleModel",
            "description_width": "",
            "_view_module": "@jupyter-widgets/base",
            "_model_module_version": "1.5.0",
            "_view_count": null,
            "_view_module_version": "1.2.0",
            "_model_module": "@jupyter-widgets/controls"
          }
        },
        "22d79b44cb064d26ba9051b53cda59b3": {
          "model_module": "@jupyter-widgets/base",
          "model_name": "LayoutModel",
          "model_module_version": "1.2.0",
          "state": {
            "_view_name": "LayoutView",
            "grid_template_rows": null,
            "right": null,
            "justify_content": null,
            "_view_module": "@jupyter-widgets/base",
            "overflow": null,
            "_model_module_version": "1.2.0",
            "_view_count": null,
            "flex_flow": null,
            "width": null,
            "min_width": null,
            "border": null,
            "align_items": null,
            "bottom": null,
            "_model_module": "@jupyter-widgets/base",
            "top": null,
            "grid_column": null,
            "overflow_y": null,
            "overflow_x": null,
            "grid_auto_flow": null,
            "grid_area": null,
            "grid_template_columns": null,
            "flex": null,
            "_model_name": "LayoutModel",
            "justify_items": null,
            "grid_row": null,
            "max_height": null,
            "align_content": null,
            "visibility": null,
            "align_self": null,
            "height": null,
            "min_height": null,
            "padding": null,
            "grid_auto_rows": null,
            "grid_gap": null,
            "max_width": null,
            "order": null,
            "_view_module_version": "1.2.0",
            "grid_template_areas": null,
            "object_position": null,
            "object_fit": null,
            "grid_auto_columns": null,
            "margin": null,
            "display": null,
            "left": null
          }
        },
        "9a0cc939f07d4524b7848d107bf056ae": {
          "model_module": "@jupyter-widgets/controls",
          "model_name": "ProgressStyleModel",
          "model_module_version": "1.5.0",
          "state": {
            "_view_name": "StyleView",
            "_model_name": "ProgressStyleModel",
            "description_width": "",
            "_view_module": "@jupyter-widgets/base",
            "_model_module_version": "1.5.0",
            "_view_count": null,
            "_view_module_version": "1.2.0",
            "bar_color": null,
            "_model_module": "@jupyter-widgets/controls"
          }
        },
        "644aa2c4cc5c4b31abf500354a0353de": {
          "model_module": "@jupyter-widgets/base",
          "model_name": "LayoutModel",
          "model_module_version": "1.2.0",
          "state": {
            "_view_name": "LayoutView",
            "grid_template_rows": null,
            "right": null,
            "justify_content": null,
            "_view_module": "@jupyter-widgets/base",
            "overflow": null,
            "_model_module_version": "1.2.0",
            "_view_count": null,
            "flex_flow": null,
            "width": null,
            "min_width": null,
            "border": null,
            "align_items": null,
            "bottom": null,
            "_model_module": "@jupyter-widgets/base",
            "top": null,
            "grid_column": null,
            "overflow_y": null,
            "overflow_x": null,
            "grid_auto_flow": null,
            "grid_area": null,
            "grid_template_columns": null,
            "flex": null,
            "_model_name": "LayoutModel",
            "justify_items": null,
            "grid_row": null,
            "max_height": null,
            "align_content": null,
            "visibility": null,
            "align_self": null,
            "height": null,
            "min_height": null,
            "padding": null,
            "grid_auto_rows": null,
            "grid_gap": null,
            "max_width": null,
            "order": null,
            "_view_module_version": "1.2.0",
            "grid_template_areas": null,
            "object_position": null,
            "object_fit": null,
            "grid_auto_columns": null,
            "margin": null,
            "display": null,
            "left": null
          }
        },
        "9ff67cdf33fd401385c1fe1f6c49346b": {
          "model_module": "@jupyter-widgets/controls",
          "model_name": "DescriptionStyleModel",
          "model_module_version": "1.5.0",
          "state": {
            "_view_name": "StyleView",
            "_model_name": "DescriptionStyleModel",
            "description_width": "",
            "_view_module": "@jupyter-widgets/base",
            "_model_module_version": "1.5.0",
            "_view_count": null,
            "_view_module_version": "1.2.0",
            "_model_module": "@jupyter-widgets/controls"
          }
        },
        "f1805b9522374fc0bc4175d90d842efc": {
          "model_module": "@jupyter-widgets/base",
          "model_name": "LayoutModel",
          "model_module_version": "1.2.0",
          "state": {
            "_view_name": "LayoutView",
            "grid_template_rows": null,
            "right": null,
            "justify_content": null,
            "_view_module": "@jupyter-widgets/base",
            "overflow": null,
            "_model_module_version": "1.2.0",
            "_view_count": null,
            "flex_flow": null,
            "width": null,
            "min_width": null,
            "border": null,
            "align_items": null,
            "bottom": null,
            "_model_module": "@jupyter-widgets/base",
            "top": null,
            "grid_column": null,
            "overflow_y": null,
            "overflow_x": null,
            "grid_auto_flow": null,
            "grid_area": null,
            "grid_template_columns": null,
            "flex": null,
            "_model_name": "LayoutModel",
            "justify_items": null,
            "grid_row": null,
            "max_height": null,
            "align_content": null,
            "visibility": null,
            "align_self": null,
            "height": null,
            "min_height": null,
            "padding": null,
            "grid_auto_rows": null,
            "grid_gap": null,
            "max_width": null,
            "order": null,
            "_view_module_version": "1.2.0",
            "grid_template_areas": null,
            "object_position": null,
            "object_fit": null,
            "grid_auto_columns": null,
            "margin": null,
            "display": null,
            "left": null
          }
        },
        "de16b354b4c84aefad4f500a8bd95983": {
          "model_module": "@jupyter-widgets/controls",
          "model_name": "HBoxModel",
          "model_module_version": "1.5.0",
          "state": {
            "_view_name": "HBoxView",
            "_dom_classes": [],
            "_model_name": "HBoxModel",
            "_view_module": "@jupyter-widgets/controls",
            "_model_module_version": "1.5.0",
            "_view_count": null,
            "_view_module_version": "1.5.0",
            "box_style": "",
            "layout": "IPY_MODEL_913de3b19b7f4880bbb1c8bfdd20600f",
            "_model_module": "@jupyter-widgets/controls",
            "children": [
              "IPY_MODEL_822f024afa9345dd88752e4d7be88524",
              "IPY_MODEL_9481fc41d04c4da0b90a00cad65084a5",
              "IPY_MODEL_d4d8f6cc0795463dabbd74b1a32e1e13"
            ]
          }
        },
        "913de3b19b7f4880bbb1c8bfdd20600f": {
          "model_module": "@jupyter-widgets/base",
          "model_name": "LayoutModel",
          "model_module_version": "1.2.0",
          "state": {
            "_view_name": "LayoutView",
            "grid_template_rows": null,
            "right": null,
            "justify_content": null,
            "_view_module": "@jupyter-widgets/base",
            "overflow": null,
            "_model_module_version": "1.2.0",
            "_view_count": null,
            "flex_flow": null,
            "width": null,
            "min_width": null,
            "border": null,
            "align_items": null,
            "bottom": null,
            "_model_module": "@jupyter-widgets/base",
            "top": null,
            "grid_column": null,
            "overflow_y": null,
            "overflow_x": null,
            "grid_auto_flow": null,
            "grid_area": null,
            "grid_template_columns": null,
            "flex": null,
            "_model_name": "LayoutModel",
            "justify_items": null,
            "grid_row": null,
            "max_height": null,
            "align_content": null,
            "visibility": null,
            "align_self": null,
            "height": null,
            "min_height": null,
            "padding": null,
            "grid_auto_rows": null,
            "grid_gap": null,
            "max_width": null,
            "order": null,
            "_view_module_version": "1.2.0",
            "grid_template_areas": null,
            "object_position": null,
            "object_fit": null,
            "grid_auto_columns": null,
            "margin": null,
            "display": null,
            "left": null
          }
        },
        "822f024afa9345dd88752e4d7be88524": {
          "model_module": "@jupyter-widgets/controls",
          "model_name": "HTMLModel",
          "model_module_version": "1.5.0",
          "state": {
            "_view_name": "HTMLView",
            "style": "IPY_MODEL_ec299515e79d4634b79dce86831198a0",
            "_dom_classes": [],
            "description": "",
            "_model_name": "HTMLModel",
            "placeholder": "​",
            "_view_module": "@jupyter-widgets/controls",
            "_model_module_version": "1.5.0",
            "value": "100%",
            "_view_count": null,
            "_view_module_version": "1.5.0",
            "description_tooltip": null,
            "_model_module": "@jupyter-widgets/controls",
            "layout": "IPY_MODEL_f81ecf8c08c44843b4874e3d56dc5495"
          }
        },
        "9481fc41d04c4da0b90a00cad65084a5": {
          "model_module": "@jupyter-widgets/controls",
          "model_name": "FloatProgressModel",
          "model_module_version": "1.5.0",
          "state": {
            "_view_name": "ProgressView",
            "style": "IPY_MODEL_66194a4057814d0f8da0044867fda570",
            "_dom_classes": [],
            "description": "",
            "_model_name": "FloatProgressModel",
            "bar_style": "success",
            "max": 20,
            "_view_module": "@jupyter-widgets/controls",
            "_model_module_version": "1.5.0",
            "value": 20,
            "_view_count": null,
            "_view_module_version": "1.5.0",
            "orientation": "horizontal",
            "min": 0,
            "description_tooltip": null,
            "_model_module": "@jupyter-widgets/controls",
            "layout": "IPY_MODEL_4a77a1e0d370482383907bafd32b674c"
          }
        },
        "d4d8f6cc0795463dabbd74b1a32e1e13": {
          "model_module": "@jupyter-widgets/controls",
          "model_name": "HTMLModel",
          "model_module_version": "1.5.0",
          "state": {
            "_view_name": "HTMLView",
            "style": "IPY_MODEL_9da6a04b8efc421c8a3e03640f280c46",
            "_dom_classes": [],
            "description": "",
            "_model_name": "HTMLModel",
            "placeholder": "​",
            "_view_module": "@jupyter-widgets/controls",
            "_model_module_version": "1.5.0",
            "value": " 20/20 [1:26:17&lt;00:00, 266.34s/it]",
            "_view_count": null,
            "_view_module_version": "1.5.0",
            "description_tooltip": null,
            "_model_module": "@jupyter-widgets/controls",
            "layout": "IPY_MODEL_a609d18d36884904a28182a1b335464f"
          }
        },
        "ec299515e79d4634b79dce86831198a0": {
          "model_module": "@jupyter-widgets/controls",
          "model_name": "DescriptionStyleModel",
          "model_module_version": "1.5.0",
          "state": {
            "_view_name": "StyleView",
            "_model_name": "DescriptionStyleModel",
            "description_width": "",
            "_view_module": "@jupyter-widgets/base",
            "_model_module_version": "1.5.0",
            "_view_count": null,
            "_view_module_version": "1.2.0",
            "_model_module": "@jupyter-widgets/controls"
          }
        },
        "f81ecf8c08c44843b4874e3d56dc5495": {
          "model_module": "@jupyter-widgets/base",
          "model_name": "LayoutModel",
          "model_module_version": "1.2.0",
          "state": {
            "_view_name": "LayoutView",
            "grid_template_rows": null,
            "right": null,
            "justify_content": null,
            "_view_module": "@jupyter-widgets/base",
            "overflow": null,
            "_model_module_version": "1.2.0",
            "_view_count": null,
            "flex_flow": null,
            "width": null,
            "min_width": null,
            "border": null,
            "align_items": null,
            "bottom": null,
            "_model_module": "@jupyter-widgets/base",
            "top": null,
            "grid_column": null,
            "overflow_y": null,
            "overflow_x": null,
            "grid_auto_flow": null,
            "grid_area": null,
            "grid_template_columns": null,
            "flex": null,
            "_model_name": "LayoutModel",
            "justify_items": null,
            "grid_row": null,
            "max_height": null,
            "align_content": null,
            "visibility": null,
            "align_self": null,
            "height": null,
            "min_height": null,
            "padding": null,
            "grid_auto_rows": null,
            "grid_gap": null,
            "max_width": null,
            "order": null,
            "_view_module_version": "1.2.0",
            "grid_template_areas": null,
            "object_position": null,
            "object_fit": null,
            "grid_auto_columns": null,
            "margin": null,
            "display": null,
            "left": null
          }
        },
        "66194a4057814d0f8da0044867fda570": {
          "model_module": "@jupyter-widgets/controls",
          "model_name": "ProgressStyleModel",
          "model_module_version": "1.5.0",
          "state": {
            "_view_name": "StyleView",
            "_model_name": "ProgressStyleModel",
            "description_width": "",
            "_view_module": "@jupyter-widgets/base",
            "_model_module_version": "1.5.0",
            "_view_count": null,
            "_view_module_version": "1.2.0",
            "bar_color": null,
            "_model_module": "@jupyter-widgets/controls"
          }
        },
        "4a77a1e0d370482383907bafd32b674c": {
          "model_module": "@jupyter-widgets/base",
          "model_name": "LayoutModel",
          "model_module_version": "1.2.0",
          "state": {
            "_view_name": "LayoutView",
            "grid_template_rows": null,
            "right": null,
            "justify_content": null,
            "_view_module": "@jupyter-widgets/base",
            "overflow": null,
            "_model_module_version": "1.2.0",
            "_view_count": null,
            "flex_flow": null,
            "width": null,
            "min_width": null,
            "border": null,
            "align_items": null,
            "bottom": null,
            "_model_module": "@jupyter-widgets/base",
            "top": null,
            "grid_column": null,
            "overflow_y": null,
            "overflow_x": null,
            "grid_auto_flow": null,
            "grid_area": null,
            "grid_template_columns": null,
            "flex": null,
            "_model_name": "LayoutModel",
            "justify_items": null,
            "grid_row": null,
            "max_height": null,
            "align_content": null,
            "visibility": null,
            "align_self": null,
            "height": null,
            "min_height": null,
            "padding": null,
            "grid_auto_rows": null,
            "grid_gap": null,
            "max_width": null,
            "order": null,
            "_view_module_version": "1.2.0",
            "grid_template_areas": null,
            "object_position": null,
            "object_fit": null,
            "grid_auto_columns": null,
            "margin": null,
            "display": null,
            "left": null
          }
        },
        "9da6a04b8efc421c8a3e03640f280c46": {
          "model_module": "@jupyter-widgets/controls",
          "model_name": "DescriptionStyleModel",
          "model_module_version": "1.5.0",
          "state": {
            "_view_name": "StyleView",
            "_model_name": "DescriptionStyleModel",
            "description_width": "",
            "_view_module": "@jupyter-widgets/base",
            "_model_module_version": "1.5.0",
            "_view_count": null,
            "_view_module_version": "1.2.0",
            "_model_module": "@jupyter-widgets/controls"
          }
        },
        "a609d18d36884904a28182a1b335464f": {
          "model_module": "@jupyter-widgets/base",
          "model_name": "LayoutModel",
          "model_module_version": "1.2.0",
          "state": {
            "_view_name": "LayoutView",
            "grid_template_rows": null,
            "right": null,
            "justify_content": null,
            "_view_module": "@jupyter-widgets/base",
            "overflow": null,
            "_model_module_version": "1.2.0",
            "_view_count": null,
            "flex_flow": null,
            "width": null,
            "min_width": null,
            "border": null,
            "align_items": null,
            "bottom": null,
            "_model_module": "@jupyter-widgets/base",
            "top": null,
            "grid_column": null,
            "overflow_y": null,
            "overflow_x": null,
            "grid_auto_flow": null,
            "grid_area": null,
            "grid_template_columns": null,
            "flex": null,
            "_model_name": "LayoutModel",
            "justify_items": null,
            "grid_row": null,
            "max_height": null,
            "align_content": null,
            "visibility": null,
            "align_self": null,
            "height": null,
            "min_height": null,
            "padding": null,
            "grid_auto_rows": null,
            "grid_gap": null,
            "max_width": null,
            "order": null,
            "_view_module_version": "1.2.0",
            "grid_template_areas": null,
            "object_position": null,
            "object_fit": null,
            "grid_auto_columns": null,
            "margin": null,
            "display": null,
            "left": null
          }
        }
      }
    }
  },
  "cells": [
    {
      "cell_type": "code",
      "metadata": {
        "id": "aEpKvDqBjyjy",
        "colab": {
          "base_uri": "https://localhost:8080/"
        },
        "outputId": "801d1485-54d1-4d70-a922-4386b2cdc516"
      },
      "source": [
        "!pip install transformers -q\n",
        "!pip install sentencepiece -q"
      ],
      "execution_count": 1,
      "outputs": [
        {
          "output_type": "stream",
          "name": "stdout",
          "text": [
            "\u001b[K     |████████████████████████████████| 3.3 MB 14.6 MB/s \n",
            "\u001b[K     |████████████████████████████████| 61 kB 340 kB/s \n",
            "\u001b[K     |████████████████████████████████| 895 kB 64.9 MB/s \n",
            "\u001b[K     |████████████████████████████████| 3.3 MB 69.8 MB/s \n",
            "\u001b[K     |████████████████████████████████| 596 kB 79.2 MB/s \n",
            "\u001b[K     |████████████████████████████████| 1.2 MB 15.3 MB/s \n",
            "\u001b[?25h"
          ]
        }
      ]
    },
    {
      "cell_type": "code",
      "metadata": {
        "colab": {
          "base_uri": "https://localhost:8080/"
        },
        "id": "Xh4ZQuEAhyf1",
        "outputId": "6f7dc2f7-b861-4758-904e-90fe655af06e"
      },
      "source": [
        "# # Mount Google drive to upload datasets\n",
        "from google.colab import drive\n",
        "drive.mount('/content/drive')"
      ],
      "execution_count": 3,
      "outputs": [
        {
          "output_type": "stream",
          "name": "stdout",
          "text": [
            "Mounted at /content/drive\n"
          ]
        }
      ]
    },
    {
      "cell_type": "code",
      "metadata": {
        "id": "AFt05MH047S_"
      },
      "source": [
        "# The path to the data on my drive\n",
        "D = '/content/drive/My Drive/W266_Project_Data/pmi_data'"
      ],
      "execution_count": 4,
      "outputs": []
    },
    {
      "cell_type": "code",
      "metadata": {
        "id": "73eMNw7I42QK"
      },
      "source": [
        "# Import the necessary libraries\n",
        "import numpy as np\n",
        "import pandas as pd\n",
        "import copy\n",
        "from tqdm.auto import tqdm\n",
        "from transformers import AutoTokenizer, AutoModel\n",
        "\n",
        "import torch\n",
        "from torch.utils.data import Dataset, DataLoader, WeightedRandomSampler\n",
        "from torch import optim\n",
        "import torch.nn.functional as F\n",
        "from torch.optim.lr_scheduler import ReduceLROnPlateau\n",
        "\n",
        "from sklearn.metrics import f1_score, accuracy_score, confusion_matrix, classification_report\n",
        "import seaborn as sns\n",
        "import matplotlib.pyplot as plt"
      ],
      "execution_count": 5,
      "outputs": []
    },
    {
      "cell_type": "code",
      "metadata": {
        "id": "mNmG3T1G4xa4"
      },
      "source": [
        "# Load the paraphrase training, dev, and test sets created with punjabi\n",
        "paraphrase_train = pd.read_csv(D+\"/xml/amrita-paraphrase-exact/paraphrase_train_w_punjabi.csv\")\n",
        "paraphrase_train.drop(columns={\"Unnamed: 0\"}, inplace=True)\n",
        "\n",
        "paraphrase_dev = pd.read_csv(D+\"/xml/dedup_para_dev.csv\")\n",
        "paraphrase_dev.drop(columns={\"Unnamed: 0\"}, inplace=True)\n",
        "\n",
        "paraphrase_test = pd.read_csv(D+\"/xml/dedup_para_test.csv\")\n",
        "paraphrase_test.drop(columns={\"Unnamed: 0\"}, inplace=True)"
      ],
      "execution_count": 9,
      "outputs": []
    },
    {
      "cell_type": "code",
      "metadata": {
        "colab": {
          "base_uri": "https://localhost:8080/",
          "height": 206
        },
        "id": "EbGANsqSftnV",
        "outputId": "b1934288-682b-4c76-9190-c6873c93aade"
      },
      "source": [
        "paraphrase_train.head()"
      ],
      "execution_count": 10,
      "outputs": [
        {
          "output_type": "execute_result",
          "data": {
            "text/html": [
              "<div>\n",
              "<style scoped>\n",
              "    .dataframe tbody tr th:only-of-type {\n",
              "        vertical-align: middle;\n",
              "    }\n",
              "\n",
              "    .dataframe tbody tr th {\n",
              "        vertical-align: top;\n",
              "    }\n",
              "\n",
              "    .dataframe thead th {\n",
              "        text-align: right;\n",
              "    }\n",
              "</style>\n",
              "<table border=\"1\" class=\"dataframe\">\n",
              "  <thead>\n",
              "    <tr style=\"text-align: right;\">\n",
              "      <th></th>\n",
              "      <th>sentence_1</th>\n",
              "      <th>sentence_2</th>\n",
              "      <th>label</th>\n",
              "      <th>language_task</th>\n",
              "    </tr>\n",
              "  </thead>\n",
              "  <tbody>\n",
              "    <tr>\n",
              "      <th>0</th>\n",
              "      <td>मेहरुन्निसा की शादी पाकिस्तान के जाने माने कार...</td>\n",
              "      <td>पीएम मोदी के तोहफे को अपने सिर बांध नवाज शरीफ ...</td>\n",
              "      <td>0</td>\n",
              "      <td>translate English to Hindi</td>\n",
              "    </tr>\n",
              "    <tr>\n",
              "      <th>1</th>\n",
              "      <td>ஜம்மு - காஷ்மீரில், 13 இந்திய நிலைகளை நோக்கி, ...</td>\n",
              "      <td>இந்திய படையினரிடம், சமாதானத்திற்கான வெள்ளைக் க...</td>\n",
              "      <td>0</td>\n",
              "      <td>translate English to Tamil</td>\n",
              "    </tr>\n",
              "    <tr>\n",
              "      <th>2</th>\n",
              "      <td>രാഹുൽ ഗാന്ധിയുടെ നിർദേശമനുസരിച്ചായിരുന്നു മത്സ...</td>\n",
              "      <td>സ്ഥാനാർഥിയാക്കരുതെന്ന് അഭ്യർഥിച്ചു കത്തുനൽകിയ ...</td>\n",
              "      <td>0</td>\n",
              "      <td>translate English to Malayalam</td>\n",
              "    </tr>\n",
              "    <tr>\n",
              "      <th>3</th>\n",
              "      <td>4 மணிநேரத்தில் 40 சதவீதம் வாக்குகள் மேற்கு வங்...</td>\n",
              "      <td>மேற்கு வங்காளத்தில் ஐந்தாம்கட்ட சட்டசபை தேர்தல...</td>\n",
              "      <td>1</td>\n",
              "      <td>translate English to Tamil</td>\n",
              "    </tr>\n",
              "    <tr>\n",
              "      <th>4</th>\n",
              "      <td>உத்திரமேரூர் அருகே மோட்டார் சைக்கிள் விபத்தில்...</td>\n",
              "      <td>இந்த விபத்து குறித்து உத்திரமேரூர் போலீசார் வழ...</td>\n",
              "      <td>0</td>\n",
              "      <td>translate English to Tamil</td>\n",
              "    </tr>\n",
              "  </tbody>\n",
              "</table>\n",
              "</div>"
            ],
            "text/plain": [
              "                                          sentence_1  ...                   language_task\n",
              "0  मेहरुन्निसा की शादी पाकिस्तान के जाने माने कार...  ...      translate English to Hindi\n",
              "1  ஜம்மு - காஷ்மீரில், 13 இந்திய நிலைகளை நோக்கி, ...  ...      translate English to Tamil\n",
              "2  രാഹുൽ ഗാന്ധിയുടെ നിർദേശമനുസരിച്ചായിരുന്നു മത്സ...  ...  translate English to Malayalam\n",
              "3  4 மணிநேரத்தில் 40 சதவீதம் வாக்குகள் மேற்கு வங்...  ...      translate English to Tamil\n",
              "4  உத்திரமேரூர் அருகே மோட்டார் சைக்கிள் விபத்தில்...  ...      translate English to Tamil\n",
              "\n",
              "[5 rows x 4 columns]"
            ]
          },
          "metadata": {},
          "execution_count": 10
        }
      ]
    },
    {
      "cell_type": "code",
      "metadata": {
        "id": "0dji4wrx9Q8h"
      },
      "source": [
        "# Set up the device to run on GPU if available\n",
        "device = torch.device('cuda') if torch.cuda.is_available() else torch.device('cpu')"
      ],
      "execution_count": 11,
      "outputs": []
    },
    {
      "cell_type": "code",
      "metadata": {
        "colab": {
          "base_uri": "https://localhost:8080/",
          "height": 185,
          "referenced_widgets": [
            "14aba907620e4f80be81dd8c66fbc480",
            "783e4345ff2b4d0db03b759a79026ac9",
            "61cf1b1bfb7a49c3ab64ce72663fdaec",
            "2e5cc561072544baa77fa83f4d1399e4",
            "5329deb01a1e4c2a9fa99da31a36f012",
            "f7995fc7b6384614996dcbcde2f4decf",
            "b44d15416d704dfeb4ebc0bd0c90abc7",
            "a34cc6826b334dd890d5583a2bd5706b",
            "efec893ef10f435b97b649244e41d62e",
            "f083434f9c5e4154ac2ad52be9ce1215",
            "ae649961cc934aa5bab2b37cd4fc5afd",
            "9979925a0978492a90b834cf8490482d",
            "be085d055e054b82a48bd060a69ccbc4",
            "469effe77da34aceae31b363a6acac9f",
            "96a8ae94e5ca4b3697230c2ab5e9e0b5",
            "91e60c68281b4874a109c119961bc19e",
            "2f08c909bc3a4a539b917ce70d5e3f3f",
            "b1744ee521fe421c9e20a53a89517169",
            "1355f0ed242f464fb1f383418718be05",
            "cd36afe0adc248d48e68e25cdad885a0",
            "6d883a771a5449d998d62ec429454d3c",
            "89562e8b86e7464b864f5e8f9a145d7b",
            "2c4d56ec784648e6bd85cf4d3ac005e0",
            "c3e1d465f8ca460ca6b879a604210814",
            "036a264af6174c239eda5c2dde79253f",
            "9a181f83434542cea9e662e9377b7d80",
            "85534c4b05d24ee1b7516731e2fc54a4",
            "50974a63e8054c058b9c4066e3e67574",
            "22d79b44cb064d26ba9051b53cda59b3",
            "9a0cc939f07d4524b7848d107bf056ae",
            "644aa2c4cc5c4b31abf500354a0353de",
            "9ff67cdf33fd401385c1fe1f6c49346b",
            "f1805b9522374fc0bc4175d90d842efc"
          ]
        },
        "id": "X0QlHNG50J3f",
        "outputId": "290648a7-b6ef-431a-f772-fe407a340723"
      },
      "source": [
        "# Create an instance of the tokenizer and model using Indic Bert\n",
        "tokenizer = AutoTokenizer.from_pretrained('ai4bharat/indic-bert', keep_accents=True)\n",
        "model = AutoModel.from_pretrained('ai4bharat/indic-bert')"
      ],
      "execution_count": 12,
      "outputs": [
        {
          "output_type": "display_data",
          "data": {
            "application/vnd.jupyter.widget-view+json": {
              "model_id": "14aba907620e4f80be81dd8c66fbc480",
              "version_minor": 0,
              "version_major": 2
            },
            "text/plain": [
              "Downloading:   0%|          | 0.00/507 [00:00<?, ?B/s]"
            ]
          },
          "metadata": {}
        },
        {
          "output_type": "display_data",
          "data": {
            "application/vnd.jupyter.widget-view+json": {
              "model_id": "9979925a0978492a90b834cf8490482d",
              "version_minor": 0,
              "version_major": 2
            },
            "text/plain": [
              "Downloading:   0%|          | 0.00/5.38M [00:00<?, ?B/s]"
            ]
          },
          "metadata": {}
        },
        {
          "output_type": "display_data",
          "data": {
            "application/vnd.jupyter.widget-view+json": {
              "model_id": "2c4d56ec784648e6bd85cf4d3ac005e0",
              "version_minor": 0,
              "version_major": 2
            },
            "text/plain": [
              "Downloading:   0%|          | 0.00/129M [00:00<?, ?B/s]"
            ]
          },
          "metadata": {}
        },
        {
          "output_type": "stream",
          "name": "stderr",
          "text": [
            "Some weights of the model checkpoint at ai4bharat/indic-bert were not used when initializing AlbertModel: ['sop_classifier.classifier.weight', 'predictions.LayerNorm.weight', 'predictions.decoder.bias', 'predictions.bias', 'predictions.dense.weight', 'predictions.decoder.weight', 'predictions.dense.bias', 'predictions.LayerNorm.bias', 'sop_classifier.classifier.bias']\n",
            "- This IS expected if you are initializing AlbertModel from the checkpoint of a model trained on another task or with another architecture (e.g. initializing a BertForSequenceClassification model from a BertForPreTraining model).\n",
            "- This IS NOT expected if you are initializing AlbertModel from the checkpoint of a model that you expect to be exactly identical (initializing a BertForSequenceClassification model from a BertForSequenceClassification model).\n"
          ]
        }
      ]
    },
    {
      "cell_type": "code",
      "metadata": {
        "id": "lxDEP5ZAL5DP"
      },
      "source": [
        "# Mean Pooling - Take attention mask into account for correct averaging\n",
        "def mean_pooling(model_output, attention_mask):\n",
        "    token_embeddings = model_output[0]\n",
        "    input_mask_expanded = attention_mask.unsqueeze(-1).expand(token_embeddings.size()).float()\n",
        "    sum_embeddings = torch.sum(token_embeddings * input_mask_expanded, 1)\n",
        "    sum_mask = torch.clamp(input_mask_expanded.sum(1), min=1e-9)\n",
        "    return sum_embeddings / sum_mask\n",
        "\n",
        "def sentence_embeddings(device, tokenizer, model, sentences):\n",
        "  \"\"\"Create contextualized sentence embeddings\n",
        "  \n",
        "  Parameters:\n",
        "  tokenizer: transformers tokenizer for creating word tokens\n",
        "  model:\n",
        "  sentences: sentences to generate sentence embeddings for\n",
        "  \"\"\"\n",
        "\n",
        "  # Tokenize sentences and return PyTorch tensors\n",
        "  encoded_input = tokenizer(sentences, padding=True, truncation=True, \n",
        "                            max_length=128, return_tensors='pt')\n",
        "  encoded_input = encoded_input.to(device)\n",
        "  \n",
        "  # Pass the tokenized input to the model \n",
        "  with torch.no_grad():\n",
        "    model.to(device)\n",
        "    model_output = model(**encoded_input) \n",
        "  \n",
        "  # Perform mean pooling to get total sentence embeddings\n",
        "  sentence_embeddings = mean_pooling(model_output, \n",
        "                                     encoded_input['attention_mask'])\n",
        "  \n",
        "  return sentence_embeddings"
      ],
      "execution_count": 13,
      "outputs": []
    },
    {
      "cell_type": "code",
      "metadata": {
        "id": "8jioG5HS5zVW"
      },
      "source": [
        "# An object to split and parse the training and test data fields\n",
        "class SiameseNetworkDataset(Dataset): \n",
        "  def __init__(self,training_df, device, tokenizer, model):\n",
        "    self.training_df=training_df\n",
        "    self.sent1 = self.training_df['sentence_1'].tolist()\n",
        "    self.sent2 = self.training_df['sentence_2'].tolist()\n",
        "    self.language_task = self.training_df['language_task'].tolist()\n",
        "    self.label = self.training_df['label'].tolist()\n",
        "    self.device = device\n",
        "    self.tokenizer = tokenizer\n",
        "    self.model = model\n",
        "\n",
        "  def __getitem__(self, index):\n",
        "    sent1 = self.sent1[index]\n",
        "    sent2 = self.sent2[index]\n",
        "    task = self.language_task[index]\n",
        "    label = self.label[index]\n",
        "\n",
        "    # Get the sentence embeddings for sentences 1 and 2 for each row\n",
        "    sent1_embeddings = sentence_embeddings(self.device, self.tokenizer, self.model, sent1)\n",
        "    sent2_embeddings = sentence_embeddings(self.device, self.tokenizer, self.model, sent2)\n",
        "    return sent1_embeddings, sent2_embeddings, task, torch.from_numpy(np.array(label)).long()\n",
        "\n",
        "  def __len__(self):\n",
        "    return len(self.training_df)"
      ],
      "execution_count": 14,
      "outputs": []
    },
    {
      "cell_type": "code",
      "metadata": {
        "id": "FXISLYSfpF77"
      },
      "source": [
        "# Create separate instances of the Siamese Network dataset class using training, dev, and testing data\n",
        "siamese_train = SiameseNetworkDataset(paraphrase_train, device, tokenizer, model)\n",
        "siamese_dev = SiameseNetworkDataset(paraphrase_dev, device, tokenizer, model)\n",
        "siamese_test = SiameseNetworkDataset(paraphrase_test, device, tokenizer, model)"
      ],
      "execution_count": 15,
      "outputs": []
    },
    {
      "cell_type": "code",
      "metadata": {
        "id": "PfvUrnFapXHY"
      },
      "source": [
        "# Get the label for every row in the training dataset and convert it to tensor form\n",
        "target_list = []\n",
        "\n",
        "for sent1, sent2, task, label in siamese_train:\n",
        "  target_list.append(label)\n",
        "\n",
        "# Store the torch form of the target label   \n",
        "target_list = torch.tensor(target_list)"
      ],
      "execution_count": 16,
      "outputs": []
    },
    {
      "cell_type": "code",
      "metadata": {
        "colab": {
          "base_uri": "https://localhost:8080/"
        },
        "id": "PegVArvcp0Kp",
        "outputId": "bf5cdb9e-1994-4595-8a12-32d5b78142aa"
      },
      "source": [
        "# Weight the labels by their frequency in the dataset - this will help our accuracy if there is an imbalance in classes (P vs NP)\n",
        "class_count = [len(paraphrase_train[paraphrase_train.label == 0]),len(paraphrase_train[paraphrase_train.label == 1])]\n",
        "print(class_count)\n",
        "class_weights = 1./torch.tensor(class_count, dtype=torch.float) \n",
        "print(class_weights)"
      ],
      "execution_count": 17,
      "outputs": [
        {
          "output_type": "stream",
          "name": "stdout",
          "text": [
            "[5500, 3700]\n",
            "tensor([0.0002, 0.0003])\n"
          ]
        }
      ]
    },
    {
      "cell_type": "code",
      "metadata": {
        "id": "baoGtrVCwDB2"
      },
      "source": [
        "# Create a list of the weighted labels to pass to the dataloader object\n",
        "class_weights_all = class_weights[target_list]"
      ],
      "execution_count": 18,
      "outputs": []
    },
    {
      "cell_type": "code",
      "metadata": {
        "id": "Q3N0bGQ2xOTq"
      },
      "source": [
        "# Create the weighted sampler object to pass to the training data loader\n",
        "weighted_sampler = WeightedRandomSampler(\n",
        "    weights=class_weights_all,\n",
        "    num_samples=len(class_weights_all),\n",
        "    replacement=True\n",
        ")"
      ],
      "execution_count": 19,
      "outputs": []
    },
    {
      "cell_type": "code",
      "metadata": {
        "id": "wW18Wb2xaYqx"
      },
      "source": [
        "# Pass the training data into the training loader \n",
        "train_loader = DataLoader(siamese_train, batch_size = 32, sampler=weighted_sampler)\n",
        "\n",
        "# Create the dev and test data loaders\n",
        "val_loader = DataLoader(siamese_dev, batch_size=16)\n",
        "test_loader = DataLoader(siamese_test, batch_size=16)"
      ],
      "execution_count": 20,
      "outputs": []
    },
    {
      "cell_type": "code",
      "metadata": {
        "id": "8214ILXnuyoe"
      },
      "source": [
        "class SiameseNet(torch.nn.Module):\n",
        "    def __init__(self):\n",
        "      super(SiameseNet, self).__init__()\n",
        "\n",
        "      # Set up a fully-connected layer to apply to each incoming sentence vector\n",
        "      # Use a dense layer (nn.Linear) to reduce the dimensionality of the input embeddings\n",
        "      # use a relu activation function\n",
        "      self.fc = torch.nn.Sequential(\n",
        "            torch.nn.Linear(768, 128),\n",
        "            torch.nn.LayerNorm(128),\n",
        "            torch.nn.ReLU(inplace=True))\n",
        "      \n",
        "      self.relu = torch.nn.ReLU(inplace=True)\n",
        "      self.batch2 = torch.nn.LayerNorm(384)\n",
        "      self.ffn = torch.nn.Linear(384, 128)\n",
        "      self.batch3 = torch.nn.LayerNorm(128)\n",
        "      self.layer_out = torch.nn.Linear(128,1)\n",
        "\n",
        "      # Add drop out\n",
        "      self.drop = torch.nn.Dropout(0.5)\n",
        "\n",
        "    # left and right represent columns in our data\n",
        "    def forward(self, left, right):\n",
        "\n",
        "      # Get the sentence embeddings \n",
        "      u = left\n",
        "      v = right\n",
        "\n",
        "      # Reduce the dimensionality\n",
        "      u = self.fc(u)\n",
        "      v = self.fc(v)\n",
        "\n",
        "      # Get the absolute value of the difference of the vectors\n",
        "      uv = torch.sub(u, v)\n",
        "      uv_abs = torch.abs(uv)\n",
        "\n",
        "      # concatenate u, v, and the absolute value of the element-wise difference between the embeddings\n",
        "      x = torch.cat([u, v, uv_abs], dim=-1)\n",
        "\n",
        "      # Normalize the concatenated batch\n",
        "      x = self.batch2(x)\n",
        "\n",
        "      # Use the relu activation function\n",
        "      x = self.relu(x)\n",
        "\n",
        "      # Pass the concatenated layers through a dense layer to reduce the dimensionality from 2304 to 128\n",
        "      x = self.ffn(x)\n",
        "      # Normalize the concatenated layers\n",
        "      x = self.batch3(x)\n",
        "      # Pass through relu activation\n",
        "      x = self.relu(x)\n",
        "      # Implement drop out to avoid overfitting\n",
        "      x = self.drop(x)\n",
        "      # Pass the output through a final dense layer\n",
        "      output = self.layer_out(x)\n",
        "      # Reshape the output to have the same dimension as the target labels\n",
        "      output = output[:,-1,:]\n",
        "\n",
        "      return output"
      ],
      "execution_count": 21,
      "outputs": []
    },
    {
      "cell_type": "code",
      "metadata": {
        "id": "oxy-JaCjXl_U"
      },
      "source": [
        "# Create an instance of the Siamese model network\n",
        "# Declare Siamese Network\n",
        "net = SiameseNet().to(device)\n",
        "\n",
        "# Set the criteria for evaluation and training - use cross-entropy since we're doing classification and want to retrieve the labels\n",
        "criterion = torch.nn.BCEWithLogitsLoss()\n",
        "\n",
        "# Set the optimizer and pass to it the model parameters and learning rate\n",
        "optimizer = optim.Adam(net.parameters(), lr=1e-4)\n",
        "\n",
        "# Create an instance of the scheduler and specify to decrease the learning rate if no improvement after 3 epochs\n",
        "scheduler = ReduceLROnPlateau(optimizer, 'min', patience = 3)"
      ],
      "execution_count": 30,
      "outputs": []
    },
    {
      "cell_type": "code",
      "metadata": {
        "id": "vfnRRRF0t-ZA"
      },
      "source": [
        "def binary_acc(y_pred, y_test):\n",
        "    y_pred_tag = torch.round(torch.sigmoid(y_pred))\n",
        "\n",
        "    correct_results_sum = (y_pred_tag == y_test).sum().float()\n",
        "    acc = correct_results_sum/y_test.shape[0]\n",
        "    acc = torch.round(acc * 100)\n",
        "    \n",
        "    return acc"
      ],
      "execution_count": 31,
      "outputs": []
    },
    {
      "cell_type": "code",
      "metadata": {
        "id": "TTz5sETjt_VS"
      },
      "source": [
        "# Create dictionaries to hold the training and validation accuracy and loss metrics at each epoch\n",
        "epoch_accuracies = {\n",
        "    'train': [],\n",
        "    \"val\": []}\n",
        "\n",
        "epoch_losses = {\n",
        "    'train': [],\n",
        "    \"val\": []}"
      ],
      "execution_count": 32,
      "outputs": []
    },
    {
      "cell_type": "code",
      "metadata": {
        "colab": {
          "base_uri": "https://localhost:8080/",
          "height": 396,
          "referenced_widgets": [
            "de16b354b4c84aefad4f500a8bd95983",
            "913de3b19b7f4880bbb1c8bfdd20600f",
            "822f024afa9345dd88752e4d7be88524",
            "9481fc41d04c4da0b90a00cad65084a5",
            "d4d8f6cc0795463dabbd74b1a32e1e13",
            "ec299515e79d4634b79dce86831198a0",
            "f81ecf8c08c44843b4874e3d56dc5495",
            "66194a4057814d0f8da0044867fda570",
            "4a77a1e0d370482383907bafd32b674c",
            "9da6a04b8efc421c8a3e03640f280c46",
            "a609d18d36884904a28182a1b335464f"
          ]
        },
        "id": "YLWCES7i8qt7",
        "outputId": "a3d9e8c5-016b-4a19-a0ec-e2e0013e3978"
      },
      "source": [
        "EPOCHS = 20\n",
        "\n",
        "\n",
        "for e in tqdm(range(1, EPOCHS+1)):\n",
        "    \n",
        "    # Initialize the training epoch and accuracy loss as 0\n",
        "    train_epoch_loss = 0\n",
        "    train_epoch_acc = 0\n",
        "\n",
        "    # Place the Siamese network into training mode\n",
        "    net.train()\n",
        "    \n",
        "    # Loop over records in the training data loader\n",
        "    for i, data in enumerate(train_loader, 0):\n",
        "      sent1, sent2, task, label = data\n",
        "      label = label.type(torch.FloatTensor).reshape((label.shape[0], 1))\n",
        "      # Send the training data to GPU\n",
        "      sent1, sent2, label = sent1.to(device), sent2.to(device), label.to(device)\n",
        "      # Zero the gradient\n",
        "      optimizer.zero_grad()\n",
        "      # Get the predicted softmaxes\n",
        "      train_pred = net(sent1, sent2)\n",
        "      # Get the predicted labels\n",
        "      train_loss = criterion(train_pred, label)\n",
        "      # Find the training rate accuracy\n",
        "      train_acc = binary_acc(train_pred, label)\n",
        "      \n",
        "      train_loss.backward()\n",
        "      optimizer.step()\n",
        "\n",
        "      # Update the loss and accuracy for the current epoch  \n",
        "      train_epoch_loss += train_loss.item()\n",
        "      train_epoch_acc += train_acc.item()   \n",
        "        \n",
        "    # Enter validation phase   \n",
        "    with torch.no_grad():\n",
        "        \n",
        "        # Initialize the validation loss and accuracy rates as 0\n",
        "        val_epoch_loss = 0\n",
        "        val_epoch_acc = 0\n",
        "        \n",
        "        # Place the model into evaluation mode\n",
        "        net.eval()\n",
        "\n",
        "        # Loop over records in the validation dataloader\n",
        "        for i, data in enumerate(val_loader, 0):\n",
        "          sent1_val, sent2_val, task_val, label_val = data\n",
        "          label_val = label_val.type(torch.FloatTensor).reshape((label_val.shape[0], 1))\n",
        "\n",
        "          # Send the validation data to GPU\n",
        "          sent1_val, sent2_val, label_val = sent1_val.to(device), sent2_val.to(device), label_val.to(device)\n",
        "\n",
        "          # Get the validation predictions          \n",
        "          val_pred = net(sent1_val, sent2_val)\n",
        "          # Find the validation loss and accuracy\n",
        "          val_loss = criterion(val_pred, label_val)\n",
        "          val_acc = binary_acc(val_pred, label_val)\n",
        "          \n",
        "          # Update the validation loss and accuracy rates\n",
        "          val_epoch_loss += val_loss.item()\n",
        "          val_epoch_acc += val_acc.item()\n",
        "    \n",
        "    # Get the current learning rate of the optimizer\n",
        "    curr_lr = optimizer.param_groups[0]['lr']\n",
        "\n",
        "    \n",
        "    # Store the epoch's training and validaion accuracies and losses\n",
        "    epoch_losses['train'].append(train_epoch_loss/len(train_loader))\n",
        "    epoch_losses['val'].append(val_epoch_loss/len(val_loader))\n",
        "    epoch_accuracies['train'].append(train_epoch_acc/len(train_loader))\n",
        "    epoch_accuracies['val'].append(val_epoch_acc/len(val_loader))\n",
        "\n",
        "    # Print the epoch number, average training loss, average validation loss, and current learning rate\n",
        "    print(f'Epoch {e}\\t \\\n",
        "            Training Loss: {train_epoch_loss/len(train_loader)}\\t \\\n",
        "            Validation Loss:{val_epoch_loss/len(val_loader)}\\t \\\n",
        "            LR:{curr_lr}')\n",
        "    \n",
        "    # Update the scheduler using the last average validation loss\n",
        "    scheduler.step(val_epoch_loss/len(val_loader))\n",
        "\n"
      ],
      "execution_count": 33,
      "outputs": [
        {
          "output_type": "display_data",
          "data": {
            "application/vnd.jupyter.widget-view+json": {
              "model_id": "de16b354b4c84aefad4f500a8bd95983",
              "version_minor": 0,
              "version_major": 2
            },
            "text/plain": [
              "  0%|          | 0/20 [00:00<?, ?it/s]"
            ]
          },
          "metadata": {}
        },
        {
          "output_type": "stream",
          "name": "stdout",
          "text": [
            "Epoch 1\t             Training Loss: 0.5959597118198872\t             Validation Loss:0.501184488486762\t             LR:0.0001\n",
            "Epoch 2\t             Training Loss: 0.42612481200032765\t             Validation Loss:0.44326251128105204\t             LR:0.0001\n",
            "Epoch 3\t             Training Loss: 0.328363665431324\t             Validation Loss:0.42621649030332615\t             LR:0.0001\n",
            "Epoch 4\t             Training Loss: 0.273931700632804\t             Validation Loss:0.4504159583587839\t             LR:0.0001\n",
            "Epoch 5\t             Training Loss: 0.22925046890870565\t             Validation Loss:0.45801599880661625\t             LR:0.0001\n",
            "Epoch 6\t             Training Loss: 0.19582751703759035\t             Validation Loss:0.46208471736183976\t             LR:0.0001\n",
            "Epoch 7\t             Training Loss: 0.15748448055496234\t             Validation Loss:0.48409490963688706\t             LR:0.0001\n",
            "Epoch 8\t             Training Loss: 0.12681970097279796\t             Validation Loss:0.49952873373121925\t             LR:1e-05\n",
            "Epoch 9\t             Training Loss: 0.11284261709079146\t             Validation Loss:0.4984354695700335\t             LR:1e-05\n",
            "Epoch 10\t             Training Loss: 0.10274159269303912\t             Validation Loss:0.5061985865385845\t             LR:1e-05\n",
            "Epoch 11\t             Training Loss: 0.0973025222774595\t             Validation Loss:0.5082803780419959\t             LR:1e-05\n",
            "Epoch 12\t             Training Loss: 0.10003931533881566\t             Validation Loss:0.5079768140884963\t             LR:1.0000000000000002e-06\n",
            "Epoch 13\t             Training Loss: 0.0929871226221116\t             Validation Loss:0.5076781095598232\t             LR:1.0000000000000002e-06\n",
            "Epoch 14\t             Training Loss: 0.09277445643803933\t             Validation Loss:0.5069413178158227\t             LR:1.0000000000000002e-06\n",
            "Epoch 15\t             Training Loss: 0.0897847820370872\t             Validation Loss:0.5081410152517786\t             LR:1.0000000000000002e-06\n",
            "Epoch 16\t             Training Loss: 0.09436491411826056\t             Validation Loss:0.5085520863137913\t             LR:1.0000000000000002e-07\n",
            "Epoch 17\t             Training Loss: 0.09141816249272476\t             Validation Loss:0.5086859760410858\t             LR:1.0000000000000002e-07\n",
            "Epoch 18\t             Training Loss: 0.0927510545653705\t             Validation Loss:0.5088227281553878\t             LR:1.0000000000000002e-07\n",
            "Epoch 19\t             Training Loss: 0.09112795224387406\t             Validation Loss:0.509162259062357\t             LR:1.0000000000000002e-07\n",
            "Epoch 20\t             Training Loss: 0.0903520720765098\t             Validation Loss:0.5091865252646984\t             LR:1.0000000000000004e-08\n"
          ]
        }
      ]
    },
    {
      "cell_type": "code",
      "metadata": {
        "colab": {
          "base_uri": "https://localhost:8080/"
        },
        "id": "L1vesiPk3dEn",
        "outputId": "675fd927-c548-4feb-a904-7124922bbe33"
      },
      "source": [
        "epoch_accuracies"
      ],
      "execution_count": 34,
      "outputs": [
        {
          "output_type": "execute_result",
          "data": {
            "text/plain": [
              "{'train': [67.39930555555556,\n",
              "  81.70833333333333,\n",
              "  87.40277777777777,\n",
              "  89.96875,\n",
              "  92.14583333333333,\n",
              "  93.29513888888889,\n",
              "  94.84027777777777,\n",
              "  96.23263888888889,\n",
              "  96.85416666666667,\n",
              "  97.30208333333333,\n",
              "  97.61458333333333,\n",
              "  97.42708333333333,\n",
              "  97.80208333333333,\n",
              "  97.86458333333333,\n",
              "  97.92708333333333,\n",
              "  97.61111111111111,\n",
              "  98.0,\n",
              "  97.77430555555556,\n",
              "  97.89583333333333,\n",
              "  97.96875],\n",
              " 'val': [76.4949494949495,\n",
              "  79.14141414141415,\n",
              "  80.88888888888889,\n",
              "  79.61616161616162,\n",
              "  79.45454545454545,\n",
              "  80.63636363636364,\n",
              "  80.75757575757575,\n",
              "  80.94949494949495,\n",
              "  81.08080808080808,\n",
              "  80.95959595959596,\n",
              "  81.08080808080808,\n",
              "  81.27272727272727,\n",
              "  81.1919191919192,\n",
              "  81.12121212121212,\n",
              "  81.06060606060606,\n",
              "  81.06060606060606,\n",
              "  81.06060606060606,\n",
              "  81.06060606060606,\n",
              "  81.06060606060606,\n",
              "  81.06060606060606]}"
            ]
          },
          "metadata": {},
          "execution_count": 34
        }
      ]
    },
    {
      "cell_type": "code",
      "metadata": {
        "colab": {
          "base_uri": "https://localhost:8080/"
        },
        "id": "JBQSPo-xwdWZ",
        "outputId": "48a9af5f-825f-49db-a1d6-70f84de0d5d1"
      },
      "source": [
        "epoch_losses"
      ],
      "execution_count": 35,
      "outputs": [
        {
          "output_type": "execute_result",
          "data": {
            "text/plain": [
              "{'train': [0.5959597118198872,\n",
              "  0.42612481200032765,\n",
              "  0.328363665431324,\n",
              "  0.273931700632804,\n",
              "  0.22925046890870565,\n",
              "  0.19582751703759035,\n",
              "  0.15748448055496234,\n",
              "  0.12681970097279796,\n",
              "  0.11284261709079146,\n",
              "  0.10274159269303912,\n",
              "  0.0973025222774595,\n",
              "  0.10003931533881566,\n",
              "  0.0929871226221116,\n",
              "  0.09277445643803933,\n",
              "  0.0897847820370872,\n",
              "  0.09436491411826056,\n",
              "  0.09141816249272476,\n",
              "  0.0927510545653705,\n",
              "  0.09112795224387406,\n",
              "  0.0903520720765098],\n",
              " 'val': [0.501184488486762,\n",
              "  0.44326251128105204,\n",
              "  0.42621649030332615,\n",
              "  0.4504159583587839,\n",
              "  0.45801599880661625,\n",
              "  0.46208471736183976,\n",
              "  0.48409490963688706,\n",
              "  0.49952873373121925,\n",
              "  0.4984354695700335,\n",
              "  0.5061985865385845,\n",
              "  0.5082803780419959,\n",
              "  0.5079768140884963,\n",
              "  0.5076781095598232,\n",
              "  0.5069413178158227,\n",
              "  0.5081410152517786,\n",
              "  0.5085520863137913,\n",
              "  0.5086859760410858,\n",
              "  0.5088227281553878,\n",
              "  0.509162259062357,\n",
              "  0.5091865252646984]}"
            ]
          },
          "metadata": {},
          "execution_count": 35
        }
      ]
    },
    {
      "cell_type": "code",
      "metadata": {
        "colab": {
          "base_uri": "https://localhost:8080/"
        },
        "id": "z6c0E9X4PstU",
        "outputId": "a214358a-407c-4286-cc1f-8eaab1dc7b77"
      },
      "source": [
        "print(max(epoch_accuracies.get('train')))\n",
        "print(max(epoch_accuracies.get('val')))"
      ],
      "execution_count": 36,
      "outputs": [
        {
          "output_type": "stream",
          "name": "stdout",
          "text": [
            "98.0\n",
            "81.27272727272727\n"
          ]
        }
      ]
    },
    {
      "cell_type": "code",
      "metadata": {
        "colab": {
          "base_uri": "https://localhost:8080/"
        },
        "id": "UAjzkvu7e8H-",
        "outputId": "02a74ab9-72a8-4884-ff60-04088da01634"
      },
      "source": [
        "print(min(epoch_accuracies.get('train')))\n",
        "print(min(epoch_accuracies.get('val')))"
      ],
      "execution_count": 37,
      "outputs": [
        {
          "output_type": "stream",
          "name": "stdout",
          "text": [
            "67.39930555555556\n",
            "76.4949494949495\n"
          ]
        }
      ]
    },
    {
      "cell_type": "code",
      "metadata": {
        "colab": {
          "base_uri": "https://localhost:8080/"
        },
        "id": "s-ScqobDQb9u",
        "outputId": "bd075b61-3609-4908-be0a-8d8f3ee90748"
      },
      "source": [
        "print(min(epoch_losses.get('train')))\n",
        "print(max(epoch_losses.get('train')))"
      ],
      "execution_count": 38,
      "outputs": [
        {
          "output_type": "stream",
          "name": "stdout",
          "text": [
            "0.0897847820370872\n",
            "0.5959597118198872\n"
          ]
        }
      ]
    },
    {
      "cell_type": "code",
      "metadata": {
        "colab": {
          "base_uri": "https://localhost:8080/"
        },
        "id": "NbqTDh4yQsAw",
        "outputId": "4b12c1f7-75cc-4815-db3d-7898fb5f1e9e"
      },
      "source": [
        "print(min(epoch_losses.get('val')))\n",
        "print(max(epoch_losses.get('val')))"
      ],
      "execution_count": 39,
      "outputs": [
        {
          "output_type": "stream",
          "name": "stdout",
          "text": [
            "0.42621649030332615\n",
            "0.5091865252646984\n"
          ]
        }
      ]
    },
    {
      "cell_type": "code",
      "metadata": {
        "id": "FhnByeEQ67Xo",
        "colab": {
          "base_uri": "https://localhost:8080/",
          "height": 475
        },
        "outputId": "d98c1658-bb38-447a-fb66-2278460843cd"
      },
      "source": [
        "# Create dataframes from the average training accuracy and loss \n",
        "train_val_acc_df = pd.DataFrame.from_dict(epoch_accuracies).reset_index().melt(id_vars=['index']).rename(columns={\"index\":\"epochs\"})\n",
        "train_val_loss_df = pd.DataFrame.from_dict(epoch_losses).reset_index().melt(id_vars=['index']).rename(columns={\"index\":\"epochs\"})# Plot the dataframes\n",
        "fig, axes = plt.subplots(nrows=1, ncols=2, figsize=(20,7))\n",
        "sns.lineplot(data=train_val_acc_df, x = \"epochs\", y=\"value\", hue=\"variable\",  ax=axes[0]).set_title('Train-Val Accuracy/Epoch')\n",
        "sns.lineplot(data=train_val_loss_df, x = \"epochs\", y=\"value\", hue=\"variable\", ax=axes[1]).set_title('Train-Val Loss/Epoch')"
      ],
      "execution_count": 40,
      "outputs": [
        {
          "output_type": "execute_result",
          "data": {
            "text/plain": [
              "Text(0.5, 1.0, 'Train-Val Loss/Epoch')"
            ]
          },
          "metadata": {},
          "execution_count": 40
        },
        {
          "output_type": "display_data",
          "data": {
            "image/png": "[encoded data removed]",
            "text/plain": [
              "<Figure size 1440x504 with 2 Axes>"
            ]
          },
          "metadata": {
            "needs_background": "light"
          }
        }
      ]
    },
    {
      "cell_type": "code",
      "metadata": {
        "id": "YfAxcbJfEiU9"
      },
      "source": [
        "# Get the test accuracy and labels\n",
        "y_pred_list = []\n",
        "y_actual_list = []\n",
        "y_language_task = []\n",
        "y_loss = 0\n",
        "\n",
        "with torch.no_grad():\n",
        "\n",
        "  # Place the model into evaluation mode\n",
        "    net.eval()\n",
        "\n",
        "    # Loop over the test set\n",
        "    for i, data in enumerate(test_loader, 0):\n",
        "\n",
        "      # Extract the test set components\n",
        "      sent1_test, sent2_test, task_test, label_test = data\n",
        "\n",
        "      # Store the language tasks and actual labels to check model performance\n",
        "      y_actual_list.extend(label_test.tolist())\n",
        "      y_language_task.extend(task_test)\n",
        "\n",
        "      # Reshape the test label to have the same dimensions as the model output\n",
        "      label_test = label_test.type(torch.FloatTensor).reshape((label_test.shape[0], 1))\n",
        "\n",
        "      # Send the test data to GPU\n",
        "      sent1_test, sent2_test, label_test = sent1_test.to(device), sent2_test.to(device), label_test.to(device)\n",
        "\n",
        "      # Get the test set predictions\n",
        "      test_pred = net(sent1_test, sent2_test)\n",
        "\n",
        "      # Get the test loss and add it to y_loss\n",
        "      test_loss = criterion(test_pred, label_test)\n",
        "\n",
        "      # Add the test loss from that batch to the running total\n",
        "      y_loss += test_loss.item()\n",
        "            \n",
        "      # Get the predicted test labels\n",
        "      y_test_pred = torch.round(torch.sigmoid(test_pred)).long()\n",
        "\n",
        "      # Add the test labels to their respective list\n",
        "      y_pred_list.extend(y_test_pred)\n",
        "\n",
        "    # Get the average test loss\n",
        "    y_avg_loss = y_loss/len(test_loader)"
      ],
      "execution_count": 41,
      "outputs": []
    },
    {
      "cell_type": "code",
      "metadata": {
        "colab": {
          "base_uri": "https://localhost:8080/"
        },
        "id": "Ifi1WPwJo0M6",
        "outputId": "a7d6e174-b10a-4615-babf-2377e0750911"
      },
      "source": [
        "# Print the average test loss\n",
        "print(f'Average test loss: {y_avg_loss}')"
      ],
      "execution_count": 42,
      "outputs": [
        {
          "output_type": "stream",
          "name": "stdout",
          "text": [
            "Average test loss: 0.5255328292412815\n"
          ]
        }
      ]
    },
    {
      "cell_type": "code",
      "metadata": {
        "id": "ZIvOcEeXAte8"
      },
      "source": [
        "# Create a dataframe from test performance\n",
        "y_pred = [x.item() for x in y_pred_list]\n",
        "test_performance = pd.DataFrame(list(zip(y_language_task, y_actual_list, y_pred)),columns =['language', 'actual_label', 'predicted_label'])"
      ],
      "execution_count": 43,
      "outputs": []
    },
    {
      "cell_type": "code",
      "metadata": {
        "colab": {
          "base_uri": "https://localhost:8080/",
          "height": 206
        },
        "id": "sOin7qfqA-qa",
        "outputId": "c22d5ef7-1b8b-44e3-9138-e55212d6b797"
      },
      "source": [
        "# Check the first few rows\n",
        "test_performance.head()"
      ],
      "execution_count": 44,
      "outputs": [
        {
          "output_type": "execute_result",
          "data": {
            "text/html": [
              "<div>\n",
              "<style scoped>\n",
              "    .dataframe tbody tr th:only-of-type {\n",
              "        vertical-align: middle;\n",
              "    }\n",
              "\n",
              "    .dataframe tbody tr th {\n",
              "        vertical-align: top;\n",
              "    }\n",
              "\n",
              "    .dataframe thead th {\n",
              "        text-align: right;\n",
              "    }\n",
              "</style>\n",
              "<table border=\"1\" class=\"dataframe\">\n",
              "  <thead>\n",
              "    <tr style=\"text-align: right;\">\n",
              "      <th></th>\n",
              "      <th>language</th>\n",
              "      <th>actual_label</th>\n",
              "      <th>predicted_label</th>\n",
              "    </tr>\n",
              "  </thead>\n",
              "  <tbody>\n",
              "    <tr>\n",
              "      <th>0</th>\n",
              "      <td>translate English to Hindi</td>\n",
              "      <td>0</td>\n",
              "      <td>0</td>\n",
              "    </tr>\n",
              "    <tr>\n",
              "      <th>1</th>\n",
              "      <td>translate English to Hindi</td>\n",
              "      <td>0</td>\n",
              "      <td>0</td>\n",
              "    </tr>\n",
              "    <tr>\n",
              "      <th>2</th>\n",
              "      <td>translate English to Hindi</td>\n",
              "      <td>1</td>\n",
              "      <td>1</td>\n",
              "    </tr>\n",
              "    <tr>\n",
              "      <th>3</th>\n",
              "      <td>translate English to Hindi</td>\n",
              "      <td>0</td>\n",
              "      <td>0</td>\n",
              "    </tr>\n",
              "    <tr>\n",
              "      <th>4</th>\n",
              "      <td>translate English to Hindi</td>\n",
              "      <td>1</td>\n",
              "      <td>1</td>\n",
              "    </tr>\n",
              "  </tbody>\n",
              "</table>\n",
              "</div>"
            ],
            "text/plain": [
              "                     language  actual_label  predicted_label\n",
              "0  translate English to Hindi             0                0\n",
              "1  translate English to Hindi             0                0\n",
              "2  translate English to Hindi             1                1\n",
              "3  translate English to Hindi             0                0\n",
              "4  translate English to Hindi             1                1"
            ]
          },
          "metadata": {},
          "execution_count": 44
        }
      ]
    },
    {
      "cell_type": "code",
      "metadata": {
        "id": "pqrWUi6mBEHj"
      },
      "source": [
        "# Write the test set and predictions to a csv\n",
        "final = pd.concat([test_performance, paraphrase_test[['sentence_1', 'sentence_2']]], axis=1)"
      ],
      "execution_count": 45,
      "outputs": []
    },
    {
      "cell_type": "code",
      "metadata": {
        "colab": {
          "base_uri": "https://localhost:8080/",
          "height": 206
        },
        "id": "aLNLeo2UCbVn",
        "outputId": "e47b9291-fdac-43f6-9e25-299347dd139d"
      },
      "source": [
        "final.head()"
      ],
      "execution_count": 46,
      "outputs": [
        {
          "output_type": "execute_result",
          "data": {
            "text/html": [
              "<div>\n",
              "<style scoped>\n",
              "    .dataframe tbody tr th:only-of-type {\n",
              "        vertical-align: middle;\n",
              "    }\n",
              "\n",
              "    .dataframe tbody tr th {\n",
              "        vertical-align: top;\n",
              "    }\n",
              "\n",
              "    .dataframe thead th {\n",
              "        text-align: right;\n",
              "    }\n",
              "</style>\n",
              "<table border=\"1\" class=\"dataframe\">\n",
              "  <thead>\n",
              "    <tr style=\"text-align: right;\">\n",
              "      <th></th>\n",
              "      <th>language</th>\n",
              "      <th>actual_label</th>\n",
              "      <th>predicted_label</th>\n",
              "      <th>sentence_1</th>\n",
              "      <th>sentence_2</th>\n",
              "    </tr>\n",
              "  </thead>\n",
              "  <tbody>\n",
              "    <tr>\n",
              "      <th>0</th>\n",
              "      <td>translate English to Hindi</td>\n",
              "      <td>0</td>\n",
              "      <td>0</td>\n",
              "      <td>निशा प्रतिदिन दादी को सीतारामजी के मंदिर में द...</td>\n",
              "      <td>जयपुर-कोटा के बीच 248 किलोमीटर की दूरी होने के...</td>\n",
              "    </tr>\n",
              "    <tr>\n",
              "      <th>1</th>\n",
              "      <td>translate English to Hindi</td>\n",
              "      <td>0</td>\n",
              "      <td>0</td>\n",
              "      <td>मनरेगा के मजदूर पीएम मोदी को लौटाएंगे पांच रुपए</td>\n",
              "      <td>मिलान कोर्ट  ऑफ अपील्स  के आदेश के बाद पहली बा...</td>\n",
              "    </tr>\n",
              "    <tr>\n",
              "      <th>2</th>\n",
              "      <td>translate English to Hindi</td>\n",
              "      <td>1</td>\n",
              "      <td>1</td>\n",
              "      <td>पाकिस्तान को दिया करारा जवाब</td>\n",
              "      <td>पाक को दिया मुंहतोड़ जवाब</td>\n",
              "    </tr>\n",
              "    <tr>\n",
              "      <th>3</th>\n",
              "      <td>translate English to Hindi</td>\n",
              "      <td>0</td>\n",
              "      <td>0</td>\n",
              "      <td>स्कूल में दो बिल्डिंग हैं।</td>\n",
              "      <td>जिस समय पुलिस स्कूल पहुंची, उस समय करीब पांच ह...</td>\n",
              "    </tr>\n",
              "    <tr>\n",
              "      <th>4</th>\n",
              "      <td>translate English to Hindi</td>\n",
              "      <td>1</td>\n",
              "      <td>1</td>\n",
              "      <td>रेप के मामले में वह पीड़िता से समझौते का दवाब ...</td>\n",
              "      <td>वह पीड़िता से रेप के मामले में समझौते का दवाब ब...</td>\n",
              "    </tr>\n",
              "  </tbody>\n",
              "</table>\n",
              "</div>"
            ],
            "text/plain": [
              "                     language  ...                                         sentence_2\n",
              "0  translate English to Hindi  ...  जयपुर-कोटा के बीच 248 किलोमीटर की दूरी होने के...\n",
              "1  translate English to Hindi  ...  मिलान कोर्ट  ऑफ अपील्स  के आदेश के बाद पहली बा...\n",
              "2  translate English to Hindi  ...                          पाक को दिया मुंहतोड़ जवाब\n",
              "3  translate English to Hindi  ...  जिस समय पुलिस स्कूल पहुंची, उस समय करीब पांच ह...\n",
              "4  translate English to Hindi  ...  वह पीड़िता से रेप के मामले में समझौते का दवाब ब...\n",
              "\n",
              "[5 rows x 5 columns]"
            ]
          },
          "metadata": {},
          "execution_count": 46
        }
      ]
    },
    {
      "cell_type": "code",
      "metadata": {
        "colab": {
          "base_uri": "https://localhost:8080/"
        },
        "id": "vb63FB0tFWez",
        "outputId": "74258147-861c-41a4-91cd-e39d23c77eb4"
      },
      "source": [
        "# Get the overall accuracy rate with sklearn accuracy score\n",
        "# Accuracy is approximately 80%\n",
        "accuracy_score(y_actual_list, y_pred)"
      ],
      "execution_count": 47,
      "outputs": [
        {
          "output_type": "execute_result",
          "data": {
            "text/plain": [
              "0.8030495552731893"
            ]
          },
          "metadata": {},
          "execution_count": 47
        }
      ]
    },
    {
      "cell_type": "code",
      "metadata": {
        "colab": {
          "base_uri": "https://localhost:8080/"
        },
        "id": "3IdLuRAaFuXh",
        "outputId": "8a04d07f-fba7-4874-83ea-97ede6f0599a"
      },
      "source": [
        "# Get the overall f1-score\n",
        "f1_score(y_actual_list, y_pred)"
      ],
      "execution_count": 48,
      "outputs": [
        {
          "output_type": "execute_result",
          "data": {
            "text/plain": [
              "0.7658610271903323"
            ]
          },
          "metadata": {},
          "execution_count": 48
        }
      ]
    },
    {
      "cell_type": "code",
      "metadata": {
        "colab": {
          "base_uri": "https://localhost:8080/"
        },
        "id": "RUOsK8ZHLXUh",
        "outputId": "a40f7966-e73b-41ae-cce8-1dd070cc26cf"
      },
      "source": [
        "# Get the accuracy scores on Hindi\n",
        "hi_test = test_performance[test_performance.language == 'translate English to Hindi']\n",
        "# The model performs very well on Hindi\n",
        "print(accuracy_score(hi_test.actual_label.tolist(), hi_test.predicted_label.tolist()))\n",
        "# Get the f1-score\n",
        "print(f1_score(hi_test.actual_label.tolist(), hi_test.predicted_label.tolist()))"
      ],
      "execution_count": 49,
      "outputs": [
        {
          "output_type": "stream",
          "name": "stdout",
          "text": [
            "0.8638392857142857\n",
            "0.8530120481927711\n"
          ]
        }
      ]
    },
    {
      "cell_type": "code",
      "metadata": {
        "colab": {
          "base_uri": "https://localhost:8080/"
        },
        "id": "w-PgT23AMJWg",
        "outputId": "eb8c6fa6-df4e-422b-b350-c06188e5363c"
      },
      "source": [
        "# Get the accuracy scores on Tamil\n",
        "ta_test = test_performance[test_performance.language == 'translate English to Tamil']\n",
        "print(accuracy_score(ta_test.actual_label.tolist(), ta_test.predicted_label.tolist()))\n",
        "# Get the f1-score\n",
        "print(f1_score(ta_test.actual_label.tolist(), ta_test.predicted_label.tolist()))"
      ],
      "execution_count": 50,
      "outputs": [
        {
          "output_type": "stream",
          "name": "stdout",
          "text": [
            "0.6690140845070423\n",
            "0.5154639175257733\n"
          ]
        }
      ]
    },
    {
      "cell_type": "code",
      "metadata": {
        "colab": {
          "base_uri": "https://localhost:8080/"
        },
        "id": "t6FAO42sMRPU",
        "outputId": "809f5498-6e3b-4b23-8070-00186f288d8a"
      },
      "source": [
        "# Get the accuracy scores on Malayalam\n",
        "ml_test = test_performance[test_performance.language == 'translate English to Malayalam']\n",
        "print(accuracy_score(ml_test.actual_label.tolist(), ml_test.predicted_label.tolist()))\n",
        "# Get the f1-score\n",
        "print(f1_score(ml_test.actual_label.tolist(), ml_test.predicted_label.tolist()))"
      ],
      "execution_count": 51,
      "outputs": [
        {
          "output_type": "stream",
          "name": "stdout",
          "text": [
            "0.7755555555555556\n",
            "0.7170868347338936\n"
          ]
        }
      ]
    },
    {
      "cell_type": "code",
      "metadata": {
        "colab": {
          "base_uri": "https://localhost:8080/"
        },
        "id": "U3l7UFWfXea6",
        "outputId": "3b4d5e77-ad6e-4490-e3ec-e23658230ef4"
      },
      "source": [
        "# Get the accuracy scores on Punjabi\n",
        "pb_test = test_performance[test_performance.language == 'translate English to Punjabi']\n",
        "print(accuracy_score(pb_test.actual_label.tolist(), pb_test.predicted_label.tolist()))\n",
        "# Get the f1-score\n",
        "print(f1_score(pb_test.actual_label.tolist(), pb_test.predicted_label.tolist()))"
      ],
      "execution_count": 52,
      "outputs": [
        {
          "output_type": "stream",
          "name": "stdout",
          "text": [
            "0.972\n",
            "0.9731800766283524\n"
          ]
        }
      ]
    },
    {
      "cell_type": "code",
      "metadata": {
        "colab": {
          "base_uri": "https://localhost:8080/"
        },
        "id": "7XvNjzulGCFf",
        "outputId": "2cf54427-8c55-4829-a36f-abb310e7b1cd"
      },
      "source": [
        "# Let's see the number of mistakes the model is making (on what language tasks)\n",
        "cm = confusion_matrix(y_actual_list, y_pred)\n",
        "cm"
      ],
      "execution_count": 53,
      "outputs": [
        {
          "output_type": "execute_result",
          "data": {
            "text/plain": [
              "array([[757, 124],\n",
              "       [186, 507]])"
            ]
          },
          "metadata": {},
          "execution_count": 53
        }
      ]
    },
    {
      "cell_type": "code",
      "metadata": {
        "colab": {
          "base_uri": "https://localhost:8080/"
        },
        "id": "Pq8TfinLQxiL",
        "outputId": "2b494515-3cf2-4d96-a9a6-1c1c63d98ffb"
      },
      "source": [
        "# Check the confusiom matrix on Hindi\n",
        "confusion_matrix(hi_test.actual_label.tolist(), hi_test.predicted_label.tolist())"
      ],
      "execution_count": 54,
      "outputs": [
        {
          "output_type": "execute_result",
          "data": {
            "text/plain": [
              "array([[210,  41],\n",
              "       [ 20, 177]])"
            ]
          },
          "metadata": {},
          "execution_count": 54
        }
      ]
    },
    {
      "cell_type": "code",
      "metadata": {
        "colab": {
          "base_uri": "https://localhost:8080/"
        },
        "id": "fjj4AS9aQ7TB",
        "outputId": "32a9d758-5f95-4dd5-c4b4-a64cb8fbcea9"
      },
      "source": [
        "# Check the confusiom matrix on Tamil\n",
        "confusion_matrix(ta_test.actual_label.tolist(), ta_test.predicted_label.tolist())"
      ],
      "execution_count": 55,
      "outputs": [
        {
          "output_type": "execute_result",
          "data": {
            "text/plain": [
              "array([[210,  43],\n",
              "       [ 98,  75]])"
            ]
          },
          "metadata": {},
          "execution_count": 55
        }
      ]
    },
    {
      "cell_type": "code",
      "metadata": {
        "colab": {
          "base_uri": "https://localhost:8080/"
        },
        "id": "AW_EgulOQbIq",
        "outputId": "dc857127-334b-4628-fff8-57fc0a17163b"
      },
      "source": [
        "# Check the confusiom matrix on Malayalam\n",
        "confusion_matrix(ml_test.actual_label.tolist(), ml_test.predicted_label.tolist())"
      ],
      "execution_count": 56,
      "outputs": [
        {
          "output_type": "execute_result",
          "data": {
            "text/plain": [
              "array([[221,  37],\n",
              "       [ 64, 128]])"
            ]
          },
          "metadata": {},
          "execution_count": 56
        }
      ]
    },
    {
      "cell_type": "code",
      "metadata": {
        "colab": {
          "base_uri": "https://localhost:8080/"
        },
        "id": "NwyuV6moXwKc",
        "outputId": "ab8f0953-abf9-4759-9bb8-bf85af6b784f"
      },
      "source": [
        "# Check the confusiom matrix on Punjabi\n",
        "confusion_matrix(pb_test.actual_label.tolist(), pb_test.predicted_label.tolist())"
      ],
      "execution_count": 57,
      "outputs": [
        {
          "output_type": "execute_result",
          "data": {
            "text/plain": [
              "array([[116,   3],\n",
              "       [  4, 127]])"
            ]
          },
          "metadata": {},
          "execution_count": 57
        }
      ]
    }
  ]
}