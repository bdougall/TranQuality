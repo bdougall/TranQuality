{
 "cells": [
  {
   "cell_type": "code",
   "execution_count": 1,
   "metadata": {
    "colab": {
     "base_uri": "https://localhost:8080/"
    },
    "executionInfo": {
     "elapsed": 14082,
     "status": "ok",
     "timestamp": 1638244495528,
     "user": {
      "displayName": "Brittany Dougall",
      "photoUrl": "https://lh3.googleusercontent.com/a/default-user=s64",
      "userId": "11043208293896572010"
     },
     "user_tz": 480
    },
    "id": "aEpKvDqBjyjy",
    "outputId": "cc7d3315-1a45-428c-e2c0-5f088a198b25"
   },
   "outputs": [
    {
     "name": "stdout",
     "output_type": "stream",
     "text": [
      "\u001b[K     |████████████████████████████████| 3.1 MB 7.3 MB/s \n",
      "\u001b[K     |████████████████████████████████| 59 kB 4.0 MB/s \n",
      "\u001b[K     |████████████████████████████████| 596 kB 40.7 MB/s \n",
      "\u001b[K     |████████████████████████████████| 3.3 MB 38.0 MB/s \n",
      "\u001b[K     |████████████████████████████████| 895 kB 32.9 MB/s \n",
      "\u001b[K     |████████████████████████████████| 1.2 MB 6.9 MB/s \n",
      "\u001b[?25h"
     ]
    }
   ],
   "source": [
    "!pip install transformers -q\n",
    "!pip install sentencepiece -q"
   ]
  },
  {
   "cell_type": "code",
   "execution_count": 2,
   "metadata": {
    "colab": {
     "base_uri": "https://localhost:8080/"
    },
    "executionInfo": {
     "elapsed": 24722,
     "status": "ok",
     "timestamp": 1638244520238,
     "user": {
      "displayName": "Brittany Dougall",
      "photoUrl": "https://lh3.googleusercontent.com/a/default-user=s64",
      "userId": "11043208293896572010"
     },
     "user_tz": 480
    },
    "id": "Xh4ZQuEAhyf1",
    "outputId": "848cb503-4bdc-42be-84a0-396a6cdd3f73"
   },
   "outputs": [
    {
     "name": "stdout",
     "output_type": "stream",
     "text": [
      "Mounted at /content/drive\n"
     ]
    }
   ],
   "source": [
    "# Mount Google drive to upload datasets\n",
    "from google.colab import drive\n",
    "drive.mount('/content/drive')"
   ]
  },
  {
   "cell_type": "code",
   "execution_count": 3,
   "metadata": {
    "executionInfo": {
     "elapsed": 13,
     "status": "ok",
     "timestamp": 1638244520239,
     "user": {
      "displayName": "Brittany Dougall",
      "photoUrl": "https://lh3.googleusercontent.com/a/default-user=s64",
      "userId": "11043208293896572010"
     },
     "user_tz": 480
    },
    "id": "AFt05MH047S_"
   },
   "outputs": [],
   "source": [
    "# The path to the data on my drive\n",
    "D = '/content/drive/My Drive/W266_Project_Data/pmi_data'"
   ]
  },
  {
   "cell_type": "code",
   "execution_count": 4,
   "metadata": {
    "executionInfo": {
     "elapsed": 8570,
     "status": "ok",
     "timestamp": 1638244528799,
     "user": {
      "displayName": "Brittany Dougall",
      "photoUrl": "https://lh3.googleusercontent.com/a/default-user=s64",
      "userId": "11043208293896572010"
     },
     "user_tz": 480
    },
    "id": "73eMNw7I42QK"
   },
   "outputs": [],
   "source": [
    "# Import the necessary libraries\n",
    "import numpy as np\n",
    "import pandas as pd\n",
    "from tqdm.auto import tqdm\n",
    "from transformers import AutoTokenizer, AutoModel\n",
    "\n",
    "import torch\n",
    "from torch.utils.data import Dataset, DataLoader, WeightedRandomSampler\n",
    "from torch import optim\n",
    "import torch.nn.functional as F\n",
    "\n",
    "from sklearn.metrics import f1_score, accuracy_score, confusion_matrix, classification_report\n",
    "import seaborn as sns\n",
    "import matplotlib.pyplot as plt"
   ]
  },
  {
   "cell_type": "code",
   "execution_count": 5,
   "metadata": {
    "executionInfo": {
     "elapsed": 2157,
     "status": "ok",
     "timestamp": 1638244531709,
     "user": {
      "displayName": "Brittany Dougall",
      "photoUrl": "https://lh3.googleusercontent.com/a/default-user=s64",
      "userId": "11043208293896572010"
     },
     "user_tz": 480
    },
    "id": "MQl0yHq3-dr3"
   },
   "outputs": [],
   "source": [
    "# Load the paraphrase training, dev, and test sets created with punjabi\n",
    "paraphrase_train = pd.read_csv(D+\"/xml/amrita-paraphrase-exact/paraphrase_train_w_punjabi.csv\")\n",
    "paraphrase_train.drop(columns={\"Unnamed: 0\"}, inplace=True)\n",
    "\n",
    "paraphrase_dev = pd.read_csv(D+\"/xml/amrita-paraphrase-exact/paraphrase_dev_w_punjabi.csv\")\n",
    "paraphrase_dev.drop(columns={\"Unnamed: 0\"}, inplace=True)\n",
    "\n",
    "paraphrase_test = pd.read_csv(D+\"/xml/amrita-paraphrase-exact/paraphrase_test_w_punjabi.csv\")\n",
    "paraphrase_test.drop(columns={\"Unnamed: 0\"}, inplace=True)"
   ]
  },
  {
   "cell_type": "code",
   "execution_count": 6,
   "metadata": {
    "executionInfo": {
     "elapsed": 12,
     "status": "ok",
     "timestamp": 1638244531711,
     "user": {
      "displayName": "Brittany Dougall",
      "photoUrl": "https://lh3.googleusercontent.com/a/default-user=s64",
      "userId": "11043208293896572010"
     },
     "user_tz": 480
    },
    "id": "0dji4wrx9Q8h"
   },
   "outputs": [],
   "source": [
    "# Set up the device to run on GPU if available\n",
    "device = torch.device('cuda') if torch.cuda.is_available() else torch.device('cpu')"
   ]
  },
  {
   "cell_type": "code",
   "execution_count": 7,
   "metadata": {
    "colab": {
     "base_uri": "https://localhost:8080/",
     "height": 185,
     "referenced_widgets": [
      "a1ea9fceaf4c4f72af02b2fa7c8880ae",
      "e8f8dbd9109d47e38305d6e1bf70b0a6",
      "ee2055341fdd4f9096920d1c1bcf3c19",
      "63decce03fba40c68d57e8f11e07656a",
      "5e45fa4e386a430dad806923fde4e9e7",
      "6b79fd31396a479aad25f42d9c5258ab",
      "41ab7a37cf6e458ca5e5a3b8362eb9f2",
      "dc2264c18c584c50b32320a1480afa73",
      "bd2ad015207e40b3ade65ba7160e1755",
      "3a61ee334dad4665899bb48a638e62a4",
      "e8897c78e8c24b6ab3ce7f66139a3d95",
      "c48b305142d945bfb37f4647add9ecc6",
      "64f6db3e5ef54e02be0222b0bfc3ae60",
      "43ff199ae47d4c4cb73dddadf8504676",
      "aa60d2fc0fae4685a87f31e86dc7b33a",
      "d98fbc2f4407405080a595afe35f17df",
      "6a7feca0670f4e6ea6f78ed999cae70f",
      "8bd95bc0922a4412b86d30cb077d54a3",
      "656d74327d5949419f1483f3f745eb77",
      "5f23e607e40f424facc2d04c0f149256",
      "eb4f724083bf42e088fada7c1fa33dc1",
      "16049c4ad6cc456297a9e88c04e0b268",
      "3465c3a84ea04da3b078d8c68033d443",
      "ea27933eaa8e4d448a395185ec548924",
      "8c4607e50bee477794cf6144e751c420",
      "b5b9cf3d922643e09f0bb692a919e1ae",
      "75f2b0bc43fe47408115c1664a460f46",
      "8693d2654a0940ec8ee9cf770c3be67c",
      "1b21159373664d9f9f6411e37beddca4",
      "e35be3d1ed4746fc9c771ff6428ea545",
      "05a952accc764e2ebaeeca95685832eb",
      "e8a6bd00be2b44b0b125090104e79135",
      "b199fe3d429c40dd9b3405faca5b74ac"
     ]
    },
    "executionInfo": {
     "elapsed": 11234,
     "status": "ok",
     "timestamp": 1638244542937,
     "user": {
      "displayName": "Brittany Dougall",
      "photoUrl": "https://lh3.googleusercontent.com/a/default-user=s64",
      "userId": "11043208293896572010"
     },
     "user_tz": 480
    },
    "id": "X0QlHNG50J3f",
    "outputId": "0111bf97-f549-45f5-cfff-33938a0d9d10"
   },
   "outputs": [
    {
     "data": {
      "application/vnd.jupyter.widget-view+json": {
       "model_id": "a1ea9fceaf4c4f72af02b2fa7c8880ae",
       "version_major": 2,
       "version_minor": 0
      },
      "text/plain": [
       "Downloading:   0%|          | 0.00/507 [00:00<?, ?B/s]"
      ]
     },
     "metadata": {},
     "output_type": "display_data"
    },
    {
     "data": {
      "application/vnd.jupyter.widget-view+json": {
       "model_id": "c48b305142d945bfb37f4647add9ecc6",
       "version_major": 2,
       "version_minor": 0
      },
      "text/plain": [
       "Downloading:   0%|          | 0.00/5.38M [00:00<?, ?B/s]"
      ]
     },
     "metadata": {},
     "output_type": "display_data"
    },
    {
     "data": {
      "application/vnd.jupyter.widget-view+json": {
       "model_id": "3465c3a84ea04da3b078d8c68033d443",
       "version_major": 2,
       "version_minor": 0
      },
      "text/plain": [
       "Downloading:   0%|          | 0.00/129M [00:00<?, ?B/s]"
      ]
     },
     "metadata": {},
     "output_type": "display_data"
    },
    {
     "name": "stderr",
     "output_type": "stream",
     "text": [
      "Some weights of the model checkpoint at ai4bharat/indic-bert were not used when initializing AlbertModel: ['predictions.decoder.bias', 'predictions.dense.weight', 'sop_classifier.classifier.bias', 'predictions.bias', 'sop_classifier.classifier.weight', 'predictions.dense.bias', 'predictions.LayerNorm.bias', 'predictions.decoder.weight', 'predictions.LayerNorm.weight']\n",
      "- This IS expected if you are initializing AlbertModel from the checkpoint of a model trained on another task or with another architecture (e.g. initializing a BertForSequenceClassification model from a BertForPreTraining model).\n",
      "- This IS NOT expected if you are initializing AlbertModel from the checkpoint of a model that you expect to be exactly identical (initializing a BertForSequenceClassification model from a BertForSequenceClassification model).\n"
     ]
    }
   ],
   "source": [
    "# Create an instance of the tokenizer and model using Indic Bert\n",
    "tokenizer = AutoTokenizer.from_pretrained('ai4bharat/indic-bert', keep_accents=True)\n",
    "model = AutoModel.from_pretrained('ai4bharat/indic-bert')"
   ]
  },
  {
   "cell_type": "code",
   "execution_count": 8,
   "metadata": {
    "executionInfo": {
     "elapsed": 24,
     "status": "ok",
     "timestamp": 1638244542940,
     "user": {
      "displayName": "Brittany Dougall",
      "photoUrl": "https://lh3.googleusercontent.com/a/default-user=s64",
      "userId": "11043208293896572010"
     },
     "user_tz": 480
    },
    "id": "lxDEP5ZAL5DP"
   },
   "outputs": [],
   "source": [
    "# Mean Pooling - Take attention mask into account for correct averaging\n",
    "def mean_pooling(model_output, attention_mask):\n",
    "    token_embeddings = model_output[0]\n",
    "    input_mask_expanded = attention_mask.unsqueeze(-1).expand(token_embeddings.size()).float()\n",
    "    sum_embeddings = torch.sum(token_embeddings * input_mask_expanded, 1)\n",
    "    sum_mask = torch.clamp(input_mask_expanded.sum(1), min=1e-9)\n",
    "    return sum_embeddings / sum_mask\n",
    "\n",
    "def sentence_embeddings(device, tokenizer, model, sentences):\n",
    "  \"\"\"Create contextualized sentence embeddings\n",
    "  \n",
    "  Parameters:\n",
    "  tokenizer: transformers tokenizer for creating word tokens\n",
    "  model:\n",
    "  sentences: sentences to generate sentence embeddings for\n",
    "  \"\"\"\n",
    "\n",
    "  # Tokenize sentences and return PyTorch tensors\n",
    "  encoded_input = tokenizer(sentences, padding=True, truncation=True, \n",
    "                            max_length=128, return_tensors='pt')\n",
    "  encoded_input = encoded_input.to(device)\n",
    "  \n",
    "  # Pass the tokenized input to the model \n",
    "  with torch.no_grad():\n",
    "    model.to(device)\n",
    "    model_output = model(**encoded_input) \n",
    "  \n",
    "  # Perform mean pooling to get total sentence embeddings\n",
    "  sentence_embeddings = mean_pooling(model_output, \n",
    "                                     encoded_input['attention_mask'])\n",
    "  \n",
    "  return sentence_embeddings"
   ]
  },
  {
   "cell_type": "code",
   "execution_count": 9,
   "metadata": {
    "executionInfo": {
     "elapsed": 21,
     "status": "ok",
     "timestamp": 1638244542941,
     "user": {
      "displayName": "Brittany Dougall",
      "photoUrl": "https://lh3.googleusercontent.com/a/default-user=s64",
      "userId": "11043208293896572010"
     },
     "user_tz": 480
    },
    "id": "8jioG5HS5zVW"
   },
   "outputs": [],
   "source": [
    "# An object to split and parse the training and test data fields\n",
    "class SiameseNetworkDataset(Dataset): \n",
    "  def __init__(self,training_df, device, tokenizer, model):\n",
    "    self.training_df=training_df\n",
    "    self.sent1 = self.training_df['sentence_1'].tolist()\n",
    "    self.sent2 = self.training_df['sentence_2'].tolist()\n",
    "    self.language_task = self.training_df['language_task'].tolist()\n",
    "    self.label = self.training_df['label'].tolist()\n",
    "    self.device = device\n",
    "    self.tokenizer = tokenizer\n",
    "    self.model = model\n",
    "\n",
    "  def __getitem__(self, index):\n",
    "    sent1 = self.sent1[index]\n",
    "    sent2 = self.sent2[index]\n",
    "    task = self.language_task[index]\n",
    "    label = self.label[index]\n",
    "\n",
    "    # Get the sentence embeddings for sentences 1 and 2 for each row\n",
    "    sent1_embeddings = sentence_embeddings(self.device, self.tokenizer, self.model, sent1)\n",
    "    sent2_embeddings = sentence_embeddings(self.device, self.tokenizer, self.model, sent2)\n",
    "    return sent1_embeddings, sent2_embeddings, task, torch.from_numpy(np.array(label)).long()\n",
    "\n",
    "  def __len__(self):\n",
    "    return len(self.training_df)"
   ]
  },
  {
   "cell_type": "code",
   "execution_count": 10,
   "metadata": {
    "executionInfo": {
     "elapsed": 20,
     "status": "ok",
     "timestamp": 1638244542943,
     "user": {
      "displayName": "Brittany Dougall",
      "photoUrl": "https://lh3.googleusercontent.com/a/default-user=s64",
      "userId": "11043208293896572010"
     },
     "user_tz": 480
    },
    "id": "FXISLYSfpF77"
   },
   "outputs": [],
   "source": [
    "# Create separate instances of the Siamese Network dataset class using training, dev, and testing data\n",
    "siamese_train = SiameseNetworkDataset(paraphrase_train, device, tokenizer, model)\n",
    "siamese_dev = SiameseNetworkDataset(paraphrase_dev, device, tokenizer, model)\n",
    "siamese_test = SiameseNetworkDataset(paraphrase_test, device, tokenizer, model)"
   ]
  },
  {
   "cell_type": "code",
   "execution_count": 11,
   "metadata": {
    "executionInfo": {
     "elapsed": 240297,
     "status": "ok",
     "timestamp": 1638244783222,
     "user": {
      "displayName": "Brittany Dougall",
      "photoUrl": "https://lh3.googleusercontent.com/a/default-user=s64",
      "userId": "11043208293896572010"
     },
     "user_tz": 480
    },
    "id": "PfvUrnFapXHY"
   },
   "outputs": [],
   "source": [
    "# Get the label for every row in the training dataset and convert it to tensor form\n",
    "target_list = []\n",
    "\n",
    "for sent1, sent2, task, label in siamese_train:\n",
    "  target_list.append(label)\n",
    "\n",
    "# Store the torch form of the target label   \n",
    "target_list = torch.tensor(target_list)"
   ]
  },
  {
   "cell_type": "code",
   "execution_count": 12,
   "metadata": {
    "colab": {
     "base_uri": "https://localhost:8080/"
    },
    "executionInfo": {
     "elapsed": 32,
     "status": "ok",
     "timestamp": 1638244783226,
     "user": {
      "displayName": "Brittany Dougall",
      "photoUrl": "https://lh3.googleusercontent.com/a/default-user=s64",
      "userId": "11043208293896572010"
     },
     "user_tz": 480
    },
    "id": "PegVArvcp0Kp",
    "outputId": "7a2b57d3-b249-45d5-c983-ff46f9d77d68"
   },
   "outputs": [
    {
     "name": "stdout",
     "output_type": "stream",
     "text": [
      "[5500, 3700]\n",
      "tensor([0.0002, 0.0003])\n"
     ]
    }
   ],
   "source": [
    "# Weight the labels by their frequency in the dataset - this will help our accuracy if there is an imbalance in classes (P vs NP)\n",
    "class_count = [len(paraphrase_train[paraphrase_train.label == 0]),len(paraphrase_train[paraphrase_train.label == 1])]\n",
    "print(class_count)\n",
    "class_weights = 1./torch.tensor(class_count, dtype=torch.float) \n",
    "print(class_weights)"
   ]
  },
  {
   "cell_type": "code",
   "execution_count": 13,
   "metadata": {
    "executionInfo": {
     "elapsed": 18,
     "status": "ok",
     "timestamp": 1638244783228,
     "user": {
      "displayName": "Brittany Dougall",
      "photoUrl": "https://lh3.googleusercontent.com/a/default-user=s64",
      "userId": "11043208293896572010"
     },
     "user_tz": 480
    },
    "id": "baoGtrVCwDB2"
   },
   "outputs": [],
   "source": [
    "# Create a list of the weighted labels to pass to the dataloader object\n",
    "class_weights_all = class_weights[target_list]"
   ]
  },
  {
   "cell_type": "code",
   "execution_count": 14,
   "metadata": {
    "executionInfo": {
     "elapsed": 17,
     "status": "ok",
     "timestamp": 1638244783230,
     "user": {
      "displayName": "Brittany Dougall",
      "photoUrl": "https://lh3.googleusercontent.com/a/default-user=s64",
      "userId": "11043208293896572010"
     },
     "user_tz": 480
    },
    "id": "Q3N0bGQ2xOTq"
   },
   "outputs": [],
   "source": [
    "# Create the weighted sampler object to pass to the training data loader\n",
    "weighted_sampler = WeightedRandomSampler(\n",
    "    weights=class_weights_all,\n",
    "    num_samples=len(class_weights_all),\n",
    "    replacement=True\n",
    ")"
   ]
  },
  {
   "cell_type": "code",
   "execution_count": 15,
   "metadata": {
    "executionInfo": {
     "elapsed": 16,
     "status": "ok",
     "timestamp": 1638244783231,
     "user": {
      "displayName": "Brittany Dougall",
      "photoUrl": "https://lh3.googleusercontent.com/a/default-user=s64",
      "userId": "11043208293896572010"
     },
     "user_tz": 480
    },
    "id": "wW18Wb2xaYqx"
   },
   "outputs": [],
   "source": [
    "# Pass the training data into the training loader \n",
    "train_loader = DataLoader(siamese_train, batch_size = 16, sampler=weighted_sampler)\n",
    "\n",
    "# Create the dev and test data loaders\n",
    "val_loader = DataLoader(siamese_dev, batch_size=16)\n",
    "test_loader = DataLoader(siamese_test, batch_size=16)"
   ]
  },
  {
   "cell_type": "code",
   "execution_count": 16,
   "metadata": {
    "executionInfo": {
     "elapsed": 387,
     "status": "ok",
     "timestamp": 1638244783603,
     "user": {
      "displayName": "Brittany Dougall",
      "photoUrl": "https://lh3.googleusercontent.com/a/default-user=s64",
      "userId": "11043208293896572010"
     },
     "user_tz": 480
    },
    "id": "8214ILXnuyoe"
   },
   "outputs": [],
   "source": [
    "class SiameseNet(torch.nn.Module):\n",
    "    def __init__(self):\n",
    "      super(SiameseNet, self).__init__()\n",
    "\n",
    "      # Set up a fully-connected layer to apply to each incoming sentence vector\n",
    "      # Use a dense layer (nn.Linear) to reduce the dimensionality of the input embeddings\n",
    "      # use a relu activation function\n",
    "      self.fc = torch.nn.Sequential(\n",
    "            torch.nn.Linear(768, 128),\n",
    "            torch.nn.LayerNorm(128),\n",
    "            torch.nn.ReLU(inplace=True))\n",
    "      \n",
    "      self.relu = torch.nn.ReLU(inplace=True)\n",
    "      self.batch2 = torch.nn.LayerNorm(384)\n",
    "      self.ffn = torch.nn.Linear(384, 128)\n",
    "      self.batch3 = torch.nn.LayerNorm(128)\n",
    "      self.layer_out = torch.nn.Linear(128,1)\n",
    "\n",
    "      # Add drop out\n",
    "      self.drop = torch.nn.Dropout(0.5)\n",
    "\n",
    "    # left and right represent columns in our data\n",
    "    def forward(self, left, right):\n",
    "\n",
    "      # Get the sentence embeddings \n",
    "      u = left\n",
    "      v = right\n",
    "\n",
    "      # Reduce the dimensionality\n",
    "      u = self.fc(u)\n",
    "      v = self.fc(v)\n",
    "\n",
    "      # Get the absolute value of the element-wise difference of the embedding vectors\n",
    "      uv = torch.sub(u, v)\n",
    "      uv_abs = torch.abs(uv)\n",
    "\n",
    "      # concatenate u, v, and the absolute value of the element-wise difference between the embeddings\n",
    "      x = torch.cat([u, v, uv_abs], dim=-1)\n",
    "\n",
    "      # Normalize the concatenated batch\n",
    "      x = self.batch2(x)\n",
    "\n",
    "      # Use the relu activation function\n",
    "      x = self.relu(x)\n",
    "\n",
    "      # Pass the concatenated layers through a dense layer to reduce the dimensionality\n",
    "      x = self.ffn(x)\n",
    "      # Normalize the concatenated layers\n",
    "      x = self.batch3(x)\n",
    "      # Pass through relu activation\n",
    "      x = self.relu(x)\n",
    "      # Implement drop out to avoid overfitting\n",
    "      x = self.drop(x)\n",
    "      # Pass the output through a final dense layer\n",
    "      output = self.layer_out(x)\n",
    "      # Reshape the output to have the same dimension as the target labels\n",
    "      output = output[:,-1,:]\n",
    "\n",
    "      return output"
   ]
  },
  {
   "cell_type": "code",
   "execution_count": 17,
   "metadata": {
    "executionInfo": {
     "elapsed": 31,
     "status": "ok",
     "timestamp": 1638244783606,
     "user": {
      "displayName": "Brittany Dougall",
      "photoUrl": "https://lh3.googleusercontent.com/a/default-user=s64",
      "userId": "11043208293896572010"
     },
     "user_tz": 480
    },
    "id": "oxy-JaCjXl_U"
   },
   "outputs": [],
   "source": [
    "# Create an instance of the Siamese model network\n",
    "net = SiameseNet().to(device)\n",
    "\n",
    "# Set the criteria for evaluation and training\n",
    "# Use cross-entropy since we're doing classification and want to retrieve the labels\n",
    "criterion = torch.nn.BCEWithLogitsLoss()\n",
    "\n",
    "# Set the optimizer and pass to it the model parameters and learning rate\n",
    "optimizer = optim.Adam(net.parameters(), lr=2e-5)"
   ]
  },
  {
   "cell_type": "code",
   "execution_count": 18,
   "metadata": {
    "executionInfo": {
     "elapsed": 31,
     "status": "ok",
     "timestamp": 1638244783608,
     "user": {
      "displayName": "Brittany Dougall",
      "photoUrl": "https://lh3.googleusercontent.com/a/default-user=s64",
      "userId": "11043208293896572010"
     },
     "user_tz": 480
    },
    "id": "vfnRRRF0t-ZA"
   },
   "outputs": [],
   "source": [
    "def binary_acc(y_pred, y_test):\n",
    "    y_pred_tag = torch.round(torch.sigmoid(y_pred))\n",
    "\n",
    "    correct_results_sum = (y_pred_tag == y_test).sum().float()\n",
    "    acc = correct_results_sum/y_test.shape[0]\n",
    "    acc = torch.round(acc * 100)\n",
    "    \n",
    "    return acc"
   ]
  },
  {
   "cell_type": "markdown",
   "metadata": {},
   "source": [
    "The validation metrics below correspond to the validation dataset containing duplicates. The training metrics are accurate, however. Validation metrics calculated on the de-duplicated dataset can be found in the Dedup_snn_eval folder."
   ]
  },
  {
   "cell_type": "code",
   "execution_count": 19,
   "metadata": {
    "executionInfo": {
     "elapsed": 29,
     "status": "ok",
     "timestamp": 1638244783609,
     "user": {
      "displayName": "Brittany Dougall",
      "photoUrl": "https://lh3.googleusercontent.com/a/default-user=s64",
      "userId": "11043208293896572010"
     },
     "user_tz": 480
    },
    "id": "TTz5sETjt_VS"
   },
   "outputs": [],
   "source": [
    "# Create dictionaries to hold the training and validation accuracy and loss metrics at each epoch\n",
    "epoch_accuracies = {\n",
    "    'train': [],\n",
    "    \"val\": []}\n",
    "\n",
    "epoch_losses = {\n",
    "    'train': [],\n",
    "    \"val\": []}"
   ]
  },
  {
   "cell_type": "code",
   "execution_count": 20,
   "metadata": {
    "colab": {
     "base_uri": "https://localhost:8080/",
     "height": 590,
     "referenced_widgets": [
      "f991e0e69e97451c84ef76e3cde02f80",
      "88f00c40185848b3a35c70e1007df81b",
      "ef5ce0eb40ae4a7db3c7d61db90bb189",
      "0bf02bb2c33b4ccebe7711b6fb62b5e6",
      "6fa29ee7c2d348a78781c726ab8c6eac",
      "7db47965a72c4a058c0c70d50f51a1b1",
      "a5ebdefbca9746f4b8f56136cbdd5163",
      "185bfc59b6e3415792bb66a9cf5bdd95",
      "9747332945704b30a36e4ce5eec7cf97",
      "ebea4a2c4db94005b28e28dc3287d9b3",
      "e358df3c08eb4640bd8ef58216f51854"
     ]
    },
    "executionInfo": {
     "elapsed": 4114033,
     "status": "ok",
     "timestamp": 1638248897615,
     "user": {
      "displayName": "Brittany Dougall",
      "photoUrl": "https://lh3.googleusercontent.com/a/default-user=s64",
      "userId": "11043208293896572010"
     },
     "user_tz": 480
    },
    "id": "YLWCES7i8qt7",
    "outputId": "91fcf470-1863-4d90-a4f3-6d7c1b0baf8f"
   },
   "outputs": [
    {
     "data": {
      "application/vnd.jupyter.widget-view+json": {
       "model_id": "f991e0e69e97451c84ef76e3cde02f80",
       "version_major": 2,
       "version_minor": 0
      },
      "text/plain": [
       "  0%|          | 0/15 [00:00<?, ?it/s]"
      ]
     },
     "metadata": {},
     "output_type": "display_data"
    },
    {
     "name": "stdout",
     "output_type": "stream",
     "text": [
      "{'train': [57.87652173913043], 'val': [69.41]}\n",
      "{'train': [0.6747287165600321], 'val': [0.629216062426567]}\n",
      "{'train': [57.87652173913043, 70.17739130434782], 'val': [69.41, 72.08]}\n",
      "{'train': [0.6747287165600321, 0.5900923415888911], 'val': [0.629216062426567, 0.5711295053362846]}\n",
      "{'train': [57.87652173913043, 70.17739130434782, 76.92347826086956], 'val': [69.41, 72.08, 76.85]}\n",
      "{'train': [0.6747287165600321, 0.5900923415888911, 0.516704332517541], 'val': [0.629216062426567, 0.5711295053362846, 0.5150158551335334]}\n",
      "{'train': [57.87652173913043, 70.17739130434782, 76.92347826086956, 81.30782608695652], 'val': [69.41, 72.08, 76.85, 78.26]}\n",
      "{'train': [0.6747287165600321, 0.5900923415888911, 0.516704332517541, 0.4605000410390937], 'val': [0.629216062426567, 0.5711295053362846, 0.5150158551335334, 0.48615061536431314]}\n",
      "{'train': [57.87652173913043, 70.17739130434782, 76.92347826086956, 81.30782608695652, 83.59826086956522], 'val': [69.41, 72.08, 76.85, 78.26, 78.54]}\n",
      "{'train': [0.6747287165600321, 0.5900923415888911, 0.516704332517541, 0.4605000410390937, 0.4138908302265665], 'val': [0.629216062426567, 0.5711295053362846, 0.5150158551335334, 0.48615061536431314, 0.4634659254550934]}\n",
      "{'train': [57.87652173913043, 70.17739130434782, 76.92347826086956, 81.30782608695652, 83.59826086956522, 85.70086956521739], 'val': [69.41, 72.08, 76.85, 78.26, 78.54, 78.59]}\n",
      "{'train': [0.6747287165600321, 0.5900923415888911, 0.516704332517541, 0.4605000410390937, 0.4138908302265665, 0.3756753511014192], 'val': [0.629216062426567, 0.5711295053362846, 0.5150158551335334, 0.48615061536431314, 0.4634659254550934, 0.4560772257298231]}\n",
      "{'train': [57.87652173913043, 70.17739130434782, 76.92347826086956, 81.30782608695652, 83.59826086956522, 85.70086956521739, 86.77043478260869], 'val': [69.41, 72.08, 76.85, 78.26, 78.54, 78.59, 79.6]}\n",
      "{'train': [0.6747287165600321, 0.5900923415888911, 0.516704332517541, 0.4605000410390937, 0.4138908302265665, 0.3756753511014192, 0.3482700547705526], 'val': [0.629216062426567, 0.5711295053362846, 0.5150158551335334, 0.48615061536431314, 0.4634659254550934, 0.4560772257298231, 0.44045394845306873]}\n",
      "{'train': [57.87652173913043, 70.17739130434782, 76.92347826086956, 81.30782608695652, 83.59826086956522, 85.70086956521739, 86.77043478260869, 88.34608695652175], 'val': [69.41, 72.08, 76.85, 78.26, 78.54, 78.59, 79.6, 79.11]}\n",
      "{'train': [0.6747287165600321, 0.5900923415888911, 0.516704332517541, 0.4605000410390937, 0.4138908302265665, 0.3756753511014192, 0.3482700547705526, 0.32065011731956317], 'val': [0.629216062426567, 0.5711295053362846, 0.5150158551335334, 0.48615061536431314, 0.4634659254550934, 0.4560772257298231, 0.44045394845306873, 0.4372831039130688]}\n",
      "{'train': [57.87652173913043, 70.17739130434782, 76.92347826086956, 81.30782608695652, 83.59826086956522, 85.70086956521739, 86.77043478260869, 88.34608695652175, 89.9895652173913], 'val': [69.41, 72.08, 76.85, 78.26, 78.54, 78.59, 79.6, 79.11, 80.51]}\n",
      "{'train': [0.6747287165600321, 0.5900923415888911, 0.516704332517541, 0.4605000410390937, 0.4138908302265665, 0.3756753511014192, 0.3482700547705526, 0.32065011731956317, 0.2897381055743798], 'val': [0.629216062426567, 0.5711295053362846, 0.5150158551335334, 0.48615061536431314, 0.4634659254550934, 0.4560772257298231, 0.44045394845306873, 0.4372831039130688, 0.4324471786990762]}\n",
      "{'train': [57.87652173913043, 70.17739130434782, 76.92347826086956, 81.30782608695652, 83.59826086956522, 85.70086956521739, 86.77043478260869, 88.34608695652175, 89.9895652173913, 90.36173913043478], 'val': [69.41, 72.08, 76.85, 78.26, 78.54, 78.59, 79.6, 79.11, 80.51, 80.43]}\n",
      "{'train': [0.6747287165600321, 0.5900923415888911, 0.516704332517541, 0.4605000410390937, 0.4138908302265665, 0.3756753511014192, 0.3482700547705526, 0.32065011731956317, 0.2897381055743798, 0.2732436187111813], 'val': [0.629216062426567, 0.5711295053362846, 0.5150158551335334, 0.48615061536431314, 0.4634659254550934, 0.4560772257298231, 0.44045394845306873, 0.4372831039130688, 0.4324471786990762, 0.4236294713243842]}\n",
      "{'train': [57.87652173913043, 70.17739130434782, 76.92347826086956, 81.30782608695652, 83.59826086956522, 85.70086956521739, 86.77043478260869, 88.34608695652175, 89.9895652173913, 90.36173913043478, 91.59304347826087], 'val': [69.41, 72.08, 76.85, 78.26, 78.54, 78.59, 79.6, 79.11, 80.51, 80.43, 80.09]}\n",
      "{'train': [0.6747287165600321, 0.5900923415888911, 0.516704332517541, 0.4605000410390937, 0.4138908302265665, 0.3756753511014192, 0.3482700547705526, 0.32065011731956317, 0.2897381055743798, 0.2732436187111813, 0.2519847371267236], 'val': [0.629216062426567, 0.5711295053362846, 0.5150158551335334, 0.48615061536431314, 0.4634659254550934, 0.4560772257298231, 0.44045394845306873, 0.4372831039130688, 0.4324471786990762, 0.4236294713243842, 0.4331151482090354]}\n",
      "{'train': [57.87652173913043, 70.17739130434782, 76.92347826086956, 81.30782608695652, 83.59826086956522, 85.70086956521739, 86.77043478260869, 88.34608695652175, 89.9895652173913, 90.36173913043478, 91.59304347826087, 92.58260869565217], 'val': [69.41, 72.08, 76.85, 78.26, 78.54, 78.59, 79.6, 79.11, 80.51, 80.43, 80.09, 80.51]}\n",
      "{'train': [0.6747287165600321, 0.5900923415888911, 0.516704332517541, 0.4605000410390937, 0.4138908302265665, 0.3756753511014192, 0.3482700547705526, 0.32065011731956317, 0.2897381055743798, 0.2732436187111813, 0.2519847371267236, 0.2265478454724602], 'val': [0.629216062426567, 0.5711295053362846, 0.5150158551335334, 0.48615061536431314, 0.4634659254550934, 0.4560772257298231, 0.44045394845306873, 0.4372831039130688, 0.4324471786990762, 0.4236294713243842, 0.4331151482090354, 0.440671598687768]}\n",
      "{'train': [57.87652173913043, 70.17739130434782, 76.92347826086956, 81.30782608695652, 83.59826086956522, 85.70086956521739, 86.77043478260869, 88.34608695652175, 89.9895652173913, 90.36173913043478, 91.59304347826087, 92.58260869565217, 92.89565217391305], 'val': [69.41, 72.08, 76.85, 78.26, 78.54, 78.59, 79.6, 79.11, 80.51, 80.43, 80.09, 80.51, 81.76]}\n",
      "{'train': [0.6747287165600321, 0.5900923415888911, 0.516704332517541, 0.4605000410390937, 0.4138908302265665, 0.3756753511014192, 0.3482700547705526, 0.32065011731956317, 0.2897381055743798, 0.2732436187111813, 0.2519847371267236, 0.2265478454724602, 0.21663257250967233], 'val': [0.629216062426567, 0.5711295053362846, 0.5150158551335334, 0.48615061536431314, 0.4634659254550934, 0.4560772257298231, 0.44045394845306873, 0.4372831039130688, 0.4324471786990762, 0.4236294713243842, 0.4331151482090354, 0.440671598687768, 0.4162849544920027]}\n",
      "{'train': [57.87652173913043, 70.17739130434782, 76.92347826086956, 81.30782608695652, 83.59826086956522, 85.70086956521739, 86.77043478260869, 88.34608695652175, 89.9895652173913, 90.36173913043478, 91.59304347826087, 92.58260869565217, 92.89565217391305, 93.54434782608696], 'val': [69.41, 72.08, 76.85, 78.26, 78.54, 78.59, 79.6, 79.11, 80.51, 80.43, 80.09, 80.51, 81.76, 82.39]}\n",
      "{'train': [0.6747287165600321, 0.5900923415888911, 0.516704332517541, 0.4605000410390937, 0.4138908302265665, 0.3756753511014192, 0.3482700547705526, 0.32065011731956317, 0.2897381055743798, 0.2732436187111813, 0.2519847371267236, 0.2265478454724602, 0.21663257250967233, 0.19979860412037892], 'val': [0.629216062426567, 0.5711295053362846, 0.5150158551335334, 0.48615061536431314, 0.4634659254550934, 0.4560772257298231, 0.44045394845306873, 0.4372831039130688, 0.4324471786990762, 0.4236294713243842, 0.4331151482090354, 0.440671598687768, 0.4162849544920027, 0.4196200704947114]}\n",
      "{'train': [57.87652173913043, 70.17739130434782, 76.92347826086956, 81.30782608695652, 83.59826086956522, 85.70086956521739, 86.77043478260869, 88.34608695652175, 89.9895652173913, 90.36173913043478, 91.59304347826087, 92.58260869565217, 92.89565217391305, 93.54434782608696, 94.58782608695653], 'val': [69.41, 72.08, 76.85, 78.26, 78.54, 78.59, 79.6, 79.11, 80.51, 80.43, 80.09, 80.51, 81.76, 82.39, 81.98]}\n",
      "{'train': [0.6747287165600321, 0.5900923415888911, 0.516704332517541, 0.4605000410390937, 0.4138908302265665, 0.3756753511014192, 0.3482700547705526, 0.32065011731956317, 0.2897381055743798, 0.2732436187111813, 0.2519847371267236, 0.2265478454724602, 0.21663257250967233, 0.19979860412037892, 0.17705175249472907], 'val': [0.629216062426567, 0.5711295053362846, 0.5150158551335334, 0.48615061536431314, 0.4634659254550934, 0.4560772257298231, 0.44045394845306873, 0.4372831039130688, 0.4324471786990762, 0.4236294713243842, 0.4331151482090354, 0.440671598687768, 0.4162849544920027, 0.4196200704947114, 0.42126449262723326]}\n"
     ]
    }
   ],
   "source": [
    "EPOCHS = 15\n",
    "\n",
    "for e in tqdm(range(1, EPOCHS+1)):\n",
    "    \n",
    "    # Initialize the training epoch and accuracy loss as 0\n",
    "    train_epoch_loss = 0\n",
    "    train_epoch_acc = 0\n",
    "\n",
    "    # Place the Siamese network into training mode\n",
    "    net.train()\n",
    "    \n",
    "    # Loop over records in the training data loader\n",
    "    for i, data in enumerate(train_loader, 0):\n",
    "      sent1, sent2, task, label = data\n",
    "      label = label.type(torch.FloatTensor).reshape((label.shape[0], 1))\n",
    "      # Send the training data to GPU\n",
    "      sent1, sent2, label = sent1.to(device), sent2.to(device), label.to(device)\n",
    "      # Zero the gradient\n",
    "      optimizer.zero_grad()\n",
    "      # Get the predicted softmaxes\n",
    "      train_pred = net(sent1, sent2)\n",
    "      # Get the predicted labels\n",
    "      train_loss = criterion(train_pred, label)\n",
    "      # Find the training rate accuracy\n",
    "      train_acc = binary_acc(train_pred, label)\n",
    "      \n",
    "      train_loss.backward()\n",
    "      optimizer.step()\n",
    "\n",
    "      # Update the loss and accuracy for the current epoch  \n",
    "      train_epoch_loss += train_loss.item()\n",
    "      train_epoch_acc += train_acc.item()   \n",
    "        \n",
    "    # Enter validation phase   \n",
    "    with torch.no_grad():\n",
    "        \n",
    "        # Initialize the validation loss and accuracy rates as 0\n",
    "        val_epoch_loss = 0\n",
    "        val_epoch_acc = 0\n",
    "        \n",
    "        # Place the model into evaluation mode\n",
    "        net.eval()\n",
    "\n",
    "        # Loop over records in the validation dataloader\n",
    "        for i, data in enumerate(val_loader, 0):\n",
    "          sent1_val, sent2_val, task_val, label_val = data\n",
    "          label_val = label_val.type(torch.FloatTensor).reshape((label_val.shape[0], 1))\n",
    "\n",
    "          # Send the validation data to GPU\n",
    "          sent1_val, sent2_val, label_val = sent1_val.to(device), sent2_val.to(device), label_val.to(device)\n",
    "\n",
    "          # Get the validation predictions          \n",
    "          val_pred = net(sent1_val, sent2_val)\n",
    "          # Find the validation loss and accuracy\n",
    "          val_loss = criterion(val_pred, label_val)\n",
    "          val_acc = binary_acc(val_pred, label_val)\n",
    "          \n",
    "          # Update the validation loss and accuracy rates\n",
    "          val_epoch_loss += val_loss.item()\n",
    "          val_epoch_acc += val_acc.item()\n",
    "    \n",
    "    # Store the epoch's training and validaion accuracies and losses\n",
    "    epoch_losses['train'].append(train_epoch_loss/len(train_loader))\n",
    "    epoch_losses['val'].append(val_epoch_loss/len(val_loader))\n",
    "    epoch_accuracies['train'].append(train_epoch_acc/len(train_loader))\n",
    "    epoch_accuracies['val'].append(val_epoch_acc/len(val_loader))\n",
    "    print(epoch_accuracies)\n",
    "    print(epoch_losses)"
   ]
  },
  {
   "cell_type": "code",
   "execution_count": 21,
   "metadata": {
    "colab": {
     "base_uri": "https://localhost:8080/"
    },
    "executionInfo": {
     "elapsed": 63,
     "status": "ok",
     "timestamp": 1638248897617,
     "user": {
      "displayName": "Brittany Dougall",
      "photoUrl": "https://lh3.googleusercontent.com/a/default-user=s64",
      "userId": "11043208293896572010"
     },
     "user_tz": 480
    },
    "id": "L1vesiPk3dEn",
    "outputId": "995f93e0-a853-4ac8-cc9e-72f4de9f3e2f"
   },
   "outputs": [
    {
     "data": {
      "text/plain": [
       "{'train': [57.87652173913043,\n",
       "  70.17739130434782,\n",
       "  76.92347826086956,\n",
       "  81.30782608695652,\n",
       "  83.59826086956522,\n",
       "  85.70086956521739,\n",
       "  86.77043478260869,\n",
       "  88.34608695652175,\n",
       "  89.9895652173913,\n",
       "  90.36173913043478,\n",
       "  91.59304347826087,\n",
       "  92.58260869565217,\n",
       "  92.89565217391305,\n",
       "  93.54434782608696,\n",
       "  94.58782608695653],\n",
       " 'val': [69.41,\n",
       "  72.08,\n",
       "  76.85,\n",
       "  78.26,\n",
       "  78.54,\n",
       "  78.59,\n",
       "  79.6,\n",
       "  79.11,\n",
       "  80.51,\n",
       "  80.43,\n",
       "  80.09,\n",
       "  80.51,\n",
       "  81.76,\n",
       "  82.39,\n",
       "  81.98]}"
      ]
     },
     "execution_count": 21,
     "metadata": {},
     "output_type": "execute_result"
    }
   ],
   "source": [
    "epoch_accuracies"
   ]
  },
  {
   "cell_type": "code",
   "execution_count": 22,
   "metadata": {
    "colab": {
     "base_uri": "https://localhost:8080/"
    },
    "executionInfo": {
     "elapsed": 53,
     "status": "ok",
     "timestamp": 1638248897620,
     "user": {
      "displayName": "Brittany Dougall",
      "photoUrl": "https://lh3.googleusercontent.com/a/default-user=s64",
      "userId": "11043208293896572010"
     },
     "user_tz": 480
    },
    "id": "JBQSPo-xwdWZ",
    "outputId": "80e60a27-e3ea-4c1d-b1c1-14d2efec5db1"
   },
   "outputs": [
    {
     "data": {
      "text/plain": [
       "{'train': [0.6747287165600321,\n",
       "  0.5900923415888911,\n",
       "  0.516704332517541,\n",
       "  0.4605000410390937,\n",
       "  0.4138908302265665,\n",
       "  0.3756753511014192,\n",
       "  0.3482700547705526,\n",
       "  0.32065011731956317,\n",
       "  0.2897381055743798,\n",
       "  0.2732436187111813,\n",
       "  0.2519847371267236,\n",
       "  0.2265478454724602,\n",
       "  0.21663257250967233,\n",
       "  0.19979860412037892,\n",
       "  0.17705175249472907],\n",
       " 'val': [0.629216062426567,\n",
       "  0.5711295053362846,\n",
       "  0.5150158551335334,\n",
       "  0.48615061536431314,\n",
       "  0.4634659254550934,\n",
       "  0.4560772257298231,\n",
       "  0.44045394845306873,\n",
       "  0.4372831039130688,\n",
       "  0.4324471786990762,\n",
       "  0.4236294713243842,\n",
       "  0.4331151482090354,\n",
       "  0.440671598687768,\n",
       "  0.4162849544920027,\n",
       "  0.4196200704947114,\n",
       "  0.42126449262723326]}"
      ]
     },
     "execution_count": 22,
     "metadata": {},
     "output_type": "execute_result"
    }
   ],
   "source": [
    "epoch_losses"
   ]
  },
  {
   "cell_type": "code",
   "execution_count": 23,
   "metadata": {
    "colab": {
     "base_uri": "https://localhost:8080/"
    },
    "executionInfo": {
     "elapsed": 48,
     "status": "ok",
     "timestamp": 1638248897622,
     "user": {
      "displayName": "Brittany Dougall",
      "photoUrl": "https://lh3.googleusercontent.com/a/default-user=s64",
      "userId": "11043208293896572010"
     },
     "user_tz": 480
    },
    "id": "z6c0E9X4PstU",
    "outputId": "72896dd7-98fe-4e20-e85d-1cf508430be5"
   },
   "outputs": [
    {
     "name": "stdout",
     "output_type": "stream",
     "text": [
      "94.58782608695653\n",
      "82.39\n"
     ]
    }
   ],
   "source": [
    "print(max(epoch_accuracies.get('train')))\n",
    "print(max(epoch_accuracies.get('val')))"
   ]
  },
  {
   "cell_type": "code",
   "execution_count": 24,
   "metadata": {
    "colab": {
     "base_uri": "https://localhost:8080/"
    },
    "executionInfo": {
     "elapsed": 43,
     "status": "ok",
     "timestamp": 1638248897624,
     "user": {
      "displayName": "Brittany Dougall",
      "photoUrl": "https://lh3.googleusercontent.com/a/default-user=s64",
      "userId": "11043208293896572010"
     },
     "user_tz": 480
    },
    "id": "UAjzkvu7e8H-",
    "outputId": "4e10ffaa-ee81-4691-aacf-d0289ea892d8"
   },
   "outputs": [
    {
     "name": "stdout",
     "output_type": "stream",
     "text": [
      "57.87652173913043\n",
      "69.41\n"
     ]
    }
   ],
   "source": [
    "print(min(epoch_accuracies.get('train')))\n",
    "print(min(epoch_accuracies.get('val')))"
   ]
  },
  {
   "cell_type": "code",
   "execution_count": 25,
   "metadata": {
    "colab": {
     "base_uri": "https://localhost:8080/"
    },
    "executionInfo": {
     "elapsed": 39,
     "status": "ok",
     "timestamp": 1638248897626,
     "user": {
      "displayName": "Brittany Dougall",
      "photoUrl": "https://lh3.googleusercontent.com/a/default-user=s64",
      "userId": "11043208293896572010"
     },
     "user_tz": 480
    },
    "id": "s-ScqobDQb9u",
    "outputId": "c31b32e8-96be-4f04-a313-2c0e93d232be"
   },
   "outputs": [
    {
     "name": "stdout",
     "output_type": "stream",
     "text": [
      "0.17705175249472907\n",
      "0.6747287165600321\n"
     ]
    }
   ],
   "source": [
    "print(min(epoch_losses.get('train')))\n",
    "print(max(epoch_losses.get('train')))"
   ]
  },
  {
   "cell_type": "code",
   "execution_count": 26,
   "metadata": {
    "colab": {
     "base_uri": "https://localhost:8080/"
    },
    "executionInfo": {
     "elapsed": 33,
     "status": "ok",
     "timestamp": 1638248897628,
     "user": {
      "displayName": "Brittany Dougall",
      "photoUrl": "https://lh3.googleusercontent.com/a/default-user=s64",
      "userId": "11043208293896572010"
     },
     "user_tz": 480
    },
    "id": "NbqTDh4yQsAw",
    "outputId": "5c1aaa2d-50cb-4dee-fd38-c9f2b1347f48"
   },
   "outputs": [
    {
     "name": "stdout",
     "output_type": "stream",
     "text": [
      "0.4162849544920027\n",
      "0.629216062426567\n"
     ]
    }
   ],
   "source": [
    "print(min(epoch_losses.get('val')))\n",
    "print(max(epoch_losses.get('val')))"
   ]
  },
  {
   "cell_type": "code",
   "execution_count": 27,
   "metadata": {
    "colab": {
     "base_uri": "https://localhost:8080/",
     "height": 475
    },
    "executionInfo": {
     "elapsed": 1028,
     "status": "ok",
     "timestamp": 1638248898631,
     "user": {
      "displayName": "Brittany Dougall",
      "photoUrl": "https://lh3.googleusercontent.com/a/default-user=s64",
      "userId": "11043208293896572010"
     },
     "user_tz": 480
    },
    "id": "FhnByeEQ67Xo",
    "outputId": "e76263f6-fbd0-48c6-9dc3-05fdc8b9dafc"
   },
   "outputs": [
    {
     "data": {
      "text/plain": [
       "Text(0.5, 1.0, 'Train-Val Loss/Epoch')"
      ]
     },
     "execution_count": 27,
     "metadata": {},
     "output_type": "execute_result"
    },
    {
     "data": {
      "image/png": "[encoded data removed]",
      "text/plain": [
       "<Figure size 1440x504 with 2 Axes>"
      ]
     },
     "metadata": {
      "needs_background": "light"
     },
     "output_type": "display_data"
    }
   ],
   "source": [
    "# Create dataframes from the average training accuracy and loss \n",
    "train_val_acc_df = pd.DataFrame.from_dict(epoch_accuracies).reset_index().melt(id_vars=['index']).rename(columns={\"index\":\"epochs\"})\n",
    "train_val_loss_df = pd.DataFrame.from_dict(epoch_losses).reset_index().melt(id_vars=['index']).rename(columns={\"index\":\"epochs\"})\n",
    "fig, axes = plt.subplots(nrows=1, ncols=2, figsize=(20,7))\n",
    "sns.lineplot(data=train_val_acc_df, x = \"epochs\", y=\"value\", hue=\"variable\",  ax=axes[0]).set_title('Train-Val Accuracy/Epoch')\n",
    "sns.lineplot(data=train_val_loss_df, x = \"epochs\", y=\"value\", hue=\"variable\", ax=axes[1]).set_title('Train-Val Loss/Epoch')"
   ]
  },
  {
   "cell_type": "code",
   "execution_count": 46,
   "metadata": {
    "colab": {
     "base_uri": "https://localhost:8080/"
    },
    "executionInfo": {
     "elapsed": 22,
     "status": "ok",
     "timestamp": 1638248941272,
     "user": {
      "displayName": "Brittany Dougall",
      "photoUrl": "https://lh3.googleusercontent.com/a/default-user=s64",
      "userId": "11043208293896572010"
     },
     "user_tz": 480
    },
    "id": "rVCnRndIg4UT",
    "outputId": "49f03d08-ae88-4f7d-bc66-85fca96b0702"
   },
   "outputs": [
    {
     "name": "stdout",
     "output_type": "stream",
     "text": [
      "Model Saved\n"
     ]
    }
   ],
   "source": [
    "# Save the weights and biases\n",
    "torch.save(net.state_dict(), \"/content/drive/My Drive/W266_Project_Data/models/siamese_model/three_dense_w_punjabi_model_layernorm.pt\")\n",
    "print(\"Model Saved\")"
   ]
  }
 ],
 "metadata": {
  "accelerator": "GPU",
  "colab": {
   "authorship_tag": "ABX9TyNuskXhAgCH+ALdlGmFnkK7",
   "collapsed_sections": [],
   "machine_shape": "hm",
   "name": "layernorm_3dense_Pb_Siamese_BCELogitLoss.ipynb",
   "provenance": [
    {
     "file_id": "1ctDhs6HzgfoSIGYi_kBolkuARo1CzgFV",
     "timestamp": 1638223141823
    },
    {
     "file_id": "1r7lOgKgdI5XkoY62i5hmbFjd-l-65sPf",
     "timestamp": 1637209535370
    },
    {
     "file_id": "12EE9k6pdv-8QymJ3AhDja_CKI_7eRhBZ",
     "timestamp": 1637205931056
    },
    {
     "file_id": "1VJU-zl-m3Xw122B9oFbB_w56Qh04t3XW",
     "timestamp": 1637201972580
    },
    {
     "file_id": "1df6gwOWShC1Agt9MtoAtCZiXZNvGhsKh",
     "timestamp": 1636991703443
    },
    {
     "file_id": "12oZKvYzJ6Hn_hIRNiwn4PnXiEQC9q5PT",
     "timestamp": 1636770914560
    },
    {
     "file_id": "1zEj1LInGn_RANc32b8B6c334p4u3qdTM",
     "timestamp": 1636756518350
    },
    {
     "file_id": "1Na8swQ6ratqqQ00g_tPP19QVsqycOxOT",
     "timestamp": 1636737840081
    }
   ]
  },
  "kernelspec": {
   "display_name": "Python 3",
   "language": "python",
   "name": "python3"
  },
  "language_info": {
   "codemirror_mode": {
    "name": "ipython",
    "version": 3
   },
   "file_extension": ".py",
   "mimetype": "text/x-python",
   "name": "python",
   "nbconvert_exporter": "python",
   "pygments_lexer": "ipython3",
   "version": "3.7.3"
  },
  "widgets": {
   "application/vnd.jupyter.widget-state+json": {
    "05a952accc764e2ebaeeca95685832eb": {
     "model_module": "@jupyter-widgets/base",
     "model_module_version": "1.2.0",
     "model_name": "LayoutModel",
     "state": {
      "_model_module": "@jupyter-widgets/base",
      "_model_module_version": "1.2.0",
      "_model_name": "LayoutModel",
      "_view_count": null,
      "_view_module": "@jupyter-widgets/base",
      "_view_module_version": "1.2.0",
      "_view_name": "LayoutView",
      "align_content": null,
      "align_items": null,
      "align_self": null,
      "border": null,
      "bottom": null,
      "display": null,
      "flex": null,
      "flex_flow": null,
      "grid_area": null,
      "grid_auto_columns": null,
      "grid_auto_flow": null,
      "grid_auto_rows": null,
      "grid_column": null,
      "grid_gap": null,
      "grid_row": null,
      "grid_template_areas": null,
      "grid_template_columns": null,
      "grid_template_rows": null,
      "height": null,
      "justify_content": null,
      "justify_items": null,
      "left": null,
      "margin": null,
      "max_height": null,
      "max_width": null,
      "min_height": null,
      "min_width": null,
      "object_fit": null,
      "object_position": null,
      "order": null,
      "overflow": null,
      "overflow_x": null,
      "overflow_y": null,
      "padding": null,
      "right": null,
      "top": null,
      "visibility": null,
      "width": null
     }
    },
    "0bf02bb2c33b4ccebe7711b6fb62b5e6": {
     "model_module": "@jupyter-widgets/controls",
     "model_module_version": "1.5.0",
     "model_name": "FloatProgressModel",
     "state": {
      "_dom_classes": [],
      "_model_module": "@jupyter-widgets/controls",
      "_model_module_version": "1.5.0",
      "_model_name": "FloatProgressModel",
      "_view_count": null,
      "_view_module": "@jupyter-widgets/controls",
      "_view_module_version": "1.5.0",
      "_view_name": "ProgressView",
      "bar_style": "success",
      "description": "",
      "description_tooltip": null,
      "layout": "IPY_MODEL_9747332945704b30a36e4ce5eec7cf97",
      "max": 15,
      "min": 0,
      "orientation": "horizontal",
      "style": "IPY_MODEL_185bfc59b6e3415792bb66a9cf5bdd95",
      "value": 15
     }
    },
    "16049c4ad6cc456297a9e88c04e0b268": {
     "model_module": "@jupyter-widgets/base",
     "model_module_version": "1.2.0",
     "model_name": "LayoutModel",
     "state": {
      "_model_module": "@jupyter-widgets/base",
      "_model_module_version": "1.2.0",
      "_model_name": "LayoutModel",
      "_view_count": null,
      "_view_module": "@jupyter-widgets/base",
      "_view_module_version": "1.2.0",
      "_view_name": "LayoutView",
      "align_content": null,
      "align_items": null,
      "align_self": null,
      "border": null,
      "bottom": null,
      "display": null,
      "flex": null,
      "flex_flow": null,
      "grid_area": null,
      "grid_auto_columns": null,
      "grid_auto_flow": null,
      "grid_auto_rows": null,
      "grid_column": null,
      "grid_gap": null,
      "grid_row": null,
      "grid_template_areas": null,
      "grid_template_columns": null,
      "grid_template_rows": null,
      "height": null,
      "justify_content": null,
      "justify_items": null,
      "left": null,
      "margin": null,
      "max_height": null,
      "max_width": null,
      "min_height": null,
      "min_width": null,
      "object_fit": null,
      "object_position": null,
      "order": null,
      "overflow": null,
      "overflow_x": null,
      "overflow_y": null,
      "padding": null,
      "right": null,
      "top": null,
      "visibility": null,
      "width": null
     }
    },
    "185bfc59b6e3415792bb66a9cf5bdd95": {
     "model_module": "@jupyter-widgets/controls",
     "model_module_version": "1.5.0",
     "model_name": "ProgressStyleModel",
     "state": {
      "_model_module": "@jupyter-widgets/controls",
      "_model_module_version": "1.5.0",
      "_model_name": "ProgressStyleModel",
      "_view_count": null,
      "_view_module": "@jupyter-widgets/base",
      "_view_module_version": "1.2.0",
      "_view_name": "StyleView",
      "bar_color": null,
      "description_width": ""
     }
    },
    "1b21159373664d9f9f6411e37beddca4": {
     "model_module": "@jupyter-widgets/base",
     "model_module_version": "1.2.0",
     "model_name": "LayoutModel",
     "state": {
      "_model_module": "@jupyter-widgets/base",
      "_model_module_version": "1.2.0",
      "_model_name": "LayoutModel",
      "_view_count": null,
      "_view_module": "@jupyter-widgets/base",
      "_view_module_version": "1.2.0",
      "_view_name": "LayoutView",
      "align_content": null,
      "align_items": null,
      "align_self": null,
      "border": null,
      "bottom": null,
      "display": null,
      "flex": null,
      "flex_flow": null,
      "grid_area": null,
      "grid_auto_columns": null,
      "grid_auto_flow": null,
      "grid_auto_rows": null,
      "grid_column": null,
      "grid_gap": null,
      "grid_row": null,
      "grid_template_areas": null,
      "grid_template_columns": null,
      "grid_template_rows": null,
      "height": null,
      "justify_content": null,
      "justify_items": null,
      "left": null,
      "margin": null,
      "max_height": null,
      "max_width": null,
      "min_height": null,
      "min_width": null,
      "object_fit": null,
      "object_position": null,
      "order": null,
      "overflow": null,
      "overflow_x": null,
      "overflow_y": null,
      "padding": null,
      "right": null,
      "top": null,
      "visibility": null,
      "width": null
     }
    },
    "3465c3a84ea04da3b078d8c68033d443": {
     "model_module": "@jupyter-widgets/controls",
     "model_module_version": "1.5.0",
     "model_name": "HBoxModel",
     "state": {
      "_dom_classes": [],
      "_model_module": "@jupyter-widgets/controls",
      "_model_module_version": "1.5.0",
      "_model_name": "HBoxModel",
      "_view_count": null,
      "_view_module": "@jupyter-widgets/controls",
      "_view_module_version": "1.5.0",
      "_view_name": "HBoxView",
      "box_style": "",
      "children": [
       "IPY_MODEL_8c4607e50bee477794cf6144e751c420",
       "IPY_MODEL_b5b9cf3d922643e09f0bb692a919e1ae",
       "IPY_MODEL_75f2b0bc43fe47408115c1664a460f46"
      ],
      "layout": "IPY_MODEL_ea27933eaa8e4d448a395185ec548924"
     }
    },
    "3a61ee334dad4665899bb48a638e62a4": {
     "model_module": "@jupyter-widgets/controls",
     "model_module_version": "1.5.0",
     "model_name": "DescriptionStyleModel",
     "state": {
      "_model_module": "@jupyter-widgets/controls",
      "_model_module_version": "1.5.0",
      "_model_name": "DescriptionStyleModel",
      "_view_count": null,
      "_view_module": "@jupyter-widgets/base",
      "_view_module_version": "1.2.0",
      "_view_name": "StyleView",
      "description_width": ""
     }
    },
    "41ab7a37cf6e458ca5e5a3b8362eb9f2": {
     "model_module": "@jupyter-widgets/base",
     "model_module_version": "1.2.0",
     "model_name": "LayoutModel",
     "state": {
      "_model_module": "@jupyter-widgets/base",
      "_model_module_version": "1.2.0",
      "_model_name": "LayoutModel",
      "_view_count": null,
      "_view_module": "@jupyter-widgets/base",
      "_view_module_version": "1.2.0",
      "_view_name": "LayoutView",
      "align_content": null,
      "align_items": null,
      "align_self": null,
      "border": null,
      "bottom": null,
      "display": null,
      "flex": null,
      "flex_flow": null,
      "grid_area": null,
      "grid_auto_columns": null,
      "grid_auto_flow": null,
      "grid_auto_rows": null,
      "grid_column": null,
      "grid_gap": null,
      "grid_row": null,
      "grid_template_areas": null,
      "grid_template_columns": null,
      "grid_template_rows": null,
      "height": null,
      "justify_content": null,
      "justify_items": null,
      "left": null,
      "margin": null,
      "max_height": null,
      "max_width": null,
      "min_height": null,
      "min_width": null,
      "object_fit": null,
      "object_position": null,
      "order": null,
      "overflow": null,
      "overflow_x": null,
      "overflow_y": null,
      "padding": null,
      "right": null,
      "top": null,
      "visibility": null,
      "width": null
     }
    },
    "43ff199ae47d4c4cb73dddadf8504676": {
     "model_module": "@jupyter-widgets/controls",
     "model_module_version": "1.5.0",
     "model_name": "HTMLModel",
     "state": {
      "_dom_classes": [],
      "_model_module": "@jupyter-widgets/controls",
      "_model_module_version": "1.5.0",
      "_model_name": "HTMLModel",
      "_view_count": null,
      "_view_module": "@jupyter-widgets/controls",
      "_view_module_version": "1.5.0",
      "_view_name": "HTMLView",
      "description": "",
      "description_tooltip": null,
      "layout": "IPY_MODEL_8bd95bc0922a4412b86d30cb077d54a3",
      "placeholder": "​",
      "style": "IPY_MODEL_6a7feca0670f4e6ea6f78ed999cae70f",
      "value": "Downloading: 100%"
     }
    },
    "5e45fa4e386a430dad806923fde4e9e7": {
     "model_module": "@jupyter-widgets/controls",
     "model_module_version": "1.5.0",
     "model_name": "HTMLModel",
     "state": {
      "_dom_classes": [],
      "_model_module": "@jupyter-widgets/controls",
      "_model_module_version": "1.5.0",
      "_model_name": "HTMLModel",
      "_view_count": null,
      "_view_module": "@jupyter-widgets/controls",
      "_view_module_version": "1.5.0",
      "_view_name": "HTMLView",
      "description": "",
      "description_tooltip": null,
      "layout": "IPY_MODEL_e8897c78e8c24b6ab3ce7f66139a3d95",
      "placeholder": "​",
      "style": "IPY_MODEL_3a61ee334dad4665899bb48a638e62a4",
      "value": " 507/507 [00:00&lt;00:00, 13.3kB/s]"
     }
    },
    "5f23e607e40f424facc2d04c0f149256": {
     "model_module": "@jupyter-widgets/base",
     "model_module_version": "1.2.0",
     "model_name": "LayoutModel",
     "state": {
      "_model_module": "@jupyter-widgets/base",
      "_model_module_version": "1.2.0",
      "_model_name": "LayoutModel",
      "_view_count": null,
      "_view_module": "@jupyter-widgets/base",
      "_view_module_version": "1.2.0",
      "_view_name": "LayoutView",
      "align_content": null,
      "align_items": null,
      "align_self": null,
      "border": null,
      "bottom": null,
      "display": null,
      "flex": null,
      "flex_flow": null,
      "grid_area": null,
      "grid_auto_columns": null,
      "grid_auto_flow": null,
      "grid_auto_rows": null,
      "grid_column": null,
      "grid_gap": null,
      "grid_row": null,
      "grid_template_areas": null,
      "grid_template_columns": null,
      "grid_template_rows": null,
      "height": null,
      "justify_content": null,
      "justify_items": null,
      "left": null,
      "margin": null,
      "max_height": null,
      "max_width": null,
      "min_height": null,
      "min_width": null,
      "object_fit": null,
      "object_position": null,
      "order": null,
      "overflow": null,
      "overflow_x": null,
      "overflow_y": null,
      "padding": null,
      "right": null,
      "top": null,
      "visibility": null,
      "width": null
     }
    },
    "63decce03fba40c68d57e8f11e07656a": {
     "model_module": "@jupyter-widgets/controls",
     "model_module_version": "1.5.0",
     "model_name": "FloatProgressModel",
     "state": {
      "_dom_classes": [],
      "_model_module": "@jupyter-widgets/controls",
      "_model_module_version": "1.5.0",
      "_model_name": "FloatProgressModel",
      "_view_count": null,
      "_view_module": "@jupyter-widgets/controls",
      "_view_module_version": "1.5.0",
      "_view_name": "ProgressView",
      "bar_style": "success",
      "description": "",
      "description_tooltip": null,
      "layout": "IPY_MODEL_bd2ad015207e40b3ade65ba7160e1755",
      "max": 507,
      "min": 0,
      "orientation": "horizontal",
      "style": "IPY_MODEL_dc2264c18c584c50b32320a1480afa73",
      "value": 507
     }
    },
    "64f6db3e5ef54e02be0222b0bfc3ae60": {
     "model_module": "@jupyter-widgets/base",
     "model_module_version": "1.2.0",
     "model_name": "LayoutModel",
     "state": {
      "_model_module": "@jupyter-widgets/base",
      "_model_module_version": "1.2.0",
      "_model_name": "LayoutModel",
      "_view_count": null,
      "_view_module": "@jupyter-widgets/base",
      "_view_module_version": "1.2.0",
      "_view_name": "LayoutView",
      "align_content": null,
      "align_items": null,
      "align_self": null,
      "border": null,
      "bottom": null,
      "display": null,
      "flex": null,
      "flex_flow": null,
      "grid_area": null,
      "grid_auto_columns": null,
      "grid_auto_flow": null,
      "grid_auto_rows": null,
      "grid_column": null,
      "grid_gap": null,
      "grid_row": null,
      "grid_template_areas": null,
      "grid_template_columns": null,
      "grid_template_rows": null,
      "height": null,
      "justify_content": null,
      "justify_items": null,
      "left": null,
      "margin": null,
      "max_height": null,
      "max_width": null,
      "min_height": null,
      "min_width": null,
      "object_fit": null,
      "object_position": null,
      "order": null,
      "overflow": null,
      "overflow_x": null,
      "overflow_y": null,
      "padding": null,
      "right": null,
      "top": null,
      "visibility": null,
      "width": null
     }
    },
    "656d74327d5949419f1483f3f745eb77": {
     "model_module": "@jupyter-widgets/controls",
     "model_module_version": "1.5.0",
     "model_name": "ProgressStyleModel",
     "state": {
      "_model_module": "@jupyter-widgets/controls",
      "_model_module_version": "1.5.0",
      "_model_name": "ProgressStyleModel",
      "_view_count": null,
      "_view_module": "@jupyter-widgets/base",
      "_view_module_version": "1.2.0",
      "_view_name": "StyleView",
      "bar_color": null,
      "description_width": ""
     }
    },
    "6a7feca0670f4e6ea6f78ed999cae70f": {
     "model_module": "@jupyter-widgets/controls",
     "model_module_version": "1.5.0",
     "model_name": "DescriptionStyleModel",
     "state": {
      "_model_module": "@jupyter-widgets/controls",
      "_model_module_version": "1.5.0",
      "_model_name": "DescriptionStyleModel",
      "_view_count": null,
      "_view_module": "@jupyter-widgets/base",
      "_view_module_version": "1.2.0",
      "_view_name": "StyleView",
      "description_width": ""
     }
    },
    "6b79fd31396a479aad25f42d9c5258ab": {
     "model_module": "@jupyter-widgets/controls",
     "model_module_version": "1.5.0",
     "model_name": "DescriptionStyleModel",
     "state": {
      "_model_module": "@jupyter-widgets/controls",
      "_model_module_version": "1.5.0",
      "_model_name": "DescriptionStyleModel",
      "_view_count": null,
      "_view_module": "@jupyter-widgets/base",
      "_view_module_version": "1.2.0",
      "_view_name": "StyleView",
      "description_width": ""
     }
    },
    "6fa29ee7c2d348a78781c726ab8c6eac": {
     "model_module": "@jupyter-widgets/controls",
     "model_module_version": "1.5.0",
     "model_name": "HTMLModel",
     "state": {
      "_dom_classes": [],
      "_model_module": "@jupyter-widgets/controls",
      "_model_module_version": "1.5.0",
      "_model_name": "HTMLModel",
      "_view_count": null,
      "_view_module": "@jupyter-widgets/controls",
      "_view_module_version": "1.5.0",
      "_view_name": "HTMLView",
      "description": "",
      "description_tooltip": null,
      "layout": "IPY_MODEL_e358df3c08eb4640bd8ef58216f51854",
      "placeholder": "​",
      "style": "IPY_MODEL_ebea4a2c4db94005b28e28dc3287d9b3",
      "value": " 15/15 [1:08:34&lt;00:00, 274.61s/it]"
     }
    },
    "75f2b0bc43fe47408115c1664a460f46": {
     "model_module": "@jupyter-widgets/controls",
     "model_module_version": "1.5.0",
     "model_name": "HTMLModel",
     "state": {
      "_dom_classes": [],
      "_model_module": "@jupyter-widgets/controls",
      "_model_module_version": "1.5.0",
      "_model_name": "HTMLModel",
      "_view_count": null,
      "_view_module": "@jupyter-widgets/controls",
      "_view_module_version": "1.5.0",
      "_view_name": "HTMLView",
      "description": "",
      "description_tooltip": null,
      "layout": "IPY_MODEL_b199fe3d429c40dd9b3405faca5b74ac",
      "placeholder": "​",
      "style": "IPY_MODEL_e8a6bd00be2b44b0b125090104e79135",
      "value": " 129M/129M [00:04&lt;00:00, 30.8MB/s]"
     }
    },
    "7db47965a72c4a058c0c70d50f51a1b1": {
     "model_module": "@jupyter-widgets/controls",
     "model_module_version": "1.5.0",
     "model_name": "DescriptionStyleModel",
     "state": {
      "_model_module": "@jupyter-widgets/controls",
      "_model_module_version": "1.5.0",
      "_model_name": "DescriptionStyleModel",
      "_view_count": null,
      "_view_module": "@jupyter-widgets/base",
      "_view_module_version": "1.2.0",
      "_view_name": "StyleView",
      "description_width": ""
     }
    },
    "8693d2654a0940ec8ee9cf770c3be67c": {
     "model_module": "@jupyter-widgets/controls",
     "model_module_version": "1.5.0",
     "model_name": "DescriptionStyleModel",
     "state": {
      "_model_module": "@jupyter-widgets/controls",
      "_model_module_version": "1.5.0",
      "_model_name": "DescriptionStyleModel",
      "_view_count": null,
      "_view_module": "@jupyter-widgets/base",
      "_view_module_version": "1.2.0",
      "_view_name": "StyleView",
      "description_width": ""
     }
    },
    "88f00c40185848b3a35c70e1007df81b": {
     "model_module": "@jupyter-widgets/base",
     "model_module_version": "1.2.0",
     "model_name": "LayoutModel",
     "state": {
      "_model_module": "@jupyter-widgets/base",
      "_model_module_version": "1.2.0",
      "_model_name": "LayoutModel",
      "_view_count": null,
      "_view_module": "@jupyter-widgets/base",
      "_view_module_version": "1.2.0",
      "_view_name": "LayoutView",
      "align_content": null,
      "align_items": null,
      "align_self": null,
      "border": null,
      "bottom": null,
      "display": null,
      "flex": null,
      "flex_flow": null,
      "grid_area": null,
      "grid_auto_columns": null,
      "grid_auto_flow": null,
      "grid_auto_rows": null,
      "grid_column": null,
      "grid_gap": null,
      "grid_row": null,
      "grid_template_areas": null,
      "grid_template_columns": null,
      "grid_template_rows": null,
      "height": null,
      "justify_content": null,
      "justify_items": null,
      "left": null,
      "margin": null,
      "max_height": null,
      "max_width": null,
      "min_height": null,
      "min_width": null,
      "object_fit": null,
      "object_position": null,
      "order": null,
      "overflow": null,
      "overflow_x": null,
      "overflow_y": null,
      "padding": null,
      "right": null,
      "top": null,
      "visibility": null,
      "width": null
     }
    },
    "8bd95bc0922a4412b86d30cb077d54a3": {
     "model_module": "@jupyter-widgets/base",
     "model_module_version": "1.2.0",
     "model_name": "LayoutModel",
     "state": {
      "_model_module": "@jupyter-widgets/base",
      "_model_module_version": "1.2.0",
      "_model_name": "LayoutModel",
      "_view_count": null,
      "_view_module": "@jupyter-widgets/base",
      "_view_module_version": "1.2.0",
      "_view_name": "LayoutView",
      "align_content": null,
      "align_items": null,
      "align_self": null,
      "border": null,
      "bottom": null,
      "display": null,
      "flex": null,
      "flex_flow": null,
      "grid_area": null,
      "grid_auto_columns": null,
      "grid_auto_flow": null,
      "grid_auto_rows": null,
      "grid_column": null,
      "grid_gap": null,
      "grid_row": null,
      "grid_template_areas": null,
      "grid_template_columns": null,
      "grid_template_rows": null,
      "height": null,
      "justify_content": null,
      "justify_items": null,
      "left": null,
      "margin": null,
      "max_height": null,
      "max_width": null,
      "min_height": null,
      "min_width": null,
      "object_fit": null,
      "object_position": null,
      "order": null,
      "overflow": null,
      "overflow_x": null,
      "overflow_y": null,
      "padding": null,
      "right": null,
      "top": null,
      "visibility": null,
      "width": null
     }
    },
    "8c4607e50bee477794cf6144e751c420": {
     "model_module": "@jupyter-widgets/controls",
     "model_module_version": "1.5.0",
     "model_name": "HTMLModel",
     "state": {
      "_dom_classes": [],
      "_model_module": "@jupyter-widgets/controls",
      "_model_module_version": "1.5.0",
      "_model_name": "HTMLModel",
      "_view_count": null,
      "_view_module": "@jupyter-widgets/controls",
      "_view_module_version": "1.5.0",
      "_view_name": "HTMLView",
      "description": "",
      "description_tooltip": null,
      "layout": "IPY_MODEL_1b21159373664d9f9f6411e37beddca4",
      "placeholder": "​",
      "style": "IPY_MODEL_8693d2654a0940ec8ee9cf770c3be67c",
      "value": "Downloading: 100%"
     }
    },
    "9747332945704b30a36e4ce5eec7cf97": {
     "model_module": "@jupyter-widgets/base",
     "model_module_version": "1.2.0",
     "model_name": "LayoutModel",
     "state": {
      "_model_module": "@jupyter-widgets/base",
      "_model_module_version": "1.2.0",
      "_model_name": "LayoutModel",
      "_view_count": null,
      "_view_module": "@jupyter-widgets/base",
      "_view_module_version": "1.2.0",
      "_view_name": "LayoutView",
      "align_content": null,
      "align_items": null,
      "align_self": null,
      "border": null,
      "bottom": null,
      "display": null,
      "flex": null,
      "flex_flow": null,
      "grid_area": null,
      "grid_auto_columns": null,
      "grid_auto_flow": null,
      "grid_auto_rows": null,
      "grid_column": null,
      "grid_gap": null,
      "grid_row": null,
      "grid_template_areas": null,
      "grid_template_columns": null,
      "grid_template_rows": null,
      "height": null,
      "justify_content": null,
      "justify_items": null,
      "left": null,
      "margin": null,
      "max_height": null,
      "max_width": null,
      "min_height": null,
      "min_width": null,
      "object_fit": null,
      "object_position": null,
      "order": null,
      "overflow": null,
      "overflow_x": null,
      "overflow_y": null,
      "padding": null,
      "right": null,
      "top": null,
      "visibility": null,
      "width": null
     }
    },
    "a1ea9fceaf4c4f72af02b2fa7c8880ae": {
     "model_module": "@jupyter-widgets/controls",
     "model_module_version": "1.5.0",
     "model_name": "HBoxModel",
     "state": {
      "_dom_classes": [],
      "_model_module": "@jupyter-widgets/controls",
      "_model_module_version": "1.5.0",
      "_model_name": "HBoxModel",
      "_view_count": null,
      "_view_module": "@jupyter-widgets/controls",
      "_view_module_version": "1.5.0",
      "_view_name": "HBoxView",
      "box_style": "",
      "children": [
       "IPY_MODEL_ee2055341fdd4f9096920d1c1bcf3c19",
       "IPY_MODEL_63decce03fba40c68d57e8f11e07656a",
       "IPY_MODEL_5e45fa4e386a430dad806923fde4e9e7"
      ],
      "layout": "IPY_MODEL_e8f8dbd9109d47e38305d6e1bf70b0a6"
     }
    },
    "a5ebdefbca9746f4b8f56136cbdd5163": {
     "model_module": "@jupyter-widgets/base",
     "model_module_version": "1.2.0",
     "model_name": "LayoutModel",
     "state": {
      "_model_module": "@jupyter-widgets/base",
      "_model_module_version": "1.2.0",
      "_model_name": "LayoutModel",
      "_view_count": null,
      "_view_module": "@jupyter-widgets/base",
      "_view_module_version": "1.2.0",
      "_view_name": "LayoutView",
      "align_content": null,
      "align_items": null,
      "align_self": null,
      "border": null,
      "bottom": null,
      "display": null,
      "flex": null,
      "flex_flow": null,
      "grid_area": null,
      "grid_auto_columns": null,
      "grid_auto_flow": null,
      "grid_auto_rows": null,
      "grid_column": null,
      "grid_gap": null,
      "grid_row": null,
      "grid_template_areas": null,
      "grid_template_columns": null,
      "grid_template_rows": null,
      "height": null,
      "justify_content": null,
      "justify_items": null,
      "left": null,
      "margin": null,
      "max_height": null,
      "max_width": null,
      "min_height": null,
      "min_width": null,
      "object_fit": null,
      "object_position": null,
      "order": null,
      "overflow": null,
      "overflow_x": null,
      "overflow_y": null,
      "padding": null,
      "right": null,
      "top": null,
      "visibility": null,
      "width": null
     }
    },
    "aa60d2fc0fae4685a87f31e86dc7b33a": {
     "model_module": "@jupyter-widgets/controls",
     "model_module_version": "1.5.0",
     "model_name": "FloatProgressModel",
     "state": {
      "_dom_classes": [],
      "_model_module": "@jupyter-widgets/controls",
      "_model_module_version": "1.5.0",
      "_model_name": "FloatProgressModel",
      "_view_count": null,
      "_view_module": "@jupyter-widgets/controls",
      "_view_module_version": "1.5.0",
      "_view_name": "ProgressView",
      "bar_style": "success",
      "description": "",
      "description_tooltip": null,
      "layout": "IPY_MODEL_5f23e607e40f424facc2d04c0f149256",
      "max": 5646064,
      "min": 0,
      "orientation": "horizontal",
      "style": "IPY_MODEL_656d74327d5949419f1483f3f745eb77",
      "value": 5646064
     }
    },
    "b199fe3d429c40dd9b3405faca5b74ac": {
     "model_module": "@jupyter-widgets/base",
     "model_module_version": "1.2.0",
     "model_name": "LayoutModel",
     "state": {
      "_model_module": "@jupyter-widgets/base",
      "_model_module_version": "1.2.0",
      "_model_name": "LayoutModel",
      "_view_count": null,
      "_view_module": "@jupyter-widgets/base",
      "_view_module_version": "1.2.0",
      "_view_name": "LayoutView",
      "align_content": null,
      "align_items": null,
      "align_self": null,
      "border": null,
      "bottom": null,
      "display": null,
      "flex": null,
      "flex_flow": null,
      "grid_area": null,
      "grid_auto_columns": null,
      "grid_auto_flow": null,
      "grid_auto_rows": null,
      "grid_column": null,
      "grid_gap": null,
      "grid_row": null,
      "grid_template_areas": null,
      "grid_template_columns": null,
      "grid_template_rows": null,
      "height": null,
      "justify_content": null,
      "justify_items": null,
      "left": null,
      "margin": null,
      "max_height": null,
      "max_width": null,
      "min_height": null,
      "min_width": null,
      "object_fit": null,
      "object_position": null,
      "order": null,
      "overflow": null,
      "overflow_x": null,
      "overflow_y": null,
      "padding": null,
      "right": null,
      "top": null,
      "visibility": null,
      "width": null
     }
    },
    "b5b9cf3d922643e09f0bb692a919e1ae": {
     "model_module": "@jupyter-widgets/controls",
     "model_module_version": "1.5.0",
     "model_name": "FloatProgressModel",
     "state": {
      "_dom_classes": [],
      "_model_module": "@jupyter-widgets/controls",
      "_model_module_version": "1.5.0",
      "_model_name": "FloatProgressModel",
      "_view_count": null,
      "_view_module": "@jupyter-widgets/controls",
      "_view_module_version": "1.5.0",
      "_view_name": "ProgressView",
      "bar_style": "success",
      "description": "",
      "description_tooltip": null,
      "layout": "IPY_MODEL_05a952accc764e2ebaeeca95685832eb",
      "max": 134982446,
      "min": 0,
      "orientation": "horizontal",
      "style": "IPY_MODEL_e35be3d1ed4746fc9c771ff6428ea545",
      "value": 134982446
     }
    },
    "bd2ad015207e40b3ade65ba7160e1755": {
     "model_module": "@jupyter-widgets/base",
     "model_module_version": "1.2.0",
     "model_name": "LayoutModel",
     "state": {
      "_model_module": "@jupyter-widgets/base",
      "_model_module_version": "1.2.0",
      "_model_name": "LayoutModel",
      "_view_count": null,
      "_view_module": "@jupyter-widgets/base",
      "_view_module_version": "1.2.0",
      "_view_name": "LayoutView",
      "align_content": null,
      "align_items": null,
      "align_self": null,
      "border": null,
      "bottom": null,
      "display": null,
      "flex": null,
      "flex_flow": null,
      "grid_area": null,
      "grid_auto_columns": null,
      "grid_auto_flow": null,
      "grid_auto_rows": null,
      "grid_column": null,
      "grid_gap": null,
      "grid_row": null,
      "grid_template_areas": null,
      "grid_template_columns": null,
      "grid_template_rows": null,
      "height": null,
      "justify_content": null,
      "justify_items": null,
      "left": null,
      "margin": null,
      "max_height": null,
      "max_width": null,
      "min_height": null,
      "min_width": null,
      "object_fit": null,
      "object_position": null,
      "order": null,
      "overflow": null,
      "overflow_x": null,
      "overflow_y": null,
      "padding": null,
      "right": null,
      "top": null,
      "visibility": null,
      "width": null
     }
    },
    "c48b305142d945bfb37f4647add9ecc6": {
     "model_module": "@jupyter-widgets/controls",
     "model_module_version": "1.5.0",
     "model_name": "HBoxModel",
     "state": {
      "_dom_classes": [],
      "_model_module": "@jupyter-widgets/controls",
      "_model_module_version": "1.5.0",
      "_model_name": "HBoxModel",
      "_view_count": null,
      "_view_module": "@jupyter-widgets/controls",
      "_view_module_version": "1.5.0",
      "_view_name": "HBoxView",
      "box_style": "",
      "children": [
       "IPY_MODEL_43ff199ae47d4c4cb73dddadf8504676",
       "IPY_MODEL_aa60d2fc0fae4685a87f31e86dc7b33a",
       "IPY_MODEL_d98fbc2f4407405080a595afe35f17df"
      ],
      "layout": "IPY_MODEL_64f6db3e5ef54e02be0222b0bfc3ae60"
     }
    },
    "d98fbc2f4407405080a595afe35f17df": {
     "model_module": "@jupyter-widgets/controls",
     "model_module_version": "1.5.0",
     "model_name": "HTMLModel",
     "state": {
      "_dom_classes": [],
      "_model_module": "@jupyter-widgets/controls",
      "_model_module_version": "1.5.0",
      "_model_name": "HTMLModel",
      "_view_count": null,
      "_view_module": "@jupyter-widgets/controls",
      "_view_module_version": "1.5.0",
      "_view_name": "HTMLView",
      "description": "",
      "description_tooltip": null,
      "layout": "IPY_MODEL_16049c4ad6cc456297a9e88c04e0b268",
      "placeholder": "​",
      "style": "IPY_MODEL_eb4f724083bf42e088fada7c1fa33dc1",
      "value": " 5.38M/5.38M [00:00&lt;00:00, 12.5MB/s]"
     }
    },
    "dc2264c18c584c50b32320a1480afa73": {
     "model_module": "@jupyter-widgets/controls",
     "model_module_version": "1.5.0",
     "model_name": "ProgressStyleModel",
     "state": {
      "_model_module": "@jupyter-widgets/controls",
      "_model_module_version": "1.5.0",
      "_model_name": "ProgressStyleModel",
      "_view_count": null,
      "_view_module": "@jupyter-widgets/base",
      "_view_module_version": "1.2.0",
      "_view_name": "StyleView",
      "bar_color": null,
      "description_width": ""
     }
    },
    "e358df3c08eb4640bd8ef58216f51854": {
     "model_module": "@jupyter-widgets/base",
     "model_module_version": "1.2.0",
     "model_name": "LayoutModel",
     "state": {
      "_model_module": "@jupyter-widgets/base",
      "_model_module_version": "1.2.0",
      "_model_name": "LayoutModel",
      "_view_count": null,
      "_view_module": "@jupyter-widgets/base",
      "_view_module_version": "1.2.0",
      "_view_name": "LayoutView",
      "align_content": null,
      "align_items": null,
      "align_self": null,
      "border": null,
      "bottom": null,
      "display": null,
      "flex": null,
      "flex_flow": null,
      "grid_area": null,
      "grid_auto_columns": null,
      "grid_auto_flow": null,
      "grid_auto_rows": null,
      "grid_column": null,
      "grid_gap": null,
      "grid_row": null,
      "grid_template_areas": null,
      "grid_template_columns": null,
      "grid_template_rows": null,
      "height": null,
      "justify_content": null,
      "justify_items": null,
      "left": null,
      "margin": null,
      "max_height": null,
      "max_width": null,
      "min_height": null,
      "min_width": null,
      "object_fit": null,
      "object_position": null,
      "order": null,
      "overflow": null,
      "overflow_x": null,
      "overflow_y": null,
      "padding": null,
      "right": null,
      "top": null,
      "visibility": null,
      "width": null
     }
    },
    "e35be3d1ed4746fc9c771ff6428ea545": {
     "model_module": "@jupyter-widgets/controls",
     "model_module_version": "1.5.0",
     "model_name": "ProgressStyleModel",
     "state": {
      "_model_module": "@jupyter-widgets/controls",
      "_model_module_version": "1.5.0",
      "_model_name": "ProgressStyleModel",
      "_view_count": null,
      "_view_module": "@jupyter-widgets/base",
      "_view_module_version": "1.2.0",
      "_view_name": "StyleView",
      "bar_color": null,
      "description_width": ""
     }
    },
    "e8897c78e8c24b6ab3ce7f66139a3d95": {
     "model_module": "@jupyter-widgets/base",
     "model_module_version": "1.2.0",
     "model_name": "LayoutModel",
     "state": {
      "_model_module": "@jupyter-widgets/base",
      "_model_module_version": "1.2.0",
      "_model_name": "LayoutModel",
      "_view_count": null,
      "_view_module": "@jupyter-widgets/base",
      "_view_module_version": "1.2.0",
      "_view_name": "LayoutView",
      "align_content": null,
      "align_items": null,
      "align_self": null,
      "border": null,
      "bottom": null,
      "display": null,
      "flex": null,
      "flex_flow": null,
      "grid_area": null,
      "grid_auto_columns": null,
      "grid_auto_flow": null,
      "grid_auto_rows": null,
      "grid_column": null,
      "grid_gap": null,
      "grid_row": null,
      "grid_template_areas": null,
      "grid_template_columns": null,
      "grid_template_rows": null,
      "height": null,
      "justify_content": null,
      "justify_items": null,
      "left": null,
      "margin": null,
      "max_height": null,
      "max_width": null,
      "min_height": null,
      "min_width": null,
      "object_fit": null,
      "object_position": null,
      "order": null,
      "overflow": null,
      "overflow_x": null,
      "overflow_y": null,
      "padding": null,
      "right": null,
      "top": null,
      "visibility": null,
      "width": null
     }
    },
    "e8a6bd00be2b44b0b125090104e79135": {
     "model_module": "@jupyter-widgets/controls",
     "model_module_version": "1.5.0",
     "model_name": "DescriptionStyleModel",
     "state": {
      "_model_module": "@jupyter-widgets/controls",
      "_model_module_version": "1.5.0",
      "_model_name": "DescriptionStyleModel",
      "_view_count": null,
      "_view_module": "@jupyter-widgets/base",
      "_view_module_version": "1.2.0",
      "_view_name": "StyleView",
      "description_width": ""
     }
    },
    "e8f8dbd9109d47e38305d6e1bf70b0a6": {
     "model_module": "@jupyter-widgets/base",
     "model_module_version": "1.2.0",
     "model_name": "LayoutModel",
     "state": {
      "_model_module": "@jupyter-widgets/base",
      "_model_module_version": "1.2.0",
      "_model_name": "LayoutModel",
      "_view_count": null,
      "_view_module": "@jupyter-widgets/base",
      "_view_module_version": "1.2.0",
      "_view_name": "LayoutView",
      "align_content": null,
      "align_items": null,
      "align_self": null,
      "border": null,
      "bottom": null,
      "display": null,
      "flex": null,
      "flex_flow": null,
      "grid_area": null,
      "grid_auto_columns": null,
      "grid_auto_flow": null,
      "grid_auto_rows": null,
      "grid_column": null,
      "grid_gap": null,
      "grid_row": null,
      "grid_template_areas": null,
      "grid_template_columns": null,
      "grid_template_rows": null,
      "height": null,
      "justify_content": null,
      "justify_items": null,
      "left": null,
      "margin": null,
      "max_height": null,
      "max_width": null,
      "min_height": null,
      "min_width": null,
      "object_fit": null,
      "object_position": null,
      "order": null,
      "overflow": null,
      "overflow_x": null,
      "overflow_y": null,
      "padding": null,
      "right": null,
      "top": null,
      "visibility": null,
      "width": null
     }
    },
    "ea27933eaa8e4d448a395185ec548924": {
     "model_module": "@jupyter-widgets/base",
     "model_module_version": "1.2.0",
     "model_name": "LayoutModel",
     "state": {
      "_model_module": "@jupyter-widgets/base",
      "_model_module_version": "1.2.0",
      "_model_name": "LayoutModel",
      "_view_count": null,
      "_view_module": "@jupyter-widgets/base",
      "_view_module_version": "1.2.0",
      "_view_name": "LayoutView",
      "align_content": null,
      "align_items": null,
      "align_self": null,
      "border": null,
      "bottom": null,
      "display": null,
      "flex": null,
      "flex_flow": null,
      "grid_area": null,
      "grid_auto_columns": null,
      "grid_auto_flow": null,
      "grid_auto_rows": null,
      "grid_column": null,
      "grid_gap": null,
      "grid_row": null,
      "grid_template_areas": null,
      "grid_template_columns": null,
      "grid_template_rows": null,
      "height": null,
      "justify_content": null,
      "justify_items": null,
      "left": null,
      "margin": null,
      "max_height": null,
      "max_width": null,
      "min_height": null,
      "min_width": null,
      "object_fit": null,
      "object_position": null,
      "order": null,
      "overflow": null,
      "overflow_x": null,
      "overflow_y": null,
      "padding": null,
      "right": null,
      "top": null,
      "visibility": null,
      "width": null
     }
    },
    "eb4f724083bf42e088fada7c1fa33dc1": {
     "model_module": "@jupyter-widgets/controls",
     "model_module_version": "1.5.0",
     "model_name": "DescriptionStyleModel",
     "state": {
      "_model_module": "@jupyter-widgets/controls",
      "_model_module_version": "1.5.0",
      "_model_name": "DescriptionStyleModel",
      "_view_count": null,
      "_view_module": "@jupyter-widgets/base",
      "_view_module_version": "1.2.0",
      "_view_name": "StyleView",
      "description_width": ""
     }
    },
    "ebea4a2c4db94005b28e28dc3287d9b3": {
     "model_module": "@jupyter-widgets/controls",
     "model_module_version": "1.5.0",
     "model_name": "DescriptionStyleModel",
     "state": {
      "_model_module": "@jupyter-widgets/controls",
      "_model_module_version": "1.5.0",
      "_model_name": "DescriptionStyleModel",
      "_view_count": null,
      "_view_module": "@jupyter-widgets/base",
      "_view_module_version": "1.2.0",
      "_view_name": "StyleView",
      "description_width": ""
     }
    },
    "ee2055341fdd4f9096920d1c1bcf3c19": {
     "model_module": "@jupyter-widgets/controls",
     "model_module_version": "1.5.0",
     "model_name": "HTMLModel",
     "state": {
      "_dom_classes": [],
      "_model_module": "@jupyter-widgets/controls",
      "_model_module_version": "1.5.0",
      "_model_name": "HTMLModel",
      "_view_count": null,
      "_view_module": "@jupyter-widgets/controls",
      "_view_module_version": "1.5.0",
      "_view_name": "HTMLView",
      "description": "",
      "description_tooltip": null,
      "layout": "IPY_MODEL_41ab7a37cf6e458ca5e5a3b8362eb9f2",
      "placeholder": "​",
      "style": "IPY_MODEL_6b79fd31396a479aad25f42d9c5258ab",
      "value": "Downloading: 100%"
     }
    },
    "ef5ce0eb40ae4a7db3c7d61db90bb189": {
     "model_module": "@jupyter-widgets/controls",
     "model_module_version": "1.5.0",
     "model_name": "HTMLModel",
     "state": {
      "_dom_classes": [],
      "_model_module": "@jupyter-widgets/controls",
      "_model_module_version": "1.5.0",
      "_model_name": "HTMLModel",
      "_view_count": null,
      "_view_module": "@jupyter-widgets/controls",
      "_view_module_version": "1.5.0",
      "_view_name": "HTMLView",
      "description": "",
      "description_tooltip": null,
      "layout": "IPY_MODEL_a5ebdefbca9746f4b8f56136cbdd5163",
      "placeholder": "​",
      "style": "IPY_MODEL_7db47965a72c4a058c0c70d50f51a1b1",
      "value": "100%"
     }
    },
    "f991e0e69e97451c84ef76e3cde02f80": {
     "model_module": "@jupyter-widgets/controls",
     "model_module_version": "1.5.0",
     "model_name": "HBoxModel",
     "state": {
      "_dom_classes": [],
      "_model_module": "@jupyter-widgets/controls",
      "_model_module_version": "1.5.0",
      "_model_name": "HBoxModel",
      "_view_count": null,
      "_view_module": "@jupyter-widgets/controls",
      "_view_module_version": "1.5.0",
      "_view_name": "HBoxView",
      "box_style": "",
      "children": [
       "IPY_MODEL_ef5ce0eb40ae4a7db3c7d61db90bb189",
       "IPY_MODEL_0bf02bb2c33b4ccebe7711b6fb62b5e6",
       "IPY_MODEL_6fa29ee7c2d348a78781c726ab8c6eac"
      ],
      "layout": "IPY_MODEL_88f00c40185848b3a35c70e1007df81b"
     }
    }
   }
  }
 },
 "nbformat": 4,
 "nbformat_minor": 1
}
