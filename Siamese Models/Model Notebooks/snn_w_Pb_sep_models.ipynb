{
 "cells": [
  {
   "cell_type": "code",
   "execution_count": null,
   "metadata": {
    "colab": {
     "base_uri": "https://localhost:8080/"
    },
    "executionInfo": {
     "elapsed": 9679,
     "status": "ok",
     "timestamp": 1638242228072,
     "user": {
      "displayName": "Brittany Dougall",
      "photoUrl": "https://lh3.googleusercontent.com/a/default-user=s64",
      "userId": "11043208293896572010"
     },
     "user_tz": 480
    },
    "id": "aEpKvDqBjyjy",
    "outputId": "456125f4-a78d-4e9a-9234-0488bf18df43"
   },
   "outputs": [
    {
     "name": "stdout",
     "output_type": "stream",
     "text": [
      "\u001b[K     |████████████████████████████████| 3.1 MB 12.8 MB/s \n",
      "\u001b[K     |████████████████████████████████| 596 kB 58.0 MB/s \n",
      "\u001b[K     |████████████████████████████████| 59 kB 8.4 MB/s \n",
      "\u001b[K     |████████████████████████████████| 895 kB 64.2 MB/s \n",
      "\u001b[K     |████████████████████████████████| 3.3 MB 57.6 MB/s \n",
      "\u001b[K     |████████████████████████████████| 1.2 MB 14.4 MB/s \n",
      "\u001b[?25h"
     ]
    }
   ],
   "source": [
    "!pip install transformers -q\n",
    "!pip install sentencepiece -q"
   ]
  },
  {
   "cell_type": "code",
   "execution_count": null,
   "metadata": {
    "colab": {
     "base_uri": "https://localhost:8080/"
    },
    "executionInfo": {
     "elapsed": 19201,
     "status": "ok",
     "timestamp": 1638242247261,
     "user": {
      "displayName": "Brittany Dougall",
      "photoUrl": "https://lh3.googleusercontent.com/a/default-user=s64",
      "userId": "11043208293896572010"
     },
     "user_tz": 480
    },
    "id": "Xh4ZQuEAhyf1",
    "outputId": "d4cf26ca-2bf8-47a3-be2b-df5e3067a567"
   },
   "outputs": [
    {
     "name": "stdout",
     "output_type": "stream",
     "text": [
      "Mounted at /content/drive\n"
     ]
    }
   ],
   "source": [
    "# Mount Google drive to upload datasets\n",
    "from google.colab import drive\n",
    "drive.mount('/content/drive')"
   ]
  },
  {
   "cell_type": "code",
   "execution_count": null,
   "metadata": {
    "id": "AFt05MH047S_"
   },
   "outputs": [],
   "source": [
    "# The path to the data on my drive\n",
    "D = '/content/drive/My Drive/W266_Project_Data/pmi_data'"
   ]
  },
  {
   "cell_type": "code",
   "execution_count": null,
   "metadata": {
    "id": "73eMNw7I42QK"
   },
   "outputs": [],
   "source": [
    "# Import the necessary libraries\n",
    "import numpy as np\n",
    "import pandas as pd\n",
    "from tqdm.auto import tqdm\n",
    "from transformers import AutoTokenizer, AutoModel\n",
    "\n",
    "import torch\n",
    "from torch.utils.data import Dataset, DataLoader, WeightedRandomSampler\n",
    "from torch import optim\n",
    "import torch.nn.functional as F\n",
    "\n",
    "from sklearn.metrics import f1_score, accuracy_score, confusion_matrix, classification_report\n",
    "import seaborn as sns\n",
    "import matplotlib.pyplot as plt"
   ]
  },
  {
   "cell_type": "code",
   "execution_count": null,
   "metadata": {
    "id": "gtAUzNkoBvA1"
   },
   "outputs": [],
   "source": [
    "# Load the paraphrase training, dev, and test sets created with punjabi\n",
    "paraphrase_train = pd.read_csv(D+\"/xml/amrita-paraphrase-exact/paraphrase_train_w_punjabi.csv\")\n",
    "paraphrase_train.drop(columns={\"Unnamed: 0\"}, inplace=True)\n",
    "\n",
    "paraphrase_dev = pd.read_csv(D+\"/xml/amrita-paraphrase-exact/paraphrase_dev_w_punjabi.csv\")\n",
    "paraphrase_dev.drop(columns={\"Unnamed: 0\"}, inplace=True)\n",
    "\n",
    "paraphrase_test = pd.read_csv(D+\"/xml/amrita-paraphrase-exact/paraphrase_test_w_punjabi.csv\")\n",
    "paraphrase_test.drop(columns={\"Unnamed: 0\"}, inplace=True)"
   ]
  },
  {
   "cell_type": "code",
   "execution_count": null,
   "metadata": {
    "id": "NatcSQnWoP1c"
   },
   "outputs": [],
   "source": [
    "# Filter the train, dev, and test datasets to filter by language origin (Aryan vs Dravidian)\n",
    "aryan_train = paraphrase_train[(paraphrase_train.language_task == 'translate English to Hindi') | (paraphrase_train.language_task == 'translate English to Punjabi')]\n",
    "aryan_dev = paraphrase_dev[(paraphrase_dev.language_task == 'translate English to Hindi') | (paraphrase_dev.language_task == 'translate English to Punjabi')]\n",
    "aryan_test = paraphrase_test[(paraphrase_test.language_task == 'translate English to Hindi') | (paraphrase_test.language_task == 'translate English to Punjabi')]\n",
    "\n",
    "drav_train = paraphrase_train[(paraphrase_train.language_task == 'translate English to Tamil') | (paraphrase_train.language_task == 'translate English to Malayalam')]\n",
    "drav_dev = paraphrase_dev[(paraphrase_dev.language_task == 'translate English to Tamil') | (paraphrase_dev.language_task == 'translate English to Malayalam')]\n",
    "drav_test = paraphrase_test[(paraphrase_test.language_task == 'translate English to Tamil') | (paraphrase_test.language_task == 'translate English to Malayalam')]"
   ]
  },
  {
   "cell_type": "code",
   "execution_count": null,
   "metadata": {
    "id": "0dji4wrx9Q8h"
   },
   "outputs": [],
   "source": [
    "# Set up the device to run on GPU if available\n",
    "device = torch.device('cuda') if torch.cuda.is_available() else torch.device('cpu')"
   ]
  },
  {
   "cell_type": "code",
   "execution_count": null,
   "metadata": {
    "colab": {
     "base_uri": "https://localhost:8080/",
     "height": 185,
     "referenced_widgets": [
      "3f36796088d041508095c71fbc0a7739",
      "7d724a605ce54c33a40655eb723310c1",
      "ec48a09f4fe442289571852032c8ecba",
      "1587e612b6c84833878bcdbc784b0649",
      "e63fe567ef2c4482b92348fef27442ee",
      "484decf972214bc892f543bf8b45bd04",
      "1d5b62b51b9344f29f36e9ad1009d6d9",
      "8d4d9c3bb10e4e9a8817d893179442d7",
      "ff1cad137b3d4954a704160790c8ff78",
      "0982d9b532bd4e83a7f211c8a868e661",
      "f9cf368ed2b047149b395f7cf5453b4a",
      "b1d22c35a0814975a34f971cf29ac84c",
      "36d0215377bc45e99629d64edd27e8ae",
      "2f9e23b1cbd746749a68e518d9e42699",
      "14ba5c23f6b344d1adcd0506ca6c1f57",
      "7e8deaebffd7478cb0db50750ca9e045",
      "1a2c1e61ac9e42e0bc9c0c5e0c73a9ac",
      "20735183044b4066809094dda1569426",
      "8efd6bda2878496ea66184e3b6c94875",
      "64bcc4e2a3564de5a6121640a16c3f12",
      "a5f7f7da7b214f7490b1acfa74aa4dd3",
      "8b8bdaa10e964b68bdd50d6b5f0fee1a",
      "6b4fd1e95bfe410792ebd7b3fcbfef84",
      "42510537d6f045fca31c67cbd12b4731",
      "d2f10fd267de473aa4b2de971f2d9f3c",
      "99984f15099e4d469bac606106cb850b",
      "84e6f73c96cd4b99b2937fa620673c9e",
      "372b8e47ae16470bba1852e632cfc5a8",
      "65779fb215914324b485e80e3174c048",
      "69aedbfaf71b41bc9a4599b64f9cce10",
      "afd2fc68741f4ee1b042b2a33fbe383f",
      "3a486966f0ab4e6290cc5a89699ccf8d",
      "6d4d4a48bfac467f9c75fe02c9e72485"
     ]
    },
    "executionInfo": {
     "elapsed": 10394,
     "status": "ok",
     "timestamp": 1638242269199,
     "user": {
      "displayName": "Brittany Dougall",
      "photoUrl": "https://lh3.googleusercontent.com/a/default-user=s64",
      "userId": "11043208293896572010"
     },
     "user_tz": 480
    },
    "id": "X0QlHNG50J3f",
    "outputId": "c54bcfa8-702d-4814-e16f-e0292c4fa3a3"
   },
   "outputs": [
    {
     "data": {
      "application/vnd.jupyter.widget-view+json": {
       "model_id": "3f36796088d041508095c71fbc0a7739",
       "version_major": 2,
       "version_minor": 0
      },
      "text/plain": [
       "Downloading:   0%|          | 0.00/507 [00:00<?, ?B/s]"
      ]
     },
     "metadata": {},
     "output_type": "display_data"
    },
    {
     "data": {
      "application/vnd.jupyter.widget-view+json": {
       "model_id": "b1d22c35a0814975a34f971cf29ac84c",
       "version_major": 2,
       "version_minor": 0
      },
      "text/plain": [
       "Downloading:   0%|          | 0.00/5.38M [00:00<?, ?B/s]"
      ]
     },
     "metadata": {},
     "output_type": "display_data"
    },
    {
     "data": {
      "application/vnd.jupyter.widget-view+json": {
       "model_id": "6b4fd1e95bfe410792ebd7b3fcbfef84",
       "version_major": 2,
       "version_minor": 0
      },
      "text/plain": [
       "Downloading:   0%|          | 0.00/129M [00:00<?, ?B/s]"
      ]
     },
     "metadata": {},
     "output_type": "display_data"
    },
    {
     "name": "stderr",
     "output_type": "stream",
     "text": [
      "Some weights of the model checkpoint at ai4bharat/indic-bert were not used when initializing AlbertModel: ['sop_classifier.classifier.bias', 'predictions.bias', 'sop_classifier.classifier.weight', 'predictions.dense.weight', 'predictions.LayerNorm.bias', 'predictions.LayerNorm.weight', 'predictions.decoder.bias', 'predictions.dense.bias', 'predictions.decoder.weight']\n",
      "- This IS expected if you are initializing AlbertModel from the checkpoint of a model trained on another task or with another architecture (e.g. initializing a BertForSequenceClassification model from a BertForPreTraining model).\n",
      "- This IS NOT expected if you are initializing AlbertModel from the checkpoint of a model that you expect to be exactly identical (initializing a BertForSequenceClassification model from a BertForSequenceClassification model).\n"
     ]
    }
   ],
   "source": [
    "# Create an instance of the tokenizer and model using Indic Bert\n",
    "tokenizer = AutoTokenizer.from_pretrained('ai4bharat/indic-bert', keep_accents=True)\n",
    "model = AutoModel.from_pretrained('ai4bharat/indic-bert')"
   ]
  },
  {
   "cell_type": "code",
   "execution_count": null,
   "metadata": {
    "id": "lxDEP5ZAL5DP"
   },
   "outputs": [],
   "source": [
    "# Mean Pooling - Take attention mask into account for correct averaging\n",
    "def mean_pooling(model_output, attention_mask):\n",
    "    token_embeddings = model_output[0]\n",
    "    input_mask_expanded = attention_mask.unsqueeze(-1).expand(token_embeddings.size()).float()\n",
    "    sum_embeddings = torch.sum(token_embeddings * input_mask_expanded, 1)\n",
    "    sum_mask = torch.clamp(input_mask_expanded.sum(1), min=1e-9)\n",
    "    return sum_embeddings / sum_mask\n",
    "\n",
    "def sentence_embeddings(device, tokenizer, model, sentences):\n",
    "  \"\"\"Create contextualized sentence embeddings\n",
    "  \n",
    "  Parameters:\n",
    "  tokenizer: transformers tokenizer for creating word tokens\n",
    "  model:\n",
    "  sentences: sentences to generate sentence embeddings for\n",
    "  \"\"\"\n",
    "\n",
    "  # Tokenize sentences and return PyTorch tensors\n",
    "  encoded_input = tokenizer(sentences, padding=True, truncation=True, \n",
    "                            max_length=128, return_tensors='pt')\n",
    "  encoded_input = encoded_input.to(device)\n",
    "  \n",
    "  # Pass the tokenized input to the model \n",
    "  with torch.no_grad():\n",
    "    model.to(device)\n",
    "    model_output = model(**encoded_input) \n",
    "  \n",
    "  # Perform mean pooling to get total sentence embeddings\n",
    "  sentence_embeddings = mean_pooling(model_output, \n",
    "                                     encoded_input['attention_mask'])\n",
    "  \n",
    "  return sentence_embeddings"
   ]
  },
  {
   "cell_type": "code",
   "execution_count": null,
   "metadata": {
    "id": "8jioG5HS5zVW"
   },
   "outputs": [],
   "source": [
    "# An object to prepare the training and test data fields for use in the neural network\n",
    "class SiameseNetworkDataset(Dataset): \n",
    "  def __init__(self,training_df, device, tokenizer, model):\n",
    "    self.training_df=training_df\n",
    "    self.sent1 = self.training_df['sentence_1'].tolist()\n",
    "    self.sent2 = self.training_df['sentence_2'].tolist()\n",
    "    self.language_task = self.training_df['language_task'].tolist()\n",
    "    self.label = self.training_df['label'].tolist()\n",
    "    self.device = device\n",
    "    self.tokenizer = tokenizer\n",
    "    self.model = model\n",
    "\n",
    "  def __getitem__(self, index):\n",
    "    sent1 = self.sent1[index]\n",
    "    sent2 = self.sent2[index]\n",
    "    task = self.language_task[index]\n",
    "    label = self.label[index]\n",
    "\n",
    "    # Get the sentence embeddings for sentences 1 and 2 for each row\n",
    "    sent1_embeddings = sentence_embeddings(self.device, self.tokenizer, self.model, sent1)\n",
    "    sent2_embeddings = sentence_embeddings(self.device, self.tokenizer, self.model, sent2)\n",
    "    return sent1_embeddings, sent2_embeddings, task, torch.from_numpy(np.array(label)).long()\n",
    "\n",
    "  def __len__(self):\n",
    "    return len(self.training_df)"
   ]
  },
  {
   "cell_type": "code",
   "execution_count": null,
   "metadata": {
    "id": "FXISLYSfpF77"
   },
   "outputs": [],
   "source": [
    "# Create separate instances of the Siamese Network dataset class using training, dev, and testing data for the Aryan languages\n",
    "aryan_siamese_train = SiameseNetworkDataset(aryan_train, device, tokenizer, model)\n",
    "aryan_siamese_dev = SiameseNetworkDataset(aryan_dev, device, tokenizer, model)\n",
    "aryan_siamese_test = SiameseNetworkDataset(aryan_test, device, tokenizer, model)"
   ]
  },
  {
   "cell_type": "code",
   "execution_count": null,
   "metadata": {
    "id": "krhZghwCqU9Y"
   },
   "outputs": [],
   "source": [
    "# Create separate instances of the Siamese Network dataset class using training, dev, and testing data for the Dravidian languages\n",
    "drav_siamese_train = SiameseNetworkDataset(drav_train, device, tokenizer, model)\n",
    "drav_siamese_dev = SiameseNetworkDataset(drav_dev, device, tokenizer, model)\n",
    "drav_siamese_test = SiameseNetworkDataset(drav_test, device, tokenizer, model)"
   ]
  },
  {
   "cell_type": "code",
   "execution_count": null,
   "metadata": {
    "id": "PfvUrnFapXHY"
   },
   "outputs": [],
   "source": [
    "# Get the label for every row in the training dataset and convert it to tensor form\n",
    "aryan_target_list = []\n",
    "\n",
    "for sent1, sent2, task, label in aryan_siamese_train:\n",
    "  aryan_target_list.append(label)\n",
    "\n",
    "# Store the torch form of the target label   \n",
    "aryan_target_list = torch.tensor(aryan_target_list)"
   ]
  },
  {
   "cell_type": "code",
   "execution_count": null,
   "metadata": {
    "id": "LLxRL5OFqqzv"
   },
   "outputs": [],
   "source": [
    "# Get the label for every row in the training dataset and convert it to tensor form\n",
    "drav_target_list = []\n",
    "\n",
    "for sent1, sent2, task, label in drav_siamese_train:\n",
    "  drav_target_list.append(label)\n",
    "\n",
    "# Store the torch form of the target label   \n",
    "drav_target_list = torch.tensor(drav_target_list)"
   ]
  },
  {
   "cell_type": "code",
   "execution_count": null,
   "metadata": {
    "colab": {
     "base_uri": "https://localhost:8080/"
    },
    "executionInfo": {
     "elapsed": 54,
     "status": "ok",
     "timestamp": 1638242420776,
     "user": {
      "displayName": "Brittany Dougall",
      "photoUrl": "https://lh3.googleusercontent.com/a/default-user=s64",
      "userId": "11043208293896572010"
     },
     "user_tz": 480
    },
    "id": "PegVArvcp0Kp",
    "outputId": "fe7935ec-d165-4ce1-8085-f7e37bfb0dc6"
   },
   "outputs": [
    {
     "name": "stdout",
     "output_type": "stream",
     "text": [
      "[2500, 1700]\n",
      "tensor([0.0004, 0.0006])\n"
     ]
    }
   ],
   "source": [
    "# Weight the labels by their frequency in the dataset - this will help our accuracy if there is an imbalance in classes (P vs NP)\n",
    "aryan_class_count = [len(aryan_train[aryan_train.label == 0]),len(aryan_train[aryan_train.label == 1])]\n",
    "print(aryan_class_count)\n",
    "aryan_class_weights = 1./torch.tensor(aryan_class_count, dtype=torch.float) \n",
    "print(aryan_class_weights)"
   ]
  },
  {
   "cell_type": "code",
   "execution_count": null,
   "metadata": {
    "colab": {
     "base_uri": "https://localhost:8080/"
    },
    "executionInfo": {
     "elapsed": 39,
     "status": "ok",
     "timestamp": 1638242420777,
     "user": {
      "displayName": "Brittany Dougall",
      "photoUrl": "https://lh3.googleusercontent.com/a/default-user=s64",
      "userId": "11043208293896572010"
     },
     "user_tz": 480
    },
    "id": "Y9b7q0gJrBOi",
    "outputId": "6a773ff6-73c7-4166-d1ae-fde29ebfc119"
   },
   "outputs": [
    {
     "name": "stdout",
     "output_type": "stream",
     "text": [
      "[3000, 2000]\n",
      "tensor([0.0003, 0.0005])\n"
     ]
    }
   ],
   "source": [
    "# Weight the labels by their frequency in the dataset - this will help our accuracy if there is an imbalance in classes (P vs NP)\n",
    "drav_class_count = [len(drav_train[drav_train.label == 0]),len(drav_train[drav_train.label == 1])]\n",
    "print(drav_class_count)\n",
    "drav_class_weights = 1./torch.tensor(drav_class_count, dtype=torch.float) \n",
    "print(drav_class_weights)"
   ]
  },
  {
   "cell_type": "code",
   "execution_count": null,
   "metadata": {
    "id": "baoGtrVCwDB2"
   },
   "outputs": [],
   "source": [
    "# Create a list of the weighted labels to pass to the dataloader objects\n",
    "aryan_class_weights_all = aryan_class_weights[aryan_target_list]\n",
    "drav_class_weights_all = drav_class_weights[drav_target_list]"
   ]
  },
  {
   "cell_type": "code",
   "execution_count": null,
   "metadata": {
    "id": "Q3N0bGQ2xOTq"
   },
   "outputs": [],
   "source": [
    "# Create the weighted sampler object to pass to the training data loader\n",
    "aryan_weighted_sampler = WeightedRandomSampler(\n",
    "    weights=aryan_class_weights_all,\n",
    "    num_samples=len(aryan_class_weights_all),\n",
    "    replacement=True\n",
    ")\n",
    "drav_weighted_sampler = WeightedRandomSampler(\n",
    "    weights=drav_class_weights_all,\n",
    "    num_samples=len(drav_class_weights_all),\n",
    "    replacement=True\n",
    ")"
   ]
  },
  {
   "cell_type": "code",
   "execution_count": null,
   "metadata": {
    "id": "wW18Wb2xaYqx"
   },
   "outputs": [],
   "source": [
    "# Pass the training data into the training loader \n",
    "aryan_train_loader = DataLoader(aryan_siamese_train, batch_size = 16, sampler=aryan_weighted_sampler)\n",
    "\n",
    "# Create the dev and test data loaders\n",
    "aryan_val_loader = DataLoader(aryan_siamese_dev, batch_size=16)\n",
    "aryan_test_loader = DataLoader(aryan_siamese_test, batch_size=16)"
   ]
  },
  {
   "cell_type": "code",
   "execution_count": null,
   "metadata": {
    "id": "qUGtquLNrwTL"
   },
   "outputs": [],
   "source": [
    "# Pass the training data into the training loader \n",
    "drav_train_loader = DataLoader(drav_siamese_train, batch_size = 16, sampler=drav_weighted_sampler)\n",
    "\n",
    "# Create the dev and test data loaders\n",
    "drav_val_loader = DataLoader(drav_siamese_dev, batch_size=16)\n",
    "drav_test_loader = DataLoader(drav_siamese_test, batch_size=16)"
   ]
  },
  {
   "cell_type": "code",
   "execution_count": null,
   "metadata": {
    "id": "8214ILXnuyoe"
   },
   "outputs": [],
   "source": [
    "class SiameseNet(torch.nn.Module):\n",
    "    def __init__(self):\n",
    "      super(SiameseNet, self).__init__()\n",
    "\n",
    "      # Set up a fully-connected layer to apply to each incoming sentence vector\n",
    "      # Use a dense layer (nn.Linear) to reduce the dimensionality of the input embeddings\n",
    "      # use a relu activation function\n",
    "      self.fc = torch.nn.Sequential(\n",
    "            torch.nn.Linear(768, 128),\n",
    "            torch.nn.LayerNorm(128),\n",
    "            torch.nn.ReLU(inplace=True))\n",
    "      \n",
    "      self.relu = torch.nn.ReLU(inplace=True)\n",
    "      self.batch2 = torch.nn.LayerNorm(384)\n",
    "      self.ffn = torch.nn.Linear(384, 128)\n",
    "      self.batch3 = torch.nn.LayerNorm(128)\n",
    "      self.layer_out = torch.nn.Linear(128,1)\n",
    "\n",
    "      # Add drop out\n",
    "      self.drop = torch.nn.Dropout(0.2)\n",
    "\n",
    "    # left and right represent columns in our data\n",
    "    def forward(self, left, right):\n",
    "\n",
    "      # Get the sentence embeddings \n",
    "      u = left\n",
    "      v = right\n",
    "\n",
    "      # Reduce the dimensionality\n",
    "      u = self.fc(u)\n",
    "      v = self.fc(v)\n",
    "\n",
    "      # Get the absolute value of the element-wise difference of the embedding vectors\n",
    "      uv = torch.sub(u, v)\n",
    "      uv_abs = torch.abs(uv)\n",
    "\n",
    "      # concatenate u, v, and the absolute value of the element-wise difference between the embeddings\n",
    "      x = torch.cat([u, v, uv_abs], dim=-1)\n",
    "\n",
    "      # Normalize the concatenated batch\n",
    "      x = self.batch2(x)\n",
    "\n",
    "      # Use the relu activation function\n",
    "      x = self.relu(x)\n",
    "\n",
    "      # Pass the concatenated layers through a dense layer to reduce the dimensionality\n",
    "      x = self.ffn(x)\n",
    "      # Normalize the concatenated layers\n",
    "      x = self.batch3(x)\n",
    "      # Pass through relu activation\n",
    "      x = self.relu(x)\n",
    "      # Implement drop out to avoid overfitting\n",
    "      x = self.drop(x)\n",
    "      # Pass the output through a final dense layer\n",
    "      output = self.layer_out(x)\n",
    "      # Reshape the output to have the same dimension as the target labels\n",
    "      output = output[:,-1,:]\n",
    "\n",
    "      return output"
   ]
  },
  {
   "cell_type": "code",
   "execution_count": null,
   "metadata": {
    "id": "oxy-JaCjXl_U"
   },
   "outputs": [],
   "source": [
    "# Create instances of the Siamese model network\n",
    "aryan_net = SiameseNet().to(device)\n",
    "drav_net = SiameseNet().to(device)\n",
    "\n",
    "# Set the criteria for evaluation and training - use cross-entropy since we're doing classification and want to retrieve the labels\n",
    "criterion = torch.nn.BCEWithLogitsLoss()\n",
    "\n",
    "# Set the optimizer and pass to it the model parameters and learning rate\n",
    "aryan_optimizer = optim.Adam(aryan_net.parameters(), lr=2e-5)\n",
    "drav_optimizer = optim.Adam(drav_net.parameters(), lr=2e-5)"
   ]
  },
  {
   "cell_type": "code",
   "execution_count": null,
   "metadata": {
    "id": "vfnRRRF0t-ZA"
   },
   "outputs": [],
   "source": [
    "def binary_acc(y_pred, y_test):\n",
    "    y_pred_tag = torch.round(torch.sigmoid(y_pred))\n",
    "\n",
    "    correct_results_sum = (y_pred_tag == y_test).sum().float()\n",
    "    acc = correct_results_sum/y_test.shape[0]\n",
    "    acc = torch.round(acc * 100)\n",
    "    \n",
    "    return acc"
   ]
  },
  {
   "cell_type": "markdown",
   "metadata": {},
   "source": [
    "The validation metrics below correspond to the validation dataset containing duplicates. The training metrics are accurate, however. Validation metrics calculated on the de-duplicated dataset can be found in the Dedup_snn_eval folder."
   ]
  },
  {
   "cell_type": "code",
   "execution_count": null,
   "metadata": {
    "id": "TTz5sETjt_VS"
   },
   "outputs": [],
   "source": [
    "# Create dictionaries to hold the training and validation accuracy and loss metrics at each epoch\n",
    "aryan_epoch_accuracies = {\n",
    "    'train': [],\n",
    "    \"val\": []}\n",
    "\n",
    "aryan_epoch_losses = {\n",
    "    'train': [],\n",
    "    \"val\": []}\n",
    "\n",
    "drav_epoch_accuracies = {\n",
    "    'train': [],\n",
    "    \"val\": []}\n",
    "\n",
    "drav_epoch_losses = {\n",
    "    'train': [],\n",
    "    \"val\": []}"
   ]
  },
  {
   "cell_type": "code",
   "execution_count": null,
   "metadata": {
    "colab": {
     "base_uri": "https://localhost:8080/",
     "height": 49,
     "referenced_widgets": [
      "db8907c1b9ec43a297565746128cfd93",
      "d896605602e046bea4f56afde0607c4e",
      "5d8ce435942444f9a84c86e0a632d04b",
      "d08efec4381c4e2682f25b5a3d2b99d4",
      "e6fc3c1a424a49d181fda2516f43da4b",
      "3fcafd6ff2de447c967ac5f6c1c65405",
      "ad9f6c941b8148c7bc8592698de3b412",
      "10ea998500414610b1ee463a8be5ef1c",
      "fee8e567d6c64f29abc4eee2be659c08",
      "f763610c1eb84fc8a2851f3dd79d038c",
      "0a46fdbf229c4a66ae0fe384caae2d8d"
     ]
    },
    "executionInfo": {
     "elapsed": 765731,
     "status": "ok",
     "timestamp": 1638243186764,
     "user": {
      "displayName": "Brittany Dougall",
      "photoUrl": "https://lh3.googleusercontent.com/a/default-user=s64",
      "userId": "11043208293896572010"
     },
     "user_tz": 480
    },
    "id": "sqWQVP4D6q-F",
    "outputId": "f3dfaaf3-d1d7-49dd-d46a-62dee037e15e"
   },
   "outputs": [
    {
     "data": {
      "application/vnd.jupyter.widget-view+json": {
       "model_id": "db8907c1b9ec43a297565746128cfd93",
       "version_major": 2,
       "version_minor": 0
      },
      "text/plain": [
       "  0%|          | 0/10 [00:00<?, ?it/s]"
      ]
     },
     "metadata": {},
     "output_type": "display_data"
    }
   ],
   "source": [
    "EPOCHS = 10\n",
    "\n",
    "for e in tqdm(range(1, EPOCHS+1)):\n",
    "    \n",
    "    # Initialize the training epoch and accuracy loss as 0\n",
    "    train_epoch_loss = 0\n",
    "    train_epoch_acc = 0\n",
    "\n",
    "    # Place the Siamese network into training mode\n",
    "    aryan_net.train()\n",
    "    \n",
    "    # Loop over records in the training data loader\n",
    "    for i, data in enumerate(aryan_train_loader, 0):\n",
    "      sent1, sent2, task, label = data\n",
    "      label = label.type(torch.FloatTensor).reshape((label.shape[0], 1))\n",
    "      # Send the training data to GPU\n",
    "      sent1, sent2, label = sent1.to(device), sent2.to(device), label.to(device)\n",
    "      # Zero the gradient\n",
    "      aryan_optimizer.zero_grad()\n",
    "      # Get the predicted softmaxes\n",
    "      train_pred = aryan_net(sent1, sent2)\n",
    "      # Get the predicted labels\n",
    "      train_loss = criterion(train_pred, label)\n",
    "      # Find the training rate accuracy\n",
    "      train_acc = binary_acc(train_pred, label)\n",
    "      \n",
    "      train_loss.backward()\n",
    "      aryan_optimizer.step()\n",
    "\n",
    "      # Update the loss and accuracy for the current epoch  \n",
    "      train_epoch_loss += train_loss.item()\n",
    "      train_epoch_acc += train_acc.item()   \n",
    "        \n",
    "    # Enter validation phase   \n",
    "    with torch.no_grad():\n",
    "        \n",
    "        # Initialize the validation loss and accuracy rates as 0\n",
    "        val_epoch_loss = 0\n",
    "        val_epoch_acc = 0\n",
    "        \n",
    "        # Place the model into evaluation mode\n",
    "        aryan_net.eval()\n",
    "\n",
    "        # Loop over records in the validation dataloader\n",
    "        for i, data in enumerate(aryan_val_loader, 0):\n",
    "          sent1_val, sent2_val, task_val, label_val = data\n",
    "          label_val = label_val.type(torch.FloatTensor).reshape((label_val.shape[0], 1))\n",
    "\n",
    "          # Send the validation data to GPU\n",
    "          sent1_val, sent2_val, label_val = sent1_val.to(device), sent2_val.to(device), label_val.to(device)\n",
    "\n",
    "          # Get the validation predictions          \n",
    "          val_pred = aryan_net(sent1_val, sent2_val)\n",
    "          # Find the validation loss and accuracy\n",
    "          val_loss = criterion(val_pred, label_val)\n",
    "          val_acc = binary_acc(val_pred, label_val)\n",
    "          \n",
    "          # Update the validation loss and accuracy rates\n",
    "          val_epoch_loss += val_loss.item()\n",
    "          val_epoch_acc += val_acc.item()\n",
    "    \n",
    "    # Store the epoch's training and validaion accuracies and losses\n",
    "    aryan_epoch_losses['train'].append(train_epoch_loss/len(aryan_train_loader))\n",
    "    aryan_epoch_losses['val'].append(val_epoch_loss/len(aryan_val_loader))\n",
    "    aryan_epoch_accuracies['train'].append(train_epoch_acc/len(aryan_train_loader))\n",
    "    aryan_epoch_accuracies['val'].append(val_epoch_acc/len(aryan_val_loader))"
   ]
  },
  {
   "cell_type": "code",
   "execution_count": null,
   "metadata": {
    "colab": {
     "base_uri": "https://localhost:8080/"
    },
    "executionInfo": {
     "elapsed": 39,
     "status": "ok",
     "timestamp": 1638243186767,
     "user": {
      "displayName": "Brittany Dougall",
      "photoUrl": "https://lh3.googleusercontent.com/a/default-user=s64",
      "userId": "11043208293896572010"
     },
     "user_tz": 480
    },
    "id": "k2didIml_JdY",
    "outputId": "2f83a09e-0a7a-44c6-9b2a-55dc82e01b81"
   },
   "outputs": [
    {
     "data": {
      "text/plain": [
       "{'train': [62.950570342205324,\n",
       "  79.30798479087453,\n",
       "  85.68441064638783,\n",
       "  89.05703422053232,\n",
       "  91.39923954372624,\n",
       "  92.24334600760456,\n",
       "  94.69961977186311,\n",
       "  95.04562737642586,\n",
       "  95.93916349809886,\n",
       "  96.77566539923954],\n",
       " 'val': [71.86363636363636,\n",
       "  87.6590909090909,\n",
       "  88.0,\n",
       "  88.29545454545455,\n",
       "  88.02272727272727,\n",
       "  89.43181818181819,\n",
       "  89.02272727272727,\n",
       "  90.18181818181819,\n",
       "  91.4090909090909,\n",
       "  91.29545454545455]}"
      ]
     },
     "execution_count": 26,
     "metadata": {},
     "output_type": "execute_result"
    }
   ],
   "source": [
    "aryan_epoch_accuracies"
   ]
  },
  {
   "cell_type": "code",
   "execution_count": null,
   "metadata": {
    "colab": {
     "base_uri": "https://localhost:8080/"
    },
    "executionInfo": {
     "elapsed": 27,
     "status": "ok",
     "timestamp": 1638243186769,
     "user": {
      "displayName": "Brittany Dougall",
      "photoUrl": "https://lh3.googleusercontent.com/a/default-user=s64",
      "userId": "11043208293896572010"
     },
     "user_tz": 480
    },
    "id": "0TK-1eO__QVh",
    "outputId": "d412b105-196b-4572-a4cf-019f34d4f27d"
   },
   "outputs": [
    {
     "data": {
      "text/plain": [
       "{'train': [0.6433095445877699,\n",
       "  0.5293362044336225,\n",
       "  0.4415260088761043,\n",
       "  0.37706001233238684,\n",
       "  0.32430181077224673,\n",
       "  0.29279087353568567,\n",
       "  0.24294572028936995,\n",
       "  0.22094281609860664,\n",
       "  0.19424626783613017,\n",
       "  0.16951897663875223],\n",
       " 'val': [0.5784422477537935,\n",
       "  0.45950829915025015,\n",
       "  0.39524955370209436,\n",
       "  0.35900111733512446,\n",
       "  0.3363849696787921,\n",
       "  0.3003674005581574,\n",
       "  0.295997218652205,\n",
       "  0.27051715535873716,\n",
       "  0.25894876721907745,\n",
       "  0.2448067023334178]}"
      ]
     },
     "execution_count": 27,
     "metadata": {},
     "output_type": "execute_result"
    }
   ],
   "source": [
    "aryan_epoch_losses"
   ]
  },
  {
   "cell_type": "code",
   "execution_count": null,
   "metadata": {
    "colab": {
     "base_uri": "https://localhost:8080/",
     "height": 49,
     "referenced_widgets": [
      "64c2a96d87fe4493a3e5364b633905ae",
      "604445fdd76a4133bef505f1b376bc42",
      "59549e666a3a44c3b3bf5cc21f7cea28",
      "bd50b6e8d224415ab25d526ef1e3f082",
      "fac46708f277430caf007738bc154877",
      "9b058bfe6935462386cce9daf2f98494",
      "f7c8d1d879bb4dc2897078c28ef042d4",
      "bfd6cc4748204e3e9676a5cde48c31cc",
      "ea3f750428ae40179300675f81aaef83",
      "e5b6c06c97f34f78b72167dbc6850512",
      "8eea7c0729a14047ab4d2396f277f5b0"
     ]
    },
    "executionInfo": {
     "elapsed": 948058,
     "status": "ok",
     "timestamp": 1638244134807,
     "user": {
      "displayName": "Brittany Dougall",
      "photoUrl": "https://lh3.googleusercontent.com/a/default-user=s64",
      "userId": "11043208293896572010"
     },
     "user_tz": 480
    },
    "id": "td9a-MoUs42L",
    "outputId": "1095f952-b507-4a13-cffd-0188154592af"
   },
   "outputs": [
    {
     "data": {
      "application/vnd.jupyter.widget-view+json": {
       "model_id": "64c2a96d87fe4493a3e5364b633905ae",
       "version_major": 2,
       "version_minor": 0
      },
      "text/plain": [
       "  0%|          | 0/10 [00:00<?, ?it/s]"
      ]
     },
     "metadata": {},
     "output_type": "display_data"
    }
   ],
   "source": [
    "EPOCHS = 10\n",
    "\n",
    "for e in tqdm(range(1, EPOCHS+1)):\n",
    "    \n",
    "    # Initialize the training epoch and accuracy loss as 0\n",
    "    train_epoch_loss = 0\n",
    "    train_epoch_acc = 0\n",
    "\n",
    "    # Place the Siamese network into training mode\n",
    "    drav_net.train()\n",
    "    \n",
    "    # Loop over records in the training data loader\n",
    "    for i, data in enumerate(drav_train_loader, 0):\n",
    "      sent1, sent2, task, label = data\n",
    "      label = label.type(torch.FloatTensor).reshape((label.shape[0], 1))\n",
    "      # Send the training data to GPU\n",
    "      sent1, sent2, label = sent1.to(device), sent2.to(device), label.to(device)\n",
    "      # Zero the gradient\n",
    "      drav_optimizer.zero_grad()\n",
    "      # Get the predicted softmaxes\n",
    "      train_pred = drav_net(sent1, sent2)\n",
    "      # Get the predicted labels\n",
    "      train_loss = criterion(train_pred, label)\n",
    "      # Find the training rate accuracy\n",
    "      train_acc = binary_acc(train_pred, label)\n",
    "      \n",
    "      train_loss.backward()\n",
    "      drav_optimizer.step()\n",
    "\n",
    "      # Update the loss and accuracy for the current epoch  \n",
    "      train_epoch_loss += train_loss.item()\n",
    "      train_epoch_acc += train_acc.item()   \n",
    "        \n",
    "    # Enter validation phase   \n",
    "    with torch.no_grad():\n",
    "        \n",
    "        # Initialize the validation loss and accuracy rates as 0\n",
    "        val_epoch_loss = 0\n",
    "        val_epoch_acc = 0\n",
    "        \n",
    "        # Place the model into evaluation mode\n",
    "        drav_net.eval()\n",
    "\n",
    "        # Loop over records in the validation dataloader\n",
    "        for i, data in enumerate(drav_val_loader, 0):\n",
    "          sent1_val, sent2_val, task_val, label_val = data\n",
    "          label_val = label_val.type(torch.FloatTensor).reshape((label_val.shape[0], 1))\n",
    "\n",
    "          # Send the validation data to GPU\n",
    "          sent1_val, sent2_val, label_val = sent1_val.to(device), sent2_val.to(device), label_val.to(device)\n",
    "\n",
    "          # Get the validation predictions          \n",
    "          val_pred = drav_net(sent1_val, sent2_val)\n",
    "          # Find the validation loss and accuracy\n",
    "          val_loss = criterion(val_pred, label_val)\n",
    "          val_acc = binary_acc(val_pred, label_val)\n",
    "          \n",
    "          # Update the validation loss and accuracy rates\n",
    "          val_epoch_loss += val_loss.item()\n",
    "          val_epoch_acc += val_acc.item()\n",
    "    \n",
    "    # Store the epoch's training and validaion accuracies and losses\n",
    "    drav_epoch_losses['train'].append(train_epoch_loss/len(drav_train_loader))\n",
    "    drav_epoch_losses['val'].append(val_epoch_loss/len(drav_val_loader))\n",
    "    drav_epoch_accuracies['train'].append(train_epoch_acc/len(drav_train_loader))\n",
    "    drav_epoch_accuracies['val'].append(val_epoch_acc/len(drav_val_loader))"
   ]
  },
  {
   "cell_type": "code",
   "execution_count": null,
   "metadata": {
    "colab": {
     "base_uri": "https://localhost:8080/"
    },
    "executionInfo": {
     "elapsed": 69,
     "status": "ok",
     "timestamp": 1638244134809,
     "user": {
      "displayName": "Brittany Dougall",
      "photoUrl": "https://lh3.googleusercontent.com/a/default-user=s64",
      "userId": "11043208293896572010"
     },
     "user_tz": 480
    },
    "id": "9JqYM9mb_gUT",
    "outputId": "cee9f19b-7bd2-447c-9b56-6127ecffcdad"
   },
   "outputs": [
    {
     "data": {
      "text/plain": [
       "{'train': [58.42811501597444,\n",
       "  69.3929712460064,\n",
       "  74.33546325878594,\n",
       "  77.80830670926518,\n",
       "  79.73162939297124,\n",
       "  80.63258785942492,\n",
       "  83.99680511182109,\n",
       "  84.64856230031948,\n",
       "  86.21086261980831,\n",
       "  87.21405750798722],\n",
       " 'val': [56.526315789473685,\n",
       "  61.175438596491226,\n",
       "  65.14035087719299,\n",
       "  65.87719298245614,\n",
       "  66.94736842105263,\n",
       "  68.08771929824562,\n",
       "  68.12280701754386,\n",
       "  68.9298245614035,\n",
       "  70.6140350877193,\n",
       "  69.85964912280701]}"
      ]
     },
     "execution_count": 29,
     "metadata": {},
     "output_type": "execute_result"
    }
   ],
   "source": [
    "drav_epoch_accuracies"
   ]
  },
  {
   "cell_type": "code",
   "execution_count": null,
   "metadata": {
    "colab": {
     "base_uri": "https://localhost:8080/"
    },
    "executionInfo": {
     "elapsed": 61,
     "status": "ok",
     "timestamp": 1638244134811,
     "user": {
      "displayName": "Brittany Dougall",
      "photoUrl": "https://lh3.googleusercontent.com/a/default-user=s64",
      "userId": "11043208293896572010"
     },
     "user_tz": 480
    },
    "id": "S1jUDl20_iW_",
    "outputId": "9eddaca2-2ab7-4809-c146-0974fc65f560"
   },
   "outputs": [
    {
     "data": {
      "text/plain": [
       "{'train': [0.6719470035534697,\n",
       "  0.6000269598092515,\n",
       "  0.5500634842977737,\n",
       "  0.5073217162118552,\n",
       "  0.4712253883242988,\n",
       "  0.45260888028639956,\n",
       "  0.4129230477177678,\n",
       "  0.38841473580168456,\n",
       "  0.366302061480836,\n",
       "  0.3466270862581631],\n",
       " 'val': [0.6858585152709693,\n",
       "  0.6624945428287774,\n",
       "  0.6335699234092445,\n",
       "  0.621336999692415,\n",
       "  0.6268659918977503,\n",
       "  0.6112678610441977,\n",
       "  0.6287369848343364,\n",
       "  0.6151068011919657,\n",
       "  0.6064127024851347,\n",
       "  0.6169061796707019]}"
      ]
     },
     "execution_count": 30,
     "metadata": {},
     "output_type": "execute_result"
    }
   ],
   "source": [
    "drav_epoch_losses"
   ]
  },
  {
   "cell_type": "code",
   "execution_count": null,
   "metadata": {
    "colab": {
     "base_uri": "https://localhost:8080/"
    },
    "executionInfo": {
     "elapsed": 54,
     "status": "ok",
     "timestamp": 1638244134813,
     "user": {
      "displayName": "Brittany Dougall",
      "photoUrl": "https://lh3.googleusercontent.com/a/default-user=s64",
      "userId": "11043208293896572010"
     },
     "user_tz": 480
    },
    "id": "z6c0E9X4PstU",
    "outputId": "ed3ded00-b140-4cc1-ba98-8aa5ccd994f9"
   },
   "outputs": [
    {
     "name": "stdout",
     "output_type": "stream",
     "text": [
      "96.77566539923954\n",
      "91.4090909090909\n",
      "87.21405750798722\n",
      "70.6140350877193\n"
     ]
    }
   ],
   "source": [
    "print(max(aryan_epoch_accuracies.get('train')))\n",
    "print(max(aryan_epoch_accuracies.get('val')))\n",
    "\n",
    "print(max(drav_epoch_accuracies.get('train')))\n",
    "print(max(drav_epoch_accuracies.get('val')))"
   ]
  },
  {
   "cell_type": "code",
   "execution_count": null,
   "metadata": {
    "colab": {
     "base_uri": "https://localhost:8080/"
    },
    "executionInfo": {
     "elapsed": 49,
     "status": "ok",
     "timestamp": 1638244134815,
     "user": {
      "displayName": "Brittany Dougall",
      "photoUrl": "https://lh3.googleusercontent.com/a/default-user=s64",
      "userId": "11043208293896572010"
     },
     "user_tz": 480
    },
    "id": "UAjzkvu7e8H-",
    "outputId": "035fc757-2343-496e-e49f-c27cf2c9b299"
   },
   "outputs": [
    {
     "name": "stdout",
     "output_type": "stream",
     "text": [
      "62.950570342205324\n",
      "71.86363636363636\n",
      "58.42811501597444\n",
      "56.526315789473685\n"
     ]
    }
   ],
   "source": [
    "print(min(aryan_epoch_accuracies.get('train')))\n",
    "print(min(aryan_epoch_accuracies.get('val')))\n",
    "\n",
    "print(min(drav_epoch_accuracies.get('train')))\n",
    "print(min(drav_epoch_accuracies.get('val')))"
   ]
  },
  {
   "cell_type": "code",
   "execution_count": null,
   "metadata": {
    "colab": {
     "base_uri": "https://localhost:8080/"
    },
    "executionInfo": {
     "elapsed": 41,
     "status": "ok",
     "timestamp": 1638244134816,
     "user": {
      "displayName": "Brittany Dougall",
      "photoUrl": "https://lh3.googleusercontent.com/a/default-user=s64",
      "userId": "11043208293896572010"
     },
     "user_tz": 480
    },
    "id": "s-ScqobDQb9u",
    "outputId": "7b57617c-9bfc-44f7-f074-8013e3744d97"
   },
   "outputs": [
    {
     "name": "stdout",
     "output_type": "stream",
     "text": [
      "0.16951897663875223\n",
      "0.6433095445877699\n",
      "0.3466270862581631\n",
      "0.6719470035534697\n"
     ]
    }
   ],
   "source": [
    "print(min(aryan_epoch_losses.get('train')))\n",
    "print(max(aryan_epoch_losses.get('train')))\n",
    "\n",
    "print(min(drav_epoch_losses.get('train')))\n",
    "print(max(drav_epoch_losses.get('train')))"
   ]
  },
  {
   "cell_type": "code",
   "execution_count": null,
   "metadata": {
    "colab": {
     "base_uri": "https://localhost:8080/"
    },
    "executionInfo": {
     "elapsed": 35,
     "status": "ok",
     "timestamp": 1638244134817,
     "user": {
      "displayName": "Brittany Dougall",
      "photoUrl": "https://lh3.googleusercontent.com/a/default-user=s64",
      "userId": "11043208293896572010"
     },
     "user_tz": 480
    },
    "id": "NbqTDh4yQsAw",
    "outputId": "845c7f78-41d8-46aa-cc2b-daa92d946719"
   },
   "outputs": [
    {
     "name": "stdout",
     "output_type": "stream",
     "text": [
      "0.2448067023334178\n",
      "0.5784422477537935\n",
      "0.6064127024851347\n",
      "0.6858585152709693\n"
     ]
    }
   ],
   "source": [
    "print(min(aryan_epoch_losses.get('val')))\n",
    "print(max(aryan_epoch_losses.get('val')))\n",
    "\n",
    "print(min(drav_epoch_losses.get('val')))\n",
    "print(max(drav_epoch_losses.get('val')))"
   ]
  },
  {
   "cell_type": "code",
   "execution_count": null,
   "metadata": {
    "colab": {
     "base_uri": "https://localhost:8080/",
     "height": 475
    },
    "executionInfo": {
     "elapsed": 849,
     "status": "ok",
     "timestamp": 1638244135639,
     "user": {
      "displayName": "Brittany Dougall",
      "photoUrl": "https://lh3.googleusercontent.com/a/default-user=s64",
      "userId": "11043208293896572010"
     },
     "user_tz": 480
    },
    "id": "FhnByeEQ67Xo",
    "outputId": "5b7bf05e-db02-464d-db73-a02a88c6d7c8"
   },
   "outputs": [
    {
     "data": {
      "text/plain": [
       "Text(0.5, 1.0, 'Train-Val Loss/Epoch')"
      ]
     },
     "execution_count": 35,
     "metadata": {},
     "output_type": "execute_result"
    },
    {
     "data": {
      "image/png": "[encoded data removed]",
      "text/plain": [
       "<Figure size 1440x504 with 2 Axes>"
      ]
     },
     "metadata": {
      "needs_background": "light"
     },
     "output_type": "display_data"
    }
   ],
   "source": [
    "# Create dataframes from the average training accuracy and loss \n",
    "train_val_acc_df = pd.DataFrame.from_dict(aryan_epoch_accuracies).reset_index().melt(id_vars=['index']).rename(columns={\"index\":\"epochs\"})\n",
    "train_val_loss_df = pd.DataFrame.from_dict(aryan_epoch_losses).reset_index().melt(id_vars=['index']).rename(columns={\"index\":\"epochs\"})\n",
    "fig, axes = plt.subplots(nrows=1, ncols=2, figsize=(20,7))\n",
    "sns.lineplot(data=train_val_acc_df, x = \"epochs\", y=\"value\", hue=\"variable\",  ax=axes[0]).set_title('Train-Val Accuracy/Epoch')\n",
    "sns.lineplot(data=train_val_loss_df, x = \"epochs\", y=\"value\", hue=\"variable\", ax=axes[1]).set_title('Train-Val Loss/Epoch')"
   ]
  },
  {
   "cell_type": "code",
   "execution_count": null,
   "metadata": {
    "colab": {
     "base_uri": "https://localhost:8080/",
     "height": 475
    },
    "executionInfo": {
     "elapsed": 483,
     "status": "ok",
     "timestamp": 1638244136106,
     "user": {
      "displayName": "Brittany Dougall",
      "photoUrl": "https://lh3.googleusercontent.com/a/default-user=s64",
      "userId": "11043208293896572010"
     },
     "user_tz": 480
    },
    "id": "LoJPuGijuSIU",
    "outputId": "30e933f4-2c46-4834-8eda-75ccede978d1"
   },
   "outputs": [
    {
     "data": {
      "text/plain": [
       "Text(0.5, 1.0, 'Train-Val Loss/Epoch')"
      ]
     },
     "execution_count": 36,
     "metadata": {},
     "output_type": "execute_result"
    },
    {
     "data": {
      "image/png": "[encoded data removed]",
      "text/plain": [
       "<Figure size 1440x504 with 2 Axes>"
      ]
     },
     "metadata": {
      "needs_background": "light"
     },
     "output_type": "display_data"
    }
   ],
   "source": [
    "# Create dataframes from the average training accuracy and loss \n",
    "train_val_acc_df = pd.DataFrame.from_dict(drav_epoch_accuracies).reset_index().melt(id_vars=['index']).rename(columns={\"index\":\"epochs\"})\n",
    "train_val_loss_df = pd.DataFrame.from_dict(drav_epoch_losses).reset_index().melt(id_vars=['index']).rename(columns={\"index\":\"epochs\"})\n",
    "fig, axes = plt.subplots(nrows=1, ncols=2, figsize=(20,7))\n",
    "sns.lineplot(data=train_val_acc_df, x = \"epochs\", y=\"value\", hue=\"variable\",  ax=axes[0]).set_title('Train-Val Accuracy/Epoch')\n",
    "sns.lineplot(data=train_val_loss_df, x = \"epochs\", y=\"value\", hue=\"variable\", ax=axes[1]).set_title('Train-Val Loss/Epoch')"
   ]
  },
  {
   "cell_type": "code",
   "execution_count": null,
   "metadata": {
    "colab": {
     "base_uri": "https://localhost:8080/"
    },
    "executionInfo": {
     "elapsed": 1821,
     "status": "ok",
     "timestamp": 1638244165226,
     "user": {
      "displayName": "Brittany Dougall",
      "photoUrl": "https://lh3.googleusercontent.com/a/default-user=s64",
      "userId": "11043208293896572010"
     },
     "user_tz": 480
    },
    "id": "rVCnRndIg4UT",
    "outputId": "80a5d7c2-b4bf-48c7-b6c0-94a0b60cb63c"
   },
   "outputs": [
    {
     "name": "stdout",
     "output_type": "stream",
     "text": [
      "Model Saved\n"
     ]
    }
   ],
   "source": [
    "# Save the weights and biases\n",
    "torch.save(aryan_net.state_dict(), \"/content/drive/My Drive/W266_Project_Data/models/siamese_model/aryan_model_layernorm.pt\")\n",
    "torch.save(drav_net.state_dict(), \"/content/drive/My Drive/W266_Project_Data/models/siamese_model/drav_model_layernorm.pt\")\n",
    "\n",
    "print(\"Model Saved\")"
   ]
  }
 ],
 "metadata": {
  "accelerator": "GPU",
  "colab": {
   "authorship_tag": "ABX9TyOascyx8jqGjc8zsJEsn654",
   "collapsed_sections": [],
   "machine_shape": "hm",
   "name": "layernorm_3dense_w_Pb_sep_models.ipynb",
   "provenance": [
    {
     "file_id": "1ctDhs6HzgfoSIGYi_kBolkuARo1CzgFV",
     "timestamp": 1637215021078
    },
    {
     "file_id": "1r7lOgKgdI5XkoY62i5hmbFjd-l-65sPf",
     "timestamp": 1637209535370
    },
    {
     "file_id": "12EE9k6pdv-8QymJ3AhDja_CKI_7eRhBZ",
     "timestamp": 1637205931056
    },
    {
     "file_id": "1VJU-zl-m3Xw122B9oFbB_w56Qh04t3XW",
     "timestamp": 1637201972580
    },
    {
     "file_id": "1df6gwOWShC1Agt9MtoAtCZiXZNvGhsKh",
     "timestamp": 1636991703443
    },
    {
     "file_id": "12oZKvYzJ6Hn_hIRNiwn4PnXiEQC9q5PT",
     "timestamp": 1636770914560
    },
    {
     "file_id": "1zEj1LInGn_RANc32b8B6c334p4u3qdTM",
     "timestamp": 1636756518350
    },
    {
     "file_id": "1Na8swQ6ratqqQ00g_tPP19QVsqycOxOT",
     "timestamp": 1636737840081
    }
   ]
  },
  "kernelspec": {
   "display_name": "Python 3",
   "language": "python",
   "name": "python3"
  },
  "language_info": {
   "codemirror_mode": {
    "name": "ipython",
    "version": 3
   },
   "file_extension": ".py",
   "mimetype": "text/x-python",
   "name": "python",
   "nbconvert_exporter": "python",
   "pygments_lexer": "ipython3",
   "version": "3.7.3"
  },
  "widgets": {
   "application/vnd.jupyter.widget-state+json": {
    "0982d9b532bd4e83a7f211c8a868e661": {
     "model_module": "@jupyter-widgets/controls",
     "model_module_version": "1.5.0",
     "model_name": "DescriptionStyleModel",
     "state": {
      "_model_module": "@jupyter-widgets/controls",
      "_model_module_version": "1.5.0",
      "_model_name": "DescriptionStyleModel",
      "_view_count": null,
      "_view_module": "@jupyter-widgets/base",
      "_view_module_version": "1.2.0",
      "_view_name": "StyleView",
      "description_width": ""
     }
    },
    "0a46fdbf229c4a66ae0fe384caae2d8d": {
     "model_module": "@jupyter-widgets/base",
     "model_module_version": "1.2.0",
     "model_name": "LayoutModel",
     "state": {
      "_model_module": "@jupyter-widgets/base",
      "_model_module_version": "1.2.0",
      "_model_name": "LayoutModel",
      "_view_count": null,
      "_view_module": "@jupyter-widgets/base",
      "_view_module_version": "1.2.0",
      "_view_name": "LayoutView",
      "align_content": null,
      "align_items": null,
      "align_self": null,
      "border": null,
      "bottom": null,
      "display": null,
      "flex": null,
      "flex_flow": null,
      "grid_area": null,
      "grid_auto_columns": null,
      "grid_auto_flow": null,
      "grid_auto_rows": null,
      "grid_column": null,
      "grid_gap": null,
      "grid_row": null,
      "grid_template_areas": null,
      "grid_template_columns": null,
      "grid_template_rows": null,
      "height": null,
      "justify_content": null,
      "justify_items": null,
      "left": null,
      "margin": null,
      "max_height": null,
      "max_width": null,
      "min_height": null,
      "min_width": null,
      "object_fit": null,
      "object_position": null,
      "order": null,
      "overflow": null,
      "overflow_x": null,
      "overflow_y": null,
      "padding": null,
      "right": null,
      "top": null,
      "visibility": null,
      "width": null
     }
    },
    "10ea998500414610b1ee463a8be5ef1c": {
     "model_module": "@jupyter-widgets/controls",
     "model_module_version": "1.5.0",
     "model_name": "ProgressStyleModel",
     "state": {
      "_model_module": "@jupyter-widgets/controls",
      "_model_module_version": "1.5.0",
      "_model_name": "ProgressStyleModel",
      "_view_count": null,
      "_view_module": "@jupyter-widgets/base",
      "_view_module_version": "1.2.0",
      "_view_name": "StyleView",
      "bar_color": null,
      "description_width": ""
     }
    },
    "14ba5c23f6b344d1adcd0506ca6c1f57": {
     "model_module": "@jupyter-widgets/controls",
     "model_module_version": "1.5.0",
     "model_name": "FloatProgressModel",
     "state": {
      "_dom_classes": [],
      "_model_module": "@jupyter-widgets/controls",
      "_model_module_version": "1.5.0",
      "_model_name": "FloatProgressModel",
      "_view_count": null,
      "_view_module": "@jupyter-widgets/controls",
      "_view_module_version": "1.5.0",
      "_view_name": "ProgressView",
      "bar_style": "success",
      "description": "",
      "description_tooltip": null,
      "layout": "IPY_MODEL_64bcc4e2a3564de5a6121640a16c3f12",
      "max": 5646064,
      "min": 0,
      "orientation": "horizontal",
      "style": "IPY_MODEL_8efd6bda2878496ea66184e3b6c94875",
      "value": 5646064
     }
    },
    "1587e612b6c84833878bcdbc784b0649": {
     "model_module": "@jupyter-widgets/controls",
     "model_module_version": "1.5.0",
     "model_name": "FloatProgressModel",
     "state": {
      "_dom_classes": [],
      "_model_module": "@jupyter-widgets/controls",
      "_model_module_version": "1.5.0",
      "_model_name": "FloatProgressModel",
      "_view_count": null,
      "_view_module": "@jupyter-widgets/controls",
      "_view_module_version": "1.5.0",
      "_view_name": "ProgressView",
      "bar_style": "success",
      "description": "",
      "description_tooltip": null,
      "layout": "IPY_MODEL_ff1cad137b3d4954a704160790c8ff78",
      "max": 507,
      "min": 0,
      "orientation": "horizontal",
      "style": "IPY_MODEL_8d4d9c3bb10e4e9a8817d893179442d7",
      "value": 507
     }
    },
    "1a2c1e61ac9e42e0bc9c0c5e0c73a9ac": {
     "model_module": "@jupyter-widgets/controls",
     "model_module_version": "1.5.0",
     "model_name": "DescriptionStyleModel",
     "state": {
      "_model_module": "@jupyter-widgets/controls",
      "_model_module_version": "1.5.0",
      "_model_name": "DescriptionStyleModel",
      "_view_count": null,
      "_view_module": "@jupyter-widgets/base",
      "_view_module_version": "1.2.0",
      "_view_name": "StyleView",
      "description_width": ""
     }
    },
    "1d5b62b51b9344f29f36e9ad1009d6d9": {
     "model_module": "@jupyter-widgets/base",
     "model_module_version": "1.2.0",
     "model_name": "LayoutModel",
     "state": {
      "_model_module": "@jupyter-widgets/base",
      "_model_module_version": "1.2.0",
      "_model_name": "LayoutModel",
      "_view_count": null,
      "_view_module": "@jupyter-widgets/base",
      "_view_module_version": "1.2.0",
      "_view_name": "LayoutView",
      "align_content": null,
      "align_items": null,
      "align_self": null,
      "border": null,
      "bottom": null,
      "display": null,
      "flex": null,
      "flex_flow": null,
      "grid_area": null,
      "grid_auto_columns": null,
      "grid_auto_flow": null,
      "grid_auto_rows": null,
      "grid_column": null,
      "grid_gap": null,
      "grid_row": null,
      "grid_template_areas": null,
      "grid_template_columns": null,
      "grid_template_rows": null,
      "height": null,
      "justify_content": null,
      "justify_items": null,
      "left": null,
      "margin": null,
      "max_height": null,
      "max_width": null,
      "min_height": null,
      "min_width": null,
      "object_fit": null,
      "object_position": null,
      "order": null,
      "overflow": null,
      "overflow_x": null,
      "overflow_y": null,
      "padding": null,
      "right": null,
      "top": null,
      "visibility": null,
      "width": null
     }
    },
    "20735183044b4066809094dda1569426": {
     "model_module": "@jupyter-widgets/base",
     "model_module_version": "1.2.0",
     "model_name": "LayoutModel",
     "state": {
      "_model_module": "@jupyter-widgets/base",
      "_model_module_version": "1.2.0",
      "_model_name": "LayoutModel",
      "_view_count": null,
      "_view_module": "@jupyter-widgets/base",
      "_view_module_version": "1.2.0",
      "_view_name": "LayoutView",
      "align_content": null,
      "align_items": null,
      "align_self": null,
      "border": null,
      "bottom": null,
      "display": null,
      "flex": null,
      "flex_flow": null,
      "grid_area": null,
      "grid_auto_columns": null,
      "grid_auto_flow": null,
      "grid_auto_rows": null,
      "grid_column": null,
      "grid_gap": null,
      "grid_row": null,
      "grid_template_areas": null,
      "grid_template_columns": null,
      "grid_template_rows": null,
      "height": null,
      "justify_content": null,
      "justify_items": null,
      "left": null,
      "margin": null,
      "max_height": null,
      "max_width": null,
      "min_height": null,
      "min_width": null,
      "object_fit": null,
      "object_position": null,
      "order": null,
      "overflow": null,
      "overflow_x": null,
      "overflow_y": null,
      "padding": null,
      "right": null,
      "top": null,
      "visibility": null,
      "width": null
     }
    },
    "2f9e23b1cbd746749a68e518d9e42699": {
     "model_module": "@jupyter-widgets/controls",
     "model_module_version": "1.5.0",
     "model_name": "HTMLModel",
     "state": {
      "_dom_classes": [],
      "_model_module": "@jupyter-widgets/controls",
      "_model_module_version": "1.5.0",
      "_model_name": "HTMLModel",
      "_view_count": null,
      "_view_module": "@jupyter-widgets/controls",
      "_view_module_version": "1.5.0",
      "_view_name": "HTMLView",
      "description": "",
      "description_tooltip": null,
      "layout": "IPY_MODEL_20735183044b4066809094dda1569426",
      "placeholder": "​",
      "style": "IPY_MODEL_1a2c1e61ac9e42e0bc9c0c5e0c73a9ac",
      "value": "Downloading: 100%"
     }
    },
    "36d0215377bc45e99629d64edd27e8ae": {
     "model_module": "@jupyter-widgets/base",
     "model_module_version": "1.2.0",
     "model_name": "LayoutModel",
     "state": {
      "_model_module": "@jupyter-widgets/base",
      "_model_module_version": "1.2.0",
      "_model_name": "LayoutModel",
      "_view_count": null,
      "_view_module": "@jupyter-widgets/base",
      "_view_module_version": "1.2.0",
      "_view_name": "LayoutView",
      "align_content": null,
      "align_items": null,
      "align_self": null,
      "border": null,
      "bottom": null,
      "display": null,
      "flex": null,
      "flex_flow": null,
      "grid_area": null,
      "grid_auto_columns": null,
      "grid_auto_flow": null,
      "grid_auto_rows": null,
      "grid_column": null,
      "grid_gap": null,
      "grid_row": null,
      "grid_template_areas": null,
      "grid_template_columns": null,
      "grid_template_rows": null,
      "height": null,
      "justify_content": null,
      "justify_items": null,
      "left": null,
      "margin": null,
      "max_height": null,
      "max_width": null,
      "min_height": null,
      "min_width": null,
      "object_fit": null,
      "object_position": null,
      "order": null,
      "overflow": null,
      "overflow_x": null,
      "overflow_y": null,
      "padding": null,
      "right": null,
      "top": null,
      "visibility": null,
      "width": null
     }
    },
    "372b8e47ae16470bba1852e632cfc5a8": {
     "model_module": "@jupyter-widgets/controls",
     "model_module_version": "1.5.0",
     "model_name": "DescriptionStyleModel",
     "state": {
      "_model_module": "@jupyter-widgets/controls",
      "_model_module_version": "1.5.0",
      "_model_name": "DescriptionStyleModel",
      "_view_count": null,
      "_view_module": "@jupyter-widgets/base",
      "_view_module_version": "1.2.0",
      "_view_name": "StyleView",
      "description_width": ""
     }
    },
    "3a486966f0ab4e6290cc5a89699ccf8d": {
     "model_module": "@jupyter-widgets/controls",
     "model_module_version": "1.5.0",
     "model_name": "DescriptionStyleModel",
     "state": {
      "_model_module": "@jupyter-widgets/controls",
      "_model_module_version": "1.5.0",
      "_model_name": "DescriptionStyleModel",
      "_view_count": null,
      "_view_module": "@jupyter-widgets/base",
      "_view_module_version": "1.2.0",
      "_view_name": "StyleView",
      "description_width": ""
     }
    },
    "3f36796088d041508095c71fbc0a7739": {
     "model_module": "@jupyter-widgets/controls",
     "model_module_version": "1.5.0",
     "model_name": "HBoxModel",
     "state": {
      "_dom_classes": [],
      "_model_module": "@jupyter-widgets/controls",
      "_model_module_version": "1.5.0",
      "_model_name": "HBoxModel",
      "_view_count": null,
      "_view_module": "@jupyter-widgets/controls",
      "_view_module_version": "1.5.0",
      "_view_name": "HBoxView",
      "box_style": "",
      "children": [
       "IPY_MODEL_ec48a09f4fe442289571852032c8ecba",
       "IPY_MODEL_1587e612b6c84833878bcdbc784b0649",
       "IPY_MODEL_e63fe567ef2c4482b92348fef27442ee"
      ],
      "layout": "IPY_MODEL_7d724a605ce54c33a40655eb723310c1"
     }
    },
    "3fcafd6ff2de447c967ac5f6c1c65405": {
     "model_module": "@jupyter-widgets/controls",
     "model_module_version": "1.5.0",
     "model_name": "DescriptionStyleModel",
     "state": {
      "_model_module": "@jupyter-widgets/controls",
      "_model_module_version": "1.5.0",
      "_model_name": "DescriptionStyleModel",
      "_view_count": null,
      "_view_module": "@jupyter-widgets/base",
      "_view_module_version": "1.2.0",
      "_view_name": "StyleView",
      "description_width": ""
     }
    },
    "42510537d6f045fca31c67cbd12b4731": {
     "model_module": "@jupyter-widgets/base",
     "model_module_version": "1.2.0",
     "model_name": "LayoutModel",
     "state": {
      "_model_module": "@jupyter-widgets/base",
      "_model_module_version": "1.2.0",
      "_model_name": "LayoutModel",
      "_view_count": null,
      "_view_module": "@jupyter-widgets/base",
      "_view_module_version": "1.2.0",
      "_view_name": "LayoutView",
      "align_content": null,
      "align_items": null,
      "align_self": null,
      "border": null,
      "bottom": null,
      "display": null,
      "flex": null,
      "flex_flow": null,
      "grid_area": null,
      "grid_auto_columns": null,
      "grid_auto_flow": null,
      "grid_auto_rows": null,
      "grid_column": null,
      "grid_gap": null,
      "grid_row": null,
      "grid_template_areas": null,
      "grid_template_columns": null,
      "grid_template_rows": null,
      "height": null,
      "justify_content": null,
      "justify_items": null,
      "left": null,
      "margin": null,
      "max_height": null,
      "max_width": null,
      "min_height": null,
      "min_width": null,
      "object_fit": null,
      "object_position": null,
      "order": null,
      "overflow": null,
      "overflow_x": null,
      "overflow_y": null,
      "padding": null,
      "right": null,
      "top": null,
      "visibility": null,
      "width": null
     }
    },
    "484decf972214bc892f543bf8b45bd04": {
     "model_module": "@jupyter-widgets/controls",
     "model_module_version": "1.5.0",
     "model_name": "DescriptionStyleModel",
     "state": {
      "_model_module": "@jupyter-widgets/controls",
      "_model_module_version": "1.5.0",
      "_model_name": "DescriptionStyleModel",
      "_view_count": null,
      "_view_module": "@jupyter-widgets/base",
      "_view_module_version": "1.2.0",
      "_view_name": "StyleView",
      "description_width": ""
     }
    },
    "59549e666a3a44c3b3bf5cc21f7cea28": {
     "model_module": "@jupyter-widgets/controls",
     "model_module_version": "1.5.0",
     "model_name": "HTMLModel",
     "state": {
      "_dom_classes": [],
      "_model_module": "@jupyter-widgets/controls",
      "_model_module_version": "1.5.0",
      "_model_name": "HTMLModel",
      "_view_count": null,
      "_view_module": "@jupyter-widgets/controls",
      "_view_module_version": "1.5.0",
      "_view_name": "HTMLView",
      "description": "",
      "description_tooltip": null,
      "layout": "IPY_MODEL_f7c8d1d879bb4dc2897078c28ef042d4",
      "placeholder": "​",
      "style": "IPY_MODEL_9b058bfe6935462386cce9daf2f98494",
      "value": "100%"
     }
    },
    "5d8ce435942444f9a84c86e0a632d04b": {
     "model_module": "@jupyter-widgets/controls",
     "model_module_version": "1.5.0",
     "model_name": "HTMLModel",
     "state": {
      "_dom_classes": [],
      "_model_module": "@jupyter-widgets/controls",
      "_model_module_version": "1.5.0",
      "_model_name": "HTMLModel",
      "_view_count": null,
      "_view_module": "@jupyter-widgets/controls",
      "_view_module_version": "1.5.0",
      "_view_name": "HTMLView",
      "description": "",
      "description_tooltip": null,
      "layout": "IPY_MODEL_ad9f6c941b8148c7bc8592698de3b412",
      "placeholder": "​",
      "style": "IPY_MODEL_3fcafd6ff2de447c967ac5f6c1c65405",
      "value": "100%"
     }
    },
    "604445fdd76a4133bef505f1b376bc42": {
     "model_module": "@jupyter-widgets/base",
     "model_module_version": "1.2.0",
     "model_name": "LayoutModel",
     "state": {
      "_model_module": "@jupyter-widgets/base",
      "_model_module_version": "1.2.0",
      "_model_name": "LayoutModel",
      "_view_count": null,
      "_view_module": "@jupyter-widgets/base",
      "_view_module_version": "1.2.0",
      "_view_name": "LayoutView",
      "align_content": null,
      "align_items": null,
      "align_self": null,
      "border": null,
      "bottom": null,
      "display": null,
      "flex": null,
      "flex_flow": null,
      "grid_area": null,
      "grid_auto_columns": null,
      "grid_auto_flow": null,
      "grid_auto_rows": null,
      "grid_column": null,
      "grid_gap": null,
      "grid_row": null,
      "grid_template_areas": null,
      "grid_template_columns": null,
      "grid_template_rows": null,
      "height": null,
      "justify_content": null,
      "justify_items": null,
      "left": null,
      "margin": null,
      "max_height": null,
      "max_width": null,
      "min_height": null,
      "min_width": null,
      "object_fit": null,
      "object_position": null,
      "order": null,
      "overflow": null,
      "overflow_x": null,
      "overflow_y": null,
      "padding": null,
      "right": null,
      "top": null,
      "visibility": null,
      "width": null
     }
    },
    "64bcc4e2a3564de5a6121640a16c3f12": {
     "model_module": "@jupyter-widgets/base",
     "model_module_version": "1.2.0",
     "model_name": "LayoutModel",
     "state": {
      "_model_module": "@jupyter-widgets/base",
      "_model_module_version": "1.2.0",
      "_model_name": "LayoutModel",
      "_view_count": null,
      "_view_module": "@jupyter-widgets/base",
      "_view_module_version": "1.2.0",
      "_view_name": "LayoutView",
      "align_content": null,
      "align_items": null,
      "align_self": null,
      "border": null,
      "bottom": null,
      "display": null,
      "flex": null,
      "flex_flow": null,
      "grid_area": null,
      "grid_auto_columns": null,
      "grid_auto_flow": null,
      "grid_auto_rows": null,
      "grid_column": null,
      "grid_gap": null,
      "grid_row": null,
      "grid_template_areas": null,
      "grid_template_columns": null,
      "grid_template_rows": null,
      "height": null,
      "justify_content": null,
      "justify_items": null,
      "left": null,
      "margin": null,
      "max_height": null,
      "max_width": null,
      "min_height": null,
      "min_width": null,
      "object_fit": null,
      "object_position": null,
      "order": null,
      "overflow": null,
      "overflow_x": null,
      "overflow_y": null,
      "padding": null,
      "right": null,
      "top": null,
      "visibility": null,
      "width": null
     }
    },
    "64c2a96d87fe4493a3e5364b633905ae": {
     "model_module": "@jupyter-widgets/controls",
     "model_module_version": "1.5.0",
     "model_name": "HBoxModel",
     "state": {
      "_dom_classes": [],
      "_model_module": "@jupyter-widgets/controls",
      "_model_module_version": "1.5.0",
      "_model_name": "HBoxModel",
      "_view_count": null,
      "_view_module": "@jupyter-widgets/controls",
      "_view_module_version": "1.5.0",
      "_view_name": "HBoxView",
      "box_style": "",
      "children": [
       "IPY_MODEL_59549e666a3a44c3b3bf5cc21f7cea28",
       "IPY_MODEL_bd50b6e8d224415ab25d526ef1e3f082",
       "IPY_MODEL_fac46708f277430caf007738bc154877"
      ],
      "layout": "IPY_MODEL_604445fdd76a4133bef505f1b376bc42"
     }
    },
    "65779fb215914324b485e80e3174c048": {
     "model_module": "@jupyter-widgets/base",
     "model_module_version": "1.2.0",
     "model_name": "LayoutModel",
     "state": {
      "_model_module": "@jupyter-widgets/base",
      "_model_module_version": "1.2.0",
      "_model_name": "LayoutModel",
      "_view_count": null,
      "_view_module": "@jupyter-widgets/base",
      "_view_module_version": "1.2.0",
      "_view_name": "LayoutView",
      "align_content": null,
      "align_items": null,
      "align_self": null,
      "border": null,
      "bottom": null,
      "display": null,
      "flex": null,
      "flex_flow": null,
      "grid_area": null,
      "grid_auto_columns": null,
      "grid_auto_flow": null,
      "grid_auto_rows": null,
      "grid_column": null,
      "grid_gap": null,
      "grid_row": null,
      "grid_template_areas": null,
      "grid_template_columns": null,
      "grid_template_rows": null,
      "height": null,
      "justify_content": null,
      "justify_items": null,
      "left": null,
      "margin": null,
      "max_height": null,
      "max_width": null,
      "min_height": null,
      "min_width": null,
      "object_fit": null,
      "object_position": null,
      "order": null,
      "overflow": null,
      "overflow_x": null,
      "overflow_y": null,
      "padding": null,
      "right": null,
      "top": null,
      "visibility": null,
      "width": null
     }
    },
    "69aedbfaf71b41bc9a4599b64f9cce10": {
     "model_module": "@jupyter-widgets/controls",
     "model_module_version": "1.5.0",
     "model_name": "ProgressStyleModel",
     "state": {
      "_model_module": "@jupyter-widgets/controls",
      "_model_module_version": "1.5.0",
      "_model_name": "ProgressStyleModel",
      "_view_count": null,
      "_view_module": "@jupyter-widgets/base",
      "_view_module_version": "1.2.0",
      "_view_name": "StyleView",
      "bar_color": null,
      "description_width": ""
     }
    },
    "6b4fd1e95bfe410792ebd7b3fcbfef84": {
     "model_module": "@jupyter-widgets/controls",
     "model_module_version": "1.5.0",
     "model_name": "HBoxModel",
     "state": {
      "_dom_classes": [],
      "_model_module": "@jupyter-widgets/controls",
      "_model_module_version": "1.5.0",
      "_model_name": "HBoxModel",
      "_view_count": null,
      "_view_module": "@jupyter-widgets/controls",
      "_view_module_version": "1.5.0",
      "_view_name": "HBoxView",
      "box_style": "",
      "children": [
       "IPY_MODEL_d2f10fd267de473aa4b2de971f2d9f3c",
       "IPY_MODEL_99984f15099e4d469bac606106cb850b",
       "IPY_MODEL_84e6f73c96cd4b99b2937fa620673c9e"
      ],
      "layout": "IPY_MODEL_42510537d6f045fca31c67cbd12b4731"
     }
    },
    "6d4d4a48bfac467f9c75fe02c9e72485": {
     "model_module": "@jupyter-widgets/base",
     "model_module_version": "1.2.0",
     "model_name": "LayoutModel",
     "state": {
      "_model_module": "@jupyter-widgets/base",
      "_model_module_version": "1.2.0",
      "_model_name": "LayoutModel",
      "_view_count": null,
      "_view_module": "@jupyter-widgets/base",
      "_view_module_version": "1.2.0",
      "_view_name": "LayoutView",
      "align_content": null,
      "align_items": null,
      "align_self": null,
      "border": null,
      "bottom": null,
      "display": null,
      "flex": null,
      "flex_flow": null,
      "grid_area": null,
      "grid_auto_columns": null,
      "grid_auto_flow": null,
      "grid_auto_rows": null,
      "grid_column": null,
      "grid_gap": null,
      "grid_row": null,
      "grid_template_areas": null,
      "grid_template_columns": null,
      "grid_template_rows": null,
      "height": null,
      "justify_content": null,
      "justify_items": null,
      "left": null,
      "margin": null,
      "max_height": null,
      "max_width": null,
      "min_height": null,
      "min_width": null,
      "object_fit": null,
      "object_position": null,
      "order": null,
      "overflow": null,
      "overflow_x": null,
      "overflow_y": null,
      "padding": null,
      "right": null,
      "top": null,
      "visibility": null,
      "width": null
     }
    },
    "7d724a605ce54c33a40655eb723310c1": {
     "model_module": "@jupyter-widgets/base",
     "model_module_version": "1.2.0",
     "model_name": "LayoutModel",
     "state": {
      "_model_module": "@jupyter-widgets/base",
      "_model_module_version": "1.2.0",
      "_model_name": "LayoutModel",
      "_view_count": null,
      "_view_module": "@jupyter-widgets/base",
      "_view_module_version": "1.2.0",
      "_view_name": "LayoutView",
      "align_content": null,
      "align_items": null,
      "align_self": null,
      "border": null,
      "bottom": null,
      "display": null,
      "flex": null,
      "flex_flow": null,
      "grid_area": null,
      "grid_auto_columns": null,
      "grid_auto_flow": null,
      "grid_auto_rows": null,
      "grid_column": null,
      "grid_gap": null,
      "grid_row": null,
      "grid_template_areas": null,
      "grid_template_columns": null,
      "grid_template_rows": null,
      "height": null,
      "justify_content": null,
      "justify_items": null,
      "left": null,
      "margin": null,
      "max_height": null,
      "max_width": null,
      "min_height": null,
      "min_width": null,
      "object_fit": null,
      "object_position": null,
      "order": null,
      "overflow": null,
      "overflow_x": null,
      "overflow_y": null,
      "padding": null,
      "right": null,
      "top": null,
      "visibility": null,
      "width": null
     }
    },
    "7e8deaebffd7478cb0db50750ca9e045": {
     "model_module": "@jupyter-widgets/controls",
     "model_module_version": "1.5.0",
     "model_name": "HTMLModel",
     "state": {
      "_dom_classes": [],
      "_model_module": "@jupyter-widgets/controls",
      "_model_module_version": "1.5.0",
      "_model_name": "HTMLModel",
      "_view_count": null,
      "_view_module": "@jupyter-widgets/controls",
      "_view_module_version": "1.5.0",
      "_view_name": "HTMLView",
      "description": "",
      "description_tooltip": null,
      "layout": "IPY_MODEL_8b8bdaa10e964b68bdd50d6b5f0fee1a",
      "placeholder": "​",
      "style": "IPY_MODEL_a5f7f7da7b214f7490b1acfa74aa4dd3",
      "value": " 5.38M/5.38M [00:00&lt;00:00, 11.1MB/s]"
     }
    },
    "84e6f73c96cd4b99b2937fa620673c9e": {
     "model_module": "@jupyter-widgets/controls",
     "model_module_version": "1.5.0",
     "model_name": "HTMLModel",
     "state": {
      "_dom_classes": [],
      "_model_module": "@jupyter-widgets/controls",
      "_model_module_version": "1.5.0",
      "_model_name": "HTMLModel",
      "_view_count": null,
      "_view_module": "@jupyter-widgets/controls",
      "_view_module_version": "1.5.0",
      "_view_name": "HTMLView",
      "description": "",
      "description_tooltip": null,
      "layout": "IPY_MODEL_6d4d4a48bfac467f9c75fe02c9e72485",
      "placeholder": "​",
      "style": "IPY_MODEL_3a486966f0ab4e6290cc5a89699ccf8d",
      "value": " 129M/129M [00:02&lt;00:00, 53.0MB/s]"
     }
    },
    "8b8bdaa10e964b68bdd50d6b5f0fee1a": {
     "model_module": "@jupyter-widgets/base",
     "model_module_version": "1.2.0",
     "model_name": "LayoutModel",
     "state": {
      "_model_module": "@jupyter-widgets/base",
      "_model_module_version": "1.2.0",
      "_model_name": "LayoutModel",
      "_view_count": null,
      "_view_module": "@jupyter-widgets/base",
      "_view_module_version": "1.2.0",
      "_view_name": "LayoutView",
      "align_content": null,
      "align_items": null,
      "align_self": null,
      "border": null,
      "bottom": null,
      "display": null,
      "flex": null,
      "flex_flow": null,
      "grid_area": null,
      "grid_auto_columns": null,
      "grid_auto_flow": null,
      "grid_auto_rows": null,
      "grid_column": null,
      "grid_gap": null,
      "grid_row": null,
      "grid_template_areas": null,
      "grid_template_columns": null,
      "grid_template_rows": null,
      "height": null,
      "justify_content": null,
      "justify_items": null,
      "left": null,
      "margin": null,
      "max_height": null,
      "max_width": null,
      "min_height": null,
      "min_width": null,
      "object_fit": null,
      "object_position": null,
      "order": null,
      "overflow": null,
      "overflow_x": null,
      "overflow_y": null,
      "padding": null,
      "right": null,
      "top": null,
      "visibility": null,
      "width": null
     }
    },
    "8d4d9c3bb10e4e9a8817d893179442d7": {
     "model_module": "@jupyter-widgets/controls",
     "model_module_version": "1.5.0",
     "model_name": "ProgressStyleModel",
     "state": {
      "_model_module": "@jupyter-widgets/controls",
      "_model_module_version": "1.5.0",
      "_model_name": "ProgressStyleModel",
      "_view_count": null,
      "_view_module": "@jupyter-widgets/base",
      "_view_module_version": "1.2.0",
      "_view_name": "StyleView",
      "bar_color": null,
      "description_width": ""
     }
    },
    "8eea7c0729a14047ab4d2396f277f5b0": {
     "model_module": "@jupyter-widgets/base",
     "model_module_version": "1.2.0",
     "model_name": "LayoutModel",
     "state": {
      "_model_module": "@jupyter-widgets/base",
      "_model_module_version": "1.2.0",
      "_model_name": "LayoutModel",
      "_view_count": null,
      "_view_module": "@jupyter-widgets/base",
      "_view_module_version": "1.2.0",
      "_view_name": "LayoutView",
      "align_content": null,
      "align_items": null,
      "align_self": null,
      "border": null,
      "bottom": null,
      "display": null,
      "flex": null,
      "flex_flow": null,
      "grid_area": null,
      "grid_auto_columns": null,
      "grid_auto_flow": null,
      "grid_auto_rows": null,
      "grid_column": null,
      "grid_gap": null,
      "grid_row": null,
      "grid_template_areas": null,
      "grid_template_columns": null,
      "grid_template_rows": null,
      "height": null,
      "justify_content": null,
      "justify_items": null,
      "left": null,
      "margin": null,
      "max_height": null,
      "max_width": null,
      "min_height": null,
      "min_width": null,
      "object_fit": null,
      "object_position": null,
      "order": null,
      "overflow": null,
      "overflow_x": null,
      "overflow_y": null,
      "padding": null,
      "right": null,
      "top": null,
      "visibility": null,
      "width": null
     }
    },
    "8efd6bda2878496ea66184e3b6c94875": {
     "model_module": "@jupyter-widgets/controls",
     "model_module_version": "1.5.0",
     "model_name": "ProgressStyleModel",
     "state": {
      "_model_module": "@jupyter-widgets/controls",
      "_model_module_version": "1.5.0",
      "_model_name": "ProgressStyleModel",
      "_view_count": null,
      "_view_module": "@jupyter-widgets/base",
      "_view_module_version": "1.2.0",
      "_view_name": "StyleView",
      "bar_color": null,
      "description_width": ""
     }
    },
    "99984f15099e4d469bac606106cb850b": {
     "model_module": "@jupyter-widgets/controls",
     "model_module_version": "1.5.0",
     "model_name": "FloatProgressModel",
     "state": {
      "_dom_classes": [],
      "_model_module": "@jupyter-widgets/controls",
      "_model_module_version": "1.5.0",
      "_model_name": "FloatProgressModel",
      "_view_count": null,
      "_view_module": "@jupyter-widgets/controls",
      "_view_module_version": "1.5.0",
      "_view_name": "ProgressView",
      "bar_style": "success",
      "description": "",
      "description_tooltip": null,
      "layout": "IPY_MODEL_afd2fc68741f4ee1b042b2a33fbe383f",
      "max": 134982446,
      "min": 0,
      "orientation": "horizontal",
      "style": "IPY_MODEL_69aedbfaf71b41bc9a4599b64f9cce10",
      "value": 134982446
     }
    },
    "9b058bfe6935462386cce9daf2f98494": {
     "model_module": "@jupyter-widgets/controls",
     "model_module_version": "1.5.0",
     "model_name": "DescriptionStyleModel",
     "state": {
      "_model_module": "@jupyter-widgets/controls",
      "_model_module_version": "1.5.0",
      "_model_name": "DescriptionStyleModel",
      "_view_count": null,
      "_view_module": "@jupyter-widgets/base",
      "_view_module_version": "1.2.0",
      "_view_name": "StyleView",
      "description_width": ""
     }
    },
    "a5f7f7da7b214f7490b1acfa74aa4dd3": {
     "model_module": "@jupyter-widgets/controls",
     "model_module_version": "1.5.0",
     "model_name": "DescriptionStyleModel",
     "state": {
      "_model_module": "@jupyter-widgets/controls",
      "_model_module_version": "1.5.0",
      "_model_name": "DescriptionStyleModel",
      "_view_count": null,
      "_view_module": "@jupyter-widgets/base",
      "_view_module_version": "1.2.0",
      "_view_name": "StyleView",
      "description_width": ""
     }
    },
    "ad9f6c941b8148c7bc8592698de3b412": {
     "model_module": "@jupyter-widgets/base",
     "model_module_version": "1.2.0",
     "model_name": "LayoutModel",
     "state": {
      "_model_module": "@jupyter-widgets/base",
      "_model_module_version": "1.2.0",
      "_model_name": "LayoutModel",
      "_view_count": null,
      "_view_module": "@jupyter-widgets/base",
      "_view_module_version": "1.2.0",
      "_view_name": "LayoutView",
      "align_content": null,
      "align_items": null,
      "align_self": null,
      "border": null,
      "bottom": null,
      "display": null,
      "flex": null,
      "flex_flow": null,
      "grid_area": null,
      "grid_auto_columns": null,
      "grid_auto_flow": null,
      "grid_auto_rows": null,
      "grid_column": null,
      "grid_gap": null,
      "grid_row": null,
      "grid_template_areas": null,
      "grid_template_columns": null,
      "grid_template_rows": null,
      "height": null,
      "justify_content": null,
      "justify_items": null,
      "left": null,
      "margin": null,
      "max_height": null,
      "max_width": null,
      "min_height": null,
      "min_width": null,
      "object_fit": null,
      "object_position": null,
      "order": null,
      "overflow": null,
      "overflow_x": null,
      "overflow_y": null,
      "padding": null,
      "right": null,
      "top": null,
      "visibility": null,
      "width": null
     }
    },
    "afd2fc68741f4ee1b042b2a33fbe383f": {
     "model_module": "@jupyter-widgets/base",
     "model_module_version": "1.2.0",
     "model_name": "LayoutModel",
     "state": {
      "_model_module": "@jupyter-widgets/base",
      "_model_module_version": "1.2.0",
      "_model_name": "LayoutModel",
      "_view_count": null,
      "_view_module": "@jupyter-widgets/base",
      "_view_module_version": "1.2.0",
      "_view_name": "LayoutView",
      "align_content": null,
      "align_items": null,
      "align_self": null,
      "border": null,
      "bottom": null,
      "display": null,
      "flex": null,
      "flex_flow": null,
      "grid_area": null,
      "grid_auto_columns": null,
      "grid_auto_flow": null,
      "grid_auto_rows": null,
      "grid_column": null,
      "grid_gap": null,
      "grid_row": null,
      "grid_template_areas": null,
      "grid_template_columns": null,
      "grid_template_rows": null,
      "height": null,
      "justify_content": null,
      "justify_items": null,
      "left": null,
      "margin": null,
      "max_height": null,
      "max_width": null,
      "min_height": null,
      "min_width": null,
      "object_fit": null,
      "object_position": null,
      "order": null,
      "overflow": null,
      "overflow_x": null,
      "overflow_y": null,
      "padding": null,
      "right": null,
      "top": null,
      "visibility": null,
      "width": null
     }
    },
    "b1d22c35a0814975a34f971cf29ac84c": {
     "model_module": "@jupyter-widgets/controls",
     "model_module_version": "1.5.0",
     "model_name": "HBoxModel",
     "state": {
      "_dom_classes": [],
      "_model_module": "@jupyter-widgets/controls",
      "_model_module_version": "1.5.0",
      "_model_name": "HBoxModel",
      "_view_count": null,
      "_view_module": "@jupyter-widgets/controls",
      "_view_module_version": "1.5.0",
      "_view_name": "HBoxView",
      "box_style": "",
      "children": [
       "IPY_MODEL_2f9e23b1cbd746749a68e518d9e42699",
       "IPY_MODEL_14ba5c23f6b344d1adcd0506ca6c1f57",
       "IPY_MODEL_7e8deaebffd7478cb0db50750ca9e045"
      ],
      "layout": "IPY_MODEL_36d0215377bc45e99629d64edd27e8ae"
     }
    },
    "bd50b6e8d224415ab25d526ef1e3f082": {
     "model_module": "@jupyter-widgets/controls",
     "model_module_version": "1.5.0",
     "model_name": "FloatProgressModel",
     "state": {
      "_dom_classes": [],
      "_model_module": "@jupyter-widgets/controls",
      "_model_module_version": "1.5.0",
      "_model_name": "FloatProgressModel",
      "_view_count": null,
      "_view_module": "@jupyter-widgets/controls",
      "_view_module_version": "1.5.0",
      "_view_name": "ProgressView",
      "bar_style": "success",
      "description": "",
      "description_tooltip": null,
      "layout": "IPY_MODEL_ea3f750428ae40179300675f81aaef83",
      "max": 10,
      "min": 0,
      "orientation": "horizontal",
      "style": "IPY_MODEL_bfd6cc4748204e3e9676a5cde48c31cc",
      "value": 10
     }
    },
    "bfd6cc4748204e3e9676a5cde48c31cc": {
     "model_module": "@jupyter-widgets/controls",
     "model_module_version": "1.5.0",
     "model_name": "ProgressStyleModel",
     "state": {
      "_model_module": "@jupyter-widgets/controls",
      "_model_module_version": "1.5.0",
      "_model_name": "ProgressStyleModel",
      "_view_count": null,
      "_view_module": "@jupyter-widgets/base",
      "_view_module_version": "1.2.0",
      "_view_name": "StyleView",
      "bar_color": null,
      "description_width": ""
     }
    },
    "d08efec4381c4e2682f25b5a3d2b99d4": {
     "model_module": "@jupyter-widgets/controls",
     "model_module_version": "1.5.0",
     "model_name": "FloatProgressModel",
     "state": {
      "_dom_classes": [],
      "_model_module": "@jupyter-widgets/controls",
      "_model_module_version": "1.5.0",
      "_model_name": "FloatProgressModel",
      "_view_count": null,
      "_view_module": "@jupyter-widgets/controls",
      "_view_module_version": "1.5.0",
      "_view_name": "ProgressView",
      "bar_style": "success",
      "description": "",
      "description_tooltip": null,
      "layout": "IPY_MODEL_fee8e567d6c64f29abc4eee2be659c08",
      "max": 10,
      "min": 0,
      "orientation": "horizontal",
      "style": "IPY_MODEL_10ea998500414610b1ee463a8be5ef1c",
      "value": 10
     }
    },
    "d2f10fd267de473aa4b2de971f2d9f3c": {
     "model_module": "@jupyter-widgets/controls",
     "model_module_version": "1.5.0",
     "model_name": "HTMLModel",
     "state": {
      "_dom_classes": [],
      "_model_module": "@jupyter-widgets/controls",
      "_model_module_version": "1.5.0",
      "_model_name": "HTMLModel",
      "_view_count": null,
      "_view_module": "@jupyter-widgets/controls",
      "_view_module_version": "1.5.0",
      "_view_name": "HTMLView",
      "description": "",
      "description_tooltip": null,
      "layout": "IPY_MODEL_65779fb215914324b485e80e3174c048",
      "placeholder": "​",
      "style": "IPY_MODEL_372b8e47ae16470bba1852e632cfc5a8",
      "value": "Downloading: 100%"
     }
    },
    "d896605602e046bea4f56afde0607c4e": {
     "model_module": "@jupyter-widgets/base",
     "model_module_version": "1.2.0",
     "model_name": "LayoutModel",
     "state": {
      "_model_module": "@jupyter-widgets/base",
      "_model_module_version": "1.2.0",
      "_model_name": "LayoutModel",
      "_view_count": null,
      "_view_module": "@jupyter-widgets/base",
      "_view_module_version": "1.2.0",
      "_view_name": "LayoutView",
      "align_content": null,
      "align_items": null,
      "align_self": null,
      "border": null,
      "bottom": null,
      "display": null,
      "flex": null,
      "flex_flow": null,
      "grid_area": null,
      "grid_auto_columns": null,
      "grid_auto_flow": null,
      "grid_auto_rows": null,
      "grid_column": null,
      "grid_gap": null,
      "grid_row": null,
      "grid_template_areas": null,
      "grid_template_columns": null,
      "grid_template_rows": null,
      "height": null,
      "justify_content": null,
      "justify_items": null,
      "left": null,
      "margin": null,
      "max_height": null,
      "max_width": null,
      "min_height": null,
      "min_width": null,
      "object_fit": null,
      "object_position": null,
      "order": null,
      "overflow": null,
      "overflow_x": null,
      "overflow_y": null,
      "padding": null,
      "right": null,
      "top": null,
      "visibility": null,
      "width": null
     }
    },
    "db8907c1b9ec43a297565746128cfd93": {
     "model_module": "@jupyter-widgets/controls",
     "model_module_version": "1.5.0",
     "model_name": "HBoxModel",
     "state": {
      "_dom_classes": [],
      "_model_module": "@jupyter-widgets/controls",
      "_model_module_version": "1.5.0",
      "_model_name": "HBoxModel",
      "_view_count": null,
      "_view_module": "@jupyter-widgets/controls",
      "_view_module_version": "1.5.0",
      "_view_name": "HBoxView",
      "box_style": "",
      "children": [
       "IPY_MODEL_5d8ce435942444f9a84c86e0a632d04b",
       "IPY_MODEL_d08efec4381c4e2682f25b5a3d2b99d4",
       "IPY_MODEL_e6fc3c1a424a49d181fda2516f43da4b"
      ],
      "layout": "IPY_MODEL_d896605602e046bea4f56afde0607c4e"
     }
    },
    "e5b6c06c97f34f78b72167dbc6850512": {
     "model_module": "@jupyter-widgets/controls",
     "model_module_version": "1.5.0",
     "model_name": "DescriptionStyleModel",
     "state": {
      "_model_module": "@jupyter-widgets/controls",
      "_model_module_version": "1.5.0",
      "_model_name": "DescriptionStyleModel",
      "_view_count": null,
      "_view_module": "@jupyter-widgets/base",
      "_view_module_version": "1.2.0",
      "_view_name": "StyleView",
      "description_width": ""
     }
    },
    "e63fe567ef2c4482b92348fef27442ee": {
     "model_module": "@jupyter-widgets/controls",
     "model_module_version": "1.5.0",
     "model_name": "HTMLModel",
     "state": {
      "_dom_classes": [],
      "_model_module": "@jupyter-widgets/controls",
      "_model_module_version": "1.5.0",
      "_model_name": "HTMLModel",
      "_view_count": null,
      "_view_module": "@jupyter-widgets/controls",
      "_view_module_version": "1.5.0",
      "_view_name": "HTMLView",
      "description": "",
      "description_tooltip": null,
      "layout": "IPY_MODEL_f9cf368ed2b047149b395f7cf5453b4a",
      "placeholder": "​",
      "style": "IPY_MODEL_0982d9b532bd4e83a7f211c8a868e661",
      "value": " 507/507 [00:00&lt;00:00, 10.3kB/s]"
     }
    },
    "e6fc3c1a424a49d181fda2516f43da4b": {
     "model_module": "@jupyter-widgets/controls",
     "model_module_version": "1.5.0",
     "model_name": "HTMLModel",
     "state": {
      "_dom_classes": [],
      "_model_module": "@jupyter-widgets/controls",
      "_model_module_version": "1.5.0",
      "_model_name": "HTMLModel",
      "_view_count": null,
      "_view_module": "@jupyter-widgets/controls",
      "_view_module_version": "1.5.0",
      "_view_name": "HTMLView",
      "description": "",
      "description_tooltip": null,
      "layout": "IPY_MODEL_0a46fdbf229c4a66ae0fe384caae2d8d",
      "placeholder": "​",
      "style": "IPY_MODEL_f763610c1eb84fc8a2851f3dd79d038c",
      "value": " 10/10 [12:45&lt;00:00, 76.56s/it]"
     }
    },
    "ea3f750428ae40179300675f81aaef83": {
     "model_module": "@jupyter-widgets/base",
     "model_module_version": "1.2.0",
     "model_name": "LayoutModel",
     "state": {
      "_model_module": "@jupyter-widgets/base",
      "_model_module_version": "1.2.0",
      "_model_name": "LayoutModel",
      "_view_count": null,
      "_view_module": "@jupyter-widgets/base",
      "_view_module_version": "1.2.0",
      "_view_name": "LayoutView",
      "align_content": null,
      "align_items": null,
      "align_self": null,
      "border": null,
      "bottom": null,
      "display": null,
      "flex": null,
      "flex_flow": null,
      "grid_area": null,
      "grid_auto_columns": null,
      "grid_auto_flow": null,
      "grid_auto_rows": null,
      "grid_column": null,
      "grid_gap": null,
      "grid_row": null,
      "grid_template_areas": null,
      "grid_template_columns": null,
      "grid_template_rows": null,
      "height": null,
      "justify_content": null,
      "justify_items": null,
      "left": null,
      "margin": null,
      "max_height": null,
      "max_width": null,
      "min_height": null,
      "min_width": null,
      "object_fit": null,
      "object_position": null,
      "order": null,
      "overflow": null,
      "overflow_x": null,
      "overflow_y": null,
      "padding": null,
      "right": null,
      "top": null,
      "visibility": null,
      "width": null
     }
    },
    "ec48a09f4fe442289571852032c8ecba": {
     "model_module": "@jupyter-widgets/controls",
     "model_module_version": "1.5.0",
     "model_name": "HTMLModel",
     "state": {
      "_dom_classes": [],
      "_model_module": "@jupyter-widgets/controls",
      "_model_module_version": "1.5.0",
      "_model_name": "HTMLModel",
      "_view_count": null,
      "_view_module": "@jupyter-widgets/controls",
      "_view_module_version": "1.5.0",
      "_view_name": "HTMLView",
      "description": "",
      "description_tooltip": null,
      "layout": "IPY_MODEL_1d5b62b51b9344f29f36e9ad1009d6d9",
      "placeholder": "​",
      "style": "IPY_MODEL_484decf972214bc892f543bf8b45bd04",
      "value": "Downloading: 100%"
     }
    },
    "f763610c1eb84fc8a2851f3dd79d038c": {
     "model_module": "@jupyter-widgets/controls",
     "model_module_version": "1.5.0",
     "model_name": "DescriptionStyleModel",
     "state": {
      "_model_module": "@jupyter-widgets/controls",
      "_model_module_version": "1.5.0",
      "_model_name": "DescriptionStyleModel",
      "_view_count": null,
      "_view_module": "@jupyter-widgets/base",
      "_view_module_version": "1.2.0",
      "_view_name": "StyleView",
      "description_width": ""
     }
    },
    "f7c8d1d879bb4dc2897078c28ef042d4": {
     "model_module": "@jupyter-widgets/base",
     "model_module_version": "1.2.0",
     "model_name": "LayoutModel",
     "state": {
      "_model_module": "@jupyter-widgets/base",
      "_model_module_version": "1.2.0",
      "_model_name": "LayoutModel",
      "_view_count": null,
      "_view_module": "@jupyter-widgets/base",
      "_view_module_version": "1.2.0",
      "_view_name": "LayoutView",
      "align_content": null,
      "align_items": null,
      "align_self": null,
      "border": null,
      "bottom": null,
      "display": null,
      "flex": null,
      "flex_flow": null,
      "grid_area": null,
      "grid_auto_columns": null,
      "grid_auto_flow": null,
      "grid_auto_rows": null,
      "grid_column": null,
      "grid_gap": null,
      "grid_row": null,
      "grid_template_areas": null,
      "grid_template_columns": null,
      "grid_template_rows": null,
      "height": null,
      "justify_content": null,
      "justify_items": null,
      "left": null,
      "margin": null,
      "max_height": null,
      "max_width": null,
      "min_height": null,
      "min_width": null,
      "object_fit": null,
      "object_position": null,
      "order": null,
      "overflow": null,
      "overflow_x": null,
      "overflow_y": null,
      "padding": null,
      "right": null,
      "top": null,
      "visibility": null,
      "width": null
     }
    },
    "f9cf368ed2b047149b395f7cf5453b4a": {
     "model_module": "@jupyter-widgets/base",
     "model_module_version": "1.2.0",
     "model_name": "LayoutModel",
     "state": {
      "_model_module": "@jupyter-widgets/base",
      "_model_module_version": "1.2.0",
      "_model_name": "LayoutModel",
      "_view_count": null,
      "_view_module": "@jupyter-widgets/base",
      "_view_module_version": "1.2.0",
      "_view_name": "LayoutView",
      "align_content": null,
      "align_items": null,
      "align_self": null,
      "border": null,
      "bottom": null,
      "display": null,
      "flex": null,
      "flex_flow": null,
      "grid_area": null,
      "grid_auto_columns": null,
      "grid_auto_flow": null,
      "grid_auto_rows": null,
      "grid_column": null,
      "grid_gap": null,
      "grid_row": null,
      "grid_template_areas": null,
      "grid_template_columns": null,
      "grid_template_rows": null,
      "height": null,
      "justify_content": null,
      "justify_items": null,
      "left": null,
      "margin": null,
      "max_height": null,
      "max_width": null,
      "min_height": null,
      "min_width": null,
      "object_fit": null,
      "object_position": null,
      "order": null,
      "overflow": null,
      "overflow_x": null,
      "overflow_y": null,
      "padding": null,
      "right": null,
      "top": null,
      "visibility": null,
      "width": null
     }
    },
    "fac46708f277430caf007738bc154877": {
     "model_module": "@jupyter-widgets/controls",
     "model_module_version": "1.5.0",
     "model_name": "HTMLModel",
     "state": {
      "_dom_classes": [],
      "_model_module": "@jupyter-widgets/controls",
      "_model_module_version": "1.5.0",
      "_model_name": "HTMLModel",
      "_view_count": null,
      "_view_module": "@jupyter-widgets/controls",
      "_view_module_version": "1.5.0",
      "_view_name": "HTMLView",
      "description": "",
      "description_tooltip": null,
      "layout": "IPY_MODEL_8eea7c0729a14047ab4d2396f277f5b0",
      "placeholder": "​",
      "style": "IPY_MODEL_e5b6c06c97f34f78b72167dbc6850512",
      "value": " 10/10 [15:48&lt;00:00, 94.80s/it]"
     }
    },
    "fee8e567d6c64f29abc4eee2be659c08": {
     "model_module": "@jupyter-widgets/base",
     "model_module_version": "1.2.0",
     "model_name": "LayoutModel",
     "state": {
      "_model_module": "@jupyter-widgets/base",
      "_model_module_version": "1.2.0",
      "_model_name": "LayoutModel",
      "_view_count": null,
      "_view_module": "@jupyter-widgets/base",
      "_view_module_version": "1.2.0",
      "_view_name": "LayoutView",
      "align_content": null,
      "align_items": null,
      "align_self": null,
      "border": null,
      "bottom": null,
      "display": null,
      "flex": null,
      "flex_flow": null,
      "grid_area": null,
      "grid_auto_columns": null,
      "grid_auto_flow": null,
      "grid_auto_rows": null,
      "grid_column": null,
      "grid_gap": null,
      "grid_row": null,
      "grid_template_areas": null,
      "grid_template_columns": null,
      "grid_template_rows": null,
      "height": null,
      "justify_content": null,
      "justify_items": null,
      "left": null,
      "margin": null,
      "max_height": null,
      "max_width": null,
      "min_height": null,
      "min_width": null,
      "object_fit": null,
      "object_position": null,
      "order": null,
      "overflow": null,
      "overflow_x": null,
      "overflow_y": null,
      "padding": null,
      "right": null,
      "top": null,
      "visibility": null,
      "width": null
     }
    },
    "ff1cad137b3d4954a704160790c8ff78": {
     "model_module": "@jupyter-widgets/base",
     "model_module_version": "1.2.0",
     "model_name": "LayoutModel",
     "state": {
      "_model_module": "@jupyter-widgets/base",
      "_model_module_version": "1.2.0",
      "_model_name": "LayoutModel",
      "_view_count": null,
      "_view_module": "@jupyter-widgets/base",
      "_view_module_version": "1.2.0",
      "_view_name": "LayoutView",
      "align_content": null,
      "align_items": null,
      "align_self": null,
      "border": null,
      "bottom": null,
      "display": null,
      "flex": null,
      "flex_flow": null,
      "grid_area": null,
      "grid_auto_columns": null,
      "grid_auto_flow": null,
      "grid_auto_rows": null,
      "grid_column": null,
      "grid_gap": null,
      "grid_row": null,
      "grid_template_areas": null,
      "grid_template_columns": null,
      "grid_template_rows": null,
      "height": null,
      "justify_content": null,
      "justify_items": null,
      "left": null,
      "margin": null,
      "max_height": null,
      "max_width": null,
      "min_height": null,
      "min_width": null,
      "object_fit": null,
      "object_position": null,
      "order": null,
      "overflow": null,
      "overflow_x": null,
      "overflow_y": null,
      "padding": null,
      "right": null,
      "top": null,
      "visibility": null,
      "width": null
     }
    }
   }
  }
 },
 "nbformat": 4,
 "nbformat_minor": 1
}
