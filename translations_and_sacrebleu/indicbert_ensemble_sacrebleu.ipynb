{
  "nbformat": 4,
  "nbformat_minor": 0,
  "metadata": {
    "colab": {
      "name": "indicbert_ensemble_sacrebleu.ipynb",
      "provenance": [],
      "collapsed_sections": []
    },
    "kernelspec": {
      "name": "python3",
      "display_name": "Python 3"
    },
    "language_info": {
      "name": "python"
    }
  },
  "cells": [
    {
      "cell_type": "code",
      "metadata": {
        "colab": {
          "base_uri": "https://localhost:8080/"
        },
        "id": "PKI46xwG_s9w",
        "outputId": "6d9b03a8-d0b3-4dc0-c0dc-688bd0108a9c"
      },
      "source": [
        "!pip install sacrebleu -q"
      ],
      "execution_count": 1,
      "outputs": [
        {
          "output_type": "stream",
          "name": "stdout",
          "text": [
            "\u001b[?25l\r\u001b[K     |███▋                            | 10 kB 24.9 MB/s eta 0:00:01\r\u001b[K     |███████▏                        | 20 kB 29.2 MB/s eta 0:00:01\r\u001b[K     |██████████▉                     | 30 kB 16.0 MB/s eta 0:00:01\r\u001b[K     |██████████████▍                 | 40 kB 11.7 MB/s eta 0:00:01\r\u001b[K     |██████████████████              | 51 kB 7.7 MB/s eta 0:00:01\r\u001b[K     |█████████████████████▋          | 61 kB 7.8 MB/s eta 0:00:01\r\u001b[K     |█████████████████████████▎      | 71 kB 6.5 MB/s eta 0:00:01\r\u001b[K     |████████████████████████████▉   | 81 kB 7.2 MB/s eta 0:00:01\r\u001b[K     |████████████████████████████████| 90 kB 4.1 MB/s \n",
            "\u001b[?25h"
          ]
        }
      ]
    },
    {
      "cell_type": "code",
      "metadata": {
        "colab": {
          "base_uri": "https://localhost:8080/"
        },
        "id": "5iLUODzYUmlX",
        "outputId": "311f89a3-b9e0-439b-d5f2-5c78fd28b229"
      },
      "source": [
        "# Mount Google drive to upload datasets\n",
        "from google.colab import drive\n",
        "drive.mount('/content/drive')"
      ],
      "execution_count": 2,
      "outputs": [
        {
          "output_type": "stream",
          "name": "stdout",
          "text": [
            "Mounted at /content/drive\n"
          ]
        }
      ]
    },
    {
      "cell_type": "code",
      "metadata": {
        "id": "xn8OyIVSWD3H"
      },
      "source": [
        "# The path to the data on my drive\n",
        "D = '/content/drive/My Drive/W266_Project_Data/pmi_data'"
      ],
      "execution_count": 3,
      "outputs": []
    },
    {
      "cell_type": "code",
      "metadata": {
        "colab": {
          "base_uri": "https://localhost:8080/"
        },
        "id": "zSDHkUycciBK",
        "outputId": "6998bc5e-e111-4acb-e2c2-100cbe1277ff"
      },
      "source": [
        "# cd into the folder where the IndicBert selected records are stored\n",
        "% cd /content/drive/My Drive/W266_Project_Data/pmi_data/predicted_text/IndicBert_ensemble"
      ],
      "execution_count": 4,
      "outputs": [
        {
          "output_type": "stream",
          "name": "stdout",
          "text": [
            "/content/drive/My Drive/W266_Project_Data/pmi_data/predicted_text/IndicBert_ensemble\n"
          ]
        }
      ]
    },
    {
      "cell_type": "code",
      "metadata": {
        "colab": {
          "base_uri": "https://localhost:8080/"
        },
        "id": "eW95c4hldF4N",
        "outputId": "72fdc863-6e1d-434c-dab6-d354243d691f"
      },
      "source": [
        "# Verify the presence of the IndicBert selected files\n",
        "% ls"
      ],
      "execution_count": 5,
      "outputs": [
        {
          "output_type": "stream",
          "name": "stdout",
          "text": [
            "original_sentence-hi.txt  selected_translation-hi.txt\n",
            "original_sentence-ma.txt  selected_translation-ma.txt\n",
            "original_sentence-ta.txt  selected_translation-ta.txt\n"
          ]
        }
      ]
    },
    {
      "cell_type": "code",
      "metadata": {
        "colab": {
          "base_uri": "https://localhost:8080/"
        },
        "id": "_0QlwckzdMQ1",
        "outputId": "8e74c5c3-7769-451c-d36f-8b7f740faa61"
      },
      "source": [
        "# Get the SacreBleu scores for the Hindi text selected by IndicBert\n",
        "!sacrebleu original_sentence-hi.txt -i selected_translation-hi.txt --tokenize intl --confidence"
      ],
      "execution_count": 6,
      "outputs": [
        {
          "output_type": "stream",
          "name": "stdout",
          "text": [
            "{\n",
            " \"name\": \"BLEU\",\n",
            " \"score\": 30.4,\n",
            " \"signature\": \"nrefs:1|bs:1000|seed:12345|case:mixed|eff:no|tok:intl|smooth:exp|version:2.0.0\",\n",
            " \"confidence_mean\": 30.4,\n",
            " \"confidence_var\": 1.2,\n",
            " \"confidence\": \"μ = 30.4 ± 1.2\",\n",
            " \"verbose_score\": \"62.4/37.8/23.9/15.5 (BP = 0.994 ratio = 0.994 hyp_len = 19431 ref_len = 19557)\",\n",
            " \"nrefs\": \"1\",\n",
            " \"bs\": \"1000\",\n",
            " \"seed\": \"12345\",\n",
            " \"case\": \"mixed\",\n",
            " \"eff\": \"no\",\n",
            " \"tok\": \"intl\",\n",
            " \"smooth\": \"exp\",\n",
            " \"version\": \"2.0.0\"\n",
            "}\n",
            "\u001b[0m"
          ]
        }
      ]
    },
    {
      "cell_type": "code",
      "metadata": {
        "colab": {
          "base_uri": "https://localhost:8080/"
        },
        "id": "--u_Qbvwgy0X",
        "outputId": "cb8b66f0-acd4-49b1-9fc4-6716573ba81a"
      },
      "source": [
        "# Get the SacreBleu scores for the Tamil text selected by IndicBert\n",
        "!sacrebleu original_sentence-ta.txt -i selected_translation-ta.txt --tokenize intl --confidence"
      ],
      "execution_count": 7,
      "outputs": [
        {
          "output_type": "stream",
          "name": "stdout",
          "text": [
            "{\n",
            " \"name\": \"BLEU\",\n",
            " \"score\": 15.9,\n",
            " \"signature\": \"nrefs:1|bs:1000|seed:12345|case:mixed|eff:no|tok:intl|smooth:exp|version:2.0.0\",\n",
            " \"confidence_mean\": 15.8,\n",
            " \"confidence_var\": 1.2,\n",
            " \"confidence\": \"μ = 15.8 ± 1.2\",\n",
            " \"verbose_score\": \"47.4/21.5/11.1/5.9 (BP = 0.988 ratio = 0.988 hyp_len = 14254 ref_len = 14425)\",\n",
            " \"nrefs\": \"1\",\n",
            " \"bs\": \"1000\",\n",
            " \"seed\": \"12345\",\n",
            " \"case\": \"mixed\",\n",
            " \"eff\": \"no\",\n",
            " \"tok\": \"intl\",\n",
            " \"smooth\": \"exp\",\n",
            " \"version\": \"2.0.0\"\n",
            "}\n",
            "\u001b[0m"
          ]
        }
      ]
    },
    {
      "cell_type": "code",
      "metadata": {
        "colab": {
          "base_uri": "https://localhost:8080/"
        },
        "id": "OABGoeXlgMwd",
        "outputId": "b5d8acbd-7e89-49fd-9d9f-86264b1b22d6"
      },
      "source": [
        "# Get the SacreBleu scores for the Malayalam text selected by IndicBert\n",
        "!sacrebleu original_sentence-ma.txt -i selected_translation-ma.txt --tokenize intl --confidence"
      ],
      "execution_count": 8,
      "outputs": [
        {
          "output_type": "stream",
          "name": "stdout",
          "text": [
            "{\n",
            " \"name\": \"BLEU\",\n",
            " \"score\": 7.5,\n",
            " \"signature\": \"nrefs:1|bs:1000|seed:12345|case:mixed|eff:no|tok:intl|smooth:exp|version:2.0.0\",\n",
            " \"confidence_mean\": 7.5,\n",
            " \"confidence_var\": 0.9,\n",
            " \"confidence\": \"μ = 7.5 ± 0.9\",\n",
            " \"verbose_score\": \"34.6/11.0/4.5/1.8 (BP = 1.000 ratio = 1.045 hyp_len = 12461 ref_len = 11929)\",\n",
            " \"nrefs\": \"1\",\n",
            " \"bs\": \"1000\",\n",
            " \"seed\": \"12345\",\n",
            " \"case\": \"mixed\",\n",
            " \"eff\": \"no\",\n",
            " \"tok\": \"intl\",\n",
            " \"smooth\": \"exp\",\n",
            " \"version\": \"2.0.0\"\n",
            "}\n",
            "\u001b[0m"
          ]
        }
      ]
    }
  ]
}