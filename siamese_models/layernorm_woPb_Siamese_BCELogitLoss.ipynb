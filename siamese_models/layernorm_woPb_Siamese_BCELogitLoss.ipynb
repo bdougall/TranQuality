{
  "nbformat": 4,
  "nbformat_minor": 0,
  "metadata": {
    "colab": {
      "name": "layernorm_woPb_Siamese_BCELogitLoss.ipynb",
      "provenance": [],
      "collapsed_sections": [],
      "machine_shape": "hm"
    },
    "kernelspec": {
      "name": "python3",
      "display_name": "Python 3"
    },
    "language_info": {
      "name": "python"
    },
    "accelerator": "GPU",
    "widgets": {
      "application/vnd.jupyter.widget-state+json": {
        "5fa205966bfa44968746e2c8083270b9": {
          "model_module": "@jupyter-widgets/controls",
          "model_name": "HBoxModel",
          "model_module_version": "1.5.0",
          "state": {
            "_view_name": "HBoxView",
            "_dom_classes": [],
            "_model_name": "HBoxModel",
            "_view_module": "@jupyter-widgets/controls",
            "_model_module_version": "1.5.0",
            "_view_count": null,
            "_view_module_version": "1.5.0",
            "box_style": "",
            "layout": "IPY_MODEL_c5ab3a81e48e485b8d5d86fc99063f47",
            "_model_module": "@jupyter-widgets/controls",
            "children": [
              "IPY_MODEL_a7c42280ae974e728cd38db3b3938bf6",
              "IPY_MODEL_bb97b4a8455a4cc2911500df8e71bb06",
              "IPY_MODEL_73141bccc7854ff28027065df3ce885c"
            ]
          }
        },
        "c5ab3a81e48e485b8d5d86fc99063f47": {
          "model_module": "@jupyter-widgets/base",
          "model_name": "LayoutModel",
          "model_module_version": "1.2.0",
          "state": {
            "_view_name": "LayoutView",
            "grid_template_rows": null,
            "right": null,
            "justify_content": null,
            "_view_module": "@jupyter-widgets/base",
            "overflow": null,
            "_model_module_version": "1.2.0",
            "_view_count": null,
            "flex_flow": null,
            "width": null,
            "min_width": null,
            "border": null,
            "align_items": null,
            "bottom": null,
            "_model_module": "@jupyter-widgets/base",
            "top": null,
            "grid_column": null,
            "overflow_y": null,
            "overflow_x": null,
            "grid_auto_flow": null,
            "grid_area": null,
            "grid_template_columns": null,
            "flex": null,
            "_model_name": "LayoutModel",
            "justify_items": null,
            "grid_row": null,
            "max_height": null,
            "align_content": null,
            "visibility": null,
            "align_self": null,
            "height": null,
            "min_height": null,
            "padding": null,
            "grid_auto_rows": null,
            "grid_gap": null,
            "max_width": null,
            "order": null,
            "_view_module_version": "1.2.0",
            "grid_template_areas": null,
            "object_position": null,
            "object_fit": null,
            "grid_auto_columns": null,
            "margin": null,
            "display": null,
            "left": null
          }
        },
        "a7c42280ae974e728cd38db3b3938bf6": {
          "model_module": "@jupyter-widgets/controls",
          "model_name": "HTMLModel",
          "model_module_version": "1.5.0",
          "state": {
            "_view_name": "HTMLView",
            "style": "IPY_MODEL_dcd5a158ecf44ecbbc5ea7bd09b6ad89",
            "_dom_classes": [],
            "description": "",
            "_model_name": "HTMLModel",
            "placeholder": "​",
            "_view_module": "@jupyter-widgets/controls",
            "_model_module_version": "1.5.0",
            "value": "Downloading: 100%",
            "_view_count": null,
            "_view_module_version": "1.5.0",
            "description_tooltip": null,
            "_model_module": "@jupyter-widgets/controls",
            "layout": "IPY_MODEL_6e0ac60758d64edaa0446e9f815258b9"
          }
        },
        "bb97b4a8455a4cc2911500df8e71bb06": {
          "model_module": "@jupyter-widgets/controls",
          "model_name": "FloatProgressModel",
          "model_module_version": "1.5.0",
          "state": {
            "_view_name": "ProgressView",
            "style": "IPY_MODEL_c6f79c0ac766415d8275d7f5a0800934",
            "_dom_classes": [],
            "description": "",
            "_model_name": "FloatProgressModel",
            "bar_style": "success",
            "max": 507,
            "_view_module": "@jupyter-widgets/controls",
            "_model_module_version": "1.5.0",
            "value": 507,
            "_view_count": null,
            "_view_module_version": "1.5.0",
            "orientation": "horizontal",
            "min": 0,
            "description_tooltip": null,
            "_model_module": "@jupyter-widgets/controls",
            "layout": "IPY_MODEL_7a74e780360a485fbb808b1768d34599"
          }
        },
        "73141bccc7854ff28027065df3ce885c": {
          "model_module": "@jupyter-widgets/controls",
          "model_name": "HTMLModel",
          "model_module_version": "1.5.0",
          "state": {
            "_view_name": "HTMLView",
            "style": "IPY_MODEL_7f97d415de1a481594c6541a913822d3",
            "_dom_classes": [],
            "description": "",
            "_model_name": "HTMLModel",
            "placeholder": "​",
            "_view_module": "@jupyter-widgets/controls",
            "_model_module_version": "1.5.0",
            "value": " 507/507 [00:00&lt;00:00, 14.3kB/s]",
            "_view_count": null,
            "_view_module_version": "1.5.0",
            "description_tooltip": null,
            "_model_module": "@jupyter-widgets/controls",
            "layout": "IPY_MODEL_64818ea31a424fd58c2fb18788648acc"
          }
        },
        "dcd5a158ecf44ecbbc5ea7bd09b6ad89": {
          "model_module": "@jupyter-widgets/controls",
          "model_name": "DescriptionStyleModel",
          "model_module_version": "1.5.0",
          "state": {
            "_view_name": "StyleView",
            "_model_name": "DescriptionStyleModel",
            "description_width": "",
            "_view_module": "@jupyter-widgets/base",
            "_model_module_version": "1.5.0",
            "_view_count": null,
            "_view_module_version": "1.2.0",
            "_model_module": "@jupyter-widgets/controls"
          }
        },
        "6e0ac60758d64edaa0446e9f815258b9": {
          "model_module": "@jupyter-widgets/base",
          "model_name": "LayoutModel",
          "model_module_version": "1.2.0",
          "state": {
            "_view_name": "LayoutView",
            "grid_template_rows": null,
            "right": null,
            "justify_content": null,
            "_view_module": "@jupyter-widgets/base",
            "overflow": null,
            "_model_module_version": "1.2.0",
            "_view_count": null,
            "flex_flow": null,
            "width": null,
            "min_width": null,
            "border": null,
            "align_items": null,
            "bottom": null,
            "_model_module": "@jupyter-widgets/base",
            "top": null,
            "grid_column": null,
            "overflow_y": null,
            "overflow_x": null,
            "grid_auto_flow": null,
            "grid_area": null,
            "grid_template_columns": null,
            "flex": null,
            "_model_name": "LayoutModel",
            "justify_items": null,
            "grid_row": null,
            "max_height": null,
            "align_content": null,
            "visibility": null,
            "align_self": null,
            "height": null,
            "min_height": null,
            "padding": null,
            "grid_auto_rows": null,
            "grid_gap": null,
            "max_width": null,
            "order": null,
            "_view_module_version": "1.2.0",
            "grid_template_areas": null,
            "object_position": null,
            "object_fit": null,
            "grid_auto_columns": null,
            "margin": null,
            "display": null,
            "left": null
          }
        },
        "c6f79c0ac766415d8275d7f5a0800934": {
          "model_module": "@jupyter-widgets/controls",
          "model_name": "ProgressStyleModel",
          "model_module_version": "1.5.0",
          "state": {
            "_view_name": "StyleView",
            "_model_name": "ProgressStyleModel",
            "description_width": "",
            "_view_module": "@jupyter-widgets/base",
            "_model_module_version": "1.5.0",
            "_view_count": null,
            "_view_module_version": "1.2.0",
            "bar_color": null,
            "_model_module": "@jupyter-widgets/controls"
          }
        },
        "7a74e780360a485fbb808b1768d34599": {
          "model_module": "@jupyter-widgets/base",
          "model_name": "LayoutModel",
          "model_module_version": "1.2.0",
          "state": {
            "_view_name": "LayoutView",
            "grid_template_rows": null,
            "right": null,
            "justify_content": null,
            "_view_module": "@jupyter-widgets/base",
            "overflow": null,
            "_model_module_version": "1.2.0",
            "_view_count": null,
            "flex_flow": null,
            "width": null,
            "min_width": null,
            "border": null,
            "align_items": null,
            "bottom": null,
            "_model_module": "@jupyter-widgets/base",
            "top": null,
            "grid_column": null,
            "overflow_y": null,
            "overflow_x": null,
            "grid_auto_flow": null,
            "grid_area": null,
            "grid_template_columns": null,
            "flex": null,
            "_model_name": "LayoutModel",
            "justify_items": null,
            "grid_row": null,
            "max_height": null,
            "align_content": null,
            "visibility": null,
            "align_self": null,
            "height": null,
            "min_height": null,
            "padding": null,
            "grid_auto_rows": null,
            "grid_gap": null,
            "max_width": null,
            "order": null,
            "_view_module_version": "1.2.0",
            "grid_template_areas": null,
            "object_position": null,
            "object_fit": null,
            "grid_auto_columns": null,
            "margin": null,
            "display": null,
            "left": null
          }
        },
        "7f97d415de1a481594c6541a913822d3": {
          "model_module": "@jupyter-widgets/controls",
          "model_name": "DescriptionStyleModel",
          "model_module_version": "1.5.0",
          "state": {
            "_view_name": "StyleView",
            "_model_name": "DescriptionStyleModel",
            "description_width": "",
            "_view_module": "@jupyter-widgets/base",
            "_model_module_version": "1.5.0",
            "_view_count": null,
            "_view_module_version": "1.2.0",
            "_model_module": "@jupyter-widgets/controls"
          }
        },
        "64818ea31a424fd58c2fb18788648acc": {
          "model_module": "@jupyter-widgets/base",
          "model_name": "LayoutModel",
          "model_module_version": "1.2.0",
          "state": {
            "_view_name": "LayoutView",
            "grid_template_rows": null,
            "right": null,
            "justify_content": null,
            "_view_module": "@jupyter-widgets/base",
            "overflow": null,
            "_model_module_version": "1.2.0",
            "_view_count": null,
            "flex_flow": null,
            "width": null,
            "min_width": null,
            "border": null,
            "align_items": null,
            "bottom": null,
            "_model_module": "@jupyter-widgets/base",
            "top": null,
            "grid_column": null,
            "overflow_y": null,
            "overflow_x": null,
            "grid_auto_flow": null,
            "grid_area": null,
            "grid_template_columns": null,
            "flex": null,
            "_model_name": "LayoutModel",
            "justify_items": null,
            "grid_row": null,
            "max_height": null,
            "align_content": null,
            "visibility": null,
            "align_self": null,
            "height": null,
            "min_height": null,
            "padding": null,
            "grid_auto_rows": null,
            "grid_gap": null,
            "max_width": null,
            "order": null,
            "_view_module_version": "1.2.0",
            "grid_template_areas": null,
            "object_position": null,
            "object_fit": null,
            "grid_auto_columns": null,
            "margin": null,
            "display": null,
            "left": null
          }
        },
        "1857324450934d65855d3238a2b3cebe": {
          "model_module": "@jupyter-widgets/controls",
          "model_name": "HBoxModel",
          "model_module_version": "1.5.0",
          "state": {
            "_view_name": "HBoxView",
            "_dom_classes": [],
            "_model_name": "HBoxModel",
            "_view_module": "@jupyter-widgets/controls",
            "_model_module_version": "1.5.0",
            "_view_count": null,
            "_view_module_version": "1.5.0",
            "box_style": "",
            "layout": "IPY_MODEL_4d04fbb86ed64db2932b898d2cae80c5",
            "_model_module": "@jupyter-widgets/controls",
            "children": [
              "IPY_MODEL_342b6445cff34385985e16d63ea130a5",
              "IPY_MODEL_8ca32a60425745349e37f0f98f7a2f18",
              "IPY_MODEL_5732f32cb5164f68a2985620bfda868e"
            ]
          }
        },
        "4d04fbb86ed64db2932b898d2cae80c5": {
          "model_module": "@jupyter-widgets/base",
          "model_name": "LayoutModel",
          "model_module_version": "1.2.0",
          "state": {
            "_view_name": "LayoutView",
            "grid_template_rows": null,
            "right": null,
            "justify_content": null,
            "_view_module": "@jupyter-widgets/base",
            "overflow": null,
            "_model_module_version": "1.2.0",
            "_view_count": null,
            "flex_flow": null,
            "width": null,
            "min_width": null,
            "border": null,
            "align_items": null,
            "bottom": null,
            "_model_module": "@jupyter-widgets/base",
            "top": null,
            "grid_column": null,
            "overflow_y": null,
            "overflow_x": null,
            "grid_auto_flow": null,
            "grid_area": null,
            "grid_template_columns": null,
            "flex": null,
            "_model_name": "LayoutModel",
            "justify_items": null,
            "grid_row": null,
            "max_height": null,
            "align_content": null,
            "visibility": null,
            "align_self": null,
            "height": null,
            "min_height": null,
            "padding": null,
            "grid_auto_rows": null,
            "grid_gap": null,
            "max_width": null,
            "order": null,
            "_view_module_version": "1.2.0",
            "grid_template_areas": null,
            "object_position": null,
            "object_fit": null,
            "grid_auto_columns": null,
            "margin": null,
            "display": null,
            "left": null
          }
        },
        "342b6445cff34385985e16d63ea130a5": {
          "model_module": "@jupyter-widgets/controls",
          "model_name": "HTMLModel",
          "model_module_version": "1.5.0",
          "state": {
            "_view_name": "HTMLView",
            "style": "IPY_MODEL_a51edc558a354bc4b94d9850aee64681",
            "_dom_classes": [],
            "description": "",
            "_model_name": "HTMLModel",
            "placeholder": "​",
            "_view_module": "@jupyter-widgets/controls",
            "_model_module_version": "1.5.0",
            "value": "Downloading: 100%",
            "_view_count": null,
            "_view_module_version": "1.5.0",
            "description_tooltip": null,
            "_model_module": "@jupyter-widgets/controls",
            "layout": "IPY_MODEL_37302cc773a64de5a80d590fac2c5ae5"
          }
        },
        "8ca32a60425745349e37f0f98f7a2f18": {
          "model_module": "@jupyter-widgets/controls",
          "model_name": "FloatProgressModel",
          "model_module_version": "1.5.0",
          "state": {
            "_view_name": "ProgressView",
            "style": "IPY_MODEL_aa3c2436e4e547ecb9f0afa0b99ca521",
            "_dom_classes": [],
            "description": "",
            "_model_name": "FloatProgressModel",
            "bar_style": "success",
            "max": 5646064,
            "_view_module": "@jupyter-widgets/controls",
            "_model_module_version": "1.5.0",
            "value": 5646064,
            "_view_count": null,
            "_view_module_version": "1.5.0",
            "orientation": "horizontal",
            "min": 0,
            "description_tooltip": null,
            "_model_module": "@jupyter-widgets/controls",
            "layout": "IPY_MODEL_09385377c9ec469bb78fb7e646056a6f"
          }
        },
        "5732f32cb5164f68a2985620bfda868e": {
          "model_module": "@jupyter-widgets/controls",
          "model_name": "HTMLModel",
          "model_module_version": "1.5.0",
          "state": {
            "_view_name": "HTMLView",
            "style": "IPY_MODEL_5fd41623090f4733870d5416e97646ec",
            "_dom_classes": [],
            "description": "",
            "_model_name": "HTMLModel",
            "placeholder": "​",
            "_view_module": "@jupyter-widgets/controls",
            "_model_module_version": "1.5.0",
            "value": " 5.38M/5.38M [00:01&lt;00:00, 6.58MB/s]",
            "_view_count": null,
            "_view_module_version": "1.5.0",
            "description_tooltip": null,
            "_model_module": "@jupyter-widgets/controls",
            "layout": "IPY_MODEL_d6219496e5974259aaaf7b81752dd8d8"
          }
        },
        "a51edc558a354bc4b94d9850aee64681": {
          "model_module": "@jupyter-widgets/controls",
          "model_name": "DescriptionStyleModel",
          "model_module_version": "1.5.0",
          "state": {
            "_view_name": "StyleView",
            "_model_name": "DescriptionStyleModel",
            "description_width": "",
            "_view_module": "@jupyter-widgets/base",
            "_model_module_version": "1.5.0",
            "_view_count": null,
            "_view_module_version": "1.2.0",
            "_model_module": "@jupyter-widgets/controls"
          }
        },
        "37302cc773a64de5a80d590fac2c5ae5": {
          "model_module": "@jupyter-widgets/base",
          "model_name": "LayoutModel",
          "model_module_version": "1.2.0",
          "state": {
            "_view_name": "LayoutView",
            "grid_template_rows": null,
            "right": null,
            "justify_content": null,
            "_view_module": "@jupyter-widgets/base",
            "overflow": null,
            "_model_module_version": "1.2.0",
            "_view_count": null,
            "flex_flow": null,
            "width": null,
            "min_width": null,
            "border": null,
            "align_items": null,
            "bottom": null,
            "_model_module": "@jupyter-widgets/base",
            "top": null,
            "grid_column": null,
            "overflow_y": null,
            "overflow_x": null,
            "grid_auto_flow": null,
            "grid_area": null,
            "grid_template_columns": null,
            "flex": null,
            "_model_name": "LayoutModel",
            "justify_items": null,
            "grid_row": null,
            "max_height": null,
            "align_content": null,
            "visibility": null,
            "align_self": null,
            "height": null,
            "min_height": null,
            "padding": null,
            "grid_auto_rows": null,
            "grid_gap": null,
            "max_width": null,
            "order": null,
            "_view_module_version": "1.2.0",
            "grid_template_areas": null,
            "object_position": null,
            "object_fit": null,
            "grid_auto_columns": null,
            "margin": null,
            "display": null,
            "left": null
          }
        },
        "aa3c2436e4e547ecb9f0afa0b99ca521": {
          "model_module": "@jupyter-widgets/controls",
          "model_name": "ProgressStyleModel",
          "model_module_version": "1.5.0",
          "state": {
            "_view_name": "StyleView",
            "_model_name": "ProgressStyleModel",
            "description_width": "",
            "_view_module": "@jupyter-widgets/base",
            "_model_module_version": "1.5.0",
            "_view_count": null,
            "_view_module_version": "1.2.0",
            "bar_color": null,
            "_model_module": "@jupyter-widgets/controls"
          }
        },
        "09385377c9ec469bb78fb7e646056a6f": {
          "model_module": "@jupyter-widgets/base",
          "model_name": "LayoutModel",
          "model_module_version": "1.2.0",
          "state": {
            "_view_name": "LayoutView",
            "grid_template_rows": null,
            "right": null,
            "justify_content": null,
            "_view_module": "@jupyter-widgets/base",
            "overflow": null,
            "_model_module_version": "1.2.0",
            "_view_count": null,
            "flex_flow": null,
            "width": null,
            "min_width": null,
            "border": null,
            "align_items": null,
            "bottom": null,
            "_model_module": "@jupyter-widgets/base",
            "top": null,
            "grid_column": null,
            "overflow_y": null,
            "overflow_x": null,
            "grid_auto_flow": null,
            "grid_area": null,
            "grid_template_columns": null,
            "flex": null,
            "_model_name": "LayoutModel",
            "justify_items": null,
            "grid_row": null,
            "max_height": null,
            "align_content": null,
            "visibility": null,
            "align_self": null,
            "height": null,
            "min_height": null,
            "padding": null,
            "grid_auto_rows": null,
            "grid_gap": null,
            "max_width": null,
            "order": null,
            "_view_module_version": "1.2.0",
            "grid_template_areas": null,
            "object_position": null,
            "object_fit": null,
            "grid_auto_columns": null,
            "margin": null,
            "display": null,
            "left": null
          }
        },
        "5fd41623090f4733870d5416e97646ec": {
          "model_module": "@jupyter-widgets/controls",
          "model_name": "DescriptionStyleModel",
          "model_module_version": "1.5.0",
          "state": {
            "_view_name": "StyleView",
            "_model_name": "DescriptionStyleModel",
            "description_width": "",
            "_view_module": "@jupyter-widgets/base",
            "_model_module_version": "1.5.0",
            "_view_count": null,
            "_view_module_version": "1.2.0",
            "_model_module": "@jupyter-widgets/controls"
          }
        },
        "d6219496e5974259aaaf7b81752dd8d8": {
          "model_module": "@jupyter-widgets/base",
          "model_name": "LayoutModel",
          "model_module_version": "1.2.0",
          "state": {
            "_view_name": "LayoutView",
            "grid_template_rows": null,
            "right": null,
            "justify_content": null,
            "_view_module": "@jupyter-widgets/base",
            "overflow": null,
            "_model_module_version": "1.2.0",
            "_view_count": null,
            "flex_flow": null,
            "width": null,
            "min_width": null,
            "border": null,
            "align_items": null,
            "bottom": null,
            "_model_module": "@jupyter-widgets/base",
            "top": null,
            "grid_column": null,
            "overflow_y": null,
            "overflow_x": null,
            "grid_auto_flow": null,
            "grid_area": null,
            "grid_template_columns": null,
            "flex": null,
            "_model_name": "LayoutModel",
            "justify_items": null,
            "grid_row": null,
            "max_height": null,
            "align_content": null,
            "visibility": null,
            "align_self": null,
            "height": null,
            "min_height": null,
            "padding": null,
            "grid_auto_rows": null,
            "grid_gap": null,
            "max_width": null,
            "order": null,
            "_view_module_version": "1.2.0",
            "grid_template_areas": null,
            "object_position": null,
            "object_fit": null,
            "grid_auto_columns": null,
            "margin": null,
            "display": null,
            "left": null
          }
        },
        "7fb710adc6ce473b8db45c10a4db8715": {
          "model_module": "@jupyter-widgets/controls",
          "model_name": "HBoxModel",
          "model_module_version": "1.5.0",
          "state": {
            "_view_name": "HBoxView",
            "_dom_classes": [],
            "_model_name": "HBoxModel",
            "_view_module": "@jupyter-widgets/controls",
            "_model_module_version": "1.5.0",
            "_view_count": null,
            "_view_module_version": "1.5.0",
            "box_style": "",
            "layout": "IPY_MODEL_4c3476d4d82a49e2bc726c902f631a11",
            "_model_module": "@jupyter-widgets/controls",
            "children": [
              "IPY_MODEL_d072001ada4c41e8a963c9ea6290658b",
              "IPY_MODEL_cc345dde9ce74684b9e07ec9f62042a8",
              "IPY_MODEL_a672bc38bb664fff930a6b4ee5520438"
            ]
          }
        },
        "4c3476d4d82a49e2bc726c902f631a11": {
          "model_module": "@jupyter-widgets/base",
          "model_name": "LayoutModel",
          "model_module_version": "1.2.0",
          "state": {
            "_view_name": "LayoutView",
            "grid_template_rows": null,
            "right": null,
            "justify_content": null,
            "_view_module": "@jupyter-widgets/base",
            "overflow": null,
            "_model_module_version": "1.2.0",
            "_view_count": null,
            "flex_flow": null,
            "width": null,
            "min_width": null,
            "border": null,
            "align_items": null,
            "bottom": null,
            "_model_module": "@jupyter-widgets/base",
            "top": null,
            "grid_column": null,
            "overflow_y": null,
            "overflow_x": null,
            "grid_auto_flow": null,
            "grid_area": null,
            "grid_template_columns": null,
            "flex": null,
            "_model_name": "LayoutModel",
            "justify_items": null,
            "grid_row": null,
            "max_height": null,
            "align_content": null,
            "visibility": null,
            "align_self": null,
            "height": null,
            "min_height": null,
            "padding": null,
            "grid_auto_rows": null,
            "grid_gap": null,
            "max_width": null,
            "order": null,
            "_view_module_version": "1.2.0",
            "grid_template_areas": null,
            "object_position": null,
            "object_fit": null,
            "grid_auto_columns": null,
            "margin": null,
            "display": null,
            "left": null
          }
        },
        "d072001ada4c41e8a963c9ea6290658b": {
          "model_module": "@jupyter-widgets/controls",
          "model_name": "HTMLModel",
          "model_module_version": "1.5.0",
          "state": {
            "_view_name": "HTMLView",
            "style": "IPY_MODEL_a7aa0f8fbc15455eafa4b27fbf833823",
            "_dom_classes": [],
            "description": "",
            "_model_name": "HTMLModel",
            "placeholder": "​",
            "_view_module": "@jupyter-widgets/controls",
            "_model_module_version": "1.5.0",
            "value": "Downloading: 100%",
            "_view_count": null,
            "_view_module_version": "1.5.0",
            "description_tooltip": null,
            "_model_module": "@jupyter-widgets/controls",
            "layout": "IPY_MODEL_d253f5a910574135904c830743ef00b5"
          }
        },
        "cc345dde9ce74684b9e07ec9f62042a8": {
          "model_module": "@jupyter-widgets/controls",
          "model_name": "FloatProgressModel",
          "model_module_version": "1.5.0",
          "state": {
            "_view_name": "ProgressView",
            "style": "IPY_MODEL_4be64b2d6f274fa983e5a874e5b5645a",
            "_dom_classes": [],
            "description": "",
            "_model_name": "FloatProgressModel",
            "bar_style": "success",
            "max": 134982446,
            "_view_module": "@jupyter-widgets/controls",
            "_model_module_version": "1.5.0",
            "value": 134982446,
            "_view_count": null,
            "_view_module_version": "1.5.0",
            "orientation": "horizontal",
            "min": 0,
            "description_tooltip": null,
            "_model_module": "@jupyter-widgets/controls",
            "layout": "IPY_MODEL_08af99f3583a44668951a192c535fd60"
          }
        },
        "a672bc38bb664fff930a6b4ee5520438": {
          "model_module": "@jupyter-widgets/controls",
          "model_name": "HTMLModel",
          "model_module_version": "1.5.0",
          "state": {
            "_view_name": "HTMLView",
            "style": "IPY_MODEL_b110071262174769af066589bce6d374",
            "_dom_classes": [],
            "description": "",
            "_model_name": "HTMLModel",
            "placeholder": "​",
            "_view_module": "@jupyter-widgets/controls",
            "_model_module_version": "1.5.0",
            "value": " 129M/129M [00:02&lt;00:00, 53.9MB/s]",
            "_view_count": null,
            "_view_module_version": "1.5.0",
            "description_tooltip": null,
            "_model_module": "@jupyter-widgets/controls",
            "layout": "IPY_MODEL_b231a9cc954546a2bb37d66b56c70d8a"
          }
        },
        "a7aa0f8fbc15455eafa4b27fbf833823": {
          "model_module": "@jupyter-widgets/controls",
          "model_name": "DescriptionStyleModel",
          "model_module_version": "1.5.0",
          "state": {
            "_view_name": "StyleView",
            "_model_name": "DescriptionStyleModel",
            "description_width": "",
            "_view_module": "@jupyter-widgets/base",
            "_model_module_version": "1.5.0",
            "_view_count": null,
            "_view_module_version": "1.2.0",
            "_model_module": "@jupyter-widgets/controls"
          }
        },
        "d253f5a910574135904c830743ef00b5": {
          "model_module": "@jupyter-widgets/base",
          "model_name": "LayoutModel",
          "model_module_version": "1.2.0",
          "state": {
            "_view_name": "LayoutView",
            "grid_template_rows": null,
            "right": null,
            "justify_content": null,
            "_view_module": "@jupyter-widgets/base",
            "overflow": null,
            "_model_module_version": "1.2.0",
            "_view_count": null,
            "flex_flow": null,
            "width": null,
            "min_width": null,
            "border": null,
            "align_items": null,
            "bottom": null,
            "_model_module": "@jupyter-widgets/base",
            "top": null,
            "grid_column": null,
            "overflow_y": null,
            "overflow_x": null,
            "grid_auto_flow": null,
            "grid_area": null,
            "grid_template_columns": null,
            "flex": null,
            "_model_name": "LayoutModel",
            "justify_items": null,
            "grid_row": null,
            "max_height": null,
            "align_content": null,
            "visibility": null,
            "align_self": null,
            "height": null,
            "min_height": null,
            "padding": null,
            "grid_auto_rows": null,
            "grid_gap": null,
            "max_width": null,
            "order": null,
            "_view_module_version": "1.2.0",
            "grid_template_areas": null,
            "object_position": null,
            "object_fit": null,
            "grid_auto_columns": null,
            "margin": null,
            "display": null,
            "left": null
          }
        },
        "4be64b2d6f274fa983e5a874e5b5645a": {
          "model_module": "@jupyter-widgets/controls",
          "model_name": "ProgressStyleModel",
          "model_module_version": "1.5.0",
          "state": {
            "_view_name": "StyleView",
            "_model_name": "ProgressStyleModel",
            "description_width": "",
            "_view_module": "@jupyter-widgets/base",
            "_model_module_version": "1.5.0",
            "_view_count": null,
            "_view_module_version": "1.2.0",
            "bar_color": null,
            "_model_module": "@jupyter-widgets/controls"
          }
        },
        "08af99f3583a44668951a192c535fd60": {
          "model_module": "@jupyter-widgets/base",
          "model_name": "LayoutModel",
          "model_module_version": "1.2.0",
          "state": {
            "_view_name": "LayoutView",
            "grid_template_rows": null,
            "right": null,
            "justify_content": null,
            "_view_module": "@jupyter-widgets/base",
            "overflow": null,
            "_model_module_version": "1.2.0",
            "_view_count": null,
            "flex_flow": null,
            "width": null,
            "min_width": null,
            "border": null,
            "align_items": null,
            "bottom": null,
            "_model_module": "@jupyter-widgets/base",
            "top": null,
            "grid_column": null,
            "overflow_y": null,
            "overflow_x": null,
            "grid_auto_flow": null,
            "grid_area": null,
            "grid_template_columns": null,
            "flex": null,
            "_model_name": "LayoutModel",
            "justify_items": null,
            "grid_row": null,
            "max_height": null,
            "align_content": null,
            "visibility": null,
            "align_self": null,
            "height": null,
            "min_height": null,
            "padding": null,
            "grid_auto_rows": null,
            "grid_gap": null,
            "max_width": null,
            "order": null,
            "_view_module_version": "1.2.0",
            "grid_template_areas": null,
            "object_position": null,
            "object_fit": null,
            "grid_auto_columns": null,
            "margin": null,
            "display": null,
            "left": null
          }
        },
        "b110071262174769af066589bce6d374": {
          "model_module": "@jupyter-widgets/controls",
          "model_name": "DescriptionStyleModel",
          "model_module_version": "1.5.0",
          "state": {
            "_view_name": "StyleView",
            "_model_name": "DescriptionStyleModel",
            "description_width": "",
            "_view_module": "@jupyter-widgets/base",
            "_model_module_version": "1.5.0",
            "_view_count": null,
            "_view_module_version": "1.2.0",
            "_model_module": "@jupyter-widgets/controls"
          }
        },
        "b231a9cc954546a2bb37d66b56c70d8a": {
          "model_module": "@jupyter-widgets/base",
          "model_name": "LayoutModel",
          "model_module_version": "1.2.0",
          "state": {
            "_view_name": "LayoutView",
            "grid_template_rows": null,
            "right": null,
            "justify_content": null,
            "_view_module": "@jupyter-widgets/base",
            "overflow": null,
            "_model_module_version": "1.2.0",
            "_view_count": null,
            "flex_flow": null,
            "width": null,
            "min_width": null,
            "border": null,
            "align_items": null,
            "bottom": null,
            "_model_module": "@jupyter-widgets/base",
            "top": null,
            "grid_column": null,
            "overflow_y": null,
            "overflow_x": null,
            "grid_auto_flow": null,
            "grid_area": null,
            "grid_template_columns": null,
            "flex": null,
            "_model_name": "LayoutModel",
            "justify_items": null,
            "grid_row": null,
            "max_height": null,
            "align_content": null,
            "visibility": null,
            "align_self": null,
            "height": null,
            "min_height": null,
            "padding": null,
            "grid_auto_rows": null,
            "grid_gap": null,
            "max_width": null,
            "order": null,
            "_view_module_version": "1.2.0",
            "grid_template_areas": null,
            "object_position": null,
            "object_fit": null,
            "grid_auto_columns": null,
            "margin": null,
            "display": null,
            "left": null
          }
        },
        "d3071280a00749dabd25e9d4750d27ec": {
          "model_module": "@jupyter-widgets/controls",
          "model_name": "HBoxModel",
          "model_module_version": "1.5.0",
          "state": {
            "_view_name": "HBoxView",
            "_dom_classes": [],
            "_model_name": "HBoxModel",
            "_view_module": "@jupyter-widgets/controls",
            "_model_module_version": "1.5.0",
            "_view_count": null,
            "_view_module_version": "1.5.0",
            "box_style": "",
            "layout": "IPY_MODEL_4fba33c03247453398fb4ece933b6932",
            "_model_module": "@jupyter-widgets/controls",
            "children": [
              "IPY_MODEL_74844d661abf4cd787a6968a97731553",
              "IPY_MODEL_16760cea53494e2a85a1ea6d4c4b97b4",
              "IPY_MODEL_bc9462d2c9bb4fbc81bc4040f13f16ca"
            ]
          }
        },
        "4fba33c03247453398fb4ece933b6932": {
          "model_module": "@jupyter-widgets/base",
          "model_name": "LayoutModel",
          "model_module_version": "1.2.0",
          "state": {
            "_view_name": "LayoutView",
            "grid_template_rows": null,
            "right": null,
            "justify_content": null,
            "_view_module": "@jupyter-widgets/base",
            "overflow": null,
            "_model_module_version": "1.2.0",
            "_view_count": null,
            "flex_flow": null,
            "width": null,
            "min_width": null,
            "border": null,
            "align_items": null,
            "bottom": null,
            "_model_module": "@jupyter-widgets/base",
            "top": null,
            "grid_column": null,
            "overflow_y": null,
            "overflow_x": null,
            "grid_auto_flow": null,
            "grid_area": null,
            "grid_template_columns": null,
            "flex": null,
            "_model_name": "LayoutModel",
            "justify_items": null,
            "grid_row": null,
            "max_height": null,
            "align_content": null,
            "visibility": null,
            "align_self": null,
            "height": null,
            "min_height": null,
            "padding": null,
            "grid_auto_rows": null,
            "grid_gap": null,
            "max_width": null,
            "order": null,
            "_view_module_version": "1.2.0",
            "grid_template_areas": null,
            "object_position": null,
            "object_fit": null,
            "grid_auto_columns": null,
            "margin": null,
            "display": null,
            "left": null
          }
        },
        "74844d661abf4cd787a6968a97731553": {
          "model_module": "@jupyter-widgets/controls",
          "model_name": "HTMLModel",
          "model_module_version": "1.5.0",
          "state": {
            "_view_name": "HTMLView",
            "style": "IPY_MODEL_61936af8eb4d4ace9a2e6187e2eda623",
            "_dom_classes": [],
            "description": "",
            "_model_name": "HTMLModel",
            "placeholder": "​",
            "_view_module": "@jupyter-widgets/controls",
            "_model_module_version": "1.5.0",
            "value": "100%",
            "_view_count": null,
            "_view_module_version": "1.5.0",
            "description_tooltip": null,
            "_model_module": "@jupyter-widgets/controls",
            "layout": "IPY_MODEL_9e29ca15baed4b77b3b644c918517ebe"
          }
        },
        "16760cea53494e2a85a1ea6d4c4b97b4": {
          "model_module": "@jupyter-widgets/controls",
          "model_name": "FloatProgressModel",
          "model_module_version": "1.5.0",
          "state": {
            "_view_name": "ProgressView",
            "style": "IPY_MODEL_cc98d0154cab4633bc722ebb9e9e3d46",
            "_dom_classes": [],
            "description": "",
            "_model_name": "FloatProgressModel",
            "bar_style": "success",
            "max": 10,
            "_view_module": "@jupyter-widgets/controls",
            "_model_module_version": "1.5.0",
            "value": 10,
            "_view_count": null,
            "_view_module_version": "1.5.0",
            "orientation": "horizontal",
            "min": 0,
            "description_tooltip": null,
            "_model_module": "@jupyter-widgets/controls",
            "layout": "IPY_MODEL_a93e43da3f68401d9b504c6c140f0c8e"
          }
        },
        "bc9462d2c9bb4fbc81bc4040f13f16ca": {
          "model_module": "@jupyter-widgets/controls",
          "model_name": "HTMLModel",
          "model_module_version": "1.5.0",
          "state": {
            "_view_name": "HTMLView",
            "style": "IPY_MODEL_b93caf43a72d4d699f1a923511016abe",
            "_dom_classes": [],
            "description": "",
            "_model_name": "HTMLModel",
            "placeholder": "​",
            "_view_module": "@jupyter-widgets/controls",
            "_model_module_version": "1.5.0",
            "value": " 10/10 [23:09&lt;00:00, 138.92s/it]",
            "_view_count": null,
            "_view_module_version": "1.5.0",
            "description_tooltip": null,
            "_model_module": "@jupyter-widgets/controls",
            "layout": "IPY_MODEL_848a33f8b880478996266d46e75afd28"
          }
        },
        "61936af8eb4d4ace9a2e6187e2eda623": {
          "model_module": "@jupyter-widgets/controls",
          "model_name": "DescriptionStyleModel",
          "model_module_version": "1.5.0",
          "state": {
            "_view_name": "StyleView",
            "_model_name": "DescriptionStyleModel",
            "description_width": "",
            "_view_module": "@jupyter-widgets/base",
            "_model_module_version": "1.5.0",
            "_view_count": null,
            "_view_module_version": "1.2.0",
            "_model_module": "@jupyter-widgets/controls"
          }
        },
        "9e29ca15baed4b77b3b644c918517ebe": {
          "model_module": "@jupyter-widgets/base",
          "model_name": "LayoutModel",
          "model_module_version": "1.2.0",
          "state": {
            "_view_name": "LayoutView",
            "grid_template_rows": null,
            "right": null,
            "justify_content": null,
            "_view_module": "@jupyter-widgets/base",
            "overflow": null,
            "_model_module_version": "1.2.0",
            "_view_count": null,
            "flex_flow": null,
            "width": null,
            "min_width": null,
            "border": null,
            "align_items": null,
            "bottom": null,
            "_model_module": "@jupyter-widgets/base",
            "top": null,
            "grid_column": null,
            "overflow_y": null,
            "overflow_x": null,
            "grid_auto_flow": null,
            "grid_area": null,
            "grid_template_columns": null,
            "flex": null,
            "_model_name": "LayoutModel",
            "justify_items": null,
            "grid_row": null,
            "max_height": null,
            "align_content": null,
            "visibility": null,
            "align_self": null,
            "height": null,
            "min_height": null,
            "padding": null,
            "grid_auto_rows": null,
            "grid_gap": null,
            "max_width": null,
            "order": null,
            "_view_module_version": "1.2.0",
            "grid_template_areas": null,
            "object_position": null,
            "object_fit": null,
            "grid_auto_columns": null,
            "margin": null,
            "display": null,
            "left": null
          }
        },
        "cc98d0154cab4633bc722ebb9e9e3d46": {
          "model_module": "@jupyter-widgets/controls",
          "model_name": "ProgressStyleModel",
          "model_module_version": "1.5.0",
          "state": {
            "_view_name": "StyleView",
            "_model_name": "ProgressStyleModel",
            "description_width": "",
            "_view_module": "@jupyter-widgets/base",
            "_model_module_version": "1.5.0",
            "_view_count": null,
            "_view_module_version": "1.2.0",
            "bar_color": null,
            "_model_module": "@jupyter-widgets/controls"
          }
        },
        "a93e43da3f68401d9b504c6c140f0c8e": {
          "model_module": "@jupyter-widgets/base",
          "model_name": "LayoutModel",
          "model_module_version": "1.2.0",
          "state": {
            "_view_name": "LayoutView",
            "grid_template_rows": null,
            "right": null,
            "justify_content": null,
            "_view_module": "@jupyter-widgets/base",
            "overflow": null,
            "_model_module_version": "1.2.0",
            "_view_count": null,
            "flex_flow": null,
            "width": null,
            "min_width": null,
            "border": null,
            "align_items": null,
            "bottom": null,
            "_model_module": "@jupyter-widgets/base",
            "top": null,
            "grid_column": null,
            "overflow_y": null,
            "overflow_x": null,
            "grid_auto_flow": null,
            "grid_area": null,
            "grid_template_columns": null,
            "flex": null,
            "_model_name": "LayoutModel",
            "justify_items": null,
            "grid_row": null,
            "max_height": null,
            "align_content": null,
            "visibility": null,
            "align_self": null,
            "height": null,
            "min_height": null,
            "padding": null,
            "grid_auto_rows": null,
            "grid_gap": null,
            "max_width": null,
            "order": null,
            "_view_module_version": "1.2.0",
            "grid_template_areas": null,
            "object_position": null,
            "object_fit": null,
            "grid_auto_columns": null,
            "margin": null,
            "display": null,
            "left": null
          }
        },
        "b93caf43a72d4d699f1a923511016abe": {
          "model_module": "@jupyter-widgets/controls",
          "model_name": "DescriptionStyleModel",
          "model_module_version": "1.5.0",
          "state": {
            "_view_name": "StyleView",
            "_model_name": "DescriptionStyleModel",
            "description_width": "",
            "_view_module": "@jupyter-widgets/base",
            "_model_module_version": "1.5.0",
            "_view_count": null,
            "_view_module_version": "1.2.0",
            "_model_module": "@jupyter-widgets/controls"
          }
        },
        "848a33f8b880478996266d46e75afd28": {
          "model_module": "@jupyter-widgets/base",
          "model_name": "LayoutModel",
          "model_module_version": "1.2.0",
          "state": {
            "_view_name": "LayoutView",
            "grid_template_rows": null,
            "right": null,
            "justify_content": null,
            "_view_module": "@jupyter-widgets/base",
            "overflow": null,
            "_model_module_version": "1.2.0",
            "_view_count": null,
            "flex_flow": null,
            "width": null,
            "min_width": null,
            "border": null,
            "align_items": null,
            "bottom": null,
            "_model_module": "@jupyter-widgets/base",
            "top": null,
            "grid_column": null,
            "overflow_y": null,
            "overflow_x": null,
            "grid_auto_flow": null,
            "grid_area": null,
            "grid_template_columns": null,
            "flex": null,
            "_model_name": "LayoutModel",
            "justify_items": null,
            "grid_row": null,
            "max_height": null,
            "align_content": null,
            "visibility": null,
            "align_self": null,
            "height": null,
            "min_height": null,
            "padding": null,
            "grid_auto_rows": null,
            "grid_gap": null,
            "max_width": null,
            "order": null,
            "_view_module_version": "1.2.0",
            "grid_template_areas": null,
            "object_position": null,
            "object_fit": null,
            "grid_auto_columns": null,
            "margin": null,
            "display": null,
            "left": null
          }
        }
      }
    }
  },
  "cells": [
    {
      "cell_type": "code",
      "metadata": {
        "id": "aEpKvDqBjyjy",
        "colab": {
          "base_uri": "https://localhost:8080/"
        },
        "outputId": "251c4752-01c3-4336-acc4-0a9d5b992aba"
      },
      "source": [
        "!pip install transformers -q\n",
        "!pip install sentencepiece -q"
      ],
      "execution_count": null,
      "outputs": [
        {
          "output_type": "stream",
          "name": "stdout",
          "text": [
            "\u001b[K     |████████████████████████████████| 3.1 MB 4.2 MB/s \n",
            "\u001b[K     |████████████████████████████████| 3.3 MB 57.2 MB/s \n",
            "\u001b[K     |████████████████████████████████| 895 kB 52.2 MB/s \n",
            "\u001b[K     |████████████████████████████████| 59 kB 8.5 MB/s \n",
            "\u001b[K     |████████████████████████████████| 596 kB 72.1 MB/s \n",
            "\u001b[K     |████████████████████████████████| 1.2 MB 4.2 MB/s \n",
            "\u001b[?25h"
          ]
        }
      ]
    },
    {
      "cell_type": "code",
      "metadata": {
        "colab": {
          "base_uri": "https://localhost:8080/"
        },
        "id": "Xh4ZQuEAhyf1",
        "outputId": "8b92ef65-69ef-4ab8-8654-269c59c548e7"
      },
      "source": [
        "# # Mount Google drive to upload datasets\n",
        "from google.colab import drive\n",
        "drive.mount('/content/drive')"
      ],
      "execution_count": null,
      "outputs": [
        {
          "output_type": "stream",
          "name": "stdout",
          "text": [
            "Mounted at /content/drive\n"
          ]
        }
      ]
    },
    {
      "cell_type": "code",
      "metadata": {
        "id": "AFt05MH047S_"
      },
      "source": [
        "# The path to the data on my drive\n",
        "D = '/content/drive/My Drive/W266_Project_Data/pmi_data'"
      ],
      "execution_count": null,
      "outputs": []
    },
    {
      "cell_type": "code",
      "metadata": {
        "id": "73eMNw7I42QK"
      },
      "source": [
        "# Import the necessary libraries\n",
        "import numpy as np\n",
        "import pandas as pd\n",
        "import copy\n",
        "from tqdm.auto import tqdm\n",
        "from transformers import AutoTokenizer, AutoModel\n",
        "\n",
        "import torch\n",
        "from torch.utils.data import Dataset, DataLoader, WeightedRandomSampler\n",
        "from torch import optim\n",
        "import torch.nn.functional as F\n",
        "from torch.cuda.amp import GradScaler, autocast\n",
        "\n",
        "from sklearn.model_selection import train_test_split\n",
        "from sklearn.metrics import f1_score, accuracy_score, confusion_matrix, classification_report\n",
        "import seaborn as sns\n",
        "import matplotlib.pyplot as plt"
      ],
      "execution_count": null,
      "outputs": []
    },
    {
      "cell_type": "code",
      "metadata": {
        "id": "gtAUzNkoBvA1"
      },
      "source": [
        "# Load the paraphrase training, dev, and test sets previously created\n",
        "paraphrase_train = pd.read_csv(D+\"/xml/amrita-paraphrase-exact/paraphrase_train.csv\")\n",
        "paraphrase_train.drop(columns={\"Unnamed: 0\"}, inplace=True)\n",
        "\n",
        "paraphrase_dev = pd.read_csv(D+\"/xml/amrita-paraphrase-exact/paraphrase_dev.csv\")\n",
        "paraphrase_dev.drop(columns={\"Unnamed: 0\"}, inplace=True)\n",
        "\n",
        "paraphrase_test = pd.read_csv(D+\"/xml/amrita-paraphrase-exact/paraphrase_test.csv\")\n",
        "paraphrase_test.drop(columns={\"Unnamed: 0\"}, inplace=True)"
      ],
      "execution_count": null,
      "outputs": []
    },
    {
      "cell_type": "code",
      "metadata": {
        "colab": {
          "base_uri": "https://localhost:8080/",
          "height": 206
        },
        "id": "EbGANsqSftnV",
        "outputId": "5547ce04-9407-419d-fbe9-d27d71edd7ab"
      },
      "source": [
        "paraphrase_train.head()"
      ],
      "execution_count": null,
      "outputs": [
        {
          "output_type": "execute_result",
          "data": {
            "text/html": [
              "<div>\n",
              "<style scoped>\n",
              "    .dataframe tbody tr th:only-of-type {\n",
              "        vertical-align: middle;\n",
              "    }\n",
              "\n",
              "    .dataframe tbody tr th {\n",
              "        vertical-align: top;\n",
              "    }\n",
              "\n",
              "    .dataframe thead th {\n",
              "        text-align: right;\n",
              "    }\n",
              "</style>\n",
              "<table border=\"1\" class=\"dataframe\">\n",
              "  <thead>\n",
              "    <tr style=\"text-align: right;\">\n",
              "      <th></th>\n",
              "      <th>sentence_1</th>\n",
              "      <th>sentence_2</th>\n",
              "      <th>label</th>\n",
              "      <th>language_task</th>\n",
              "    </tr>\n",
              "  </thead>\n",
              "  <tbody>\n",
              "    <tr>\n",
              "      <th>0</th>\n",
              "      <td>इससे पहले के दो मैचों में मुझे बल्लेबाजी के ल...</td>\n",
              "      <td>जवाब में पाकिस्तान की टीम मात्र एक सौ उन्सत्तर...</td>\n",
              "      <td>0</td>\n",
              "      <td>translate English to Hindi</td>\n",
              "    </tr>\n",
              "    <tr>\n",
              "      <th>1</th>\n",
              "      <td>ക്ലൈമാക്‌സ് അവസാനം എഴുതിക്കാണിക്കുമ്പോള്‍ മാത്...</td>\n",
              "      <td>ട്രെയ്‌ലര്‍ നോക്കി സിനിമ കാണാന്‍ ഇറങ്ങിയാല്‍ ഇ...</td>\n",
              "      <td>0</td>\n",
              "      <td>translate English to Malayalam</td>\n",
              "    </tr>\n",
              "    <tr>\n",
              "      <th>2</th>\n",
              "      <td>தாவூத் இப்ராகிம் - மராட்டிய மந்திரி இடையே போனி...</td>\n",
              "      <td>நிழல் உலக தாதா தாவூத் இப்ராகிம் மற்றும் மராட்ட...</td>\n",
              "      <td>1</td>\n",
              "      <td>translate English to Tamil</td>\n",
              "    </tr>\n",
              "    <tr>\n",
              "      <th>3</th>\n",
              "      <td>കഴിഞ്ഞ സീസണുകളില്‍ ബാറ്റ്സ്മാനെന്ന നിലയില്‍ ടീ...</td>\n",
              "      <td>സ്കോറുയർത്തുന്നതിലും പിന്തുടരുന്നതിലും ധോണി ...</td>\n",
              "      <td>0</td>\n",
              "      <td>translate English to Malayalam</td>\n",
              "    </tr>\n",
              "    <tr>\n",
              "      <th>4</th>\n",
              "      <td>നിയമസഭാ തെരഞ്ഞെടുപ്പില്‍ വന്‍ തിരിച്ചടിയുണ്ടായ...</td>\n",
              "      <td>തെരഞ്ഞെടുപ്പില്‍ തോറ്റതോടെ പ്രതിപക്ഷ നേതാവാകാന...</td>\n",
              "      <td>0</td>\n",
              "      <td>translate English to Malayalam</td>\n",
              "    </tr>\n",
              "  </tbody>\n",
              "</table>\n",
              "</div>"
            ],
            "text/plain": [
              "                                          sentence_1  ...                   language_task\n",
              "0   इससे पहले के दो मैचों में मुझे बल्लेबाजी के ल...  ...      translate English to Hindi\n",
              "1  ക്ലൈമാക്‌സ് അവസാനം എഴുതിക്കാണിക്കുമ്പോള്‍ മാത്...  ...  translate English to Malayalam\n",
              "2  தாவூத் இப்ராகிம் - மராட்டிய மந்திரி இடையே போனி...  ...      translate English to Tamil\n",
              "3  കഴിഞ്ഞ സീസണുകളില്‍ ബാറ്റ്സ്മാനെന്ന നിലയില്‍ ടീ...  ...  translate English to Malayalam\n",
              "4  നിയമസഭാ തെരഞ്ഞെടുപ്പില്‍ വന്‍ തിരിച്ചടിയുണ്ടായ...  ...  translate English to Malayalam\n",
              "\n",
              "[5 rows x 4 columns]"
            ]
          },
          "metadata": {},
          "execution_count": 6
        }
      ]
    },
    {
      "cell_type": "code",
      "metadata": {
        "id": "0dji4wrx9Q8h"
      },
      "source": [
        "# Set up the device to run on GPU if available\n",
        "device = torch.device('cuda') if torch.cuda.is_available() else torch.device('cpu')"
      ],
      "execution_count": null,
      "outputs": []
    },
    {
      "cell_type": "code",
      "metadata": {
        "colab": {
          "base_uri": "https://localhost:8080/",
          "height": 185,
          "referenced_widgets": [
            "5fa205966bfa44968746e2c8083270b9",
            "c5ab3a81e48e485b8d5d86fc99063f47",
            "a7c42280ae974e728cd38db3b3938bf6",
            "bb97b4a8455a4cc2911500df8e71bb06",
            "73141bccc7854ff28027065df3ce885c",
            "dcd5a158ecf44ecbbc5ea7bd09b6ad89",
            "6e0ac60758d64edaa0446e9f815258b9",
            "c6f79c0ac766415d8275d7f5a0800934",
            "7a74e780360a485fbb808b1768d34599",
            "7f97d415de1a481594c6541a913822d3",
            "64818ea31a424fd58c2fb18788648acc",
            "1857324450934d65855d3238a2b3cebe",
            "4d04fbb86ed64db2932b898d2cae80c5",
            "342b6445cff34385985e16d63ea130a5",
            "8ca32a60425745349e37f0f98f7a2f18",
            "5732f32cb5164f68a2985620bfda868e",
            "a51edc558a354bc4b94d9850aee64681",
            "37302cc773a64de5a80d590fac2c5ae5",
            "aa3c2436e4e547ecb9f0afa0b99ca521",
            "09385377c9ec469bb78fb7e646056a6f",
            "5fd41623090f4733870d5416e97646ec",
            "d6219496e5974259aaaf7b81752dd8d8",
            "7fb710adc6ce473b8db45c10a4db8715",
            "4c3476d4d82a49e2bc726c902f631a11",
            "d072001ada4c41e8a963c9ea6290658b",
            "cc345dde9ce74684b9e07ec9f62042a8",
            "a672bc38bb664fff930a6b4ee5520438",
            "a7aa0f8fbc15455eafa4b27fbf833823",
            "d253f5a910574135904c830743ef00b5",
            "4be64b2d6f274fa983e5a874e5b5645a",
            "08af99f3583a44668951a192c535fd60",
            "b110071262174769af066589bce6d374",
            "b231a9cc954546a2bb37d66b56c70d8a"
          ]
        },
        "id": "X0QlHNG50J3f",
        "outputId": "04a597ed-4c6f-4e98-ebc8-53fe64023466"
      },
      "source": [
        "# Create an instance of the tokenizer and model using Indic Bert\n",
        "tokenizer = AutoTokenizer.from_pretrained('ai4bharat/indic-bert', keep_accents=True)\n",
        "model = AutoModel.from_pretrained('ai4bharat/indic-bert')"
      ],
      "execution_count": null,
      "outputs": [
        {
          "output_type": "display_data",
          "data": {
            "application/vnd.jupyter.widget-view+json": {
              "model_id": "5fa205966bfa44968746e2c8083270b9",
              "version_minor": 0,
              "version_major": 2
            },
            "text/plain": [
              "Downloading:   0%|          | 0.00/507 [00:00<?, ?B/s]"
            ]
          },
          "metadata": {}
        },
        {
          "output_type": "display_data",
          "data": {
            "application/vnd.jupyter.widget-view+json": {
              "model_id": "1857324450934d65855d3238a2b3cebe",
              "version_minor": 0,
              "version_major": 2
            },
            "text/plain": [
              "Downloading:   0%|          | 0.00/5.38M [00:00<?, ?B/s]"
            ]
          },
          "metadata": {}
        },
        {
          "output_type": "display_data",
          "data": {
            "application/vnd.jupyter.widget-view+json": {
              "model_id": "7fb710adc6ce473b8db45c10a4db8715",
              "version_minor": 0,
              "version_major": 2
            },
            "text/plain": [
              "Downloading:   0%|          | 0.00/129M [00:00<?, ?B/s]"
            ]
          },
          "metadata": {}
        },
        {
          "output_type": "stream",
          "name": "stderr",
          "text": [
            "Some weights of the model checkpoint at ai4bharat/indic-bert were not used when initializing AlbertModel: ['predictions.decoder.bias', 'predictions.LayerNorm.bias', 'predictions.dense.weight', 'sop_classifier.classifier.weight', 'predictions.dense.bias', 'predictions.bias', 'sop_classifier.classifier.bias', 'predictions.LayerNorm.weight', 'predictions.decoder.weight']\n",
            "- This IS expected if you are initializing AlbertModel from the checkpoint of a model trained on another task or with another architecture (e.g. initializing a BertForSequenceClassification model from a BertForPreTraining model).\n",
            "- This IS NOT expected if you are initializing AlbertModel from the checkpoint of a model that you expect to be exactly identical (initializing a BertForSequenceClassification model from a BertForSequenceClassification model).\n"
          ]
        }
      ]
    },
    {
      "cell_type": "code",
      "metadata": {
        "id": "lxDEP5ZAL5DP"
      },
      "source": [
        "# Mean Pooling - Take attention mask into account for correct averaging\n",
        "def mean_pooling(model_output, attention_mask):\n",
        "    token_embeddings = model_output[0]\n",
        "    input_mask_expanded = attention_mask.unsqueeze(-1).expand(token_embeddings.size()).float()\n",
        "    sum_embeddings = torch.sum(token_embeddings * input_mask_expanded, 1)\n",
        "    sum_mask = torch.clamp(input_mask_expanded.sum(1), min=1e-9)\n",
        "    return sum_embeddings / sum_mask\n",
        "\n",
        "def sentence_embeddings(device, tokenizer, model, sentences):\n",
        "  \"\"\"Create contextualized sentence embeddings\n",
        "  \n",
        "  Parameters:\n",
        "  tokenizer: transformers tokenizer for creating word tokens\n",
        "  model:\n",
        "  sentences: sentences to generate sentence embeddings for\n",
        "  \"\"\"\n",
        "\n",
        "  # Tokenize sentences and return PyTorch tensors\n",
        "  encoded_input = tokenizer(sentences, padding=True, truncation=True, \n",
        "                            max_length=128, return_tensors='pt')\n",
        "  encoded_input = encoded_input.to(device)\n",
        "  \n",
        "  # Pass the tokenized input to the model \n",
        "  with torch.no_grad():\n",
        "    model.to(device)\n",
        "    model_output = model(**encoded_input) \n",
        "  \n",
        "  # Perform mean pooling to get total sentence embeddings\n",
        "  sentence_embeddings = mean_pooling(model_output, \n",
        "                                     encoded_input['attention_mask'])\n",
        "  \n",
        "  return sentence_embeddings"
      ],
      "execution_count": null,
      "outputs": []
    },
    {
      "cell_type": "code",
      "metadata": {
        "id": "8jioG5HS5zVW"
      },
      "source": [
        "# An object to split and parse the training and test data fields\n",
        "class SiameseNetworkDataset(Dataset): \n",
        "  def __init__(self,training_df, device, tokenizer, model):\n",
        "    self.training_df=training_df\n",
        "    self.sent1 = self.training_df['sentence_1'].tolist()\n",
        "    self.sent2 = self.training_df['sentence_2'].tolist()\n",
        "    self.language_task = self.training_df['language_task'].tolist()\n",
        "    self.label = self.training_df['label'].tolist()\n",
        "    self.device = device\n",
        "    self.tokenizer = tokenizer\n",
        "    self.model = model\n",
        "\n",
        "  def __getitem__(self, index):\n",
        "    sent1 = self.sent1[index]\n",
        "    sent2 = self.sent2[index]\n",
        "    task = self.language_task[index]\n",
        "    label = self.label[index]\n",
        "\n",
        "    # Get the sentence embeddings for sentences 1 and 2 for each row\n",
        "    sent1_embeddings = sentence_embeddings(self.device, self.tokenizer, self.model, sent1)\n",
        "    sent2_embeddings = sentence_embeddings(self.device, self.tokenizer, self.model, sent2)\n",
        "    return sent1_embeddings, sent2_embeddings, task, torch.from_numpy(np.array(label)).long()\n",
        "\n",
        "  def __len__(self):\n",
        "    return len(self.training_df)"
      ],
      "execution_count": null,
      "outputs": []
    },
    {
      "cell_type": "code",
      "metadata": {
        "id": "FXISLYSfpF77"
      },
      "source": [
        "# Create separate instances of the Siamese Network dataset class using training, dev, and testing data\n",
        "siamese_train = SiameseNetworkDataset(paraphrase_train, device, tokenizer, model)\n",
        "siamese_dev = SiameseNetworkDataset(paraphrase_dev, device, tokenizer, model)\n",
        "siamese_test = SiameseNetworkDataset(paraphrase_test, device, tokenizer, model)"
      ],
      "execution_count": null,
      "outputs": []
    },
    {
      "cell_type": "code",
      "metadata": {
        "id": "PfvUrnFapXHY"
      },
      "source": [
        "# Get the label for every row in the training dataset and convert it to tensor form\n",
        "target_list = []\n",
        "\n",
        "for sent1, sent2, task, label in siamese_train:\n",
        "  target_list.append(label)\n",
        "\n",
        "# Store the torch form of the target label   \n",
        "target_list = torch.tensor(target_list)"
      ],
      "execution_count": null,
      "outputs": []
    },
    {
      "cell_type": "code",
      "metadata": {
        "colab": {
          "base_uri": "https://localhost:8080/"
        },
        "id": "PegVArvcp0Kp",
        "outputId": "0218c658-f393-4aa6-c888-fa602d427472"
      },
      "source": [
        "# Weight the labels by their frequency in the dataset - this will help our accuracy if there is an imbalance in classes (P vs NP)\n",
        "class_count = [len(paraphrase_train[paraphrase_train.label == 0]),len(paraphrase_train[paraphrase_train.label == 1])]\n",
        "print(class_count)\n",
        "class_weights = 1./torch.tensor(class_count, dtype=torch.float) \n",
        "print(class_weights)"
      ],
      "execution_count": null,
      "outputs": [
        {
          "output_type": "stream",
          "name": "stdout",
          "text": [
            "[4500, 3000]\n",
            "tensor([0.0002, 0.0003])\n"
          ]
        }
      ]
    },
    {
      "cell_type": "code",
      "metadata": {
        "id": "baoGtrVCwDB2"
      },
      "source": [
        "# Create a list of the weighted labels to pass to the dataloader object\n",
        "class_weights_all = class_weights[target_list]"
      ],
      "execution_count": null,
      "outputs": []
    },
    {
      "cell_type": "code",
      "metadata": {
        "id": "Q3N0bGQ2xOTq"
      },
      "source": [
        "# Create the weighted sampler object to pass to the training data loader\n",
        "weighted_sampler = WeightedRandomSampler(\n",
        "    weights=class_weights_all,\n",
        "    num_samples=len(class_weights_all),\n",
        "    replacement=True\n",
        ")"
      ],
      "execution_count": null,
      "outputs": []
    },
    {
      "cell_type": "code",
      "metadata": {
        "id": "wW18Wb2xaYqx"
      },
      "source": [
        "# Pass the training data into the training loader \n",
        "train_loader = DataLoader(siamese_train, batch_size = 16, sampler=weighted_sampler)\n",
        "\n",
        "# Create the dev and test data loaders\n",
        "val_loader = DataLoader(siamese_dev, batch_size=16)\n",
        "test_loader = DataLoader(siamese_test, batch_size=16)"
      ],
      "execution_count": null,
      "outputs": []
    },
    {
      "cell_type": "code",
      "metadata": {
        "id": "8214ILXnuyoe"
      },
      "source": [
        "class SiameseNet(torch.nn.Module):\n",
        "    def __init__(self):\n",
        "      super(SiameseNet, self).__init__()\n",
        "\n",
        "      # Set up a fully-connected layer to apply to each incoming sentence vector\n",
        "      # Use a dense layer (nn.Linear) to reduce the dimensionality of the input embeddings\n",
        "      # use a relu activation function\n",
        "      self.fc = torch.nn.Sequential(\n",
        "            torch.nn.Linear(768, 128),\n",
        "            torch.nn.LayerNorm(128),\n",
        "            torch.nn.ReLU(inplace=True))\n",
        "      \n",
        "      self.relu = torch.nn.ReLU(inplace=True)\n",
        "      self.batch2 = torch.nn.LayerNorm(384)\n",
        "      self.ffn = torch.nn.Linear(384, 128)\n",
        "      self.batch3 = torch.nn.LayerNorm(128)\n",
        "      self.layer_out = torch.nn.Linear(128,1)\n",
        "\n",
        "      # Add drop out\n",
        "      self.drop = torch.nn.Dropout(0.2)\n",
        "\n",
        "    # left and right represent columns in our data\n",
        "    def forward(self, left, right):\n",
        "\n",
        "      # Get the sentence embeddings \n",
        "      u = left\n",
        "      v = right\n",
        "\n",
        "      # Reduce the dimensionality\n",
        "      u = self.fc(u)\n",
        "      v = self.fc(v)\n",
        "\n",
        "      # Get the absolute value of the element-wise difference of the embedding vectors\n",
        "      uv = torch.sub(u, v)\n",
        "      uv_abs = torch.abs(uv)\n",
        "\n",
        "      # concatenate u, v, and the absolute value of the element-wise difference between the embeddings\n",
        "      x = torch.cat([u, v, uv_abs], dim=-1)\n",
        "\n",
        "      # Normalize the concatenated batch\n",
        "      x = self.batch2(x)\n",
        "\n",
        "      # Use the relu activation function\n",
        "      x = self.relu(x)\n",
        "\n",
        "      # Pass the concatenated layers through a dense layer to reduce the dimensionality from 2304 to 128\n",
        "      x = self.ffn(x)\n",
        "      # Normalize the concatenated layers\n",
        "      x = self.batch3(x)\n",
        "      # Pass through relu activation\n",
        "      x = self.relu(x)\n",
        "      # Implement drop out to avoid overfitting\n",
        "      x = self.drop(x)\n",
        "      # Pass the output through a final dense layer\n",
        "      output = self.layer_out(x)\n",
        "      # Reshape the output to have the same dimension as the target labels\n",
        "      output = output[:,-1,:]\n",
        "\n",
        "      return output"
      ],
      "execution_count": null,
      "outputs": []
    },
    {
      "cell_type": "code",
      "metadata": {
        "id": "oxy-JaCjXl_U"
      },
      "source": [
        "# Create an instance of the Siamese model network\n",
        "net = SiameseNet().to(device)\n",
        "\n",
        "# Set the criteria for evaluation and training - use cross-entropy since we're doing classification and want to retrieve the labels\n",
        "criterion = torch.nn.BCEWithLogitsLoss()\n",
        "\n",
        "# Set the optimizer and pass to it the model parameters and learning rate\n",
        "optimizer = optim.Adam(net.parameters(), lr=2e-5)"
      ],
      "execution_count": null,
      "outputs": []
    },
    {
      "cell_type": "code",
      "metadata": {
        "id": "vfnRRRF0t-ZA"
      },
      "source": [
        "def binary_acc(y_pred, y_test):\n",
        "    y_pred_tag = torch.round(torch.sigmoid(y_pred))\n",
        "\n",
        "    correct_results_sum = (y_pred_tag == y_test).sum().float()\n",
        "    acc = correct_results_sum/y_test.shape[0]\n",
        "    acc = torch.round(acc * 100)\n",
        "    \n",
        "    return acc"
      ],
      "execution_count": null,
      "outputs": []
    },
    {
      "cell_type": "code",
      "metadata": {
        "id": "TTz5sETjt_VS"
      },
      "source": [
        "# Create dictionaries to hold the training and validation accuracy and loss metrics at each epoch\n",
        "epoch_accuracies = {\n",
        "    'train': [],\n",
        "    \"val\": []}\n",
        "\n",
        "epoch_losses = {\n",
        "    'train': [],\n",
        "    \"val\": []}"
      ],
      "execution_count": null,
      "outputs": []
    },
    {
      "cell_type": "code",
      "metadata": {
        "id": "sqWQVP4D6q-F",
        "colab": {
          "base_uri": "https://localhost:8080/",
          "height": 49,
          "referenced_widgets": [
            "d3071280a00749dabd25e9d4750d27ec",
            "4fba33c03247453398fb4ece933b6932",
            "74844d661abf4cd787a6968a97731553",
            "16760cea53494e2a85a1ea6d4c4b97b4",
            "bc9462d2c9bb4fbc81bc4040f13f16ca",
            "61936af8eb4d4ace9a2e6187e2eda623",
            "9e29ca15baed4b77b3b644c918517ebe",
            "cc98d0154cab4633bc722ebb9e9e3d46",
            "a93e43da3f68401d9b504c6c140f0c8e",
            "b93caf43a72d4d699f1a923511016abe",
            "848a33f8b880478996266d46e75afd28"
          ]
        },
        "outputId": "c907f279-e590-4b95-c24f-93f31f5228f9"
      },
      "source": [
        "EPOCHS = 10\n",
        "\n",
        "for e in tqdm(range(1, EPOCHS+1)):\n",
        "    \n",
        "    # Initialize the training epoch and accuracy loss as 0\n",
        "    train_epoch_loss = 0\n",
        "    train_epoch_acc = 0\n",
        "\n",
        "    # Place the Siamese network into training mode\n",
        "    net.train()\n",
        "    \n",
        "    # Loop over records in the training data loader\n",
        "    for i, data in enumerate(train_loader, 0):\n",
        "      sent1, sent2, task, label = data\n",
        "      label = label.type(torch.FloatTensor).reshape((label.shape[0], 1))\n",
        "      # Send the training data to GPU\n",
        "      sent1, sent2, label = sent1.to(device), sent2.to(device), label.to(device)\n",
        "      # Zero the gradient\n",
        "      optimizer.zero_grad()\n",
        "      # Get the predicted softmaxes\n",
        "      train_pred = net(sent1, sent2)\n",
        "      # Get the predicted labels\n",
        "      train_loss = criterion(train_pred, label)\n",
        "      # Find the training rate accuracy\n",
        "      train_acc = binary_acc(train_pred, label)\n",
        "      \n",
        "      train_loss.backward()\n",
        "      optimizer.step()\n",
        "\n",
        "      # Update the loss and accuracy for the current epoch  \n",
        "      train_epoch_loss += train_loss.item()\n",
        "      train_epoch_acc += train_acc.item()   \n",
        "        \n",
        "    # Enter validation phase   \n",
        "    with torch.no_grad():\n",
        "        \n",
        "        # Initialize the validation loss and accuracy rates as 0\n",
        "        val_epoch_loss = 0\n",
        "        val_epoch_acc = 0\n",
        "        \n",
        "        # Place the model into evaluation mode\n",
        "        net.eval()\n",
        "\n",
        "        # Loop over records in the validation dataloader\n",
        "        for i, data in enumerate(val_loader, 0):\n",
        "          sent1_val, sent2_val, task_val, label_val = data\n",
        "          label_val = label_val.type(torch.FloatTensor).reshape((label_val.shape[0], 1))\n",
        "\n",
        "          # Send the validation data to GPU\n",
        "          sent1_val, sent2_val, label_val = sent1_val.to(device), sent2_val.to(device), label_val.to(device)\n",
        "\n",
        "          # Get the validation predictions          \n",
        "          val_pred = net(sent1_val, sent2_val)\n",
        "          # Find the validation loss and accuracy\n",
        "          val_loss = criterion(val_pred, label_val)\n",
        "          val_acc = binary_acc(val_pred, label_val)\n",
        "          \n",
        "          # Update the validation loss and accuracy rates\n",
        "          val_epoch_loss += val_loss.item()\n",
        "          val_epoch_acc += val_acc.item()\n",
        "    \n",
        "    # Store the epoch's training and validaion accuracies and losses\n",
        "    epoch_losses['train'].append(train_epoch_loss/len(train_loader))\n",
        "    epoch_losses['val'].append(val_epoch_loss/len(val_loader))\n",
        "    epoch_accuracies['train'].append(train_epoch_acc/len(train_loader))\n",
        "    epoch_accuracies['val'].append(val_epoch_acc/len(val_loader))"
      ],
      "execution_count": null,
      "outputs": [
        {
          "output_type": "display_data",
          "data": {
            "application/vnd.jupyter.widget-view+json": {
              "model_id": "d3071280a00749dabd25e9d4750d27ec",
              "version_minor": 0,
              "version_major": 2
            },
            "text/plain": [
              "  0%|          | 0/10 [00:00<?, ?it/s]"
            ]
          },
          "metadata": {}
        }
      ]
    },
    {
      "cell_type": "code",
      "metadata": {
        "colab": {
          "base_uri": "https://localhost:8080/"
        },
        "id": "L1vesiPk3dEn",
        "outputId": "7e58a220-96cd-4011-ce7f-4c067047be75"
      },
      "source": [
        "epoch_losses"
      ],
      "execution_count": null,
      "outputs": [
        {
          "output_type": "execute_result",
          "data": {
            "text/plain": [
              "{'train': [0.6685160326042663,\n",
              "  0.5776105730899616,\n",
              "  0.5067275786704855,\n",
              "  0.4551620906604124,\n",
              "  0.41221805571365966,\n",
              "  0.3790184283879266,\n",
              "  0.34173274391304964,\n",
              "  0.3157083456958535,\n",
              "  0.2964952286245472,\n",
              "  0.266584532156682],\n",
              " 'val': [0.642750737246345,\n",
              "  0.603496134631774,\n",
              "  0.5793152672402999,\n",
              "  0.5497286417905022,\n",
              "  0.5408929733669057,\n",
              "  0.5226237311082728,\n",
              "  0.5277196156627991,\n",
              "  0.5281396408291424,\n",
              "  0.535361598519718,\n",
              "  0.5354068671955782]}"
            ]
          },
          "metadata": {},
          "execution_count": 22
        }
      ]
    },
    {
      "cell_type": "code",
      "metadata": {
        "colab": {
          "base_uri": "https://localhost:8080/"
        },
        "id": "z6c0E9X4PstU",
        "outputId": "a4afeba9-1ebc-438a-95f7-40d2bc6559b8"
      },
      "source": [
        "print(max(epoch_accuracies.get('train')))\n",
        "print(max(epoch_accuracies.get('val')))"
      ],
      "execution_count": null,
      "outputs": [
        {
          "output_type": "stream",
          "name": "stdout",
          "text": [
            "91.14712153518124\n",
            "76.29411764705883\n"
          ]
        }
      ]
    },
    {
      "cell_type": "code",
      "metadata": {
        "colab": {
          "base_uri": "https://localhost:8080/"
        },
        "id": "UAjzkvu7e8H-",
        "outputId": "f10a76f7-58fa-4f90-9af2-58024eebcb7d"
      },
      "source": [
        "print(min(epoch_accuracies.get('train')))\n",
        "print(min(epoch_accuracies.get('val')))"
      ],
      "execution_count": null,
      "outputs": [
        {
          "output_type": "stream",
          "name": "stdout",
          "text": [
            "58.643923240938165\n",
            "65.49411764705883\n"
          ]
        }
      ]
    },
    {
      "cell_type": "code",
      "metadata": {
        "colab": {
          "base_uri": "https://localhost:8080/"
        },
        "id": "s-ScqobDQb9u",
        "outputId": "93f16c3c-0657-4824-e635-00e8bec8b4ae"
      },
      "source": [
        "print(min(epoch_losses.get('train')))\n",
        "print(max(epoch_losses.get('train')))"
      ],
      "execution_count": null,
      "outputs": [
        {
          "output_type": "stream",
          "name": "stdout",
          "text": [
            "0.266584532156682\n",
            "0.6685160326042663\n"
          ]
        }
      ]
    },
    {
      "cell_type": "code",
      "metadata": {
        "colab": {
          "base_uri": "https://localhost:8080/"
        },
        "id": "NbqTDh4yQsAw",
        "outputId": "1704efbe-626b-4ea7-a39b-722e5e7a185d"
      },
      "source": [
        "print(min(epoch_losses.get('val')))\n",
        "print(max(epoch_losses.get('val')))"
      ],
      "execution_count": null,
      "outputs": [
        {
          "output_type": "stream",
          "name": "stdout",
          "text": [
            "0.5226237311082728\n",
            "0.642750737246345\n"
          ]
        }
      ]
    },
    {
      "cell_type": "code",
      "metadata": {
        "colab": {
          "base_uri": "https://localhost:8080/"
        },
        "id": "fnE4qrtXRX4b",
        "outputId": "c42c8c0c-c1e1-400f-c265-fa852d16af0c"
      },
      "source": [
        "epoch_losses.get('val').index(min(epoch_losses.get('val')))"
      ],
      "execution_count": null,
      "outputs": [
        {
          "output_type": "execute_result",
          "data": {
            "text/plain": [
              "5"
            ]
          },
          "metadata": {},
          "execution_count": 27
        }
      ]
    },
    {
      "cell_type": "code",
      "metadata": {
        "colab": {
          "base_uri": "https://localhost:8080/"
        },
        "id": "AlT-2hwFRGDx",
        "outputId": "43134975-ac53-40f5-d167-7920501d239b"
      },
      "source": [
        "epoch_accuracies.get('val').index(max(epoch_accuracies.get('val')))"
      ],
      "execution_count": null,
      "outputs": [
        {
          "output_type": "execute_result",
          "data": {
            "text/plain": [
              "9"
            ]
          },
          "metadata": {},
          "execution_count": 28
        }
      ]
    },
    {
      "cell_type": "code",
      "metadata": {
        "id": "FhnByeEQ67Xo",
        "colab": {
          "base_uri": "https://localhost:8080/",
          "height": 475
        },
        "outputId": "b349f948-9ee9-4d3f-d3b7-d1ff9e6379fd"
      },
      "source": [
        "# Create dataframes from the average training accuracy and loss \n",
        "train_val_acc_df = pd.DataFrame.from_dict(epoch_accuracies).reset_index().melt(id_vars=['index']).rename(columns={\"index\":\"epochs\"})\n",
        "train_val_loss_df = pd.DataFrame.from_dict(epoch_losses).reset_index().melt(id_vars=['index']).rename(columns={\"index\":\"epochs\"})\n",
        "fig, axes = plt.subplots(nrows=1, ncols=2, figsize=(20,7))\n",
        "sns.lineplot(data=train_val_acc_df, x = \"epochs\", y=\"value\", hue=\"variable\",  ax=axes[0]).set_title('Train-Val Accuracy/Epoch')\n",
        "sns.lineplot(data=train_val_loss_df, x = \"epochs\", y=\"value\", hue=\"variable\", ax=axes[1]).set_title('Train-Val Loss/Epoch')"
      ],
      "execution_count": null,
      "outputs": [
        {
          "output_type": "execute_result",
          "data": {
            "text/plain": [
              "Text(0.5, 1.0, 'Train-Val Loss/Epoch')"
            ]
          },
          "metadata": {},
          "execution_count": 29
        },
        {
          "output_type": "display_data",
          "data": {
            "image/png": "[encoded data removed]",
            "text/plain": [
              "<Figure size 1440x504 with 2 Axes>"
            ]
          },
          "metadata": {
            "needs_background": "light"
          }
        }
      ]
    },
    {
      "cell_type": "code",
      "metadata": {
        "id": "YfAxcbJfEiU9"
      },
      "source": [
        "# Get the test accuracy and labels\n",
        "y_pred_list = []\n",
        "y_actual_list = []\n",
        "y_language_task = []\n",
        "\n",
        "with torch.no_grad():\n",
        "\n",
        "  # Place the model into evaluation mode\n",
        "    net.eval()\n",
        "\n",
        "    # Loop over the test set\n",
        "    for i, data in enumerate(test_loader, 0):\n",
        "\n",
        "      # Extract the test set components\n",
        "      sent1_test, sent2_test, task_test, label_test = data\n",
        "\n",
        "      # Store the language tasks and actual labels to check model performance\n",
        "      y_actual_list.extend(label_test.tolist())\n",
        "      y_language_task.extend(task_test)\n",
        "\n",
        "      # Reshape the test label to have the same dimensions as the model output\n",
        "      label_test = label_test.type(torch.FloatTensor).reshape((label_test.shape[0], 1))\n",
        "\n",
        "      # Send the test data to GPU\n",
        "      sent1_test, sent2_test, label_test = sent1_test.to(device), sent2_test.to(device), label_test.to(device)\n",
        "\n",
        "      # Get the test set predictions\n",
        "      test_pred = net(sent1_test, sent2_test)\n",
        "            \n",
        "      # Get the predicted test labels\n",
        "      y_test_pred = torch.round(torch.sigmoid(test_pred)).long()\n",
        "\n",
        "      # Add the test labels to their respective list\n",
        "      y_pred_list.extend(y_test_pred)"
      ],
      "execution_count": null,
      "outputs": []
    },
    {
      "cell_type": "code",
      "metadata": {
        "id": "ZIvOcEeXAte8"
      },
      "source": [
        "# Create a dataframe from test performance\n",
        "y_pred = [x.item() for x in y_pred_list]\n",
        "test_performance = pd.DataFrame(list(zip(y_language_task, y_actual_list, y_pred)),columns =['language', 'actual_label', 'predicted_label'])"
      ],
      "execution_count": null,
      "outputs": []
    },
    {
      "cell_type": "code",
      "metadata": {
        "colab": {
          "base_uri": "https://localhost:8080/",
          "height": 206
        },
        "id": "sOin7qfqA-qa",
        "outputId": "df28b9d5-1beb-4296-afc5-0be719c25d4a"
      },
      "source": [
        "# Check the first few rows\n",
        "test_performance.head()"
      ],
      "execution_count": null,
      "outputs": [
        {
          "output_type": "execute_result",
          "data": {
            "text/html": [
              "<div>\n",
              "<style scoped>\n",
              "    .dataframe tbody tr th:only-of-type {\n",
              "        vertical-align: middle;\n",
              "    }\n",
              "\n",
              "    .dataframe tbody tr th {\n",
              "        vertical-align: top;\n",
              "    }\n",
              "\n",
              "    .dataframe thead th {\n",
              "        text-align: right;\n",
              "    }\n",
              "</style>\n",
              "<table border=\"1\" class=\"dataframe\">\n",
              "  <thead>\n",
              "    <tr style=\"text-align: right;\">\n",
              "      <th></th>\n",
              "      <th>language</th>\n",
              "      <th>actual_label</th>\n",
              "      <th>predicted_label</th>\n",
              "    </tr>\n",
              "  </thead>\n",
              "  <tbody>\n",
              "    <tr>\n",
              "      <th>0</th>\n",
              "      <td>translate English to Hindi</td>\n",
              "      <td>1</td>\n",
              "      <td>1</td>\n",
              "    </tr>\n",
              "    <tr>\n",
              "      <th>1</th>\n",
              "      <td>translate English to Hindi</td>\n",
              "      <td>0</td>\n",
              "      <td>0</td>\n",
              "    </tr>\n",
              "    <tr>\n",
              "      <th>2</th>\n",
              "      <td>translate English to Hindi</td>\n",
              "      <td>1</td>\n",
              "      <td>1</td>\n",
              "    </tr>\n",
              "    <tr>\n",
              "      <th>3</th>\n",
              "      <td>translate English to Hindi</td>\n",
              "      <td>1</td>\n",
              "      <td>1</td>\n",
              "    </tr>\n",
              "    <tr>\n",
              "      <th>4</th>\n",
              "      <td>translate English to Hindi</td>\n",
              "      <td>1</td>\n",
              "      <td>1</td>\n",
              "    </tr>\n",
              "  </tbody>\n",
              "</table>\n",
              "</div>"
            ],
            "text/plain": [
              "                     language  actual_label  predicted_label\n",
              "0  translate English to Hindi             1                1\n",
              "1  translate English to Hindi             0                0\n",
              "2  translate English to Hindi             1                1\n",
              "3  translate English to Hindi             1                1\n",
              "4  translate English to Hindi             1                1"
            ]
          },
          "metadata": {},
          "execution_count": 32
        }
      ]
    },
    {
      "cell_type": "code",
      "metadata": {
        "id": "pqrWUi6mBEHj"
      },
      "source": [
        "# Write the test set and predictions to a csv\n",
        "final = pd.concat([test_performance, paraphrase_test[['sentence_1', 'sentence_2']]], axis=1)"
      ],
      "execution_count": null,
      "outputs": []
    },
    {
      "cell_type": "code",
      "metadata": {
        "colab": {
          "base_uri": "https://localhost:8080/",
          "height": 206
        },
        "id": "aLNLeo2UCbVn",
        "outputId": "2bed7c49-9a2a-4583-b7c7-02093916b6db"
      },
      "source": [
        "final.head()"
      ],
      "execution_count": null,
      "outputs": [
        {
          "output_type": "execute_result",
          "data": {
            "text/html": [
              "<div>\n",
              "<style scoped>\n",
              "    .dataframe tbody tr th:only-of-type {\n",
              "        vertical-align: middle;\n",
              "    }\n",
              "\n",
              "    .dataframe tbody tr th {\n",
              "        vertical-align: top;\n",
              "    }\n",
              "\n",
              "    .dataframe thead th {\n",
              "        text-align: right;\n",
              "    }\n",
              "</style>\n",
              "<table border=\"1\" class=\"dataframe\">\n",
              "  <thead>\n",
              "    <tr style=\"text-align: right;\">\n",
              "      <th></th>\n",
              "      <th>language</th>\n",
              "      <th>actual_label</th>\n",
              "      <th>predicted_label</th>\n",
              "      <th>sentence_1</th>\n",
              "      <th>sentence_2</th>\n",
              "    </tr>\n",
              "  </thead>\n",
              "  <tbody>\n",
              "    <tr>\n",
              "      <th>0</th>\n",
              "      <td>translate English to Hindi</td>\n",
              "      <td>1</td>\n",
              "      <td>1</td>\n",
              "      <td>1984 में बारामती से उन्होंने पहली बार लोकसभा च...</td>\n",
              "      <td>बारामती से 1984 में  उन्होंने पहली बार लोकसभा ...</td>\n",
              "    </tr>\n",
              "    <tr>\n",
              "      <th>1</th>\n",
              "      <td>translate English to Hindi</td>\n",
              "      <td>0</td>\n",
              "      <td>0</td>\n",
              "      <td>सुप्रीम कोर्ट की फटकार के बाद भी आजम अपने बयान...</td>\n",
              "      <td>सरकार का फर्ज बनता है कि लगातार हो रही एक जैस...</td>\n",
              "    </tr>\n",
              "    <tr>\n",
              "      <th>2</th>\n",
              "      <td>translate English to Hindi</td>\n",
              "      <td>1</td>\n",
              "      <td>1</td>\n",
              "      <td>उत्तराखंड में जारी रहेगा राष्ट्रपति शासन,  हाई...</td>\n",
              "      <td>उत्तराखण्ड में राष्ट्रपति शासन हटाने के नैनीता...</td>\n",
              "    </tr>\n",
              "    <tr>\n",
              "      <th>3</th>\n",
              "      <td>translate English to Hindi</td>\n",
              "      <td>1</td>\n",
              "      <td>1</td>\n",
              "      <td>भारत ने पृथ्वी-दो मिसाइल का किया सफल प्रक्षेपण</td>\n",
              "      <td>भारत ने आज परमाणु क्षमता संपन्न और स्वदेश में ...</td>\n",
              "    </tr>\n",
              "    <tr>\n",
              "      <th>4</th>\n",
              "      <td>translate English to Hindi</td>\n",
              "      <td>1</td>\n",
              "      <td>1</td>\n",
              "      <td>मीडिया रिपोर्ट्स में ये जानकारी नहीं है कि फा...</td>\n",
              "      <td>फाइनेंशियल मदद के तौर पर कितना अमाउंट दिया गय...</td>\n",
              "    </tr>\n",
              "  </tbody>\n",
              "</table>\n",
              "</div>"
            ],
            "text/plain": [
              "                     language  ...                                         sentence_2\n",
              "0  translate English to Hindi  ...  बारामती से 1984 में  उन्होंने पहली बार लोकसभा ...\n",
              "1  translate English to Hindi  ...   सरकार का फर्ज बनता है कि लगातार हो रही एक जैस...\n",
              "2  translate English to Hindi  ...  उत्तराखण्ड में राष्ट्रपति शासन हटाने के नैनीता...\n",
              "3  translate English to Hindi  ...  भारत ने आज परमाणु क्षमता संपन्न और स्वदेश में ...\n",
              "4  translate English to Hindi  ...   फाइनेंशियल मदद के तौर पर कितना अमाउंट दिया गय...\n",
              "\n",
              "[5 rows x 5 columns]"
            ]
          },
          "metadata": {},
          "execution_count": 34
        }
      ]
    },
    {
      "cell_type": "code",
      "metadata": {
        "id": "c-EfT8KICz13"
      },
      "source": [
        "# Save the file to share\n",
        "final.to_csv(D+\"/predicted_text/siamese_evaluations_of_translations/three_dense_paraphrase_test_eval_and_errors_wopb_layernorm.csv\")"
      ],
      "execution_count": null,
      "outputs": []
    },
    {
      "cell_type": "code",
      "metadata": {
        "colab": {
          "base_uri": "https://localhost:8080/"
        },
        "id": "vb63FB0tFWez",
        "outputId": "b5713231-6a17-434a-a2f5-c4080456232d"
      },
      "source": [
        "# Get the overall accuracy rate with sklearn accuracy score\n",
        "# Accuracy is approximately 76%\n",
        "accuracy_score(y_actual_list, y_pred)"
      ],
      "execution_count": null,
      "outputs": [
        {
          "output_type": "execute_result",
          "data": {
            "text/plain": [
              "0.7585185185185185"
            ]
          },
          "metadata": {},
          "execution_count": 36
        }
      ]
    },
    {
      "cell_type": "code",
      "metadata": {
        "colab": {
          "base_uri": "https://localhost:8080/"
        },
        "id": "3IdLuRAaFuXh",
        "outputId": "90c3b422-dcf8-45b4-8699-5a78a7e9f7ea"
      },
      "source": [
        "# Get the overall f1-score\n",
        "f1_score(y_actual_list, y_pred)"
      ],
      "execution_count": null,
      "outputs": [
        {
          "output_type": "execute_result",
          "data": {
            "text/plain": [
              "0.705244122965642"
            ]
          },
          "metadata": {},
          "execution_count": 37
        }
      ]
    },
    {
      "cell_type": "code",
      "metadata": {
        "colab": {
          "base_uri": "https://localhost:8080/"
        },
        "id": "RUOsK8ZHLXUh",
        "outputId": "02e23692-ab44-4d57-b1ba-d71053fa272e"
      },
      "source": [
        "# Get the accuracy scores on Hindi\n",
        "hi_test = test_performance[test_performance.language == 'translate English to Hindi']\n",
        "# The model performs very well on Hindi\n",
        "print(accuracy_score(hi_test.actual_label.tolist(), hi_test.predicted_label.tolist()))\n",
        "# Get the f1-score\n",
        "print(f1_score(hi_test.actual_label.tolist(), hi_test.predicted_label.tolist()))"
      ],
      "execution_count": null,
      "outputs": [
        {
          "output_type": "stream",
          "name": "stdout",
          "text": [
            "0.8511111111111112\n",
            "0.8329177057356608\n"
          ]
        }
      ]
    },
    {
      "cell_type": "code",
      "metadata": {
        "colab": {
          "base_uri": "https://localhost:8080/"
        },
        "id": "w-PgT23AMJWg",
        "outputId": "d96ac321-2908-443c-fc8d-4b56e93c3bf7"
      },
      "source": [
        "# Get the accuracy scores on Tamil\n",
        "ta_test = test_performance[test_performance.language == 'translate English to Tamil']\n",
        "print(accuracy_score(ta_test.actual_label.tolist(), ta_test.predicted_label.tolist()))\n",
        "# Get the f1-score\n",
        "print(f1_score(ta_test.actual_label.tolist(), ta_test.predicted_label.tolist()))"
      ],
      "execution_count": null,
      "outputs": [
        {
          "output_type": "stream",
          "name": "stdout",
          "text": [
            "0.6511111111111111\n",
            "0.49840255591054317\n"
          ]
        }
      ]
    },
    {
      "cell_type": "code",
      "metadata": {
        "colab": {
          "base_uri": "https://localhost:8080/"
        },
        "id": "t6FAO42sMRPU",
        "outputId": "7a8cd046-8891-40d0-faa8-9e81321319d1"
      },
      "source": [
        "# Get the accuracy scores on Malayalam\n",
        "ml_test = test_performance[test_performance.language == 'translate English to Malayalam']\n",
        "print(accuracy_score(ml_test.actual_label.tolist(), ml_test.predicted_label.tolist()))\n",
        "# Get the f1-score\n",
        "print(f1_score(ml_test.actual_label.tolist(), ml_test.predicted_label.tolist()))"
      ],
      "execution_count": null,
      "outputs": [
        {
          "output_type": "stream",
          "name": "stdout",
          "text": [
            "0.7733333333333333\n",
            "0.7397959183673469\n"
          ]
        }
      ]
    },
    {
      "cell_type": "code",
      "metadata": {
        "colab": {
          "base_uri": "https://localhost:8080/"
        },
        "id": "7XvNjzulGCFf",
        "outputId": "842ec0ec-264e-44ac-cd58-71051ac8955b"
      },
      "source": [
        "# Let's see the number of mistakes the model is making (on what language tasks)\n",
        "cm = confusion_matrix(y_actual_list, y_pred)\n",
        "\n",
        "# Create and apply a mask to ignore the diagonal entries (these are correctly predicted values)\n",
        "cm"
      ],
      "execution_count": null,
      "outputs": [
        {
          "output_type": "execute_result",
          "data": {
            "text/plain": [
              "array([[634,  99],\n",
              "       [227, 390]])"
            ]
          },
          "metadata": {},
          "execution_count": 41
        }
      ]
    },
    {
      "cell_type": "code",
      "metadata": {
        "colab": {
          "base_uri": "https://localhost:8080/"
        },
        "id": "Pq8TfinLQxiL",
        "outputId": "af04ebfa-c9f8-4bbc-a64c-7a0fbeaaee26"
      },
      "source": [
        "# Check the confusiom matrix on Hindi\n",
        "confusion_matrix(hi_test.actual_label.tolist(), hi_test.predicted_label.tolist())"
      ],
      "execution_count": null,
      "outputs": [
        {
          "output_type": "execute_result",
          "data": {
            "text/plain": [
              "array([[216,  38],\n",
              "       [ 29, 167]])"
            ]
          },
          "metadata": {},
          "execution_count": 42
        }
      ]
    },
    {
      "cell_type": "code",
      "metadata": {
        "colab": {
          "base_uri": "https://localhost:8080/"
        },
        "id": "fjj4AS9aQ7TB",
        "outputId": "08733d0e-5b31-4168-cc65-96030ad643dc"
      },
      "source": [
        "# Check the confusiom matrix on Tamil\n",
        "confusion_matrix(ta_test.actual_label.tolist(), ta_test.predicted_label.tolist())"
      ],
      "execution_count": null,
      "outputs": [
        {
          "output_type": "execute_result",
          "data": {
            "text/plain": [
              "array([[215,  33],\n",
              "       [124,  78]])"
            ]
          },
          "metadata": {},
          "execution_count": 43
        }
      ]
    },
    {
      "cell_type": "code",
      "metadata": {
        "colab": {
          "base_uri": "https://localhost:8080/"
        },
        "id": "AW_EgulOQbIq",
        "outputId": "faa84a60-ee85-4453-84e5-eb68ac1a66cf"
      },
      "source": [
        "# Check the confusiom matrix on Malayalam, where performance is lowest\n",
        "confusion_matrix(ml_test.actual_label.tolist(), ml_test.predicted_label.tolist())"
      ],
      "execution_count": null,
      "outputs": [
        {
          "output_type": "execute_result",
          "data": {
            "text/plain": [
              "array([[203,  28],\n",
              "       [ 74, 145]])"
            ]
          },
          "metadata": {},
          "execution_count": 44
        }
      ]
    },
    {
      "cell_type": "code",
      "metadata": {
        "colab": {
          "base_uri": "https://localhost:8080/"
        },
        "id": "hbE_NgYzRd5c",
        "outputId": "21417f80-1089-4443-be64-cf03541fa1bb"
      },
      "source": [
        "len(ml_test[ml_test.actual_label != ml_test.predicted_label])"
      ],
      "execution_count": null,
      "outputs": [
        {
          "output_type": "execute_result",
          "data": {
            "text/plain": [
              "102"
            ]
          },
          "metadata": {},
          "execution_count": 45
        }
      ]
    },
    {
      "cell_type": "code",
      "metadata": {
        "colab": {
          "base_uri": "https://localhost:8080/"
        },
        "id": "rVCnRndIg4UT",
        "outputId": "67d9dfca-ab5b-4af5-f41e-7d96f0289af7"
      },
      "source": [
        "# Train the model and save\n",
        "#my_model, train_loss = train()\n",
        "#print(f'Training loss: {train_loss}')\n",
        "# Save the weights and biases\n",
        "torch.save(net.state_dict(), \"/content/drive/My Drive/W266_Project_Data/models/siamese_model/three_dense_model_wopb_layernorm.pt\")\n",
        "print(\"Model Saved\")"
      ],
      "execution_count": null,
      "outputs": [
        {
          "output_type": "stream",
          "name": "stdout",
          "text": [
            "Model Saved\n"
          ]
        }
      ]
    }
  ]
}
