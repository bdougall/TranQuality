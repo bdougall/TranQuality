{
  "nbformat": 4,
  "nbformat_minor": 0,
  "metadata": {
    "colab": {
      "name": "three_dense_w_Punjabi_sep_models.ipynb",
      "provenance": [],
      "collapsed_sections": [],
      "machine_shape": "hm"
    },
    "kernelspec": {
      "name": "python3",
      "display_name": "Python 3"
    },
    "language_info": {
      "name": "python"
    },
    "accelerator": "GPU",
    "widgets": {
      "application/vnd.jupyter.widget-state+json": {
        "a39c0386efa044ea89c5e5bfe38b9a18": {
          "model_module": "@jupyter-widgets/controls",
          "model_name": "HBoxModel",
          "model_module_version": "1.5.0",
          "state": {
            "_view_name": "HBoxView",
            "_dom_classes": [],
            "_model_name": "HBoxModel",
            "_view_module": "@jupyter-widgets/controls",
            "_model_module_version": "1.5.0",
            "_view_count": null,
            "_view_module_version": "1.5.0",
            "box_style": "",
            "layout": "IPY_MODEL_2050dcce700248a39be1d611e94c9f96",
            "_model_module": "@jupyter-widgets/controls",
            "children": [
              "IPY_MODEL_11368dbdc64840bc9d8b92d4416f9eb1",
              "IPY_MODEL_92fef24e38af4277b814c0475bb41069",
              "IPY_MODEL_dc68837eff514f9b88cf42557b5c3232"
            ]
          }
        },
        "2050dcce700248a39be1d611e94c9f96": {
          "model_module": "@jupyter-widgets/base",
          "model_name": "LayoutModel",
          "model_module_version": "1.2.0",
          "state": {
            "_view_name": "LayoutView",
            "grid_template_rows": null,
            "right": null,
            "justify_content": null,
            "_view_module": "@jupyter-widgets/base",
            "overflow": null,
            "_model_module_version": "1.2.0",
            "_view_count": null,
            "flex_flow": null,
            "width": null,
            "min_width": null,
            "border": null,
            "align_items": null,
            "bottom": null,
            "_model_module": "@jupyter-widgets/base",
            "top": null,
            "grid_column": null,
            "overflow_y": null,
            "overflow_x": null,
            "grid_auto_flow": null,
            "grid_area": null,
            "grid_template_columns": null,
            "flex": null,
            "_model_name": "LayoutModel",
            "justify_items": null,
            "grid_row": null,
            "max_height": null,
            "align_content": null,
            "visibility": null,
            "align_self": null,
            "height": null,
            "min_height": null,
            "padding": null,
            "grid_auto_rows": null,
            "grid_gap": null,
            "max_width": null,
            "order": null,
            "_view_module_version": "1.2.0",
            "grid_template_areas": null,
            "object_position": null,
            "object_fit": null,
            "grid_auto_columns": null,
            "margin": null,
            "display": null,
            "left": null
          }
        },
        "11368dbdc64840bc9d8b92d4416f9eb1": {
          "model_module": "@jupyter-widgets/controls",
          "model_name": "HTMLModel",
          "model_module_version": "1.5.0",
          "state": {
            "_view_name": "HTMLView",
            "style": "IPY_MODEL_66f772c6b0814ae69fad8ad1af66bd1d",
            "_dom_classes": [],
            "description": "",
            "_model_name": "HTMLModel",
            "placeholder": "​",
            "_view_module": "@jupyter-widgets/controls",
            "_model_module_version": "1.5.0",
            "value": "Downloading: 100%",
            "_view_count": null,
            "_view_module_version": "1.5.0",
            "description_tooltip": null,
            "_model_module": "@jupyter-widgets/controls",
            "layout": "IPY_MODEL_409189fb665a4eaa81261f6a9134fd7c"
          }
        },
        "92fef24e38af4277b814c0475bb41069": {
          "model_module": "@jupyter-widgets/controls",
          "model_name": "FloatProgressModel",
          "model_module_version": "1.5.0",
          "state": {
            "_view_name": "ProgressView",
            "style": "IPY_MODEL_22bf5e92282a40038d76f28ac71b161c",
            "_dom_classes": [],
            "description": "",
            "_model_name": "FloatProgressModel",
            "bar_style": "success",
            "max": 507,
            "_view_module": "@jupyter-widgets/controls",
            "_model_module_version": "1.5.0",
            "value": 507,
            "_view_count": null,
            "_view_module_version": "1.5.0",
            "orientation": "horizontal",
            "min": 0,
            "description_tooltip": null,
            "_model_module": "@jupyter-widgets/controls",
            "layout": "IPY_MODEL_83fd75d1817f46a18cd882e36694e4f0"
          }
        },
        "dc68837eff514f9b88cf42557b5c3232": {
          "model_module": "@jupyter-widgets/controls",
          "model_name": "HTMLModel",
          "model_module_version": "1.5.0",
          "state": {
            "_view_name": "HTMLView",
            "style": "IPY_MODEL_23b0cb5a78ca4aab866be3714afcb8ff",
            "_dom_classes": [],
            "description": "",
            "_model_name": "HTMLModel",
            "placeholder": "​",
            "_view_module": "@jupyter-widgets/controls",
            "_model_module_version": "1.5.0",
            "value": " 507/507 [00:00&lt;00:00, 10.1kB/s]",
            "_view_count": null,
            "_view_module_version": "1.5.0",
            "description_tooltip": null,
            "_model_module": "@jupyter-widgets/controls",
            "layout": "IPY_MODEL_98fb0bf68c9d42a38804880567e70b1c"
          }
        },
        "66f772c6b0814ae69fad8ad1af66bd1d": {
          "model_module": "@jupyter-widgets/controls",
          "model_name": "DescriptionStyleModel",
          "model_module_version": "1.5.0",
          "state": {
            "_view_name": "StyleView",
            "_model_name": "DescriptionStyleModel",
            "description_width": "",
            "_view_module": "@jupyter-widgets/base",
            "_model_module_version": "1.5.0",
            "_view_count": null,
            "_view_module_version": "1.2.0",
            "_model_module": "@jupyter-widgets/controls"
          }
        },
        "409189fb665a4eaa81261f6a9134fd7c": {
          "model_module": "@jupyter-widgets/base",
          "model_name": "LayoutModel",
          "model_module_version": "1.2.0",
          "state": {
            "_view_name": "LayoutView",
            "grid_template_rows": null,
            "right": null,
            "justify_content": null,
            "_view_module": "@jupyter-widgets/base",
            "overflow": null,
            "_model_module_version": "1.2.0",
            "_view_count": null,
            "flex_flow": null,
            "width": null,
            "min_width": null,
            "border": null,
            "align_items": null,
            "bottom": null,
            "_model_module": "@jupyter-widgets/base",
            "top": null,
            "grid_column": null,
            "overflow_y": null,
            "overflow_x": null,
            "grid_auto_flow": null,
            "grid_area": null,
            "grid_template_columns": null,
            "flex": null,
            "_model_name": "LayoutModel",
            "justify_items": null,
            "grid_row": null,
            "max_height": null,
            "align_content": null,
            "visibility": null,
            "align_self": null,
            "height": null,
            "min_height": null,
            "padding": null,
            "grid_auto_rows": null,
            "grid_gap": null,
            "max_width": null,
            "order": null,
            "_view_module_version": "1.2.0",
            "grid_template_areas": null,
            "object_position": null,
            "object_fit": null,
            "grid_auto_columns": null,
            "margin": null,
            "display": null,
            "left": null
          }
        },
        "22bf5e92282a40038d76f28ac71b161c": {
          "model_module": "@jupyter-widgets/controls",
          "model_name": "ProgressStyleModel",
          "model_module_version": "1.5.0",
          "state": {
            "_view_name": "StyleView",
            "_model_name": "ProgressStyleModel",
            "description_width": "",
            "_view_module": "@jupyter-widgets/base",
            "_model_module_version": "1.5.0",
            "_view_count": null,
            "_view_module_version": "1.2.0",
            "bar_color": null,
            "_model_module": "@jupyter-widgets/controls"
          }
        },
        "83fd75d1817f46a18cd882e36694e4f0": {
          "model_module": "@jupyter-widgets/base",
          "model_name": "LayoutModel",
          "model_module_version": "1.2.0",
          "state": {
            "_view_name": "LayoutView",
            "grid_template_rows": null,
            "right": null,
            "justify_content": null,
            "_view_module": "@jupyter-widgets/base",
            "overflow": null,
            "_model_module_version": "1.2.0",
            "_view_count": null,
            "flex_flow": null,
            "width": null,
            "min_width": null,
            "border": null,
            "align_items": null,
            "bottom": null,
            "_model_module": "@jupyter-widgets/base",
            "top": null,
            "grid_column": null,
            "overflow_y": null,
            "overflow_x": null,
            "grid_auto_flow": null,
            "grid_area": null,
            "grid_template_columns": null,
            "flex": null,
            "_model_name": "LayoutModel",
            "justify_items": null,
            "grid_row": null,
            "max_height": null,
            "align_content": null,
            "visibility": null,
            "align_self": null,
            "height": null,
            "min_height": null,
            "padding": null,
            "grid_auto_rows": null,
            "grid_gap": null,
            "max_width": null,
            "order": null,
            "_view_module_version": "1.2.0",
            "grid_template_areas": null,
            "object_position": null,
            "object_fit": null,
            "grid_auto_columns": null,
            "margin": null,
            "display": null,
            "left": null
          }
        },
        "23b0cb5a78ca4aab866be3714afcb8ff": {
          "model_module": "@jupyter-widgets/controls",
          "model_name": "DescriptionStyleModel",
          "model_module_version": "1.5.0",
          "state": {
            "_view_name": "StyleView",
            "_model_name": "DescriptionStyleModel",
            "description_width": "",
            "_view_module": "@jupyter-widgets/base",
            "_model_module_version": "1.5.0",
            "_view_count": null,
            "_view_module_version": "1.2.0",
            "_model_module": "@jupyter-widgets/controls"
          }
        },
        "98fb0bf68c9d42a38804880567e70b1c": {
          "model_module": "@jupyter-widgets/base",
          "model_name": "LayoutModel",
          "model_module_version": "1.2.0",
          "state": {
            "_view_name": "LayoutView",
            "grid_template_rows": null,
            "right": null,
            "justify_content": null,
            "_view_module": "@jupyter-widgets/base",
            "overflow": null,
            "_model_module_version": "1.2.0",
            "_view_count": null,
            "flex_flow": null,
            "width": null,
            "min_width": null,
            "border": null,
            "align_items": null,
            "bottom": null,
            "_model_module": "@jupyter-widgets/base",
            "top": null,
            "grid_column": null,
            "overflow_y": null,
            "overflow_x": null,
            "grid_auto_flow": null,
            "grid_area": null,
            "grid_template_columns": null,
            "flex": null,
            "_model_name": "LayoutModel",
            "justify_items": null,
            "grid_row": null,
            "max_height": null,
            "align_content": null,
            "visibility": null,
            "align_self": null,
            "height": null,
            "min_height": null,
            "padding": null,
            "grid_auto_rows": null,
            "grid_gap": null,
            "max_width": null,
            "order": null,
            "_view_module_version": "1.2.0",
            "grid_template_areas": null,
            "object_position": null,
            "object_fit": null,
            "grid_auto_columns": null,
            "margin": null,
            "display": null,
            "left": null
          }
        },
        "66b337f8fa06432fb764589248abbca2": {
          "model_module": "@jupyter-widgets/controls",
          "model_name": "HBoxModel",
          "model_module_version": "1.5.0",
          "state": {
            "_view_name": "HBoxView",
            "_dom_classes": [],
            "_model_name": "HBoxModel",
            "_view_module": "@jupyter-widgets/controls",
            "_model_module_version": "1.5.0",
            "_view_count": null,
            "_view_module_version": "1.5.0",
            "box_style": "",
            "layout": "IPY_MODEL_78f21527784b434ebf6d2f9af33970e1",
            "_model_module": "@jupyter-widgets/controls",
            "children": [
              "IPY_MODEL_857560ecba724c089a99be9cfb821b16",
              "IPY_MODEL_0b34c3c5aed1427381a9a99af2585b59",
              "IPY_MODEL_ed5e0901919f45f5bde8052cb16d52c5"
            ]
          }
        },
        "78f21527784b434ebf6d2f9af33970e1": {
          "model_module": "@jupyter-widgets/base",
          "model_name": "LayoutModel",
          "model_module_version": "1.2.0",
          "state": {
            "_view_name": "LayoutView",
            "grid_template_rows": null,
            "right": null,
            "justify_content": null,
            "_view_module": "@jupyter-widgets/base",
            "overflow": null,
            "_model_module_version": "1.2.0",
            "_view_count": null,
            "flex_flow": null,
            "width": null,
            "min_width": null,
            "border": null,
            "align_items": null,
            "bottom": null,
            "_model_module": "@jupyter-widgets/base",
            "top": null,
            "grid_column": null,
            "overflow_y": null,
            "overflow_x": null,
            "grid_auto_flow": null,
            "grid_area": null,
            "grid_template_columns": null,
            "flex": null,
            "_model_name": "LayoutModel",
            "justify_items": null,
            "grid_row": null,
            "max_height": null,
            "align_content": null,
            "visibility": null,
            "align_self": null,
            "height": null,
            "min_height": null,
            "padding": null,
            "grid_auto_rows": null,
            "grid_gap": null,
            "max_width": null,
            "order": null,
            "_view_module_version": "1.2.0",
            "grid_template_areas": null,
            "object_position": null,
            "object_fit": null,
            "grid_auto_columns": null,
            "margin": null,
            "display": null,
            "left": null
          }
        },
        "857560ecba724c089a99be9cfb821b16": {
          "model_module": "@jupyter-widgets/controls",
          "model_name": "HTMLModel",
          "model_module_version": "1.5.0",
          "state": {
            "_view_name": "HTMLView",
            "style": "IPY_MODEL_de717433172d4a51884b6a9fdad3ce31",
            "_dom_classes": [],
            "description": "",
            "_model_name": "HTMLModel",
            "placeholder": "​",
            "_view_module": "@jupyter-widgets/controls",
            "_model_module_version": "1.5.0",
            "value": "Downloading: 100%",
            "_view_count": null,
            "_view_module_version": "1.5.0",
            "description_tooltip": null,
            "_model_module": "@jupyter-widgets/controls",
            "layout": "IPY_MODEL_caa876a1639c480db90bc26df8af602e"
          }
        },
        "0b34c3c5aed1427381a9a99af2585b59": {
          "model_module": "@jupyter-widgets/controls",
          "model_name": "FloatProgressModel",
          "model_module_version": "1.5.0",
          "state": {
            "_view_name": "ProgressView",
            "style": "IPY_MODEL_b67b7475bf9042938604fa85c48bd4d0",
            "_dom_classes": [],
            "description": "",
            "_model_name": "FloatProgressModel",
            "bar_style": "success",
            "max": 5646064,
            "_view_module": "@jupyter-widgets/controls",
            "_model_module_version": "1.5.0",
            "value": 5646064,
            "_view_count": null,
            "_view_module_version": "1.5.0",
            "orientation": "horizontal",
            "min": 0,
            "description_tooltip": null,
            "_model_module": "@jupyter-widgets/controls",
            "layout": "IPY_MODEL_65f7f0bc29974d16b546aa57b44cedb9"
          }
        },
        "ed5e0901919f45f5bde8052cb16d52c5": {
          "model_module": "@jupyter-widgets/controls",
          "model_name": "HTMLModel",
          "model_module_version": "1.5.0",
          "state": {
            "_view_name": "HTMLView",
            "style": "IPY_MODEL_c98fecc29c5840c583a3684f5dfb8fd3",
            "_dom_classes": [],
            "description": "",
            "_model_name": "HTMLModel",
            "placeholder": "​",
            "_view_module": "@jupyter-widgets/controls",
            "_model_module_version": "1.5.0",
            "value": " 5.38M/5.38M [00:00&lt;00:00, 9.56MB/s]",
            "_view_count": null,
            "_view_module_version": "1.5.0",
            "description_tooltip": null,
            "_model_module": "@jupyter-widgets/controls",
            "layout": "IPY_MODEL_bc8bc7248c9d40139f51578ede39e7c2"
          }
        },
        "de717433172d4a51884b6a9fdad3ce31": {
          "model_module": "@jupyter-widgets/controls",
          "model_name": "DescriptionStyleModel",
          "model_module_version": "1.5.0",
          "state": {
            "_view_name": "StyleView",
            "_model_name": "DescriptionStyleModel",
            "description_width": "",
            "_view_module": "@jupyter-widgets/base",
            "_model_module_version": "1.5.0",
            "_view_count": null,
            "_view_module_version": "1.2.0",
            "_model_module": "@jupyter-widgets/controls"
          }
        },
        "caa876a1639c480db90bc26df8af602e": {
          "model_module": "@jupyter-widgets/base",
          "model_name": "LayoutModel",
          "model_module_version": "1.2.0",
          "state": {
            "_view_name": "LayoutView",
            "grid_template_rows": null,
            "right": null,
            "justify_content": null,
            "_view_module": "@jupyter-widgets/base",
            "overflow": null,
            "_model_module_version": "1.2.0",
            "_view_count": null,
            "flex_flow": null,
            "width": null,
            "min_width": null,
            "border": null,
            "align_items": null,
            "bottom": null,
            "_model_module": "@jupyter-widgets/base",
            "top": null,
            "grid_column": null,
            "overflow_y": null,
            "overflow_x": null,
            "grid_auto_flow": null,
            "grid_area": null,
            "grid_template_columns": null,
            "flex": null,
            "_model_name": "LayoutModel",
            "justify_items": null,
            "grid_row": null,
            "max_height": null,
            "align_content": null,
            "visibility": null,
            "align_self": null,
            "height": null,
            "min_height": null,
            "padding": null,
            "grid_auto_rows": null,
            "grid_gap": null,
            "max_width": null,
            "order": null,
            "_view_module_version": "1.2.0",
            "grid_template_areas": null,
            "object_position": null,
            "object_fit": null,
            "grid_auto_columns": null,
            "margin": null,
            "display": null,
            "left": null
          }
        },
        "b67b7475bf9042938604fa85c48bd4d0": {
          "model_module": "@jupyter-widgets/controls",
          "model_name": "ProgressStyleModel",
          "model_module_version": "1.5.0",
          "state": {
            "_view_name": "StyleView",
            "_model_name": "ProgressStyleModel",
            "description_width": "",
            "_view_module": "@jupyter-widgets/base",
            "_model_module_version": "1.5.0",
            "_view_count": null,
            "_view_module_version": "1.2.0",
            "bar_color": null,
            "_model_module": "@jupyter-widgets/controls"
          }
        },
        "65f7f0bc29974d16b546aa57b44cedb9": {
          "model_module": "@jupyter-widgets/base",
          "model_name": "LayoutModel",
          "model_module_version": "1.2.0",
          "state": {
            "_view_name": "LayoutView",
            "grid_template_rows": null,
            "right": null,
            "justify_content": null,
            "_view_module": "@jupyter-widgets/base",
            "overflow": null,
            "_model_module_version": "1.2.0",
            "_view_count": null,
            "flex_flow": null,
            "width": null,
            "min_width": null,
            "border": null,
            "align_items": null,
            "bottom": null,
            "_model_module": "@jupyter-widgets/base",
            "top": null,
            "grid_column": null,
            "overflow_y": null,
            "overflow_x": null,
            "grid_auto_flow": null,
            "grid_area": null,
            "grid_template_columns": null,
            "flex": null,
            "_model_name": "LayoutModel",
            "justify_items": null,
            "grid_row": null,
            "max_height": null,
            "align_content": null,
            "visibility": null,
            "align_self": null,
            "height": null,
            "min_height": null,
            "padding": null,
            "grid_auto_rows": null,
            "grid_gap": null,
            "max_width": null,
            "order": null,
            "_view_module_version": "1.2.0",
            "grid_template_areas": null,
            "object_position": null,
            "object_fit": null,
            "grid_auto_columns": null,
            "margin": null,
            "display": null,
            "left": null
          }
        },
        "c98fecc29c5840c583a3684f5dfb8fd3": {
          "model_module": "@jupyter-widgets/controls",
          "model_name": "DescriptionStyleModel",
          "model_module_version": "1.5.0",
          "state": {
            "_view_name": "StyleView",
            "_model_name": "DescriptionStyleModel",
            "description_width": "",
            "_view_module": "@jupyter-widgets/base",
            "_model_module_version": "1.5.0",
            "_view_count": null,
            "_view_module_version": "1.2.0",
            "_model_module": "@jupyter-widgets/controls"
          }
        },
        "bc8bc7248c9d40139f51578ede39e7c2": {
          "model_module": "@jupyter-widgets/base",
          "model_name": "LayoutModel",
          "model_module_version": "1.2.0",
          "state": {
            "_view_name": "LayoutView",
            "grid_template_rows": null,
            "right": null,
            "justify_content": null,
            "_view_module": "@jupyter-widgets/base",
            "overflow": null,
            "_model_module_version": "1.2.0",
            "_view_count": null,
            "flex_flow": null,
            "width": null,
            "min_width": null,
            "border": null,
            "align_items": null,
            "bottom": null,
            "_model_module": "@jupyter-widgets/base",
            "top": null,
            "grid_column": null,
            "overflow_y": null,
            "overflow_x": null,
            "grid_auto_flow": null,
            "grid_area": null,
            "grid_template_columns": null,
            "flex": null,
            "_model_name": "LayoutModel",
            "justify_items": null,
            "grid_row": null,
            "max_height": null,
            "align_content": null,
            "visibility": null,
            "align_self": null,
            "height": null,
            "min_height": null,
            "padding": null,
            "grid_auto_rows": null,
            "grid_gap": null,
            "max_width": null,
            "order": null,
            "_view_module_version": "1.2.0",
            "grid_template_areas": null,
            "object_position": null,
            "object_fit": null,
            "grid_auto_columns": null,
            "margin": null,
            "display": null,
            "left": null
          }
        },
        "80208207c9b1457eae10f8e55d9a744a": {
          "model_module": "@jupyter-widgets/controls",
          "model_name": "HBoxModel",
          "model_module_version": "1.5.0",
          "state": {
            "_view_name": "HBoxView",
            "_dom_classes": [],
            "_model_name": "HBoxModel",
            "_view_module": "@jupyter-widgets/controls",
            "_model_module_version": "1.5.0",
            "_view_count": null,
            "_view_module_version": "1.5.0",
            "box_style": "",
            "layout": "IPY_MODEL_c14ffb3513cb458a9b504fcd2cae7029",
            "_model_module": "@jupyter-widgets/controls",
            "children": [
              "IPY_MODEL_cd31c5e686d04753b1c4cfed53e0eed4",
              "IPY_MODEL_21eb0f359919415f83d76f785fcd153f",
              "IPY_MODEL_19ac420f6ea94506928d3e382342be78"
            ]
          }
        },
        "c14ffb3513cb458a9b504fcd2cae7029": {
          "model_module": "@jupyter-widgets/base",
          "model_name": "LayoutModel",
          "model_module_version": "1.2.0",
          "state": {
            "_view_name": "LayoutView",
            "grid_template_rows": null,
            "right": null,
            "justify_content": null,
            "_view_module": "@jupyter-widgets/base",
            "overflow": null,
            "_model_module_version": "1.2.0",
            "_view_count": null,
            "flex_flow": null,
            "width": null,
            "min_width": null,
            "border": null,
            "align_items": null,
            "bottom": null,
            "_model_module": "@jupyter-widgets/base",
            "top": null,
            "grid_column": null,
            "overflow_y": null,
            "overflow_x": null,
            "grid_auto_flow": null,
            "grid_area": null,
            "grid_template_columns": null,
            "flex": null,
            "_model_name": "LayoutModel",
            "justify_items": null,
            "grid_row": null,
            "max_height": null,
            "align_content": null,
            "visibility": null,
            "align_self": null,
            "height": null,
            "min_height": null,
            "padding": null,
            "grid_auto_rows": null,
            "grid_gap": null,
            "max_width": null,
            "order": null,
            "_view_module_version": "1.2.0",
            "grid_template_areas": null,
            "object_position": null,
            "object_fit": null,
            "grid_auto_columns": null,
            "margin": null,
            "display": null,
            "left": null
          }
        },
        "cd31c5e686d04753b1c4cfed53e0eed4": {
          "model_module": "@jupyter-widgets/controls",
          "model_name": "HTMLModel",
          "model_module_version": "1.5.0",
          "state": {
            "_view_name": "HTMLView",
            "style": "IPY_MODEL_b3bfe003a3d84b0ea9aa44cbf3e5a0d5",
            "_dom_classes": [],
            "description": "",
            "_model_name": "HTMLModel",
            "placeholder": "​",
            "_view_module": "@jupyter-widgets/controls",
            "_model_module_version": "1.5.0",
            "value": "Downloading: 100%",
            "_view_count": null,
            "_view_module_version": "1.5.0",
            "description_tooltip": null,
            "_model_module": "@jupyter-widgets/controls",
            "layout": "IPY_MODEL_42789b1be4e5441eb820834ced54e2fc"
          }
        },
        "21eb0f359919415f83d76f785fcd153f": {
          "model_module": "@jupyter-widgets/controls",
          "model_name": "FloatProgressModel",
          "model_module_version": "1.5.0",
          "state": {
            "_view_name": "ProgressView",
            "style": "IPY_MODEL_902a81a95dc34925af1c6e6fce2fd09e",
            "_dom_classes": [],
            "description": "",
            "_model_name": "FloatProgressModel",
            "bar_style": "success",
            "max": 134982446,
            "_view_module": "@jupyter-widgets/controls",
            "_model_module_version": "1.5.0",
            "value": 134982446,
            "_view_count": null,
            "_view_module_version": "1.5.0",
            "orientation": "horizontal",
            "min": 0,
            "description_tooltip": null,
            "_model_module": "@jupyter-widgets/controls",
            "layout": "IPY_MODEL_2f1bdbd3363a4687961f2e5f4a717e33"
          }
        },
        "19ac420f6ea94506928d3e382342be78": {
          "model_module": "@jupyter-widgets/controls",
          "model_name": "HTMLModel",
          "model_module_version": "1.5.0",
          "state": {
            "_view_name": "HTMLView",
            "style": "IPY_MODEL_6b26e262bfb44747953766e9c82f4216",
            "_dom_classes": [],
            "description": "",
            "_model_name": "HTMLModel",
            "placeholder": "​",
            "_view_module": "@jupyter-widgets/controls",
            "_model_module_version": "1.5.0",
            "value": " 129M/129M [00:04&lt;00:00, 30.8MB/s]",
            "_view_count": null,
            "_view_module_version": "1.5.0",
            "description_tooltip": null,
            "_model_module": "@jupyter-widgets/controls",
            "layout": "IPY_MODEL_39920e6ca1fe4e1e9c7acab79629ac6c"
          }
        },
        "b3bfe003a3d84b0ea9aa44cbf3e5a0d5": {
          "model_module": "@jupyter-widgets/controls",
          "model_name": "DescriptionStyleModel",
          "model_module_version": "1.5.0",
          "state": {
            "_view_name": "StyleView",
            "_model_name": "DescriptionStyleModel",
            "description_width": "",
            "_view_module": "@jupyter-widgets/base",
            "_model_module_version": "1.5.0",
            "_view_count": null,
            "_view_module_version": "1.2.0",
            "_model_module": "@jupyter-widgets/controls"
          }
        },
        "42789b1be4e5441eb820834ced54e2fc": {
          "model_module": "@jupyter-widgets/base",
          "model_name": "LayoutModel",
          "model_module_version": "1.2.0",
          "state": {
            "_view_name": "LayoutView",
            "grid_template_rows": null,
            "right": null,
            "justify_content": null,
            "_view_module": "@jupyter-widgets/base",
            "overflow": null,
            "_model_module_version": "1.2.0",
            "_view_count": null,
            "flex_flow": null,
            "width": null,
            "min_width": null,
            "border": null,
            "align_items": null,
            "bottom": null,
            "_model_module": "@jupyter-widgets/base",
            "top": null,
            "grid_column": null,
            "overflow_y": null,
            "overflow_x": null,
            "grid_auto_flow": null,
            "grid_area": null,
            "grid_template_columns": null,
            "flex": null,
            "_model_name": "LayoutModel",
            "justify_items": null,
            "grid_row": null,
            "max_height": null,
            "align_content": null,
            "visibility": null,
            "align_self": null,
            "height": null,
            "min_height": null,
            "padding": null,
            "grid_auto_rows": null,
            "grid_gap": null,
            "max_width": null,
            "order": null,
            "_view_module_version": "1.2.0",
            "grid_template_areas": null,
            "object_position": null,
            "object_fit": null,
            "grid_auto_columns": null,
            "margin": null,
            "display": null,
            "left": null
          }
        },
        "902a81a95dc34925af1c6e6fce2fd09e": {
          "model_module": "@jupyter-widgets/controls",
          "model_name": "ProgressStyleModel",
          "model_module_version": "1.5.0",
          "state": {
            "_view_name": "StyleView",
            "_model_name": "ProgressStyleModel",
            "description_width": "",
            "_view_module": "@jupyter-widgets/base",
            "_model_module_version": "1.5.0",
            "_view_count": null,
            "_view_module_version": "1.2.0",
            "bar_color": null,
            "_model_module": "@jupyter-widgets/controls"
          }
        },
        "2f1bdbd3363a4687961f2e5f4a717e33": {
          "model_module": "@jupyter-widgets/base",
          "model_name": "LayoutModel",
          "model_module_version": "1.2.0",
          "state": {
            "_view_name": "LayoutView",
            "grid_template_rows": null,
            "right": null,
            "justify_content": null,
            "_view_module": "@jupyter-widgets/base",
            "overflow": null,
            "_model_module_version": "1.2.0",
            "_view_count": null,
            "flex_flow": null,
            "width": null,
            "min_width": null,
            "border": null,
            "align_items": null,
            "bottom": null,
            "_model_module": "@jupyter-widgets/base",
            "top": null,
            "grid_column": null,
            "overflow_y": null,
            "overflow_x": null,
            "grid_auto_flow": null,
            "grid_area": null,
            "grid_template_columns": null,
            "flex": null,
            "_model_name": "LayoutModel",
            "justify_items": null,
            "grid_row": null,
            "max_height": null,
            "align_content": null,
            "visibility": null,
            "align_self": null,
            "height": null,
            "min_height": null,
            "padding": null,
            "grid_auto_rows": null,
            "grid_gap": null,
            "max_width": null,
            "order": null,
            "_view_module_version": "1.2.0",
            "grid_template_areas": null,
            "object_position": null,
            "object_fit": null,
            "grid_auto_columns": null,
            "margin": null,
            "display": null,
            "left": null
          }
        },
        "6b26e262bfb44747953766e9c82f4216": {
          "model_module": "@jupyter-widgets/controls",
          "model_name": "DescriptionStyleModel",
          "model_module_version": "1.5.0",
          "state": {
            "_view_name": "StyleView",
            "_model_name": "DescriptionStyleModel",
            "description_width": "",
            "_view_module": "@jupyter-widgets/base",
            "_model_module_version": "1.5.0",
            "_view_count": null,
            "_view_module_version": "1.2.0",
            "_model_module": "@jupyter-widgets/controls"
          }
        },
        "39920e6ca1fe4e1e9c7acab79629ac6c": {
          "model_module": "@jupyter-widgets/base",
          "model_name": "LayoutModel",
          "model_module_version": "1.2.0",
          "state": {
            "_view_name": "LayoutView",
            "grid_template_rows": null,
            "right": null,
            "justify_content": null,
            "_view_module": "@jupyter-widgets/base",
            "overflow": null,
            "_model_module_version": "1.2.0",
            "_view_count": null,
            "flex_flow": null,
            "width": null,
            "min_width": null,
            "border": null,
            "align_items": null,
            "bottom": null,
            "_model_module": "@jupyter-widgets/base",
            "top": null,
            "grid_column": null,
            "overflow_y": null,
            "overflow_x": null,
            "grid_auto_flow": null,
            "grid_area": null,
            "grid_template_columns": null,
            "flex": null,
            "_model_name": "LayoutModel",
            "justify_items": null,
            "grid_row": null,
            "max_height": null,
            "align_content": null,
            "visibility": null,
            "align_self": null,
            "height": null,
            "min_height": null,
            "padding": null,
            "grid_auto_rows": null,
            "grid_gap": null,
            "max_width": null,
            "order": null,
            "_view_module_version": "1.2.0",
            "grid_template_areas": null,
            "object_position": null,
            "object_fit": null,
            "grid_auto_columns": null,
            "margin": null,
            "display": null,
            "left": null
          }
        },
        "0fb389803884403c8927515c9ea243c0": {
          "model_module": "@jupyter-widgets/controls",
          "model_name": "HBoxModel",
          "model_module_version": "1.5.0",
          "state": {
            "_view_name": "HBoxView",
            "_dom_classes": [],
            "_model_name": "HBoxModel",
            "_view_module": "@jupyter-widgets/controls",
            "_model_module_version": "1.5.0",
            "_view_count": null,
            "_view_module_version": "1.5.0",
            "box_style": "",
            "layout": "IPY_MODEL_fa7cd8cd216041ee937504d9c4203000",
            "_model_module": "@jupyter-widgets/controls",
            "children": [
              "IPY_MODEL_829501df07e04cd8b1385db1b76b44f0",
              "IPY_MODEL_3e0f6690f5ab4a0d8c67bd84c5bb7ab8",
              "IPY_MODEL_d6a2be7353984a84a3d8546b578cc23a"
            ]
          }
        },
        "fa7cd8cd216041ee937504d9c4203000": {
          "model_module": "@jupyter-widgets/base",
          "model_name": "LayoutModel",
          "model_module_version": "1.2.0",
          "state": {
            "_view_name": "LayoutView",
            "grid_template_rows": null,
            "right": null,
            "justify_content": null,
            "_view_module": "@jupyter-widgets/base",
            "overflow": null,
            "_model_module_version": "1.2.0",
            "_view_count": null,
            "flex_flow": null,
            "width": null,
            "min_width": null,
            "border": null,
            "align_items": null,
            "bottom": null,
            "_model_module": "@jupyter-widgets/base",
            "top": null,
            "grid_column": null,
            "overflow_y": null,
            "overflow_x": null,
            "grid_auto_flow": null,
            "grid_area": null,
            "grid_template_columns": null,
            "flex": null,
            "_model_name": "LayoutModel",
            "justify_items": null,
            "grid_row": null,
            "max_height": null,
            "align_content": null,
            "visibility": null,
            "align_self": null,
            "height": null,
            "min_height": null,
            "padding": null,
            "grid_auto_rows": null,
            "grid_gap": null,
            "max_width": null,
            "order": null,
            "_view_module_version": "1.2.0",
            "grid_template_areas": null,
            "object_position": null,
            "object_fit": null,
            "grid_auto_columns": null,
            "margin": null,
            "display": null,
            "left": null
          }
        },
        "829501df07e04cd8b1385db1b76b44f0": {
          "model_module": "@jupyter-widgets/controls",
          "model_name": "HTMLModel",
          "model_module_version": "1.5.0",
          "state": {
            "_view_name": "HTMLView",
            "style": "IPY_MODEL_725c990d602440d58a00f74932f69c84",
            "_dom_classes": [],
            "description": "",
            "_model_name": "HTMLModel",
            "placeholder": "​",
            "_view_module": "@jupyter-widgets/controls",
            "_model_module_version": "1.5.0",
            "value": "100%",
            "_view_count": null,
            "_view_module_version": "1.5.0",
            "description_tooltip": null,
            "_model_module": "@jupyter-widgets/controls",
            "layout": "IPY_MODEL_ed4e6134fcc1477c8b40d051fea2ea0e"
          }
        },
        "3e0f6690f5ab4a0d8c67bd84c5bb7ab8": {
          "model_module": "@jupyter-widgets/controls",
          "model_name": "FloatProgressModel",
          "model_module_version": "1.5.0",
          "state": {
            "_view_name": "ProgressView",
            "style": "IPY_MODEL_5e661ee78fbf43e886d59aaa69fec5db",
            "_dom_classes": [],
            "description": "",
            "_model_name": "FloatProgressModel",
            "bar_style": "success",
            "max": 10,
            "_view_module": "@jupyter-widgets/controls",
            "_model_module_version": "1.5.0",
            "value": 10,
            "_view_count": null,
            "_view_module_version": "1.5.0",
            "orientation": "horizontal",
            "min": 0,
            "description_tooltip": null,
            "_model_module": "@jupyter-widgets/controls",
            "layout": "IPY_MODEL_b8cc1b1e46164d7eb7b96c9144a97223"
          }
        },
        "d6a2be7353984a84a3d8546b578cc23a": {
          "model_module": "@jupyter-widgets/controls",
          "model_name": "HTMLModel",
          "model_module_version": "1.5.0",
          "state": {
            "_view_name": "HTMLView",
            "style": "IPY_MODEL_de387533083a40c98ab0dd1a09ec21cd",
            "_dom_classes": [],
            "description": "",
            "_model_name": "HTMLModel",
            "placeholder": "​",
            "_view_module": "@jupyter-widgets/controls",
            "_model_module_version": "1.5.0",
            "value": " 10/10 [20:26&lt;00:00, 122.68s/it]",
            "_view_count": null,
            "_view_module_version": "1.5.0",
            "description_tooltip": null,
            "_model_module": "@jupyter-widgets/controls",
            "layout": "IPY_MODEL_cb5c04d9c10341d18d16e39bd611a571"
          }
        },
        "725c990d602440d58a00f74932f69c84": {
          "model_module": "@jupyter-widgets/controls",
          "model_name": "DescriptionStyleModel",
          "model_module_version": "1.5.0",
          "state": {
            "_view_name": "StyleView",
            "_model_name": "DescriptionStyleModel",
            "description_width": "",
            "_view_module": "@jupyter-widgets/base",
            "_model_module_version": "1.5.0",
            "_view_count": null,
            "_view_module_version": "1.2.0",
            "_model_module": "@jupyter-widgets/controls"
          }
        },
        "ed4e6134fcc1477c8b40d051fea2ea0e": {
          "model_module": "@jupyter-widgets/base",
          "model_name": "LayoutModel",
          "model_module_version": "1.2.0",
          "state": {
            "_view_name": "LayoutView",
            "grid_template_rows": null,
            "right": null,
            "justify_content": null,
            "_view_module": "@jupyter-widgets/base",
            "overflow": null,
            "_model_module_version": "1.2.0",
            "_view_count": null,
            "flex_flow": null,
            "width": null,
            "min_width": null,
            "border": null,
            "align_items": null,
            "bottom": null,
            "_model_module": "@jupyter-widgets/base",
            "top": null,
            "grid_column": null,
            "overflow_y": null,
            "overflow_x": null,
            "grid_auto_flow": null,
            "grid_area": null,
            "grid_template_columns": null,
            "flex": null,
            "_model_name": "LayoutModel",
            "justify_items": null,
            "grid_row": null,
            "max_height": null,
            "align_content": null,
            "visibility": null,
            "align_self": null,
            "height": null,
            "min_height": null,
            "padding": null,
            "grid_auto_rows": null,
            "grid_gap": null,
            "max_width": null,
            "order": null,
            "_view_module_version": "1.2.0",
            "grid_template_areas": null,
            "object_position": null,
            "object_fit": null,
            "grid_auto_columns": null,
            "margin": null,
            "display": null,
            "left": null
          }
        },
        "5e661ee78fbf43e886d59aaa69fec5db": {
          "model_module": "@jupyter-widgets/controls",
          "model_name": "ProgressStyleModel",
          "model_module_version": "1.5.0",
          "state": {
            "_view_name": "StyleView",
            "_model_name": "ProgressStyleModel",
            "description_width": "",
            "_view_module": "@jupyter-widgets/base",
            "_model_module_version": "1.5.0",
            "_view_count": null,
            "_view_module_version": "1.2.0",
            "bar_color": null,
            "_model_module": "@jupyter-widgets/controls"
          }
        },
        "b8cc1b1e46164d7eb7b96c9144a97223": {
          "model_module": "@jupyter-widgets/base",
          "model_name": "LayoutModel",
          "model_module_version": "1.2.0",
          "state": {
            "_view_name": "LayoutView",
            "grid_template_rows": null,
            "right": null,
            "justify_content": null,
            "_view_module": "@jupyter-widgets/base",
            "overflow": null,
            "_model_module_version": "1.2.0",
            "_view_count": null,
            "flex_flow": null,
            "width": null,
            "min_width": null,
            "border": null,
            "align_items": null,
            "bottom": null,
            "_model_module": "@jupyter-widgets/base",
            "top": null,
            "grid_column": null,
            "overflow_y": null,
            "overflow_x": null,
            "grid_auto_flow": null,
            "grid_area": null,
            "grid_template_columns": null,
            "flex": null,
            "_model_name": "LayoutModel",
            "justify_items": null,
            "grid_row": null,
            "max_height": null,
            "align_content": null,
            "visibility": null,
            "align_self": null,
            "height": null,
            "min_height": null,
            "padding": null,
            "grid_auto_rows": null,
            "grid_gap": null,
            "max_width": null,
            "order": null,
            "_view_module_version": "1.2.0",
            "grid_template_areas": null,
            "object_position": null,
            "object_fit": null,
            "grid_auto_columns": null,
            "margin": null,
            "display": null,
            "left": null
          }
        },
        "de387533083a40c98ab0dd1a09ec21cd": {
          "model_module": "@jupyter-widgets/controls",
          "model_name": "DescriptionStyleModel",
          "model_module_version": "1.5.0",
          "state": {
            "_view_name": "StyleView",
            "_model_name": "DescriptionStyleModel",
            "description_width": "",
            "_view_module": "@jupyter-widgets/base",
            "_model_module_version": "1.5.0",
            "_view_count": null,
            "_view_module_version": "1.2.0",
            "_model_module": "@jupyter-widgets/controls"
          }
        },
        "cb5c04d9c10341d18d16e39bd611a571": {
          "model_module": "@jupyter-widgets/base",
          "model_name": "LayoutModel",
          "model_module_version": "1.2.0",
          "state": {
            "_view_name": "LayoutView",
            "grid_template_rows": null,
            "right": null,
            "justify_content": null,
            "_view_module": "@jupyter-widgets/base",
            "overflow": null,
            "_model_module_version": "1.2.0",
            "_view_count": null,
            "flex_flow": null,
            "width": null,
            "min_width": null,
            "border": null,
            "align_items": null,
            "bottom": null,
            "_model_module": "@jupyter-widgets/base",
            "top": null,
            "grid_column": null,
            "overflow_y": null,
            "overflow_x": null,
            "grid_auto_flow": null,
            "grid_area": null,
            "grid_template_columns": null,
            "flex": null,
            "_model_name": "LayoutModel",
            "justify_items": null,
            "grid_row": null,
            "max_height": null,
            "align_content": null,
            "visibility": null,
            "align_self": null,
            "height": null,
            "min_height": null,
            "padding": null,
            "grid_auto_rows": null,
            "grid_gap": null,
            "max_width": null,
            "order": null,
            "_view_module_version": "1.2.0",
            "grid_template_areas": null,
            "object_position": null,
            "object_fit": null,
            "grid_auto_columns": null,
            "margin": null,
            "display": null,
            "left": null
          }
        },
        "30ece1737c4f4ae890a1d188c76363ea": {
          "model_module": "@jupyter-widgets/controls",
          "model_name": "HBoxModel",
          "model_module_version": "1.5.0",
          "state": {
            "_view_name": "HBoxView",
            "_dom_classes": [],
            "_model_name": "HBoxModel",
            "_view_module": "@jupyter-widgets/controls",
            "_model_module_version": "1.5.0",
            "_view_count": null,
            "_view_module_version": "1.5.0",
            "box_style": "",
            "layout": "IPY_MODEL_169e6cf9c92e4d6188929e067d0bfb60",
            "_model_module": "@jupyter-widgets/controls",
            "children": [
              "IPY_MODEL_b8c134e5ac3541cda43f092c63b42cfb",
              "IPY_MODEL_0ab663d6869148339148c247b6b843d8",
              "IPY_MODEL_c55722f1f40e42fdb3b2ec48868e987d"
            ]
          }
        },
        "169e6cf9c92e4d6188929e067d0bfb60": {
          "model_module": "@jupyter-widgets/base",
          "model_name": "LayoutModel",
          "model_module_version": "1.2.0",
          "state": {
            "_view_name": "LayoutView",
            "grid_template_rows": null,
            "right": null,
            "justify_content": null,
            "_view_module": "@jupyter-widgets/base",
            "overflow": null,
            "_model_module_version": "1.2.0",
            "_view_count": null,
            "flex_flow": null,
            "width": null,
            "min_width": null,
            "border": null,
            "align_items": null,
            "bottom": null,
            "_model_module": "@jupyter-widgets/base",
            "top": null,
            "grid_column": null,
            "overflow_y": null,
            "overflow_x": null,
            "grid_auto_flow": null,
            "grid_area": null,
            "grid_template_columns": null,
            "flex": null,
            "_model_name": "LayoutModel",
            "justify_items": null,
            "grid_row": null,
            "max_height": null,
            "align_content": null,
            "visibility": null,
            "align_self": null,
            "height": null,
            "min_height": null,
            "padding": null,
            "grid_auto_rows": null,
            "grid_gap": null,
            "max_width": null,
            "order": null,
            "_view_module_version": "1.2.0",
            "grid_template_areas": null,
            "object_position": null,
            "object_fit": null,
            "grid_auto_columns": null,
            "margin": null,
            "display": null,
            "left": null
          }
        },
        "b8c134e5ac3541cda43f092c63b42cfb": {
          "model_module": "@jupyter-widgets/controls",
          "model_name": "HTMLModel",
          "model_module_version": "1.5.0",
          "state": {
            "_view_name": "HTMLView",
            "style": "IPY_MODEL_d943629776cc41b4af5543503341cfe1",
            "_dom_classes": [],
            "description": "",
            "_model_name": "HTMLModel",
            "placeholder": "​",
            "_view_module": "@jupyter-widgets/controls",
            "_model_module_version": "1.5.0",
            "value": "100%",
            "_view_count": null,
            "_view_module_version": "1.5.0",
            "description_tooltip": null,
            "_model_module": "@jupyter-widgets/controls",
            "layout": "IPY_MODEL_4434e431c6674baf894c1f0f53d41642"
          }
        },
        "0ab663d6869148339148c247b6b843d8": {
          "model_module": "@jupyter-widgets/controls",
          "model_name": "FloatProgressModel",
          "model_module_version": "1.5.0",
          "state": {
            "_view_name": "ProgressView",
            "style": "IPY_MODEL_1085e9b159ed4c89afd4647f354d96e1",
            "_dom_classes": [],
            "description": "",
            "_model_name": "FloatProgressModel",
            "bar_style": "success",
            "max": 10,
            "_view_module": "@jupyter-widgets/controls",
            "_model_module_version": "1.5.0",
            "value": 10,
            "_view_count": null,
            "_view_module_version": "1.5.0",
            "orientation": "horizontal",
            "min": 0,
            "description_tooltip": null,
            "_model_module": "@jupyter-widgets/controls",
            "layout": "IPY_MODEL_f25df2da38a04ea691dd551eda8dffc6"
          }
        },
        "c55722f1f40e42fdb3b2ec48868e987d": {
          "model_module": "@jupyter-widgets/controls",
          "model_name": "HTMLModel",
          "model_module_version": "1.5.0",
          "state": {
            "_view_name": "HTMLView",
            "style": "IPY_MODEL_99f18fdee4af429b94fab216ada2a4da",
            "_dom_classes": [],
            "description": "",
            "_model_name": "HTMLModel",
            "placeholder": "​",
            "_view_module": "@jupyter-widgets/controls",
            "_model_module_version": "1.5.0",
            "value": " 10/10 [25:07&lt;00:00, 151.22s/it]",
            "_view_count": null,
            "_view_module_version": "1.5.0",
            "description_tooltip": null,
            "_model_module": "@jupyter-widgets/controls",
            "layout": "IPY_MODEL_819e1c981f72475bb3685eae652e0236"
          }
        },
        "d943629776cc41b4af5543503341cfe1": {
          "model_module": "@jupyter-widgets/controls",
          "model_name": "DescriptionStyleModel",
          "model_module_version": "1.5.0",
          "state": {
            "_view_name": "StyleView",
            "_model_name": "DescriptionStyleModel",
            "description_width": "",
            "_view_module": "@jupyter-widgets/base",
            "_model_module_version": "1.5.0",
            "_view_count": null,
            "_view_module_version": "1.2.0",
            "_model_module": "@jupyter-widgets/controls"
          }
        },
        "4434e431c6674baf894c1f0f53d41642": {
          "model_module": "@jupyter-widgets/base",
          "model_name": "LayoutModel",
          "model_module_version": "1.2.0",
          "state": {
            "_view_name": "LayoutView",
            "grid_template_rows": null,
            "right": null,
            "justify_content": null,
            "_view_module": "@jupyter-widgets/base",
            "overflow": null,
            "_model_module_version": "1.2.0",
            "_view_count": null,
            "flex_flow": null,
            "width": null,
            "min_width": null,
            "border": null,
            "align_items": null,
            "bottom": null,
            "_model_module": "@jupyter-widgets/base",
            "top": null,
            "grid_column": null,
            "overflow_y": null,
            "overflow_x": null,
            "grid_auto_flow": null,
            "grid_area": null,
            "grid_template_columns": null,
            "flex": null,
            "_model_name": "LayoutModel",
            "justify_items": null,
            "grid_row": null,
            "max_height": null,
            "align_content": null,
            "visibility": null,
            "align_self": null,
            "height": null,
            "min_height": null,
            "padding": null,
            "grid_auto_rows": null,
            "grid_gap": null,
            "max_width": null,
            "order": null,
            "_view_module_version": "1.2.0",
            "grid_template_areas": null,
            "object_position": null,
            "object_fit": null,
            "grid_auto_columns": null,
            "margin": null,
            "display": null,
            "left": null
          }
        },
        "1085e9b159ed4c89afd4647f354d96e1": {
          "model_module": "@jupyter-widgets/controls",
          "model_name": "ProgressStyleModel",
          "model_module_version": "1.5.0",
          "state": {
            "_view_name": "StyleView",
            "_model_name": "ProgressStyleModel",
            "description_width": "",
            "_view_module": "@jupyter-widgets/base",
            "_model_module_version": "1.5.0",
            "_view_count": null,
            "_view_module_version": "1.2.0",
            "bar_color": null,
            "_model_module": "@jupyter-widgets/controls"
          }
        },
        "f25df2da38a04ea691dd551eda8dffc6": {
          "model_module": "@jupyter-widgets/base",
          "model_name": "LayoutModel",
          "model_module_version": "1.2.0",
          "state": {
            "_view_name": "LayoutView",
            "grid_template_rows": null,
            "right": null,
            "justify_content": null,
            "_view_module": "@jupyter-widgets/base",
            "overflow": null,
            "_model_module_version": "1.2.0",
            "_view_count": null,
            "flex_flow": null,
            "width": null,
            "min_width": null,
            "border": null,
            "align_items": null,
            "bottom": null,
            "_model_module": "@jupyter-widgets/base",
            "top": null,
            "grid_column": null,
            "overflow_y": null,
            "overflow_x": null,
            "grid_auto_flow": null,
            "grid_area": null,
            "grid_template_columns": null,
            "flex": null,
            "_model_name": "LayoutModel",
            "justify_items": null,
            "grid_row": null,
            "max_height": null,
            "align_content": null,
            "visibility": null,
            "align_self": null,
            "height": null,
            "min_height": null,
            "padding": null,
            "grid_auto_rows": null,
            "grid_gap": null,
            "max_width": null,
            "order": null,
            "_view_module_version": "1.2.0",
            "grid_template_areas": null,
            "object_position": null,
            "object_fit": null,
            "grid_auto_columns": null,
            "margin": null,
            "display": null,
            "left": null
          }
        },
        "99f18fdee4af429b94fab216ada2a4da": {
          "model_module": "@jupyter-widgets/controls",
          "model_name": "DescriptionStyleModel",
          "model_module_version": "1.5.0",
          "state": {
            "_view_name": "StyleView",
            "_model_name": "DescriptionStyleModel",
            "description_width": "",
            "_view_module": "@jupyter-widgets/base",
            "_model_module_version": "1.5.0",
            "_view_count": null,
            "_view_module_version": "1.2.0",
            "_model_module": "@jupyter-widgets/controls"
          }
        },
        "819e1c981f72475bb3685eae652e0236": {
          "model_module": "@jupyter-widgets/base",
          "model_name": "LayoutModel",
          "model_module_version": "1.2.0",
          "state": {
            "_view_name": "LayoutView",
            "grid_template_rows": null,
            "right": null,
            "justify_content": null,
            "_view_module": "@jupyter-widgets/base",
            "overflow": null,
            "_model_module_version": "1.2.0",
            "_view_count": null,
            "flex_flow": null,
            "width": null,
            "min_width": null,
            "border": null,
            "align_items": null,
            "bottom": null,
            "_model_module": "@jupyter-widgets/base",
            "top": null,
            "grid_column": null,
            "overflow_y": null,
            "overflow_x": null,
            "grid_auto_flow": null,
            "grid_area": null,
            "grid_template_columns": null,
            "flex": null,
            "_model_name": "LayoutModel",
            "justify_items": null,
            "grid_row": null,
            "max_height": null,
            "align_content": null,
            "visibility": null,
            "align_self": null,
            "height": null,
            "min_height": null,
            "padding": null,
            "grid_auto_rows": null,
            "grid_gap": null,
            "max_width": null,
            "order": null,
            "_view_module_version": "1.2.0",
            "grid_template_areas": null,
            "object_position": null,
            "object_fit": null,
            "grid_auto_columns": null,
            "margin": null,
            "display": null,
            "left": null
          }
        }
      }
    }
  },
  "cells": [
    {
      "cell_type": "code",
      "metadata": {
        "id": "aEpKvDqBjyjy"
      },
      "source": [
        "!pip install transformers -q\n",
        "!pip install sentencepiece -q"
      ],
      "execution_count": 2,
      "outputs": []
    },
    {
      "cell_type": "code",
      "metadata": {
        "colab": {
          "base_uri": "https://localhost:8080/"
        },
        "id": "Xh4ZQuEAhyf1",
        "outputId": "78cca43d-3c50-48f0-e51d-f4cef9bb02b4"
      },
      "source": [
        "# # Mount Google drive to upload datasets\n",
        "from google.colab import drive\n",
        "drive.mount('/content/drive')"
      ],
      "execution_count": 3,
      "outputs": [
        {
          "output_type": "stream",
          "name": "stdout",
          "text": [
            "Mounted at /content/drive\n"
          ]
        }
      ]
    },
    {
      "cell_type": "code",
      "metadata": {
        "id": "AFt05MH047S_"
      },
      "source": [
        "# The path to the data on my drive\n",
        "D = '/content/drive/My Drive/W266_Project_Data/pmi_data'"
      ],
      "execution_count": 4,
      "outputs": []
    },
    {
      "cell_type": "code",
      "metadata": {
        "id": "73eMNw7I42QK"
      },
      "source": [
        "# Import the necessary libraries\n",
        "import numpy as np\n",
        "import pandas as pd\n",
        "import copy\n",
        "from tqdm.auto import tqdm\n",
        "from transformers import AutoTokenizer, AutoModel\n",
        "\n",
        "import torch\n",
        "from torch.utils.data import Dataset, DataLoader, WeightedRandomSampler\n",
        "from torch import optim\n",
        "import torch.nn.functional as F\n",
        "\n",
        "from sklearn.model_selection import train_test_split\n",
        "from sklearn.model_selection import train_test_split\n",
        "from sklearn.metrics import f1_score, accuracy_score, confusion_matrix, classification_report\n",
        "import seaborn as sns\n",
        "import matplotlib.pyplot as plt"
      ],
      "execution_count": 5,
      "outputs": []
    },
    {
      "cell_type": "code",
      "metadata": {
        "id": "gtAUzNkoBvA1"
      },
      "source": [
        "# Load the paraphrase training, dev, and test sets previously created in the last run\n",
        "paraphrase_train = pd.read_csv(D+\"/xml/amrita-paraphrase-exact/paraphrase_train_w_punjabi.csv\")\n",
        "paraphrase_train.drop(columns={\"Unnamed: 0\"}, inplace=True)\n",
        "\n",
        "paraphrase_dev = pd.read_csv(D+\"/xml/amrita-paraphrase-exact/paraphrase_dev_w_punjabi.csv\")\n",
        "paraphrase_dev.drop(columns={\"Unnamed: 0\"}, inplace=True)\n",
        "\n",
        "paraphrase_test = pd.read_csv(D+\"/xml/amrita-paraphrase-exact/paraphrase_test_w_punjabi.csv\")\n",
        "paraphrase_test.drop(columns={\"Unnamed: 0\"}, inplace=True)"
      ],
      "execution_count": 6,
      "outputs": []
    },
    {
      "cell_type": "code",
      "metadata": {
        "id": "NatcSQnWoP1c"
      },
      "source": [
        "# Filter the train, dev, and test datasets to filter by language origin (Aryan vs Dravidian)\n",
        "aryan_train = paraphrase_train[(paraphrase_train.language_task == 'translate English to Hindi') | (paraphrase_train.language_task == 'translate English to Punjabi')]\n",
        "aryan_dev = paraphrase_dev[(paraphrase_dev.language_task == 'translate English to Hindi') | (paraphrase_dev.language_task == 'translate English to Punjabi')]\n",
        "aryan_test = paraphrase_test[(paraphrase_test.language_task == 'translate English to Hindi') | (paraphrase_test.language_task == 'translate English to Punjabi')]\n",
        "\n",
        "drav_train = paraphrase_train[(paraphrase_train.language_task == 'translate English to Tamil') | (paraphrase_train.language_task == 'translate English to Malayalam')]\n",
        "drav_dev = paraphrase_dev[(paraphrase_dev.language_task == 'translate English to Tamil') | (paraphrase_dev.language_task == 'translate English to Malayalam')]\n",
        "drav_test = paraphrase_test[(paraphrase_test.language_task == 'translate English to Tamil') | (paraphrase_test.language_task == 'translate English to Malayalam')]"
      ],
      "execution_count": 7,
      "outputs": []
    },
    {
      "cell_type": "code",
      "metadata": {
        "id": "0dji4wrx9Q8h"
      },
      "source": [
        "# Set up the device to run on GPU if available\n",
        "device = torch.device('cuda') if torch.cuda.is_available() else torch.device('cpu')"
      ],
      "execution_count": 8,
      "outputs": []
    },
    {
      "cell_type": "code",
      "metadata": {
        "colab": {
          "base_uri": "https://localhost:8080/",
          "height": 185,
          "referenced_widgets": [
            "a39c0386efa044ea89c5e5bfe38b9a18",
            "2050dcce700248a39be1d611e94c9f96",
            "11368dbdc64840bc9d8b92d4416f9eb1",
            "92fef24e38af4277b814c0475bb41069",
            "dc68837eff514f9b88cf42557b5c3232",
            "66f772c6b0814ae69fad8ad1af66bd1d",
            "409189fb665a4eaa81261f6a9134fd7c",
            "22bf5e92282a40038d76f28ac71b161c",
            "83fd75d1817f46a18cd882e36694e4f0",
            "23b0cb5a78ca4aab866be3714afcb8ff",
            "98fb0bf68c9d42a38804880567e70b1c",
            "66b337f8fa06432fb764589248abbca2",
            "78f21527784b434ebf6d2f9af33970e1",
            "857560ecba724c089a99be9cfb821b16",
            "0b34c3c5aed1427381a9a99af2585b59",
            "ed5e0901919f45f5bde8052cb16d52c5",
            "de717433172d4a51884b6a9fdad3ce31",
            "caa876a1639c480db90bc26df8af602e",
            "b67b7475bf9042938604fa85c48bd4d0",
            "65f7f0bc29974d16b546aa57b44cedb9",
            "c98fecc29c5840c583a3684f5dfb8fd3",
            "bc8bc7248c9d40139f51578ede39e7c2",
            "80208207c9b1457eae10f8e55d9a744a",
            "c14ffb3513cb458a9b504fcd2cae7029",
            "cd31c5e686d04753b1c4cfed53e0eed4",
            "21eb0f359919415f83d76f785fcd153f",
            "19ac420f6ea94506928d3e382342be78",
            "b3bfe003a3d84b0ea9aa44cbf3e5a0d5",
            "42789b1be4e5441eb820834ced54e2fc",
            "902a81a95dc34925af1c6e6fce2fd09e",
            "2f1bdbd3363a4687961f2e5f4a717e33",
            "6b26e262bfb44747953766e9c82f4216",
            "39920e6ca1fe4e1e9c7acab79629ac6c"
          ]
        },
        "id": "X0QlHNG50J3f",
        "outputId": "d6ee7e73-896b-40e1-c8a8-718e8bf79053"
      },
      "source": [
        "# Create an instance of the tokenizer and model using Indic Bert\n",
        "tokenizer = AutoTokenizer.from_pretrained('ai4bharat/indic-bert', keep_accents=True)\n",
        "model = AutoModel.from_pretrained('ai4bharat/indic-bert')"
      ],
      "execution_count": 9,
      "outputs": [
        {
          "output_type": "display_data",
          "data": {
            "application/vnd.jupyter.widget-view+json": {
              "model_id": "a39c0386efa044ea89c5e5bfe38b9a18",
              "version_minor": 0,
              "version_major": 2
            },
            "text/plain": [
              "Downloading:   0%|          | 0.00/507 [00:00<?, ?B/s]"
            ]
          },
          "metadata": {}
        },
        {
          "output_type": "display_data",
          "data": {
            "application/vnd.jupyter.widget-view+json": {
              "model_id": "66b337f8fa06432fb764589248abbca2",
              "version_minor": 0,
              "version_major": 2
            },
            "text/plain": [
              "Downloading:   0%|          | 0.00/5.38M [00:00<?, ?B/s]"
            ]
          },
          "metadata": {}
        },
        {
          "output_type": "display_data",
          "data": {
            "application/vnd.jupyter.widget-view+json": {
              "model_id": "80208207c9b1457eae10f8e55d9a744a",
              "version_minor": 0,
              "version_major": 2
            },
            "text/plain": [
              "Downloading:   0%|          | 0.00/129M [00:00<?, ?B/s]"
            ]
          },
          "metadata": {}
        },
        {
          "output_type": "stream",
          "name": "stderr",
          "text": [
            "Some weights of the model checkpoint at ai4bharat/indic-bert were not used when initializing AlbertModel: ['predictions.decoder.bias', 'predictions.bias', 'predictions.LayerNorm.weight', 'sop_classifier.classifier.weight', 'predictions.LayerNorm.bias', 'sop_classifier.classifier.bias', 'predictions.decoder.weight', 'predictions.dense.weight', 'predictions.dense.bias']\n",
            "- This IS expected if you are initializing AlbertModel from the checkpoint of a model trained on another task or with another architecture (e.g. initializing a BertForSequenceClassification model from a BertForPreTraining model).\n",
            "- This IS NOT expected if you are initializing AlbertModel from the checkpoint of a model that you expect to be exactly identical (initializing a BertForSequenceClassification model from a BertForSequenceClassification model).\n"
          ]
        }
      ]
    },
    {
      "cell_type": "code",
      "metadata": {
        "id": "lxDEP5ZAL5DP"
      },
      "source": [
        "# Mean Pooling - Take attention mask into account for correct averaging\n",
        "def mean_pooling(model_output, attention_mask):\n",
        "    token_embeddings = model_output[0]\n",
        "    input_mask_expanded = attention_mask.unsqueeze(-1).expand(token_embeddings.size()).float()\n",
        "    sum_embeddings = torch.sum(token_embeddings * input_mask_expanded, 1)\n",
        "    sum_mask = torch.clamp(input_mask_expanded.sum(1), min=1e-9)\n",
        "    return sum_embeddings / sum_mask\n",
        "\n",
        "def sentence_embeddings(device, tokenizer, model, sentences):\n",
        "  \"\"\"Create contextualized sentence embeddings\n",
        "  \n",
        "  Parameters:\n",
        "  tokenizer: transformers tokenizer for creating word tokens\n",
        "  model:\n",
        "  sentences: sentences to generate sentence embeddings for\n",
        "  \"\"\"\n",
        "\n",
        "  # Tokenize sentences and return PyTorch tensors\n",
        "  encoded_input = tokenizer(sentences, padding=True, truncation=True, \n",
        "                            max_length=128, return_tensors='pt')\n",
        "  encoded_input = encoded_input.to(device)\n",
        "  \n",
        "  # Pass the tokenized input to the model \n",
        "  with torch.no_grad():\n",
        "    model.to(device)\n",
        "    model_output = model(**encoded_input) \n",
        "  \n",
        "  # Perform mean pooling to get total sentence embeddings\n",
        "  sentence_embeddings = mean_pooling(model_output, \n",
        "                                     encoded_input['attention_mask'])\n",
        "  \n",
        "  return sentence_embeddings"
      ],
      "execution_count": 10,
      "outputs": []
    },
    {
      "cell_type": "code",
      "metadata": {
        "id": "8jioG5HS5zVW"
      },
      "source": [
        "# An object to split and parse the training and test data fields\n",
        "class SiameseNetworkDataset(Dataset): \n",
        "  def __init__(self,training_df, device, tokenizer, model):\n",
        "    self.training_df=training_df\n",
        "    self.sent1 = self.training_df['sentence_1'].tolist()\n",
        "    self.sent2 = self.training_df['sentence_2'].tolist()\n",
        "    self.language_task = self.training_df['language_task'].tolist()\n",
        "    self.label = self.training_df['label'].tolist()\n",
        "    self.device = device\n",
        "    self.tokenizer = tokenizer\n",
        "    self.model = model\n",
        "\n",
        "  def __getitem__(self, index):\n",
        "    sent1 = self.sent1[index]\n",
        "    sent2 = self.sent2[index]\n",
        "    task = self.language_task[index]\n",
        "    label = self.label[index]\n",
        "\n",
        "    # Get the sentence embeddings for sentences 1 and 2 for each row\n",
        "    sent1_embeddings = sentence_embeddings(self.device, self.tokenizer, self.model, sent1)\n",
        "    sent2_embeddings = sentence_embeddings(self.device, self.tokenizer, self.model, sent2)\n",
        "    return sent1_embeddings, sent2_embeddings, task, torch.from_numpy(np.array(label)).long()\n",
        "\n",
        "  def __len__(self):\n",
        "    return len(self.training_df)"
      ],
      "execution_count": 11,
      "outputs": []
    },
    {
      "cell_type": "code",
      "metadata": {
        "id": "FXISLYSfpF77"
      },
      "source": [
        "# Create separate instances of the Siamese Network dataset class using training, dev, and testing data for the Aryan languages\n",
        "aryan_siamese_train = SiameseNetworkDataset(aryan_train, device, tokenizer, model)\n",
        "aryan_siamese_dev = SiameseNetworkDataset(aryan_dev, device, tokenizer, model)\n",
        "aryan_siamese_test = SiameseNetworkDataset(aryan_test, device, tokenizer, model)"
      ],
      "execution_count": 12,
      "outputs": []
    },
    {
      "cell_type": "code",
      "metadata": {
        "id": "krhZghwCqU9Y"
      },
      "source": [
        "# Create separate instances of the Siamese Network dataset class using training, dev, and testing data for the Dravidian languages\n",
        "drav_siamese_train = SiameseNetworkDataset(drav_train, device, tokenizer, model)\n",
        "drav_siamese_dev = SiameseNetworkDataset(drav_dev, device, tokenizer, model)\n",
        "drav_siamese_test = SiameseNetworkDataset(drav_test, device, tokenizer, model)"
      ],
      "execution_count": 13,
      "outputs": []
    },
    {
      "cell_type": "code",
      "metadata": {
        "id": "PfvUrnFapXHY"
      },
      "source": [
        "# Get the label for every row in the training dataset and convert it to tensor form\n",
        "aryan_target_list = []\n",
        "\n",
        "for sent1, sent2, task, label in aryan_siamese_train:\n",
        "  aryan_target_list.append(label)\n",
        "\n",
        "# Store the torch form of the target label   \n",
        "aryan_target_list = torch.tensor(aryan_target_list)"
      ],
      "execution_count": 14,
      "outputs": []
    },
    {
      "cell_type": "code",
      "metadata": {
        "id": "LLxRL5OFqqzv"
      },
      "source": [
        "# Get the label for every row in the training dataset and convert it to tensor form\n",
        "drav_target_list = []\n",
        "\n",
        "for sent1, sent2, task, label in drav_siamese_train:\n",
        "  drav_target_list.append(label)\n",
        "\n",
        "# Store the torch form of the target label   \n",
        "drav_target_list = torch.tensor(drav_target_list)"
      ],
      "execution_count": 15,
      "outputs": []
    },
    {
      "cell_type": "code",
      "metadata": {
        "colab": {
          "base_uri": "https://localhost:8080/"
        },
        "id": "PegVArvcp0Kp",
        "outputId": "a2d813a7-f658-4159-caae-eeb11f871375"
      },
      "source": [
        "# Weight the labels by their frequency in the dataset - this will help our accuracy if there is an imbalance in classes (P vs NP)\n",
        "aryan_class_count = [len(aryan_train[aryan_train.label == 0]),len(aryan_train[aryan_train.label == 1])]\n",
        "print(aryan_class_count)\n",
        "aryan_class_weights = 1./torch.tensor(aryan_class_count, dtype=torch.float) \n",
        "print(aryan_class_weights)"
      ],
      "execution_count": 16,
      "outputs": [
        {
          "output_type": "stream",
          "name": "stdout",
          "text": [
            "[2500, 1700]\n",
            "tensor([0.0004, 0.0006])\n"
          ]
        }
      ]
    },
    {
      "cell_type": "code",
      "metadata": {
        "colab": {
          "base_uri": "https://localhost:8080/"
        },
        "id": "Y9b7q0gJrBOi",
        "outputId": "ebb5544c-d8ac-4d60-8a29-f7ad7f3637f7"
      },
      "source": [
        "# Weight the labels by their frequency in the dataset - this will help our accuracy if there is an imbalance in classes (P vs NP)\n",
        "drav_class_count = [len(drav_train[drav_train.label == 0]),len(drav_train[drav_train.label == 1])]\n",
        "print(drav_class_count)\n",
        "drav_class_weights = 1./torch.tensor(drav_class_count, dtype=torch.float) \n",
        "print(drav_class_weights)"
      ],
      "execution_count": 17,
      "outputs": [
        {
          "output_type": "stream",
          "name": "stdout",
          "text": [
            "[3000, 2000]\n",
            "tensor([0.0003, 0.0005])\n"
          ]
        }
      ]
    },
    {
      "cell_type": "code",
      "metadata": {
        "id": "baoGtrVCwDB2"
      },
      "source": [
        "# Create a list of the weighted labels to pass to the dataloader objects\n",
        "aryan_class_weights_all = aryan_class_weights[aryan_target_list]\n",
        "drav_class_weights_all = drav_class_weights[drav_target_list]"
      ],
      "execution_count": 18,
      "outputs": []
    },
    {
      "cell_type": "code",
      "metadata": {
        "id": "Q3N0bGQ2xOTq"
      },
      "source": [
        "# Create the weighted sampler object to pass to the training data loader\n",
        "aryan_weighted_sampler = WeightedRandomSampler(\n",
        "    weights=aryan_class_weights_all,\n",
        "    num_samples=len(aryan_class_weights_all),\n",
        "    replacement=True\n",
        ")\n",
        "drav_weighted_sampler = WeightedRandomSampler(\n",
        "    weights=drav_class_weights_all,\n",
        "    num_samples=len(drav_class_weights_all),\n",
        "    replacement=True\n",
        ")"
      ],
      "execution_count": 19,
      "outputs": []
    },
    {
      "cell_type": "code",
      "metadata": {
        "id": "wW18Wb2xaYqx"
      },
      "source": [
        "# Pass the training data into the training loader \n",
        "# Don't shuffle since we pre-shuffled the data - we want to see how the model performs on specific languages\n",
        "aryan_train_loader = DataLoader(aryan_siamese_train, batch_size = 16, sampler=aryan_weighted_sampler)\n",
        "\n",
        "# Create the dev and test data loaders\n",
        "aryan_val_loader = DataLoader(aryan_siamese_dev, batch_size=16)\n",
        "aryan_test_loader = DataLoader(aryan_siamese_test, batch_size=16)"
      ],
      "execution_count": 20,
      "outputs": []
    },
    {
      "cell_type": "code",
      "metadata": {
        "id": "qUGtquLNrwTL"
      },
      "source": [
        "# Pass the training data into the training loader \n",
        "# Don't shuffle since we pre-shuffled the data - we want to see how the model performs on specific languages\n",
        "drav_train_loader = DataLoader(drav_siamese_train, batch_size = 16, sampler=drav_weighted_sampler)\n",
        "\n",
        "# Create the dev and test data loaders\n",
        "drav_val_loader = DataLoader(drav_siamese_dev, batch_size=16)\n",
        "drav_test_loader = DataLoader(drav_siamese_test, batch_size=16)"
      ],
      "execution_count": 21,
      "outputs": []
    },
    {
      "cell_type": "code",
      "metadata": {
        "id": "8214ILXnuyoe"
      },
      "source": [
        "class SiameseNet(torch.nn.Module):\n",
        "    def __init__(self):\n",
        "      super(SiameseNet, self).__init__()\n",
        "\n",
        "      # Set up a fully-connected layer to apply to each incoming sentence vector\n",
        "      # Use a dense layer (nn.Linear) to reduce the dimensionality of the input embeddings\n",
        "      # use a relu activation function\n",
        "      # Randomly drop out\n",
        "      # Set 1 as the dimensionality of the final output since we want to predict the logits corresponding to a binary label\n",
        "      # Initialize the feed forward layer\n",
        "      self.fc = torch.nn.Sequential(\n",
        "            torch.nn.Linear(768, 128),\n",
        "            torch.nn.InstanceNorm1d(128),\n",
        "            torch.nn.ReLU(inplace=True))\n",
        "      \n",
        "      self.relu = torch.nn.ReLU(inplace=True)\n",
        "      self.batch2 = torch.nn.InstanceNorm1d(384)\n",
        "      self.ffn = torch.nn.Linear(384, 128)\n",
        "      self.batch3 = torch.nn.InstanceNorm1d(128)\n",
        "      self.layer_out = torch.nn.Linear(128,1)\n",
        "\n",
        "      # Add drop out\n",
        "      self.drop = torch.nn.Dropout(0.2)\n",
        "\n",
        "    # left and right represent columns in our data\n",
        "    def forward(self, left, right):\n",
        "\n",
        "      # Get the sentence embeddings \n",
        "      u = left\n",
        "      v = right\n",
        "\n",
        "      # Reduce the dimensionality\n",
        "      u = self.fc(u)\n",
        "      v = self.fc(v)\n",
        "\n",
        "      # Get the absolute value of the difference of the vectors\n",
        "      uv = torch.sub(u, v)\n",
        "      uv_abs = torch.abs(uv)\n",
        "\n",
        "      # concatenate u, v, and the absolute value of the element-wise difference between the embeddings\n",
        "      x = torch.cat([u, v, uv_abs], dim=-1)\n",
        "\n",
        "      # Normalize the concatenated batch\n",
        "      x = self.batch2(x)\n",
        "\n",
        "      # Use the relu activation function\n",
        "      x = self.relu(x)\n",
        "\n",
        "      # Pass the concatenated layers through a dense layer to reduce the dimensionality from 2304 to 128\n",
        "      x = self.ffn(x)\n",
        "      # Normalize the concatenated layers\n",
        "      x = self.batch3(x)\n",
        "      # Pass through relu activation\n",
        "      x = self.relu(x)\n",
        "      # Implement drop out to avoid overfitting\n",
        "      x = self.drop(x)\n",
        "      # Pass the output through a final dense layer\n",
        "      output = self.layer_out(x)\n",
        "      # Reshape the output to have the same dimension as the target labels\n",
        "      output = output[:,-1,:]\n",
        "\n",
        "      # Concatenate the \n",
        "      return output"
      ],
      "execution_count": 22,
      "outputs": []
    },
    {
      "cell_type": "code",
      "metadata": {
        "id": "oxy-JaCjXl_U"
      },
      "source": [
        "# Create an instance of the Siamese model network\n",
        "# Declare Siamese Network\n",
        "aryan_net = SiameseNet().to(device)\n",
        "drav_net = SiameseNet().to(device)\n",
        "\n",
        "# Set the criteria for evaluation and training - use cross-entropy since we're doing classification and want to retrieve the labels\n",
        "criterion = torch.nn.BCEWithLogitsLoss()\n",
        "\n",
        "# Set the optimizer and pass to it the model parameters and learning rate\n",
        "aryan_optimizer = optim.Adam(aryan_net.parameters(), lr=2e-5)\n",
        "drav_optimizer = optim.Adam(drav_net.parameters(), lr=2e-5)"
      ],
      "execution_count": 23,
      "outputs": []
    },
    {
      "cell_type": "code",
      "metadata": {
        "id": "vfnRRRF0t-ZA"
      },
      "source": [
        "def binary_acc(y_pred, y_test):\n",
        "    y_pred_tag = torch.round(torch.sigmoid(y_pred))\n",
        "\n",
        "    correct_results_sum = (y_pred_tag == y_test).sum().float()\n",
        "    acc = correct_results_sum/y_test.shape[0]\n",
        "    acc = torch.round(acc * 100)\n",
        "    \n",
        "    return acc"
      ],
      "execution_count": 24,
      "outputs": []
    },
    {
      "cell_type": "code",
      "metadata": {
        "id": "TTz5sETjt_VS"
      },
      "source": [
        "# Create dictionaries to hold the training and validation accuracy and loss metrics at each epoch\n",
        "aryan_epoch_accuracies = {\n",
        "    'train': [],\n",
        "    \"val\": []}\n",
        "\n",
        "aryan_epoch_losses = {\n",
        "    'train': [],\n",
        "    \"val\": []}\n",
        "\n",
        "drav_epoch_accuracies = {\n",
        "    'train': [],\n",
        "    \"val\": []}\n",
        "\n",
        "drav_epoch_losses = {\n",
        "    'train': [],\n",
        "    \"val\": []}"
      ],
      "execution_count": 25,
      "outputs": []
    },
    {
      "cell_type": "code",
      "metadata": {
        "id": "sqWQVP4D6q-F",
        "colab": {
          "base_uri": "https://localhost:8080/",
          "height": 49,
          "referenced_widgets": [
            "0fb389803884403c8927515c9ea243c0",
            "fa7cd8cd216041ee937504d9c4203000",
            "829501df07e04cd8b1385db1b76b44f0",
            "3e0f6690f5ab4a0d8c67bd84c5bb7ab8",
            "d6a2be7353984a84a3d8546b578cc23a",
            "725c990d602440d58a00f74932f69c84",
            "ed4e6134fcc1477c8b40d051fea2ea0e",
            "5e661ee78fbf43e886d59aaa69fec5db",
            "b8cc1b1e46164d7eb7b96c9144a97223",
            "de387533083a40c98ab0dd1a09ec21cd",
            "cb5c04d9c10341d18d16e39bd611a571"
          ]
        },
        "outputId": "4189e3a3-fbc9-42b7-fb36-4ff20723bbfd"
      },
      "source": [
        "EPOCHS = 10\n",
        "\n",
        "for e in tqdm(range(1, EPOCHS+1)):\n",
        "    \n",
        "    # Initialize the training epoch and accuracy loss as 0\n",
        "    train_epoch_loss = 0\n",
        "    train_epoch_acc = 0\n",
        "\n",
        "    # Place the Siamese network into training mode\n",
        "    aryan_net.train()\n",
        "    \n",
        "    # Loop over records in the training data loader\n",
        "    for i, data in enumerate(aryan_train_loader, 0):\n",
        "      sent1, sent2, task, label = data\n",
        "      label = label.type(torch.FloatTensor).reshape((label.shape[0], 1))\n",
        "      # Send the training data to GPU\n",
        "      sent1, sent2, label = sent1.to(device), sent2.to(device), label.to(device)\n",
        "      # Zero the gradient\n",
        "      aryan_optimizer.zero_grad()\n",
        "      # Get the predicted softmaxes\n",
        "      train_pred = aryan_net(sent1, sent2)\n",
        "      # Get the predicted labels\n",
        "      train_loss = criterion(train_pred, label)\n",
        "      # Find the training rate accuracy\n",
        "      train_acc = binary_acc(train_pred, label)\n",
        "      \n",
        "      train_loss.backward()\n",
        "      aryan_optimizer.step()\n",
        "\n",
        "      # Update the loss and accuracy for the current epoch  \n",
        "      train_epoch_loss += train_loss.item()\n",
        "      train_epoch_acc += train_acc.item()   \n",
        "        \n",
        "    # Enter validation phase   \n",
        "    with torch.no_grad():\n",
        "        \n",
        "        # Initialize the validation loss and accuracy rates as 0\n",
        "        val_epoch_loss = 0\n",
        "        val_epoch_acc = 0\n",
        "        \n",
        "        # Place the model into evaluation mode\n",
        "        aryan_net.eval()\n",
        "\n",
        "        # Loop over records in the validation dataloader\n",
        "        for i, data in enumerate(aryan_val_loader, 0):\n",
        "          sent1_val, sent2_val, task_val, label_val = data\n",
        "          label_val = label_val.type(torch.FloatTensor).reshape((label_val.shape[0], 1))\n",
        "\n",
        "          # Send the validation data to GPU\n",
        "          sent1_val, sent2_val, label_val = sent1_val.to(device), sent2_val.to(device), label_val.to(device)\n",
        "\n",
        "          # Get the validation predictions          \n",
        "          val_pred = aryan_net(sent1_val, sent2_val)\n",
        "          # Find the validation loss and accuracy\n",
        "          val_loss = criterion(val_pred, label_val)\n",
        "          val_acc = binary_acc(val_pred, label_val)\n",
        "          \n",
        "          # Update the validation loss and accuracy rates\n",
        "          val_epoch_loss += val_loss.item()\n",
        "          val_epoch_acc += val_acc.item()\n",
        "    \n",
        "    # Store the epoch's training and validaion accuracies and losses\n",
        "    aryan_epoch_losses['train'].append(train_epoch_loss/len(aryan_train_loader))\n",
        "    aryan_epoch_losses['val'].append(val_epoch_loss/len(aryan_val_loader))\n",
        "    aryan_epoch_accuracies['train'].append(train_epoch_acc/len(aryan_train_loader))\n",
        "    aryan_epoch_accuracies['val'].append(val_epoch_acc/len(aryan_val_loader))"
      ],
      "execution_count": 26,
      "outputs": [
        {
          "output_type": "display_data",
          "data": {
            "application/vnd.jupyter.widget-view+json": {
              "model_id": "0fb389803884403c8927515c9ea243c0",
              "version_minor": 0,
              "version_major": 2
            },
            "text/plain": [
              "  0%|          | 0/10 [00:00<?, ?it/s]"
            ]
          },
          "metadata": {}
        }
      ]
    },
    {
      "cell_type": "code",
      "metadata": {
        "colab": {
          "base_uri": "https://localhost:8080/"
        },
        "id": "k2didIml_JdY",
        "outputId": "5bcefeff-ba71-4ac9-9de6-c369c0b652e4"
      },
      "source": [
        "aryan_epoch_accuracies"
      ],
      "execution_count": 27,
      "outputs": [
        {
          "output_type": "execute_result",
          "data": {
            "text/plain": [
              "{'train': [63.87832699619772,\n",
              "  79.20912547528518,\n",
              "  87.12167300380229,\n",
              "  88.41444866920152,\n",
              "  92.1787072243346,\n",
              "  93.19011406844106,\n",
              "  95.19391634980988,\n",
              "  93.98479087452472,\n",
              "  95.49429657794677,\n",
              "  96.79087452471482],\n",
              " 'val': [78.72727272727273,\n",
              "  85.22727272727273,\n",
              "  86.3409090909091,\n",
              "  89.36363636363636,\n",
              "  89.1590909090909,\n",
              "  89.43181818181819,\n",
              "  88.4090909090909,\n",
              "  89.56818181818181,\n",
              "  88.8409090909091,\n",
              "  89.56818181818181]}"
            ]
          },
          "metadata": {},
          "execution_count": 27
        }
      ]
    },
    {
      "cell_type": "code",
      "metadata": {
        "colab": {
          "base_uri": "https://localhost:8080/"
        },
        "id": "0TK-1eO__QVh",
        "outputId": "b1ebde51-c977-42a8-e88c-2099c8090a3c"
      },
      "source": [
        "aryan_epoch_losses"
      ],
      "execution_count": 28,
      "outputs": [
        {
          "output_type": "execute_result",
          "data": {
            "text/plain": [
              "{'train': [0.6528104297788424,\n",
              "  0.5418324584970002,\n",
              "  0.4474607591619963,\n",
              "  0.3911187848210788,\n",
              "  0.3211373504350394,\n",
              "  0.28414964409608806,\n",
              "  0.24029473733765996,\n",
              "  0.23351565034557203,\n",
              "  0.19983704878236858,\n",
              "  0.17244279806718174],\n",
              " 'val': [0.5839884315024723,\n",
              "  0.46976830674843356,\n",
              "  0.4068772057917985,\n",
              "  0.3549658859317953,\n",
              "  0.3258923143148422,\n",
              "  0.3018772986463525,\n",
              "  0.2912916717204181,\n",
              "  0.2730323447083885,\n",
              "  0.27623415958474984,\n",
              "  0.2565537321973931]}"
            ]
          },
          "metadata": {},
          "execution_count": 28
        }
      ]
    },
    {
      "cell_type": "code",
      "metadata": {
        "colab": {
          "base_uri": "https://localhost:8080/",
          "height": 49,
          "referenced_widgets": [
            "30ece1737c4f4ae890a1d188c76363ea",
            "169e6cf9c92e4d6188929e067d0bfb60",
            "b8c134e5ac3541cda43f092c63b42cfb",
            "0ab663d6869148339148c247b6b843d8",
            "c55722f1f40e42fdb3b2ec48868e987d",
            "d943629776cc41b4af5543503341cfe1",
            "4434e431c6674baf894c1f0f53d41642",
            "1085e9b159ed4c89afd4647f354d96e1",
            "f25df2da38a04ea691dd551eda8dffc6",
            "99f18fdee4af429b94fab216ada2a4da",
            "819e1c981f72475bb3685eae652e0236"
          ]
        },
        "id": "td9a-MoUs42L",
        "outputId": "989e46d9-0249-4843-8845-830357747071"
      },
      "source": [
        "EPOCHS = 10\n",
        "\n",
        "for e in tqdm(range(1, EPOCHS+1)):\n",
        "    \n",
        "    # Initialize the training epoch and accuracy loss as 0\n",
        "    train_epoch_loss = 0\n",
        "    train_epoch_acc = 0\n",
        "\n",
        "    # Place the Siamese network into training mode\n",
        "    drav_net.train()\n",
        "    \n",
        "    # Loop over records in the training data loader\n",
        "    for i, data in enumerate(drav_train_loader, 0):\n",
        "      sent1, sent2, task, label = data\n",
        "      label = label.type(torch.FloatTensor).reshape((label.shape[0], 1))\n",
        "      # Send the training data to GPU\n",
        "      sent1, sent2, label = sent1.to(device), sent2.to(device), label.to(device)\n",
        "      # Zero the gradient\n",
        "      drav_optimizer.zero_grad()\n",
        "      # Get the predicted softmaxes\n",
        "      train_pred = drav_net(sent1, sent2)\n",
        "      # Get the predicted labels\n",
        "      train_loss = criterion(train_pred, label)\n",
        "      # Find the training rate accuracy\n",
        "      train_acc = binary_acc(train_pred, label)\n",
        "      \n",
        "      train_loss.backward()\n",
        "      drav_optimizer.step()\n",
        "\n",
        "      # Update the loss and accuracy for the current epoch  \n",
        "      train_epoch_loss += train_loss.item()\n",
        "      train_epoch_acc += train_acc.item()   \n",
        "        \n",
        "    # Enter validation phase   \n",
        "    with torch.no_grad():\n",
        "        \n",
        "        # Initialize the validation loss and accuracy rates as 0\n",
        "        val_epoch_loss = 0\n",
        "        val_epoch_acc = 0\n",
        "        \n",
        "        # Place the model into evaluation mode\n",
        "        drav_net.eval()\n",
        "\n",
        "        # Loop over records in the validation dataloader\n",
        "        for i, data in enumerate(drav_val_loader, 0):\n",
        "          sent1_val, sent2_val, task_val, label_val = data\n",
        "          label_val = label_val.type(torch.FloatTensor).reshape((label_val.shape[0], 1))\n",
        "\n",
        "          # Send the validation data to GPU\n",
        "          sent1_val, sent2_val, label_val = sent1_val.to(device), sent2_val.to(device), label_val.to(device)\n",
        "\n",
        "          # Get the validation predictions          \n",
        "          val_pred = drav_net(sent1_val, sent2_val)\n",
        "          # Find the validation loss and accuracy\n",
        "          val_loss = criterion(val_pred, label_val)\n",
        "          val_acc = binary_acc(val_pred, label_val)\n",
        "          \n",
        "          # Update the validation loss and accuracy rates\n",
        "          val_epoch_loss += val_loss.item()\n",
        "          val_epoch_acc += val_acc.item()\n",
        "    \n",
        "    # Store the epoch's training and validaion accuracies and losses\n",
        "    drav_epoch_losses['train'].append(train_epoch_loss/len(drav_train_loader))\n",
        "    drav_epoch_losses['val'].append(val_epoch_loss/len(drav_val_loader))\n",
        "    drav_epoch_accuracies['train'].append(train_epoch_acc/len(drav_train_loader))\n",
        "    drav_epoch_accuracies['val'].append(val_epoch_acc/len(drav_val_loader))"
      ],
      "execution_count": 29,
      "outputs": [
        {
          "output_type": "display_data",
          "data": {
            "application/vnd.jupyter.widget-view+json": {
              "model_id": "30ece1737c4f4ae890a1d188c76363ea",
              "version_minor": 0,
              "version_major": 2
            },
            "text/plain": [
              "  0%|          | 0/10 [00:00<?, ?it/s]"
            ]
          },
          "metadata": {}
        }
      ]
    },
    {
      "cell_type": "code",
      "metadata": {
        "id": "9JqYM9mb_gUT",
        "colab": {
          "base_uri": "https://localhost:8080/"
        },
        "outputId": "81c3cd0f-423d-47e6-9b93-bd0d99d8e726"
      },
      "source": [
        "drav_epoch_accuracies"
      ],
      "execution_count": 30,
      "outputs": [
        {
          "output_type": "execute_result",
          "data": {
            "text/plain": [
              "{'train': [58.067092651757186,\n",
              "  69.07987220447285,\n",
              "  73.77316293929712,\n",
              "  77.49201277955271,\n",
              "  79.85303514376997,\n",
              "  80.6773162939297,\n",
              "  83.37699680511182,\n",
              "  83.99041533546325,\n",
              "  86.21086261980831,\n",
              "  87.30670926517571],\n",
              " 'val': [58.10526315789474,\n",
              "  64.29824561403508,\n",
              "  65.87719298245614,\n",
              "  65.43859649122807,\n",
              "  67.3157894736842,\n",
              "  67.57894736842105,\n",
              "  68.47368421052632,\n",
              "  67.0701754385965,\n",
              "  69.75438596491227,\n",
              "  69.9298245614035]}"
            ]
          },
          "metadata": {},
          "execution_count": 30
        }
      ]
    },
    {
      "cell_type": "code",
      "metadata": {
        "id": "S1jUDl20_iW_",
        "colab": {
          "base_uri": "https://localhost:8080/"
        },
        "outputId": "45af1c3f-5eb7-4655-90d3-1298855c8f36"
      },
      "source": [
        "drav_epoch_losses"
      ],
      "execution_count": 31,
      "outputs": [
        {
          "output_type": "execute_result",
          "data": {
            "text/plain": [
              "{'train': [0.6702825922173814,\n",
              "  0.6019493949870331,\n",
              "  0.5512109382655292,\n",
              "  0.504703692925243,\n",
              "  0.46797322731810254,\n",
              "  0.4491283719341595,\n",
              "  0.4149217975501435,\n",
              "  0.39449481232859457,\n",
              "  0.37061310957034177,\n",
              "  0.3558749203769544],\n",
              " 'val': [0.6769672715873049,\n",
              "  0.6391475875126688,\n",
              "  0.6318335627254686,\n",
              "  0.6331167942599246,\n",
              "  0.6315908803228747,\n",
              "  0.6371906880746808,\n",
              "  0.6270157809843097,\n",
              "  0.6551989876387412,\n",
              "  0.620071397015923,\n",
              "  0.6169981208809635]}"
            ]
          },
          "metadata": {},
          "execution_count": 31
        }
      ]
    },
    {
      "cell_type": "code",
      "metadata": {
        "id": "z6c0E9X4PstU",
        "colab": {
          "base_uri": "https://localhost:8080/"
        },
        "outputId": "32ab3d25-fc5a-4279-bc1c-dec9cccb4f64"
      },
      "source": [
        "print(max(aryan_epoch_accuracies.get('train')))\n",
        "print(max(aryan_epoch_accuracies.get('val')))\n",
        "\n",
        "print(max(drav_epoch_accuracies.get('train')))\n",
        "print(max(drav_epoch_accuracies.get('val')))"
      ],
      "execution_count": 32,
      "outputs": [
        {
          "output_type": "stream",
          "name": "stdout",
          "text": [
            "96.79087452471482\n",
            "89.56818181818181\n",
            "87.30670926517571\n",
            "69.9298245614035\n"
          ]
        }
      ]
    },
    {
      "cell_type": "code",
      "metadata": {
        "id": "UAjzkvu7e8H-",
        "colab": {
          "base_uri": "https://localhost:8080/"
        },
        "outputId": "415c4f5b-75b8-40ce-ed5e-68043c845aa6"
      },
      "source": [
        "print(min(aryan_epoch_accuracies.get('train')))\n",
        "print(min(aryan_epoch_accuracies.get('val')))\n",
        "\n",
        "print(min(drav_epoch_accuracies.get('train')))\n",
        "print(min(drav_epoch_accuracies.get('val')))"
      ],
      "execution_count": 33,
      "outputs": [
        {
          "output_type": "stream",
          "name": "stdout",
          "text": [
            "63.87832699619772\n",
            "78.72727272727273\n",
            "58.067092651757186\n",
            "58.10526315789474\n"
          ]
        }
      ]
    },
    {
      "cell_type": "code",
      "metadata": {
        "id": "s-ScqobDQb9u",
        "colab": {
          "base_uri": "https://localhost:8080/"
        },
        "outputId": "6096d66c-3b6b-417b-df9f-16ca4d5aa6e3"
      },
      "source": [
        "print(min(aryan_epoch_losses.get('train')))\n",
        "print(max(aryan_epoch_losses.get('train')))\n",
        "\n",
        "print(min(drav_epoch_losses.get('train')))\n",
        "print(max(drav_epoch_losses.get('train')))"
      ],
      "execution_count": 34,
      "outputs": [
        {
          "output_type": "stream",
          "name": "stdout",
          "text": [
            "0.17244279806718174\n",
            "0.6528104297788424\n",
            "0.3558749203769544\n",
            "0.6702825922173814\n"
          ]
        }
      ]
    },
    {
      "cell_type": "code",
      "metadata": {
        "id": "NbqTDh4yQsAw",
        "colab": {
          "base_uri": "https://localhost:8080/"
        },
        "outputId": "2fb425cf-ac27-48e3-be40-f5789bacd564"
      },
      "source": [
        "print(min(aryan_epoch_losses.get('val')))\n",
        "print(max(aryan_epoch_losses.get('val')))\n",
        "\n",
        "print(min(drav_epoch_losses.get('val')))\n",
        "print(max(drav_epoch_losses.get('val')))"
      ],
      "execution_count": 35,
      "outputs": [
        {
          "output_type": "stream",
          "name": "stdout",
          "text": [
            "0.2565537321973931\n",
            "0.5839884315024723\n",
            "0.6169981208809635\n",
            "0.6769672715873049\n"
          ]
        }
      ]
    },
    {
      "cell_type": "code",
      "metadata": {
        "id": "FhnByeEQ67Xo",
        "colab": {
          "base_uri": "https://localhost:8080/",
          "height": 475
        },
        "outputId": "dad580d0-2a0a-4377-81f3-fd32e3d42ce5"
      },
      "source": [
        "# Create dataframes from the average training accuracy and loss \n",
        "train_val_acc_df = pd.DataFrame.from_dict(aryan_epoch_accuracies).reset_index().melt(id_vars=['index']).rename(columns={\"index\":\"epochs\"})\n",
        "train_val_loss_df = pd.DataFrame.from_dict(aryan_epoch_losses).reset_index().melt(id_vars=['index']).rename(columns={\"index\":\"epochs\"})# Plot the dataframes\n",
        "fig, axes = plt.subplots(nrows=1, ncols=2, figsize=(20,7))\n",
        "sns.lineplot(data=train_val_acc_df, x = \"epochs\", y=\"value\", hue=\"variable\",  ax=axes[0]).set_title('Train-Val Accuracy/Epoch')\n",
        "sns.lineplot(data=train_val_loss_df, x = \"epochs\", y=\"value\", hue=\"variable\", ax=axes[1]).set_title('Train-Val Loss/Epoch')"
      ],
      "execution_count": 36,
      "outputs": [
        {
          "output_type": "execute_result",
          "data": {
            "text/plain": [
              "Text(0.5, 1.0, 'Train-Val Loss/Epoch')"
            ]
          },
          "metadata": {},
          "execution_count": 36
        },
        {
          "output_type": "display_data",
          "data": {
            "image/png": "[encoded data removed]",
            "text/plain": [
              "<Figure size 1440x504 with 2 Axes>"
            ]
          },
          "metadata": {
            "needs_background": "light"
          }
        }
      ]
    },
    {
      "cell_type": "code",
      "metadata": {
        "id": "LoJPuGijuSIU",
        "colab": {
          "base_uri": "https://localhost:8080/",
          "height": 475
        },
        "outputId": "c5494ec3-e193-4d62-cce4-9192a7e75840"
      },
      "source": [
        "# Create dataframes from the average training accuracy and loss \n",
        "train_val_acc_df = pd.DataFrame.from_dict(drav_epoch_accuracies).reset_index().melt(id_vars=['index']).rename(columns={\"index\":\"epochs\"})\n",
        "train_val_loss_df = pd.DataFrame.from_dict(drav_epoch_losses).reset_index().melt(id_vars=['index']).rename(columns={\"index\":\"epochs\"})# Plot the dataframes\n",
        "fig, axes = plt.subplots(nrows=1, ncols=2, figsize=(20,7))\n",
        "sns.lineplot(data=train_val_acc_df, x = \"epochs\", y=\"value\", hue=\"variable\",  ax=axes[0]).set_title('Train-Val Accuracy/Epoch')\n",
        "sns.lineplot(data=train_val_loss_df, x = \"epochs\", y=\"value\", hue=\"variable\", ax=axes[1]).set_title('Train-Val Loss/Epoch')"
      ],
      "execution_count": 37,
      "outputs": [
        {
          "output_type": "execute_result",
          "data": {
            "text/plain": [
              "Text(0.5, 1.0, 'Train-Val Loss/Epoch')"
            ]
          },
          "metadata": {},
          "execution_count": 37
        },
        {
          "output_type": "display_data",
          "data": {
            "image/png": "[encoded data removed]",
            "text/plain": [
              "<Figure size 1440x504 with 2 Axes>"
            ]
          },
          "metadata": {
            "needs_background": "light"
          }
        }
      ]
    },
    {
      "cell_type": "code",
      "metadata": {
        "id": "YfAxcbJfEiU9"
      },
      "source": [
        "# Get the test accuracy and labels\n",
        "aryan_sent1 = aryan_test.sentence_1.tolist()\n",
        "aryan_sent2 = aryan_test.sentence_2.tolist()\n",
        "aryan_y_pred_list = []\n",
        "aryan_y_actual_list = []\n",
        "aryan_y_language_task = []\n",
        "\n",
        "with torch.no_grad():\n",
        "\n",
        "  # Place the model into evaluation mode\n",
        "    aryan_net.eval()\n",
        "\n",
        "    # Loop over the test set\n",
        "    for i, data in enumerate(aryan_test_loader, 0):\n",
        "\n",
        "      # Extract the test set components\n",
        "      sent1_test, sent2_test, task_test, label_test = data\n",
        "\n",
        "      # Store the language tasks and actual labels to check model performance\n",
        "      aryan_y_actual_list.extend(label_test.tolist())\n",
        "      aryan_y_language_task.extend(task_test)\n",
        "\n",
        "      # Reshape the test label to have the same dimensions as the model output\n",
        "      label_test = label_test.type(torch.FloatTensor).reshape((label_test.shape[0], 1))\n",
        "\n",
        "      # Send the test data to GPU\n",
        "      sent1_test, sent2_test, label_test = sent1_test.to(device), sent2_test.to(device), label_test.to(device)\n",
        "\n",
        "      # Get the test set predictions\n",
        "      test_pred = aryan_net(sent1_test, sent2_test)\n",
        "            \n",
        "      # Get the predicted test labels\n",
        "      y_test_pred = torch.round(torch.sigmoid(test_pred)).long()\n",
        "\n",
        "      # Add the test labels to their respective list\n",
        "      aryan_y_pred_list.extend(y_test_pred)"
      ],
      "execution_count": 38,
      "outputs": []
    },
    {
      "cell_type": "code",
      "metadata": {
        "id": "ZIvOcEeXAte8"
      },
      "source": [
        "# Create a dataframe from test performance\n",
        "aryan_y_pred = [x.item() for x in aryan_y_pred_list]\n",
        "aryan_test_performance = pd.DataFrame(list(zip(aryan_y_language_task, aryan_sent1, aryan_sent2, aryan_y_actual_list, aryan_y_pred)),columns =['language', 'sentence_1', 'sentence_2', 'actual_label', 'predicted_label'])"
      ],
      "execution_count": 39,
      "outputs": []
    },
    {
      "cell_type": "code",
      "metadata": {
        "id": "pqrWUi6mBEHj",
        "colab": {
          "base_uri": "https://localhost:8080/",
          "height": 424
        },
        "outputId": "a9131504-a022-4bce-d319-e77e6f0bd411"
      },
      "source": [
        "aryan_test_performance"
      ],
      "execution_count": 40,
      "outputs": [
        {
          "output_type": "execute_result",
          "data": {
            "text/html": [
              "<div>\n",
              "<style scoped>\n",
              "    .dataframe tbody tr th:only-of-type {\n",
              "        vertical-align: middle;\n",
              "    }\n",
              "\n",
              "    .dataframe tbody tr th {\n",
              "        vertical-align: top;\n",
              "    }\n",
              "\n",
              "    .dataframe thead th {\n",
              "        text-align: right;\n",
              "    }\n",
              "</style>\n",
              "<table border=\"1\" class=\"dataframe\">\n",
              "  <thead>\n",
              "    <tr style=\"text-align: right;\">\n",
              "      <th></th>\n",
              "      <th>language</th>\n",
              "      <th>sentence_1</th>\n",
              "      <th>sentence_2</th>\n",
              "      <th>actual_label</th>\n",
              "      <th>predicted_label</th>\n",
              "    </tr>\n",
              "  </thead>\n",
              "  <tbody>\n",
              "    <tr>\n",
              "      <th>0</th>\n",
              "      <td>translate English to Hindi</td>\n",
              "      <td>1984 में बारामती से उन्होंने पहली बार लोकसभा च...</td>\n",
              "      <td>बारामती से 1984 में  उन्होंने पहली बार लोकसभा ...</td>\n",
              "      <td>1</td>\n",
              "      <td>1</td>\n",
              "    </tr>\n",
              "    <tr>\n",
              "      <th>1</th>\n",
              "      <td>translate English to Hindi</td>\n",
              "      <td>सुप्रीम कोर्ट की फटकार के बाद भी आजम अपने बयान...</td>\n",
              "      <td>सरकार का फर्ज बनता है कि लगातार हो रही एक जैस...</td>\n",
              "      <td>0</td>\n",
              "      <td>0</td>\n",
              "    </tr>\n",
              "    <tr>\n",
              "      <th>2</th>\n",
              "      <td>translate English to Hindi</td>\n",
              "      <td>उत्तराखंड में जारी रहेगा राष्ट्रपति शासन,  हाई...</td>\n",
              "      <td>उत्तराखण्ड में राष्ट्रपति शासन हटाने के नैनीता...</td>\n",
              "      <td>1</td>\n",
              "      <td>1</td>\n",
              "    </tr>\n",
              "    <tr>\n",
              "      <th>3</th>\n",
              "      <td>translate English to Hindi</td>\n",
              "      <td>भारत ने पृथ्वी-दो मिसाइल का किया सफल प्रक्षेपण</td>\n",
              "      <td>भारत ने आज परमाणु क्षमता संपन्न और स्वदेश में ...</td>\n",
              "      <td>1</td>\n",
              "      <td>1</td>\n",
              "    </tr>\n",
              "    <tr>\n",
              "      <th>4</th>\n",
              "      <td>translate English to Hindi</td>\n",
              "      <td>मीडिया रिपोर्ट्स में ये जानकारी नहीं है कि फा...</td>\n",
              "      <td>फाइनेंशियल मदद के तौर पर कितना अमाउंट दिया गय...</td>\n",
              "      <td>1</td>\n",
              "      <td>1</td>\n",
              "    </tr>\n",
              "    <tr>\n",
              "      <th>...</th>\n",
              "      <td>...</td>\n",
              "      <td>...</td>\n",
              "      <td>...</td>\n",
              "      <td>...</td>\n",
              "      <td>...</td>\n",
              "    </tr>\n",
              "    <tr>\n",
              "      <th>695</th>\n",
              "      <td>translate English to Punjabi</td>\n",
              "      <td>ਉਂਜ ਹਰ ਡਿਪੂ ਨੂੰ ਘੱਟੋ-ਘੱਟ 25 ਨਵੀਆਂ ਬੱਸਾਂ ਦਿੱਤੀ...</td>\n",
              "      <td>ਉਂਜ ਘੱਟੋ-ਘੱਟ 25 ਨਵੀਆਂ ਬੱਸਾਂ ਹਰ ਡਿਪੂ ਨੂੰ ਦਿੱਤੀਆ...</td>\n",
              "      <td>1</td>\n",
              "      <td>1</td>\n",
              "    </tr>\n",
              "    <tr>\n",
              "      <th>696</th>\n",
              "      <td>translate English to Punjabi</td>\n",
              "      <td>ਇਨ੍ਹਾਂ ਵਿੱਚ 241 ਰਾਜਨੀਤੀ ਸ਼ਾਸਤਰ ਤੇ 170 ਇਤਿਹਾਸ ਦੇ...</td>\n",
              "      <td>170 ਇਤਿਹਾਸ ਦੇ ਅਤੇ 241 ਰਾਜਨੀਤੀ ਸ਼ਾਸਤਰ ਦੇ  ਲੈਕਚਰਾ...</td>\n",
              "      <td>1</td>\n",
              "      <td>1</td>\n",
              "    </tr>\n",
              "    <tr>\n",
              "      <th>697</th>\n",
              "      <td>translate English to Punjabi</td>\n",
              "      <td>ਇਸਤੋਂ ਪਹਿਲਾਂ ਸ਼ੋਮਣੀ ਅਕਾਲੀ ਦਲ ਦੇ ਇਤਿਹਾਸ ਤੇ ਪਿਛਲੇ...</td>\n",
              "      <td>ਪਹਿਲਾਂ ਇਹ ਵੈੱਬਸਾਈਟ ਸਰਬੱਤ ਖ਼ਾਲਸਾ ਦੀ ਚੱਲ ਰਹੀ ਸੀ|</td>\n",
              "      <td>0</td>\n",
              "      <td>0</td>\n",
              "    </tr>\n",
              "    <tr>\n",
              "      <th>698</th>\n",
              "      <td>translate English to Punjabi</td>\n",
              "      <td>ਟਾਸਕ ਫੋਰਸ ਖੇਡ ਸਹੂਲਤਾਂ, ਸਿਖਲਾਈ, ਚੋਣ ਅਮਲ ਤੇ ਇਨ੍ਹ...</td>\n",
              "      <td>ਖੇਡ ਸਹੂਲਤਾਂ, ਸਿਖਲਾਈ, ਚੋਣ ਅਮਲ ਤੇ ਇਨ੍ਹਾਂ ਨਾਲ ਸਬੰ...</td>\n",
              "      <td>1</td>\n",
              "      <td>1</td>\n",
              "    </tr>\n",
              "    <tr>\n",
              "      <th>699</th>\n",
              "      <td>translate English to Punjabi</td>\n",
              "      <td>ਖਾਧ ਨਿਗਮ ਦੇ ਕਰਮਚਾਰੀਆਂ ਨੇ ਆਪਣੀਆਂ ਮੰਗਾਂ ਪ੍ਰਤੀ ਕੱ...</td>\n",
              "      <td>ਆਪਣੀਆਂ ਮੰਗਾਂ ਪ੍ਰਤੀ ਖਾਧ ਨਿਗਮ ਦੇ ਕਰਮਚਾਰੀਆਂ ਨੇ ਕੱ...</td>\n",
              "      <td>1</td>\n",
              "      <td>1</td>\n",
              "    </tr>\n",
              "  </tbody>\n",
              "</table>\n",
              "<p>700 rows × 5 columns</p>\n",
              "</div>"
            ],
            "text/plain": [
              "                         language  ... predicted_label\n",
              "0      translate English to Hindi  ...               1\n",
              "1      translate English to Hindi  ...               0\n",
              "2      translate English to Hindi  ...               1\n",
              "3      translate English to Hindi  ...               1\n",
              "4      translate English to Hindi  ...               1\n",
              "..                            ...  ...             ...\n",
              "695  translate English to Punjabi  ...               1\n",
              "696  translate English to Punjabi  ...               1\n",
              "697  translate English to Punjabi  ...               0\n",
              "698  translate English to Punjabi  ...               1\n",
              "699  translate English to Punjabi  ...               1\n",
              "\n",
              "[700 rows x 5 columns]"
            ]
          },
          "metadata": {},
          "execution_count": 40
        }
      ]
    },
    {
      "cell_type": "code",
      "metadata": {
        "id": "26ARkcLQvVuS"
      },
      "source": [
        "# Get the test accuracy and labels\n",
        "drav_sent1 = drav_test.sentence_1.tolist()\n",
        "drav_sent2 = drav_test.sentence_2.tolist()\n",
        "drav_y_pred_list = []\n",
        "drav_y_actual_list = []\n",
        "drav_y_language_task = []\n",
        "\n",
        "with torch.no_grad():\n",
        "\n",
        "  # Place the model into evaluation mode\n",
        "    drav_net.eval()\n",
        "\n",
        "    # Loop over the test set\n",
        "    for i, data in enumerate(drav_test_loader, 0):\n",
        "\n",
        "      # Extract the test set components\n",
        "      sent1_test, sent2_test, task_test, label_test = data\n",
        "\n",
        "      # Store the language tasks and actual labels to check model performance\n",
        "      drav_y_actual_list.extend(label_test.tolist())\n",
        "      drav_y_language_task.extend(task_test)\n",
        "\n",
        "      # Reshape the test label to have the same dimensions as the model output\n",
        "      label_test = label_test.type(torch.FloatTensor).reshape((label_test.shape[0], 1))\n",
        "\n",
        "      # Send the test data to GPU\n",
        "      sent1_test, sent2_test, label_test = sent1_test.to(device), sent2_test.to(device), label_test.to(device)\n",
        "\n",
        "      # Get the test set predictions\n",
        "      test_pred = drav_net(sent1_test, sent2_test)\n",
        "            \n",
        "      # Get the predicted test labels\n",
        "      y_test_pred = torch.round(torch.sigmoid(test_pred)).long()\n",
        "\n",
        "      # Add the test labels to their respective list\n",
        "      drav_y_pred_list.extend(y_test_pred)"
      ],
      "execution_count": 83,
      "outputs": []
    },
    {
      "cell_type": "code",
      "metadata": {
        "id": "tgSRuxg4vnXH"
      },
      "source": [
        "# Create a dataframe from test performance\n",
        "drav_y_pred = [x.item() for x in drav_y_pred_list]\n",
        "drav_test_performance = pd.DataFrame(list(zip(drav_y_language_task, drav_sent1, drav_sent2, drav_y_actual_list)),columns =['language', 'sentence_1', 'sentence_2', 'actual_label'])"
      ],
      "execution_count": 87,
      "outputs": []
    },
    {
      "cell_type": "code",
      "metadata": {
        "id": "I2gDLjU86sd6"
      },
      "source": [
        "drav_test_performance = pd.concat([drav_test_performance, pd.DataFrame(drav_y_pred)], axis=1)\n",
        "drav_test_performance.rename(columns = {0: 'predicted_label'}, inplace=True)"
      ],
      "execution_count": 88,
      "outputs": []
    },
    {
      "cell_type": "code",
      "metadata": {
        "colab": {
          "base_uri": "https://localhost:8080/"
        },
        "id": "wN3HXmq-Jhqz",
        "outputId": "77efd3ce-c73a-498e-c4fb-a59e578f07c2"
      },
      "source": [
        "# Creating a separate Dravididan model results in the loss of all predictions for Tamil\n",
        "print(drav_test_performance[drav_test_performance.language == 'translate English to Tamil'].predicted_label.isna().sum())\n",
        "print(drav_test_performance[drav_test_performance.language == 'translate English to Tamil'].predicted_label.notna().sum())\n",
        "\n",
        "# And a loss of predictions for some of the Malayalam sentences\n",
        "print(drav_test_performance[drav_test_performance.language == 'tranlsate English to Malayalam'].predicted_label.isna().sum())\n",
        "print(drav_test_performance[drav_test_performance.language == 'translate English to Malayalam'].predicted_label.notna().sum())"
      ],
      "execution_count": 89,
      "outputs": [
        {
          "output_type": "stream",
          "name": "stdout",
          "text": [
            "0\n",
            "450\n",
            "0\n",
            "450\n"
          ]
        }
      ]
    },
    {
      "cell_type": "code",
      "metadata": {
        "id": "c-EfT8KICz13"
      },
      "source": [
        "# Save the file to share\n",
        "aryan_test_performance.to_csv(D+\"/predicted_text/siamese_evaluations_of_translations/aryan_test.csv\")\n",
        "drav_test_performance.to_csv(D+\"/predicted_text/siamese_evaluations_of_translations/drav_test.csv\")"
      ],
      "execution_count": 91,
      "outputs": []
    },
    {
      "cell_type": "code",
      "metadata": {
        "colab": {
          "base_uri": "https://localhost:8080/"
        },
        "id": "vb63FB0tFWez",
        "outputId": "7b14fe16-2832-4e77-bed7-df8ce68b0dbc"
      },
      "source": [
        "# Accuracy for the Aryan languages is approximately 96% - not better than an \n",
        "print(accuracy_score(aryan_y_actual_list, aryan_y_pred))"
      ],
      "execution_count": 92,
      "outputs": [
        {
          "output_type": "stream",
          "name": "stdout",
          "text": [
            "0.9157142857142857\n"
          ]
        }
      ]
    },
    {
      "cell_type": "code",
      "metadata": {
        "colab": {
          "base_uri": "https://localhost:8080/"
        },
        "id": "fY-QmGzVFbea",
        "outputId": "0ad0a820-c2c2-4464-8ed9-5b3df89c2554"
      },
      "source": [
        "drav_test.label.value_counts()"
      ],
      "execution_count": 94,
      "outputs": [
        {
          "output_type": "execute_result",
          "data": {
            "text/plain": [
              "0    479\n",
              "1    421\n",
              "Name: label, dtype: int64"
            ]
          },
          "metadata": {},
          "execution_count": 94
        }
      ]
    },
    {
      "cell_type": "code",
      "metadata": {
        "colab": {
          "base_uri": "https://localhost:8080/"
        },
        "id": "bsEMS_unFIUa",
        "outputId": "36fbf2f3-7383-4cac-ee02-923f34b43345"
      },
      "source": [
        "print(accuracy_score(drav_y_actual_list, drav_y_pred))"
      ],
      "execution_count": 95,
      "outputs": [
        {
          "output_type": "stream",
          "name": "stdout",
          "text": [
            "0.6688888888888889\n"
          ]
        }
      ]
    },
    {
      "cell_type": "code",
      "metadata": {
        "colab": {
          "base_uri": "https://localhost:8080/"
        },
        "id": "3IdLuRAaFuXh",
        "outputId": "41d7c7ef-519f-4b44-8c31-990036d9fadd"
      },
      "source": [
        "# Get the overall f1-score\n",
        "print(f1_score(aryan_y_actual_list, aryan_y_pred))\n",
        "print(f1_score(drav_y_actual_list, drav_y_pred))"
      ],
      "execution_count": 96,
      "outputs": [
        {
          "output_type": "stream",
          "name": "stdout",
          "text": [
            "0.9110105580693816\n",
            "0.6078947368421053\n"
          ]
        }
      ]
    },
    {
      "cell_type": "code",
      "metadata": {
        "colab": {
          "base_uri": "https://localhost:8080/"
        },
        "id": "RUOsK8ZHLXUh",
        "outputId": "21f1c366-c957-4754-9054-47633ecefcdc"
      },
      "source": [
        "# Get the accuracy scores on Hindi\n",
        "hi_test = aryan_test_performance[aryan_test_performance.language == 'translate English to Hindi']\n",
        "# The model performs very well on Hindi\n",
        "print(accuracy_score(hi_test.actual_label.tolist(), hi_test.predicted_label.tolist()))\n",
        "# Get the f1-score\n",
        "print(f1_score(hi_test.actual_label.tolist(), hi_test.predicted_label.tolist()))"
      ],
      "execution_count": 97,
      "outputs": [
        {
          "output_type": "stream",
          "name": "stdout",
          "text": [
            "0.8822222222222222\n",
            "0.8710462287104623\n"
          ]
        }
      ]
    },
    {
      "cell_type": "code",
      "metadata": {
        "colab": {
          "base_uri": "https://localhost:8080/"
        },
        "id": "w-PgT23AMJWg",
        "outputId": "53ea3b6c-90b2-42c5-8e53-b8bea8cdbd25"
      },
      "source": [
        "# Get the accuracy scores on Tamil for the records where a label was predicted\n",
        "ta_test = drav_test_performance[(drav_test_performance.language == 'translate English to Tamil') & (drav_test_performance.predicted_label.notna())]\n",
        "# The model performs very well on Hindi\n",
        "print(accuracy_score(ta_test.actual_label.tolist(), ta_test.predicted_label.tolist()))\n",
        "# Get the f1-score\n",
        "print(f1_score(ta_test.actual_label.tolist(), ta_test.predicted_label.tolist()))"
      ],
      "execution_count": 98,
      "outputs": [
        {
          "output_type": "stream",
          "name": "stdout",
          "text": [
            "0.5866666666666667\n",
            "0.425925925925926\n"
          ]
        }
      ]
    },
    {
      "cell_type": "code",
      "metadata": {
        "colab": {
          "base_uri": "https://localhost:8080/"
        },
        "id": "t6FAO42sMRPU",
        "outputId": "9720fad2-a547-402d-a25e-97184c6e923a"
      },
      "source": [
        "# Get the accuracy scores on Malayalam\n",
        "ml_test = drav_test_performance[drav_test_performance.language == 'translate English to Malayalam']\n",
        "# The model performs very well on Hindi\n",
        "print(accuracy_score(ml_test.actual_label.tolist(), ml_test.predicted_label.tolist()))\n",
        "# Get the f1-score\n",
        "print(f1_score(ml_test.actual_label.tolist(), ml_test.predicted_label.tolist()))"
      ],
      "execution_count": 99,
      "outputs": [
        {
          "output_type": "stream",
          "name": "stdout",
          "text": [
            "0.7511111111111111\n",
            "0.7431192660550459\n"
          ]
        }
      ]
    },
    {
      "cell_type": "code",
      "metadata": {
        "colab": {
          "base_uri": "https://localhost:8080/"
        },
        "id": "U3l7UFWfXea6",
        "outputId": "2b2072cf-1451-41fc-920c-da7d1ea63a86"
      },
      "source": [
        "# Get the accuracy scores on Punjabi\n",
        "pb_test = aryan_test_performance[aryan_test_performance.language == 'translate English to Punjabi']\n",
        "# The model performs very well on Hindi\n",
        "print(accuracy_score(pb_test.actual_label.tolist(), pb_test.predicted_label.tolist()))\n",
        "# Get the f1-score\n",
        "print(f1_score(pb_test.actual_label.tolist(), pb_test.predicted_label.tolist()))"
      ],
      "execution_count": 100,
      "outputs": [
        {
          "output_type": "stream",
          "name": "stdout",
          "text": [
            "0.976\n",
            "0.976190476190476\n"
          ]
        }
      ]
    },
    {
      "cell_type": "code",
      "metadata": {
        "colab": {
          "base_uri": "https://localhost:8080/"
        },
        "id": "7XvNjzulGCFf",
        "outputId": "64931d5d-b31d-43a6-afa5-8dd23d40fbea"
      },
      "source": [
        "# Let's see the number of mistakes the model is making (on what language tasks)\n",
        "aryan_cm = confusion_matrix(aryan_y_actual_list, aryan_y_pred)\n",
        "drav_cm = confusion_matrix(drav_y_actual_list, drav_y_pred)\n",
        "\n",
        "# Create and apply a mask to ignore the diagonal entries (these are correctly predicted values)\n",
        "print(aryan_cm, \"\\n\")\n",
        "print(drav_cm)"
      ],
      "execution_count": 102,
      "outputs": [
        {
          "output_type": "stream",
          "name": "stdout",
          "text": [
            "[[339  40]\n",
            " [ 19 302]] \n",
            "\n",
            "[[371 108]\n",
            " [190 231]]\n"
          ]
        }
      ]
    },
    {
      "cell_type": "code",
      "metadata": {
        "id": "Pq8TfinLQxiL",
        "colab": {
          "base_uri": "https://localhost:8080/"
        },
        "outputId": "0452c205-515f-473c-eaa9-bf91c57ee0ca"
      },
      "source": [
        "# Check the confusiom matrix on Hindi\n",
        "confusion_matrix(hi_test.actual_label.tolist(), hi_test.predicted_label.tolist())"
      ],
      "execution_count": 103,
      "outputs": [
        {
          "output_type": "execute_result",
          "data": {
            "text/plain": [
              "array([[218,  36],\n",
              "       [ 17, 179]])"
            ]
          },
          "metadata": {},
          "execution_count": 103
        }
      ]
    },
    {
      "cell_type": "code",
      "metadata": {
        "id": "fjj4AS9aQ7TB",
        "colab": {
          "base_uri": "https://localhost:8080/"
        },
        "outputId": "66b0556c-895b-4d10-9c87-a0d22f604cdc"
      },
      "source": [
        "# Check the confusiom matrix on Tamil\n",
        "confusion_matrix(ta_test.actual_label.tolist(), ta_test.predicted_label.tolist())"
      ],
      "execution_count": 104,
      "outputs": [
        {
          "output_type": "execute_result",
          "data": {
            "text/plain": [
              "array([[195,  53],\n",
              "       [133,  69]])"
            ]
          },
          "metadata": {},
          "execution_count": 104
        }
      ]
    },
    {
      "cell_type": "code",
      "metadata": {
        "id": "AW_EgulOQbIq",
        "colab": {
          "base_uri": "https://localhost:8080/"
        },
        "outputId": "708da76f-955f-4a60-d482-424e6b3f746b"
      },
      "source": [
        "# Check the confusiom matrix on Malayalam\n",
        "confusion_matrix(ml_test.actual_label.tolist(), ml_test.predicted_label.tolist())"
      ],
      "execution_count": 105,
      "outputs": [
        {
          "output_type": "execute_result",
          "data": {
            "text/plain": [
              "array([[176,  55],\n",
              "       [ 57, 162]])"
            ]
          },
          "metadata": {},
          "execution_count": 105
        }
      ]
    },
    {
      "cell_type": "code",
      "metadata": {
        "id": "NwyuV6moXwKc",
        "colab": {
          "base_uri": "https://localhost:8080/"
        },
        "outputId": "46d44114-c424-4956-fd69-64cc8987b6c6"
      },
      "source": [
        "# Check the confusiom matrix on Punjabi\n",
        "confusion_matrix(pb_test.actual_label.tolist(), pb_test.predicted_label.tolist())"
      ],
      "execution_count": 106,
      "outputs": [
        {
          "output_type": "execute_result",
          "data": {
            "text/plain": [
              "array([[121,   4],\n",
              "       [  2, 123]])"
            ]
          },
          "metadata": {},
          "execution_count": 106
        }
      ]
    },
    {
      "cell_type": "code",
      "metadata": {
        "id": "rVCnRndIg4UT",
        "colab": {
          "base_uri": "https://localhost:8080/"
        },
        "outputId": "9715efed-a2fc-469f-915e-8b50de0ea3b8"
      },
      "source": [
        "# Save the weights and biases\n",
        "torch.save(aryan_net.state_dict(), \"/content/drive/My Drive/W266_Project_Data/models/siamese_model/aryan_model.pt\")\n",
        "torch.save(drav_net.state_dict(), \"/content/drive/My Drive/W266_Project_Data/models/siamese_model/drav_model.pt\")\n",
        "\n",
        "print(\"Model Saved\")"
      ],
      "execution_count": 107,
      "outputs": [
        {
          "output_type": "stream",
          "name": "stdout",
          "text": [
            "Model Saved\n"
          ]
        }
      ]
    }
  ]
}