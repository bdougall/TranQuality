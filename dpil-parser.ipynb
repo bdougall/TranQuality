{
 "cells": [
  {
   "cell_type": "code",
   "execution_count": 1,
   "metadata": {},
   "outputs": [],
   "source": [
    "import xml.etree.ElementTree as ET\n",
    "from pathlib import Path"
   ]
  },
  {
   "cell_type": "code",
   "execution_count": null,
   "metadata": {},
   "outputs": [],
   "source": [
    "# !pip install pandas"
   ]
  },
  {
   "cell_type": "code",
   "execution_count": 2,
   "metadata": {},
   "outputs": [],
   "source": [
    "import pandas as pd\n",
    "   \n",
    "# cols = [\"Paraphrase\", \"Sentence1\", \"Sentence2\", \"Class\"] # \n",
    "cols = [\"Sentence1\", \"Sentence2\", \"Class\"] # \n",
    "\n",
    "\n",
    "def xml_to_csv(infilepath, outfilepath):\n",
    "#     import pdb; pdb.set_trace()\n",
    "    print(infilepath)\n",
    "    tree = ET.parse(infilepath)\n",
    "    root = tree.getroot()\n",
    "    rows = []\n",
    "    for paraphrase in root.iter('Paraphrase'):\n",
    "#         pID = paraphrase.attrib\n",
    "        sentence1 = paraphrase.find('Sentence1')\n",
    "        sentence2 = paraphrase.find('Sentence2')\n",
    "        clas = paraphrase.find('Class')\n",
    "        rows.append({\n",
    "#                  \"Paraphrase\": paraphrase.attrib['pID'],\n",
    "                 \"Sentence1\": sentence1.text,\n",
    "                 \"Sentence2\": sentence2.text,\n",
    "                 \"Class\": clas.text})\n",
    "        \n",
    "    df = pd.DataFrame(rows, columns=cols)    \n",
    "    df = df.sample(frac=1).reset_index(drop=True)\n",
    "    df.to_csv(outfilepath, index=False, header=False)\n",
    "    return\n",
    "    \n",
    "# convert the 4 available indic files "
   ]
  },
  {
   "cell_type": "code",
   "execution_count": 3,
   "metadata": {
    "scrolled": true
   },
   "outputs": [
    {
     "name": "stdout",
     "output_type": "stream",
     "text": [
      "/w266/project/testbert/indic-glue/DPIL/train/pb_task1.xml\n",
      "/w266/project/testbert/indic-glue/DPIL/train/pb_task1.xml /w266/project/pp_finetuning/indic-glue/amrita-paraphrase-exact/pb/pb-train.csv created\n",
      "/w266/project/testbert/indic-glue/DPIL/train/hi_task1.xml\n",
      "/w266/project/testbert/indic-glue/DPIL/train/hi_task1.xml /w266/project/pp_finetuning/indic-glue/amrita-paraphrase-exact/hi/hi-train.csv created\n",
      "/w266/project/testbert/indic-glue/DPIL/train/ma_task1.xml\n",
      "/w266/project/testbert/indic-glue/DPIL/train/ma_task1.xml /w266/project/pp_finetuning/indic-glue/amrita-paraphrase-exact/ma/ma-train.csv created\n",
      "/w266/project/testbert/indic-glue/DPIL/train/ta_task1.xml\n",
      "/w266/project/testbert/indic-glue/DPIL/train/ta_task1.xml /w266/project/pp_finetuning/indic-glue/amrita-paraphrase-exact/ta/ta-train.csv created\n"
     ]
    }
   ],
   "source": [
    "# langs = ['AmritaCEN-DPIL2016_Punjabi', 'Amrita-CEN_DPIL@FIRE2016-Hindi', 'DPIL-Malayalam', 'DPIL-Tamil' ]\n",
    "langs = ['pb', 'hi', 'ma', 'ta' ]\n",
    "base_dir = '/w266/project/'\n",
    "proj_name = 'pp_finetuning'\n",
    "p = Path(base_dir)\n",
    "\n",
    "outdir = p / proj_name / 'indic-glue/amrita-paraphrase-exact/'\n",
    "\n",
    "for lang in langs:\n",
    "    ifname = lang + '_task1.xml'\n",
    "    ofname = lang + '-train.csv'\n",
    "    infilepath =  p / 'testbert/indic-glue/DPIL/train' /  ifname\n",
    "    outfilepath = p / outdir / lang   \n",
    "    Path(outfilepath).mkdir(parents=True, exist_ok=True)\n",
    "    outfilepath = outfilepath / ofname\n",
    "    xml_to_csv(infilepath, outfilepath)\n",
    "    print (infilepath, outfilepath , 'created')"
   ]
  },
  {
   "cell_type": "code",
   "execution_count": null,
   "metadata": {},
   "outputs": [],
   "source": [
    "df = pd.read_csv('/w266/project/pp_finetuning/indic-glue/amrita-paraphrase-exact/ta/ta-train.csv')\n",
    "df.head(10)"
   ]
  },
  {
   "cell_type": "markdown",
   "metadata": {},
   "source": [
    "# Copy test files"
   ]
  },
  {
   "cell_type": "markdown",
   "metadata": {},
   "source": [
    "### Install xls dependencies"
   ]
  },
  {
   "cell_type": "code",
   "execution_count": null,
   "metadata": {},
   "outputs": [],
   "source": [
    "!pip install xlrd"
   ]
  },
  {
   "cell_type": "code",
   "execution_count": null,
   "metadata": {},
   "outputs": [],
   "source": []
  },
  {
   "cell_type": "code",
   "execution_count": null,
   "metadata": {},
   "outputs": [],
   "source": [
    "outdir = p / proj_name /'indic-glue/amrita-paraphrase-exact/'\n",
    "for i in [('TestHindi.xls', 'hi'),  ('TestMalayalam.xls', 'ml'), ('TestPunjabi.xls', 'pa'), ('TestTamil.xls', 'ta')] :\n",
    "    fname, lang = i\n",
    "    infilepath =  p / 'data/DPIL/TestData' /  fname\n",
    "    ofname = lang + '-test.csv'\n",
    "    outfilepath = outdir / lang / ofname\n",
    "    read_file = pd.read_excel (infilepath) #, sheet_name='Your Excel sheet name')\n",
    "    read_file.to_csv (outfilepath, index = None, header=True)"
   ]
  },
  {
   "cell_type": "markdown",
   "metadata": {},
   "source": [
    "### Drop row 1"
   ]
  },
  {
   "cell_type": "code",
   "execution_count": null,
   "metadata": {},
   "outputs": [],
   "source": [
    "import csv\n",
    "def read_csv(input_file, quotechar=None):\n",
    "    \"\"\"Reads a tab separated value file.\"\"\"\n",
    "    with open(input_file, encoding='utf-8') as fp:\n",
    "        return list(csv.reader(fp, delimiter=','))"
   ]
  },
  {
   "cell_type": "code",
   "execution_count": null,
   "metadata": {},
   "outputs": [],
   "source": [
    "lines = read_csv('indic-glue/amrita-paraphrase-exact/ta/ta-train.csv')"
   ]
  },
  {
   "cell_type": "code",
   "execution_count": null,
   "metadata": {},
   "outputs": [],
   "source": [
    "lines[0][2]"
   ]
  },
  {
   "cell_type": "code",
   "execution_count": null,
   "metadata": {},
   "outputs": [],
   "source": [
    "def _create_examples(lines):\n",
    "    \"\"\"Creates examples for the training and dev sets.\"\"\"\n",
    "    for (i, line) in enumerate(lines):\n",
    "        print(line[0], line[1], line[2])\n",
    "        if i> 5 :\n",
    "            return"
   ]
  },
  {
   "cell_type": "code",
   "execution_count": null,
   "metadata": {},
   "outputs": [],
   "source": [
    "_create_examples(lines)"
   ]
  },
  {
   "cell_type": "code",
   "execution_count": null,
   "metadata": {},
   "outputs": [],
   "source": []
  }
 ],
 "metadata": {
  "kernelspec": {
   "display_name": "Python 3",
   "language": "python",
   "name": "python3"
  },
  "language_info": {
   "codemirror_mode": {
    "name": "ipython",
    "version": 3
   },
   "file_extension": ".py",
   "mimetype": "text/x-python",
   "name": "python",
   "nbconvert_exporter": "python",
   "pygments_lexer": "ipython3",
   "version": "3.6.9"
  }
 },
 "nbformat": 4,
 "nbformat_minor": 2
}
