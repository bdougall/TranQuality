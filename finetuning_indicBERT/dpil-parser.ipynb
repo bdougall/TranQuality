{
 "cells": [
  {
   "cell_type": "code",
   "execution_count": 1,
   "metadata": {},
   "outputs": [],
   "source": [
    "import pandas as pd\n",
    "from pathlib import Path"
   ]
  },
  {
   "cell_type": "code",
   "execution_count": null,
   "metadata": {},
   "outputs": [],
   "source": [
    "import xml.etree.ElementTree as ET\n"
   ]
  },
  {
   "cell_type": "code",
   "execution_count": null,
   "metadata": {},
   "outputs": [],
   "source": [
    "%pwd"
   ]
  },
  {
   "cell_type": "code",
   "execution_count": null,
   "metadata": {},
   "outputs": [],
   "source": [
    "cols = [\"Sentence1\", \"Sentence2\", \"Class\"] # \n",
    "\n",
    "\n",
    "def xml_to_csv(infilepath, outfilepath):\n",
    "#     import pdb; pdb.set_trace()\n",
    "    print(infilepath)\n",
    "    tree = ET.parse(infilepath)\n",
    "    root = tree.getroot()\n",
    "    rows = []\n",
    "    for paraphrase in root.iter('Paraphrase'):\n",
    "        sentence1 = paraphrase.find('Sentence1')\n",
    "        sentence2 = paraphrase.find('Sentence2')\n",
    "        clas = paraphrase.find('Class')\n",
    "        rows.append({\n",
    "                 \"Sentence1\": sentence1.text,\n",
    "                 \"Sentence2\": sentence2.text,\n",
    "                 \"Class\": clas.text})\n",
    "\n",
    "    print('Total rows read from xml = ', len(rows))    \n",
    "    df = pd.DataFrame(rows, columns=cols)    \n",
    "    df.to_csv(outfilepath, index=False, header=False)\n",
    "    \n",
    "    print('Total records in ', infilepath, df.shape)\n",
    "    print(df.iloc[0])\n",
    "    \n",
    "    return\n",
    "    "
   ]
  },
  {
   "cell_type": "code",
   "execution_count": null,
   "metadata": {
    "scrolled": true
   },
   "outputs": [],
   "source": [
    "langs = ['pb', 'hi', 'ma', 'ta' ]\n",
    "base_dir = '/w266/w266/project/'\n",
    "proj_name = 'finetuning'\n",
    "p = Path(base_dir)\n",
    "\n",
    "outdir =  'indic-glue/amrita-paraphrase-exact/'\n",
    "\n",
    "for lang in langs:\n",
    "    data = 'data/DPIL'\n",
    "    xmlf = str(lang) + '_task1.xml'\n",
    "    ifname = p / data /  xmlf #/home/jai/w266/project/data/DPIL\n",
    "    ofname = lang + '-train.csv'\n",
    "    infilepath =  p / 'testbert/indic-glue/DPIL/train' /  ifname\n",
    "    outfilepath = p / proj_name / outdir / lang   \n",
    "    Path(outfilepath).mkdir(parents=True, exist_ok=True)\n",
    "    outfilepath = outfilepath / ofname\n",
    "    xml_to_csv(infilepath, outfilepath)\n",
    "    print (infilepath, '\\n',  outfilepath , 'created')\n",
    "    print(\"*\"*80)"
   ]
  },
  {
   "cell_type": "code",
   "execution_count": null,
   "metadata": {},
   "outputs": [],
   "source": [
    "df = pd.read_csv('/w266/w266/project/finetuning/indic-glue/amrita-paraphrase-exact/ta/ta-train.csv')"
   ]
  },
  {
   "cell_type": "code",
   "execution_count": null,
   "metadata": {},
   "outputs": [],
   "source": [
    "df.shape"
   ]
  },
  {
   "cell_type": "code",
   "execution_count": null,
   "metadata": {},
   "outputs": [],
   "source": [
    "df.iloc[0]"
   ]
  },
  {
   "cell_type": "markdown",
   "metadata": {},
   "source": [
    "# Copy test files"
   ]
  },
  {
   "cell_type": "markdown",
   "metadata": {},
   "source": [
    "### Install xls dependencies"
   ]
  },
  {
   "cell_type": "code",
   "execution_count": null,
   "metadata": {},
   "outputs": [],
   "source": [
    "!pip install xlrd"
   ]
  },
  {
   "cell_type": "code",
   "execution_count": 3,
   "metadata": {},
   "outputs": [],
   "source": [
    "langs = ['pb', 'hi', 'ma', 'ta' ]\n",
    "base_dir = '/w266/w266/project/'\n",
    "proj_name = 'finetuning'\n",
    "p = Path(base_dir)\n",
    "\n",
    "outdir = p / proj_name / 'indic-glue/amrita-paraphrase-exact/'\n",
    "Path(outdir).mkdir(parents=True, exist_ok=True)\n",
    "\n",
    "\n",
    "for i in [('TestHindi.xls', 'hi'),  ('TestMalayalam.xls', 'ma'), ('TestPunjabi.xls', 'pb'), ('TestTamil.xls', 'ta')] :\n",
    "    fname, lang = i\n",
    "    infilepath =  p / 'data/DPIL/TestData' /  fname\n",
    "    ofname = lang + '-test.csv'\n",
    "    outfilepath = outdir / lang / ofname\n",
    "    read_file = pd.read_excel (infilepath) #, sheet_name='Your Excel sheet name')\n",
    "    read_file.to_csv (outfilepath, index = None, header=True)"
   ]
  },
  {
   "cell_type": "markdown",
   "metadata": {},
   "source": [
    "## Merge files"
   ]
  },
  {
   "cell_type": "code",
   "execution_count": null,
   "metadata": {},
   "outputs": [],
   "source": [
    "outdir"
   ]
  },
  {
   "cell_type": "code",
   "execution_count": null,
   "metadata": {},
   "outputs": [],
   "source": [
    "pb = pd.read_csv('indic-glue/amrita-paraphrase-exact/pb/pb-train.csv', header=None)\n",
    "hi = pd.read_csv('indic-glue/amrita-paraphrase-exact/hi/hi-train.csv', header=None)\n",
    "ma = pd.read_csv('indic-glue/amrita-paraphrase-exact/ma/ma-train.csv', header=None)\n",
    "ta = pd.read_csv('indic-glue/amrita-paraphrase-exact/ta/ta-train.csv', header=None)"
   ]
  },
  {
   "cell_type": "code",
   "execution_count": null,
   "metadata": {},
   "outputs": [],
   "source": [
    "ta.head(2)"
   ]
  },
  {
   "cell_type": "code",
   "execution_count": null,
   "metadata": {},
   "outputs": [],
   "source": [
    "merged_df = [pb, hi, ma, ta]\n",
    "result = pd.concat(merged_df)"
   ]
  },
  {
   "cell_type": "code",
   "execution_count": null,
   "metadata": {},
   "outputs": [],
   "source": [
    "result.shape"
   ]
  },
  {
   "cell_type": "code",
   "execution_count": null,
   "metadata": {},
   "outputs": [],
   "source": [
    "base_dir = '/w266/w266/project/'\n",
    "proj_name = 'pp_finetuning'\n",
    "p = Path(base_dir)\n",
    "\n",
    "outdir = p / proj_name / 'indic-glue/amrita-paraphrase-exact/all'\n",
    "Path(outdir).mkdir(parents=True, exist_ok=True)\n",
    "ofname = outdir / 'all-train.csv'\n",
    "print(ofname)\n",
    "result.to_csv (ofname, index = None, header=True)\n"
   ]
  },
  {
   "cell_type": "code",
   "execution_count": null,
   "metadata": {},
   "outputs": [],
   "source": [
    "pb = pd.read_csv('indic-glue/amrita-paraphrase-exact/pb/pb-test.csv', header=None)\n",
    "hi = pd.read_csv('indic-glue/amrita-paraphrase-exact/hi/hi-test.csv', header=None)\n",
    "ma = pd.read_csv('indic-glue/amrita-paraphrase-exact/ma/ma-test.csv', header=None)\n",
    "ta = pd.read_csv('indic-glue/amrita-paraphrase-exact/ta/ta-test.csv', header=None)"
   ]
  },
  {
   "cell_type": "code",
   "execution_count": null,
   "metadata": {},
   "outputs": [],
   "source": [
    "merged_df = [pb, hi, ma, ta]\n",
    "result = pd.concat(merged_df)"
   ]
  },
  {
   "cell_type": "code",
   "execution_count": null,
   "metadata": {},
   "outputs": [],
   "source": [
    "base_dir = '/w266/w266/project/'\n",
    "proj_name = 'pp_finetuning'\n",
    "p = Path(base_dir)\n",
    "\n",
    "outdir = p / proj_name / 'indic-glue/amrita-paraphrase-exact/all'\n",
    "Path(outdir).mkdir(parents=True, exist_ok=True)\n",
    "ofname = outdir / 'all-test.csv'\n",
    "print(ofname)\n",
    "result.to_csv (ofname, index = None, header=True)"
   ]
  },
  {
   "cell_type": "code",
   "execution_count": null,
   "metadata": {},
   "outputs": [],
   "source": [
    "ta.shape"
   ]
  },
  {
   "cell_type": "code",
   "execution_count": null,
   "metadata": {},
   "outputs": [],
   "source": [
    "import numpy as np\n",
    "import pandas as pd\n",
    "seed = 2028\n",
    "df = pd.read_csv('/w266/project/pp_finetuning/indic-glue/amrita-paraphrase-exact/all/all-train.csv')\n",
    "\n",
    "df = df.reindex(np.random.RandomState(seed=2028).permutation(df.index))\n",
    "df.reset_index(drop=True).to_csv('/w266/project/pp_finetuning/indic-glue/amrita-paraphrase-exact/all/all-train.csv', index=False, header=False)\n"
   ]
  },
  {
   "cell_type": "code",
   "execution_count": null,
   "metadata": {},
   "outputs": [],
   "source": [
    "df.head(5)"
   ]
  },
  {
   "cell_type": "markdown",
   "metadata": {},
   "source": [
    "### Drop row 1"
   ]
  },
  {
   "cell_type": "code",
   "execution_count": null,
   "metadata": {},
   "outputs": [],
   "source": [
    "import csv\n",
    "def read_csv(input_file, quotechar=None):\n",
    "    \"\"\"Reads a tab separated value file.\"\"\"\n",
    "    with open(input_file, encoding='utf-8') as fp:\n",
    "        return list(csv.reader(fp, delimiter=','))"
   ]
  },
  {
   "cell_type": "code",
   "execution_count": null,
   "metadata": {},
   "outputs": [],
   "source": [
    "lines = read_csv('indic-glue/amrita-paraphrase-exact/ma/ma-train.csv')"
   ]
  },
  {
   "cell_type": "code",
   "execution_count": null,
   "metadata": {},
   "outputs": [],
   "source": [
    "lines[0][2]"
   ]
  },
  {
   "cell_type": "code",
   "execution_count": null,
   "metadata": {},
   "outputs": [],
   "source": [
    "def _create_examples(lines):\n",
    "    \"\"\"Creates examples for the training and dev sets.\"\"\"\n",
    "    for (i, line) in enumerate(lines):\n",
    "        print(line[0], line[1], line[2])\n",
    "        if i> 5 :\n",
    "            return"
   ]
  },
  {
   "cell_type": "code",
   "execution_count": null,
   "metadata": {},
   "outputs": [],
   "source": [
    "_create_examples(lines)"
   ]
  },
  {
   "cell_type": "markdown",
   "metadata": {},
   "source": [
    "### Create test files"
   ]
  },
  {
   "cell_type": "code",
   "execution_count": 1,
   "metadata": {},
   "outputs": [],
   "source": [
    "import pandas as pd\n",
    "from pathlib import Path"
   ]
  },
  {
   "cell_type": "code",
   "execution_count": 2,
   "metadata": {},
   "outputs": [
    {
     "data": {
      "text/html": [
       "<div>\n",
       "<style scoped>\n",
       "    .dataframe tbody tr th:only-of-type {\n",
       "        vertical-align: middle;\n",
       "    }\n",
       "\n",
       "    .dataframe tbody tr th {\n",
       "        vertical-align: top;\n",
       "    }\n",
       "\n",
       "    .dataframe thead th {\n",
       "        text-align: right;\n",
       "    }\n",
       "</style>\n",
       "<table border=\"1\" class=\"dataframe\">\n",
       "  <thead>\n",
       "    <tr style=\"text-align: right;\">\n",
       "      <th></th>\n",
       "      <th>Unnamed: 0</th>\n",
       "      <th>sentence_1</th>\n",
       "      <th>sentence_2</th>\n",
       "      <th>label</th>\n",
       "      <th>language_task</th>\n",
       "    </tr>\n",
       "  </thead>\n",
       "  <tbody>\n",
       "    <tr>\n",
       "      <th>0</th>\n",
       "      <td>88</td>\n",
       "      <td>विजय माल्या का राज्यसभा से इस्तीफा चेयरमैन हाम...</td>\n",
       "      <td>हामिद अंसारी ने फैक्स से मिले विजय माल्या का इ...</td>\n",
       "      <td>0</td>\n",
       "      <td>translate English to Hindi</td>\n",
       "    </tr>\n",
       "    <tr>\n",
       "      <th>1</th>\n",
       "      <td>312</td>\n",
       "      <td>करीब ढाई साल ट्विटर से दूर रहीं सुजैन ने बुधवा...</td>\n",
       "      <td>सुजैन ने बुधवार को ट्वीट किया कि  ''फोटोज फोटो...</td>\n",
       "      <td>1</td>\n",
       "      <td>translate English to Hindi</td>\n",
       "    </tr>\n",
       "    <tr>\n",
       "      <th>2</th>\n",
       "      <td>117</td>\n",
       "      <td>लादेन  एबटाबाद शहर में पाकिस्तान के सैन्य प्र...</td>\n",
       "      <td>पाकिस्तान के तत्कालीन सेना प्रमुख व आइएसआइ प्र...</td>\n",
       "      <td>0</td>\n",
       "      <td>translate English to Hindi</td>\n",
       "    </tr>\n",
       "    <tr>\n",
       "      <th>3</th>\n",
       "      <td>125</td>\n",
       "      <td>उत्तराखंड पर शुक्रवार तक सुनवाई टली</td>\n",
       "      <td>सुप्रीम कोर्ट ने उत्तराखंड में राष्ट्रपति शासन...</td>\n",
       "      <td>1</td>\n",
       "      <td>translate English to Hindi</td>\n",
       "    </tr>\n",
       "    <tr>\n",
       "      <th>4</th>\n",
       "      <td>286</td>\n",
       "      <td>पठानकोट हमले को लेकर संसदीय कमेटी ने सरकार पर ...</td>\n",
       "      <td>सांसदों के क्रॉस पार्टी पैनल ने होम मिनिस्ट्री...</td>\n",
       "      <td>1</td>\n",
       "      <td>translate English to Hindi</td>\n",
       "    </tr>\n",
       "  </tbody>\n",
       "</table>\n",
       "</div>"
      ],
      "text/plain": [
       "   Unnamed: 0                                         sentence_1  \\\n",
       "0          88  विजय माल्या का राज्यसभा से इस्तीफा चेयरमैन हाम...   \n",
       "1         312  करीब ढाई साल ट्विटर से दूर रहीं सुजैन ने बुधवा...   \n",
       "2         117   लादेन  एबटाबाद शहर में पाकिस्तान के सैन्य प्र...   \n",
       "3         125                उत्तराखंड पर शुक्रवार तक सुनवाई टली   \n",
       "4         286  पठानकोट हमले को लेकर संसदीय कमेटी ने सरकार पर ...   \n",
       "\n",
       "                                          sentence_2  label  \\\n",
       "0  हामिद अंसारी ने फैक्स से मिले विजय माल्या का इ...      0   \n",
       "1  सुजैन ने बुधवार को ट्वीट किया कि  ''फोटोज फोटो...      1   \n",
       "2  पाकिस्तान के तत्कालीन सेना प्रमुख व आइएसआइ प्र...      0   \n",
       "3  सुप्रीम कोर्ट ने उत्तराखंड में राष्ट्रपति शासन...      1   \n",
       "4  सांसदों के क्रॉस पार्टी पैनल ने होम मिनिस्ट्री...      1   \n",
       "\n",
       "                language_task  \n",
       "0  translate English to Hindi  \n",
       "1  translate English to Hindi  \n",
       "2  translate English to Hindi  \n",
       "3  translate English to Hindi  \n",
       "4  translate English to Hindi  "
      ]
     },
     "execution_count": 2,
     "metadata": {},
     "output_type": "execute_result"
    }
   ],
   "source": [
    "data = '../data/DPIL/TestData/dedup_para_dev.csv'\n",
    "dedup = pd.read_csv(data)\n",
    "dedup.head()"
   ]
  },
  {
   "cell_type": "code",
   "execution_count": 3,
   "metadata": {},
   "outputs": [],
   "source": [
    "pd.set_option('display.width', 1000)"
   ]
  },
  {
   "cell_type": "code",
   "execution_count": null,
   "metadata": {},
   "outputs": [],
   "source": [
    "print(dedup.iloc[0][[1]])"
   ]
  },
  {
   "cell_type": "code",
   "execution_count": null,
   "metadata": {},
   "outputs": [],
   "source": [
    "print(dedup[1][['sentence_1']])"
   ]
  },
  {
   "cell_type": "code",
   "execution_count": 5,
   "metadata": {},
   "outputs": [],
   "source": [
    "dedup['label'] = ['NP' if x==0 else 'P' for x in dedup['label']]"
   ]
  },
  {
   "cell_type": "code",
   "execution_count": 6,
   "metadata": {},
   "outputs": [],
   "source": [
    "valid_hi = dedup[dedup['language_task'] == 'translate English to Hindi'][['sentence_1', 'sentence_2', 'label']]\n",
    "valid_ta = dedup[dedup['language_task'] == 'translate English to Tamil'][['sentence_1', 'sentence_2', 'label']]\n",
    "valid_ma = dedup[dedup['language_task'] == 'translate English to Malayalam'][['sentence_1', 'sentence_2', 'label']]"
   ]
  },
  {
   "cell_type": "code",
   "execution_count": 7,
   "metadata": {},
   "outputs": [],
   "source": [
    "valid_hi.to_csv('indic-glue/amrita-paraphrase-exact/hi/hi-valid.csv', sep=',', encoding='utf-8', header=None,index=False)\n",
    "valid_ta.to_csv('indic-glue/amrita-paraphrase-exact/ta/ta-valid.csv', sep=',', encoding='utf-8', header=None,index=False)\n",
    "valid_ma.to_csv('indic-glue/amrita-paraphrase-exact/ma/ma-valid.csv', sep=',', encoding='utf-8', header=None,index=False)"
   ]
  },
  {
   "cell_type": "code",
   "execution_count": 8,
   "metadata": {},
   "outputs": [
    {
     "data": {
      "text/html": [
       "<div>\n",
       "<style scoped>\n",
       "    .dataframe tbody tr th:only-of-type {\n",
       "        vertical-align: middle;\n",
       "    }\n",
       "\n",
       "    .dataframe tbody tr th {\n",
       "        vertical-align: top;\n",
       "    }\n",
       "\n",
       "    .dataframe thead th {\n",
       "        text-align: right;\n",
       "    }\n",
       "</style>\n",
       "<table border=\"1\" class=\"dataframe\">\n",
       "  <thead>\n",
       "    <tr style=\"text-align: right;\">\n",
       "      <th></th>\n",
       "      <th>Unnamed: 0</th>\n",
       "      <th>sentence_1</th>\n",
       "      <th>sentence_2</th>\n",
       "      <th>label</th>\n",
       "      <th>language_task</th>\n",
       "    </tr>\n",
       "  </thead>\n",
       "  <tbody>\n",
       "    <tr>\n",
       "      <th>0</th>\n",
       "      <td>263</td>\n",
       "      <td>निशा प्रतिदिन दादी को सीतारामजी के मंदिर में द...</td>\n",
       "      <td>जयपुर-कोटा के बीच 248 किलोमीटर की दूरी होने के...</td>\n",
       "      <td>0</td>\n",
       "      <td>translate English to Hindi</td>\n",
       "    </tr>\n",
       "    <tr>\n",
       "      <th>1</th>\n",
       "      <td>441</td>\n",
       "      <td>मनरेगा के मजदूर पीएम मोदी को लौटाएंगे पांच रुपए</td>\n",
       "      <td>मिलान कोर्ट  ऑफ अपील्स  के आदेश के बाद पहली बा...</td>\n",
       "      <td>0</td>\n",
       "      <td>translate English to Hindi</td>\n",
       "    </tr>\n",
       "    <tr>\n",
       "      <th>2</th>\n",
       "      <td>77</td>\n",
       "      <td>पाकिस्तान को दिया करारा जवाब</td>\n",
       "      <td>पाक को दिया मुंहतोड़ जवाब</td>\n",
       "      <td>1</td>\n",
       "      <td>translate English to Hindi</td>\n",
       "    </tr>\n",
       "    <tr>\n",
       "      <th>3</th>\n",
       "      <td>274</td>\n",
       "      <td>स्कूल में दो बिल्डिंग हैं।</td>\n",
       "      <td>जिस समय पुलिस स्कूल पहुंची, उस समय करीब पांच ह...</td>\n",
       "      <td>0</td>\n",
       "      <td>translate English to Hindi</td>\n",
       "    </tr>\n",
       "    <tr>\n",
       "      <th>4</th>\n",
       "      <td>39</td>\n",
       "      <td>रेप के मामले में वह पीड़िता से समझौते का दवाब ...</td>\n",
       "      <td>वह पीड़िता से रेप के मामले में समझौते का दवाब ब...</td>\n",
       "      <td>1</td>\n",
       "      <td>translate English to Hindi</td>\n",
       "    </tr>\n",
       "  </tbody>\n",
       "</table>\n",
       "</div>"
      ],
      "text/plain": [
       "   Unnamed: 0                                         sentence_1                                         sentence_2  label               language_task\n",
       "0         263  निशा प्रतिदिन दादी को सीतारामजी के मंदिर में द...  जयपुर-कोटा के बीच 248 किलोमीटर की दूरी होने के...      0  translate English to Hindi\n",
       "1         441    मनरेगा के मजदूर पीएम मोदी को लौटाएंगे पांच रुपए  मिलान कोर्ट  ऑफ अपील्स  के आदेश के बाद पहली बा...      0  translate English to Hindi\n",
       "2          77                       पाकिस्तान को दिया करारा जवाब                          पाक को दिया मुंहतोड़ जवाब      1  translate English to Hindi\n",
       "3         274                        स्कूल में दो बिल्डिंग हैं।   जिस समय पुलिस स्कूल पहुंची, उस समय करीब पांच ह...      0  translate English to Hindi\n",
       "4          39   रेप के मामले में वह पीड़िता से समझौते का दवाब ...  वह पीड़िता से रेप के मामले में समझौते का दवाब ब...      1  translate English to Hindi"
      ]
     },
     "execution_count": 8,
     "metadata": {},
     "output_type": "execute_result"
    }
   ],
   "source": [
    "data = '../data/DPIL/TestData/dedup_para_test.csv'\n",
    "dedup_test = pd.read_csv(data)\n",
    "dedup_test.head()"
   ]
  },
  {
   "cell_type": "code",
   "execution_count": 9,
   "metadata": {},
   "outputs": [],
   "source": [
    "dedup_test['label'] = ['NP' if x==0 else 'P' for x in dedup_test['label']]"
   ]
  },
  {
   "cell_type": "code",
   "execution_count": 10,
   "metadata": {},
   "outputs": [],
   "source": [
    "test_hi = dedup_test[dedup_test['language_task'] == 'translate English to Hindi'][['sentence_1', 'sentence_2', 'label']]\n",
    "test_ta = dedup_test[dedup_test['language_task'] == 'translate English to Tamil'][['sentence_1', 'sentence_2', 'label']]\n",
    "test_ma = dedup_test[dedup_test['language_task'] == 'translate English to Malayalam'][['sentence_1', 'sentence_2', 'label']]"
   ]
  },
  {
   "cell_type": "code",
   "execution_count": 11,
   "metadata": {},
   "outputs": [],
   "source": [
    "test_hi.to_csv('indic-glue/amrita-paraphrase-exact/hi/hi-test.csv', sep=',', encoding='utf-8', header=None,index=False)\n",
    "test_ta.to_csv('indic-glue/amrita-paraphrase-exact/ta/ta-test.csv', sep=',', encoding='utf-8', header=None,index=False)\n",
    "test_ma.to_csv('indic-glue/amrita-paraphrase-exact/ma/ma-test.csv', sep=',', encoding='utf-8', header=None,index=False)"
   ]
  }
 ],
 "metadata": {
  "kernelspec": {
   "display_name": "Python 3",
   "language": "python",
   "name": "python3"
  },
  "language_info": {
   "codemirror_mode": {
    "name": "ipython",
    "version": 3
   },
   "file_extension": ".py",
   "mimetype": "text/x-python",
   "name": "python",
   "nbconvert_exporter": "python",
   "pygments_lexer": "ipython3",
   "version": "3.7.3"
  }
 },
 "nbformat": 4,
 "nbformat_minor": 2
}
