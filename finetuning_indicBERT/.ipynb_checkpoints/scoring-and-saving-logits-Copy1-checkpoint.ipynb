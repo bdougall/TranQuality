{
 "cells": [
  {
   "cell_type": "code",
   "execution_count": 1,
   "metadata": {},
   "outputs": [
    {
     "name": "stdout",
     "output_type": "stream",
     "text": [
      "/w266/w266/project/finetuning/indic-bert\n"
     ]
    }
   ],
   "source": [
    "%cd indic-bert"
   ]
  },
  {
   "cell_type": "code",
   "execution_count": 2,
   "metadata": {},
   "outputs": [],
   "source": [
    "import glob\n",
    "import os"
   ]
  },
  {
   "cell_type": "code",
   "execution_count": 3,
   "metadata": {},
   "outputs": [],
   "source": [
    "from fine_tune.modules import get_modules\n",
    "from fine_tune.data import load_dataset\n",
    "from fine_tune.data.examples import *\n",
    "from fine_tune.modules import base"
   ]
  },
  {
   "cell_type": "code",
   "execution_count": 4,
   "metadata": {},
   "outputs": [],
   "source": [
    "import pandas as pd"
   ]
  },
  {
   "cell_type": "code",
   "execution_count": 5,
   "metadata": {},
   "outputs": [],
   "source": [
    "from transformers import (\n",
    "    AdamW,\n",
    "    AutoConfig,\n",
    "    AutoModel,\n",
    "    AutoModelForSequenceClassification,\n",
    "    AutoTokenizer,\n",
    "    get_linear_schedule_with_warmup,\n",
    ")"
   ]
  },
  {
   "cell_type": "code",
   "execution_count": 6,
   "metadata": {},
   "outputs": [],
   "source": [
    "hparams = {\n",
    "    'dataset': 'amrita-paraphrase-exact', \n",
    "#     'lang': 'hi', \n",
    "#     'train_lang': 'hi', \n",
    "    'model': 'ai4bharat/indic-bert', \n",
    "    'config_name': '', \n",
    "    'tokenizer_name': '', \n",
    "    'max_seq_length': 256, \n",
    "    'iglue_dir': '../indic-glue', \n",
    "    'overwrite_cache': True, \n",
    "#     'out_dir' : '../outputs/8/',\n",
    "#     'output_dir': '../outputs/8/amrita-paraphrase-exact/train-hi/model-ai4bharat-indic-bert', \n",
    "    'cache_dir': '../ib-cache', \n",
    "    'fp16': False, \n",
    "    'fp16_opt_level': 'O1', \n",
    "    'n_gpu': 1, \n",
    "    'n_tpu_cores': 0, \n",
    "    'max_grad_norm': 1.0, \n",
    "    'do_train': True, \n",
    "    'do_predict': True, \n",
    "    'gradient_accumulation_steps': 1,\n",
    "    'seed': 8, \n",
    "    'learning_rate': 2e-05, \n",
    "    'weight_decay': 0.0, \n",
    "    'adam_epsilon': 1e-08, \n",
    "    'warmup_steps': 0, \n",
    "    'num_train_epochs': 1, \n",
    "    'train_batch_size': 16, \n",
    "    'eval_batch_size': 32, \n",
    "    'labels': '', \n",
    "    'model_name_or_path': 'ai4bharat/indic-bert', \n",
    "#     'test_lang': 'hi', \n",
    "    'data_dir': '../indic-glue/amrita-paraphrase-exact', \n",
    "    'mode': 'sequence-classification', \n",
    "    'output_mode': 'regression', #'classification', \n",
    "    'example_type': 'text', \n",
    "#     'dev_lang': 'hi', \n",
    "    'num_labels': 2\n",
    "}"
   ]
  },
  {
   "cell_type": "code",
   "execution_count": 7,
   "metadata": {},
   "outputs": [],
   "source": [
    "### Set up parameters for hindi\n",
    "hparams['out_dir'] = '../outputs/8/'\n",
    "hparams['lang'] = 'hi' \n",
    "hparams['train_lang'] = 'hi'\n",
    "hparams['dev_lang'] = 'hi'\n",
    "hparams['test_lang'] = 'hi'\n",
    "hparams['output_dir'] = '{}amrita-paraphrase-exact/train-{}/model-ai4bharat-indic-bert'.format(hparams['out_dir'],hparams['lang'] ) "
   ]
  },
  {
   "cell_type": "code",
   "execution_count": 8,
   "metadata": {},
   "outputs": [],
   "source": [
    "config_name = hparams['config_name'] or hparams['model_name_or_path']\n",
    "args = {'num_labels': hparams['num_labels']}\n",
    "config = AutoConfig.from_pretrained(\n",
    "    config_name,\n",
    "    **args,\n",
    "    cache_dir=hparams['cache_dir']\n",
    ")"
   ]
  },
  {
   "cell_type": "markdown",
   "metadata": {},
   "source": [
    "## Score mBART Hindi"
   ]
  },
  {
   "cell_type": "code",
   "execution_count": 9,
   "metadata": {},
   "outputs": [],
   "source": [
    "! rm ../indic-glue/amrita-paraphrase-exact/cached*"
   ]
  },
  {
   "cell_type": "code",
   "execution_count": 10,
   "metadata": {},
   "outputs": [],
   "source": [
    "!cp ../indic-glue/amrita-paraphrase-exact/hi/hi-bart-test.csv ../indic-glue/amrita-paraphrase-exact/hi/hi-test.csv "
   ]
  },
  {
   "cell_type": "code",
   "execution_count": 11,
   "metadata": {},
   "outputs": [
    {
     "data": {
      "text/plain": [
       "fine_tune.modules.text_classification.TextClassification"
      ]
     },
     "execution_count": 11,
     "metadata": {},
     "output_type": "execute_result"
    }
   ],
   "source": [
    "# module_name = 'text_classification'\n",
    "\n",
    "text_classification_trainer = get_modules('text_classification')\n",
    "text_classification_trainer"
   ]
  },
  {
   "cell_type": "code",
   "execution_count": 12,
   "metadata": {
    "scrolled": true
   },
   "outputs": [
    {
     "name": "stderr",
     "output_type": "stream",
     "text": [
      "Some weights of the model checkpoint at ai4bharat/indic-bert were not used when initializing AlbertForSequenceClassification: ['predictions.bias', 'predictions.LayerNorm.weight', 'predictions.LayerNorm.bias', 'predictions.dense.weight', 'predictions.dense.bias', 'predictions.decoder.weight', 'predictions.decoder.bias', 'sop_classifier.classifier.weight', 'sop_classifier.classifier.bias']\n",
      "- This IS expected if you are initializing AlbertForSequenceClassification from the checkpoint of a model trained on another task or with another architecture (e.g. initializing a BertForSequenceClassification model from a BertForPreTraining model).\n",
      "- This IS NOT expected if you are initializing AlbertForSequenceClassification from the checkpoint of a model that you expect to be exactly identical (initializing a BertForSequenceClassification model from a BertForSequenceClassification model).\n",
      "Some weights of AlbertForSequenceClassification were not initialized from the model checkpoint at ai4bharat/indic-bert and are newly initialized: ['classifier.weight', 'classifier.bias']\n",
      "You should probably TRAIN this model on a down-stream task to be able to use it for predictions and inference.\n",
      "Some weights of the model checkpoint at ai4bharat/indic-bert were not used when initializing AlbertForSequenceClassification: ['predictions.bias', 'predictions.LayerNorm.weight', 'predictions.LayerNorm.bias', 'predictions.dense.weight', 'predictions.dense.bias', 'predictions.decoder.weight', 'predictions.decoder.bias', 'sop_classifier.classifier.weight', 'sop_classifier.classifier.bias']\n",
      "- This IS expected if you are initializing AlbertForSequenceClassification from the checkpoint of a model trained on another task or with another architecture (e.g. initializing a BertForSequenceClassification model from a BertForPreTraining model).\n",
      "- This IS NOT expected if you are initializing AlbertForSequenceClassification from the checkpoint of a model that you expect to be exactly identical (initializing a BertForSequenceClassification model from a BertForSequenceClassification model).\n",
      "Some weights of AlbertForSequenceClassification were not initialized from the model checkpoint at ai4bharat/indic-bert and are newly initialized: ['classifier.weight', 'classifier.bias']\n",
      "You should probably TRAIN this model on a down-stream task to be able to use it for predictions and inference.\n"
     ]
    }
   ],
   "source": [
    "tc_trainer_instance = text_classification_trainer(hparams)\n",
    "checkpoints = list(sorted(glob.glob(os.path.join(hparams['output_dir'], 'checkpointepoch=*.ckpt'), recursive=True)))\n",
    "trained_model = tc_trainer_instance.load_from_checkpoint(checkpoints[-1])"
   ]
  },
  {
   "cell_type": "code",
   "execution_count": 13,
   "metadata": {
    "scrolled": true
   },
   "outputs": [
    {
     "name": "stderr",
     "output_type": "stream",
     "text": [
      "/usr/local/lib/python3.6/dist-packages/pytorch_lightning/utilities/distributed.py:25: UserWarning: Checkpoint directory ../outputs/8/amrita-paraphrase-exact/train-hi/model-ai4bharat-indic-bert exists and is not empty with save_top_k != 0.All files in this directory will be deleted when a checkpoint is saved!\n",
      "  warnings.warn(*args, **kwargs)\n",
      "GPU available: True, used: True\n",
      "TPU available: False, using: 0 TPU cores\n",
      "CUDA_VISIBLE_DEVICES: [0]\n"
     ]
    }
   ],
   "source": [
    "trainer = base.create_trainer(trained_model, hparams) #BaseModule(hparams)"
   ]
  },
  {
   "cell_type": "code",
   "execution_count": 14,
   "metadata": {
    "scrolled": true
   },
   "outputs": [
    {
     "name": "stderr",
     "output_type": "stream",
     "text": [
      "/usr/local/lib/python3.6/dist-packages/pytorch_lightning/utilities/distributed.py:25: UserWarning: The dataloader, test dataloader 0, does not have many workers which may be a bottleneck. Consider increasing the value of the `num_workers` argument` (try 12 which is the number of cpus on this machine) in the `DataLoader` init to improve performance.\n",
      "  warnings.warn(*args, **kwargs)\n"
     ]
    },
    {
     "data": {
      "application/vnd.jupyter.widget-view+json": {
       "model_id": "2c4fe2a4a0654b85867dd03f0f5d1eb9",
       "version_major": 2,
       "version_minor": 0
      },
      "text/plain": [
       "HBox(children=(FloatProgress(value=1.0, bar_style='info', description='Testing', layout=Layout(flex='2'), max=…"
      ]
     },
     "metadata": {},
     "output_type": "display_data"
    },
    {
     "name": "stdout",
     "output_type": "stream",
     "text": [
      "Logits written to :../outputs/8/amrita-paraphrase-exact/train-hi/model-ai4bharat-indic-bert/test_results_hi.csv\n",
      "--------------------------------------------------------------------------------\n",
      "TEST RESULTS\n",
      "{'acc': 0.955,\n",
      " 'avg_test_loss': 0.6586635708808899,\n",
      " 'val_loss': 0.6586635708808899}\n",
      "--------------------------------------------------------------------------------\n",
      "{'avg_test_loss': 0.6586635708808899, 'val_loss': 0.6586635708808899, 'acc': 0.955}\n",
      "\n"
     ]
    }
   ],
   "source": [
    "trainer.test(trained_model)"
   ]
  },
  {
   "cell_type": "code",
   "execution_count": null,
   "metadata": {},
   "outputs": [],
   "source": []
  },
  {
   "cell_type": "code",
   "execution_count": null,
   "metadata": {},
   "outputs": [],
   "source": []
  },
  {
   "cell_type": "markdown",
   "metadata": {},
   "source": [
    "## Load the scores for mBART translations."
   ]
  },
  {
   "cell_type": "code",
   "execution_count": 15,
   "metadata": {},
   "outputs": [
    {
     "data": {
      "text/plain": [
       "'../outputs/8/amrita-paraphrase-exact/train-hi/model-ai4bharat-indic-bert/test_results_hi.csv'"
      ]
     },
     "execution_count": 15,
     "metadata": {},
     "output_type": "execute_result"
    }
   ],
   "source": [
    "hparams['results_file'] = '{}{}/train-{}/model-ai4bharat-indic-bert/test_results_{}.csv'.format(hparams['out_dir'],  hparams['dataset'] , hparams['lang'] , hparams['lang']) \n",
    "hparams['results_file']"
   ]
  },
  {
   "cell_type": "code",
   "execution_count": 16,
   "metadata": {},
   "outputs": [],
   "source": [
    "mbart = pd.read_csv(hparams['results_file'], header=None)"
   ]
  },
  {
   "cell_type": "code",
   "execution_count": 17,
   "metadata": {},
   "outputs": [
    {
     "data": {
      "text/plain": [
       "(1000, 4)"
      ]
     },
     "execution_count": 17,
     "metadata": {},
     "output_type": "execute_result"
    }
   ],
   "source": [
    "mbart.shape"
   ]
  },
  {
   "cell_type": "code",
   "execution_count": 18,
   "metadata": {},
   "outputs": [
    {
     "data": {
      "text/html": [
       "<div>\n",
       "<style scoped>\n",
       "    .dataframe tbody tr th:only-of-type {\n",
       "        vertical-align: middle;\n",
       "    }\n",
       "\n",
       "    .dataframe tbody tr th {\n",
       "        vertical-align: top;\n",
       "    }\n",
       "\n",
       "    .dataframe thead th {\n",
       "        text-align: right;\n",
       "    }\n",
       "</style>\n",
       "<table border=\"1\" class=\"dataframe\">\n",
       "  <thead>\n",
       "    <tr style=\"text-align: right;\">\n",
       "      <th></th>\n",
       "      <th>0</th>\n",
       "      <th>1</th>\n",
       "      <th>2</th>\n",
       "      <th>3</th>\n",
       "    </tr>\n",
       "  </thead>\n",
       "  <tbody>\n",
       "    <tr>\n",
       "      <th>0</th>\n",
       "      <td>1.641388</td>\n",
       "      <td>-2.035115</td>\n",
       "      <td>0.0</td>\n",
       "      <td>1.0</td>\n",
       "    </tr>\n",
       "    <tr>\n",
       "      <th>1</th>\n",
       "      <td>-0.095410</td>\n",
       "      <td>0.146530</td>\n",
       "      <td>1.0</td>\n",
       "      <td>1.0</td>\n",
       "    </tr>\n",
       "    <tr>\n",
       "      <th>2</th>\n",
       "      <td>-0.093650</td>\n",
       "      <td>0.141301</td>\n",
       "      <td>1.0</td>\n",
       "      <td>1.0</td>\n",
       "    </tr>\n",
       "    <tr>\n",
       "      <th>3</th>\n",
       "      <td>-0.093835</td>\n",
       "      <td>0.141280</td>\n",
       "      <td>1.0</td>\n",
       "      <td>1.0</td>\n",
       "    </tr>\n",
       "    <tr>\n",
       "      <th>4</th>\n",
       "      <td>-0.095638</td>\n",
       "      <td>0.144878</td>\n",
       "      <td>1.0</td>\n",
       "      <td>1.0</td>\n",
       "    </tr>\n",
       "  </tbody>\n",
       "</table>\n",
       "</div>"
      ],
      "text/plain": [
       "          0         1    2    3\n",
       "0  1.641388 -2.035115  0.0  1.0\n",
       "1 -0.095410  0.146530  1.0  1.0\n",
       "2 -0.093650  0.141301  1.0  1.0\n",
       "3 -0.093835  0.141280  1.0  1.0\n",
       "4 -0.095638  0.144878  1.0  1.0"
      ]
     },
     "execution_count": 18,
     "metadata": {},
     "output_type": "execute_result"
    }
   ],
   "source": [
    "mbart.head(5)"
   ]
  },
  {
   "cell_type": "markdown",
   "metadata": {},
   "source": [
    "## Score IndicTrans Hindi"
   ]
  },
  {
   "cell_type": "code",
   "execution_count": 19,
   "metadata": {},
   "outputs": [],
   "source": [
    "! rm ../indic-glue/amrita-paraphrase-exact/cached*"
   ]
  },
  {
   "cell_type": "code",
   "execution_count": 20,
   "metadata": {},
   "outputs": [],
   "source": [
    "!cp ../indic-glue/amrita-paraphrase-exact/hi/hi-indictrans-test.csv ../indic-glue/amrita-paraphrase-exact/hi/hi-test.csv \n"
   ]
  },
  {
   "cell_type": "code",
   "execution_count": 21,
   "metadata": {},
   "outputs": [
    {
     "data": {
      "text/plain": [
       "fine_tune.modules.text_classification.TextClassification"
      ]
     },
     "execution_count": 21,
     "metadata": {},
     "output_type": "execute_result"
    }
   ],
   "source": [
    "# module_name = 'text_classification'\n",
    "\n",
    "text_classification_trainer = get_modules('text_classification')\n",
    "text_classification_trainer"
   ]
  },
  {
   "cell_type": "code",
   "execution_count": 22,
   "metadata": {
    "scrolled": true
   },
   "outputs": [
    {
     "name": "stderr",
     "output_type": "stream",
     "text": [
      "Some weights of the model checkpoint at ai4bharat/indic-bert were not used when initializing AlbertForSequenceClassification: ['predictions.bias', 'predictions.LayerNorm.weight', 'predictions.LayerNorm.bias', 'predictions.dense.weight', 'predictions.dense.bias', 'predictions.decoder.weight', 'predictions.decoder.bias', 'sop_classifier.classifier.weight', 'sop_classifier.classifier.bias']\n",
      "- This IS expected if you are initializing AlbertForSequenceClassification from the checkpoint of a model trained on another task or with another architecture (e.g. initializing a BertForSequenceClassification model from a BertForPreTraining model).\n",
      "- This IS NOT expected if you are initializing AlbertForSequenceClassification from the checkpoint of a model that you expect to be exactly identical (initializing a BertForSequenceClassification model from a BertForSequenceClassification model).\n",
      "Some weights of AlbertForSequenceClassification were not initialized from the model checkpoint at ai4bharat/indic-bert and are newly initialized: ['classifier.weight', 'classifier.bias']\n",
      "You should probably TRAIN this model on a down-stream task to be able to use it for predictions and inference.\n",
      "Some weights of the model checkpoint at ai4bharat/indic-bert were not used when initializing AlbertForSequenceClassification: ['predictions.bias', 'predictions.LayerNorm.weight', 'predictions.LayerNorm.bias', 'predictions.dense.weight', 'predictions.dense.bias', 'predictions.decoder.weight', 'predictions.decoder.bias', 'sop_classifier.classifier.weight', 'sop_classifier.classifier.bias']\n",
      "- This IS expected if you are initializing AlbertForSequenceClassification from the checkpoint of a model trained on another task or with another architecture (e.g. initializing a BertForSequenceClassification model from a BertForPreTraining model).\n",
      "- This IS NOT expected if you are initializing AlbertForSequenceClassification from the checkpoint of a model that you expect to be exactly identical (initializing a BertForSequenceClassification model from a BertForSequenceClassification model).\n",
      "Some weights of AlbertForSequenceClassification were not initialized from the model checkpoint at ai4bharat/indic-bert and are newly initialized: ['classifier.weight', 'classifier.bias']\n",
      "You should probably TRAIN this model on a down-stream task to be able to use it for predictions and inference.\n"
     ]
    }
   ],
   "source": [
    "tc_trainer_instance = text_classification_trainer(hparams)\n",
    "checkpoints = list(sorted(glob.glob(os.path.join(hparams['output_dir'], 'checkpointepoch=*.ckpt'), recursive=True)))\n",
    "trained_model = tc_trainer_instance.load_from_checkpoint(checkpoints[-1])"
   ]
  },
  {
   "cell_type": "code",
   "execution_count": 23,
   "metadata": {
    "scrolled": true
   },
   "outputs": [
    {
     "name": "stderr",
     "output_type": "stream",
     "text": [
      "/usr/local/lib/python3.6/dist-packages/pytorch_lightning/utilities/distributed.py:25: UserWarning: Checkpoint directory ../outputs/8/amrita-paraphrase-exact/train-hi/model-ai4bharat-indic-bert exists and is not empty with save_top_k != 0.All files in this directory will be deleted when a checkpoint is saved!\n",
      "  warnings.warn(*args, **kwargs)\n",
      "GPU available: True, used: True\n",
      "TPU available: False, using: 0 TPU cores\n",
      "CUDA_VISIBLE_DEVICES: [0]\n"
     ]
    }
   ],
   "source": [
    "trainer = base.create_trainer(trained_model, hparams) #BaseModule(hparams)"
   ]
  },
  {
   "cell_type": "code",
   "execution_count": 24,
   "metadata": {
    "scrolled": true
   },
   "outputs": [
    {
     "name": "stderr",
     "output_type": "stream",
     "text": [
      "/usr/local/lib/python3.6/dist-packages/pytorch_lightning/utilities/distributed.py:25: UserWarning: The dataloader, test dataloader 0, does not have many workers which may be a bottleneck. Consider increasing the value of the `num_workers` argument` (try 12 which is the number of cpus on this machine) in the `DataLoader` init to improve performance.\n",
      "  warnings.warn(*args, **kwargs)\n"
     ]
    },
    {
     "data": {
      "application/vnd.jupyter.widget-view+json": {
       "model_id": "d13d2bbccad1495c8bb69380583a3e1c",
       "version_major": 2,
       "version_minor": 0
      },
      "text/plain": [
       "HBox(children=(FloatProgress(value=1.0, bar_style='info', description='Testing', layout=Layout(flex='2'), max=…"
      ]
     },
     "metadata": {},
     "output_type": "display_data"
    },
    {
     "name": "stdout",
     "output_type": "stream",
     "text": [
      "Logits written to :../outputs/8/amrita-paraphrase-exact/train-hi/model-ai4bharat-indic-bert/test_results_hi.csv\n",
      "--------------------------------------------------------------------------------\n",
      "TEST RESULTS\n",
      "{'acc': 0.976,\n",
      " 'avg_test_loss': 0.6165903806686401,\n",
      " 'val_loss': 0.6165903806686401}\n",
      "--------------------------------------------------------------------------------\n",
      "{'avg_test_loss': 0.6165903806686401, 'val_loss': 0.6165903806686401, 'acc': 0.976}\n",
      "\n"
     ]
    }
   ],
   "source": [
    "trainer.test(trained_model)"
   ]
  },
  {
   "cell_type": "code",
   "execution_count": null,
   "metadata": {},
   "outputs": [],
   "source": []
  },
  {
   "cell_type": "markdown",
   "metadata": {},
   "source": [
    "## Load the scores for IndicTrans translations."
   ]
  },
  {
   "cell_type": "code",
   "execution_count": 25,
   "metadata": {},
   "outputs": [
    {
     "data": {
      "text/plain": [
       "'../outputs/8/amrita-paraphrase-exact/train-hi/model-ai4bharat-indic-bert/test_results_hi.csv'"
      ]
     },
     "execution_count": 25,
     "metadata": {},
     "output_type": "execute_result"
    }
   ],
   "source": [
    "hparams['results_file'] = '{}{}/train-{}/model-ai4bharat-indic-bert/test_results_{}.csv'.format(hparams['out_dir'],  hparams['dataset'] , hparams['lang'] , hparams['lang']) \n",
    "hparams['results_file']"
   ]
  },
  {
   "cell_type": "code",
   "execution_count": 26,
   "metadata": {},
   "outputs": [],
   "source": [
    "indictrans = pd.read_csv(hparams['results_file'], header=None)"
   ]
  },
  {
   "cell_type": "code",
   "execution_count": 27,
   "metadata": {},
   "outputs": [
    {
     "data": {
      "text/plain": [
       "(1000, 4)"
      ]
     },
     "execution_count": 27,
     "metadata": {},
     "output_type": "execute_result"
    }
   ],
   "source": [
    "indictrans.shape"
   ]
  },
  {
   "cell_type": "code",
   "execution_count": 28,
   "metadata": {},
   "outputs": [
    {
     "data": {
      "text/html": [
       "<div>\n",
       "<style scoped>\n",
       "    .dataframe tbody tr th:only-of-type {\n",
       "        vertical-align: middle;\n",
       "    }\n",
       "\n",
       "    .dataframe tbody tr th {\n",
       "        vertical-align: top;\n",
       "    }\n",
       "\n",
       "    .dataframe thead th {\n",
       "        text-align: right;\n",
       "    }\n",
       "</style>\n",
       "<table border=\"1\" class=\"dataframe\">\n",
       "  <thead>\n",
       "    <tr style=\"text-align: right;\">\n",
       "      <th></th>\n",
       "      <th>0</th>\n",
       "      <th>1</th>\n",
       "      <th>2</th>\n",
       "      <th>3</th>\n",
       "    </tr>\n",
       "  </thead>\n",
       "  <tbody>\n",
       "    <tr>\n",
       "      <th>0</th>\n",
       "      <td>-0.097524</td>\n",
       "      <td>0.144784</td>\n",
       "      <td>1.0</td>\n",
       "      <td>1.0</td>\n",
       "    </tr>\n",
       "    <tr>\n",
       "      <th>1</th>\n",
       "      <td>-0.093321</td>\n",
       "      <td>0.144864</td>\n",
       "      <td>1.0</td>\n",
       "      <td>1.0</td>\n",
       "    </tr>\n",
       "    <tr>\n",
       "      <th>2</th>\n",
       "      <td>-0.093762</td>\n",
       "      <td>0.140794</td>\n",
       "      <td>1.0</td>\n",
       "      <td>1.0</td>\n",
       "    </tr>\n",
       "    <tr>\n",
       "      <th>3</th>\n",
       "      <td>-0.095129</td>\n",
       "      <td>0.143009</td>\n",
       "      <td>1.0</td>\n",
       "      <td>1.0</td>\n",
       "    </tr>\n",
       "    <tr>\n",
       "      <th>4</th>\n",
       "      <td>-0.091816</td>\n",
       "      <td>0.139572</td>\n",
       "      <td>1.0</td>\n",
       "      <td>1.0</td>\n",
       "    </tr>\n",
       "  </tbody>\n",
       "</table>\n",
       "</div>"
      ],
      "text/plain": [
       "          0         1    2    3\n",
       "0 -0.097524  0.144784  1.0  1.0\n",
       "1 -0.093321  0.144864  1.0  1.0\n",
       "2 -0.093762  0.140794  1.0  1.0\n",
       "3 -0.095129  0.143009  1.0  1.0\n",
       "4 -0.091816  0.139572  1.0  1.0"
      ]
     },
     "execution_count": 28,
     "metadata": {},
     "output_type": "execute_result"
    }
   ],
   "source": [
    "indictrans.head(5)"
   ]
  },
  {
   "cell_type": "code",
   "execution_count": 36,
   "metadata": {},
   "outputs": [
    {
     "data": {
      "text/html": [
       "<div>\n",
       "<style scoped>\n",
       "    .dataframe tbody tr th:only-of-type {\n",
       "        vertical-align: middle;\n",
       "    }\n",
       "\n",
       "    .dataframe tbody tr th {\n",
       "        vertical-align: top;\n",
       "    }\n",
       "\n",
       "    .dataframe thead th {\n",
       "        text-align: right;\n",
       "    }\n",
       "</style>\n",
       "<table border=\"1\" class=\"dataframe\">\n",
       "  <thead>\n",
       "    <tr style=\"text-align: right;\">\n",
       "      <th></th>\n",
       "      <th>0</th>\n",
       "      <th>1</th>\n",
       "      <th>2</th>\n",
       "      <th>3</th>\n",
       "    </tr>\n",
       "  </thead>\n",
       "  <tbody>\n",
       "    <tr>\n",
       "      <th>0</th>\n",
       "      <td>-0.097524</td>\n",
       "      <td>0.144784</td>\n",
       "      <td>1.0</td>\n",
       "      <td>0.0</td>\n",
       "    </tr>\n",
       "    <tr>\n",
       "      <th>1</th>\n",
       "      <td>-0.093321</td>\n",
       "      <td>0.144864</td>\n",
       "      <td>1.0</td>\n",
       "      <td>0.0</td>\n",
       "    </tr>\n",
       "    <tr>\n",
       "      <th>2</th>\n",
       "      <td>-0.093762</td>\n",
       "      <td>0.140794</td>\n",
       "      <td>1.0</td>\n",
       "      <td>0.0</td>\n",
       "    </tr>\n",
       "    <tr>\n",
       "      <th>3</th>\n",
       "      <td>-0.095129</td>\n",
       "      <td>0.143009</td>\n",
       "      <td>1.0</td>\n",
       "      <td>0.0</td>\n",
       "    </tr>\n",
       "    <tr>\n",
       "      <th>4</th>\n",
       "      <td>-0.091816</td>\n",
       "      <td>0.139572</td>\n",
       "      <td>1.0</td>\n",
       "      <td>0.0</td>\n",
       "    </tr>\n",
       "  </tbody>\n",
       "</table>\n",
       "</div>"
      ],
      "text/plain": [
       "          0         1    2    3\n",
       "0 -0.097524  0.144784  1.0  0.0\n",
       "1 -0.093321  0.144864  1.0  0.0\n",
       "2 -0.093762  0.140794  1.0  0.0\n",
       "3 -0.095129  0.143009  1.0  0.0\n",
       "4 -0.091816  0.139572  1.0  0.0"
      ]
     },
     "execution_count": 36,
     "metadata": {},
     "output_type": "execute_result"
    }
   ],
   "source": [
    "indictrans.head(5)"
   ]
  },
  {
   "cell_type": "markdown",
   "metadata": {},
   "source": [
    "## Combine logits, original sentence, and translations"
   ]
  },
  {
   "cell_type": "code",
   "execution_count": 29,
   "metadata": {},
   "outputs": [],
   "source": [
    "indic_orig = pd.read_csv('../indic-glue/amrita-paraphrase-exact/hi/hi-indictrans-test.csv', header=None)"
   ]
  },
  {
   "cell_type": "code",
   "execution_count": 30,
   "metadata": {},
   "outputs": [
    {
     "data": {
      "text/html": [
       "<div>\n",
       "<style scoped>\n",
       "    .dataframe tbody tr th:only-of-type {\n",
       "        vertical-align: middle;\n",
       "    }\n",
       "\n",
       "    .dataframe tbody tr th {\n",
       "        vertical-align: top;\n",
       "    }\n",
       "\n",
       "    .dataframe thead th {\n",
       "        text-align: right;\n",
       "    }\n",
       "</style>\n",
       "<table border=\"1\" class=\"dataframe\">\n",
       "  <thead>\n",
       "    <tr style=\"text-align: right;\">\n",
       "      <th></th>\n",
       "      <th>0</th>\n",
       "      <th>1</th>\n",
       "      <th>2</th>\n",
       "    </tr>\n",
       "  </thead>\n",
       "  <tbody>\n",
       "    <tr>\n",
       "      <th>0</th>\n",
       "      <td>प्रधानमंत्री ने कहा कि बाबा साहेब अम्बेडकर की ...</td>\n",
       "      <td>प्रधानमंत्री ने कहा कि करोड़ों लोगों के दिलों ...</td>\n",
       "      <td>NP</td>\n",
       "    </tr>\n",
       "    <tr>\n",
       "      <th>1</th>\n",
       "      <td>इस समारोह को आज बीजापुर में आयोजित करने के महत...</td>\n",
       "      <td>\"आज बीजापुर में इस कार्यक्रम के आयोजन के महत्व...</td>\n",
       "      <td>NP</td>\n",
       "    </tr>\n",
       "    <tr>\n",
       "      <th>2</th>\n",
       "      <td>उन्होंने कहा कि इस कार्य को 2022 तक पूरा कर ले...</td>\n",
       "      <td>उन्होंने कहा कि इस कार्य को 2022 तक पूरा करने ...</td>\n",
       "      <td>NP</td>\n",
       "    </tr>\n",
       "    <tr>\n",
       "      <th>3</th>\n",
       "      <td>प्रधानमंत्री ने कहा कि सरकार स्पष्ट लक्ष्यों औ...</td>\n",
       "      <td>प्रधानमंत्री ने कहा कि सरकार स्पष्ट लक्ष्यों औ...</td>\n",
       "      <td>NP</td>\n",
       "    </tr>\n",
       "    <tr>\n",
       "      <th>4</th>\n",
       "      <td>उन्होंने इस संदर्भ में जन धन खाता खोलने, गरीबो...</td>\n",
       "      <td>\"इस संदर्भ में उन्होंने जन धन खाते खोलने, गरीब...</td>\n",
       "      <td>NP</td>\n",
       "    </tr>\n",
       "  </tbody>\n",
       "</table>\n",
       "</div>"
      ],
      "text/plain": [
       "                                                   0  \\\n",
       "0  प्रधानमंत्री ने कहा कि बाबा साहेब अम्बेडकर की ...   \n",
       "1  इस समारोह को आज बीजापुर में आयोजित करने के महत...   \n",
       "2  उन्होंने कहा कि इस कार्य को 2022 तक पूरा कर ले...   \n",
       "3  प्रधानमंत्री ने कहा कि सरकार स्पष्ट लक्ष्यों औ...   \n",
       "4  उन्होंने इस संदर्भ में जन धन खाता खोलने, गरीबो...   \n",
       "\n",
       "                                                   1   2  \n",
       "0  प्रधानमंत्री ने कहा कि करोड़ों लोगों के दिलों ...  NP  \n",
       "1  \"आज बीजापुर में इस कार्यक्रम के आयोजन के महत्व...  NP  \n",
       "2  उन्होंने कहा कि इस कार्य को 2022 तक पूरा करने ...  NP  \n",
       "3  प्रधानमंत्री ने कहा कि सरकार स्पष्ट लक्ष्यों औ...  NP  \n",
       "4  \"इस संदर्भ में उन्होंने जन धन खाते खोलने, गरीब...  NP  "
      ]
     },
     "execution_count": 30,
     "metadata": {},
     "output_type": "execute_result"
    }
   ],
   "source": [
    "indic_orig.head()"
   ]
  },
  {
   "cell_type": "code",
   "execution_count": 31,
   "metadata": {},
   "outputs": [],
   "source": [
    "bart_orig = pd.read_csv('../indic-glue/amrita-paraphrase-exact/hi/hi-bart-test.csv', header=None)"
   ]
  },
  {
   "cell_type": "code",
   "execution_count": 32,
   "metadata": {},
   "outputs": [
    {
     "data": {
      "text/html": [
       "<div>\n",
       "<style scoped>\n",
       "    .dataframe tbody tr th:only-of-type {\n",
       "        vertical-align: middle;\n",
       "    }\n",
       "\n",
       "    .dataframe tbody tr th {\n",
       "        vertical-align: top;\n",
       "    }\n",
       "\n",
       "    .dataframe thead th {\n",
       "        text-align: right;\n",
       "    }\n",
       "</style>\n",
       "<table border=\"1\" class=\"dataframe\">\n",
       "  <thead>\n",
       "    <tr style=\"text-align: right;\">\n",
       "      <th></th>\n",
       "      <th>0</th>\n",
       "      <th>1</th>\n",
       "      <th>2</th>\n",
       "    </tr>\n",
       "  </thead>\n",
       "  <tbody>\n",
       "    <tr>\n",
       "      <th>0</th>\n",
       "      <td>प्रधानमंत्री ने कहा कि बाबा साहेब अम्बेडकर की ...</td>\n",
       "      <td>Prime Minister said Babasaheb Ambedkar has a k...</td>\n",
       "      <td>NP</td>\n",
       "    </tr>\n",
       "    <tr>\n",
       "      <th>1</th>\n",
       "      <td>इस समारोह को आज बीजापुर में आयोजित करने के महत...</td>\n",
       "      <td>आज बीजापुर में इस समारोह को आयोजित करने के महत...</td>\n",
       "      <td>NP</td>\n",
       "    </tr>\n",
       "    <tr>\n",
       "      <th>2</th>\n",
       "      <td>उन्होंने कहा कि इस कार्य को 2022 तक पूरा कर ले...</td>\n",
       "      <td>उन्होंने कहा कि लक्ष्य 2022 तक इस कार्य को पूर...</td>\n",
       "      <td>NP</td>\n",
       "    </tr>\n",
       "    <tr>\n",
       "      <th>3</th>\n",
       "      <td>प्रधानमंत्री ने कहा कि सरकार स्पष्ट लक्ष्यों औ...</td>\n",
       "      <td>प्रधानमंत्री ने कहा कि सरकार स्पष्ट लक्ष्यों औ...</td>\n",
       "      <td>NP</td>\n",
       "    </tr>\n",
       "    <tr>\n",
       "      <th>4</th>\n",
       "      <td>उन्होंने इस संदर्भ में जन धन खाता खोलने, गरीबो...</td>\n",
       "      <td>इस संदर्भ में उन्होंने जनधन खाते खोलने, गरीबों...</td>\n",
       "      <td>NP</td>\n",
       "    </tr>\n",
       "  </tbody>\n",
       "</table>\n",
       "</div>"
      ],
      "text/plain": [
       "                                                   0  \\\n",
       "0  प्रधानमंत्री ने कहा कि बाबा साहेब अम्बेडकर की ...   \n",
       "1  इस समारोह को आज बीजापुर में आयोजित करने के महत...   \n",
       "2  उन्होंने कहा कि इस कार्य को 2022 तक पूरा कर ले...   \n",
       "3  प्रधानमंत्री ने कहा कि सरकार स्पष्ट लक्ष्यों औ...   \n",
       "4  उन्होंने इस संदर्भ में जन धन खाता खोलने, गरीबो...   \n",
       "\n",
       "                                                   1   2  \n",
       "0  Prime Minister said Babasaheb Ambedkar has a k...  NP  \n",
       "1  आज बीजापुर में इस समारोह को आयोजित करने के महत...  NP  \n",
       "2  उन्होंने कहा कि लक्ष्य 2022 तक इस कार्य को पूर...  NP  \n",
       "3  प्रधानमंत्री ने कहा कि सरकार स्पष्ट लक्ष्यों औ...  NP  \n",
       "4  इस संदर्भ में उन्होंने जनधन खाते खोलने, गरीबों...  NP  "
      ]
     },
     "execution_count": 32,
     "metadata": {},
     "output_type": "execute_result"
    }
   ],
   "source": [
    "bart_orig.head()"
   ]
  },
  {
   "cell_type": "code",
   "execution_count": 33,
   "metadata": {},
   "outputs": [],
   "source": [
    "combined = bart_orig[[0, 1]]"
   ]
  },
  {
   "cell_type": "code",
   "execution_count": 34,
   "metadata": {},
   "outputs": [],
   "source": [
    "combined.columns =['Original_Sentence', 'mBART_Translated', ]"
   ]
  },
  {
   "cell_type": "code",
   "execution_count": 35,
   "metadata": {},
   "outputs": [],
   "source": [
    "combined['IndicTrans_Translated'] = indic_orig[[1]]"
   ]
  },
  {
   "cell_type": "code",
   "execution_count": 36,
   "metadata": {},
   "outputs": [
    {
     "data": {
      "text/html": [
       "<div>\n",
       "<style scoped>\n",
       "    .dataframe tbody tr th:only-of-type {\n",
       "        vertical-align: middle;\n",
       "    }\n",
       "\n",
       "    .dataframe tbody tr th {\n",
       "        vertical-align: top;\n",
       "    }\n",
       "\n",
       "    .dataframe thead th {\n",
       "        text-align: right;\n",
       "    }\n",
       "</style>\n",
       "<table border=\"1\" class=\"dataframe\">\n",
       "  <thead>\n",
       "    <tr style=\"text-align: right;\">\n",
       "      <th></th>\n",
       "      <th>Original_Sentence</th>\n",
       "      <th>mBART_Translated</th>\n",
       "      <th>IndicTrans_Translated</th>\n",
       "    </tr>\n",
       "  </thead>\n",
       "  <tbody>\n",
       "    <tr>\n",
       "      <th>0</th>\n",
       "      <td>प्रधानमंत्री ने कहा कि बाबा साहेब अम्बेडकर की ...</td>\n",
       "      <td>Prime Minister said Babasaheb Ambedkar has a k...</td>\n",
       "      <td>प्रधानमंत्री ने कहा कि करोड़ों लोगों के दिलों ...</td>\n",
       "    </tr>\n",
       "    <tr>\n",
       "      <th>1</th>\n",
       "      <td>इस समारोह को आज बीजापुर में आयोजित करने के महत...</td>\n",
       "      <td>आज बीजापुर में इस समारोह को आयोजित करने के महत...</td>\n",
       "      <td>\"आज बीजापुर में इस कार्यक्रम के आयोजन के महत्व...</td>\n",
       "    </tr>\n",
       "    <tr>\n",
       "      <th>2</th>\n",
       "      <td>उन्होंने कहा कि इस कार्य को 2022 तक पूरा कर ले...</td>\n",
       "      <td>उन्होंने कहा कि लक्ष्य 2022 तक इस कार्य को पूर...</td>\n",
       "      <td>उन्होंने कहा कि इस कार्य को 2022 तक पूरा करने ...</td>\n",
       "    </tr>\n",
       "    <tr>\n",
       "      <th>3</th>\n",
       "      <td>प्रधानमंत्री ने कहा कि सरकार स्पष्ट लक्ष्यों औ...</td>\n",
       "      <td>प्रधानमंत्री ने कहा कि सरकार स्पष्ट लक्ष्यों औ...</td>\n",
       "      <td>प्रधानमंत्री ने कहा कि सरकार स्पष्ट लक्ष्यों औ...</td>\n",
       "    </tr>\n",
       "    <tr>\n",
       "      <th>4</th>\n",
       "      <td>उन्होंने इस संदर्भ में जन धन खाता खोलने, गरीबो...</td>\n",
       "      <td>इस संदर्भ में उन्होंने जनधन खाते खोलने, गरीबों...</td>\n",
       "      <td>\"इस संदर्भ में उन्होंने जन धन खाते खोलने, गरीब...</td>\n",
       "    </tr>\n",
       "  </tbody>\n",
       "</table>\n",
       "</div>"
      ],
      "text/plain": [
       "                                   Original_Sentence  \\\n",
       "0  प्रधानमंत्री ने कहा कि बाबा साहेब अम्बेडकर की ...   \n",
       "1  इस समारोह को आज बीजापुर में आयोजित करने के महत...   \n",
       "2  उन्होंने कहा कि इस कार्य को 2022 तक पूरा कर ले...   \n",
       "3  प्रधानमंत्री ने कहा कि सरकार स्पष्ट लक्ष्यों औ...   \n",
       "4  उन्होंने इस संदर्भ में जन धन खाता खोलने, गरीबो...   \n",
       "\n",
       "                                    mBART_Translated  \\\n",
       "0  Prime Minister said Babasaheb Ambedkar has a k...   \n",
       "1  आज बीजापुर में इस समारोह को आयोजित करने के महत...   \n",
       "2  उन्होंने कहा कि लक्ष्य 2022 तक इस कार्य को पूर...   \n",
       "3  प्रधानमंत्री ने कहा कि सरकार स्पष्ट लक्ष्यों औ...   \n",
       "4  इस संदर्भ में उन्होंने जनधन खाते खोलने, गरीबों...   \n",
       "\n",
       "                               IndicTrans_Translated  \n",
       "0  प्रधानमंत्री ने कहा कि करोड़ों लोगों के दिलों ...  \n",
       "1  \"आज बीजापुर में इस कार्यक्रम के आयोजन के महत्व...  \n",
       "2  उन्होंने कहा कि इस कार्य को 2022 तक पूरा करने ...  \n",
       "3  प्रधानमंत्री ने कहा कि सरकार स्पष्ट लक्ष्यों औ...  \n",
       "4  \"इस संदर्भ में उन्होंने जन धन खाते खोलने, गरीब...  "
      ]
     },
     "execution_count": 36,
     "metadata": {},
     "output_type": "execute_result"
    }
   ],
   "source": [
    "combined.head()"
   ]
  },
  {
   "cell_type": "code",
   "execution_count": null,
   "metadata": {},
   "outputs": [],
   "source": [
    "# combined = pd.concat([bart_orig['sentence_1'], b_trans['sentence_2']], axis=1, keys=['sentence_1', 'sentence_2'])"
   ]
  },
  {
   "cell_type": "code",
   "execution_count": 37,
   "metadata": {},
   "outputs": [],
   "source": [
    "combined['mBART_P_prob'] = mbart[[0]]\n",
    "combined['mBART_NP_prob'] = mbart[[1]]"
   ]
  },
  {
   "cell_type": "code",
   "execution_count": 38,
   "metadata": {},
   "outputs": [
    {
     "data": {
      "text/html": [
       "<div>\n",
       "<style scoped>\n",
       "    .dataframe tbody tr th:only-of-type {\n",
       "        vertical-align: middle;\n",
       "    }\n",
       "\n",
       "    .dataframe tbody tr th {\n",
       "        vertical-align: top;\n",
       "    }\n",
       "\n",
       "    .dataframe thead th {\n",
       "        text-align: right;\n",
       "    }\n",
       "</style>\n",
       "<table border=\"1\" class=\"dataframe\">\n",
       "  <thead>\n",
       "    <tr style=\"text-align: right;\">\n",
       "      <th></th>\n",
       "      <th>Original_Sentence</th>\n",
       "      <th>mBART_Translated</th>\n",
       "      <th>IndicTrans_Translated</th>\n",
       "      <th>mBART_P_prob</th>\n",
       "      <th>mBART_NP_prob</th>\n",
       "    </tr>\n",
       "  </thead>\n",
       "  <tbody>\n",
       "    <tr>\n",
       "      <th>0</th>\n",
       "      <td>प्रधानमंत्री ने कहा कि बाबा साहेब अम्बेडकर की ...</td>\n",
       "      <td>Prime Minister said Babasaheb Ambedkar has a k...</td>\n",
       "      <td>प्रधानमंत्री ने कहा कि करोड़ों लोगों के दिलों ...</td>\n",
       "      <td>1.641388</td>\n",
       "      <td>-2.035115</td>\n",
       "    </tr>\n",
       "    <tr>\n",
       "      <th>1</th>\n",
       "      <td>इस समारोह को आज बीजापुर में आयोजित करने के महत...</td>\n",
       "      <td>आज बीजापुर में इस समारोह को आयोजित करने के महत...</td>\n",
       "      <td>\"आज बीजापुर में इस कार्यक्रम के आयोजन के महत्व...</td>\n",
       "      <td>-0.095410</td>\n",
       "      <td>0.146530</td>\n",
       "    </tr>\n",
       "    <tr>\n",
       "      <th>2</th>\n",
       "      <td>उन्होंने कहा कि इस कार्य को 2022 तक पूरा कर ले...</td>\n",
       "      <td>उन्होंने कहा कि लक्ष्य 2022 तक इस कार्य को पूर...</td>\n",
       "      <td>उन्होंने कहा कि इस कार्य को 2022 तक पूरा करने ...</td>\n",
       "      <td>-0.093650</td>\n",
       "      <td>0.141301</td>\n",
       "    </tr>\n",
       "    <tr>\n",
       "      <th>3</th>\n",
       "      <td>प्रधानमंत्री ने कहा कि सरकार स्पष्ट लक्ष्यों औ...</td>\n",
       "      <td>प्रधानमंत्री ने कहा कि सरकार स्पष्ट लक्ष्यों औ...</td>\n",
       "      <td>प्रधानमंत्री ने कहा कि सरकार स्पष्ट लक्ष्यों औ...</td>\n",
       "      <td>-0.093835</td>\n",
       "      <td>0.141280</td>\n",
       "    </tr>\n",
       "    <tr>\n",
       "      <th>4</th>\n",
       "      <td>उन्होंने इस संदर्भ में जन धन खाता खोलने, गरीबो...</td>\n",
       "      <td>इस संदर्भ में उन्होंने जनधन खाते खोलने, गरीबों...</td>\n",
       "      <td>\"इस संदर्भ में उन्होंने जन धन खाते खोलने, गरीब...</td>\n",
       "      <td>-0.095638</td>\n",
       "      <td>0.144878</td>\n",
       "    </tr>\n",
       "  </tbody>\n",
       "</table>\n",
       "</div>"
      ],
      "text/plain": [
       "                                   Original_Sentence  \\\n",
       "0  प्रधानमंत्री ने कहा कि बाबा साहेब अम्बेडकर की ...   \n",
       "1  इस समारोह को आज बीजापुर में आयोजित करने के महत...   \n",
       "2  उन्होंने कहा कि इस कार्य को 2022 तक पूरा कर ले...   \n",
       "3  प्रधानमंत्री ने कहा कि सरकार स्पष्ट लक्ष्यों औ...   \n",
       "4  उन्होंने इस संदर्भ में जन धन खाता खोलने, गरीबो...   \n",
       "\n",
       "                                    mBART_Translated  \\\n",
       "0  Prime Minister said Babasaheb Ambedkar has a k...   \n",
       "1  आज बीजापुर में इस समारोह को आयोजित करने के महत...   \n",
       "2  उन्होंने कहा कि लक्ष्य 2022 तक इस कार्य को पूर...   \n",
       "3  प्रधानमंत्री ने कहा कि सरकार स्पष्ट लक्ष्यों औ...   \n",
       "4  इस संदर्भ में उन्होंने जनधन खाते खोलने, गरीबों...   \n",
       "\n",
       "                               IndicTrans_Translated  mBART_P_prob  \\\n",
       "0  प्रधानमंत्री ने कहा कि करोड़ों लोगों के दिलों ...      1.641388   \n",
       "1  \"आज बीजापुर में इस कार्यक्रम के आयोजन के महत्व...     -0.095410   \n",
       "2  उन्होंने कहा कि इस कार्य को 2022 तक पूरा करने ...     -0.093650   \n",
       "3  प्रधानमंत्री ने कहा कि सरकार स्पष्ट लक्ष्यों औ...     -0.093835   \n",
       "4  \"इस संदर्भ में उन्होंने जन धन खाते खोलने, गरीब...     -0.095638   \n",
       "\n",
       "   mBART_NP_prob  \n",
       "0      -2.035115  \n",
       "1       0.146530  \n",
       "2       0.141301  \n",
       "3       0.141280  \n",
       "4       0.144878  "
      ]
     },
     "execution_count": 38,
     "metadata": {},
     "output_type": "execute_result"
    }
   ],
   "source": [
    "combined.head()"
   ]
  },
  {
   "cell_type": "code",
   "execution_count": 39,
   "metadata": {},
   "outputs": [],
   "source": [
    "combined['IT_P_prob'] = indictrans[[0]]\n",
    "combined['IT_NP_prob'] = indictrans[[1]]"
   ]
  },
  {
   "cell_type": "code",
   "execution_count": 40,
   "metadata": {},
   "outputs": [
    {
     "data": {
      "text/html": [
       "<div>\n",
       "<style scoped>\n",
       "    .dataframe tbody tr th:only-of-type {\n",
       "        vertical-align: middle;\n",
       "    }\n",
       "\n",
       "    .dataframe tbody tr th {\n",
       "        vertical-align: top;\n",
       "    }\n",
       "\n",
       "    .dataframe thead th {\n",
       "        text-align: right;\n",
       "    }\n",
       "</style>\n",
       "<table border=\"1\" class=\"dataframe\">\n",
       "  <thead>\n",
       "    <tr style=\"text-align: right;\">\n",
       "      <th></th>\n",
       "      <th>Original_Sentence</th>\n",
       "      <th>mBART_Translated</th>\n",
       "      <th>IndicTrans_Translated</th>\n",
       "      <th>mBART_P_prob</th>\n",
       "      <th>mBART_NP_prob</th>\n",
       "      <th>IT_P_prob</th>\n",
       "      <th>IT_NP_prob</th>\n",
       "    </tr>\n",
       "  </thead>\n",
       "  <tbody>\n",
       "    <tr>\n",
       "      <th>0</th>\n",
       "      <td>प्रधानमंत्री ने कहा कि बाबा साहेब अम्बेडकर की ...</td>\n",
       "      <td>Prime Minister said Babasaheb Ambedkar has a k...</td>\n",
       "      <td>प्रधानमंत्री ने कहा कि करोड़ों लोगों के दिलों ...</td>\n",
       "      <td>1.641388</td>\n",
       "      <td>-2.035115</td>\n",
       "      <td>-0.097524</td>\n",
       "      <td>0.144784</td>\n",
       "    </tr>\n",
       "    <tr>\n",
       "      <th>1</th>\n",
       "      <td>इस समारोह को आज बीजापुर में आयोजित करने के महत...</td>\n",
       "      <td>आज बीजापुर में इस समारोह को आयोजित करने के महत...</td>\n",
       "      <td>\"आज बीजापुर में इस कार्यक्रम के आयोजन के महत्व...</td>\n",
       "      <td>-0.095410</td>\n",
       "      <td>0.146530</td>\n",
       "      <td>-0.093321</td>\n",
       "      <td>0.144864</td>\n",
       "    </tr>\n",
       "    <tr>\n",
       "      <th>2</th>\n",
       "      <td>उन्होंने कहा कि इस कार्य को 2022 तक पूरा कर ले...</td>\n",
       "      <td>उन्होंने कहा कि लक्ष्य 2022 तक इस कार्य को पूर...</td>\n",
       "      <td>उन्होंने कहा कि इस कार्य को 2022 तक पूरा करने ...</td>\n",
       "      <td>-0.093650</td>\n",
       "      <td>0.141301</td>\n",
       "      <td>-0.093762</td>\n",
       "      <td>0.140794</td>\n",
       "    </tr>\n",
       "    <tr>\n",
       "      <th>3</th>\n",
       "      <td>प्रधानमंत्री ने कहा कि सरकार स्पष्ट लक्ष्यों औ...</td>\n",
       "      <td>प्रधानमंत्री ने कहा कि सरकार स्पष्ट लक्ष्यों औ...</td>\n",
       "      <td>प्रधानमंत्री ने कहा कि सरकार स्पष्ट लक्ष्यों औ...</td>\n",
       "      <td>-0.093835</td>\n",
       "      <td>0.141280</td>\n",
       "      <td>-0.095129</td>\n",
       "      <td>0.143009</td>\n",
       "    </tr>\n",
       "    <tr>\n",
       "      <th>4</th>\n",
       "      <td>उन्होंने इस संदर्भ में जन धन खाता खोलने, गरीबो...</td>\n",
       "      <td>इस संदर्भ में उन्होंने जनधन खाते खोलने, गरीबों...</td>\n",
       "      <td>\"इस संदर्भ में उन्होंने जन धन खाते खोलने, गरीब...</td>\n",
       "      <td>-0.095638</td>\n",
       "      <td>0.144878</td>\n",
       "      <td>-0.091816</td>\n",
       "      <td>0.139572</td>\n",
       "    </tr>\n",
       "  </tbody>\n",
       "</table>\n",
       "</div>"
      ],
      "text/plain": [
       "                                   Original_Sentence  \\\n",
       "0  प्रधानमंत्री ने कहा कि बाबा साहेब अम्बेडकर की ...   \n",
       "1  इस समारोह को आज बीजापुर में आयोजित करने के महत...   \n",
       "2  उन्होंने कहा कि इस कार्य को 2022 तक पूरा कर ले...   \n",
       "3  प्रधानमंत्री ने कहा कि सरकार स्पष्ट लक्ष्यों औ...   \n",
       "4  उन्होंने इस संदर्भ में जन धन खाता खोलने, गरीबो...   \n",
       "\n",
       "                                    mBART_Translated  \\\n",
       "0  Prime Minister said Babasaheb Ambedkar has a k...   \n",
       "1  आज बीजापुर में इस समारोह को आयोजित करने के महत...   \n",
       "2  उन्होंने कहा कि लक्ष्य 2022 तक इस कार्य को पूर...   \n",
       "3  प्रधानमंत्री ने कहा कि सरकार स्पष्ट लक्ष्यों औ...   \n",
       "4  इस संदर्भ में उन्होंने जनधन खाते खोलने, गरीबों...   \n",
       "\n",
       "                               IndicTrans_Translated  mBART_P_prob  \\\n",
       "0  प्रधानमंत्री ने कहा कि करोड़ों लोगों के दिलों ...      1.641388   \n",
       "1  \"आज बीजापुर में इस कार्यक्रम के आयोजन के महत्व...     -0.095410   \n",
       "2  उन्होंने कहा कि इस कार्य को 2022 तक पूरा करने ...     -0.093650   \n",
       "3  प्रधानमंत्री ने कहा कि सरकार स्पष्ट लक्ष्यों औ...     -0.093835   \n",
       "4  \"इस संदर्भ में उन्होंने जन धन खाते खोलने, गरीब...     -0.095638   \n",
       "\n",
       "   mBART_NP_prob  IT_P_prob  IT_NP_prob  \n",
       "0      -2.035115  -0.097524    0.144784  \n",
       "1       0.146530  -0.093321    0.144864  \n",
       "2       0.141301  -0.093762    0.140794  \n",
       "3       0.141280  -0.095129    0.143009  \n",
       "4       0.144878  -0.091816    0.139572  "
      ]
     },
     "execution_count": 40,
     "metadata": {},
     "output_type": "execute_result"
    }
   ],
   "source": [
    "combined.head()"
   ]
  },
  {
   "cell_type": "code",
   "execution_count": 41,
   "metadata": {},
   "outputs": [],
   "source": [
    "combined['mBART_avg'] = combined.iloc[:,3:5].mean(axis=1)"
   ]
  },
  {
   "cell_type": "code",
   "execution_count": 42,
   "metadata": {},
   "outputs": [
    {
     "data": {
      "text/html": [
       "<div>\n",
       "<style scoped>\n",
       "    .dataframe tbody tr th:only-of-type {\n",
       "        vertical-align: middle;\n",
       "    }\n",
       "\n",
       "    .dataframe tbody tr th {\n",
       "        vertical-align: top;\n",
       "    }\n",
       "\n",
       "    .dataframe thead th {\n",
       "        text-align: right;\n",
       "    }\n",
       "</style>\n",
       "<table border=\"1\" class=\"dataframe\">\n",
       "  <thead>\n",
       "    <tr style=\"text-align: right;\">\n",
       "      <th></th>\n",
       "      <th>Original_Sentence</th>\n",
       "      <th>mBART_Translated</th>\n",
       "      <th>IndicTrans_Translated</th>\n",
       "      <th>mBART_P_prob</th>\n",
       "      <th>mBART_NP_prob</th>\n",
       "      <th>IT_P_prob</th>\n",
       "      <th>IT_NP_prob</th>\n",
       "      <th>mBART_avg</th>\n",
       "    </tr>\n",
       "  </thead>\n",
       "  <tbody>\n",
       "    <tr>\n",
       "      <th>0</th>\n",
       "      <td>प्रधानमंत्री ने कहा कि बाबा साहेब अम्बेडकर की ...</td>\n",
       "      <td>Prime Minister said Babasaheb Ambedkar has a k...</td>\n",
       "      <td>प्रधानमंत्री ने कहा कि करोड़ों लोगों के दिलों ...</td>\n",
       "      <td>1.641388</td>\n",
       "      <td>-2.035115</td>\n",
       "      <td>-0.097524</td>\n",
       "      <td>0.144784</td>\n",
       "      <td>-0.196864</td>\n",
       "    </tr>\n",
       "    <tr>\n",
       "      <th>1</th>\n",
       "      <td>इस समारोह को आज बीजापुर में आयोजित करने के महत...</td>\n",
       "      <td>आज बीजापुर में इस समारोह को आयोजित करने के महत...</td>\n",
       "      <td>\"आज बीजापुर में इस कार्यक्रम के आयोजन के महत्व...</td>\n",
       "      <td>-0.095410</td>\n",
       "      <td>0.146530</td>\n",
       "      <td>-0.093321</td>\n",
       "      <td>0.144864</td>\n",
       "      <td>0.025560</td>\n",
       "    </tr>\n",
       "    <tr>\n",
       "      <th>2</th>\n",
       "      <td>उन्होंने कहा कि इस कार्य को 2022 तक पूरा कर ले...</td>\n",
       "      <td>उन्होंने कहा कि लक्ष्य 2022 तक इस कार्य को पूर...</td>\n",
       "      <td>उन्होंने कहा कि इस कार्य को 2022 तक पूरा करने ...</td>\n",
       "      <td>-0.093650</td>\n",
       "      <td>0.141301</td>\n",
       "      <td>-0.093762</td>\n",
       "      <td>0.140794</td>\n",
       "      <td>0.023825</td>\n",
       "    </tr>\n",
       "    <tr>\n",
       "      <th>3</th>\n",
       "      <td>प्रधानमंत्री ने कहा कि सरकार स्पष्ट लक्ष्यों औ...</td>\n",
       "      <td>प्रधानमंत्री ने कहा कि सरकार स्पष्ट लक्ष्यों औ...</td>\n",
       "      <td>प्रधानमंत्री ने कहा कि सरकार स्पष्ट लक्ष्यों औ...</td>\n",
       "      <td>-0.093835</td>\n",
       "      <td>0.141280</td>\n",
       "      <td>-0.095129</td>\n",
       "      <td>0.143009</td>\n",
       "      <td>0.023723</td>\n",
       "    </tr>\n",
       "    <tr>\n",
       "      <th>4</th>\n",
       "      <td>उन्होंने इस संदर्भ में जन धन खाता खोलने, गरीबो...</td>\n",
       "      <td>इस संदर्भ में उन्होंने जनधन खाते खोलने, गरीबों...</td>\n",
       "      <td>\"इस संदर्भ में उन्होंने जन धन खाते खोलने, गरीब...</td>\n",
       "      <td>-0.095638</td>\n",
       "      <td>0.144878</td>\n",
       "      <td>-0.091816</td>\n",
       "      <td>0.139572</td>\n",
       "      <td>0.024620</td>\n",
       "    </tr>\n",
       "  </tbody>\n",
       "</table>\n",
       "</div>"
      ],
      "text/plain": [
       "                                   Original_Sentence  \\\n",
       "0  प्रधानमंत्री ने कहा कि बाबा साहेब अम्बेडकर की ...   \n",
       "1  इस समारोह को आज बीजापुर में आयोजित करने के महत...   \n",
       "2  उन्होंने कहा कि इस कार्य को 2022 तक पूरा कर ले...   \n",
       "3  प्रधानमंत्री ने कहा कि सरकार स्पष्ट लक्ष्यों औ...   \n",
       "4  उन्होंने इस संदर्भ में जन धन खाता खोलने, गरीबो...   \n",
       "\n",
       "                                    mBART_Translated  \\\n",
       "0  Prime Minister said Babasaheb Ambedkar has a k...   \n",
       "1  आज बीजापुर में इस समारोह को आयोजित करने के महत...   \n",
       "2  उन्होंने कहा कि लक्ष्य 2022 तक इस कार्य को पूर...   \n",
       "3  प्रधानमंत्री ने कहा कि सरकार स्पष्ट लक्ष्यों औ...   \n",
       "4  इस संदर्भ में उन्होंने जनधन खाते खोलने, गरीबों...   \n",
       "\n",
       "                               IndicTrans_Translated  mBART_P_prob  \\\n",
       "0  प्रधानमंत्री ने कहा कि करोड़ों लोगों के दिलों ...      1.641388   \n",
       "1  \"आज बीजापुर में इस कार्यक्रम के आयोजन के महत्व...     -0.095410   \n",
       "2  उन्होंने कहा कि इस कार्य को 2022 तक पूरा करने ...     -0.093650   \n",
       "3  प्रधानमंत्री ने कहा कि सरकार स्पष्ट लक्ष्यों औ...     -0.093835   \n",
       "4  \"इस संदर्भ में उन्होंने जन धन खाते खोलने, गरीब...     -0.095638   \n",
       "\n",
       "   mBART_NP_prob  IT_P_prob  IT_NP_prob  mBART_avg  \n",
       "0      -2.035115  -0.097524    0.144784  -0.196864  \n",
       "1       0.146530  -0.093321    0.144864   0.025560  \n",
       "2       0.141301  -0.093762    0.140794   0.023825  \n",
       "3       0.141280  -0.095129    0.143009   0.023723  \n",
       "4       0.144878  -0.091816    0.139572   0.024620  "
      ]
     },
     "execution_count": 42,
     "metadata": {},
     "output_type": "execute_result"
    }
   ],
   "source": [
    "combined.head()"
   ]
  },
  {
   "cell_type": "code",
   "execution_count": 43,
   "metadata": {},
   "outputs": [],
   "source": [
    "combined['IT_avg'] = combined.iloc[:,5:7].mean(axis=1)"
   ]
  },
  {
   "cell_type": "code",
   "execution_count": 44,
   "metadata": {},
   "outputs": [
    {
     "data": {
      "text/html": [
       "<div>\n",
       "<style scoped>\n",
       "    .dataframe tbody tr th:only-of-type {\n",
       "        vertical-align: middle;\n",
       "    }\n",
       "\n",
       "    .dataframe tbody tr th {\n",
       "        vertical-align: top;\n",
       "    }\n",
       "\n",
       "    .dataframe thead th {\n",
       "        text-align: right;\n",
       "    }\n",
       "</style>\n",
       "<table border=\"1\" class=\"dataframe\">\n",
       "  <thead>\n",
       "    <tr style=\"text-align: right;\">\n",
       "      <th></th>\n",
       "      <th>Original_Sentence</th>\n",
       "      <th>mBART_Translated</th>\n",
       "      <th>IndicTrans_Translated</th>\n",
       "      <th>mBART_P_prob</th>\n",
       "      <th>mBART_NP_prob</th>\n",
       "      <th>IT_P_prob</th>\n",
       "      <th>IT_NP_prob</th>\n",
       "      <th>mBART_avg</th>\n",
       "      <th>IT_avg</th>\n",
       "    </tr>\n",
       "  </thead>\n",
       "  <tbody>\n",
       "    <tr>\n",
       "      <th>0</th>\n",
       "      <td>प्रधानमंत्री ने कहा कि बाबा साहेब अम्बेडकर की ...</td>\n",
       "      <td>Prime Minister said Babasaheb Ambedkar has a k...</td>\n",
       "      <td>प्रधानमंत्री ने कहा कि करोड़ों लोगों के दिलों ...</td>\n",
       "      <td>1.641388</td>\n",
       "      <td>-2.035115</td>\n",
       "      <td>-0.097524</td>\n",
       "      <td>0.144784</td>\n",
       "      <td>-0.196864</td>\n",
       "      <td>0.023630</td>\n",
       "    </tr>\n",
       "    <tr>\n",
       "      <th>1</th>\n",
       "      <td>इस समारोह को आज बीजापुर में आयोजित करने के महत...</td>\n",
       "      <td>आज बीजापुर में इस समारोह को आयोजित करने के महत...</td>\n",
       "      <td>\"आज बीजापुर में इस कार्यक्रम के आयोजन के महत्व...</td>\n",
       "      <td>-0.095410</td>\n",
       "      <td>0.146530</td>\n",
       "      <td>-0.093321</td>\n",
       "      <td>0.144864</td>\n",
       "      <td>0.025560</td>\n",
       "      <td>0.025772</td>\n",
       "    </tr>\n",
       "    <tr>\n",
       "      <th>2</th>\n",
       "      <td>उन्होंने कहा कि इस कार्य को 2022 तक पूरा कर ले...</td>\n",
       "      <td>उन्होंने कहा कि लक्ष्य 2022 तक इस कार्य को पूर...</td>\n",
       "      <td>उन्होंने कहा कि इस कार्य को 2022 तक पूरा करने ...</td>\n",
       "      <td>-0.093650</td>\n",
       "      <td>0.141301</td>\n",
       "      <td>-0.093762</td>\n",
       "      <td>0.140794</td>\n",
       "      <td>0.023825</td>\n",
       "      <td>0.023516</td>\n",
       "    </tr>\n",
       "    <tr>\n",
       "      <th>3</th>\n",
       "      <td>प्रधानमंत्री ने कहा कि सरकार स्पष्ट लक्ष्यों औ...</td>\n",
       "      <td>प्रधानमंत्री ने कहा कि सरकार स्पष्ट लक्ष्यों औ...</td>\n",
       "      <td>प्रधानमंत्री ने कहा कि सरकार स्पष्ट लक्ष्यों औ...</td>\n",
       "      <td>-0.093835</td>\n",
       "      <td>0.141280</td>\n",
       "      <td>-0.095129</td>\n",
       "      <td>0.143009</td>\n",
       "      <td>0.023723</td>\n",
       "      <td>0.023940</td>\n",
       "    </tr>\n",
       "    <tr>\n",
       "      <th>4</th>\n",
       "      <td>उन्होंने इस संदर्भ में जन धन खाता खोलने, गरीबो...</td>\n",
       "      <td>इस संदर्भ में उन्होंने जनधन खाते खोलने, गरीबों...</td>\n",
       "      <td>\"इस संदर्भ में उन्होंने जन धन खाते खोलने, गरीब...</td>\n",
       "      <td>-0.095638</td>\n",
       "      <td>0.144878</td>\n",
       "      <td>-0.091816</td>\n",
       "      <td>0.139572</td>\n",
       "      <td>0.024620</td>\n",
       "      <td>0.023878</td>\n",
       "    </tr>\n",
       "  </tbody>\n",
       "</table>\n",
       "</div>"
      ],
      "text/plain": [
       "                                   Original_Sentence  \\\n",
       "0  प्रधानमंत्री ने कहा कि बाबा साहेब अम्बेडकर की ...   \n",
       "1  इस समारोह को आज बीजापुर में आयोजित करने के महत...   \n",
       "2  उन्होंने कहा कि इस कार्य को 2022 तक पूरा कर ले...   \n",
       "3  प्रधानमंत्री ने कहा कि सरकार स्पष्ट लक्ष्यों औ...   \n",
       "4  उन्होंने इस संदर्भ में जन धन खाता खोलने, गरीबो...   \n",
       "\n",
       "                                    mBART_Translated  \\\n",
       "0  Prime Minister said Babasaheb Ambedkar has a k...   \n",
       "1  आज बीजापुर में इस समारोह को आयोजित करने के महत...   \n",
       "2  उन्होंने कहा कि लक्ष्य 2022 तक इस कार्य को पूर...   \n",
       "3  प्रधानमंत्री ने कहा कि सरकार स्पष्ट लक्ष्यों औ...   \n",
       "4  इस संदर्भ में उन्होंने जनधन खाते खोलने, गरीबों...   \n",
       "\n",
       "                               IndicTrans_Translated  mBART_P_prob  \\\n",
       "0  प्रधानमंत्री ने कहा कि करोड़ों लोगों के दिलों ...      1.641388   \n",
       "1  \"आज बीजापुर में इस कार्यक्रम के आयोजन के महत्व...     -0.095410   \n",
       "2  उन्होंने कहा कि इस कार्य को 2022 तक पूरा करने ...     -0.093650   \n",
       "3  प्रधानमंत्री ने कहा कि सरकार स्पष्ट लक्ष्यों औ...     -0.093835   \n",
       "4  \"इस संदर्भ में उन्होंने जन धन खाते खोलने, गरीब...     -0.095638   \n",
       "\n",
       "   mBART_NP_prob  IT_P_prob  IT_NP_prob  mBART_avg    IT_avg  \n",
       "0      -2.035115  -0.097524    0.144784  -0.196864  0.023630  \n",
       "1       0.146530  -0.093321    0.144864   0.025560  0.025772  \n",
       "2       0.141301  -0.093762    0.140794   0.023825  0.023516  \n",
       "3       0.141280  -0.095129    0.143009   0.023723  0.023940  \n",
       "4       0.144878  -0.091816    0.139572   0.024620  0.023878  "
      ]
     },
     "execution_count": 44,
     "metadata": {},
     "output_type": "execute_result"
    }
   ],
   "source": [
    "combined.head()"
   ]
  },
  {
   "cell_type": "code",
   "execution_count": 45,
   "metadata": {},
   "outputs": [],
   "source": [
    "combined.to_csv('../combined.csv', sep='\\t', encoding='utf-8')"
   ]
  },
  {
   "cell_type": "code",
   "execution_count": 46,
   "metadata": {},
   "outputs": [
    {
     "name": "stdout",
     "output_type": "stream",
     "text": [
      "/w266/w266/project/finetuning/indic-bert\r\n"
     ]
    }
   ],
   "source": []
  },
  {
   "cell_type": "code",
   "execution_count": null,
   "metadata": {},
   "outputs": [],
   "source": []
  },
  {
   "cell_type": "code",
   "execution_count": null,
   "metadata": {},
   "outputs": [],
   "source": []
  },
  {
   "cell_type": "code",
   "execution_count": null,
   "metadata": {},
   "outputs": [],
   "source": []
  },
  {
   "cell_type": "markdown",
   "metadata": {},
   "source": [
    "# The following part is to for scoring... which is not working"
   ]
  },
  {
   "cell_type": "code",
   "execution_count": null,
   "metadata": {},
   "outputs": [],
   "source": [
    "tok_name = hparams['model_name_or_path']\n",
    "tok_name\n",
    "\n",
    "tokenizer = AutoTokenizer.from_pretrained(\n",
    "    tok_name,\n",
    "    config=config,\n",
    "    cache_dir=hparams['cache_dir'],\n",
    ")\n",
    "\n",
    "from dataclasses import dataclass\n",
    "from typing import Optional, List, Any, Union\n",
    "@dataclass\n",
    "class TextExample:\n",
    "    guid: str\n",
    "    text_a: str\n",
    "    text_b: Optional[str] = None\n",
    "    label: Optional[str] = None\n",
    "\n",
    "dataset = load_dataset(hparams['dataset'], hparams['data_dir'])\n",
    "\n",
    "examples = dataset.get_examples(hparams['lang'], 'test')\n",
    "\n",
    "# examples\n",
    "\n",
    "batch_encoding = tokenizer(\n",
    "        [example.text_a if example.text_b is None else (example.text_a, example.text_b) for example in examples],\n",
    "        max_length=hparams['max_seq_length'],\n",
    "        padding=\"max_length\",\n",
    "        truncation=True,\n",
    "    )\n",
    "\n",
    "features = []\n",
    "for i in range(len(examples)):\n",
    "    inputs = {k: batch_encoding[k][i] for k in batch_encoding}\n",
    "\n",
    "#     feature = InputFeatures(**inputs, label=labels[i])\n",
    "    feature = InputFeatures(**inputs)\n",
    "    features.append(feature)\n",
    "\n",
    "features[0]"
   ]
  },
  {
   "cell_type": "code",
   "execution_count": null,
   "metadata": {},
   "outputs": [],
   "source": [
    "# %load_ext autoreload\n",
    "# %autoreload 2\n",
    "from fine_tune.modules import base\n",
    "from fine_tune.data import examples\n",
    "import importlib\n",
    "base = importlib.reload(base)\n",
    "examples = importlib.reload(examples)"
   ]
  },
  {
   "cell_type": "code",
   "execution_count": null,
   "metadata": {},
   "outputs": [],
   "source": [
    "base_pl = base.BaseModule(hparams)"
   ]
  },
  {
   "cell_type": "code",
   "execution_count": null,
   "metadata": {},
   "outputs": [],
   "source": [
    "# base_pl.dataset.get_score_examples('hi')"
   ]
  },
  {
   "cell_type": "code",
   "execution_count": null,
   "metadata": {},
   "outputs": [],
   "source": [
    "score_features = base_pl.load_features('test')"
   ]
  },
  {
   "cell_type": "code",
   "execution_count": null,
   "metadata": {},
   "outputs": [],
   "source": [
    "len(score_features)"
   ]
  },
  {
   "cell_type": "code",
   "execution_count": null,
   "metadata": {},
   "outputs": [],
   "source": [
    "dataloader = base_pl.make_loader(score_features, hparams['eval_batch_size'])"
   ]
  },
  {
   "cell_type": "code",
   "execution_count": null,
   "metadata": {},
   "outputs": [],
   "source": [
    "trainer"
   ]
  },
  {
   "cell_type": "code",
   "execution_count": null,
   "metadata": {},
   "outputs": [],
   "source": [
    "# trainer.test(test_dataloaders=dataloader)"
   ]
  },
  {
   "cell_type": "code",
   "execution_count": null,
   "metadata": {},
   "outputs": [],
   "source": [
    "def test():\n",
    "    import pdb; pdb.set_trace();\n",
    "    trainer.test(model,dataloader)\n",
    "\n",
    "test()    \n"
   ]
  },
  {
   "cell_type": "code",
   "execution_count": null,
   "metadata": {},
   "outputs": [],
   "source": []
  },
  {
   "cell_type": "code",
   "execution_count": null,
   "metadata": {},
   "outputs": [],
   "source": [
    "# MODEL_MODES = {\n",
    "#     'sequence-classification': AutoModelForSequenceClassification,\n",
    "# }\n",
    "\n",
    "# def get_model_class(model_type, mode):\n",
    "#     return MODEL_MODES[mode]\n",
    "\n",
    "# model_class = get_model_class(config.model_type, hparams['mode'])\n",
    "\n",
    "# model_class"
   ]
  },
  {
   "cell_type": "code",
   "execution_count": null,
   "metadata": {},
   "outputs": [],
   "source": [
    "# setup transformer model\n",
    "# model_class = get_model_class(config.model_type, hparams['mode'])\n",
    "model_class = AutoModelForSequenceClassification\n",
    "model_class"
   ]
  },
  {
   "cell_type": "code",
   "execution_count": null,
   "metadata": {},
   "outputs": [],
   "source": [
    "model = model_class.from_pretrained(\n",
    "    hparams['model_name_or_path'],\n",
    "    config=config,\n",
    "    cache_dir=hparams['cache_dir'],\n",
    ")"
   ]
  },
  {
   "cell_type": "code",
   "execution_count": null,
   "metadata": {},
   "outputs": [],
   "source": [
    "# model = module.load_from_checkpoint(PATH)\n",
    "# trainer = Trainer(tpu_cores=1)\n",
    "# trainer.test()"
   ]
  },
  {
   "cell_type": "code",
   "execution_count": null,
   "metadata": {},
   "outputs": [],
   "source": [
    "# model = module.load_from_checkpoint(PATH)\n",
    "# trainer = Trainer(tpu_cores=1)\n",
    "# trainer.test()"
   ]
  },
  {
   "cell_type": "code",
   "execution_count": null,
   "metadata": {},
   "outputs": [],
   "source": [
    "trained_model()"
   ]
  },
  {
   "cell_type": "code",
   "execution_count": null,
   "metadata": {},
   "outputs": [],
   "source": []
  },
  {
   "cell_type": "code",
   "execution_count": null,
   "metadata": {},
   "outputs": [],
   "source": []
  },
  {
   "cell_type": "code",
   "execution_count": null,
   "metadata": {},
   "outputs": [],
   "source": [
    "  test = DataLoader(...)\n",
    "    trainer = Trainer()\n",
    "    model = LightningModule()\n",
    "\n",
    "    trainer.fit(model)\n",
    "    trainer.test(test_dataloaders=test)"
   ]
  },
  {
   "cell_type": "code",
   "execution_count": null,
   "metadata": {},
   "outputs": [],
   "source": []
  },
  {
   "cell_type": "code",
   "execution_count": null,
   "metadata": {},
   "outputs": [],
   "source": []
  },
  {
   "cell_type": "code",
   "execution_count": null,
   "metadata": {},
   "outputs": [],
   "source": [
    "batch_encoding = tokenizer(\n",
    "        [example.text_a if example.text_b is None else (example.text_a, example.text_b) for example in examples],\n",
    "        max_length=max_length,\n",
    "        padding=\"max_length\",\n",
    "        truncation=True,\n",
    "    )"
   ]
  },
  {
   "cell_type": "code",
   "execution_count": null,
   "metadata": {},
   "outputs": [],
   "source": []
  },
  {
   "cell_type": "code",
   "execution_count": null,
   "metadata": {},
   "outputs": [],
   "source": []
  },
  {
   "cell_type": "code",
   "execution_count": null,
   "metadata": {},
   "outputs": [],
   "source": []
  },
  {
   "cell_type": "code",
   "execution_count": null,
   "metadata": {},
   "outputs": [],
   "source": []
  },
  {
   "cell_type": "code",
   "execution_count": null,
   "metadata": {},
   "outputs": [],
   "source": []
  },
  {
   "cell_type": "code",
   "execution_count": null,
   "metadata": {},
   "outputs": [],
   "source": []
  },
  {
   "cell_type": "code",
   "execution_count": null,
   "metadata": {},
   "outputs": [],
   "source": []
  },
  {
   "cell_type": "code",
   "execution_count": null,
   "metadata": {},
   "outputs": [],
   "source": []
  },
  {
   "cell_type": "code",
   "execution_count": null,
   "metadata": {},
   "outputs": [],
   "source": [
    "# module.run_module()"
   ]
  },
  {
   "cell_type": "code",
   "execution_count": null,
   "metadata": {},
   "outputs": [],
   "source": [
    "\"adam_epsilon\":                1e-08\n",
    "\"cache_dir\":                   ../ib-cache\n",
    "\"config_name\":                 \n",
    "\"data_dir\":                    ../indic-glue/amrita-paraphrase-exact\n",
    "\"dataset\":                     amrita-paraphrase-exact\n",
    "\"dev_lang\":                    hi\n",
    "\"do_predict\":                  True\n",
    "\"do_train\":                    True\n",
    "\"eval_batch_size\":             32\n",
    "\"example_type\":                text\n",
    "\"fp16\":                        False\n",
    "\"fp16_opt_level\":              O1\n",
    "\"gradient_accumulation_steps\": 1\n",
    "\"iglue_dir\":                   ../indic-glue\n",
    "\"labels\":                      \n",
    "\"lang\":                        hi\n",
    "\"learning_rate\":               2e-05\n",
    "\"max_grad_norm\":               1.0\n",
    "\"max_seq_length\":              256\n",
    "\"mode\":                        sequence-classification\n",
    "\"model\":                       ai4bharat/indic-bert\n",
    "\"model_name_or_path\":          ai4bharat/indic-bert\n",
    "\"n_gpu\":                       1\n",
    "\"n_tpu_cores\":                 0\n",
    "\"num_train_epochs\":            1\n",
    "\"output_dir\":                  ../outputs/8/amrita-paraphrase-exact/train-hi/model-ai4bharat-indic-bert\n",
    "\"output_mode\":                 regression\n",
    "\"overwrite_cache\":             False\n",
    "\"seed\":                        8\n",
    "\"test_lang\":                   hi\n",
    "\"tokenizer_name\":              \n",
    "\"train_batch_size\":            16\n",
    "\"train_lang\":                  hi\n",
    "\"warmup_steps\":                0\n",
    "\"weight_decay\":                0.0"
   ]
  },
  {
   "cell_type": "code",
   "execution_count": null,
   "metadata": {},
   "outputs": [],
   "source": []
  }
 ],
 "metadata": {
  "kernelspec": {
   "display_name": "Python 3",
   "language": "python",
   "name": "python3"
  },
  "language_info": {
   "codemirror_mode": {
    "name": "ipython",
    "version": 3
   },
   "file_extension": ".py",
   "mimetype": "text/x-python",
   "name": "python",
   "nbconvert_exporter": "python",
   "pygments_lexer": "ipython3",
   "version": "3.6.9"
  }
 },
 "nbformat": 4,
 "nbformat_minor": 4
}
