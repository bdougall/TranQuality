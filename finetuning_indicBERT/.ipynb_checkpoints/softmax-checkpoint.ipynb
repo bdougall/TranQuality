{
 "cells": [
  {
   "cell_type": "code",
   "execution_count": null,
   "metadata": {},
   "outputs": [],
   "source": []
  },
  {
   "cell_type": "code",
   "execution_count": 1,
   "metadata": {},
   "outputs": [],
   "source": [
    "from scipy.special import softmax"
   ]
  },
  {
   "cell_type": "code",
   "execution_count": 3,
   "metadata": {},
   "outputs": [],
   "source": [
    "import numpy as np"
   ]
  },
  {
   "cell_type": "code",
   "execution_count": 4,
   "metadata": {},
   "outputs": [],
   "source": [
    "x = np.array([[1, 0.5, 0.2, 3],\n",
    "              [1,  -1,   7, 3],\n",
    "              [2,  12,  13, 3]])"
   ]
  },
  {
   "cell_type": "code",
   "execution_count": 5,
   "metadata": {},
   "outputs": [],
   "source": [
    "m = softmax(x)"
   ]
  },
  {
   "cell_type": "code",
   "execution_count": 6,
   "metadata": {},
   "outputs": [
    {
     "data": {
      "text/plain": [
       "array([[4.48308990e-06, 2.71913148e-06, 2.01438214e-06, 3.31258028e-05],\n",
       "       [4.48308990e-06, 6.06720242e-07, 1.80860755e-03, 3.31258028e-05],\n",
       "       [1.21863018e-05, 2.68421160e-01, 7.29644362e-01, 3.31258028e-05]])"
      ]
     },
     "execution_count": 6,
     "metadata": {},
     "output_type": "execute_result"
    }
   ],
   "source": [
    "m"
   ]
  },
  {
   "cell_type": "code",
   "execution_count": 7,
   "metadata": {},
   "outputs": [],
   "source": [
    "x1 = np.array([1.641388059, -2.03511548])"
   ]
  },
  {
   "cell_type": "code",
   "execution_count": 8,
   "metadata": {},
   "outputs": [
    {
     "data": {
      "text/plain": [
       "array([0.97531353, 0.02468647])"
      ]
     },
     "execution_count": 8,
     "metadata": {},
     "output_type": "execute_result"
    }
   ],
   "source": [
    "softmax(x1)"
   ]
  },
  {
   "cell_type": "code",
   "execution_count": 9,
   "metadata": {},
   "outputs": [
    {
     "data": {
      "text/plain": [
       "array([0.43980822, 0.56019178])"
      ]
     },
     "execution_count": 9,
     "metadata": {},
     "output_type": "execute_result"
    }
   ],
   "source": [
    "softmax([-0.09541035444, 0.1465300769])"
   ]
  },
  {
   "cell_type": "code",
   "execution_count": 10,
   "metadata": {},
   "outputs": [],
   "source": [
    "import pandas as pd"
   ]
  },
  {
   "cell_type": "code",
   "execution_count": 15,
   "metadata": {},
   "outputs": [],
   "source": [
    "comb = pd.read_csv('combined.csv', sep='\\t')"
   ]
  },
  {
   "cell_type": "code",
   "execution_count": 16,
   "metadata": {},
   "outputs": [
    {
     "data": {
      "text/html": [
       "<div>\n",
       "<style scoped>\n",
       "    .dataframe tbody tr th:only-of-type {\n",
       "        vertical-align: middle;\n",
       "    }\n",
       "\n",
       "    .dataframe tbody tr th {\n",
       "        vertical-align: top;\n",
       "    }\n",
       "\n",
       "    .dataframe thead th {\n",
       "        text-align: right;\n",
       "    }\n",
       "</style>\n",
       "<table border=\"1\" class=\"dataframe\">\n",
       "  <thead>\n",
       "    <tr style=\"text-align: right;\">\n",
       "      <th></th>\n",
       "      <th>Unnamed: 0</th>\n",
       "      <th>Original_Sentence</th>\n",
       "      <th>mBART_Translated</th>\n",
       "      <th>IndicTrans_Translated</th>\n",
       "      <th>mBART_NP_logits</th>\n",
       "      <th>mBART_P_logits</th>\n",
       "      <th>model_pred_mbart</th>\n",
       "      <th>mbart_P_prob</th>\n",
       "      <th>mbart_NP_prob</th>\n",
       "      <th>IndicT_NP_logits</th>\n",
       "      <th>IndicT_P_logits</th>\n",
       "      <th>model_pred_IndicT</th>\n",
       "      <th>indicT_P_prob</th>\n",
       "      <th>indicT_NP_prob</th>\n",
       "      <th>selected_translation</th>\n",
       "      <th>mBART_avg</th>\n",
       "      <th>IT_avg</th>\n",
       "    </tr>\n",
       "  </thead>\n",
       "  <tbody>\n",
       "    <tr>\n",
       "      <th>0</th>\n",
       "      <td>0</td>\n",
       "      <td>प्रधानमंत्री ने कहा कि बाबा साहेब अम्बेडकर की ...</td>\n",
       "      <td>Prime Minister said Babasaheb Ambedkar has a k...</td>\n",
       "      <td>प्रधानमंत्री ने कहा कि करोड़ों लोगों के दिलों ...</td>\n",
       "      <td>1.641388</td>\n",
       "      <td>-2.035115</td>\n",
       "      <td>NP</td>\n",
       "      <td>0.024686</td>\n",
       "      <td>0.975314</td>\n",
       "      <td>-0.097524</td>\n",
       "      <td>0.144784</td>\n",
       "      <td>P</td>\n",
       "      <td>0.560282</td>\n",
       "      <td>0.439718</td>\n",
       "      <td>प्रधानमंत्री ने कहा कि करोड़ों लोगों के दिलों ...</td>\n",
       "      <td>-0.196864</td>\n",
       "      <td>0.024686</td>\n",
       "    </tr>\n",
       "    <tr>\n",
       "      <th>1</th>\n",
       "      <td>1</td>\n",
       "      <td>इस समारोह को आज बीजापुर में आयोजित करने के महत...</td>\n",
       "      <td>आज बीजापुर में इस समारोह को आयोजित करने के महत...</td>\n",
       "      <td>\"आज बीजापुर में इस कार्यक्रम के आयोजन के महत्व...</td>\n",
       "      <td>-0.095410</td>\n",
       "      <td>0.146530</td>\n",
       "      <td>P</td>\n",
       "      <td>0.560192</td>\n",
       "      <td>0.439808</td>\n",
       "      <td>-0.093321</td>\n",
       "      <td>0.144864</td>\n",
       "      <td>P</td>\n",
       "      <td>0.559266</td>\n",
       "      <td>0.440734</td>\n",
       "      <td>आज बीजापुर में इस समारोह को आयोजित करने के महत...</td>\n",
       "      <td>0.025560</td>\n",
       "      <td>0.560192</td>\n",
       "    </tr>\n",
       "    <tr>\n",
       "      <th>2</th>\n",
       "      <td>2</td>\n",
       "      <td>उन्होंने कहा कि इस कार्य को 2022 तक पूरा कर ले...</td>\n",
       "      <td>उन्होंने कहा कि लक्ष्य 2022 तक इस कार्य को पूर...</td>\n",
       "      <td>उन्होंने कहा कि इस कार्य को 2022 तक पूरा करने ...</td>\n",
       "      <td>-0.093650</td>\n",
       "      <td>0.141301</td>\n",
       "      <td>P</td>\n",
       "      <td>0.558469</td>\n",
       "      <td>0.441531</td>\n",
       "      <td>-0.093762</td>\n",
       "      <td>0.140794</td>\n",
       "      <td>P</td>\n",
       "      <td>0.558372</td>\n",
       "      <td>0.441628</td>\n",
       "      <td>उन्होंने कहा कि लक्ष्य 2022 तक इस कार्य को पूर...</td>\n",
       "      <td>0.023825</td>\n",
       "      <td>0.558469</td>\n",
       "    </tr>\n",
       "    <tr>\n",
       "      <th>3</th>\n",
       "      <td>3</td>\n",
       "      <td>प्रधानमंत्री ने कहा कि सरकार स्पष्ट लक्ष्यों औ...</td>\n",
       "      <td>प्रधानमंत्री ने कहा कि सरकार स्पष्ट लक्ष्यों औ...</td>\n",
       "      <td>प्रधानमंत्री ने कहा कि सरकार स्पष्ट लक्ष्यों औ...</td>\n",
       "      <td>-0.093835</td>\n",
       "      <td>0.141280</td>\n",
       "      <td>P</td>\n",
       "      <td>0.558509</td>\n",
       "      <td>0.441491</td>\n",
       "      <td>-0.095129</td>\n",
       "      <td>0.143009</td>\n",
       "      <td>P</td>\n",
       "      <td>0.559255</td>\n",
       "      <td>0.440745</td>\n",
       "      <td>प्रधानमंत्री ने कहा कि सरकार स्पष्ट लक्ष्यों औ...</td>\n",
       "      <td>0.023723</td>\n",
       "      <td>0.558509</td>\n",
       "    </tr>\n",
       "    <tr>\n",
       "      <th>4</th>\n",
       "      <td>4</td>\n",
       "      <td>उन्होंने इस संदर्भ में जन धन खाता खोलने, गरीबो...</td>\n",
       "      <td>इस संदर्भ में उन्होंने जनधन खाते खोलने, गरीबों...</td>\n",
       "      <td>\"इस संदर्भ में उन्होंने जन धन खाते खोलने, गरीब...</td>\n",
       "      <td>-0.095638</td>\n",
       "      <td>0.144878</td>\n",
       "      <td>P</td>\n",
       "      <td>0.559841</td>\n",
       "      <td>0.440159</td>\n",
       "      <td>-0.091816</td>\n",
       "      <td>0.139572</td>\n",
       "      <td>P</td>\n",
       "      <td>0.557590</td>\n",
       "      <td>0.442410</td>\n",
       "      <td>इस संदर्भ में उन्होंने जनधन खाते खोलने, गरीबों...</td>\n",
       "      <td>0.024620</td>\n",
       "      <td>0.559841</td>\n",
       "    </tr>\n",
       "  </tbody>\n",
       "</table>\n",
       "</div>"
      ],
      "text/plain": [
       "   Unnamed: 0                                  Original_Sentence  \\\n",
       "0           0  प्रधानमंत्री ने कहा कि बाबा साहेब अम्बेडकर की ...   \n",
       "1           1  इस समारोह को आज बीजापुर में आयोजित करने के महत...   \n",
       "2           2  उन्होंने कहा कि इस कार्य को 2022 तक पूरा कर ले...   \n",
       "3           3  प्रधानमंत्री ने कहा कि सरकार स्पष्ट लक्ष्यों औ...   \n",
       "4           4  उन्होंने इस संदर्भ में जन धन खाता खोलने, गरीबो...   \n",
       "\n",
       "                                    mBART_Translated  \\\n",
       "0  Prime Minister said Babasaheb Ambedkar has a k...   \n",
       "1  आज बीजापुर में इस समारोह को आयोजित करने के महत...   \n",
       "2  उन्होंने कहा कि लक्ष्य 2022 तक इस कार्य को पूर...   \n",
       "3  प्रधानमंत्री ने कहा कि सरकार स्पष्ट लक्ष्यों औ...   \n",
       "4  इस संदर्भ में उन्होंने जनधन खाते खोलने, गरीबों...   \n",
       "\n",
       "                               IndicTrans_Translated  mBART_NP_logits  \\\n",
       "0  प्रधानमंत्री ने कहा कि करोड़ों लोगों के दिलों ...         1.641388   \n",
       "1  \"आज बीजापुर में इस कार्यक्रम के आयोजन के महत्व...        -0.095410   \n",
       "2  उन्होंने कहा कि इस कार्य को 2022 तक पूरा करने ...        -0.093650   \n",
       "3  प्रधानमंत्री ने कहा कि सरकार स्पष्ट लक्ष्यों औ...        -0.093835   \n",
       "4  \"इस संदर्भ में उन्होंने जन धन खाते खोलने, गरीब...        -0.095638   \n",
       "\n",
       "   mBART_P_logits model_pred_mbart  mbart_P_prob  mbart_NP_prob  \\\n",
       "0       -2.035115               NP      0.024686       0.975314   \n",
       "1        0.146530                P      0.560192       0.439808   \n",
       "2        0.141301                P      0.558469       0.441531   \n",
       "3        0.141280                P      0.558509       0.441491   \n",
       "4        0.144878                P      0.559841       0.440159   \n",
       "\n",
       "   IndicT_NP_logits  IndicT_P_logits model_pred_IndicT  indicT_P_prob  \\\n",
       "0         -0.097524         0.144784                 P       0.560282   \n",
       "1         -0.093321         0.144864                 P       0.559266   \n",
       "2         -0.093762         0.140794                 P       0.558372   \n",
       "3         -0.095129         0.143009                 P       0.559255   \n",
       "4         -0.091816         0.139572                 P       0.557590   \n",
       "\n",
       "   indicT_NP_prob                               selected_translation  \\\n",
       "0        0.439718  प्रधानमंत्री ने कहा कि करोड़ों लोगों के दिलों ...   \n",
       "1        0.440734  आज बीजापुर में इस समारोह को आयोजित करने के महत...   \n",
       "2        0.441628  उन्होंने कहा कि लक्ष्य 2022 तक इस कार्य को पूर...   \n",
       "3        0.440745  प्रधानमंत्री ने कहा कि सरकार स्पष्ट लक्ष्यों औ...   \n",
       "4        0.442410  इस संदर्भ में उन्होंने जनधन खाते खोलने, गरीबों...   \n",
       "\n",
       "   mBART_avg    IT_avg  \n",
       "0  -0.196864  0.024686  \n",
       "1   0.025560  0.560192  \n",
       "2   0.023825  0.558469  \n",
       "3   0.023723  0.558509  \n",
       "4   0.024620  0.559841  "
      ]
     },
     "execution_count": 16,
     "metadata": {},
     "output_type": "execute_result"
    }
   ],
   "source": [
    "comb.head()"
   ]
  },
  {
   "cell_type": "code",
   "execution_count": 20,
   "metadata": {},
   "outputs": [
    {
     "data": {
      "text/plain": [
       "array([[ 1.64138806, -2.03511548],\n",
       "       [-0.09541035,  0.14653008],\n",
       "       [-0.09365008,  0.14130092],\n",
       "       ...,\n",
       "       [-0.08871607,  0.13478754],\n",
       "       [-0.09585362,  0.14207709],\n",
       "       [-0.09482839,  0.14174384]])"
      ]
     },
     "execution_count": 20,
     "metadata": {},
     "output_type": "execute_result"
    }
   ],
   "source": []
  },
  {
   "cell_type": "code",
   "execution_count": 22,
   "metadata": {},
   "outputs": [
    {
     "data": {
      "text/plain": [
       "array([[0.00516461, 0.00011648],\n",
       "       [0.0009094 , 0.00103209],\n",
       "       [0.000911  , 0.00102671],\n",
       "       ...,\n",
       "       [0.00091551, 0.00102004],\n",
       "       [0.000909  , 0.0010275 ],\n",
       "       [0.00090993, 0.00102716]])"
      ]
     },
     "execution_count": 22,
     "metadata": {},
     "output_type": "execute_result"
    }
   ],
   "source": [
    "softmax(np.array(comb[['mBART_NP_logits','mBART_P_logits']]), axis=0)"
   ]
  },
  {
   "cell_type": "code",
   "execution_count": null,
   "metadata": {},
   "outputs": [],
   "source": []
  }
 ],
 "metadata": {
  "kernelspec": {
   "display_name": "Python 3",
   "language": "python",
   "name": "python3"
  },
  "language_info": {
   "codemirror_mode": {
    "name": "ipython",
    "version": 3
   },
   "file_extension": ".py",
   "mimetype": "text/x-python",
   "name": "python",
   "nbconvert_exporter": "python",
   "pygments_lexer": "ipython3",
   "version": "3.6.9"
  }
 },
 "nbformat": 4,
 "nbformat_minor": 4
}
