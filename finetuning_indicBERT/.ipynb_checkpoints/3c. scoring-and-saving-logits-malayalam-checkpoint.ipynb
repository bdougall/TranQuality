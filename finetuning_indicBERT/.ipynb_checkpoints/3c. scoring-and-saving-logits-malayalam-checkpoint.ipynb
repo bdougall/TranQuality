{
 "cells": [
  {
   "cell_type": "code",
   "execution_count": null,
   "metadata": {},
   "outputs": [],
   "source": [
    "%cd indic-bert"
   ]
  },
  {
   "cell_type": "code",
   "execution_count": null,
   "metadata": {},
   "outputs": [],
   "source": [
    "import glob\n",
    "import os"
   ]
  },
  {
   "cell_type": "code",
   "execution_count": null,
   "metadata": {},
   "outputs": [],
   "source": [
    "from fine_tune.modules import get_modules\n",
    "from fine_tune.data import load_dataset\n",
    "from fine_tune.data.examples import *\n",
    "from fine_tune.modules import base"
   ]
  },
  {
   "cell_type": "code",
   "execution_count": null,
   "metadata": {},
   "outputs": [],
   "source": [
    "import pandas as pd\n",
    "import numpy as np\n",
    "np.set_printoptions(precision=5)"
   ]
  },
  {
   "cell_type": "code",
   "execution_count": null,
   "metadata": {},
   "outputs": [],
   "source": [
    "from transformers import (\n",
    "    AdamW,\n",
    "    AutoConfig,\n",
    "    AutoModel,\n",
    "    AutoModelForSequenceClassification,\n",
    "    AutoTokenizer,\n",
    "    get_linear_schedule_with_warmup,\n",
    ")"
   ]
  },
  {
   "cell_type": "code",
   "execution_count": null,
   "metadata": {},
   "outputs": [],
   "source": [
    "def _softmax(x1, x2, tog=0):\n",
    "    a = np.exp([x1,x2])/np.sum(np.exp([x1,x2]))\n",
    "    if tog == 1:\n",
    "        return a[0]\n",
    "    else:\n",
    "        return a[1]\n",
    "\n",
    "def apply_softmax(df, tog):\n",
    "    return df.apply(lambda row: _softmax(row[0], row[1], tog), axis=1)"
   ]
  },
  {
   "cell_type": "code",
   "execution_count": null,
   "metadata": {},
   "outputs": [],
   "source": [
    "hparams = {\n",
    "    'dataset': 'amrita-paraphrase-exact', \n",
    "    'model': 'ai4bharat/indic-bert', \n",
    "    'config_name': '', \n",
    "    'tokenizer_name': '', \n",
    "    'max_seq_length': 256, \n",
    "    'iglue_dir': '../indic-glue', \n",
    "    'overwrite_cache': True, \n",
    "    'cache_dir': '../ib-cache', \n",
    "    'fp16': False, \n",
    "    'fp16_opt_level': 'O1', \n",
    "    'n_gpu': 1, \n",
    "    'n_tpu_cores': 0, \n",
    "    'max_grad_norm': 1.0, \n",
    "    'do_train': True, \n",
    "    'do_predict': True, \n",
    "    'gradient_accumulation_steps': 1,\n",
    "    'seed': 8, \n",
    "    'learning_rate': 2e-05, \n",
    "    'weight_decay': 0.0, \n",
    "    'adam_epsilon': 1e-08, \n",
    "    'warmup_steps': 0, \n",
    "    'num_train_epochs': 1, \n",
    "    'train_batch_size': 16, \n",
    "    'eval_batch_size': 32, \n",
    "    'labels': '', \n",
    "    'model_name_or_path': 'ai4bharat/indic-bert', \n",
    "    'data_dir': '../indic-glue/amrita-paraphrase-exact', \n",
    "    'mode': 'sequence-classification', \n",
    "    'output_mode': 'regression', #'classification', \n",
    "    'example_type': 'text', \n",
    "    'num_labels': 2\n",
    "}"
   ]
  },
  {
   "cell_type": "code",
   "execution_count": null,
   "metadata": {},
   "outputs": [],
   "source": [
    "### Set up parameters for malayalam\n",
    "hparams['out_dir'] = '../outputs/5/'\n",
    "hparams['lang'] = 'ma' \n",
    "hparams['train_lang'] = 'ma'\n",
    "hparams['dev_lang'] = 'ma'\n",
    "hparams['test_lang'] = 'ma'\n",
    "hparams['output_dir'] = '{}amrita-paraphrase-exact/train-{}/model-ai4bharat-indic-bert'.format(hparams['out_dir'],hparams['lang'] ) "
   ]
  },
  {
   "cell_type": "code",
   "execution_count": null,
   "metadata": {},
   "outputs": [],
   "source": [
    "config_name = hparams['config_name'] or hparams['model_name_or_path']\n",
    "args = {'num_labels': hparams['num_labels']}\n",
    "config = AutoConfig.from_pretrained(\n",
    "    config_name,\n",
    "    **args,\n",
    "    cache_dir=hparams['cache_dir']\n",
    ")"
   ]
  },
  {
   "cell_type": "markdown",
   "metadata": {},
   "source": [
    "## Score mBART Tamil"
   ]
  },
  {
   "cell_type": "code",
   "execution_count": null,
   "metadata": {},
   "outputs": [],
   "source": [
    "! rm ../indic-glue/amrita-paraphrase-exact/cached*"
   ]
  },
  {
   "cell_type": "code",
   "execution_count": null,
   "metadata": {},
   "outputs": [],
   "source": [
    "!cp ../indic-glue/amrita-paraphrase-exact/ma/ma-bart-test.csv ../indic-glue/amrita-paraphrase-exact/ma/ma-test.csv "
   ]
  },
  {
   "cell_type": "code",
   "execution_count": null,
   "metadata": {},
   "outputs": [],
   "source": [
    "## Check if you have the right file\n",
    "mbart_test = pd.read_csv('../indic-glue/amrita-paraphrase-exact/ma/ma-test.csv', header=None)\n",
    "mbart_test.shape"
   ]
  },
  {
   "cell_type": "code",
   "execution_count": null,
   "metadata": {},
   "outputs": [],
   "source": [
    "# module_name = 'text_classification'\n",
    "\n",
    "text_classification_trainer = get_modules('text_classification')\n",
    "text_classification_trainer"
   ]
  },
  {
   "cell_type": "code",
   "execution_count": null,
   "metadata": {
    "scrolled": false
   },
   "outputs": [],
   "source": [
    "tc_trainer_instance = text_classification_trainer(hparams)\n",
    "checkpoints = list(sorted(glob.glob(os.path.join(hparams['output_dir'], 'checkpointepoch=*.ckpt'), recursive=True)))\n",
    "trained_model = tc_trainer_instance.load_from_checkpoint(checkpoints[-1])"
   ]
  },
  {
   "cell_type": "code",
   "execution_count": null,
   "metadata": {
    "scrolled": true
   },
   "outputs": [],
   "source": [
    "trainer = base.create_trainer(trained_model, hparams) #BaseModule(hparams)"
   ]
  },
  {
   "cell_type": "code",
   "execution_count": null,
   "metadata": {},
   "outputs": [],
   "source": [
    "trainer.test(trained_model)"
   ]
  },
  {
   "cell_type": "markdown",
   "metadata": {},
   "source": [
    "## Load the scores for mBART translations."
   ]
  },
  {
   "cell_type": "code",
   "execution_count": null,
   "metadata": {},
   "outputs": [],
   "source": [
    "hparams['results_file'] = '{}{}/train-{}/model-ai4bharat-indic-bert/test_results_{}.csv'.format(hparams['out_dir'],  hparams['dataset'] , hparams['lang'] , hparams['lang']) \n",
    "hparams['results_file']"
   ]
  },
  {
   "cell_type": "code",
   "execution_count": null,
   "metadata": {},
   "outputs": [],
   "source": [
    "mbart = pd.read_csv(hparams['results_file'], header=None)"
   ]
  },
  {
   "cell_type": "code",
   "execution_count": null,
   "metadata": {},
   "outputs": [],
   "source": [
    "mbart.shape"
   ]
  },
  {
   "cell_type": "code",
   "execution_count": null,
   "metadata": {},
   "outputs": [],
   "source": [
    "mbart.head(5)"
   ]
  },
  {
   "cell_type": "markdown",
   "metadata": {},
   "source": [
    "## Score IndicTrans Tamil"
   ]
  },
  {
   "cell_type": "code",
   "execution_count": null,
   "metadata": {},
   "outputs": [],
   "source": [
    "! rm ../indic-glue/amrita-paraphrase-exact/cached*"
   ]
  },
  {
   "cell_type": "code",
   "execution_count": null,
   "metadata": {},
   "outputs": [],
   "source": [
    "!cp ../indic-glue/amrita-paraphrase-exact/ma/ma-indictrans-test.csv ../indic-glue/amrita-paraphrase-exact/ma/ma-test.csv \n"
   ]
  },
  {
   "cell_type": "code",
   "execution_count": null,
   "metadata": {},
   "outputs": [],
   "source": [
    "## Check if you have the right file\n",
    "mbart_test = pd.read_csv('../indic-glue/amrita-paraphrase-exact/ma/ma-test.csv', header=None)\n",
    "mbart_test.shape"
   ]
  },
  {
   "cell_type": "code",
   "execution_count": null,
   "metadata": {},
   "outputs": [],
   "source": [
    "# module_name = 'text_classification'\n",
    "\n",
    "text_classification_trainer = get_modules('text_classification')\n",
    "text_classification_trainer"
   ]
  },
  {
   "cell_type": "code",
   "execution_count": null,
   "metadata": {
    "scrolled": true
   },
   "outputs": [],
   "source": [
    "tc_trainer_instance = text_classification_trainer(hparams)\n",
    "checkpoints = list(sorted(glob.glob(os.path.join(hparams['output_dir'], 'checkpointepoch=*.ckpt'), recursive=True)))\n",
    "trained_model = tc_trainer_instance.load_from_checkpoint(checkpoints[-1])"
   ]
  },
  {
   "cell_type": "code",
   "execution_count": null,
   "metadata": {
    "scrolled": true
   },
   "outputs": [],
   "source": [
    "trainer = base.create_trainer(trained_model, hparams) #BaseModule(hparams)"
   ]
  },
  {
   "cell_type": "code",
   "execution_count": null,
   "metadata": {
    "scrolled": true
   },
   "outputs": [],
   "source": [
    "trainer.test(trained_model)"
   ]
  },
  {
   "cell_type": "code",
   "execution_count": null,
   "metadata": {},
   "outputs": [],
   "source": []
  },
  {
   "cell_type": "markdown",
   "metadata": {},
   "source": [
    "## Load the scores for IndicTrans translations."
   ]
  },
  {
   "cell_type": "code",
   "execution_count": null,
   "metadata": {},
   "outputs": [],
   "source": [
    "hparams['results_file'] = '{}{}/train-{}/model-ai4bharat-indic-bert/test_results_{}.csv'.format(hparams['out_dir'],  hparams['dataset'] , hparams['lang'] , hparams['lang']) \n",
    "hparams['results_file']"
   ]
  },
  {
   "cell_type": "code",
   "execution_count": null,
   "metadata": {},
   "outputs": [],
   "source": [
    "indictrans = pd.read_csv(hparams['results_file'], header=None)"
   ]
  },
  {
   "cell_type": "code",
   "execution_count": null,
   "metadata": {},
   "outputs": [],
   "source": [
    "indictrans.shape"
   ]
  },
  {
   "cell_type": "code",
   "execution_count": null,
   "metadata": {},
   "outputs": [],
   "source": [
    "indictrans.head(5)"
   ]
  },
  {
   "cell_type": "markdown",
   "metadata": {},
   "source": [
    "## Combine logits, original sentence, and translations"
   ]
  },
  {
   "cell_type": "code",
   "execution_count": null,
   "metadata": {},
   "outputs": [],
   "source": [
    "indic_orig = pd.read_csv('../indic-glue/amrita-paraphrase-exact/ma/ma-indictrans-test.csv', header=None)"
   ]
  },
  {
   "cell_type": "code",
   "execution_count": null,
   "metadata": {},
   "outputs": [],
   "source": [
    "indic_orig.head()"
   ]
  },
  {
   "cell_type": "code",
   "execution_count": null,
   "metadata": {},
   "outputs": [],
   "source": [
    "bart_orig = pd.read_csv('../indic-glue/amrita-paraphrase-exact/ma/ma-bart-test.csv', header=None)"
   ]
  },
  {
   "cell_type": "code",
   "execution_count": null,
   "metadata": {},
   "outputs": [],
   "source": [
    "bart_orig.head()"
   ]
  },
  {
   "cell_type": "code",
   "execution_count": null,
   "metadata": {},
   "outputs": [],
   "source": [
    "combined = bart_orig[[0, 1]]"
   ]
  },
  {
   "cell_type": "code",
   "execution_count": null,
   "metadata": {},
   "outputs": [],
   "source": [
    "combined.columns =['Original_Sentence', 'mBART_Translated', ]"
   ]
  },
  {
   "cell_type": "code",
   "execution_count": null,
   "metadata": {},
   "outputs": [],
   "source": [
    "combined['IndicTrans_Translated'] = indic_orig[[1]]"
   ]
  },
  {
   "cell_type": "code",
   "execution_count": null,
   "metadata": {},
   "outputs": [],
   "source": [
    "combined.head()"
   ]
  },
  {
   "cell_type": "code",
   "execution_count": null,
   "metadata": {},
   "outputs": [],
   "source": [
    "# combined = pd.concat([bart_orig['sentence_1'], b_trans['sentence_2']], axis=1, keys=['sentence_1', 'sentence_2'])"
   ]
  },
  {
   "cell_type": "code",
   "execution_count": null,
   "metadata": {},
   "outputs": [],
   "source": [
    "combined['mBART_NP_prob'] = mbart[[0]]\n",
    "combined['mBART_P_prob'] = mbart[[1]]\n",
    "combined['model_pred_mbart'] = ['NP' if x==0 else 'P' for x in mbart[2]]\n",
    "combined['mbart_P'] = apply_softmax(mbart, 0)\n",
    "combined['mbart_NP'] = apply_softmax(mbart, 1)"
   ]
  },
  {
   "cell_type": "code",
   "execution_count": null,
   "metadata": {
    "scrolled": true
   },
   "outputs": [],
   "source": [
    "combined.head()"
   ]
  },
  {
   "cell_type": "code",
   "execution_count": null,
   "metadata": {},
   "outputs": [],
   "source": [
    "combined['IndicT_NP_prob'] = indictrans[[0]]\n",
    "combined['IndicT_P_prob'] = indictrans[[1]]\n",
    "combined['model_pred_IndicT'] = ['NP' if x==0 else 'P' for x in indictrans[2]]\n",
    "combined['indicT_P'] = apply_softmax(indictrans, 0)\n",
    "combined['indicT_NP'] = apply_softmax(indictrans, 1)"
   ]
  },
  {
   "cell_type": "code",
   "execution_count": null,
   "metadata": {},
   "outputs": [],
   "source": [
    "combined.head()"
   ]
  },
  {
   "cell_type": "code",
   "execution_count": null,
   "metadata": {},
   "outputs": [],
   "source": [
    "def select_trasnlation(row):\n",
    "    if row['indicT_P']>=row['mbart_P']:\n",
    "        return row['IndicTrans_Translated']\n",
    "    else:\n",
    "        return row['mBART_Translated']\n",
    "\n",
    "combined['selected_translation'] = combined.apply(lambda row : select_trasnlation(row), axis=1) "
   ]
  },
  {
   "cell_type": "code",
   "execution_count": null,
   "metadata": {},
   "outputs": [],
   "source": [
    "combined['mBART_avg'] = combined.iloc[:,3:5].mean(axis=1)"
   ]
  },
  {
   "cell_type": "code",
   "execution_count": null,
   "metadata": {},
   "outputs": [],
   "source": [
    "combined.head()"
   ]
  },
  {
   "cell_type": "code",
   "execution_count": null,
   "metadata": {},
   "outputs": [],
   "source": [
    "combined['IT_avg'] = combined.iloc[:,5:7].mean(axis=1)"
   ]
  },
  {
   "cell_type": "code",
   "execution_count": null,
   "metadata": {},
   "outputs": [],
   "source": [
    "combined.head()"
   ]
  },
  {
   "cell_type": "code",
   "execution_count": null,
   "metadata": {},
   "outputs": [],
   "source": [
    "combined.to_csv('../combined-ma.csv', sep='\\t', encoding='utf-8')"
   ]
  },
  {
   "cell_type": "code",
   "execution_count": null,
   "metadata": {},
   "outputs": [],
   "source": [
    "np.savetxt('../original_sentence-ma.txt', combined['Original_Sentence'], fmt='%s')\n",
    "np.savetxt('../mBART_translated-ma.txt', combined['mBART_Translated'], fmt='%s')\n",
    "np.savetxt('../indictrans_translated-ma.txt', combined['IndicTrans_Translated'], fmt='%s')\n",
    "np.savetxt('../selected_translation-ma.txt', combined['selected_translation'], fmt='%s')"
   ]
  },
  {
   "cell_type": "code",
   "execution_count": null,
   "metadata": {},
   "outputs": [],
   "source": [
    "!cp ../original_sentence-ma.txt ../../bleu_test/testing/indicTrans/\n",
    "!cp ../mBART_translated-ma.txt  ../../bleu_test/testing/indicTrans/\n",
    "!cp ../indictrans_translated-ma.txt  ../../bleu_test/testing/indicTrans/\n",
    "!cp ../selected_translation-ma.txt  ../../bleu_test/testing/indicTrans/"
   ]
  },
  {
   "cell_type": "code",
   "execution_count": null,
   "metadata": {},
   "outputs": [],
   "source": [
    "!ls -lt ../../bleu_test/testing/indicTrans/*.txt "
   ]
  },
  {
   "cell_type": "markdown",
   "metadata": {},
   "source": [
    "# Measure the semantic similarity"
   ]
  },
  {
   "cell_type": "code",
   "execution_count": null,
   "metadata": {},
   "outputs": [],
   "source": [
    "# # Install the necessary libraries\n",
    "# !pip install sacremoses pandas mock sacrebleu tensorboardX pyarrow indic-nlp-library\n",
    "# # Install fairseq from source\n",
    "# !git clone https://github.com/pytorch/fairseq.git\n",
    "# %cd fairseq\n",
    "# # !git checkout da9eaba12d82b9bfc1442f0e2c6fc1b895f4d35d\n",
    "# !pip install --editable ./\n",
    "# %cd .."
   ]
  },
  {
   "cell_type": "code",
   "execution_count": null,
   "metadata": {},
   "outputs": [],
   "source": [
    "%cd ../../bleu_test/testing/indicTrans/"
   ]
  },
  {
   "cell_type": "code",
   "execution_count": null,
   "metadata": {},
   "outputs": [],
   "source": [
    "!sacrebleu original_sentence-ma.txt -i mBART_translated-ma.txt | jq -r .score"
   ]
  },
  {
   "cell_type": "code",
   "execution_count": null,
   "metadata": {},
   "outputs": [],
   "source": [
    "!sacrebleu original_sentence-ma.txt -i indictrans_translated-ma.txt | jq -r .score"
   ]
  },
  {
   "cell_type": "code",
   "execution_count": null,
   "metadata": {},
   "outputs": [],
   "source": [
    "!sacrebleu original_sentence-ma.txt -i selected_translation-ma.txt   | jq -r .score"
   ]
  },
  {
   "cell_type": "code",
   "execution_count": null,
   "metadata": {},
   "outputs": [],
   "source": []
  },
  {
   "cell_type": "code",
   "execution_count": null,
   "metadata": {},
   "outputs": [],
   "source": []
  },
  {
   "cell_type": "code",
   "execution_count": null,
   "metadata": {},
   "outputs": [],
   "source": []
  },
  {
   "cell_type": "code",
   "execution_count": null,
   "metadata": {},
   "outputs": [],
   "source": []
  }
 ],
 "metadata": {
  "kernelspec": {
   "display_name": "Python 3",
   "language": "python",
   "name": "python3"
  },
  "language_info": {
   "codemirror_mode": {
    "name": "ipython",
    "version": 3
   },
   "file_extension": ".py",
   "mimetype": "text/x-python",
   "name": "python",
   "nbconvert_exporter": "python",
   "pygments_lexer": "ipython3",
   "version": "3.6.9"
  }
 },
 "nbformat": 4,
 "nbformat_minor": 4
}
