{
 "cells": [
  {
   "cell_type": "code",
   "execution_count": null,
   "metadata": {},
   "outputs": [],
   "source": [
    "!git clone https://github.com/AI4Bharat/indic-bert"
   ]
  },
  {
   "cell_type": "code",
   "execution_count": null,
   "metadata": {},
   "outputs": [],
   "source": [
    "%cd indic-bert"
   ]
  },
  {
   "cell_type": "code",
   "execution_count": null,
   "metadata": {},
   "outputs": [],
   "source": [
    "!pip install --upgrade pip"
   ]
  },
  {
   "cell_type": "code",
   "execution_count": null,
   "metadata": {},
   "outputs": [],
   "source": [
    "!pip3 install pandas"
   ]
  },
  {
   "cell_type": "code",
   "execution_count": null,
   "metadata": {},
   "outputs": [],
   "source": [
    "!pip3 install -r indic-bert/requirements.txt"
   ]
  },
  {
   "cell_type": "code",
   "execution_count": null,
   "metadata": {},
   "outputs": [],
   "source": [
    "!python --version"
   ]
  },
  {
   "cell_type": "code",
   "execution_count": null,
   "metadata": {},
   "outputs": [],
   "source": [
    "%cd finetuning #pp_finetuning"
   ]
  },
  {
   "cell_type": "code",
   "execution_count": null,
   "metadata": {},
   "outputs": [],
   "source": [
    "!mkdir indic-glue outputs"
   ]
  },
  {
   "cell_type": "code",
   "execution_count": null,
   "metadata": {},
   "outputs": [],
   "source": [
    "%cd .."
   ]
  },
  {
   "cell_type": "markdown",
   "metadata": {},
   "source": [
    "### Make sure you are in `/w266/project/<proj_root>` before running next cell"
   ]
  },
  {
   "cell_type": "code",
   "execution_count": null,
   "metadata": {},
   "outputs": [],
   "source": [
    "## \n",
    "## Epochs - 5, 10, 20\n",
    "## Learning rate: 2e-3, 2e-4, 2e-5"
   ]
  },
  {
   "cell_type": "code",
   "execution_count": null,
   "metadata": {},
   "outputs": [],
   "source": [
    "%cd finetuning"
   ]
  },
  {
   "cell_type": "code",
   "execution_count": null,
   "metadata": {},
   "outputs": [],
   "source": [
    "for i in range(100):\n",
    "    outdir = p / str(i)\n",
    "    Path(outdir).mkdir(parents=True, exist_ok=True)"
   ]
  },
  {
   "cell_type": "code",
   "execution_count": null,
   "metadata": {},
   "outputs": [],
   "source": [
    "import numpy as np\n",
    "import pandas as pd\n",
    "seed = 2\n",
    "df = pd.read_csv('indic-glue/amrita-paraphrase-exact/ta/ta-train.csv', header=None)\n",
    "df.to_csv('indic-glue/amrita-paraphrase-exact/ta/archive/' + 'pre_' + str(seed) + '_ta-train.csv', index=False, header=False)\n",
    "\n",
    "df = df.reindex(np.random.RandomState(seed=seed).permutation(df.index))\n",
    "df.reset_index(drop=True).to_csv('indic-glue/amrita-paraphrase-exact/ta/ta-train.csv', index=False, header=False)\n"
   ]
  },
  {
   "cell_type": "code",
   "execution_count": null,
   "metadata": {},
   "outputs": [],
   "source": [
    "import pathlib as p"
   ]
  },
  {
   "cell_type": "code",
   "execution_count": 1,
   "metadata": {
    "scrolled": false
   },
   "outputs": [
    {
     "name": "stdout",
     "output_type": "stream",
     "text": [
      "/w266/w266/project/finetuning/indic-bert\n"
     ]
    },
    {
     "ename": "FileNotFoundError",
     "evalue": "[Errno 2] No such file or directory: '../outputs/0/ma'",
     "output_type": "error",
     "traceback": [
      "\u001b[0;31m---------------------------------------------------------------------------\u001b[0m",
      "\u001b[0;31mFileNotFoundError\u001b[0m                         Traceback (most recent call last)",
      "\u001b[0;32m<ipython-input-1-deeb0f238d6e>\u001b[0m in \u001b[0;36m<module>\u001b[0;34m\u001b[0m\n\u001b[1;32m     39\u001b[0m     \u001b[0;32mreturn\u001b[0m\u001b[0;34m\u001b[0m\u001b[0;34m\u001b[0m\u001b[0m\n\u001b[1;32m     40\u001b[0m \u001b[0;34m\u001b[0m\u001b[0m\n\u001b[0;32m---> 41\u001b[0;31m \u001b[0mftune\u001b[0m\u001b[0;34m(\u001b[0m\u001b[0;34m)\u001b[0m\u001b[0;34m\u001b[0m\u001b[0;34m\u001b[0m\u001b[0m\n\u001b[0m\u001b[1;32m     42\u001b[0m \u001b[0;34m\u001b[0m\u001b[0m\n\u001b[1;32m     43\u001b[0m \u001b[0mget_ipython\u001b[0m\u001b[0;34m(\u001b[0m\u001b[0;34m)\u001b[0m\u001b[0;34m.\u001b[0m\u001b[0mrun_line_magic\u001b[0m\u001b[0;34m(\u001b[0m\u001b[0;34m'cd'\u001b[0m\u001b[0;34m,\u001b[0m \u001b[0;34m'..'\u001b[0m\u001b[0;34m)\u001b[0m\u001b[0;34m\u001b[0m\u001b[0;34m\u001b[0m\u001b[0m\n",
      "\u001b[0;32m<ipython-input-1-deeb0f238d6e>\u001b[0m in \u001b[0;36mftune\u001b[0;34m()\u001b[0m\n\u001b[1;32m     34\u001b[0m             \u001b[0margvec\u001b[0m\u001b[0;34m[\u001b[0m\u001b[0;36m11\u001b[0m\u001b[0;34m]\u001b[0m \u001b[0;34m=\u001b[0m \u001b[0;34m'../outputs/'\u001b[0m \u001b[0;34m+\u001b[0m \u001b[0mstr\u001b[0m\u001b[0;34m(\u001b[0m\u001b[0mi\u001b[0m\u001b[0;34m)\u001b[0m\u001b[0;34m\u001b[0m\u001b[0;34m\u001b[0m\u001b[0m\n\u001b[1;32m     35\u001b[0m             \u001b[0moutdir\u001b[0m \u001b[0;34m=\u001b[0m \u001b[0mp\u001b[0m \u001b[0;34m/\u001b[0m \u001b[0mstr\u001b[0m\u001b[0;34m(\u001b[0m\u001b[0mi\u001b[0m\u001b[0;34m)\u001b[0m \u001b[0;34m/\u001b[0m \u001b[0mstr\u001b[0m\u001b[0;34m(\u001b[0m\u001b[0ml\u001b[0m\u001b[0;34m)\u001b[0m\u001b[0;34m\u001b[0m\u001b[0;34m\u001b[0m\u001b[0m\n\u001b[0;32m---> 36\u001b[0;31m             \u001b[0moutdir\u001b[0m\u001b[0;34m.\u001b[0m\u001b[0mrmdir\u001b[0m\u001b[0;34m(\u001b[0m\u001b[0;34m)\u001b[0m\u001b[0;34m\u001b[0m\u001b[0;34m\u001b[0m\u001b[0m\n\u001b[0m\u001b[1;32m     37\u001b[0m             \u001b[0mPath\u001b[0m\u001b[0;34m(\u001b[0m\u001b[0moutdir\u001b[0m\u001b[0;34m)\u001b[0m\u001b[0;34m.\u001b[0m\u001b[0mmkdir\u001b[0m\u001b[0;34m(\u001b[0m\u001b[0mparents\u001b[0m\u001b[0;34m=\u001b[0m\u001b[0;32mTrue\u001b[0m\u001b[0;34m,\u001b[0m \u001b[0mexist_ok\u001b[0m\u001b[0;34m=\u001b[0m\u001b[0;32mTrue\u001b[0m\u001b[0;34m)\u001b[0m\u001b[0;34m\u001b[0m\u001b[0;34m\u001b[0m\u001b[0m\n\u001b[1;32m     38\u001b[0m             \u001b[0mfinetune_main\u001b[0m\u001b[0;34m(\u001b[0m\u001b[0margvec\u001b[0m\u001b[0;34m)\u001b[0m\u001b[0;34m\u001b[0m\u001b[0;34m\u001b[0m\u001b[0m\n",
      "\u001b[0;32m/usr/lib/python3.6/pathlib.py\u001b[0m in \u001b[0;36mrmdir\u001b[0;34m(self)\u001b[0m\n\u001b[1;32m   1290\u001b[0m         \u001b[0;32mif\u001b[0m \u001b[0mself\u001b[0m\u001b[0;34m.\u001b[0m\u001b[0m_closed\u001b[0m\u001b[0;34m:\u001b[0m\u001b[0;34m\u001b[0m\u001b[0;34m\u001b[0m\u001b[0m\n\u001b[1;32m   1291\u001b[0m             \u001b[0mself\u001b[0m\u001b[0;34m.\u001b[0m\u001b[0m_raise_closed\u001b[0m\u001b[0;34m(\u001b[0m\u001b[0;34m)\u001b[0m\u001b[0;34m\u001b[0m\u001b[0;34m\u001b[0m\u001b[0m\n\u001b[0;32m-> 1292\u001b[0;31m         \u001b[0mself\u001b[0m\u001b[0;34m.\u001b[0m\u001b[0m_accessor\u001b[0m\u001b[0;34m.\u001b[0m\u001b[0mrmdir\u001b[0m\u001b[0;34m(\u001b[0m\u001b[0mself\u001b[0m\u001b[0;34m)\u001b[0m\u001b[0;34m\u001b[0m\u001b[0;34m\u001b[0m\u001b[0m\n\u001b[0m\u001b[1;32m   1293\u001b[0m \u001b[0;34m\u001b[0m\u001b[0m\n\u001b[1;32m   1294\u001b[0m     \u001b[0;32mdef\u001b[0m \u001b[0mlstat\u001b[0m\u001b[0;34m(\u001b[0m\u001b[0mself\u001b[0m\u001b[0;34m)\u001b[0m\u001b[0;34m:\u001b[0m\u001b[0;34m\u001b[0m\u001b[0;34m\u001b[0m\u001b[0m\n",
      "\u001b[0;32m/usr/lib/python3.6/pathlib.py\u001b[0m in \u001b[0;36mwrapped\u001b[0;34m(pathobj, *args)\u001b[0m\n\u001b[1;32m    385\u001b[0m         \u001b[0;34m@\u001b[0m\u001b[0mfunctools\u001b[0m\u001b[0;34m.\u001b[0m\u001b[0mwraps\u001b[0m\u001b[0;34m(\u001b[0m\u001b[0mstrfunc\u001b[0m\u001b[0;34m)\u001b[0m\u001b[0;34m\u001b[0m\u001b[0;34m\u001b[0m\u001b[0m\n\u001b[1;32m    386\u001b[0m         \u001b[0;32mdef\u001b[0m \u001b[0mwrapped\u001b[0m\u001b[0;34m(\u001b[0m\u001b[0mpathobj\u001b[0m\u001b[0;34m,\u001b[0m \u001b[0;34m*\u001b[0m\u001b[0margs\u001b[0m\u001b[0;34m)\u001b[0m\u001b[0;34m:\u001b[0m\u001b[0;34m\u001b[0m\u001b[0;34m\u001b[0m\u001b[0m\n\u001b[0;32m--> 387\u001b[0;31m             \u001b[0;32mreturn\u001b[0m \u001b[0mstrfunc\u001b[0m\u001b[0;34m(\u001b[0m\u001b[0mstr\u001b[0m\u001b[0;34m(\u001b[0m\u001b[0mpathobj\u001b[0m\u001b[0;34m)\u001b[0m\u001b[0;34m,\u001b[0m \u001b[0;34m*\u001b[0m\u001b[0margs\u001b[0m\u001b[0;34m)\u001b[0m\u001b[0;34m\u001b[0m\u001b[0;34m\u001b[0m\u001b[0m\n\u001b[0m\u001b[1;32m    388\u001b[0m         \u001b[0;32mreturn\u001b[0m \u001b[0mstaticmethod\u001b[0m\u001b[0;34m(\u001b[0m\u001b[0mwrapped\u001b[0m\u001b[0;34m)\u001b[0m\u001b[0;34m\u001b[0m\u001b[0;34m\u001b[0m\u001b[0m\n\u001b[1;32m    389\u001b[0m \u001b[0;34m\u001b[0m\u001b[0m\n",
      "\u001b[0;31mFileNotFoundError\u001b[0m: [Errno 2] No such file or directory: '../outputs/0/ma'"
     ]
    }
   ],
   "source": [
    "# %rm -dr outputs0 outputs1\n",
    "%cd indic-bert\n",
    "\n",
    "import os\n",
    "from pathlib import Path\n",
    "# dir_path = os.getcwd()\n",
    "# print('Curr Dir = ' + dir_path )\n",
    "\n",
    "from fine_tune.cli import main as finetune_main\n",
    "\n",
    "argvec = ['--lang', 'ma',\n",
    "          '--train_lang', 'ma',\n",
    "          '--dataset', 'amrita-paraphrase-exact', \n",
    "          '--model', 'ai4bharat/indic-bert',\n",
    "          '--iglue_dir', '../indic-glue/',\n",
    "          '--output_dir', '../outputs',\n",
    "          '--max_seq_length', '256', #'128', # '512',\n",
    "          '--learning_rate', '2e-5',\n",
    "          '--num_train_epochs', '1',\n",
    "          '--cache_dir', '../ib-cache',\n",
    "          '--train_batch_size', '16',\n",
    "          '--seed', '2',\n",
    "\n",
    "]\n",
    "\n",
    "p = Path('../outputs')\n",
    "\n",
    "def ftune():\n",
    "    for i in range(10):\n",
    "        for l in ['ma', 'hi', 'ta']:\n",
    "            argvec[-1] = str(i) #change seed\n",
    "            argvec[1] = l\n",
    "            argvec[3] = l\n",
    "            argvec[11] = '../outputs/' + str(i)\n",
    "            outdir = p / str(i) / str(l)\n",
    "#             outdir.rmdir()\n",
    "            Path(outdir).mkdir(parents=True, exist_ok=True)\n",
    "            finetune_main(argvec)\n",
    "    return\n",
    "\n",
    "ftune()\n",
    "\n",
    "%cd .."
   ]
  },
  {
   "cell_type": "code",
   "execution_count": null,
   "metadata": {},
   "outputs": [],
   "source": [
    "'--max_seq_length', '512', #'256',#'128', # \n",
    "'--learning_rate', '2e-5',\n",
    "'--num_train_epochs', '2',\n",
    "'--cache_dir', '../ib-cache',\n",
    "'--train_batch_size', '8',\n",
    "'--seed', '2',\n",
    "\n",
    "\n",
    "\n",
    "--------------------------------------------------------------------------------\n",
    "TEST RESULTS\n",
    "{'acc': 0.8288888888888889,\n",
    " 'avg_test_loss': 0.781082034111023,\n",
    " 'val_loss': 0.781082034111023}\n",
    "--------------------------------------------------------------------------------\n",
    "{'loss': tensor(0.0031, device='cuda:0'), 'rate': 0.0, 'val_loss': 0.781082034111023, 'acc': 0.8288888888888889, 'epoch': 2, 'avg_test_loss': 0.781082034111023}"
   ]
  },
  {
   "cell_type": "code",
   "execution_count": null,
   "metadata": {},
   "outputs": [],
   "source": [
    "'--max_seq_length', '512', #'256',#'128', # \n",
    "'--learning_rate', '2e-5',\n",
    "'--num_train_epochs', '1',\n",
    "'--cache_dir', '../ib-cache',\n",
    "'--train_batch_size', '8',\n",
    "'--seed', '2',\n",
    "\n",
    "--------------------------------------------------------------------------------\n",
    "Epoch 1: 100%\n",
    "342/342 [03:03<00:00, 1.86it/s, loss=0.148, v_num=23, val_loss=0.851, acc=0.799]\n",
    "\n",
    "\n",
    "--------------------------------------------------------------------------------\n",
    "TEST RESULTS\n",
    "{'acc': 0.7988888888888889,\n",
    " 'avg_test_loss': 0.8509364128112793,\n",
    " 'val_loss': 0.8509364128112793}\n",
    "--------------------------------------------------------------------------------\n",
    "{'loss': tensor(0.0077, device='cuda:0'), 'rate': 0.0, 'val_loss': 0.8509364128112793, 'acc': 0.7988888888888889, 'epoch': 1, 'avg_test_loss': 0.8509364128112793}"
   ]
  },
  {
   "cell_type": "code",
   "execution_count": null,
   "metadata": {},
   "outputs": [],
   "source": [
    "      '--max_seq_length', '256',#'128', #\n",
    "      '--learning_rate', '2e-5',\n",
    "      '--num_train_epochs', '1',\n",
    "      '--train_batch_size', '16',\n",
    "\n",
    "\n",
    "TEST RESULTS\n",
    "{'acc': 0.8211111111111111,\n",
    " 'avg_test_loss': 0.48338058590888977,\n",
    " 'val_loss': 0.48338058590888977}\n",
    "--------------------------------------------------------------------------------\n",
    "{'loss': tensor(0.0925, device='cuda:0'), 'rate': 0.0, 'val_loss': 0.48338058590888977, 'acc': 0.8211111111111111, 'epoch': 1, 'avg_test_loss': 0.48338058590888977}"
   ]
  },
  {
   "cell_type": "code",
   "execution_count": null,
   "metadata": {},
   "outputs": [],
   "source": [
    "--------------------------------------------------------------------------------\n",
    "TEST RESULTS\n",
    "{'acc': 0.8166666666666667,\n",
    " 'avg_test_loss': 0.7120978236198425,\n",
    " 'val_loss': 0.7120978236198425}\n",
    "--------------------------------------------------------------------------------\n",
    "{'loss': tensor(0.0141, device='cuda:0'), 'rate': 0.0, 'val_loss': 0.7120978236198425, 'acc': 0.8166666666666667, 'epoch': 2, 'avg_test_loss': 0.7120978236198425}"
   ]
  },
  {
   "cell_type": "code",
   "execution_count": null,
   "metadata": {},
   "outputs": [],
   "source": [
    "--------------------------------------------------------------------------------\n",
    "TEST RESULTS\n",
    "{'acc': 0.8355555555555556,\n",
    " 'avg_test_loss': 0.6684350371360779,\n",
    " 'val_loss': 0.6684350371360779}\n",
    "--------------------------------------------------------------------------------\n",
    "{'loss': tensor(0.0045, device='cuda:0'), 'rate': 0.0, 'val_loss': 0.6684350371360779, 'acc': 0.8355555555555556, 'epoch': 3, 'avg_test_loss': 0.6684350371360779}"
   ]
  },
  {
   "cell_type": "code",
   "execution_count": null,
   "metadata": {},
   "outputs": [],
   "source": [
    "--------------------------------------------------------------------------------\n",
    "TEST RESULTS\n",
    "{'acc': 0.8255555555555556,\n",
    " 'avg_test_loss': 0.6292940974235535,\n",
    " 'val_loss': 0.6292940974235535}\n",
    "--------------------------------------------------------------------------------\n",
    "{'loss': tensor(0.0169, device='cuda:0'), 'rate': 0.0, 'val_loss': 0.6292940974235535, 'acc': 0.8255555555555556, 'epoch': 3, 'avg_test_loss': 0.6292940974235535}"
   ]
  },
  {
   "cell_type": "code",
   "execution_count": null,
   "metadata": {},
   "outputs": [],
   "source": []
  },
  {
   "cell_type": "code",
   "execution_count": null,
   "metadata": {},
   "outputs": [],
   "source": []
  },
  {
   "cell_type": "code",
   "execution_count": null,
   "metadata": {},
   "outputs": [],
   "source": []
  },
  {
   "cell_type": "code",
   "execution_count": null,
   "metadata": {},
   "outputs": [],
   "source": []
  },
  {
   "cell_type": "code",
   "execution_count": null,
   "metadata": {},
   "outputs": [],
   "source": []
  },
  {
   "cell_type": "code",
   "execution_count": null,
   "metadata": {},
   "outputs": [],
   "source": []
  },
  {
   "cell_type": "code",
   "execution_count": null,
   "metadata": {},
   "outputs": [],
   "source": [
    "TEST RESULTS\n",
    "{'acc': 0.5555555555555556,\n",
    " 'avg_test_loss': 0.7069929838180542,\n",
    " 'val_loss': 0.7069929838180542}\n",
    "--------------------------------------------------------------------------------\n",
    "{'loss': tensor(0.4580, device='cuda:0'), 'rate': 0.0, 'val_loss': 0.7069929838180542, 'acc': 0.5555555555555556, 'epoch': 5, 'avg_test_loss': 0.7069929838180542}"
   ]
  },
  {
   "cell_type": "code",
   "execution_count": null,
   "metadata": {},
   "outputs": [],
   "source": [
    "TEST RESULTS\n",
    "{'acc': 0.4444444444444444,\n",
    " 'avg_test_loss': 0.6832177639007568,\n",
    " 'val_loss': 0.6832177639007568}\n",
    "--------------------------------------------------------------------------------\n",
    "{'loss': tensor(0.7802, device='cuda:0'), 'rate': 0.0, 'val_loss': 0.6832177639007568, 'acc': 0.4444444444444444, 'epoch': 3, 'avg_test_loss': 0.6832177639007568}"
   ]
  },
  {
   "cell_type": "code",
   "execution_count": null,
   "metadata": {},
   "outputs": [],
   "source": [
    "--------------------------------------------------------------------------------\n",
    "TEST RESULTS\n",
    "{'acc': 0.5555555555555556,\n",
    " 'avg_test_loss': 1.3964085578918457,\n",
    " 'val_loss': 1.3964085578918457}\n",
    "--------------------------------------------------------------------------------\n",
    "{'loss': tensor(0.0526, device='cuda:0'), 'rate': 0.0, 'val_loss': 1.3964085578918457, 'acc': 0.5555555555555556, 'epoch': 3, 'avg_test_loss': 1.3964085578918457}"
   ]
  },
  {
   "cell_type": "code",
   "execution_count": null,
   "metadata": {},
   "outputs": [],
   "source": []
  },
  {
   "cell_type": "code",
   "execution_count": null,
   "metadata": {},
   "outputs": [],
   "source": []
  },
  {
   "cell_type": "code",
   "execution_count": null,
   "metadata": {},
   "outputs": [],
   "source": []
  },
  {
   "cell_type": "code",
   "execution_count": null,
   "metadata": {},
   "outputs": [],
   "source": []
  },
  {
   "cell_type": "code",
   "execution_count": null,
   "metadata": {},
   "outputs": [],
   "source": []
  },
  {
   "cell_type": "code",
   "execution_count": null,
   "metadata": {},
   "outputs": [],
   "source": []
  },
  {
   "cell_type": "code",
   "execution_count": null,
   "metadata": {},
   "outputs": [],
   "source": []
  },
  {
   "cell_type": "code",
   "execution_count": null,
   "metadata": {},
   "outputs": [],
   "source": []
  },
  {
   "cell_type": "code",
   "execution_count": null,
   "metadata": {},
   "outputs": [],
   "source": []
  },
  {
   "cell_type": "code",
   "execution_count": null,
   "metadata": {},
   "outputs": [],
   "source": []
  },
  {
   "cell_type": "code",
   "execution_count": null,
   "metadata": {},
   "outputs": [],
   "source": []
  },
  {
   "cell_type": "code",
   "execution_count": null,
   "metadata": {},
   "outputs": [],
   "source": []
  },
  {
   "cell_type": "code",
   "execution_count": null,
   "metadata": {},
   "outputs": [],
   "source": []
  },
  {
   "cell_type": "code",
   "execution_count": null,
   "metadata": {},
   "outputs": [],
   "source": []
  },
  {
   "cell_type": "code",
   "execution_count": null,
   "metadata": {},
   "outputs": [],
   "source": []
  },
  {
   "cell_type": "code",
   "execution_count": null,
   "metadata": {},
   "outputs": [],
   "source": [
    "## With out data shuffling\n",
    "\n",
    "--------------------------------------------------------------------------------\n",
    "TEST RESULTS\n",
    "{'acc': 0.82,\n",
    " 'avg_test_loss': 0.6162199378013611,\n",
    " 'val_loss': 0.6162199378013611}\n",
    "--------------------------------------------------------------------------------\n",
    "{'loss': tensor(0.0080, device='cuda:0'), 'rate': 0.0, 'val_loss': 0.6162199378013611, 'acc': 0.82, 'epoch': 3, 'avg_test_loss': 0.6162199378013611}\n",
    "\n"
   ]
  },
  {
   "cell_type": "code",
   "execution_count": null,
   "metadata": {},
   "outputs": [],
   "source": []
  },
  {
   "cell_type": "code",
   "execution_count": null,
   "metadata": {},
   "outputs": [],
   "source": [
    "--------------------------------------------------------------------------------\n",
    "TEST RESULTS\n",
    "{'acc': 0.8366666666666667,\n",
    " 'avg_test_loss': 0.6968371868133545,\n",
    " 'val_loss': 0.6968371868133545}\n",
    "--------------------------------------------------------------------------------\n",
    "{'loss': tensor(0.0080, device='cuda:0'), 'rate': 0.0, 'val_loss': 0.6968371868133545, 'acc': 0.8366666666666667, 'epoch': 3, 'avg_test_loss': 0.6968371868133545}"
   ]
  },
  {
   "cell_type": "code",
   "execution_count": null,
   "metadata": {},
   "outputs": [],
   "source": []
  },
  {
   "cell_type": "code",
   "execution_count": null,
   "metadata": {},
   "outputs": [],
   "source": []
  },
  {
   "cell_type": "code",
   "execution_count": null,
   "metadata": {},
   "outputs": [],
   "source": []
  },
  {
   "cell_type": "code",
   "execution_count": null,
   "metadata": {},
   "outputs": [],
   "source": [
    "--------------------------------------------------------------------------------\n",
    "TEST RESULTS\n",
    "{'acc': 0.81,\n",
    " 'avg_test_loss': 0.6104655861854553,\n",
    " 'val_loss': 0.6104655861854553}\n",
    "--------------------------------------------------------------------------------\n",
    "{'loss': tensor(0.0077, device='cuda:0'), 'rate': 0.0, 'val_loss': 0.6104655861854553, 'acc': 0.81, 'epoch': 3, 'avg_test_loss': 0.6104655861854553}"
   ]
  },
  {
   "cell_type": "code",
   "execution_count": null,
   "metadata": {},
   "outputs": [],
   "source": [
    "--------------------------------------------------------------------------------\n",
    "TEST RESULTS\n",
    "{'acc': 0.8322222222222222,\n",
    " 'avg_test_loss': 0.5656104683876038,\n",
    " 'val_loss': 0.5656104683876038}\n",
    "--------------------------------------------------------------------------------\n",
    "{'loss': tensor(0.0105, device='cuda:0'), 'rate': 0.0, 'val_loss': 0.5656104683876038, 'acc': 0.8322222222222222, 'epoch': 3, 'avg_test_loss': 0.5656104683876038}\n",
    "is_logger \n"
   ]
  },
  {
   "cell_type": "code",
   "execution_count": null,
   "metadata": {},
   "outputs": [],
   "source": [
    "--------------------------------------------------------------------------------\n",
    "TEST RESULTS\n",
    "{'acc': 0.8211111111111111,\n",
    " 'avg_test_loss': 0.7959970235824585,\n",
    " 'val_loss': 0.7959970235824585}\n",
    "--------------------------------------------------------------------------------\n",
    "{'loss': tensor(0.0071, device='cuda:0'), 'rate': 0.0, 'val_loss': 0.7959970235824585, 'acc': 0.8211111111111111, 'epoch': 3, 'avg_test_loss': 0.7959970235824585}\n",
    "is_logger "
   ]
  },
  {
   "cell_type": "code",
   "execution_count": null,
   "metadata": {},
   "outputs": [],
   "source": [
    "------------------------------seed=2--------------------------------------------------\n",
    "TEST RESULTS\n",
    "{'acc': 0.8211111111111111,\n",
    " 'avg_test_loss': 0.5927291512489319,\n",
    " 'val_loss': 0.5927291512489319}\n",
    "--------------------------------------------------------------------------------\n",
    "{'loss': tensor(0.0076, device='cuda:0'), 'rate': 0.0, 'val_loss': 0.5927291512489319, 'acc': 0.8211111111111111, 'epoch': 3, 'avg_test_loss': 0.5927291512489319}\n",
    "is_logger "
   ]
  },
  {
   "cell_type": "code",
   "execution_count": null,
   "metadata": {},
   "outputs": [],
   "source": []
  },
  {
   "cell_type": "code",
   "execution_count": null,
   "metadata": {},
   "outputs": [],
   "source": []
  },
  {
   "cell_type": "code",
   "execution_count": null,
   "metadata": {},
   "outputs": [],
   "source": []
  },
  {
   "cell_type": "code",
   "execution_count": null,
   "metadata": {},
   "outputs": [],
   "source": []
  },
  {
   "cell_type": "code",
   "execution_count": null,
   "metadata": {},
   "outputs": [],
   "source": []
  },
  {
   "cell_type": "code",
   "execution_count": null,
   "metadata": {},
   "outputs": [],
   "source": []
  },
  {
   "cell_type": "code",
   "execution_count": null,
   "metadata": {},
   "outputs": [],
   "source": []
  },
  {
   "cell_type": "code",
   "execution_count": null,
   "metadata": {},
   "outputs": [],
   "source": []
  },
  {
   "cell_type": "code",
   "execution_count": null,
   "metadata": {},
   "outputs": [],
   "source": []
  },
  {
   "cell_type": "code",
   "execution_count": null,
   "metadata": {},
   "outputs": [],
   "source": []
  },
  {
   "cell_type": "code",
   "execution_count": null,
   "metadata": {},
   "outputs": [],
   "source": []
  },
  {
   "cell_type": "code",
   "execution_count": null,
   "metadata": {},
   "outputs": [],
   "source": []
  },
  {
   "cell_type": "code",
   "execution_count": null,
   "metadata": {},
   "outputs": [],
   "source": []
  },
  {
   "cell_type": "code",
   "execution_count": null,
   "metadata": {},
   "outputs": [],
   "source": []
  },
  {
   "cell_type": "code",
   "execution_count": null,
   "metadata": {},
   "outputs": [],
   "source": []
  },
  {
   "cell_type": "code",
   "execution_count": null,
   "metadata": {},
   "outputs": [],
   "source": []
  },
  {
   "cell_type": "code",
   "execution_count": null,
   "metadata": {},
   "outputs": [],
   "source": []
  },
  {
   "cell_type": "code",
   "execution_count": null,
   "metadata": {},
   "outputs": [],
   "source": []
  },
  {
   "cell_type": "markdown",
   "metadata": {},
   "source": [
    "## "
   ]
  },
  {
   "cell_type": "code",
   "execution_count": null,
   "metadata": {},
   "outputs": [],
   "source": [
    "import numpy as np\n",
    "import pandas as pd\n",
    "seed = 2028\n",
    "df = pd.read_csv('/w266/project/pp_finetuning/indic-glue/amrita-paraphrase-exact/ta/ta-train.csv')\n",
    "df.to_csv('/w266/project/pp_finetuning/indic-glue/amrita-paraphrase-exact/ta/archive/' + str(seed) + '_ta-train.csv', index=False, header=False)\n",
    "\n",
    "df = df.reindex(np.random.RandomState(seed=2028).permutation(df.index))\n",
    "df.reset_index(drop=True).to_csv('/w266/project/pp_finetuning/indic-glue/amrita-paraphrase-exact/ta/ta-train.csv', index=False, header=False)\n"
   ]
  },
  {
   "cell_type": "code",
   "execution_count": null,
   "metadata": {},
   "outputs": [],
   "source": []
  },
  {
   "cell_type": "code",
   "execution_count": null,
   "metadata": {},
   "outputs": [],
   "source": []
  },
  {
   "cell_type": "code",
   "execution_count": null,
   "metadata": {},
   "outputs": [],
   "source": []
  },
  {
   "cell_type": "code",
   "execution_count": null,
   "metadata": {},
   "outputs": [],
   "source": [
    "### DO NOT GO PAST THIS CELL"
   ]
  }
 ],
 "metadata": {
  "kernelspec": {
   "display_name": "Python 3",
   "language": "python",
   "name": "python3"
  },
  "language_info": {
   "codemirror_mode": {
    "name": "ipython",
    "version": 3
   },
   "file_extension": ".py",
   "mimetype": "text/x-python",
   "name": "python",
   "nbconvert_exporter": "python",
   "pygments_lexer": "ipython3",
   "version": "3.6.9"
  }
 },
 "nbformat": 4,
 "nbformat_minor": 2
}
