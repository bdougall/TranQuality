{
 "cells": [
  {
   "cell_type": "code",
   "execution_count": null,
   "metadata": {},
   "outputs": [],
   "source": [
    "!pip install pytorch-lightning"
   ]
  },
  {
   "cell_type": "code",
   "execution_count": null,
   "metadata": {
    "scrolled": false
   },
   "outputs": [
    {
     "name": "stdout",
     "output_type": "stream",
     "text": [
      "/w266/w266/project/finetuning/indic-bert\n"
     ]
    },
    {
     "name": "stderr",
     "output_type": "stream",
     "text": [
      "Some weights of the model checkpoint at ai4bharat/indic-bert were not used when initializing AlbertForSequenceClassification: ['predictions.bias', 'predictions.LayerNorm.weight', 'predictions.LayerNorm.bias', 'predictions.dense.weight', 'predictions.dense.bias', 'predictions.decoder.weight', 'predictions.decoder.bias', 'sop_classifier.classifier.weight', 'sop_classifier.classifier.bias']\n",
      "- This IS expected if you are initializing AlbertForSequenceClassification from the checkpoint of a model trained on another task or with another architecture (e.g. initializing a BertForSequenceClassification model from a BertForPreTraining model).\n",
      "- This IS NOT expected if you are initializing AlbertForSequenceClassification from the checkpoint of a model that you expect to be exactly identical (initializing a BertForSequenceClassification model from a BertForSequenceClassification model).\n",
      "Some weights of AlbertForSequenceClassification were not initialized from the model checkpoint at ai4bharat/indic-bert and are newly initialized: ['classifier.weight', 'classifier.bias']\n",
      "You should probably TRAIN this model on a down-stream task to be able to use it for predictions and inference.\n",
      "/usr/local/lib/python3.6/dist-packages/pytorch_lightning/utilities/distributed.py:25: UserWarning: Checkpoint directory ../outputs/8/amrita-paraphrase-exact/train-hi/model-ai4bharat-indic-bert exists and is not empty with save_top_k != 0.All files in this directory will be deleted when a checkpoint is saved!\n",
      "  warnings.warn(*args, **kwargs)\n",
      "GPU available: True, used: True\n",
      "TPU available: False, using: 0 TPU cores\n",
      "CUDA_VISIBLE_DEVICES: [0]\n",
      "Some weights of the model checkpoint at ai4bharat/indic-bert were not used when initializing AlbertForSequenceClassification: ['predictions.bias', 'predictions.LayerNorm.weight', 'predictions.LayerNorm.bias', 'predictions.dense.weight', 'predictions.dense.bias', 'predictions.decoder.weight', 'predictions.decoder.bias', 'sop_classifier.classifier.weight', 'sop_classifier.classifier.bias']\n",
      "- This IS expected if you are initializing AlbertForSequenceClassification from the checkpoint of a model trained on another task or with another architecture (e.g. initializing a BertForSequenceClassification model from a BertForPreTraining model).\n",
      "- This IS NOT expected if you are initializing AlbertForSequenceClassification from the checkpoint of a model that you expect to be exactly identical (initializing a BertForSequenceClassification model from a BertForSequenceClassification model).\n",
      "Some weights of AlbertForSequenceClassification were not initialized from the model checkpoint at ai4bharat/indic-bert and are newly initialized: ['classifier.weight', 'classifier.bias']\n",
      "You should probably TRAIN this model on a down-stream task to be able to use it for predictions and inference.\n"
     ]
    },
    {
     "name": "stdout",
     "output_type": "stream",
     "text": [
      "prepare_data\n",
      "test_dataloader\n",
      "load_features\n",
      "make_loader\n"
     ]
    },
    {
     "name": "stderr",
     "output_type": "stream",
     "text": [
      "/usr/local/lib/python3.6/dist-packages/pytorch_lightning/utilities/distributed.py:25: UserWarning: The dataloader, test dataloader 0, does not have many workers which may be a bottleneck. Consider increasing the value of the `num_workers` argument` (try 12 which is the number of cpus on this machine) in the `DataLoader` init to improve performance.\n",
      "  warnings.warn(*args, **kwargs)\n"
     ]
    },
    {
     "data": {
      "application/vnd.jupyter.widget-view+json": {
       "model_id": "ebc5c3e76a3e472296e568ac0fbf512c",
       "version_major": 2,
       "version_minor": 0
      },
      "text/plain": [
       "HBox(children=(FloatProgress(value=1.0, bar_style='info', description='Testing', layout=Layout(flex='2'), max=…"
      ]
     },
     "metadata": {},
     "output_type": "display_data"
    },
    {
     "name": "stdout",
     "output_type": "stream",
     "text": [
      "test_step\n",
      "> /w266/w266/project/finetuning/indic-bert/fine_tune/modules/base.py(256)validation_step()\n",
      "-> print('validation step')\n",
      "(Pdb) n\n",
      "validation step\n",
      "> /w266/w266/project/finetuning/indic-bert/fine_tune/modules/base.py(257)validation_step()\n",
      "-> inputs = {'input_ids': batch[0],\n",
      "(Pdb) batch[0]\n",
      "tensor([[     2,     37,  18023,  ...,      0,      0,      0],\n",
      "        [     2,     70,  40798,  ...,      0,      0,      0],\n",
      "        [     2,   1721,  20371,  ...,      0,      0,      0],\n",
      "        ...,\n",
      "        [     2,   1336,   1301,  ...,      0,      0,      0],\n",
      "        [     2,   2256,   1883,  ...,      0,      0,      0],\n",
      "        [     2,    114, 113468,  ...,      0,      0,      0]],\n",
      "       device='cuda:0')\n",
      "(Pdb) batch[0][0]\n",
      "tensor([     2,     37,  18023,    670,   9327,    236,   3611,   1883,  41231,\n",
      "          3000,   1793,  49706, 132466,    508,   1883,     68,   1546,   3143,\n",
      "          1883,   2637,  30808,   7510,   2389,   2092,     41,   5320,    507,\n",
      "           507,  11611,   5999,   1781,  89720,   2092,      8, 152825,   1134,\n",
      "          5650,  92162,  17636,     15,      3,  10168,   1712,    103,      8,\n",
      "        157537, 111520,    472,  62915,   5060,    118,     33,   6357,   4281,\n",
      "            21,   3417,     26,  43368,     18,     80,    578, 139224,   3892,\n",
      "           434,     26,     11,  60270,     24,  52070,     18,  34378,     18,\n",
      "           496,      9,      3,      0,      0,      0,      0,      0,      0,\n",
      "             0,      0,      0,      0,      0,      0,      0,      0,      0,\n",
      "             0,      0,      0,      0,      0,      0,      0,      0,      0,\n",
      "             0,      0,      0,      0,      0,      0,      0,      0,      0,\n",
      "             0,      0,      0,      0,      0,      0,      0,      0,      0,\n",
      "             0,      0,      0,      0,      0,      0,      0,      0,      0,\n",
      "             0,      0,      0,      0,      0,      0,      0,      0,      0,\n",
      "             0,      0,      0,      0,      0,      0,      0,      0,      0,\n",
      "             0,      0,      0,      0,      0,      0,      0,      0,      0,\n",
      "             0,      0,      0,      0,      0,      0,      0,      0,      0,\n",
      "             0,      0,      0,      0,      0,      0,      0,      0,      0,\n",
      "             0,      0,      0,      0,      0,      0,      0,      0,      0,\n",
      "             0,      0,      0,      0,      0,      0,      0,      0,      0,\n",
      "             0,      0,      0,      0,      0,      0,      0,      0,      0,\n",
      "             0,      0,      0,      0,      0,      0,      0,      0,      0,\n",
      "             0,      0,      0,      0,      0,      0,      0,      0,      0,\n",
      "             0,      0,      0,      0,      0,      0,      0,      0,      0,\n",
      "             0,      0,      0,      0,      0,      0,      0,      0,      0,\n",
      "             0,      0,      0,      0,      0,      0,      0,      0,      0,\n",
      "             0,      0,      0,      0,      0,      0,      0,      0,      0,\n",
      "             0,      0,      0,      0], device='cuda:0')\n",
      "(Pdb) len(batch[0][0])\n",
      "256\n",
      "(Pdb) dir()\n",
      "['batch', 'batch_nb', 'pdb', 'self']\n"
     ]
    }
   ],
   "source": [
    "%cd indic-bert\n",
    "\n",
    "from pathlib import Path\n",
    "from fine_tune.cli import main as finetune_main\n",
    "\n",
    "argvec = ['--lang', 'hi',\n",
    "          '--train_lang', 'hi',\n",
    "          '--dataset', 'amrita-paraphrase-exact', \n",
    "          '--model', 'ai4bharat/indic-bert', \n",
    "          '--iglue_dir', '../indic-glue', #  '../test/',  # input files, tokenized data\n",
    "          '--output_dir', '../outputs/8',   # out files, results and checkpoints\n",
    "          '--max_seq_length', '256', #'128', # '512',\n",
    "          '--learning_rate', '2e-5',\n",
    "          '--num_train_epochs', '1',\n",
    "          '--cache_dir', '../ib-cache', #pre trained models\n",
    "          '--train_batch_size', '16',\n",
    "          '--seed', '8',\n",
    "          '--do_predict',\n",
    "          '--overwrite_cache'\n",
    "\n",
    "\n",
    "]\n",
    "\n",
    "\n",
    "finetune_main(argvec)\n",
    "\n",
    "\n",
    "%cd .."
   ]
  },
  {
   "cell_type": "code",
   "execution_count": null,
   "metadata": {},
   "outputs": [],
   "source": [
    "--------------------------------------------------------------------------------\n",
    "TEST RESULTS\n",
    "{'acc': 0.9011111111111111,\n",
    " 'avg_test_loss': 0.3841525912284851,\n",
    " 'val_loss': 0.3841525912284851}\n",
    "--------------------------------------------------------------------------------\n",
    "{'avg_test_loss': 0.3841525912284851, 'val_loss': 0.3841525912284851, 'acc': 0.9011111111111111}\n",
    "\n",
    "/w266/w266/project/finetuning"
   ]
  },
  {
   "cell_type": "code",
   "execution_count": null,
   "metadata": {},
   "outputs": [],
   "source": [
    "module = module_class(hparams)\n",
    "trainer = create_trainer(hparams)\n",
    "trainer.fit(autoencoder, DataLoader(train), DataLoader(val))\n"
   ]
  }
 ],
 "metadata": {
  "kernelspec": {
   "display_name": "Python 3",
   "language": "python",
   "name": "python3"
  },
  "language_info": {
   "codemirror_mode": {
    "name": "ipython",
    "version": 3
   },
   "file_extension": ".py",
   "mimetype": "text/x-python",
   "name": "python",
   "nbconvert_exporter": "python",
   "pygments_lexer": "ipython3",
   "version": "3.6.9"
  }
 },
 "nbformat": 4,
 "nbformat_minor": 4
}
