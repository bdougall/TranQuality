{
 "cells": [
  {
   "cell_type": "code",
   "execution_count": null,
   "metadata": {
    "scrolled": true
   },
   "outputs": [],
   "source": [
    "!pip install pandas"
   ]
  },
  {
   "cell_type": "code",
   "execution_count": 1,
   "metadata": {},
   "outputs": [],
   "source": [
    "import pandas as pd\n",
    "from pathlib import Path"
   ]
  },
  {
   "cell_type": "code",
   "execution_count": 2,
   "metadata": {},
   "outputs": [],
   "source": [
    "import xml.etree.ElementTree as ET\n"
   ]
  },
  {
   "cell_type": "code",
   "execution_count": 3,
   "metadata": {},
   "outputs": [
    {
     "data": {
      "text/plain": [
       "'/w266/w266/project/pp_finetuning'"
      ]
     },
     "execution_count": 3,
     "metadata": {},
     "output_type": "execute_result"
    }
   ],
   "source": [
    "%pwd"
   ]
  },
  {
   "cell_type": "code",
   "execution_count": 4,
   "metadata": {},
   "outputs": [],
   "source": [
    "\n",
    "   \n",
    "# cols = [\"Paraphrase\", \"Sentence1\", \"Sentence2\", \"Class\"] # \n",
    "cols = [\"Sentence1\", \"Sentence2\", \"Class\"] # \n",
    "\n",
    "\n",
    "def xml_to_csv(infilepath, outfilepath):\n",
    "#     import pdb; pdb.set_trace()\n",
    "    print(infilepath)\n",
    "    tree = ET.parse(infilepath)\n",
    "    root = tree.getroot()\n",
    "    rows = []\n",
    "    for paraphrase in root.iter('Paraphrase'):\n",
    "#         pID = paraphrase.attrib\n",
    "        sentence1 = paraphrase.find('Sentence1')\n",
    "        sentence2 = paraphrase.find('Sentence2')\n",
    "        clas = paraphrase.find('Class')\n",
    "        rows.append({\n",
    "#                  \"Paraphrase\": paraphrase.attrib['pID'],\n",
    "                 \"Sentence1\": sentence1.text,\n",
    "                 \"Sentence2\": sentence2.text,\n",
    "                 \"Class\": clas.text})\n",
    "        \n",
    "    df = pd.DataFrame(rows, columns=cols)    \n",
    "#     df = df.sample(frac=1).reset_index(drop=True)\n",
    "    df.to_csv(outfilepath, index=False, header=False)\n",
    "    \n",
    "    print('Total records in ', infilepath, df.shape)\n",
    "    \n",
    "#     print(df.info)\n",
    "    print(df.iloc[0])\n",
    "    \n",
    "    return\n",
    "    \n",
    "# convert the 4 available indic files "
   ]
  },
  {
   "cell_type": "code",
   "execution_count": 5,
   "metadata": {
    "scrolled": true
   },
   "outputs": [
    {
     "name": "stdout",
     "output_type": "stream",
     "text": [
      "/w266/w266/project/data/DPIL/pb_task1.xml\n",
      "Total records in  /w266/w266/project/data/DPIL/pb_task1.xml (1700, 3)\n",
      "Sentence1    ਰੀਓ ਉਲੰਪਿਕ ਜਾਵੇਗਾ ਨਰਸਿੰਘ\n",
      "Sentence2    ਨਰਸਿੰਘ ਜਾਵੇਗਾ ਰੀਓ ਉਲਪਿੰਕ\n",
      "Class                               P\n",
      "Name: 0, dtype: object\n",
      "/w266/w266/project/data/DPIL/pb_task1.xml \n",
      " /w266/w266/project/pp_finetuning/indic-glue/amrita-paraphrase-exact/pb/pb-train.csv created\n",
      "********************************************************************************\n",
      "/w266/w266/project/data/DPIL/hi_task1.xml\n",
      "Total records in  /w266/w266/project/data/DPIL/hi_task1.xml (2500, 3)\n",
      "Sentence1    भारतीय मुस्लिमों की वजह से नहीं पनप सकता आईएस|\n",
      "Sentence2      भारत में कभी वर्चस्व कायम नहीं कर सकता आईएस|\n",
      "Class                                                     P\n",
      "Name: 0, dtype: object\n",
      "/w266/w266/project/data/DPIL/hi_task1.xml \n",
      " /w266/w266/project/pp_finetuning/indic-glue/amrita-paraphrase-exact/hi/hi-train.csv created\n",
      "********************************************************************************\n",
      "/w266/w266/project/data/DPIL/ma_task1.xml\n",
      "Total records in  /w266/w266/project/data/DPIL/ma_task1.xml (2500, 3)\n",
      "Sentence1    റോയൽ ചലഞ്ചേഴ്സിനെ ആറു വിക്കറ്റിന് തകർത്ത് മുംബ...\n",
      "Sentence2    ബാംഗ്ലൂര്‍ റോയൽ ചലഞ്ചേഴ്സിനെ മുംബൈ ആറ് വിക്കറ്...\n",
      "Class                                                        P\n",
      "Name: 0, dtype: object\n",
      "/w266/w266/project/data/DPIL/ma_task1.xml \n",
      " /w266/w266/project/pp_finetuning/indic-glue/amrita-paraphrase-exact/ma/ma-train.csv created\n",
      "********************************************************************************\n",
      "/w266/w266/project/data/DPIL/ta_task1.xml\n",
      "Total records in  /w266/w266/project/data/DPIL/ta_task1.xml (2500, 3)\n",
      "Sentence1    சங்கராபுரம் தொகுதியில் போட்டியிடும் ஸ்டாலின் ந...\n",
      "Sentence2    தி.மு.க., வேட்பாளர் ஸ்டாலின் போட்டியிடும் சங்க...\n",
      "Class                                                        P\n",
      "Name: 0, dtype: object\n",
      "/w266/w266/project/data/DPIL/ta_task1.xml \n",
      " /w266/w266/project/pp_finetuning/indic-glue/amrita-paraphrase-exact/ta/ta-train.csv created\n",
      "********************************************************************************\n"
     ]
    }
   ],
   "source": [
    "# langs = ['AmritaCEN-DPIL2016_Punjabi', 'Amrita-CEN_DPIL@FIRE2016-Hindi', 'DPIL-Malayalam', 'DPIL-Tamil' ]\n",
    "langs = ['pb', 'hi', 'ma', 'ta' ]\n",
    "base_dir = '/w266/w266/project/'\n",
    "proj_name = 'pp_finetuning'\n",
    "p = Path(base_dir)\n",
    "\n",
    "outdir =  'indic-glue/amrita-paraphrase-exact/'\n",
    "\n",
    "for lang in langs:\n",
    "    data = 'data/DPIL'\n",
    "    xmlf = str(lang) + '_task1.xml'\n",
    "    ifname = p / data /  xmlf #/home/jai/w266/project/data/DPIL\n",
    "    ofname = lang + '-train.csv'\n",
    "    infilepath =  p / 'testbert/indic-glue/DPIL/train' /  ifname\n",
    "    outfilepath = p / proj_name / outdir / lang   \n",
    "    Path(outfilepath).mkdir(parents=True, exist_ok=True)\n",
    "    outfilepath = outfilepath / ofname\n",
    "    xml_to_csv(infilepath, outfilepath)\n",
    "    print (infilepath, '\\n',  outfilepath , 'created')\n",
    "    print(\"*\"*80)"
   ]
  },
  {
   "cell_type": "code",
   "execution_count": null,
   "metadata": {},
   "outputs": [],
   "source": [
    "df = pd.read_csv('/w266/project/pp_finetuning/indic-glue/amrita-paraphrase-exact/ta/ta-train.csv')\n",
    "# df.head(10)"
   ]
  },
  {
   "cell_type": "code",
   "execution_count": null,
   "metadata": {},
   "outputs": [],
   "source": [
    "df.shape"
   ]
  },
  {
   "cell_type": "code",
   "execution_count": null,
   "metadata": {},
   "outputs": [],
   "source": [
    "df.iloc[2498]"
   ]
  },
  {
   "cell_type": "markdown",
   "metadata": {},
   "source": [
    "# Copy test files"
   ]
  },
  {
   "cell_type": "markdown",
   "metadata": {},
   "source": [
    "### Install xls dependencies"
   ]
  },
  {
   "cell_type": "code",
   "execution_count": 6,
   "metadata": {},
   "outputs": [
    {
     "name": "stdout",
     "output_type": "stream",
     "text": [
      "Collecting xlrd\n",
      "  Downloading xlrd-2.0.1-py2.py3-none-any.whl (96 kB)\n",
      "     |████████████████████████████████| 96 kB 2.1 MB/s            \n",
      "\u001b[?25hInstalling collected packages: xlrd\n",
      "Successfully installed xlrd-2.0.1\n",
      "\u001b[33mWARNING: Running pip as the 'root' user can result in broken permissions and conflicting behaviour with the system package manager. It is recommended to use a virtual environment instead: https://pip.pypa.io/warnings/venv\u001b[0m\n"
     ]
    }
   ],
   "source": [
    "!pip install xlrd"
   ]
  },
  {
   "cell_type": "code",
   "execution_count": 9,
   "metadata": {},
   "outputs": [],
   "source": [
    "langs = ['pb', 'hi', 'ma', 'ta' ]\n",
    "base_dir = '/w266/w266/project/'\n",
    "proj_name = 'pp_finetuning'\n",
    "p = Path(base_dir)\n",
    "\n",
    "outdir = p / proj_name / 'indic-glue/amrita-paraphrase-exact/'\n",
    "Path(outdir).mkdir(parents=True, exist_ok=True)\n",
    "\n",
    "\n",
    "for i in [('TestHindi.xls', 'hi'),  ('TestMalayalam.xls', 'ma'), ('TestPunjabi.xls', 'pb'), ('TestTamil.xls', 'ta')] :\n",
    "    fname, lang = i\n",
    "    infilepath =  p / 'data/DPIL/TestData' /  fname\n",
    "    ofname = lang + '-test.csv'\n",
    "    outfilepath = outdir / lang / ofname\n",
    "    read_file = pd.read_excel (infilepath) #, sheet_name='Your Excel sheet name')\n",
    "    read_file.to_csv (outfilepath, index = None, header=True)"
   ]
  },
  {
   "cell_type": "code",
   "execution_count": null,
   "metadata": {},
   "outputs": [],
   "source": []
  },
  {
   "cell_type": "markdown",
   "metadata": {},
   "source": [
    "## Merge files"
   ]
  },
  {
   "cell_type": "code",
   "execution_count": null,
   "metadata": {},
   "outputs": [],
   "source": []
  },
  {
   "cell_type": "code",
   "execution_count": null,
   "metadata": {},
   "outputs": [],
   "source": [
    "outdir"
   ]
  },
  {
   "cell_type": "code",
   "execution_count": null,
   "metadata": {},
   "outputs": [],
   "source": [
    "indir = 'indic-glue/amrita-paraphrase-exact/'\n",
    "for lang in langs:\n",
    "    ifname = lang + '-train.csv'\n",
    "    infilepath =  Path(indir) / lang / ifname \n",
    "    print(infilepath)\n",
    "    read_file = pd.read_csv(infilepath)\n",
    "#     merged_file = read_file"
   ]
  },
  {
   "cell_type": "code",
   "execution_count": null,
   "metadata": {},
   "outputs": [],
   "source": [
    "pb = pd.read_csv('indic-glue/amrita-paraphrase-exact/pb/pb-train.csv', header=None)\n",
    "hi = pd.read_csv('indic-glue/amrita-paraphrase-exact/hi/hi-train.csv', header=None)\n",
    "ma = pd.read_csv('indic-glue/amrita-paraphrase-exact/ma/ma-train.csv', header=None)\n",
    "ta = pd.read_csv('indic-glue/amrita-paraphrase-exact/ta/ta-train.csv', header=None)"
   ]
  },
  {
   "cell_type": "code",
   "execution_count": null,
   "metadata": {},
   "outputs": [],
   "source": [
    "ta.head(2)"
   ]
  },
  {
   "cell_type": "code",
   "execution_count": null,
   "metadata": {},
   "outputs": [],
   "source": [
    "merged_df = [pb, hi, ma, ta]\n",
    "result = pd.concat(merged_df)"
   ]
  },
  {
   "cell_type": "code",
   "execution_count": null,
   "metadata": {},
   "outputs": [],
   "source": [
    "result.shape"
   ]
  },
  {
   "cell_type": "code",
   "execution_count": null,
   "metadata": {},
   "outputs": [],
   "source": [
    "# langs = ['AmritaCEN-DPIL2016_Punjabi', 'Amrita-CEN_DPIL@FIRE2016-Hindi', 'DPIL-Malayalam', 'DPIL-Tamil' ]\n",
    "base_dir = '/w266/w266/project/'\n",
    "proj_name = 'pp_finetuning'\n",
    "p = Path(base_dir)\n",
    "\n",
    "outdir = p / proj_name / 'indic-glue/amrita-paraphrase-exact/all'\n",
    "Path(outdir).mkdir(parents=True, exist_ok=True)\n",
    "ofname = outdir / 'all-train.csv'\n",
    "print(ofname)\n",
    "result.to_csv (ofname, index = None, header=True)\n"
   ]
  },
  {
   "cell_type": "code",
   "execution_count": null,
   "metadata": {},
   "outputs": [],
   "source": [
    "pb = pd.read_csv('indic-glue/amrita-paraphrase-exact/pb/pb-test.csv', header=None)\n",
    "hi = pd.read_csv('indic-glue/amrita-paraphrase-exact/hi/hi-test.csv', header=None)\n",
    "ma = pd.read_csv('indic-glue/amrita-paraphrase-exact/ma/ma-test.csv', header=None)\n",
    "ta = pd.read_csv('indic-glue/amrita-paraphrase-exact/ta/ta-test.csv', header=None)"
   ]
  },
  {
   "cell_type": "code",
   "execution_count": null,
   "metadata": {},
   "outputs": [],
   "source": [
    "merged_df = [pb, hi, ma, ta]\n",
    "result = pd.concat(merged_df)"
   ]
  },
  {
   "cell_type": "code",
   "execution_count": null,
   "metadata": {},
   "outputs": [],
   "source": [
    "# langs = ['AmritaCEN-DPIL2016_Punjabi', 'Amrita-CEN_DPIL@FIRE2016-Hindi', 'DPIL-Malayalam', 'DPIL-Tamil' ]\n",
    "base_dir = '/w266/w266/project/'\n",
    "proj_name = 'pp_finetuning'\n",
    "p = Path(base_dir)\n",
    "\n",
    "outdir = p / proj_name / 'indic-glue/amrita-paraphrase-exact/all'\n",
    "Path(outdir).mkdir(parents=True, exist_ok=True)\n",
    "ofname = outdir / 'all-test.csv'\n",
    "print(ofname)\n",
    "result.to_csv (ofname, index = None, header=True)"
   ]
  },
  {
   "cell_type": "code",
   "execution_count": null,
   "metadata": {},
   "outputs": [],
   "source": [
    "ta.shape"
   ]
  },
  {
   "cell_type": "code",
   "execution_count": null,
   "metadata": {},
   "outputs": [],
   "source": [
    "import numpy as np\n",
    "import pandas as pd\n",
    "seed = 2028\n",
    "df = pd.read_csv('/w266/project/pp_finetuning/indic-glue/amrita-paraphrase-exact/all/all-train.csv')\n",
    "# df.to_csv('/w266/project/pp_finetuning/indic-glue/amrita-paraphrase-exact/all/archive/' + str(seed) + '_all-train.csv', index=False, header=False)\n",
    "\n",
    "df = df.reindex(np.random.RandomState(seed=2028).permutation(df.index))\n",
    "df.reset_index(drop=True).to_csv('/w266/project/pp_finetuning/indic-glue/amrita-paraphrase-exact/all/all-train.csv', index=False, header=False)\n"
   ]
  },
  {
   "cell_type": "code",
   "execution_count": null,
   "metadata": {},
   "outputs": [],
   "source": [
    "df.head(5)"
   ]
  },
  {
   "cell_type": "code",
   "execution_count": null,
   "metadata": {},
   "outputs": [],
   "source": []
  },
  {
   "cell_type": "code",
   "execution_count": null,
   "metadata": {},
   "outputs": [],
   "source": []
  },
  {
   "cell_type": "markdown",
   "metadata": {},
   "source": [
    "### Drop row 1"
   ]
  },
  {
   "cell_type": "code",
   "execution_count": null,
   "metadata": {},
   "outputs": [],
   "source": [
    "import csv\n",
    "def read_csv(input_file, quotechar=None):\n",
    "    \"\"\"Reads a tab separated value file.\"\"\"\n",
    "    with open(input_file, encoding='utf-8') as fp:\n",
    "        return list(csv.reader(fp, delimiter=','))"
   ]
  },
  {
   "cell_type": "code",
   "execution_count": null,
   "metadata": {},
   "outputs": [],
   "source": [
    "lines = read_csv('indic-glue/amrita-paraphrase-exact/ma/ma-train.csv')"
   ]
  },
  {
   "cell_type": "code",
   "execution_count": null,
   "metadata": {},
   "outputs": [],
   "source": [
    "lines[0][2]"
   ]
  },
  {
   "cell_type": "code",
   "execution_count": null,
   "metadata": {},
   "outputs": [],
   "source": [
    "def _create_examples(lines):\n",
    "    \"\"\"Creates examples for the training and dev sets.\"\"\"\n",
    "    for (i, line) in enumerate(lines):\n",
    "        print(line[0], line[1], line[2])\n",
    "        if i> 5 :\n",
    "            return"
   ]
  },
  {
   "cell_type": "code",
   "execution_count": null,
   "metadata": {},
   "outputs": [],
   "source": [
    "_create_examples(lines)"
   ]
  },
  {
   "cell_type": "code",
   "execution_count": null,
   "metadata": {},
   "outputs": [],
   "source": []
  }
 ],
 "metadata": {
  "kernelspec": {
   "display_name": "Python 3",
   "language": "python",
   "name": "python3"
  },
  "language_info": {
   "codemirror_mode": {
    "name": "ipython",
    "version": 3
   },
   "file_extension": ".py",
   "mimetype": "text/x-python",
   "name": "python",
   "nbconvert_exporter": "python",
   "pygments_lexer": "ipython3",
   "version": "3.6.9"
  }
 },
 "nbformat": 4,
 "nbformat_minor": 2
}
