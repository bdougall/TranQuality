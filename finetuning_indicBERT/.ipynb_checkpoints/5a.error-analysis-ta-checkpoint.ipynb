{
 "cells": [
  {
   "cell_type": "code",
   "execution_count": 1,
   "metadata": {},
   "outputs": [
    {
     "name": "stdout",
     "output_type": "stream",
     "text": [
      "/w266/w266/project/finetuning/indic-bert\n"
     ]
    }
   ],
   "source": [
    "%cd indic-bert"
   ]
  },
  {
   "cell_type": "code",
   "execution_count": 2,
   "metadata": {},
   "outputs": [],
   "source": [
    "import glob\n",
    "import os"
   ]
  },
  {
   "cell_type": "code",
   "execution_count": 3,
   "metadata": {},
   "outputs": [],
   "source": [
    "from fine_tune.modules import get_modules\n",
    "from fine_tune.data import load_dataset\n",
    "from fine_tune.data.examples import *\n",
    "from fine_tune.modules import base"
   ]
  },
  {
   "cell_type": "code",
   "execution_count": 4,
   "metadata": {},
   "outputs": [],
   "source": [
    "import pandas as pd\n",
    "import numpy as np\n",
    "np.set_printoptions(precision=5)"
   ]
  },
  {
   "cell_type": "code",
   "execution_count": 5,
   "metadata": {},
   "outputs": [],
   "source": [
    "# !pip install seaborn"
   ]
  },
  {
   "cell_type": "code",
   "execution_count": 6,
   "metadata": {},
   "outputs": [],
   "source": [
    "import seaborn as sn\n",
    "import matplotlib.pyplot as plt"
   ]
  },
  {
   "cell_type": "code",
   "execution_count": 7,
   "metadata": {},
   "outputs": [],
   "source": [
    "from transformers import (\n",
    "    AdamW,\n",
    "    AutoConfig,\n",
    "    AutoModel,\n",
    "    AutoModelForSequenceClassification,\n",
    "    AutoTokenizer,\n",
    "    get_linear_schedule_with_warmup,\n",
    ")"
   ]
  },
  {
   "cell_type": "code",
   "execution_count": 8,
   "metadata": {},
   "outputs": [],
   "source": [
    "def _softmax(x1, x2, tog=0):\n",
    "    a = np.exp([x1,x2])/np.sum(np.exp([x1,x2]))\n",
    "    if tog == 1:\n",
    "        return a[0]\n",
    "    else:\n",
    "        return a[1]\n",
    "\n",
    "def apply_softmax(df, tog):\n",
    "    return df.apply(lambda row: _softmax(row[0], row[1], tog), axis=1)"
   ]
  },
  {
   "cell_type": "code",
   "execution_count": 9,
   "metadata": {},
   "outputs": [],
   "source": [
    "!rm ../indic-glue/amrita-paraphrase-exact/cached*"
   ]
  },
  {
   "cell_type": "code",
   "execution_count": 10,
   "metadata": {},
   "outputs": [],
   "source": [
    "!cp ../indic-glue/amrita-paraphrase-exact/ta/ta-test-orig.csv ../indic-glue/amrita-paraphrase-exact/ta/ta-test.csv "
   ]
  },
  {
   "cell_type": "code",
   "execution_count": 11,
   "metadata": {},
   "outputs": [
    {
     "name": "stdout",
     "output_type": "stream",
     "text": [
      "(900, 3)\n",
      "(851, 3)\n"
     ]
    }
   ],
   "source": [
    "# Check if you have the right file\n",
    "test = pd.read_csv('../indic-glue/amrita-paraphrase-exact/ta/ta-test.csv', header=None)\n",
    "print(test.shape)\n",
    "\n",
    "test.drop_duplicates(inplace=True)\n",
    "test.to_csv('../indic-glue/amrita-paraphrase-exact/ta/ta-test.csv', sep=',', encoding='utf-8', header=None, index=False)\n",
    "print(test.shape)"
   ]
  },
  {
   "cell_type": "code",
   "execution_count": 12,
   "metadata": {},
   "outputs": [
    {
     "data": {
      "text/plain": [
       "(851, 3)"
      ]
     },
     "execution_count": 12,
     "metadata": {},
     "output_type": "execute_result"
    }
   ],
   "source": [
    "test = pd.read_csv('../indic-glue/amrita-paraphrase-exact/ta/ta-test.csv', header=None)\n",
    "test.shape"
   ]
  },
  {
   "cell_type": "code",
   "execution_count": 13,
   "metadata": {
    "scrolled": false
   },
   "outputs": [
    {
     "name": "stderr",
     "output_type": "stream",
     "text": [
      "Some weights of the model checkpoint at ai4bharat/indic-bert were not used when initializing AlbertForSequenceClassification: ['predictions.bias', 'predictions.LayerNorm.weight', 'predictions.LayerNorm.bias', 'predictions.dense.weight', 'predictions.dense.bias', 'predictions.decoder.weight', 'predictions.decoder.bias', 'sop_classifier.classifier.weight', 'sop_classifier.classifier.bias']\n",
      "- This IS expected if you are initializing AlbertForSequenceClassification from the checkpoint of a model trained on another task or with another architecture (e.g. initializing a BertForSequenceClassification model from a BertForPreTraining model).\n",
      "- This IS NOT expected if you are initializing AlbertForSequenceClassification from the checkpoint of a model that you expect to be exactly identical (initializing a BertForSequenceClassification model from a BertForSequenceClassification model).\n",
      "Some weights of AlbertForSequenceClassification were not initialized from the model checkpoint at ai4bharat/indic-bert and are newly initialized: ['classifier.weight', 'classifier.bias']\n",
      "You should probably TRAIN this model on a down-stream task to be able to use it for predictions and inference.\n",
      "/usr/local/lib/python3.6/dist-packages/pytorch_lightning/utilities/distributed.py:25: UserWarning: Checkpoint directory ../outputs_ta/amrita-paraphrase-exact/train-ta/model-ai4bharat-indic-bert exists and is not empty with save_top_k != 0.All files in this directory will be deleted when a checkpoint is saved!\n",
      "  warnings.warn(*args, **kwargs)\n",
      "GPU available: True, used: True\n",
      "TPU available: False, using: 0 TPU cores\n",
      "CUDA_VISIBLE_DEVICES: [0]\n",
      "Some weights of the model checkpoint at ai4bharat/indic-bert were not used when initializing AlbertForSequenceClassification: ['predictions.bias', 'predictions.LayerNorm.weight', 'predictions.LayerNorm.bias', 'predictions.dense.weight', 'predictions.dense.bias', 'predictions.decoder.weight', 'predictions.decoder.bias', 'sop_classifier.classifier.weight', 'sop_classifier.classifier.bias']\n",
      "- This IS expected if you are initializing AlbertForSequenceClassification from the checkpoint of a model trained on another task or with another architecture (e.g. initializing a BertForSequenceClassification model from a BertForPreTraining model).\n",
      "- This IS NOT expected if you are initializing AlbertForSequenceClassification from the checkpoint of a model that you expect to be exactly identical (initializing a BertForSequenceClassification model from a BertForSequenceClassification model).\n",
      "Some weights of AlbertForSequenceClassification were not initialized from the model checkpoint at ai4bharat/indic-bert and are newly initialized: ['classifier.weight', 'classifier.bias']\n",
      "You should probably TRAIN this model on a down-stream task to be able to use it for predictions and inference.\n",
      "/usr/local/lib/python3.6/dist-packages/pytorch_lightning/utilities/distributed.py:25: UserWarning: The dataloader, test dataloader 0, does not have many workers which may be a bottleneck. Consider increasing the value of the `num_workers` argument` (try 12 which is the number of cpus on this machine) in the `DataLoader` init to improve performance.\n",
      "  warnings.warn(*args, **kwargs)\n"
     ]
    },
    {
     "data": {
      "application/vnd.jupyter.widget-view+json": {
       "model_id": "c493261efd5d4d1ab1695d5084a97573",
       "version_major": 2,
       "version_minor": 0
      },
      "text/plain": [
       "HBox(children=(FloatProgress(value=1.0, bar_style='info', description='Testing', layout=Layout(flex='2'), max=…"
      ]
     },
     "metadata": {},
     "output_type": "display_data"
    },
    {
     "name": "stdout",
     "output_type": "stream",
     "text": [
      "Logits written to :../outputs_ta/amrita-paraphrase-exact/train-ta/model-ai4bharat-indic-bert/test_results_ta.csv\n",
      "--------------------------------------------------------------------------------\n",
      "TEST RESULTS\n",
      "{'acc': 0.8495887191539365,\n",
      " 'avg_test_loss': 0.44980308413505554,\n",
      " 'val_loss': 0.44980308413505554}\n",
      "--------------------------------------------------------------------------------\n",
      "{'avg_test_loss': 0.44980308413505554, 'val_loss': 0.44980308413505554, 'acc': 0.8495887191539365}\n",
      "\n"
     ]
    },
    {
     "data": {
      "text/plain": [
       "TextClassification(\n",
       "  (model): AlbertForSequenceClassification(\n",
       "    (albert): AlbertModel(\n",
       "      (embeddings): AlbertEmbeddings(\n",
       "        (word_embeddings): Embedding(200000, 128, padding_idx=0)\n",
       "        (position_embeddings): Embedding(512, 128)\n",
       "        (token_type_embeddings): Embedding(2, 128)\n",
       "        (LayerNorm): LayerNorm((128,), eps=1e-12, elementwise_affine=True)\n",
       "        (dropout): Dropout(p=0, inplace=False)\n",
       "      )\n",
       "      (encoder): AlbertTransformer(\n",
       "        (embedding_hidden_mapping_in): Linear(in_features=128, out_features=768, bias=True)\n",
       "        (albert_layer_groups): ModuleList(\n",
       "          (0): AlbertLayerGroup(\n",
       "            (albert_layers): ModuleList(\n",
       "              (0): AlbertLayer(\n",
       "                (full_layer_layer_norm): LayerNorm((768,), eps=1e-12, elementwise_affine=True)\n",
       "                (attention): AlbertAttention(\n",
       "                  (query): Linear(in_features=768, out_features=768, bias=True)\n",
       "                  (key): Linear(in_features=768, out_features=768, bias=True)\n",
       "                  (value): Linear(in_features=768, out_features=768, bias=True)\n",
       "                  (attention_dropout): Dropout(p=0, inplace=False)\n",
       "                  (output_dropout): Dropout(p=0, inplace=False)\n",
       "                  (dense): Linear(in_features=768, out_features=768, bias=True)\n",
       "                  (LayerNorm): LayerNorm((768,), eps=1e-12, elementwise_affine=True)\n",
       "                )\n",
       "                (ffn): Linear(in_features=768, out_features=3072, bias=True)\n",
       "                (ffn_output): Linear(in_features=3072, out_features=768, bias=True)\n",
       "                (dropout): Dropout(p=0, inplace=False)\n",
       "              )\n",
       "            )\n",
       "          )\n",
       "        )\n",
       "      )\n",
       "      (pooler): Linear(in_features=768, out_features=768, bias=True)\n",
       "      (pooler_activation): Tanh()\n",
       "    )\n",
       "    (dropout): Dropout(p=0.1, inplace=False)\n",
       "    (classifier): Linear(in_features=768, out_features=2, bias=True)\n",
       "  )\n",
       "  (trained_model): TextClassification(\n",
       "    (model): AlbertForSequenceClassification(\n",
       "      (albert): AlbertModel(\n",
       "        (embeddings): AlbertEmbeddings(\n",
       "          (word_embeddings): Embedding(200000, 128, padding_idx=0)\n",
       "          (position_embeddings): Embedding(512, 128)\n",
       "          (token_type_embeddings): Embedding(2, 128)\n",
       "          (LayerNorm): LayerNorm((128,), eps=1e-12, elementwise_affine=True)\n",
       "          (dropout): Dropout(p=0, inplace=False)\n",
       "        )\n",
       "        (encoder): AlbertTransformer(\n",
       "          (embedding_hidden_mapping_in): Linear(in_features=128, out_features=768, bias=True)\n",
       "          (albert_layer_groups): ModuleList(\n",
       "            (0): AlbertLayerGroup(\n",
       "              (albert_layers): ModuleList(\n",
       "                (0): AlbertLayer(\n",
       "                  (full_layer_layer_norm): LayerNorm((768,), eps=1e-12, elementwise_affine=True)\n",
       "                  (attention): AlbertAttention(\n",
       "                    (query): Linear(in_features=768, out_features=768, bias=True)\n",
       "                    (key): Linear(in_features=768, out_features=768, bias=True)\n",
       "                    (value): Linear(in_features=768, out_features=768, bias=True)\n",
       "                    (attention_dropout): Dropout(p=0, inplace=False)\n",
       "                    (output_dropout): Dropout(p=0, inplace=False)\n",
       "                    (dense): Linear(in_features=768, out_features=768, bias=True)\n",
       "                    (LayerNorm): LayerNorm((768,), eps=1e-12, elementwise_affine=True)\n",
       "                  )\n",
       "                  (ffn): Linear(in_features=768, out_features=3072, bias=True)\n",
       "                  (ffn_output): Linear(in_features=3072, out_features=768, bias=True)\n",
       "                  (dropout): Dropout(p=0, inplace=False)\n",
       "                )\n",
       "              )\n",
       "            )\n",
       "          )\n",
       "        )\n",
       "        (pooler): Linear(in_features=768, out_features=768, bias=True)\n",
       "        (pooler_activation): Tanh()\n",
       "      )\n",
       "      (dropout): Dropout(p=0.1, inplace=False)\n",
       "      (classifier): Linear(in_features=768, out_features=2, bias=True)\n",
       "    )\n",
       "  )\n",
       ")"
      ]
     },
     "execution_count": 13,
     "metadata": {},
     "output_type": "execute_result"
    }
   ],
   "source": [
    "# %rm -dr outputs0 outputs1\n",
    "\n",
    "\n",
    "import os\n",
    "from pathlib import Path\n",
    "\n",
    "\n",
    "from fine_tune.cli import main as finetune_main\n",
    "\n",
    "argvec = ['--lang', 'ta',\n",
    "          '--train_lang', 'ta',\n",
    "          '--dataset', 'amrita-paraphrase-exact', \n",
    "          '--model', 'ai4bharat/indic-bert',\n",
    "          '--iglue_dir', '../indic-glue/',\n",
    "          '--output_dir', '../outputs_ta',\n",
    "          '--max_seq_length', '256', #'128', # '512',\n",
    "          '--learning_rate', '2e-5',\n",
    "          '--num_train_epochs', '1',\n",
    "          '--cache_dir', '../ib-cache',\n",
    "          '--train_batch_size', '16',\n",
    "          '--seed', '3',\n",
    "\n",
    "]\n",
    "\n",
    "p = Path('../outputs_ta')\n",
    "Path(p).mkdir(parents=True, exist_ok=True)\n",
    "finetune_main(argvec)\n",
    "\n"
   ]
  },
  {
   "cell_type": "markdown",
   "metadata": {},
   "source": [
    "## Error Analysis"
   ]
  },
  {
   "cell_type": "markdown",
   "metadata": {},
   "source": [
    "## Load the scores for Test."
   ]
  },
  {
   "cell_type": "code",
   "execution_count": null,
   "metadata": {},
   "outputs": [],
   "source": [
    "!pwd"
   ]
  },
  {
   "cell_type": "code",
   "execution_count": null,
   "metadata": {},
   "outputs": [],
   "source": []
  },
  {
   "cell_type": "code",
   "execution_count": 14,
   "metadata": {},
   "outputs": [
    {
     "data": {
      "text/plain": [
       "'../outputs_ta/amrita-paraphrase-exact/train-ta/model-ai4bharat-indic-bert/test_results_ta.csv'"
      ]
     },
     "execution_count": 14,
     "metadata": {},
     "output_type": "execute_result"
    }
   ],
   "source": [
    "results_file = '../outputs_ta/amrita-paraphrase-exact/train-ta/model-ai4bharat-indic-bert/test_results_ta.csv'\n",
    "results_file"
   ]
  },
  {
   "cell_type": "code",
   "execution_count": 15,
   "metadata": {},
   "outputs": [],
   "source": [
    "test_res = pd.read_csv(results_file, header=None)"
   ]
  },
  {
   "cell_type": "code",
   "execution_count": 16,
   "metadata": {
    "scrolled": true
   },
   "outputs": [
    {
     "data": {
      "text/plain": [
       "(851, 4)"
      ]
     },
     "execution_count": 16,
     "metadata": {},
     "output_type": "execute_result"
    }
   ],
   "source": [
    "test_res.shape"
   ]
  },
  {
   "cell_type": "code",
   "execution_count": 17,
   "metadata": {},
   "outputs": [],
   "source": [
    "test_res.columns=['prob_P', 'prob_NP', 'pred', 'actual']"
   ]
  },
  {
   "cell_type": "code",
   "execution_count": 18,
   "metadata": {},
   "outputs": [
    {
     "name": "stdout",
     "output_type": "stream",
     "text": [
      "Predicted  0.0  1.0\n",
      "Actual             \n",
      "0.0        281   70\n",
      "1.0         58  442\n"
     ]
    }
   ],
   "source": [
    "confusion_matrix = pd.crosstab(test_res['actual'], test_res['pred'], rownames=['Actual'], colnames=['Predicted'])\n",
    "print (confusion_matrix)"
   ]
  },
  {
   "cell_type": "code",
   "execution_count": 19,
   "metadata": {},
   "outputs": [
    {
     "data": {
      "image/png": "[encoded data removed]",
      "text/plain": [
       "<Figure size 432x288 with 2 Axes>"
      ]
     },
     "metadata": {
      "needs_background": "light"
     },
     "output_type": "display_data"
    }
   ],
   "source": [
    "sn.heatmap(confusion_matrix, annot=True)\n",
    "plt.show()"
   ]
  },
  {
   "cell_type": "markdown",
   "metadata": {},
   "source": [
    "## Combine logits, original sentence, and translations"
   ]
  },
  {
   "cell_type": "code",
   "execution_count": 20,
   "metadata": {},
   "outputs": [],
   "source": [
    "test['pred'] = test_res['pred']\n",
    "test['actual'] = test_res['actual']"
   ]
  },
  {
   "cell_type": "code",
   "execution_count": 21,
   "metadata": {},
   "outputs": [],
   "source": [
    "test.columns = ['sentence1', 'sentence2', 'class', 'pred','actual']"
   ]
  },
  {
   "cell_type": "code",
   "execution_count": 22,
   "metadata": {},
   "outputs": [
    {
     "data": {
      "text/html": [
       "<div>\n",
       "<style scoped>\n",
       "    .dataframe tbody tr th:only-of-type {\n",
       "        vertical-align: middle;\n",
       "    }\n",
       "\n",
       "    .dataframe tbody tr th {\n",
       "        vertical-align: top;\n",
       "    }\n",
       "\n",
       "    .dataframe thead th {\n",
       "        text-align: right;\n",
       "    }\n",
       "</style>\n",
       "<table border=\"1\" class=\"dataframe\">\n",
       "  <thead>\n",
       "    <tr style=\"text-align: right;\">\n",
       "      <th></th>\n",
       "      <th>sentence1</th>\n",
       "      <th>sentence2</th>\n",
       "      <th>class</th>\n",
       "      <th>pred</th>\n",
       "      <th>actual</th>\n",
       "    </tr>\n",
       "  </thead>\n",
       "  <tbody>\n",
       "    <tr>\n",
       "      <th>0</th>\n",
       "      <td>.நான் என்ற சொல்லை ஒழித்து நாம் என்று உருவாக்கு...</td>\n",
       "      <td>நான் என்ற சொல்லை ஒழிப்பதன்மூலம் நாம் என்ற ஒற்ற...</td>\n",
       "      <td>P</td>\n",
       "      <td>0.0</td>\n",
       "      <td>0.0</td>\n",
       "    </tr>\n",
       "    <tr>\n",
       "      <th>1</th>\n",
       "      <td>‘‘முல்லைப் பெரியாறு அணைக்குப் பதில் அங்கு புதி...</td>\n",
       "      <td>முல்லை பெரியாறு அணைக்கு பதில் புதிய அணை கட்டவே...</td>\n",
       "      <td>P</td>\n",
       "      <td>0.0</td>\n",
       "      <td>0.0</td>\n",
       "    </tr>\n",
       "    <tr>\n",
       "      <th>2</th>\n",
       "      <td>‘உலக நாடுகளுக்கு தீவிரவாதம் மிகக் கொடூர அச்சு...</td>\n",
       "      <td>உலக நாடுகளுக்கு தீவிரவாதம் கொடூர அச்சுறுத்தலா...</td>\n",
       "      <td>P</td>\n",
       "      <td>0.0</td>\n",
       "      <td>0.0</td>\n",
       "    </tr>\n",
       "    <tr>\n",
       "      <th>3</th>\n",
       "      <td>‘குளச்சல் அருகே துறைமுகம் கட்டுவது சரியல்ல. இந...</td>\n",
       "      <td>குளச்சலில் துறைமுகம் ஏற்படுத்த பிரதமர் மோடியி...</td>\n",
       "      <td>P</td>\n",
       "      <td>1.0</td>\n",
       "      <td>0.0</td>\n",
       "    </tr>\n",
       "    <tr>\n",
       "      <th>4</th>\n",
       "      <td>‘செல்பி’ பிரியர்களே உஷாராக இருங்கள்.</td>\n",
       "      <td>செல்பி எடுக்கும் போது முகம் பாதிக்கப்படுகிறது.</td>\n",
       "      <td>NP</td>\n",
       "      <td>1.0</td>\n",
       "      <td>1.0</td>\n",
       "    </tr>\n",
       "  </tbody>\n",
       "</table>\n",
       "</div>"
      ],
      "text/plain": [
       "                                           sentence1  \\\n",
       "0  .நான் என்ற சொல்லை ஒழித்து நாம் என்று உருவாக்கு...   \n",
       "1  ‘‘முல்லைப் பெரியாறு அணைக்குப் பதில் அங்கு புதி...   \n",
       "2  ‘உலக நாடுகளுக்கு தீவிரவாதம் மிகக் கொடூர அச்சு...   \n",
       "3  ‘குளச்சல் அருகே துறைமுகம் கட்டுவது சரியல்ல. இந...   \n",
       "4               ‘செல்பி’ பிரியர்களே உஷாராக இருங்கள்.   \n",
       "\n",
       "                                           sentence2 class  pred  actual  \n",
       "0  நான் என்ற சொல்லை ஒழிப்பதன்மூலம் நாம் என்ற ஒற்ற...     P   0.0     0.0  \n",
       "1  முல்லை பெரியாறு அணைக்கு பதில் புதிய அணை கட்டவே...     P   0.0     0.0  \n",
       "2  உலக நாடுகளுக்கு தீவிரவாதம் கொடூர அச்சுறுத்தலா...     P   0.0     0.0  \n",
       "3  குளச்சலில் துறைமுகம் ஏற்படுத்த பிரதமர் மோடியி...     P   1.0     0.0  \n",
       "4     செல்பி எடுக்கும் போது முகம் பாதிக்கப்படுகிறது.    NP   1.0     1.0  "
      ]
     },
     "execution_count": 22,
     "metadata": {},
     "output_type": "execute_result"
    }
   ],
   "source": [
    "test.head()"
   ]
  },
  {
   "cell_type": "code",
   "execution_count": 23,
   "metadata": {},
   "outputs": [
    {
     "name": "stderr",
     "output_type": "stream",
     "text": [
      "/usr/local/lib/python3.6/dist-packages/ipykernel_launcher.py:1: UserWarning: Boolean Series key will be reindexed to match DataFrame index.\n",
      "  \"\"\"Entry point for launching an IPython kernel.\n"
     ]
    }
   ],
   "source": [
    "misclassified_ta_paraphrase  = test[test['pred']!=test['actual'] ][test['class']=='P']"
   ]
  },
  {
   "cell_type": "code",
   "execution_count": 24,
   "metadata": {
    "scrolled": true
   },
   "outputs": [
    {
     "data": {
      "text/html": [
       "<div>\n",
       "<style scoped>\n",
       "    .dataframe tbody tr th:only-of-type {\n",
       "        vertical-align: middle;\n",
       "    }\n",
       "\n",
       "    .dataframe tbody tr th {\n",
       "        vertical-align: top;\n",
       "    }\n",
       "\n",
       "    .dataframe thead th {\n",
       "        text-align: right;\n",
       "    }\n",
       "</style>\n",
       "<table border=\"1\" class=\"dataframe\">\n",
       "  <thead>\n",
       "    <tr style=\"text-align: right;\">\n",
       "      <th></th>\n",
       "      <th>sentence1</th>\n",
       "      <th>sentence2</th>\n",
       "      <th>class</th>\n",
       "      <th>pred</th>\n",
       "      <th>actual</th>\n",
       "    </tr>\n",
       "  </thead>\n",
       "  <tbody>\n",
       "    <tr>\n",
       "      <th>3</th>\n",
       "      <td>‘குளச்சல் அருகே துறைமுகம் கட்டுவது சரியல்ல. இந...</td>\n",
       "      <td>குளச்சலில் துறைமுகம் ஏற்படுத்த பிரதமர் மோடியி...</td>\n",
       "      <td>P</td>\n",
       "      <td>1.0</td>\n",
       "      <td>0.0</td>\n",
       "    </tr>\n",
       "    <tr>\n",
       "      <th>36</th>\n",
       "      <td>அசாம் மாநிலத்தில் தொடர்ந்து பெய்துவரும் கனமழைய...</td>\n",
       "      <td>அசாமில் கனமழையால் ஒரு லட்சத்திற்கும் அதிகமானோர...</td>\n",
       "      <td>P</td>\n",
       "      <td>1.0</td>\n",
       "      <td>0.0</td>\n",
       "    </tr>\n",
       "    <tr>\n",
       "      <th>42</th>\n",
       "      <td>அணு எரிபொருள் வழங்கும் நாடுகள் (நியூக்ளியர் சப...</td>\n",
       "      <td>அணுசக்தி விநியோக நாடுகள் குழுவில் இந்தியா இடம்...</td>\n",
       "      <td>P</td>\n",
       "      <td>1.0</td>\n",
       "      <td>0.0</td>\n",
       "    </tr>\n",
       "    <tr>\n",
       "      <th>53</th>\n",
       "      <td>அதிகார வெறி காரணமாக, மக்களின் தீர்ப்புக்கு நரே...</td>\n",
       "      <td>மோடி அரசுக்கு அதிகார வெறி: சோனியா காந்தி குற்ற...</td>\n",
       "      <td>P</td>\n",
       "      <td>1.0</td>\n",
       "      <td>0.0</td>\n",
       "    </tr>\n",
       "    <tr>\n",
       "      <th>59</th>\n",
       "      <td>அமர்நாத் குகைக் கோயில் தரிசனத்துக்கு திறக்கப்ப...</td>\n",
       "      <td>அமர்நாத் குகை கோயிலில் 86 ஆயிரம் பக்தர்கள் தரி...</td>\n",
       "      <td>P</td>\n",
       "      <td>1.0</td>\n",
       "      <td>0.0</td>\n",
       "    </tr>\n",
       "    <tr>\n",
       "      <th>...</th>\n",
       "      <td>...</td>\n",
       "      <td>...</td>\n",
       "      <td>...</td>\n",
       "      <td>...</td>\n",
       "      <td>...</td>\n",
       "    </tr>\n",
       "    <tr>\n",
       "      <th>811</th>\n",
       "      <td>வெள்ளப் பெருக்கால், சென்னையில் கூவம், அடையாறு ...</td>\n",
       "      <td>சென்னையில் பெய்த மழையால் கூவம் ஆறு சுத்தமாகியு...</td>\n",
       "      <td>P</td>\n",
       "      <td>1.0</td>\n",
       "      <td>0.0</td>\n",
       "    </tr>\n",
       "    <tr>\n",
       "      <th>813</th>\n",
       "      <td>வெளிநாடுகளில் கறுப்பு பணத்தை பதுக்கியவர்கள், த...</td>\n",
       "      <td>கறுப்பு பண முதலைகள் மீது நியாயமான நடவடிக்கை: ம...</td>\n",
       "      <td>P</td>\n",
       "      <td>1.0</td>\n",
       "      <td>0.0</td>\n",
       "    </tr>\n",
       "    <tr>\n",
       "      <th>825</th>\n",
       "      <td>ஜம்மு காஷ்மீரில் பலத்த பாதுகாப்புக்கு மத்தியில...</td>\n",
       "      <td>அமர்நாத் யாத்திரை மீண்டும் தொடங்கியது</td>\n",
       "      <td>P</td>\n",
       "      <td>1.0</td>\n",
       "      <td>0.0</td>\n",
       "    </tr>\n",
       "    <tr>\n",
       "      <th>830</th>\n",
       "      <td>ஜனவரியில் நடைபெற்ற அதிபர் தேர்தலில் ராஜபக் ஷே,...</td>\n",
       "      <td>ராஜபக் ஷே தோல்வி; பிரதமராகிறார் ரணில்</td>\n",
       "      <td>P</td>\n",
       "      <td>1.0</td>\n",
       "      <td>0.0</td>\n",
       "    </tr>\n",
       "    <tr>\n",
       "      <th>842</th>\n",
       "      <td>ஸ்லாமிய மதபோதகர் ஜாகீர் நாயக்கின் பேச்சுக்களை...</td>\n",
       "      <td>ஜாகீர் நாயக் பேச்சுக்களை ஆராய்ந்து வருகிறோம்: ...</td>\n",
       "      <td>P</td>\n",
       "      <td>1.0</td>\n",
       "      <td>0.0</td>\n",
       "    </tr>\n",
       "  </tbody>\n",
       "</table>\n",
       "<p>70 rows × 5 columns</p>\n",
       "</div>"
      ],
      "text/plain": [
       "                                             sentence1  \\\n",
       "3    ‘குளச்சல் அருகே துறைமுகம் கட்டுவது சரியல்ல. இந...   \n",
       "36   அசாம் மாநிலத்தில் தொடர்ந்து பெய்துவரும் கனமழைய...   \n",
       "42   அணு எரிபொருள் வழங்கும் நாடுகள் (நியூக்ளியர் சப...   \n",
       "53   அதிகார வெறி காரணமாக, மக்களின் தீர்ப்புக்கு நரே...   \n",
       "59   அமர்நாத் குகைக் கோயில் தரிசனத்துக்கு திறக்கப்ப...   \n",
       "..                                                 ...   \n",
       "811  வெள்ளப் பெருக்கால், சென்னையில் கூவம், அடையாறு ...   \n",
       "813  வெளிநாடுகளில் கறுப்பு பணத்தை பதுக்கியவர்கள், த...   \n",
       "825  ஜம்மு காஷ்மீரில் பலத்த பாதுகாப்புக்கு மத்தியில...   \n",
       "830  ஜனவரியில் நடைபெற்ற அதிபர் தேர்தலில் ராஜபக் ஷே,...   \n",
       "842  ஸ்லாமிய மதபோதகர் ஜாகீர் நாயக்கின் பேச்சுக்களை...   \n",
       "\n",
       "                                             sentence2 class  pred  actual  \n",
       "3    குளச்சலில் துறைமுகம் ஏற்படுத்த பிரதமர் மோடியி...     P   1.0     0.0  \n",
       "36   அசாமில் கனமழையால் ஒரு லட்சத்திற்கும் அதிகமானோர...     P   1.0     0.0  \n",
       "42   அணுசக்தி விநியோக நாடுகள் குழுவில் இந்தியா இடம்...     P   1.0     0.0  \n",
       "53   மோடி அரசுக்கு அதிகார வெறி: சோனியா காந்தி குற்ற...     P   1.0     0.0  \n",
       "59   அமர்நாத் குகை கோயிலில் 86 ஆயிரம் பக்தர்கள் தரி...     P   1.0     0.0  \n",
       "..                                                 ...   ...   ...     ...  \n",
       "811  சென்னையில் பெய்த மழையால் கூவம் ஆறு சுத்தமாகியு...     P   1.0     0.0  \n",
       "813  கறுப்பு பண முதலைகள் மீது நியாயமான நடவடிக்கை: ம...     P   1.0     0.0  \n",
       "825              அமர்நாத் யாத்திரை மீண்டும் தொடங்கியது     P   1.0     0.0  \n",
       "830              ராஜபக் ஷே தோல்வி; பிரதமராகிறார் ரணில்     P   1.0     0.0  \n",
       "842  ஜாகீர் நாயக் பேச்சுக்களை ஆராய்ந்து வருகிறோம்: ...     P   1.0     0.0  \n",
       "\n",
       "[70 rows x 5 columns]"
      ]
     },
     "execution_count": 24,
     "metadata": {},
     "output_type": "execute_result"
    }
   ],
   "source": [
    "misclassified_ta_paraphrase"
   ]
  },
  {
   "cell_type": "code",
   "execution_count": 25,
   "metadata": {},
   "outputs": [],
   "source": [
    "misclassified_ta_paraphrase.to_csv('../misclassified_ta_paraphrase_deduped.csv', sep='\\t', encoding='utf-8')"
   ]
  },
  {
   "cell_type": "markdown",
   "metadata": {},
   "source": [
    "Some common themes why the model is misclassifying are:\n",
    "\n",
    "confusion between quotes and a report. \n",
    "Sentence 2 are summaries of sentence 1\n"
   ]
  },
  {
   "cell_type": "code",
   "execution_count": null,
   "metadata": {},
   "outputs": [],
   "source": []
  },
  {
   "cell_type": "code",
   "execution_count": null,
   "metadata": {},
   "outputs": [],
   "source": []
  }
 ],
 "metadata": {
  "kernelspec": {
   "display_name": "Python 3",
   "language": "python",
   "name": "python3"
  },
  "language_info": {
   "codemirror_mode": {
    "name": "ipython",
    "version": 3
   },
   "file_extension": ".py",
   "mimetype": "text/x-python",
   "name": "python",
   "nbconvert_exporter": "python",
   "pygments_lexer": "ipython3",
   "version": "3.6.9"
  }
 },
 "nbformat": 4,
 "nbformat_minor": 4
}
