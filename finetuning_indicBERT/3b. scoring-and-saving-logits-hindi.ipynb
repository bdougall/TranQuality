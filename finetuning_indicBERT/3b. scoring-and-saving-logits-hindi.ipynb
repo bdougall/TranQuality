{
 "cells": [
  {
   "cell_type": "markdown",
   "metadata": {},
   "source": [
    "This note book has 6 main steps:\n",
    "\n",
    "\n",
    "1. Load the checkpoint\n",
    "2. Score the file created by mBART by translating `english` to `hindi`\n",
    "3. Score the file created by IndicTrans by translating `english` to `hindi`\n",
    "4. Combine the logits from step 2, step 3, with the original sentence and the translated senences. This is also saved for further analysis\n",
    "5. Apply `softmax` on the logits from step 2 and 3, resulting in `selecting` the better translations\n",
    "6. Run sacreblue on the \n",
    "    a. mBART translations with reference to original \n",
    "    b. IndicTrans translations with reference to original \n",
    "    c. selected translations with reference to original \n",
    "    \n",
    "    \n",
    "If our hypothesis worked, we should have sacreblue from step 6c better than 6a or 6b"
   ]
  },
  {
   "cell_type": "code",
   "execution_count": 1,
   "metadata": {},
   "outputs": [
    {
     "name": "stdout",
     "output_type": "stream",
     "text": [
      "/w266/w266/project/finetuning/indic-bert\n"
     ]
    }
   ],
   "source": [
    "%cd indic-bert"
   ]
  },
  {
   "cell_type": "code",
   "execution_count": 2,
   "metadata": {},
   "outputs": [],
   "source": [
    "import glob\n",
    "import os"
   ]
  },
  {
   "cell_type": "code",
   "execution_count": 3,
   "metadata": {},
   "outputs": [],
   "source": [
    "from fine_tune.modules import get_modules\n",
    "from fine_tune.data import load_dataset\n",
    "from fine_tune.data.examples import *\n",
    "from fine_tune.modules import base"
   ]
  },
  {
   "cell_type": "code",
   "execution_count": 4,
   "metadata": {},
   "outputs": [],
   "source": [
    "import pandas as pd\n",
    "import numpy as np\n",
    "np.set_printoptions(precision=5)"
   ]
  },
  {
   "cell_type": "code",
   "execution_count": 5,
   "metadata": {},
   "outputs": [],
   "source": [
    "from transformers import (\n",
    "    AdamW,\n",
    "    AutoConfig,\n",
    "    AutoModel,\n",
    "    AutoModelForSequenceClassification,\n",
    "    AutoTokenizer,\n",
    "    get_linear_schedule_with_warmup,\n",
    ")"
   ]
  },
  {
   "cell_type": "code",
   "execution_count": 6,
   "metadata": {},
   "outputs": [],
   "source": [
    "def _softmax(x1, x2, tog=0):\n",
    "    a = np.exp([x1,x2])/np.sum(np.exp([x1,x2]))\n",
    "    if tog == 1:\n",
    "        return a[0]\n",
    "    else:\n",
    "        return a[1]\n",
    "\n",
    "def apply_softmax(df, tog):\n",
    "    return df.apply(lambda row: _softmax(row[0], row[1], tog), axis=1)"
   ]
  },
  {
   "cell_type": "code",
   "execution_count": 7,
   "metadata": {},
   "outputs": [],
   "source": [
    "## Setting up parameters for the model\n",
    "hparams = {\n",
    "    'dataset': 'amrita-paraphrase-exact', \n",
    "    'model': 'ai4bharat/indic-bert', \n",
    "    'config_name': '', \n",
    "    'tokenizer_name': '', \n",
    "    'max_seq_length': 256, \n",
    "    'iglue_dir': '../indic-glue', \n",
    "    'overwrite_cache': True, \n",
    "    'cache_dir': '../ib-cache', \n",
    "    'fp16': False, \n",
    "    'fp16_opt_level': 'O1', \n",
    "    'n_gpu': 1, \n",
    "    'n_tpu_cores': 0, \n",
    "    'max_grad_norm': 1.0, \n",
    "    'do_train': True, \n",
    "    'do_predict': True, \n",
    "    'gradient_accumulation_steps': 1,\n",
    "    'seed': 8, \n",
    "    'learning_rate': 2e-05, \n",
    "    'weight_decay': 0.0, \n",
    "    'adam_epsilon': 1e-08, \n",
    "    'warmup_steps': 0, \n",
    "    'num_train_epochs': 1, \n",
    "    'train_batch_size': 16, \n",
    "    'eval_batch_size': 32, \n",
    "    'labels': '', \n",
    "    'model_name_or_path': 'ai4bharat/indic-bert', \n",
    "    'data_dir': '../indic-glue/amrita-paraphrase-exact', \n",
    "    'mode': 'sequence-classification', \n",
    "    'output_mode': 'classification', #'classification', \n",
    "    'example_type': 'text', \n",
    "    'num_labels': 2\n",
    "}"
   ]
  },
  {
   "cell_type": "code",
   "execution_count": 8,
   "metadata": {},
   "outputs": [],
   "source": [
    "### Set up parameters for hindi\n",
    "hparams['out_dir'] = '../outputs/8/'\n",
    "hparams['lang'] = 'hi' \n",
    "hparams['train_lang'] = 'hi'\n",
    "hparams['dev_lang'] = 'hi'\n",
    "hparams['test_lang'] = 'hi'\n",
    "hparams['output_dir'] = '{}amrita-paraphrase-exact/train-{}/model-ai4bharat-indic-bert'.format(hparams['out_dir'],hparams['lang'] ) "
   ]
  },
  {
   "cell_type": "code",
   "execution_count": 9,
   "metadata": {},
   "outputs": [],
   "source": [
    "config_name = hparams['config_name'] or hparams['model_name_or_path']\n",
    "args = {'num_labels': hparams['num_labels']}\n",
    "config = AutoConfig.from_pretrained(\n",
    "    config_name,\n",
    "    **args,\n",
    "    cache_dir=hparams['cache_dir']\n",
    ")"
   ]
  },
  {
   "cell_type": "markdown",
   "metadata": {},
   "source": [
    "## Score mBART Hindi"
   ]
  },
  {
   "cell_type": "code",
   "execution_count": 10,
   "metadata": {},
   "outputs": [],
   "source": [
    "! rm ../indic-glue/amrita-paraphrase-exact/cached*"
   ]
  },
  {
   "cell_type": "code",
   "execution_count": 11,
   "metadata": {},
   "outputs": [],
   "source": [
    "!cp ../indic-glue/amrita-paraphrase-exact/hi/hi-bart-test.csv ../indic-glue/amrita-paraphrase-exact/hi/hi-test.csv "
   ]
  },
  {
   "cell_type": "code",
   "execution_count": 12,
   "metadata": {},
   "outputs": [
    {
     "data": {
      "text/plain": [
       "(1000, 3)"
      ]
     },
     "execution_count": 12,
     "metadata": {},
     "output_type": "execute_result"
    }
   ],
   "source": [
    "## Check if you have the right file\n",
    "mbart_test = pd.read_csv('../indic-glue/amrita-paraphrase-exact/hi/hi-test.csv', header=None)\n",
    "mbart_test.shape"
   ]
  },
  {
   "cell_type": "code",
   "execution_count": 13,
   "metadata": {},
   "outputs": [
    {
     "data": {
      "text/plain": [
       "fine_tune.modules.text_classification.TextClassification"
      ]
     },
     "execution_count": 13,
     "metadata": {},
     "output_type": "execute_result"
    }
   ],
   "source": [
    "# module_name = 'text_classification'\n",
    "\n",
    "text_classification_trainer = get_modules('text_classification')\n",
    "text_classification_trainer"
   ]
  },
  {
   "cell_type": "markdown",
   "metadata": {},
   "source": [
    "### Load model from checkpoint"
   ]
  },
  {
   "cell_type": "code",
   "execution_count": 14,
   "metadata": {
    "scrolled": false
   },
   "outputs": [
    {
     "name": "stderr",
     "output_type": "stream",
     "text": [
      "Some weights of the model checkpoint at ai4bharat/indic-bert were not used when initializing AlbertForSequenceClassification: ['predictions.bias', 'predictions.LayerNorm.weight', 'predictions.LayerNorm.bias', 'predictions.dense.weight', 'predictions.dense.bias', 'predictions.decoder.weight', 'predictions.decoder.bias', 'sop_classifier.classifier.weight', 'sop_classifier.classifier.bias']\n",
      "- This IS expected if you are initializing AlbertForSequenceClassification from the checkpoint of a model trained on another task or with another architecture (e.g. initializing a BertForSequenceClassification model from a BertForPreTraining model).\n",
      "- This IS NOT expected if you are initializing AlbertForSequenceClassification from the checkpoint of a model that you expect to be exactly identical (initializing a BertForSequenceClassification model from a BertForSequenceClassification model).\n",
      "Some weights of AlbertForSequenceClassification were not initialized from the model checkpoint at ai4bharat/indic-bert and are newly initialized: ['classifier.weight', 'classifier.bias']\n",
      "You should probably TRAIN this model on a down-stream task to be able to use it for predictions and inference.\n",
      "Some weights of the model checkpoint at ai4bharat/indic-bert were not used when initializing AlbertForSequenceClassification: ['predictions.bias', 'predictions.LayerNorm.weight', 'predictions.LayerNorm.bias', 'predictions.dense.weight', 'predictions.dense.bias', 'predictions.decoder.weight', 'predictions.decoder.bias', 'sop_classifier.classifier.weight', 'sop_classifier.classifier.bias']\n",
      "- This IS expected if you are initializing AlbertForSequenceClassification from the checkpoint of a model trained on another task or with another architecture (e.g. initializing a BertForSequenceClassification model from a BertForPreTraining model).\n",
      "- This IS NOT expected if you are initializing AlbertForSequenceClassification from the checkpoint of a model that you expect to be exactly identical (initializing a BertForSequenceClassification model from a BertForSequenceClassification model).\n",
      "Some weights of AlbertForSequenceClassification were not initialized from the model checkpoint at ai4bharat/indic-bert and are newly initialized: ['classifier.weight', 'classifier.bias']\n",
      "You should probably TRAIN this model on a down-stream task to be able to use it for predictions and inference.\n"
     ]
    }
   ],
   "source": [
    "tc_trainer_instance = text_classification_trainer(hparams)\n",
    "checkpoints = list(sorted(glob.glob(os.path.join(hparams['output_dir'], 'checkpointepoch=*.ckpt'), recursive=True)))\n",
    "trained_model = tc_trainer_instance.load_from_checkpoint(checkpoints[-1])"
   ]
  },
  {
   "cell_type": "markdown",
   "metadata": {},
   "source": [
    "Set up a pytorch lighning Trainer"
   ]
  },
  {
   "cell_type": "code",
   "execution_count": 15,
   "metadata": {
    "scrolled": true
   },
   "outputs": [
    {
     "name": "stderr",
     "output_type": "stream",
     "text": [
      "/usr/local/lib/python3.6/dist-packages/pytorch_lightning/utilities/distributed.py:25: UserWarning: Checkpoint directory ../outputs/8/amrita-paraphrase-exact/train-hi/model-ai4bharat-indic-bert exists and is not empty with save_top_k != 0.All files in this directory will be deleted when a checkpoint is saved!\n",
      "  warnings.warn(*args, **kwargs)\n",
      "GPU available: True, used: True\n",
      "TPU available: False, using: 0 TPU cores\n",
      "CUDA_VISIBLE_DEVICES: [0]\n"
     ]
    }
   ],
   "source": [
    "trainer = base.create_trainer(trained_model, hparams) #BaseModule(hparams)"
   ]
  },
  {
   "cell_type": "code",
   "execution_count": 16,
   "metadata": {
    "scrolled": true
   },
   "outputs": [
    {
     "name": "stderr",
     "output_type": "stream",
     "text": [
      "/usr/local/lib/python3.6/dist-packages/pytorch_lightning/utilities/distributed.py:25: UserWarning: The dataloader, test dataloader 0, does not have many workers which may be a bottleneck. Consider increasing the value of the `num_workers` argument` (try 12 which is the number of cpus on this machine) in the `DataLoader` init to improve performance.\n",
      "  warnings.warn(*args, **kwargs)\n"
     ]
    },
    {
     "data": {
      "application/vnd.jupyter.widget-view+json": {
       "model_id": "3ec23dd6143c4b8ab5e68650a58d6ccd",
       "version_major": 2,
       "version_minor": 0
      },
      "text/plain": [
       "HBox(children=(FloatProgress(value=1.0, bar_style='info', description='Testing', layout=Layout(flex='2'), max=…"
      ]
     },
     "metadata": {},
     "output_type": "display_data"
    },
    {
     "name": "stdout",
     "output_type": "stream",
     "text": [
      "Logits written to :../outputs/8/amrita-paraphrase-exact/train-hi/model-ai4bharat-indic-bert/test_results_hi.csv\n",
      "--------------------------------------------------------------------------------\n",
      "TEST RESULTS\n",
      "{'acc': 0.955,\n",
      " 'avg_test_loss': 0.6586635708808899,\n",
      " 'val_loss': 0.6586635708808899}\n",
      "--------------------------------------------------------------------------------\n",
      "{'avg_test_loss': 0.6586635708808899, 'val_loss': 0.6586635708808899, 'acc': 0.955}\n",
      "\n"
     ]
    }
   ],
   "source": [
    "trainer.test(trained_model)"
   ]
  },
  {
   "cell_type": "markdown",
   "metadata": {},
   "source": [
    "## Load the scores for mBART translations."
   ]
  },
  {
   "cell_type": "code",
   "execution_count": 17,
   "metadata": {},
   "outputs": [
    {
     "data": {
      "text/plain": [
       "'../outputs/8/amrita-paraphrase-exact/train-hi/model-ai4bharat-indic-bert/test_results_hi.csv'"
      ]
     },
     "execution_count": 17,
     "metadata": {},
     "output_type": "execute_result"
    }
   ],
   "source": [
    "hparams['results_file'] = '{}{}/train-{}/model-ai4bharat-indic-bert/test_results_{}.csv'.format(hparams['out_dir'],  hparams['dataset'] , hparams['lang'] , hparams['lang']) \n",
    "hparams['results_file']"
   ]
  },
  {
   "cell_type": "code",
   "execution_count": 18,
   "metadata": {},
   "outputs": [],
   "source": [
    "mbart = pd.read_csv(hparams['results_file'], header=None)"
   ]
  },
  {
   "cell_type": "code",
   "execution_count": 19,
   "metadata": {},
   "outputs": [
    {
     "data": {
      "text/plain": [
       "(1000, 4)"
      ]
     },
     "execution_count": 19,
     "metadata": {},
     "output_type": "execute_result"
    }
   ],
   "source": [
    "mbart.shape"
   ]
  },
  {
   "cell_type": "code",
   "execution_count": 20,
   "metadata": {},
   "outputs": [
    {
     "data": {
      "text/html": [
       "<div>\n",
       "<style scoped>\n",
       "    .dataframe tbody tr th:only-of-type {\n",
       "        vertical-align: middle;\n",
       "    }\n",
       "\n",
       "    .dataframe tbody tr th {\n",
       "        vertical-align: top;\n",
       "    }\n",
       "\n",
       "    .dataframe thead th {\n",
       "        text-align: right;\n",
       "    }\n",
       "</style>\n",
       "<table border=\"1\" class=\"dataframe\">\n",
       "  <thead>\n",
       "    <tr style=\"text-align: right;\">\n",
       "      <th></th>\n",
       "      <th>0</th>\n",
       "      <th>1</th>\n",
       "      <th>2</th>\n",
       "      <th>3</th>\n",
       "    </tr>\n",
       "  </thead>\n",
       "  <tbody>\n",
       "    <tr>\n",
       "      <th>0</th>\n",
       "      <td>1.641388</td>\n",
       "      <td>-2.035115</td>\n",
       "      <td>0.0</td>\n",
       "      <td>1.0</td>\n",
       "    </tr>\n",
       "    <tr>\n",
       "      <th>1</th>\n",
       "      <td>-0.095410</td>\n",
       "      <td>0.146530</td>\n",
       "      <td>1.0</td>\n",
       "      <td>1.0</td>\n",
       "    </tr>\n",
       "    <tr>\n",
       "      <th>2</th>\n",
       "      <td>-0.093650</td>\n",
       "      <td>0.141301</td>\n",
       "      <td>1.0</td>\n",
       "      <td>1.0</td>\n",
       "    </tr>\n",
       "    <tr>\n",
       "      <th>3</th>\n",
       "      <td>-0.093835</td>\n",
       "      <td>0.141280</td>\n",
       "      <td>1.0</td>\n",
       "      <td>1.0</td>\n",
       "    </tr>\n",
       "    <tr>\n",
       "      <th>4</th>\n",
       "      <td>-0.095638</td>\n",
       "      <td>0.144878</td>\n",
       "      <td>1.0</td>\n",
       "      <td>1.0</td>\n",
       "    </tr>\n",
       "  </tbody>\n",
       "</table>\n",
       "</div>"
      ],
      "text/plain": [
       "          0         1    2    3\n",
       "0  1.641388 -2.035115  0.0  1.0\n",
       "1 -0.095410  0.146530  1.0  1.0\n",
       "2 -0.093650  0.141301  1.0  1.0\n",
       "3 -0.093835  0.141280  1.0  1.0\n",
       "4 -0.095638  0.144878  1.0  1.0"
      ]
     },
     "execution_count": 20,
     "metadata": {},
     "output_type": "execute_result"
    }
   ],
   "source": [
    "mbart.head(5)"
   ]
  },
  {
   "cell_type": "markdown",
   "metadata": {},
   "source": [
    "## Score IndicTrans Hindi"
   ]
  },
  {
   "cell_type": "code",
   "execution_count": 28,
   "metadata": {},
   "outputs": [],
   "source": [
    "! rm ../indic-glue/amrita-paraphrase-exact/cached*"
   ]
  },
  {
   "cell_type": "code",
   "execution_count": 29,
   "metadata": {},
   "outputs": [],
   "source": [
    "!cp ../indic-glue/amrita-paraphrase-exact/hi/hi-indictrans-test.csv ../indic-glue/amrita-paraphrase-exact/hi/hi-test.csv \n"
   ]
  },
  {
   "cell_type": "code",
   "execution_count": 30,
   "metadata": {},
   "outputs": [
    {
     "data": {
      "text/plain": [
       "(1000, 3)"
      ]
     },
     "execution_count": 30,
     "metadata": {},
     "output_type": "execute_result"
    }
   ],
   "source": [
    "## Check if you have the right file\n",
    "mbart_test = pd.read_csv('../indic-glue/amrita-paraphrase-exact/hi/hi-test.csv', header=None)\n",
    "mbart_test.shape"
   ]
  },
  {
   "cell_type": "code",
   "execution_count": 31,
   "metadata": {},
   "outputs": [
    {
     "data": {
      "text/plain": [
       "fine_tune.modules.text_classification.TextClassification"
      ]
     },
     "execution_count": 31,
     "metadata": {},
     "output_type": "execute_result"
    }
   ],
   "source": [
    "# module_name = 'text_classification'\n",
    "\n",
    "text_classification_trainer = get_modules('text_classification')\n",
    "text_classification_trainer"
   ]
  },
  {
   "cell_type": "code",
   "execution_count": 32,
   "metadata": {
    "scrolled": true
   },
   "outputs": [
    {
     "name": "stderr",
     "output_type": "stream",
     "text": [
      "Some weights of the model checkpoint at ai4bharat/indic-bert were not used when initializing AlbertForSequenceClassification: ['predictions.bias', 'predictions.LayerNorm.weight', 'predictions.LayerNorm.bias', 'predictions.dense.weight', 'predictions.dense.bias', 'predictions.decoder.weight', 'predictions.decoder.bias', 'sop_classifier.classifier.weight', 'sop_classifier.classifier.bias']\n",
      "- This IS expected if you are initializing AlbertForSequenceClassification from the checkpoint of a model trained on another task or with another architecture (e.g. initializing a BertForSequenceClassification model from a BertForPreTraining model).\n",
      "- This IS NOT expected if you are initializing AlbertForSequenceClassification from the checkpoint of a model that you expect to be exactly identical (initializing a BertForSequenceClassification model from a BertForSequenceClassification model).\n",
      "Some weights of AlbertForSequenceClassification were not initialized from the model checkpoint at ai4bharat/indic-bert and are newly initialized: ['classifier.weight', 'classifier.bias']\n",
      "You should probably TRAIN this model on a down-stream task to be able to use it for predictions and inference.\n",
      "Some weights of the model checkpoint at ai4bharat/indic-bert were not used when initializing AlbertForSequenceClassification: ['predictions.bias', 'predictions.LayerNorm.weight', 'predictions.LayerNorm.bias', 'predictions.dense.weight', 'predictions.dense.bias', 'predictions.decoder.weight', 'predictions.decoder.bias', 'sop_classifier.classifier.weight', 'sop_classifier.classifier.bias']\n",
      "- This IS expected if you are initializing AlbertForSequenceClassification from the checkpoint of a model trained on another task or with another architecture (e.g. initializing a BertForSequenceClassification model from a BertForPreTraining model).\n",
      "- This IS NOT expected if you are initializing AlbertForSequenceClassification from the checkpoint of a model that you expect to be exactly identical (initializing a BertForSequenceClassification model from a BertForSequenceClassification model).\n",
      "Some weights of AlbertForSequenceClassification were not initialized from the model checkpoint at ai4bharat/indic-bert and are newly initialized: ['classifier.weight', 'classifier.bias']\n",
      "You should probably TRAIN this model on a down-stream task to be able to use it for predictions and inference.\n"
     ]
    }
   ],
   "source": [
    "tc_trainer_instance = text_classification_trainer(hparams)\n",
    "checkpoints = list(sorted(glob.glob(os.path.join(hparams['output_dir'], 'checkpointepoch=*.ckpt'), recursive=True)))\n",
    "trained_model = tc_trainer_instance.load_from_checkpoint(checkpoints[-1])"
   ]
  },
  {
   "cell_type": "code",
   "execution_count": 33,
   "metadata": {
    "scrolled": true
   },
   "outputs": [
    {
     "name": "stderr",
     "output_type": "stream",
     "text": [
      "GPU available: True, used: True\n",
      "TPU available: False, using: 0 TPU cores\n",
      "CUDA_VISIBLE_DEVICES: [0]\n"
     ]
    }
   ],
   "source": [
    "trainer = base.create_trainer(trained_model, hparams) #BaseModule(hparams)"
   ]
  },
  {
   "cell_type": "code",
   "execution_count": 34,
   "metadata": {
    "scrolled": true
   },
   "outputs": [
    {
     "data": {
      "application/vnd.jupyter.widget-view+json": {
       "model_id": "39207e35676547878d849911f1c57531",
       "version_major": 2,
       "version_minor": 0
      },
      "text/plain": [
       "HBox(children=(FloatProgress(value=1.0, bar_style='info', description='Testing', layout=Layout(flex='2'), max=…"
      ]
     },
     "metadata": {},
     "output_type": "display_data"
    },
    {
     "name": "stdout",
     "output_type": "stream",
     "text": [
      "Logits written to :../outputs/8/amrita-paraphrase-exact/train-hi/model-ai4bharat-indic-bert/test_results_hi.csv\n",
      "--------------------------------------------------------------------------------\n",
      "TEST RESULTS\n",
      "{'acc': 0.976,\n",
      " 'avg_test_loss': 0.6165903806686401,\n",
      " 'val_loss': 0.6165903806686401}\n",
      "--------------------------------------------------------------------------------\n",
      "{'avg_test_loss': 0.6165903806686401, 'val_loss': 0.6165903806686401, 'acc': 0.976}\n",
      "\n"
     ]
    }
   ],
   "source": [
    "trainer.test(trained_model)"
   ]
  },
  {
   "cell_type": "code",
   "execution_count": null,
   "metadata": {},
   "outputs": [],
   "source": []
  },
  {
   "cell_type": "markdown",
   "metadata": {},
   "source": [
    "## Load the scores for IndicTrans translations."
   ]
  },
  {
   "cell_type": "code",
   "execution_count": 35,
   "metadata": {},
   "outputs": [
    {
     "data": {
      "text/plain": [
       "'../outputs/8/amrita-paraphrase-exact/train-hi/model-ai4bharat-indic-bert/test_results_hi.csv'"
      ]
     },
     "execution_count": 35,
     "metadata": {},
     "output_type": "execute_result"
    }
   ],
   "source": [
    "hparams['results_file'] = '{}{}/train-{}/model-ai4bharat-indic-bert/test_results_{}.csv'.format(hparams['out_dir'],  hparams['dataset'] , hparams['lang'] , hparams['lang']) \n",
    "hparams['results_file']"
   ]
  },
  {
   "cell_type": "code",
   "execution_count": 36,
   "metadata": {},
   "outputs": [],
   "source": [
    "indictrans = pd.read_csv(hparams['results_file'], header=None)"
   ]
  },
  {
   "cell_type": "code",
   "execution_count": 37,
   "metadata": {},
   "outputs": [
    {
     "data": {
      "text/plain": [
       "(1000, 4)"
      ]
     },
     "execution_count": 37,
     "metadata": {},
     "output_type": "execute_result"
    }
   ],
   "source": [
    "indictrans.shape"
   ]
  },
  {
   "cell_type": "code",
   "execution_count": 38,
   "metadata": {},
   "outputs": [
    {
     "data": {
      "text/html": [
       "<div>\n",
       "<style scoped>\n",
       "    .dataframe tbody tr th:only-of-type {\n",
       "        vertical-align: middle;\n",
       "    }\n",
       "\n",
       "    .dataframe tbody tr th {\n",
       "        vertical-align: top;\n",
       "    }\n",
       "\n",
       "    .dataframe thead th {\n",
       "        text-align: right;\n",
       "    }\n",
       "</style>\n",
       "<table border=\"1\" class=\"dataframe\">\n",
       "  <thead>\n",
       "    <tr style=\"text-align: right;\">\n",
       "      <th></th>\n",
       "      <th>0</th>\n",
       "      <th>1</th>\n",
       "      <th>2</th>\n",
       "      <th>3</th>\n",
       "    </tr>\n",
       "  </thead>\n",
       "  <tbody>\n",
       "    <tr>\n",
       "      <th>0</th>\n",
       "      <td>-0.097524</td>\n",
       "      <td>0.144784</td>\n",
       "      <td>1.0</td>\n",
       "      <td>1.0</td>\n",
       "    </tr>\n",
       "    <tr>\n",
       "      <th>1</th>\n",
       "      <td>-0.093321</td>\n",
       "      <td>0.144864</td>\n",
       "      <td>1.0</td>\n",
       "      <td>1.0</td>\n",
       "    </tr>\n",
       "    <tr>\n",
       "      <th>2</th>\n",
       "      <td>-0.093762</td>\n",
       "      <td>0.140794</td>\n",
       "      <td>1.0</td>\n",
       "      <td>1.0</td>\n",
       "    </tr>\n",
       "    <tr>\n",
       "      <th>3</th>\n",
       "      <td>-0.095129</td>\n",
       "      <td>0.143009</td>\n",
       "      <td>1.0</td>\n",
       "      <td>1.0</td>\n",
       "    </tr>\n",
       "    <tr>\n",
       "      <th>4</th>\n",
       "      <td>-0.091816</td>\n",
       "      <td>0.139572</td>\n",
       "      <td>1.0</td>\n",
       "      <td>1.0</td>\n",
       "    </tr>\n",
       "  </tbody>\n",
       "</table>\n",
       "</div>"
      ],
      "text/plain": [
       "          0         1    2    3\n",
       "0 -0.097524  0.144784  1.0  1.0\n",
       "1 -0.093321  0.144864  1.0  1.0\n",
       "2 -0.093762  0.140794  1.0  1.0\n",
       "3 -0.095129  0.143009  1.0  1.0\n",
       "4 -0.091816  0.139572  1.0  1.0"
      ]
     },
     "execution_count": 38,
     "metadata": {},
     "output_type": "execute_result"
    }
   ],
   "source": [
    "indictrans.head(5)"
   ]
  },
  {
   "cell_type": "markdown",
   "metadata": {},
   "source": [
    "## Combine logits, original sentence, and translations"
   ]
  },
  {
   "cell_type": "code",
   "execution_count": 39,
   "metadata": {},
   "outputs": [],
   "source": [
    "indic_orig = pd.read_csv('../indic-glue/amrita-paraphrase-exact/hi/hi-indictrans-test.csv', header=None)"
   ]
  },
  {
   "cell_type": "code",
   "execution_count": 40,
   "metadata": {},
   "outputs": [
    {
     "data": {
      "text/html": [
       "<div>\n",
       "<style scoped>\n",
       "    .dataframe tbody tr th:only-of-type {\n",
       "        vertical-align: middle;\n",
       "    }\n",
       "\n",
       "    .dataframe tbody tr th {\n",
       "        vertical-align: top;\n",
       "    }\n",
       "\n",
       "    .dataframe thead th {\n",
       "        text-align: right;\n",
       "    }\n",
       "</style>\n",
       "<table border=\"1\" class=\"dataframe\">\n",
       "  <thead>\n",
       "    <tr style=\"text-align: right;\">\n",
       "      <th></th>\n",
       "      <th>0</th>\n",
       "      <th>1</th>\n",
       "      <th>2</th>\n",
       "    </tr>\n",
       "  </thead>\n",
       "  <tbody>\n",
       "    <tr>\n",
       "      <th>0</th>\n",
       "      <td>प्रधानमंत्री ने कहा कि बाबा साहेब अम्बेडकर की ...</td>\n",
       "      <td>प्रधानमंत्री ने कहा कि करोड़ों लोगों के दिलों ...</td>\n",
       "      <td>P</td>\n",
       "    </tr>\n",
       "    <tr>\n",
       "      <th>1</th>\n",
       "      <td>इस समारोह को आज बीजापुर में आयोजित करने के महत...</td>\n",
       "      <td>\"आज बीजापुर में इस कार्यक्रम के आयोजन के महत्व...</td>\n",
       "      <td>P</td>\n",
       "    </tr>\n",
       "    <tr>\n",
       "      <th>2</th>\n",
       "      <td>उन्होंने कहा कि इस कार्य को 2022 तक पूरा कर ले...</td>\n",
       "      <td>उन्होंने कहा कि इस कार्य को 2022 तक पूरा करने ...</td>\n",
       "      <td>P</td>\n",
       "    </tr>\n",
       "    <tr>\n",
       "      <th>3</th>\n",
       "      <td>प्रधानमंत्री ने कहा कि सरकार स्पष्ट लक्ष्यों औ...</td>\n",
       "      <td>प्रधानमंत्री ने कहा कि सरकार स्पष्ट लक्ष्यों औ...</td>\n",
       "      <td>P</td>\n",
       "    </tr>\n",
       "    <tr>\n",
       "      <th>4</th>\n",
       "      <td>उन्होंने इस संदर्भ में जन धन खाता खोलने, गरीबो...</td>\n",
       "      <td>\"इस संदर्भ में उन्होंने जन धन खाते खोलने, गरीब...</td>\n",
       "      <td>P</td>\n",
       "    </tr>\n",
       "  </tbody>\n",
       "</table>\n",
       "</div>"
      ],
      "text/plain": [
       "                                                   0  \\\n",
       "0  प्रधानमंत्री ने कहा कि बाबा साहेब अम्बेडकर की ...   \n",
       "1  इस समारोह को आज बीजापुर में आयोजित करने के महत...   \n",
       "2  उन्होंने कहा कि इस कार्य को 2022 तक पूरा कर ले...   \n",
       "3  प्रधानमंत्री ने कहा कि सरकार स्पष्ट लक्ष्यों औ...   \n",
       "4  उन्होंने इस संदर्भ में जन धन खाता खोलने, गरीबो...   \n",
       "\n",
       "                                                   1  2  \n",
       "0  प्रधानमंत्री ने कहा कि करोड़ों लोगों के दिलों ...  P  \n",
       "1  \"आज बीजापुर में इस कार्यक्रम के आयोजन के महत्व...  P  \n",
       "2  उन्होंने कहा कि इस कार्य को 2022 तक पूरा करने ...  P  \n",
       "3  प्रधानमंत्री ने कहा कि सरकार स्पष्ट लक्ष्यों औ...  P  \n",
       "4  \"इस संदर्भ में उन्होंने जन धन खाते खोलने, गरीब...  P  "
      ]
     },
     "execution_count": 40,
     "metadata": {},
     "output_type": "execute_result"
    }
   ],
   "source": [
    "indic_orig.head()"
   ]
  },
  {
   "cell_type": "code",
   "execution_count": 41,
   "metadata": {},
   "outputs": [],
   "source": [
    "bart_orig = pd.read_csv('../indic-glue/amrita-paraphrase-exact/hi/hi-bart-test.csv', header=None)"
   ]
  },
  {
   "cell_type": "code",
   "execution_count": 42,
   "metadata": {},
   "outputs": [
    {
     "data": {
      "text/html": [
       "<div>\n",
       "<style scoped>\n",
       "    .dataframe tbody tr th:only-of-type {\n",
       "        vertical-align: middle;\n",
       "    }\n",
       "\n",
       "    .dataframe tbody tr th {\n",
       "        vertical-align: top;\n",
       "    }\n",
       "\n",
       "    .dataframe thead th {\n",
       "        text-align: right;\n",
       "    }\n",
       "</style>\n",
       "<table border=\"1\" class=\"dataframe\">\n",
       "  <thead>\n",
       "    <tr style=\"text-align: right;\">\n",
       "      <th></th>\n",
       "      <th>0</th>\n",
       "      <th>1</th>\n",
       "      <th>2</th>\n",
       "    </tr>\n",
       "  </thead>\n",
       "  <tbody>\n",
       "    <tr>\n",
       "      <th>0</th>\n",
       "      <td>प्रधानमंत्री ने कहा कि बाबा साहेब अम्बेडकर की ...</td>\n",
       "      <td>Prime Minister said Babasaheb Ambedkar has a k...</td>\n",
       "      <td>P</td>\n",
       "    </tr>\n",
       "    <tr>\n",
       "      <th>1</th>\n",
       "      <td>इस समारोह को आज बीजापुर में आयोजित करने के महत...</td>\n",
       "      <td>आज बीजापुर में इस समारोह को आयोजित करने के महत...</td>\n",
       "      <td>P</td>\n",
       "    </tr>\n",
       "    <tr>\n",
       "      <th>2</th>\n",
       "      <td>उन्होंने कहा कि इस कार्य को 2022 तक पूरा कर ले...</td>\n",
       "      <td>उन्होंने कहा कि लक्ष्य 2022 तक इस कार्य को पूर...</td>\n",
       "      <td>P</td>\n",
       "    </tr>\n",
       "    <tr>\n",
       "      <th>3</th>\n",
       "      <td>प्रधानमंत्री ने कहा कि सरकार स्पष्ट लक्ष्यों औ...</td>\n",
       "      <td>प्रधानमंत्री ने कहा कि सरकार स्पष्ट लक्ष्यों औ...</td>\n",
       "      <td>P</td>\n",
       "    </tr>\n",
       "    <tr>\n",
       "      <th>4</th>\n",
       "      <td>उन्होंने इस संदर्भ में जन धन खाता खोलने, गरीबो...</td>\n",
       "      <td>इस संदर्भ में उन्होंने जनधन खाते खोलने, गरीबों...</td>\n",
       "      <td>P</td>\n",
       "    </tr>\n",
       "  </tbody>\n",
       "</table>\n",
       "</div>"
      ],
      "text/plain": [
       "                                                   0  \\\n",
       "0  प्रधानमंत्री ने कहा कि बाबा साहेब अम्बेडकर की ...   \n",
       "1  इस समारोह को आज बीजापुर में आयोजित करने के महत...   \n",
       "2  उन्होंने कहा कि इस कार्य को 2022 तक पूरा कर ले...   \n",
       "3  प्रधानमंत्री ने कहा कि सरकार स्पष्ट लक्ष्यों औ...   \n",
       "4  उन्होंने इस संदर्भ में जन धन खाता खोलने, गरीबो...   \n",
       "\n",
       "                                                   1  2  \n",
       "0  Prime Minister said Babasaheb Ambedkar has a k...  P  \n",
       "1  आज बीजापुर में इस समारोह को आयोजित करने के महत...  P  \n",
       "2  उन्होंने कहा कि लक्ष्य 2022 तक इस कार्य को पूर...  P  \n",
       "3  प्रधानमंत्री ने कहा कि सरकार स्पष्ट लक्ष्यों औ...  P  \n",
       "4  इस संदर्भ में उन्होंने जनधन खाते खोलने, गरीबों...  P  "
      ]
     },
     "execution_count": 42,
     "metadata": {},
     "output_type": "execute_result"
    }
   ],
   "source": [
    "bart_orig.head()"
   ]
  },
  {
   "cell_type": "code",
   "execution_count": 43,
   "metadata": {},
   "outputs": [],
   "source": [
    "combined = bart_orig[[0, 1]]"
   ]
  },
  {
   "cell_type": "code",
   "execution_count": 44,
   "metadata": {},
   "outputs": [],
   "source": [
    "combined.columns =['Original_Sentence', 'mBART_Translated', ]"
   ]
  },
  {
   "cell_type": "code",
   "execution_count": 45,
   "metadata": {},
   "outputs": [],
   "source": [
    "combined['IndicTrans_Translated'] = indic_orig[[1]]"
   ]
  },
  {
   "cell_type": "code",
   "execution_count": 46,
   "metadata": {},
   "outputs": [
    {
     "data": {
      "text/html": [
       "<div>\n",
       "<style scoped>\n",
       "    .dataframe tbody tr th:only-of-type {\n",
       "        vertical-align: middle;\n",
       "    }\n",
       "\n",
       "    .dataframe tbody tr th {\n",
       "        vertical-align: top;\n",
       "    }\n",
       "\n",
       "    .dataframe thead th {\n",
       "        text-align: right;\n",
       "    }\n",
       "</style>\n",
       "<table border=\"1\" class=\"dataframe\">\n",
       "  <thead>\n",
       "    <tr style=\"text-align: right;\">\n",
       "      <th></th>\n",
       "      <th>Original_Sentence</th>\n",
       "      <th>mBART_Translated</th>\n",
       "      <th>IndicTrans_Translated</th>\n",
       "    </tr>\n",
       "  </thead>\n",
       "  <tbody>\n",
       "    <tr>\n",
       "      <th>0</th>\n",
       "      <td>प्रधानमंत्री ने कहा कि बाबा साहेब अम्बेडकर की ...</td>\n",
       "      <td>Prime Minister said Babasaheb Ambedkar has a k...</td>\n",
       "      <td>प्रधानमंत्री ने कहा कि करोड़ों लोगों के दिलों ...</td>\n",
       "    </tr>\n",
       "    <tr>\n",
       "      <th>1</th>\n",
       "      <td>इस समारोह को आज बीजापुर में आयोजित करने के महत...</td>\n",
       "      <td>आज बीजापुर में इस समारोह को आयोजित करने के महत...</td>\n",
       "      <td>\"आज बीजापुर में इस कार्यक्रम के आयोजन के महत्व...</td>\n",
       "    </tr>\n",
       "    <tr>\n",
       "      <th>2</th>\n",
       "      <td>उन्होंने कहा कि इस कार्य को 2022 तक पूरा कर ले...</td>\n",
       "      <td>उन्होंने कहा कि लक्ष्य 2022 तक इस कार्य को पूर...</td>\n",
       "      <td>उन्होंने कहा कि इस कार्य को 2022 तक पूरा करने ...</td>\n",
       "    </tr>\n",
       "    <tr>\n",
       "      <th>3</th>\n",
       "      <td>प्रधानमंत्री ने कहा कि सरकार स्पष्ट लक्ष्यों औ...</td>\n",
       "      <td>प्रधानमंत्री ने कहा कि सरकार स्पष्ट लक्ष्यों औ...</td>\n",
       "      <td>प्रधानमंत्री ने कहा कि सरकार स्पष्ट लक्ष्यों औ...</td>\n",
       "    </tr>\n",
       "    <tr>\n",
       "      <th>4</th>\n",
       "      <td>उन्होंने इस संदर्भ में जन धन खाता खोलने, गरीबो...</td>\n",
       "      <td>इस संदर्भ में उन्होंने जनधन खाते खोलने, गरीबों...</td>\n",
       "      <td>\"इस संदर्भ में उन्होंने जन धन खाते खोलने, गरीब...</td>\n",
       "    </tr>\n",
       "  </tbody>\n",
       "</table>\n",
       "</div>"
      ],
      "text/plain": [
       "                                   Original_Sentence  \\\n",
       "0  प्रधानमंत्री ने कहा कि बाबा साहेब अम्बेडकर की ...   \n",
       "1  इस समारोह को आज बीजापुर में आयोजित करने के महत...   \n",
       "2  उन्होंने कहा कि इस कार्य को 2022 तक पूरा कर ले...   \n",
       "3  प्रधानमंत्री ने कहा कि सरकार स्पष्ट लक्ष्यों औ...   \n",
       "4  उन्होंने इस संदर्भ में जन धन खाता खोलने, गरीबो...   \n",
       "\n",
       "                                    mBART_Translated  \\\n",
       "0  Prime Minister said Babasaheb Ambedkar has a k...   \n",
       "1  आज बीजापुर में इस समारोह को आयोजित करने के महत...   \n",
       "2  उन्होंने कहा कि लक्ष्य 2022 तक इस कार्य को पूर...   \n",
       "3  प्रधानमंत्री ने कहा कि सरकार स्पष्ट लक्ष्यों औ...   \n",
       "4  इस संदर्भ में उन्होंने जनधन खाते खोलने, गरीबों...   \n",
       "\n",
       "                               IndicTrans_Translated  \n",
       "0  प्रधानमंत्री ने कहा कि करोड़ों लोगों के दिलों ...  \n",
       "1  \"आज बीजापुर में इस कार्यक्रम के आयोजन के महत्व...  \n",
       "2  उन्होंने कहा कि इस कार्य को 2022 तक पूरा करने ...  \n",
       "3  प्रधानमंत्री ने कहा कि सरकार स्पष्ट लक्ष्यों औ...  \n",
       "4  \"इस संदर्भ में उन्होंने जन धन खाते खोलने, गरीब...  "
      ]
     },
     "execution_count": 46,
     "metadata": {},
     "output_type": "execute_result"
    }
   ],
   "source": [
    "combined.head()"
   ]
  },
  {
   "cell_type": "code",
   "execution_count": 47,
   "metadata": {},
   "outputs": [],
   "source": [
    "# combined = pd.concat([bart_orig['sentence_1'], b_trans['sentence_2']], axis=1, keys=['sentence_1', 'sentence_2'])"
   ]
  },
  {
   "cell_type": "code",
   "execution_count": 48,
   "metadata": {},
   "outputs": [],
   "source": [
    "combined['mBART_NP_logits'] = mbart[[0]]\n",
    "combined['mBART_P_logits'] = mbart[[1]]\n",
    "combined['model_pred_mbart'] = ['NP' if x==0 else 'P' for x in mbart[2]]\n",
    "combined['mbart_P_prob'] = apply_softmax(mbart, 0)\n",
    "combined['mbart_NP_prob'] = apply_softmax(mbart, 1)"
   ]
  },
  {
   "cell_type": "code",
   "execution_count": 49,
   "metadata": {
    "scrolled": true
   },
   "outputs": [
    {
     "data": {
      "text/html": [
       "<div>\n",
       "<style scoped>\n",
       "    .dataframe tbody tr th:only-of-type {\n",
       "        vertical-align: middle;\n",
       "    }\n",
       "\n",
       "    .dataframe tbody tr th {\n",
       "        vertical-align: top;\n",
       "    }\n",
       "\n",
       "    .dataframe thead th {\n",
       "        text-align: right;\n",
       "    }\n",
       "</style>\n",
       "<table border=\"1\" class=\"dataframe\">\n",
       "  <thead>\n",
       "    <tr style=\"text-align: right;\">\n",
       "      <th></th>\n",
       "      <th>Original_Sentence</th>\n",
       "      <th>mBART_Translated</th>\n",
       "      <th>IndicTrans_Translated</th>\n",
       "      <th>mBART_NP_logits</th>\n",
       "      <th>mBART_P_logits</th>\n",
       "      <th>model_pred_mbart</th>\n",
       "      <th>mbart_P_prob</th>\n",
       "      <th>mbart_NP_prob</th>\n",
       "    </tr>\n",
       "  </thead>\n",
       "  <tbody>\n",
       "    <tr>\n",
       "      <th>0</th>\n",
       "      <td>प्रधानमंत्री ने कहा कि बाबा साहेब अम्बेडकर की ...</td>\n",
       "      <td>Prime Minister said Babasaheb Ambedkar has a k...</td>\n",
       "      <td>प्रधानमंत्री ने कहा कि करोड़ों लोगों के दिलों ...</td>\n",
       "      <td>1.641388</td>\n",
       "      <td>-2.035115</td>\n",
       "      <td>NP</td>\n",
       "      <td>0.024686</td>\n",
       "      <td>0.975314</td>\n",
       "    </tr>\n",
       "    <tr>\n",
       "      <th>1</th>\n",
       "      <td>इस समारोह को आज बीजापुर में आयोजित करने के महत...</td>\n",
       "      <td>आज बीजापुर में इस समारोह को आयोजित करने के महत...</td>\n",
       "      <td>\"आज बीजापुर में इस कार्यक्रम के आयोजन के महत्व...</td>\n",
       "      <td>-0.095410</td>\n",
       "      <td>0.146530</td>\n",
       "      <td>P</td>\n",
       "      <td>0.560192</td>\n",
       "      <td>0.439808</td>\n",
       "    </tr>\n",
       "    <tr>\n",
       "      <th>2</th>\n",
       "      <td>उन्होंने कहा कि इस कार्य को 2022 तक पूरा कर ले...</td>\n",
       "      <td>उन्होंने कहा कि लक्ष्य 2022 तक इस कार्य को पूर...</td>\n",
       "      <td>उन्होंने कहा कि इस कार्य को 2022 तक पूरा करने ...</td>\n",
       "      <td>-0.093650</td>\n",
       "      <td>0.141301</td>\n",
       "      <td>P</td>\n",
       "      <td>0.558469</td>\n",
       "      <td>0.441531</td>\n",
       "    </tr>\n",
       "    <tr>\n",
       "      <th>3</th>\n",
       "      <td>प्रधानमंत्री ने कहा कि सरकार स्पष्ट लक्ष्यों औ...</td>\n",
       "      <td>प्रधानमंत्री ने कहा कि सरकार स्पष्ट लक्ष्यों औ...</td>\n",
       "      <td>प्रधानमंत्री ने कहा कि सरकार स्पष्ट लक्ष्यों औ...</td>\n",
       "      <td>-0.093835</td>\n",
       "      <td>0.141280</td>\n",
       "      <td>P</td>\n",
       "      <td>0.558509</td>\n",
       "      <td>0.441491</td>\n",
       "    </tr>\n",
       "    <tr>\n",
       "      <th>4</th>\n",
       "      <td>उन्होंने इस संदर्भ में जन धन खाता खोलने, गरीबो...</td>\n",
       "      <td>इस संदर्भ में उन्होंने जनधन खाते खोलने, गरीबों...</td>\n",
       "      <td>\"इस संदर्भ में उन्होंने जन धन खाते खोलने, गरीब...</td>\n",
       "      <td>-0.095638</td>\n",
       "      <td>0.144878</td>\n",
       "      <td>P</td>\n",
       "      <td>0.559841</td>\n",
       "      <td>0.440159</td>\n",
       "    </tr>\n",
       "  </tbody>\n",
       "</table>\n",
       "</div>"
      ],
      "text/plain": [
       "                                   Original_Sentence  \\\n",
       "0  प्रधानमंत्री ने कहा कि बाबा साहेब अम्बेडकर की ...   \n",
       "1  इस समारोह को आज बीजापुर में आयोजित करने के महत...   \n",
       "2  उन्होंने कहा कि इस कार्य को 2022 तक पूरा कर ले...   \n",
       "3  प्रधानमंत्री ने कहा कि सरकार स्पष्ट लक्ष्यों औ...   \n",
       "4  उन्होंने इस संदर्भ में जन धन खाता खोलने, गरीबो...   \n",
       "\n",
       "                                    mBART_Translated  \\\n",
       "0  Prime Minister said Babasaheb Ambedkar has a k...   \n",
       "1  आज बीजापुर में इस समारोह को आयोजित करने के महत...   \n",
       "2  उन्होंने कहा कि लक्ष्य 2022 तक इस कार्य को पूर...   \n",
       "3  प्रधानमंत्री ने कहा कि सरकार स्पष्ट लक्ष्यों औ...   \n",
       "4  इस संदर्भ में उन्होंने जनधन खाते खोलने, गरीबों...   \n",
       "\n",
       "                               IndicTrans_Translated  mBART_NP_logits  \\\n",
       "0  प्रधानमंत्री ने कहा कि करोड़ों लोगों के दिलों ...         1.641388   \n",
       "1  \"आज बीजापुर में इस कार्यक्रम के आयोजन के महत्व...        -0.095410   \n",
       "2  उन्होंने कहा कि इस कार्य को 2022 तक पूरा करने ...        -0.093650   \n",
       "3  प्रधानमंत्री ने कहा कि सरकार स्पष्ट लक्ष्यों औ...        -0.093835   \n",
       "4  \"इस संदर्भ में उन्होंने जन धन खाते खोलने, गरीब...        -0.095638   \n",
       "\n",
       "   mBART_P_logits model_pred_mbart  mbart_P_prob  mbart_NP_prob  \n",
       "0       -2.035115               NP      0.024686       0.975314  \n",
       "1        0.146530                P      0.560192       0.439808  \n",
       "2        0.141301                P      0.558469       0.441531  \n",
       "3        0.141280                P      0.558509       0.441491  \n",
       "4        0.144878                P      0.559841       0.440159  "
      ]
     },
     "execution_count": 49,
     "metadata": {},
     "output_type": "execute_result"
    }
   ],
   "source": [
    "combined.head()"
   ]
  },
  {
   "cell_type": "code",
   "execution_count": 50,
   "metadata": {},
   "outputs": [],
   "source": [
    "combined['IndicT_NP_logits'] = indictrans[[0]]\n",
    "combined['IndicT_P_logits'] = indictrans[[1]]\n",
    "combined['model_pred_IndicT'] = ['NP' if x==0 else 'P' for x in indictrans[2]]\n",
    "combined['indicT_P_prob'] = apply_softmax(indictrans, 0)\n",
    "combined['indicT_NP_prob'] = apply_softmax(indictrans, 1)"
   ]
  },
  {
   "cell_type": "code",
   "execution_count": 51,
   "metadata": {},
   "outputs": [
    {
     "data": {
      "text/html": [
       "<div>\n",
       "<style scoped>\n",
       "    .dataframe tbody tr th:only-of-type {\n",
       "        vertical-align: middle;\n",
       "    }\n",
       "\n",
       "    .dataframe tbody tr th {\n",
       "        vertical-align: top;\n",
       "    }\n",
       "\n",
       "    .dataframe thead th {\n",
       "        text-align: right;\n",
       "    }\n",
       "</style>\n",
       "<table border=\"1\" class=\"dataframe\">\n",
       "  <thead>\n",
       "    <tr style=\"text-align: right;\">\n",
       "      <th></th>\n",
       "      <th>Original_Sentence</th>\n",
       "      <th>mBART_Translated</th>\n",
       "      <th>IndicTrans_Translated</th>\n",
       "      <th>mBART_NP_logits</th>\n",
       "      <th>mBART_P_logits</th>\n",
       "      <th>model_pred_mbart</th>\n",
       "      <th>mbart_P_prob</th>\n",
       "      <th>mbart_NP_prob</th>\n",
       "      <th>IndicT_NP_logits</th>\n",
       "      <th>IndicT_P_logits</th>\n",
       "      <th>model_pred_IndicT</th>\n",
       "      <th>indicT_P_prob</th>\n",
       "      <th>indicT_NP_prob</th>\n",
       "    </tr>\n",
       "  </thead>\n",
       "  <tbody>\n",
       "    <tr>\n",
       "      <th>0</th>\n",
       "      <td>प्रधानमंत्री ने कहा कि बाबा साहेब अम्बेडकर की ...</td>\n",
       "      <td>Prime Minister said Babasaheb Ambedkar has a k...</td>\n",
       "      <td>प्रधानमंत्री ने कहा कि करोड़ों लोगों के दिलों ...</td>\n",
       "      <td>1.641388</td>\n",
       "      <td>-2.035115</td>\n",
       "      <td>NP</td>\n",
       "      <td>0.024686</td>\n",
       "      <td>0.975314</td>\n",
       "      <td>-0.097524</td>\n",
       "      <td>0.144784</td>\n",
       "      <td>P</td>\n",
       "      <td>0.560282</td>\n",
       "      <td>0.439718</td>\n",
       "    </tr>\n",
       "    <tr>\n",
       "      <th>1</th>\n",
       "      <td>इस समारोह को आज बीजापुर में आयोजित करने के महत...</td>\n",
       "      <td>आज बीजापुर में इस समारोह को आयोजित करने के महत...</td>\n",
       "      <td>\"आज बीजापुर में इस कार्यक्रम के आयोजन के महत्व...</td>\n",
       "      <td>-0.095410</td>\n",
       "      <td>0.146530</td>\n",
       "      <td>P</td>\n",
       "      <td>0.560192</td>\n",
       "      <td>0.439808</td>\n",
       "      <td>-0.093321</td>\n",
       "      <td>0.144864</td>\n",
       "      <td>P</td>\n",
       "      <td>0.559266</td>\n",
       "      <td>0.440734</td>\n",
       "    </tr>\n",
       "    <tr>\n",
       "      <th>2</th>\n",
       "      <td>उन्होंने कहा कि इस कार्य को 2022 तक पूरा कर ले...</td>\n",
       "      <td>उन्होंने कहा कि लक्ष्य 2022 तक इस कार्य को पूर...</td>\n",
       "      <td>उन्होंने कहा कि इस कार्य को 2022 तक पूरा करने ...</td>\n",
       "      <td>-0.093650</td>\n",
       "      <td>0.141301</td>\n",
       "      <td>P</td>\n",
       "      <td>0.558469</td>\n",
       "      <td>0.441531</td>\n",
       "      <td>-0.093762</td>\n",
       "      <td>0.140794</td>\n",
       "      <td>P</td>\n",
       "      <td>0.558372</td>\n",
       "      <td>0.441628</td>\n",
       "    </tr>\n",
       "    <tr>\n",
       "      <th>3</th>\n",
       "      <td>प्रधानमंत्री ने कहा कि सरकार स्पष्ट लक्ष्यों औ...</td>\n",
       "      <td>प्रधानमंत्री ने कहा कि सरकार स्पष्ट लक्ष्यों औ...</td>\n",
       "      <td>प्रधानमंत्री ने कहा कि सरकार स्पष्ट लक्ष्यों औ...</td>\n",
       "      <td>-0.093835</td>\n",
       "      <td>0.141280</td>\n",
       "      <td>P</td>\n",
       "      <td>0.558509</td>\n",
       "      <td>0.441491</td>\n",
       "      <td>-0.095129</td>\n",
       "      <td>0.143009</td>\n",
       "      <td>P</td>\n",
       "      <td>0.559255</td>\n",
       "      <td>0.440745</td>\n",
       "    </tr>\n",
       "    <tr>\n",
       "      <th>4</th>\n",
       "      <td>उन्होंने इस संदर्भ में जन धन खाता खोलने, गरीबो...</td>\n",
       "      <td>इस संदर्भ में उन्होंने जनधन खाते खोलने, गरीबों...</td>\n",
       "      <td>\"इस संदर्भ में उन्होंने जन धन खाते खोलने, गरीब...</td>\n",
       "      <td>-0.095638</td>\n",
       "      <td>0.144878</td>\n",
       "      <td>P</td>\n",
       "      <td>0.559841</td>\n",
       "      <td>0.440159</td>\n",
       "      <td>-0.091816</td>\n",
       "      <td>0.139572</td>\n",
       "      <td>P</td>\n",
       "      <td>0.557590</td>\n",
       "      <td>0.442410</td>\n",
       "    </tr>\n",
       "  </tbody>\n",
       "</table>\n",
       "</div>"
      ],
      "text/plain": [
       "                                   Original_Sentence  \\\n",
       "0  प्रधानमंत्री ने कहा कि बाबा साहेब अम्बेडकर की ...   \n",
       "1  इस समारोह को आज बीजापुर में आयोजित करने के महत...   \n",
       "2  उन्होंने कहा कि इस कार्य को 2022 तक पूरा कर ले...   \n",
       "3  प्रधानमंत्री ने कहा कि सरकार स्पष्ट लक्ष्यों औ...   \n",
       "4  उन्होंने इस संदर्भ में जन धन खाता खोलने, गरीबो...   \n",
       "\n",
       "                                    mBART_Translated  \\\n",
       "0  Prime Minister said Babasaheb Ambedkar has a k...   \n",
       "1  आज बीजापुर में इस समारोह को आयोजित करने के महत...   \n",
       "2  उन्होंने कहा कि लक्ष्य 2022 तक इस कार्य को पूर...   \n",
       "3  प्रधानमंत्री ने कहा कि सरकार स्पष्ट लक्ष्यों औ...   \n",
       "4  इस संदर्भ में उन्होंने जनधन खाते खोलने, गरीबों...   \n",
       "\n",
       "                               IndicTrans_Translated  mBART_NP_logits  \\\n",
       "0  प्रधानमंत्री ने कहा कि करोड़ों लोगों के दिलों ...         1.641388   \n",
       "1  \"आज बीजापुर में इस कार्यक्रम के आयोजन के महत्व...        -0.095410   \n",
       "2  उन्होंने कहा कि इस कार्य को 2022 तक पूरा करने ...        -0.093650   \n",
       "3  प्रधानमंत्री ने कहा कि सरकार स्पष्ट लक्ष्यों औ...        -0.093835   \n",
       "4  \"इस संदर्भ में उन्होंने जन धन खाते खोलने, गरीब...        -0.095638   \n",
       "\n",
       "   mBART_P_logits model_pred_mbart  mbart_P_prob  mbart_NP_prob  \\\n",
       "0       -2.035115               NP      0.024686       0.975314   \n",
       "1        0.146530                P      0.560192       0.439808   \n",
       "2        0.141301                P      0.558469       0.441531   \n",
       "3        0.141280                P      0.558509       0.441491   \n",
       "4        0.144878                P      0.559841       0.440159   \n",
       "\n",
       "   IndicT_NP_logits  IndicT_P_logits model_pred_IndicT  indicT_P_prob  \\\n",
       "0         -0.097524         0.144784                 P       0.560282   \n",
       "1         -0.093321         0.144864                 P       0.559266   \n",
       "2         -0.093762         0.140794                 P       0.558372   \n",
       "3         -0.095129         0.143009                 P       0.559255   \n",
       "4         -0.091816         0.139572                 P       0.557590   \n",
       "\n",
       "   indicT_NP_prob  \n",
       "0        0.439718  \n",
       "1        0.440734  \n",
       "2        0.441628  \n",
       "3        0.440745  \n",
       "4        0.442410  "
      ]
     },
     "execution_count": 51,
     "metadata": {},
     "output_type": "execute_result"
    }
   ],
   "source": [
    "combined.head()"
   ]
  },
  {
   "cell_type": "code",
   "execution_count": 54,
   "metadata": {},
   "outputs": [],
   "source": [
    "def select_trasnlation(row):\n",
    "    if row['indicT_P_prob']>=row['mbart_P_prob']:\n",
    "        return row['IndicTrans_Translated']\n",
    "    else:\n",
    "        return row['mBART_Translated']\n",
    "\n",
    "combined['selected_translation'] = combined.apply(lambda row : select_trasnlation(row), axis=1) "
   ]
  },
  {
   "cell_type": "code",
   "execution_count": 55,
   "metadata": {},
   "outputs": [],
   "source": [
    "combined['mBART_avg'] = combined.iloc[:,3:5].mean(axis=1)"
   ]
  },
  {
   "cell_type": "code",
   "execution_count": 56,
   "metadata": {},
   "outputs": [
    {
     "data": {
      "text/html": [
       "<div>\n",
       "<style scoped>\n",
       "    .dataframe tbody tr th:only-of-type {\n",
       "        vertical-align: middle;\n",
       "    }\n",
       "\n",
       "    .dataframe tbody tr th {\n",
       "        vertical-align: top;\n",
       "    }\n",
       "\n",
       "    .dataframe thead th {\n",
       "        text-align: right;\n",
       "    }\n",
       "</style>\n",
       "<table border=\"1\" class=\"dataframe\">\n",
       "  <thead>\n",
       "    <tr style=\"text-align: right;\">\n",
       "      <th></th>\n",
       "      <th>Original_Sentence</th>\n",
       "      <th>mBART_Translated</th>\n",
       "      <th>IndicTrans_Translated</th>\n",
       "      <th>mBART_NP_logits</th>\n",
       "      <th>mBART_P_logits</th>\n",
       "      <th>model_pred_mbart</th>\n",
       "      <th>mbart_P_prob</th>\n",
       "      <th>mbart_NP_prob</th>\n",
       "      <th>IndicT_NP_logits</th>\n",
       "      <th>IndicT_P_logits</th>\n",
       "      <th>model_pred_IndicT</th>\n",
       "      <th>indicT_P_prob</th>\n",
       "      <th>indicT_NP_prob</th>\n",
       "      <th>selected_translation</th>\n",
       "      <th>mBART_avg</th>\n",
       "    </tr>\n",
       "  </thead>\n",
       "  <tbody>\n",
       "    <tr>\n",
       "      <th>0</th>\n",
       "      <td>प्रधानमंत्री ने कहा कि बाबा साहेब अम्बेडकर की ...</td>\n",
       "      <td>Prime Minister said Babasaheb Ambedkar has a k...</td>\n",
       "      <td>प्रधानमंत्री ने कहा कि करोड़ों लोगों के दिलों ...</td>\n",
       "      <td>1.641388</td>\n",
       "      <td>-2.035115</td>\n",
       "      <td>NP</td>\n",
       "      <td>0.024686</td>\n",
       "      <td>0.975314</td>\n",
       "      <td>-0.097524</td>\n",
       "      <td>0.144784</td>\n",
       "      <td>P</td>\n",
       "      <td>0.560282</td>\n",
       "      <td>0.439718</td>\n",
       "      <td>प्रधानमंत्री ने कहा कि करोड़ों लोगों के दिलों ...</td>\n",
       "      <td>-0.196864</td>\n",
       "    </tr>\n",
       "    <tr>\n",
       "      <th>1</th>\n",
       "      <td>इस समारोह को आज बीजापुर में आयोजित करने के महत...</td>\n",
       "      <td>आज बीजापुर में इस समारोह को आयोजित करने के महत...</td>\n",
       "      <td>\"आज बीजापुर में इस कार्यक्रम के आयोजन के महत्व...</td>\n",
       "      <td>-0.095410</td>\n",
       "      <td>0.146530</td>\n",
       "      <td>P</td>\n",
       "      <td>0.560192</td>\n",
       "      <td>0.439808</td>\n",
       "      <td>-0.093321</td>\n",
       "      <td>0.144864</td>\n",
       "      <td>P</td>\n",
       "      <td>0.559266</td>\n",
       "      <td>0.440734</td>\n",
       "      <td>आज बीजापुर में इस समारोह को आयोजित करने के महत...</td>\n",
       "      <td>0.025560</td>\n",
       "    </tr>\n",
       "    <tr>\n",
       "      <th>2</th>\n",
       "      <td>उन्होंने कहा कि इस कार्य को 2022 तक पूरा कर ले...</td>\n",
       "      <td>उन्होंने कहा कि लक्ष्य 2022 तक इस कार्य को पूर...</td>\n",
       "      <td>उन्होंने कहा कि इस कार्य को 2022 तक पूरा करने ...</td>\n",
       "      <td>-0.093650</td>\n",
       "      <td>0.141301</td>\n",
       "      <td>P</td>\n",
       "      <td>0.558469</td>\n",
       "      <td>0.441531</td>\n",
       "      <td>-0.093762</td>\n",
       "      <td>0.140794</td>\n",
       "      <td>P</td>\n",
       "      <td>0.558372</td>\n",
       "      <td>0.441628</td>\n",
       "      <td>उन्होंने कहा कि लक्ष्य 2022 तक इस कार्य को पूर...</td>\n",
       "      <td>0.023825</td>\n",
       "    </tr>\n",
       "    <tr>\n",
       "      <th>3</th>\n",
       "      <td>प्रधानमंत्री ने कहा कि सरकार स्पष्ट लक्ष्यों औ...</td>\n",
       "      <td>प्रधानमंत्री ने कहा कि सरकार स्पष्ट लक्ष्यों औ...</td>\n",
       "      <td>प्रधानमंत्री ने कहा कि सरकार स्पष्ट लक्ष्यों औ...</td>\n",
       "      <td>-0.093835</td>\n",
       "      <td>0.141280</td>\n",
       "      <td>P</td>\n",
       "      <td>0.558509</td>\n",
       "      <td>0.441491</td>\n",
       "      <td>-0.095129</td>\n",
       "      <td>0.143009</td>\n",
       "      <td>P</td>\n",
       "      <td>0.559255</td>\n",
       "      <td>0.440745</td>\n",
       "      <td>प्रधानमंत्री ने कहा कि सरकार स्पष्ट लक्ष्यों औ...</td>\n",
       "      <td>0.023723</td>\n",
       "    </tr>\n",
       "    <tr>\n",
       "      <th>4</th>\n",
       "      <td>उन्होंने इस संदर्भ में जन धन खाता खोलने, गरीबो...</td>\n",
       "      <td>इस संदर्भ में उन्होंने जनधन खाते खोलने, गरीबों...</td>\n",
       "      <td>\"इस संदर्भ में उन्होंने जन धन खाते खोलने, गरीब...</td>\n",
       "      <td>-0.095638</td>\n",
       "      <td>0.144878</td>\n",
       "      <td>P</td>\n",
       "      <td>0.559841</td>\n",
       "      <td>0.440159</td>\n",
       "      <td>-0.091816</td>\n",
       "      <td>0.139572</td>\n",
       "      <td>P</td>\n",
       "      <td>0.557590</td>\n",
       "      <td>0.442410</td>\n",
       "      <td>इस संदर्भ में उन्होंने जनधन खाते खोलने, गरीबों...</td>\n",
       "      <td>0.024620</td>\n",
       "    </tr>\n",
       "  </tbody>\n",
       "</table>\n",
       "</div>"
      ],
      "text/plain": [
       "                                   Original_Sentence  \\\n",
       "0  प्रधानमंत्री ने कहा कि बाबा साहेब अम्बेडकर की ...   \n",
       "1  इस समारोह को आज बीजापुर में आयोजित करने के महत...   \n",
       "2  उन्होंने कहा कि इस कार्य को 2022 तक पूरा कर ले...   \n",
       "3  प्रधानमंत्री ने कहा कि सरकार स्पष्ट लक्ष्यों औ...   \n",
       "4  उन्होंने इस संदर्भ में जन धन खाता खोलने, गरीबो...   \n",
       "\n",
       "                                    mBART_Translated  \\\n",
       "0  Prime Minister said Babasaheb Ambedkar has a k...   \n",
       "1  आज बीजापुर में इस समारोह को आयोजित करने के महत...   \n",
       "2  उन्होंने कहा कि लक्ष्य 2022 तक इस कार्य को पूर...   \n",
       "3  प्रधानमंत्री ने कहा कि सरकार स्पष्ट लक्ष्यों औ...   \n",
       "4  इस संदर्भ में उन्होंने जनधन खाते खोलने, गरीबों...   \n",
       "\n",
       "                               IndicTrans_Translated  mBART_NP_logits  \\\n",
       "0  प्रधानमंत्री ने कहा कि करोड़ों लोगों के दिलों ...         1.641388   \n",
       "1  \"आज बीजापुर में इस कार्यक्रम के आयोजन के महत्व...        -0.095410   \n",
       "2  उन्होंने कहा कि इस कार्य को 2022 तक पूरा करने ...        -0.093650   \n",
       "3  प्रधानमंत्री ने कहा कि सरकार स्पष्ट लक्ष्यों औ...        -0.093835   \n",
       "4  \"इस संदर्भ में उन्होंने जन धन खाते खोलने, गरीब...        -0.095638   \n",
       "\n",
       "   mBART_P_logits model_pred_mbart  mbart_P_prob  mbart_NP_prob  \\\n",
       "0       -2.035115               NP      0.024686       0.975314   \n",
       "1        0.146530                P      0.560192       0.439808   \n",
       "2        0.141301                P      0.558469       0.441531   \n",
       "3        0.141280                P      0.558509       0.441491   \n",
       "4        0.144878                P      0.559841       0.440159   \n",
       "\n",
       "   IndicT_NP_logits  IndicT_P_logits model_pred_IndicT  indicT_P_prob  \\\n",
       "0         -0.097524         0.144784                 P       0.560282   \n",
       "1         -0.093321         0.144864                 P       0.559266   \n",
       "2         -0.093762         0.140794                 P       0.558372   \n",
       "3         -0.095129         0.143009                 P       0.559255   \n",
       "4         -0.091816         0.139572                 P       0.557590   \n",
       "\n",
       "   indicT_NP_prob                               selected_translation  \\\n",
       "0        0.439718  प्रधानमंत्री ने कहा कि करोड़ों लोगों के दिलों ...   \n",
       "1        0.440734  आज बीजापुर में इस समारोह को आयोजित करने के महत...   \n",
       "2        0.441628  उन्होंने कहा कि लक्ष्य 2022 तक इस कार्य को पूर...   \n",
       "3        0.440745  प्रधानमंत्री ने कहा कि सरकार स्पष्ट लक्ष्यों औ...   \n",
       "4        0.442410  इस संदर्भ में उन्होंने जनधन खाते खोलने, गरीबों...   \n",
       "\n",
       "   mBART_avg  \n",
       "0  -0.196864  \n",
       "1   0.025560  \n",
       "2   0.023825  \n",
       "3   0.023723  \n",
       "4   0.024620  "
      ]
     },
     "execution_count": 56,
     "metadata": {},
     "output_type": "execute_result"
    }
   ],
   "source": [
    "combined.head()"
   ]
  },
  {
   "cell_type": "code",
   "execution_count": 57,
   "metadata": {},
   "outputs": [],
   "source": [
    "combined['IT_avg'] = combined.iloc[:,5:7].mean(axis=1)"
   ]
  },
  {
   "cell_type": "code",
   "execution_count": 58,
   "metadata": {},
   "outputs": [
    {
     "data": {
      "text/html": [
       "<div>\n",
       "<style scoped>\n",
       "    .dataframe tbody tr th:only-of-type {\n",
       "        vertical-align: middle;\n",
       "    }\n",
       "\n",
       "    .dataframe tbody tr th {\n",
       "        vertical-align: top;\n",
       "    }\n",
       "\n",
       "    .dataframe thead th {\n",
       "        text-align: right;\n",
       "    }\n",
       "</style>\n",
       "<table border=\"1\" class=\"dataframe\">\n",
       "  <thead>\n",
       "    <tr style=\"text-align: right;\">\n",
       "      <th></th>\n",
       "      <th>Original_Sentence</th>\n",
       "      <th>mBART_Translated</th>\n",
       "      <th>IndicTrans_Translated</th>\n",
       "      <th>mBART_NP_logits</th>\n",
       "      <th>mBART_P_logits</th>\n",
       "      <th>model_pred_mbart</th>\n",
       "      <th>mbart_P_prob</th>\n",
       "      <th>mbart_NP_prob</th>\n",
       "      <th>IndicT_NP_logits</th>\n",
       "      <th>IndicT_P_logits</th>\n",
       "      <th>model_pred_IndicT</th>\n",
       "      <th>indicT_P_prob</th>\n",
       "      <th>indicT_NP_prob</th>\n",
       "      <th>selected_translation</th>\n",
       "      <th>mBART_avg</th>\n",
       "      <th>IT_avg</th>\n",
       "    </tr>\n",
       "  </thead>\n",
       "  <tbody>\n",
       "    <tr>\n",
       "      <th>0</th>\n",
       "      <td>प्रधानमंत्री ने कहा कि बाबा साहेब अम्बेडकर की ...</td>\n",
       "      <td>Prime Minister said Babasaheb Ambedkar has a k...</td>\n",
       "      <td>प्रधानमंत्री ने कहा कि करोड़ों लोगों के दिलों ...</td>\n",
       "      <td>1.641388</td>\n",
       "      <td>-2.035115</td>\n",
       "      <td>NP</td>\n",
       "      <td>0.024686</td>\n",
       "      <td>0.975314</td>\n",
       "      <td>-0.097524</td>\n",
       "      <td>0.144784</td>\n",
       "      <td>P</td>\n",
       "      <td>0.560282</td>\n",
       "      <td>0.439718</td>\n",
       "      <td>प्रधानमंत्री ने कहा कि करोड़ों लोगों के दिलों ...</td>\n",
       "      <td>-0.196864</td>\n",
       "      <td>0.024686</td>\n",
       "    </tr>\n",
       "    <tr>\n",
       "      <th>1</th>\n",
       "      <td>इस समारोह को आज बीजापुर में आयोजित करने के महत...</td>\n",
       "      <td>आज बीजापुर में इस समारोह को आयोजित करने के महत...</td>\n",
       "      <td>\"आज बीजापुर में इस कार्यक्रम के आयोजन के महत्व...</td>\n",
       "      <td>-0.095410</td>\n",
       "      <td>0.146530</td>\n",
       "      <td>P</td>\n",
       "      <td>0.560192</td>\n",
       "      <td>0.439808</td>\n",
       "      <td>-0.093321</td>\n",
       "      <td>0.144864</td>\n",
       "      <td>P</td>\n",
       "      <td>0.559266</td>\n",
       "      <td>0.440734</td>\n",
       "      <td>आज बीजापुर में इस समारोह को आयोजित करने के महत...</td>\n",
       "      <td>0.025560</td>\n",
       "      <td>0.560192</td>\n",
       "    </tr>\n",
       "    <tr>\n",
       "      <th>2</th>\n",
       "      <td>उन्होंने कहा कि इस कार्य को 2022 तक पूरा कर ले...</td>\n",
       "      <td>उन्होंने कहा कि लक्ष्य 2022 तक इस कार्य को पूर...</td>\n",
       "      <td>उन्होंने कहा कि इस कार्य को 2022 तक पूरा करने ...</td>\n",
       "      <td>-0.093650</td>\n",
       "      <td>0.141301</td>\n",
       "      <td>P</td>\n",
       "      <td>0.558469</td>\n",
       "      <td>0.441531</td>\n",
       "      <td>-0.093762</td>\n",
       "      <td>0.140794</td>\n",
       "      <td>P</td>\n",
       "      <td>0.558372</td>\n",
       "      <td>0.441628</td>\n",
       "      <td>उन्होंने कहा कि लक्ष्य 2022 तक इस कार्य को पूर...</td>\n",
       "      <td>0.023825</td>\n",
       "      <td>0.558469</td>\n",
       "    </tr>\n",
       "    <tr>\n",
       "      <th>3</th>\n",
       "      <td>प्रधानमंत्री ने कहा कि सरकार स्पष्ट लक्ष्यों औ...</td>\n",
       "      <td>प्रधानमंत्री ने कहा कि सरकार स्पष्ट लक्ष्यों औ...</td>\n",
       "      <td>प्रधानमंत्री ने कहा कि सरकार स्पष्ट लक्ष्यों औ...</td>\n",
       "      <td>-0.093835</td>\n",
       "      <td>0.141280</td>\n",
       "      <td>P</td>\n",
       "      <td>0.558509</td>\n",
       "      <td>0.441491</td>\n",
       "      <td>-0.095129</td>\n",
       "      <td>0.143009</td>\n",
       "      <td>P</td>\n",
       "      <td>0.559255</td>\n",
       "      <td>0.440745</td>\n",
       "      <td>प्रधानमंत्री ने कहा कि सरकार स्पष्ट लक्ष्यों औ...</td>\n",
       "      <td>0.023723</td>\n",
       "      <td>0.558509</td>\n",
       "    </tr>\n",
       "    <tr>\n",
       "      <th>4</th>\n",
       "      <td>उन्होंने इस संदर्भ में जन धन खाता खोलने, गरीबो...</td>\n",
       "      <td>इस संदर्भ में उन्होंने जनधन खाते खोलने, गरीबों...</td>\n",
       "      <td>\"इस संदर्भ में उन्होंने जन धन खाते खोलने, गरीब...</td>\n",
       "      <td>-0.095638</td>\n",
       "      <td>0.144878</td>\n",
       "      <td>P</td>\n",
       "      <td>0.559841</td>\n",
       "      <td>0.440159</td>\n",
       "      <td>-0.091816</td>\n",
       "      <td>0.139572</td>\n",
       "      <td>P</td>\n",
       "      <td>0.557590</td>\n",
       "      <td>0.442410</td>\n",
       "      <td>इस संदर्भ में उन्होंने जनधन खाते खोलने, गरीबों...</td>\n",
       "      <td>0.024620</td>\n",
       "      <td>0.559841</td>\n",
       "    </tr>\n",
       "  </tbody>\n",
       "</table>\n",
       "</div>"
      ],
      "text/plain": [
       "                                   Original_Sentence  \\\n",
       "0  प्रधानमंत्री ने कहा कि बाबा साहेब अम्बेडकर की ...   \n",
       "1  इस समारोह को आज बीजापुर में आयोजित करने के महत...   \n",
       "2  उन्होंने कहा कि इस कार्य को 2022 तक पूरा कर ले...   \n",
       "3  प्रधानमंत्री ने कहा कि सरकार स्पष्ट लक्ष्यों औ...   \n",
       "4  उन्होंने इस संदर्भ में जन धन खाता खोलने, गरीबो...   \n",
       "\n",
       "                                    mBART_Translated  \\\n",
       "0  Prime Minister said Babasaheb Ambedkar has a k...   \n",
       "1  आज बीजापुर में इस समारोह को आयोजित करने के महत...   \n",
       "2  उन्होंने कहा कि लक्ष्य 2022 तक इस कार्य को पूर...   \n",
       "3  प्रधानमंत्री ने कहा कि सरकार स्पष्ट लक्ष्यों औ...   \n",
       "4  इस संदर्भ में उन्होंने जनधन खाते खोलने, गरीबों...   \n",
       "\n",
       "                               IndicTrans_Translated  mBART_NP_logits  \\\n",
       "0  प्रधानमंत्री ने कहा कि करोड़ों लोगों के दिलों ...         1.641388   \n",
       "1  \"आज बीजापुर में इस कार्यक्रम के आयोजन के महत्व...        -0.095410   \n",
       "2  उन्होंने कहा कि इस कार्य को 2022 तक पूरा करने ...        -0.093650   \n",
       "3  प्रधानमंत्री ने कहा कि सरकार स्पष्ट लक्ष्यों औ...        -0.093835   \n",
       "4  \"इस संदर्भ में उन्होंने जन धन खाते खोलने, गरीब...        -0.095638   \n",
       "\n",
       "   mBART_P_logits model_pred_mbart  mbart_P_prob  mbart_NP_prob  \\\n",
       "0       -2.035115               NP      0.024686       0.975314   \n",
       "1        0.146530                P      0.560192       0.439808   \n",
       "2        0.141301                P      0.558469       0.441531   \n",
       "3        0.141280                P      0.558509       0.441491   \n",
       "4        0.144878                P      0.559841       0.440159   \n",
       "\n",
       "   IndicT_NP_logits  IndicT_P_logits model_pred_IndicT  indicT_P_prob  \\\n",
       "0         -0.097524         0.144784                 P       0.560282   \n",
       "1         -0.093321         0.144864                 P       0.559266   \n",
       "2         -0.093762         0.140794                 P       0.558372   \n",
       "3         -0.095129         0.143009                 P       0.559255   \n",
       "4         -0.091816         0.139572                 P       0.557590   \n",
       "\n",
       "   indicT_NP_prob                               selected_translation  \\\n",
       "0        0.439718  प्रधानमंत्री ने कहा कि करोड़ों लोगों के दिलों ...   \n",
       "1        0.440734  आज बीजापुर में इस समारोह को आयोजित करने के महत...   \n",
       "2        0.441628  उन्होंने कहा कि लक्ष्य 2022 तक इस कार्य को पूर...   \n",
       "3        0.440745  प्रधानमंत्री ने कहा कि सरकार स्पष्ट लक्ष्यों औ...   \n",
       "4        0.442410  इस संदर्भ में उन्होंने जनधन खाते खोलने, गरीबों...   \n",
       "\n",
       "   mBART_avg    IT_avg  \n",
       "0  -0.196864  0.024686  \n",
       "1   0.025560  0.560192  \n",
       "2   0.023825  0.558469  \n",
       "3   0.023723  0.558509  \n",
       "4   0.024620  0.559841  "
      ]
     },
     "execution_count": 58,
     "metadata": {},
     "output_type": "execute_result"
    }
   ],
   "source": [
    "combined.head()"
   ]
  },
  {
   "cell_type": "code",
   "execution_count": 59,
   "metadata": {},
   "outputs": [],
   "source": [
    "combined.to_csv('../combined.csv', sep='\\t', encoding='utf-8')"
   ]
  },
  {
   "cell_type": "code",
   "execution_count": 60,
   "metadata": {},
   "outputs": [],
   "source": [
    "np.savetxt('../original_sentence-hi.txt', combined['Original_Sentence'], fmt='%s')\n",
    "np.savetxt('../mBART_translated-hi.txt', combined['mBART_Translated'], fmt='%s')\n",
    "np.savetxt('../indictrans_translated-hi.txt', combined['IndicTrans_Translated'], fmt='%s')\n",
    "np.savetxt('../selected_translation-hi.txt', combined['selected_translation'], fmt='%s')"
   ]
  },
  {
   "cell_type": "code",
   "execution_count": 61,
   "metadata": {},
   "outputs": [],
   "source": [
    "!cp ../original_sentence-hi.txt ../../bleu_test/testing/indicTrans/\n",
    "!cp ../mBART_translated-hi.txt  ../../bleu_test/testing/indicTrans/\n",
    "!cp ../indictrans_translated-hi.txt  ../../bleu_test/testing/indicTrans/\n",
    "!cp ../selected_translation-hi.txt  ../../bleu_test/testing/indicTrans/"
   ]
  },
  {
   "cell_type": "code",
   "execution_count": null,
   "metadata": {},
   "outputs": [],
   "source": []
  },
  {
   "cell_type": "markdown",
   "metadata": {},
   "source": [
    "# Measure the semantic similarity"
   ]
  },
  {
   "cell_type": "code",
   "execution_count": 62,
   "metadata": {},
   "outputs": [],
   "source": [
    "# # Install the necessary libraries\n",
    "# !pip install sacremoses pandas mock sacrebleu tensorboardX pyarrow indic-nlp-library\n",
    "# # Install fairseq from source\n",
    "# !git clone https://github.com/pytorch/fairseq.git\n",
    "# %cd fairseq\n",
    "# # !git checkout da9eaba12d82b9bfc1442f0e2c6fc1b895f4d35d\n",
    "# !pip install --editable ./\n",
    "# %cd .."
   ]
  },
  {
   "cell_type": "code",
   "execution_count": 63,
   "metadata": {
    "scrolled": true
   },
   "outputs": [],
   "source": [
    "# ! apt-get -y install jq"
   ]
  },
  {
   "cell_type": "code",
   "execution_count": 64,
   "metadata": {},
   "outputs": [
    {
     "name": "stdout",
     "output_type": "stream",
     "text": [
      "/w266/w266/project/bleu_test/testing/indicTrans\n"
     ]
    }
   ],
   "source": [
    "%cd ../../bleu_test/testing/indicTrans/"
   ]
  },
  {
   "cell_type": "code",
   "execution_count": 65,
   "metadata": {},
   "outputs": [
    {
     "name": "stdout",
     "output_type": "stream",
     "text": [
      "[\r\n",
      "{\r\n",
      " \"name\": \"BLEU\",\r\n",
      " \"score\": 26.8,\r\n",
      " \"signature\": \"nrefs:1|case:mixed|eff:no|tok:13a|smooth:exp|version:2.0.0\",\r\n",
      " \"verbose_score\": \"58.0/34.0/21.3/13.4 (BP = 0.980 ratio = 0.980 hyp_len = 17845 ref_len = 18206)\",\r\n",
      " \"nrefs\": \"1\",\r\n",
      " \"case\": \"mixed\",\r\n",
      " \"eff\": \"no\",\r\n",
      " \"tok\": \"13a\",\r\n",
      " \"smooth\": \"exp\",\r\n",
      " \"version\": \"2.0.0\"\r\n",
      "},\r\n",
      "{\r\n",
      " \"name\": \"chrF2\",\r\n",
      " \"score\": 54.6,\r\n",
      " \"signature\": \"nrefs:1|case:mixed|eff:yes|nc:6|nw:0|space:no|version:2.0.0\",\r\n",
      " \"nrefs\": \"1\",\r\n",
      " \"case\": \"mixed\",\r\n",
      " \"eff\": \"yes\",\r\n",
      " \"nc\": \"6\",\r\n",
      " \"nw\": \"0\",\r\n",
      " \"space\": \"no\",\r\n",
      " \"version\": \"2.0.0\"\r\n",
      "},\r\n",
      "{\r\n",
      " \"name\": \"TER\",\r\n",
      " \"score\": 56.2,\r\n",
      " \"signature\": \"nrefs:1|case:lc|tok:tercom|norm:no|punct:yes|asian:no|version:2.0.0\",\r\n",
      " \"nrefs\": \"1\",\r\n",
      " \"case\": \"lc\",\r\n",
      " \"tok\": \"tercom\",\r\n",
      " \"norm\": \"no\",\r\n",
      " \"punct\": \"yes\",\r\n",
      " \"asian\": \"no\",\r\n",
      " \"version\": \"2.0.0\"\r\n",
      "}\r\n",
      "]\r\n",
      "\u001b[0m"
     ]
    }
   ],
   "source": [
    "!sacrebleu original_sentence.txt -i mBART_translated-hi.txt -m bleu chrf ter"
   ]
  },
  {
   "cell_type": "code",
   "execution_count": 67,
   "metadata": {},
   "outputs": [
    {
     "name": "stdout",
     "output_type": "stream",
     "text": [
      "\u001b[0;39m28.1\u001b[0m\n",
      "\u001b[0;39m54.6\u001b[0m\n",
      "\u001b[0;39m56.2\u001b[0m\n"
     ]
    }
   ],
   "source": [
    "!sacrebleu original_sentence.txt -i mBART_translated-hi.txt -m bleu  --tokenize intl | jq -r .score\n",
    "!sacrebleu original_sentence.txt -i mBART_translated-hi.txt -m chrf  --tokenize intl | jq -r .score\n",
    "!sacrebleu original_sentence.txt -i mBART_translated-hi.txt -m ter   --tokenize intl | jq -r .score"
   ]
  },
  {
   "cell_type": "code",
   "execution_count": 70,
   "metadata": {},
   "outputs": [
    {
     "name": "stdout",
     "output_type": "stream",
     "text": [
      "\u001b[0;39m38.7\u001b[0m\n",
      "\u001b[0;39m63.5\u001b[0m\n",
      "\u001b[0;39m48.4\u001b[0m\n"
     ]
    }
   ],
   "source": [
    "!sacrebleu original_sentence.txt -i indictrans_translated-hi.txt -m bleu --tokenize intl | jq -r .score\n",
    "!sacrebleu original_sentence.txt -i indictrans_translated-hi.txt -m chrf --tokenize intl | jq -r .score\n",
    "!sacrebleu original_sentence.txt -i indictrans_translated-hi.txt -m  ter --tokenize intl | jq -r .score"
   ]
  },
  {
   "cell_type": "code",
   "execution_count": 71,
   "metadata": {},
   "outputs": [
    {
     "name": "stdout",
     "output_type": "stream",
     "text": [
      "\u001b[0;39m30.4\u001b[0m\n",
      "\u001b[0;39m57\u001b[0m\n",
      "\u001b[0;39m54.8\u001b[0m\n"
     ]
    }
   ],
   "source": [
    "!sacrebleu original_sentence.txt -i selected_translation-hi.txt -m bleu  --tokenize intl  | jq -r .score\n",
    "!sacrebleu original_sentence.txt -i selected_translation-hi.txt -m chrf  --tokenize intl  | jq -r .score\n",
    "!sacrebleu original_sentence.txt -i selected_translation-hi.txt -m   ter --tokenize intl  | jq -r .score\n"
   ]
  },
  {
   "cell_type": "code",
   "execution_count": null,
   "metadata": {},
   "outputs": [],
   "source": []
  },
  {
   "cell_type": "code",
   "execution_count": null,
   "metadata": {},
   "outputs": [],
   "source": []
  },
  {
   "cell_type": "markdown",
   "metadata": {
    "collapsed": true
   },
   "source": [
    "The End!"
   ]
  }
 ],
 "metadata": {
  "kernelspec": {
   "display_name": "Python 3",
   "language": "python",
   "name": "python3"
  },
  "language_info": {
   "codemirror_mode": {
    "name": "ipython",
    "version": 3
   },
   "file_extension": ".py",
   "mimetype": "text/x-python",
   "name": "python",
   "nbconvert_exporter": "python",
   "pygments_lexer": "ipython3",
   "version": "3.6.9"
  }
 },
 "nbformat": 4,
 "nbformat_minor": 4
}
