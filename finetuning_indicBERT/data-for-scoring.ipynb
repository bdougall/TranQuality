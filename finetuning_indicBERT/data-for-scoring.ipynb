{
 "cells": [
  {
   "cell_type": "code",
   "execution_count": 57,
   "metadata": {},
   "outputs": [],
   "source": [
    "import numpy as np\n",
    "import pandas as pd\n",
    "import csv\n",
    "seed = 2"
   ]
  },
  {
   "cell_type": "code",
   "execution_count": 58,
   "metadata": {},
   "outputs": [],
   "source": [
    "from pathlib import Path \n",
    "from tqdm import tqdm\n",
    "from joblib import Parallel, delayed"
   ]
  },
  {
   "cell_type": "code",
   "execution_count": 62,
   "metadata": {},
   "outputs": [
    {
     "name": "stdout",
     "output_type": "stream",
     "text": [
      "../data/indic_wat_2021/finalrepo/dev/dev.ta\n",
      "../data/output/preprocessed/new_dev_bart_translated_ta\n",
      "                                          sentence_1  \\\n",
      "0  கோடிக்கணக்கான மக்களின் மனங்களிலும் மற்றும் இதய...   \n",
      "1  பீஜப்பூர் பகுதியில் இந்த நிகழ்ச்சியை நடத்துவதன...   \n",
      "\n",
      "                                          sentence_2 class  \n",
      "0  கோடிக்கணக்கான மக்களின் இதயங்களிலும், மனங்களிலு...     P  \n",
      "1  இந்த நிகழ்ச்சியை இன்று பிஜப்பூர் நகரில் நடத்து...     P  \n",
      "../data/indic_wat_2021/finalrepo/dev/dev.hi\n",
      "../data/output/preprocessed/new_dev_bart_translated_hi\n",
      "                                          sentence_1  \\\n",
      "0  प्रधानमंत्री ने कहा कि बाबा साहेब अम्बेडकर की ...   \n",
      "1  इस समारोह को आज बीजापुर में आयोजित करने के महत...   \n",
      "\n",
      "                                          sentence_2 class  \n",
      "0  Prime Minister said Babasaheb Ambedkar has a k...     P  \n",
      "1  आज बीजापुर में इस समारोह को आयोजित करने के महत...     P  \n",
      "../data/indic_wat_2021/finalrepo/dev/dev.ma\n",
      "../data/output/preprocessed/new_dev_bart_translated_ma\n",
      "                                          sentence_1  \\\n",
      "0  കോടിക്കണക്കിന് ജനങ്ങളുടെ മനസില്‍ അഭിലാഷങ്ങള്‍ ...   \n",
      "1  രാജ്യത്തിന്റെ വികസയാത്രയില്‍ പിന്നോക്കം വിട്ടു...   \n",
      "\n",
      "                                          sentence_2 class  \n",
      "0  കോടിക്കണക്കിന് ജനങ്ങളുടെ മനസ്സിലും മനസ്സിലും അ...     P  \n",
      "1  ഇന്ന് ബിജ്യപ്പூரில் ഈ പരിപാടി നടത്തുന്നതിന് റെ...     P  \n"
     ]
    }
   ],
   "source": [
    "for lang in ['ta', 'hi', 'ma',]: \n",
    "    orig_fname = '../data/indic_wat_2021/finalrepo/dev/'+  'dev.' + lang\n",
    "    translated_fname = '../data/output/preprocessed/' + 'new_dev_bart_translated_' + lang\n",
    "    print(orig_fname)\n",
    "    print(translated_fname)\n",
    "    orig = pd.read_csv(orig_fname, sep = \"\\t\", quoting=csv.QUOTE_NONE, names=[\"sentence_1\"])\n",
    "    b_trans = pd.read_csv(translated_fname, sep = \"\\t\", quoting=csv.QUOTE_NONE, names=[\"sentence_2\"])\n",
    "    bart_op = pd.concat([orig['sentence_1'], b_trans['sentence_2']], axis=1, keys=['sentence_1', 'sentence_2'])\n",
    "    bart_op['class'] = 'P'\n",
    "    print(bart_op.head(2))\n",
    "    ofile = '../data/output/bart_op/' + lang +'.csv'\n",
    "    of1 = 'indic-glue/amrita-paraphrase-exact/' + lang + '/' + lang + '-bart-test.csv'\n",
    "    bart_op.to_csv(ofile, header=None, index=False)\n",
    "    bart_op.to_csv(of1, header=None, index=False)"
   ]
  },
  {
   "cell_type": "code",
   "execution_count": 60,
   "metadata": {},
   "outputs": [
    {
     "name": "stdout",
     "output_type": "stream",
     "text": [
      " indic_trans_ta_dev.csv     ta-bart-test.csv\t     ta-train.csv\r\n",
      "'orig-ta-test (copy).csv'   ta-indictrans-test.csv   tabart-test.csv\r\n",
      " processed-ta-test.csv\t    ta-test.csv\t\t     taindictrans-test.csv\r\n"
     ]
    }
   ],
   "source": [
    "!ls indic-glue/amrita-paraphrase-exact/ta"
   ]
  },
  {
   "cell_type": "code",
   "execution_count": 61,
   "metadata": {},
   "outputs": [
    {
     "name": "stdout",
     "output_type": "stream",
     "text": [
      "../data/indic_wat_2021/finalrepo/dev/dev.ta\n",
      "../data/output/preprocessed/indic_trans_ta_dev.csv\n",
      "                                          sentence_1  \\\n",
      "0  கோடிக்கணக்கான மக்களின் மனங்களிலும் மற்றும் இதய...   \n",
      "1  பீஜப்பூர் பகுதியில் இந்த நிகழ்ச்சியை நடத்துவதன...   \n",
      "\n",
      "                                          sentence_2 class  \n",
      "0  கோடிக்கணக்கான மக்களின் மனதிலும் இதயத்திலும் வி...    NP  \n",
      "1  \"பீஜப்பூரில் இன்று இந்த நிகழ்ச்சியை நடத்துவதன்...    NP  \n",
      "../data/indic_wat_2021/finalrepo/dev/dev.hi\n",
      "../data/output/preprocessed/indic_trans_hi_dev.csv\n",
      "                                          sentence_1  \\\n",
      "0  प्रधानमंत्री ने कहा कि बाबा साहेब अम्बेडकर की ...   \n",
      "1  इस समारोह को आज बीजापुर में आयोजित करने के महत...   \n",
      "\n",
      "                                          sentence_2 class  \n",
      "0  प्रधानमंत्री ने कहा कि करोड़ों लोगों के दिलों ...    NP  \n",
      "1  \"आज बीजापुर में इस कार्यक्रम के आयोजन के महत्व...    NP  \n",
      "../data/indic_wat_2021/finalrepo/dev/dev.ma\n",
      "../data/output/preprocessed/indic_trans_ma_dev.csv\n",
      "                                          sentence_1  \\\n",
      "0  കോടിക്കണക്കിന് ജനങ്ങളുടെ മനസില്‍ അഭിലാഷങ്ങള്‍ ...   \n",
      "1  രാജ്യത്തിന്റെ വികസയാത്രയില്‍ പിന്നോക്കം വിട്ടു...   \n",
      "\n",
      "                                          sentence_2 class  \n",
      "0  കോടിക്കണക്കിന് ജനങ്ങളുടെ മനസ്സിലും ഹൃദയത്തിലും...    NP  \n",
      "1  \"ബിജാപ്പൂരിൽ ഇന്ന് ഈ പരിപാടി സംഘടിപ്പിക്കുന്നത...    NP  \n"
     ]
    }
   ],
   "source": [
    "for lang in ['ta', 'hi', 'ma',]: \n",
    "    orig_fname = '../data/indic_wat_2021/finalrepo/dev/'+  'dev.' + lang\n",
    "    translated_fname = '../data/output/preprocessed/' +  'indic_trans_' + lang + '_dev.csv' \n",
    "    print(orig_fname)\n",
    "    print(translated_fname)\n",
    "    orig = pd.read_csv(orig_fname, sep = \"\\t\", quoting=csv.QUOTE_NONE, names=[\"sentence_1\"])\n",
    "    indictrans_df = pd.read_csv(translated_fname, sep = \"\\t\", quoting=csv.QUOTE_NONE, names=[\"sentence_2\"])\n",
    "    indictrans_op = pd.concat([orig['sentence_1'], indictrans_df['sentence_2']], axis=1, keys=['sentence_1', 'sentence_2'])\n",
    "    indictrans_op['class'] = 'NP'\n",
    "    print(indictrans_op.head(2))\n",
    "    ofile = '../data/output/'+'indictrans_op/' + lang +'.csv'\n",
    "    of1 = 'indic-glue/amrita-paraphrase-exact/' + lang + '/' + lang + '-indictrans-test.csv'\n",
    "    indictrans_op.to_csv(ofile, header=None, index=False)\n",
    "    indictrans_op.to_csv(of1, header=None, index=False)"
   ]
  }
 ],
 "metadata": {
  "kernelspec": {
   "display_name": "Python 3",
   "language": "python",
   "name": "python3"
  },
  "language_info": {
   "codemirror_mode": {
    "name": "ipython",
    "version": 3
   },
   "file_extension": ".py",
   "mimetype": "text/x-python",
   "name": "python",
   "nbconvert_exporter": "python",
   "pygments_lexer": "ipython3",
   "version": "3.7.3"
  }
 },
 "nbformat": 4,
 "nbformat_minor": 4
}
