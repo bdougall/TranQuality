{
 "cells": [
  {
   "cell_type": "markdown",
   "metadata": {},
   "source": [
    "In this notebook we will explore where the model is misclassifying and provide some thematic reasons for them. We will not delve into detailed scientific analysis though.\n",
    "\n",
    "It is for the next chapter of this project."
   ]
  },
  {
   "cell_type": "code",
   "execution_count": 1,
   "metadata": {},
   "outputs": [
    {
     "name": "stdout",
     "output_type": "stream",
     "text": [
      "/w266/w266/project/finetuning/indic-bert\n"
     ]
    }
   ],
   "source": [
    "%cd indic-bert"
   ]
  },
  {
   "cell_type": "code",
   "execution_count": 2,
   "metadata": {},
   "outputs": [],
   "source": [
    "import glob\n",
    "import os"
   ]
  },
  {
   "cell_type": "code",
   "execution_count": 3,
   "metadata": {},
   "outputs": [],
   "source": [
    "from fine_tune.modules import get_modules\n",
    "from fine_tune.data import load_dataset\n",
    "from fine_tune.data.examples import *\n",
    "from fine_tune.modules import base"
   ]
  },
  {
   "cell_type": "code",
   "execution_count": 4,
   "metadata": {},
   "outputs": [],
   "source": [
    "import pandas as pd\n",
    "import numpy as np\n",
    "np.set_printoptions(precision=5)"
   ]
  },
  {
   "cell_type": "code",
   "execution_count": 6,
   "metadata": {},
   "outputs": [],
   "source": [
    "import seaborn as sn\n",
    "import matplotlib.pyplot as plt"
   ]
  },
  {
   "cell_type": "code",
   "execution_count": 7,
   "metadata": {},
   "outputs": [],
   "source": [
    "from transformers import (\n",
    "    AdamW,\n",
    "    AutoConfig,\n",
    "    AutoModel,\n",
    "    AutoModelForSequenceClassification,\n",
    "    AutoTokenizer,\n",
    "    get_linear_schedule_with_warmup,\n",
    ")"
   ]
  },
  {
   "cell_type": "code",
   "execution_count": 8,
   "metadata": {},
   "outputs": [],
   "source": [
    "def _softmax(x1, x2, tog=0):\n",
    "    a = np.exp([x1,x2])/np.sum(np.exp([x1,x2]))\n",
    "    if tog == 1:\n",
    "        return a[0]\n",
    "    else:\n",
    "        return a[1]\n",
    "\n",
    "def apply_softmax(df, tog):\n",
    "    return df.apply(lambda row: _softmax(row[0], row[1], tog), axis=1)"
   ]
  },
  {
   "cell_type": "code",
   "execution_count": 9,
   "metadata": {},
   "outputs": [],
   "source": [
    "!cp ../indic-glue/amrita-paraphrase-exact/hi/hi-test-orig.csv ../indic-glue/amrita-paraphrase-exact/hi/hi-test.csv "
   ]
  },
  {
   "cell_type": "code",
   "execution_count": 10,
   "metadata": {},
   "outputs": [
    {
     "data": {
      "text/plain": [
       "(900, 3)"
      ]
     },
     "execution_count": 10,
     "metadata": {},
     "output_type": "execute_result"
    }
   ],
   "source": [
    "# Check if you have the right file\n",
    "test = pd.read_csv('../indic-glue/amrita-paraphrase-exact/hi/hi-test.csv', header=None)\n",
    "test.shape"
   ]
  },
  {
   "cell_type": "code",
   "execution_count": 11,
   "metadata": {},
   "outputs": [
    {
     "data": {
      "text/html": [
       "<div>\n",
       "<style scoped>\n",
       "    .dataframe tbody tr th:only-of-type {\n",
       "        vertical-align: middle;\n",
       "    }\n",
       "\n",
       "    .dataframe tbody tr th {\n",
       "        vertical-align: top;\n",
       "    }\n",
       "\n",
       "    .dataframe thead th {\n",
       "        text-align: right;\n",
       "    }\n",
       "</style>\n",
       "<table border=\"1\" class=\"dataframe\">\n",
       "  <thead>\n",
       "    <tr style=\"text-align: right;\">\n",
       "      <th></th>\n",
       "      <th>0</th>\n",
       "      <th>1</th>\n",
       "      <th>2</th>\n",
       "    </tr>\n",
       "  </thead>\n",
       "  <tbody>\n",
       "    <tr>\n",
       "      <th>0</th>\n",
       "      <td>जानकारी के मुताबिक जंगलों में पन्द्रह् फरवरी स...</td>\n",
       "      <td>आमतौर पर यहां के जंगलों में 'फायर सीजन' पन्द्र...</td>\n",
       "      <td>P</td>\n",
       "    </tr>\n",
       "    <tr>\n",
       "      <th>1</th>\n",
       "      <td>20.1 MM बारिश के कारण सड़कों पर 4 फीट तक पानी ...</td>\n",
       "      <td>प्रिंस खलीफा जो की बिन मांझी की खबर पढ़ने के ब...</td>\n",
       "      <td>NP</td>\n",
       "    </tr>\n",
       "    <tr>\n",
       "      <th>2</th>\n",
       "      <td>20.1 MM बारिश के कारण सड़कों पर 4 फीट तक पानी ...</td>\n",
       "      <td>सड़कों पर 4 फीट तक पानी जमा हो गया था जिसका कार...</td>\n",
       "      <td>P</td>\n",
       "    </tr>\n",
       "    <tr>\n",
       "      <th>3</th>\n",
       "      <td>DNA टेस्ट से भी रेप की पुष्टि हो चुकी थी।</td>\n",
       "      <td>आरोपी  रेप करने के बाद करीब एक साल तक फरार रहा...</td>\n",
       "      <td>NP</td>\n",
       "    </tr>\n",
       "    <tr>\n",
       "      <th>4</th>\n",
       "      <td>आंतें तक बाहर निकल आई थी|</td>\n",
       "      <td>उन्होंने सीबीआई और प्रवर्तन निदेशालय (ईडी) को ...</td>\n",
       "      <td>NP</td>\n",
       "    </tr>\n",
       "  </tbody>\n",
       "</table>\n",
       "</div>"
      ],
      "text/plain": [
       "                                                   0  \\\n",
       "0  जानकारी के मुताबिक जंगलों में पन्द्रह् फरवरी स...   \n",
       "1   20.1 MM बारिश के कारण सड़कों पर 4 फीट तक पानी ...   \n",
       "2   20.1 MM बारिश के कारण सड़कों पर 4 फीट तक पानी ...   \n",
       "3          DNA टेस्ट से भी रेप की पुष्टि हो चुकी थी।   \n",
       "4                         आंतें तक बाहर निकल आई थी|    \n",
       "\n",
       "                                                   1   2  \n",
       "0  आमतौर पर यहां के जंगलों में 'फायर सीजन' पन्द्र...   P  \n",
       "1  प्रिंस खलीफा जो की बिन मांझी की खबर पढ़ने के ब...  NP  \n",
       "2  सड़कों पर 4 फीट तक पानी जमा हो गया था जिसका कार...   P  \n",
       "3  आरोपी  रेप करने के बाद करीब एक साल तक फरार रहा...  NP  \n",
       "4  उन्होंने सीबीआई और प्रवर्तन निदेशालय (ईडी) को ...  NP  "
      ]
     },
     "execution_count": 11,
     "metadata": {},
     "output_type": "execute_result"
    }
   ],
   "source": [
    "test.head(5)"
   ]
  },
  {
   "cell_type": "code",
   "execution_count": 12,
   "metadata": {},
   "outputs": [
    {
     "name": "stderr",
     "output_type": "stream",
     "text": [
      "Some weights of the model checkpoint at ai4bharat/indic-bert were not used when initializing AlbertForSequenceClassification: ['predictions.bias', 'predictions.LayerNorm.weight', 'predictions.LayerNorm.bias', 'predictions.dense.weight', 'predictions.dense.bias', 'predictions.decoder.weight', 'predictions.decoder.bias', 'sop_classifier.classifier.weight', 'sop_classifier.classifier.bias']\n",
      "- This IS expected if you are initializing AlbertForSequenceClassification from the checkpoint of a model trained on another task or with another architecture (e.g. initializing a BertForSequenceClassification model from a BertForPreTraining model).\n",
      "- This IS NOT expected if you are initializing AlbertForSequenceClassification from the checkpoint of a model that you expect to be exactly identical (initializing a BertForSequenceClassification model from a BertForSequenceClassification model).\n",
      "Some weights of AlbertForSequenceClassification were not initialized from the model checkpoint at ai4bharat/indic-bert and are newly initialized: ['classifier.weight', 'classifier.bias']\n",
      "You should probably TRAIN this model on a down-stream task to be able to use it for predictions and inference.\n",
      "/usr/local/lib/python3.6/dist-packages/pytorch_lightning/utilities/distributed.py:25: UserWarning: Checkpoint directory ../outputs_hi/amrita-paraphrase-exact/train-hi/model-ai4bharat-indic-bert exists and is not empty with save_top_k != 0.All files in this directory will be deleted when a checkpoint is saved!\n",
      "  warnings.warn(*args, **kwargs)\n",
      "GPU available: True, used: True\n",
      "TPU available: False, using: 0 TPU cores\n",
      "CUDA_VISIBLE_DEVICES: [0]\n",
      "Some weights of the model checkpoint at ai4bharat/indic-bert were not used when initializing AlbertForSequenceClassification: ['predictions.bias', 'predictions.LayerNorm.weight', 'predictions.LayerNorm.bias', 'predictions.dense.weight', 'predictions.dense.bias', 'predictions.decoder.weight', 'predictions.decoder.bias', 'sop_classifier.classifier.weight', 'sop_classifier.classifier.bias']\n",
      "- This IS expected if you are initializing AlbertForSequenceClassification from the checkpoint of a model trained on another task or with another architecture (e.g. initializing a BertForSequenceClassification model from a BertForPreTraining model).\n",
      "- This IS NOT expected if you are initializing AlbertForSequenceClassification from the checkpoint of a model that you expect to be exactly identical (initializing a BertForSequenceClassification model from a BertForSequenceClassification model).\n",
      "Some weights of AlbertForSequenceClassification were not initialized from the model checkpoint at ai4bharat/indic-bert and are newly initialized: ['classifier.weight', 'classifier.bias']\n",
      "You should probably TRAIN this model on a down-stream task to be able to use it for predictions and inference.\n",
      "/usr/local/lib/python3.6/dist-packages/pytorch_lightning/utilities/distributed.py:25: UserWarning: The dataloader, test dataloader 0, does not have many workers which may be a bottleneck. Consider increasing the value of the `num_workers` argument` (try 12 which is the number of cpus on this machine) in the `DataLoader` init to improve performance.\n",
      "  warnings.warn(*args, **kwargs)\n"
     ]
    },
    {
     "data": {
      "application/vnd.jupyter.widget-view+json": {
       "model_id": "1f4c3a43612a4c9786a4039a94fb4d36",
       "version_major": 2,
       "version_minor": 0
      },
      "text/plain": [
       "HBox(children=(FloatProgress(value=1.0, bar_style='info', description='Testing', layout=Layout(flex='2'), max=…"
      ]
     },
     "metadata": {},
     "output_type": "display_data"
    },
    {
     "name": "stdout",
     "output_type": "stream",
     "text": [
      "Logits written to :../outputs_hi/amrita-paraphrase-exact/train-hi/model-ai4bharat-indic-bert/test_results_hi.csv\n",
      "--------------------------------------------------------------------------------\n",
      "TEST RESULTS\n",
      "{'acc': 0.9044444444444445,\n",
      " 'avg_test_loss': 0.321355938911438,\n",
      " 'val_loss': 0.321355938911438}\n",
      "--------------------------------------------------------------------------------\n",
      "{'avg_test_loss': 0.321355938911438, 'val_loss': 0.321355938911438, 'acc': 0.9044444444444445}\n",
      "\n"
     ]
    },
    {
     "data": {
      "text/plain": [
       "TextClassification(\n",
       "  (model): AlbertForSequenceClassification(\n",
       "    (albert): AlbertModel(\n",
       "      (embeddings): AlbertEmbeddings(\n",
       "        (word_embeddings): Embedding(200000, 128, padding_idx=0)\n",
       "        (position_embeddings): Embedding(512, 128)\n",
       "        (token_type_embeddings): Embedding(2, 128)\n",
       "        (LayerNorm): LayerNorm((128,), eps=1e-12, elementwise_affine=True)\n",
       "        (dropout): Dropout(p=0, inplace=False)\n",
       "      )\n",
       "      (encoder): AlbertTransformer(\n",
       "        (embedding_hidden_mapping_in): Linear(in_features=128, out_features=768, bias=True)\n",
       "        (albert_layer_groups): ModuleList(\n",
       "          (0): AlbertLayerGroup(\n",
       "            (albert_layers): ModuleList(\n",
       "              (0): AlbertLayer(\n",
       "                (full_layer_layer_norm): LayerNorm((768,), eps=1e-12, elementwise_affine=True)\n",
       "                (attention): AlbertAttention(\n",
       "                  (query): Linear(in_features=768, out_features=768, bias=True)\n",
       "                  (key): Linear(in_features=768, out_features=768, bias=True)\n",
       "                  (value): Linear(in_features=768, out_features=768, bias=True)\n",
       "                  (attention_dropout): Dropout(p=0, inplace=False)\n",
       "                  (output_dropout): Dropout(p=0, inplace=False)\n",
       "                  (dense): Linear(in_features=768, out_features=768, bias=True)\n",
       "                  (LayerNorm): LayerNorm((768,), eps=1e-12, elementwise_affine=True)\n",
       "                )\n",
       "                (ffn): Linear(in_features=768, out_features=3072, bias=True)\n",
       "                (ffn_output): Linear(in_features=3072, out_features=768, bias=True)\n",
       "                (dropout): Dropout(p=0, inplace=False)\n",
       "              )\n",
       "            )\n",
       "          )\n",
       "        )\n",
       "      )\n",
       "      (pooler): Linear(in_features=768, out_features=768, bias=True)\n",
       "      (pooler_activation): Tanh()\n",
       "    )\n",
       "    (dropout): Dropout(p=0.1, inplace=False)\n",
       "    (classifier): Linear(in_features=768, out_features=2, bias=True)\n",
       "  )\n",
       "  (trained_model): TextClassification(\n",
       "    (model): AlbertForSequenceClassification(\n",
       "      (albert): AlbertModel(\n",
       "        (embeddings): AlbertEmbeddings(\n",
       "          (word_embeddings): Embedding(200000, 128, padding_idx=0)\n",
       "          (position_embeddings): Embedding(512, 128)\n",
       "          (token_type_embeddings): Embedding(2, 128)\n",
       "          (LayerNorm): LayerNorm((128,), eps=1e-12, elementwise_affine=True)\n",
       "          (dropout): Dropout(p=0, inplace=False)\n",
       "        )\n",
       "        (encoder): AlbertTransformer(\n",
       "          (embedding_hidden_mapping_in): Linear(in_features=128, out_features=768, bias=True)\n",
       "          (albert_layer_groups): ModuleList(\n",
       "            (0): AlbertLayerGroup(\n",
       "              (albert_layers): ModuleList(\n",
       "                (0): AlbertLayer(\n",
       "                  (full_layer_layer_norm): LayerNorm((768,), eps=1e-12, elementwise_affine=True)\n",
       "                  (attention): AlbertAttention(\n",
       "                    (query): Linear(in_features=768, out_features=768, bias=True)\n",
       "                    (key): Linear(in_features=768, out_features=768, bias=True)\n",
       "                    (value): Linear(in_features=768, out_features=768, bias=True)\n",
       "                    (attention_dropout): Dropout(p=0, inplace=False)\n",
       "                    (output_dropout): Dropout(p=0, inplace=False)\n",
       "                    (dense): Linear(in_features=768, out_features=768, bias=True)\n",
       "                    (LayerNorm): LayerNorm((768,), eps=1e-12, elementwise_affine=True)\n",
       "                  )\n",
       "                  (ffn): Linear(in_features=768, out_features=3072, bias=True)\n",
       "                  (ffn_output): Linear(in_features=3072, out_features=768, bias=True)\n",
       "                  (dropout): Dropout(p=0, inplace=False)\n",
       "                )\n",
       "              )\n",
       "            )\n",
       "          )\n",
       "        )\n",
       "        (pooler): Linear(in_features=768, out_features=768, bias=True)\n",
       "        (pooler_activation): Tanh()\n",
       "      )\n",
       "      (dropout): Dropout(p=0.1, inplace=False)\n",
       "      (classifier): Linear(in_features=768, out_features=2, bias=True)\n",
       "    )\n",
       "  )\n",
       ")"
      ]
     },
     "execution_count": 12,
     "metadata": {},
     "output_type": "execute_result"
    }
   ],
   "source": [
    "# %rm -dr outputs0 outputs1\n",
    "\n",
    "\n",
    "import os\n",
    "from pathlib import Path\n",
    "\n",
    "\n",
    "from fine_tune.cli import main as finetune_main\n",
    "\n",
    "argvec = ['--lang', 'hi',\n",
    "          '--train_lang', 'hi',\n",
    "          '--dataset', 'amrita-paraphrase-exact', \n",
    "          '--model', 'ai4bharat/indic-bert',\n",
    "          '--iglue_dir', '../indic-glue/',\n",
    "          '--output_dir', '../outputs_hi',\n",
    "          '--max_seq_length', '256', #'128', # '512',\n",
    "          '--learning_rate', '2e-5',\n",
    "          '--num_train_epochs', '1',\n",
    "          '--cache_dir', '../ib-cache',\n",
    "          '--train_batch_size', '16',\n",
    "          '--seed', '8',\n",
    "\n",
    "]\n",
    "\n",
    "p = Path('../outputs_hi')\n",
    "Path(p).mkdir(parents=True, exist_ok=True)\n",
    "finetune_main(argvec)\n",
    "\n"
   ]
  },
  {
   "cell_type": "markdown",
   "metadata": {},
   "source": [
    "## Error Analysis"
   ]
  },
  {
   "cell_type": "markdown",
   "metadata": {},
   "source": [
    "## Load the scores for Test."
   ]
  },
  {
   "cell_type": "code",
   "execution_count": 17,
   "metadata": {},
   "outputs": [
    {
     "name": "stdout",
     "output_type": "stream",
     "text": [
      "/w266/w266/project/finetuning/indic-bert\r\n"
     ]
    }
   ],
   "source": [
    "!pwd"
   ]
  },
  {
   "cell_type": "code",
   "execution_count": 20,
   "metadata": {},
   "outputs": [
    {
     "data": {
      "text/plain": [
       "'../outputs_hi/amrita-paraphrase-exact/train-hi/model-ai4bharat-indic-bert/test_results_hi.csv'"
      ]
     },
     "execution_count": 20,
     "metadata": {},
     "output_type": "execute_result"
    }
   ],
   "source": [
    "results_file = '../outputs_hi/amrita-paraphrase-exact/train-hi/model-ai4bharat-indic-bert/test_results_hi.csv'\n",
    "results_file"
   ]
  },
  {
   "cell_type": "code",
   "execution_count": 21,
   "metadata": {},
   "outputs": [],
   "source": [
    "test_res = pd.read_csv(results_file, header=None)"
   ]
  },
  {
   "cell_type": "code",
   "execution_count": 22,
   "metadata": {
    "scrolled": true
   },
   "outputs": [
    {
     "data": {
      "text/plain": [
       "(900, 4)"
      ]
     },
     "execution_count": 22,
     "metadata": {},
     "output_type": "execute_result"
    }
   ],
   "source": [
    "test_res.shape"
   ]
  },
  {
   "cell_type": "code",
   "execution_count": 23,
   "metadata": {},
   "outputs": [],
   "source": [
    "test_res.columns=['prob_P', 'prob_NP', 'pred', 'actual']"
   ]
  },
  {
   "cell_type": "code",
   "execution_count": 24,
   "metadata": {},
   "outputs": [
    {
     "name": "stdout",
     "output_type": "stream",
     "text": [
      "Predicted  0.0  1.0\n",
      "Actual             \n",
      "0.0        383   17\n",
      "1.0         69  431\n"
     ]
    }
   ],
   "source": [
    "confusion_matrix = pd.crosstab(test_res['actual'], test_res['pred'], rownames=['Actual'], colnames=['Predicted'])\n",
    "print (confusion_matrix)"
   ]
  },
  {
   "cell_type": "code",
   "execution_count": 25,
   "metadata": {},
   "outputs": [
    {
     "data": {
      "image/png": "[encoded data removed]",
      "text/plain": [
       "<Figure size 432x288 with 2 Axes>"
      ]
     },
     "metadata": {
      "needs_background": "light"
     },
     "output_type": "display_data"
    }
   ],
   "source": [
    "sn.heatmap(confusion_matrix, annot=True)\n",
    "plt.show()"
   ]
  },
  {
   "cell_type": "markdown",
   "metadata": {},
   "source": [
    "## Combine logits, original sentence, and translations"
   ]
  },
  {
   "cell_type": "code",
   "execution_count": 28,
   "metadata": {},
   "outputs": [],
   "source": [
    "test['pred'] = test_res['pred']\n",
    "test['actual'] = test_res['actual']"
   ]
  },
  {
   "cell_type": "code",
   "execution_count": 30,
   "metadata": {},
   "outputs": [],
   "source": [
    "test.columns = ['sentence1', 'sentence2', 'class', 'pred','actual']"
   ]
  },
  {
   "cell_type": "code",
   "execution_count": 31,
   "metadata": {},
   "outputs": [
    {
     "data": {
      "text/html": [
       "<div>\n",
       "<style scoped>\n",
       "    .dataframe tbody tr th:only-of-type {\n",
       "        vertical-align: middle;\n",
       "    }\n",
       "\n",
       "    .dataframe tbody tr th {\n",
       "        vertical-align: top;\n",
       "    }\n",
       "\n",
       "    .dataframe thead th {\n",
       "        text-align: right;\n",
       "    }\n",
       "</style>\n",
       "<table border=\"1\" class=\"dataframe\">\n",
       "  <thead>\n",
       "    <tr style=\"text-align: right;\">\n",
       "      <th></th>\n",
       "      <th>sentence1</th>\n",
       "      <th>sentence2</th>\n",
       "      <th>class</th>\n",
       "      <th>pred</th>\n",
       "      <th>actual</th>\n",
       "    </tr>\n",
       "  </thead>\n",
       "  <tbody>\n",
       "    <tr>\n",
       "      <th>0</th>\n",
       "      <td>जानकारी के मुताबिक जंगलों में पन्द्रह् फरवरी स...</td>\n",
       "      <td>आमतौर पर यहां के जंगलों में 'फायर सीजन' पन्द्र...</td>\n",
       "      <td>P</td>\n",
       "      <td>0.0</td>\n",
       "      <td>0.0</td>\n",
       "    </tr>\n",
       "    <tr>\n",
       "      <th>1</th>\n",
       "      <td>20.1 MM बारिश के कारण सड़कों पर 4 फीट तक पानी ...</td>\n",
       "      <td>प्रिंस खलीफा जो की बिन मांझी की खबर पढ़ने के ब...</td>\n",
       "      <td>NP</td>\n",
       "      <td>1.0</td>\n",
       "      <td>1.0</td>\n",
       "    </tr>\n",
       "    <tr>\n",
       "      <th>2</th>\n",
       "      <td>20.1 MM बारिश के कारण सड़कों पर 4 फीट तक पानी ...</td>\n",
       "      <td>सड़कों पर 4 फीट तक पानी जमा हो गया था जिसका कार...</td>\n",
       "      <td>P</td>\n",
       "      <td>0.0</td>\n",
       "      <td>0.0</td>\n",
       "    </tr>\n",
       "    <tr>\n",
       "      <th>3</th>\n",
       "      <td>DNA टेस्ट से भी रेप की पुष्टि हो चुकी थी।</td>\n",
       "      <td>आरोपी  रेप करने के बाद करीब एक साल तक फरार रहा...</td>\n",
       "      <td>NP</td>\n",
       "      <td>1.0</td>\n",
       "      <td>1.0</td>\n",
       "    </tr>\n",
       "    <tr>\n",
       "      <th>4</th>\n",
       "      <td>आंतें तक बाहर निकल आई थी|</td>\n",
       "      <td>उन्होंने सीबीआई और प्रवर्तन निदेशालय (ईडी) को ...</td>\n",
       "      <td>NP</td>\n",
       "      <td>1.0</td>\n",
       "      <td>1.0</td>\n",
       "    </tr>\n",
       "  </tbody>\n",
       "</table>\n",
       "</div>"
      ],
      "text/plain": [
       "                                           sentence1  \\\n",
       "0  जानकारी के मुताबिक जंगलों में पन्द्रह् फरवरी स...   \n",
       "1   20.1 MM बारिश के कारण सड़कों पर 4 फीट तक पानी ...   \n",
       "2   20.1 MM बारिश के कारण सड़कों पर 4 फीट तक पानी ...   \n",
       "3          DNA टेस्ट से भी रेप की पुष्टि हो चुकी थी।   \n",
       "4                         आंतें तक बाहर निकल आई थी|    \n",
       "\n",
       "                                           sentence2 class  pred  actual  \n",
       "0  आमतौर पर यहां के जंगलों में 'फायर सीजन' पन्द्र...     P   0.0     0.0  \n",
       "1  प्रिंस खलीफा जो की बिन मांझी की खबर पढ़ने के ब...    NP   1.0     1.0  \n",
       "2  सड़कों पर 4 फीट तक पानी जमा हो गया था जिसका कार...     P   0.0     0.0  \n",
       "3  आरोपी  रेप करने के बाद करीब एक साल तक फरार रहा...    NP   1.0     1.0  \n",
       "4  उन्होंने सीबीआई और प्रवर्तन निदेशालय (ईडी) को ...    NP   1.0     1.0  "
      ]
     },
     "execution_count": 31,
     "metadata": {},
     "output_type": "execute_result"
    }
   ],
   "source": [
    "test.head()"
   ]
  },
  {
   "cell_type": "code",
   "execution_count": 32,
   "metadata": {},
   "outputs": [
    {
     "name": "stderr",
     "output_type": "stream",
     "text": [
      "/usr/local/lib/python3.6/dist-packages/ipykernel_launcher.py:1: UserWarning: Boolean Series key will be reindexed to match DataFrame index.\n",
      "  \"\"\"Entry point for launching an IPython kernel.\n"
     ]
    }
   ],
   "source": [
    "misclassified_hi_paraphrase  = test[test['pred']!=test['actual'] ][test['class']=='P']"
   ]
  },
  {
   "cell_type": "code",
   "execution_count": 33,
   "metadata": {
    "scrolled": true
   },
   "outputs": [
    {
     "data": {
      "text/html": [
       "<div>\n",
       "<style scoped>\n",
       "    .dataframe tbody tr th:only-of-type {\n",
       "        vertical-align: middle;\n",
       "    }\n",
       "\n",
       "    .dataframe tbody tr th {\n",
       "        vertical-align: top;\n",
       "    }\n",
       "\n",
       "    .dataframe thead th {\n",
       "        text-align: right;\n",
       "    }\n",
       "</style>\n",
       "<table border=\"1\" class=\"dataframe\">\n",
       "  <thead>\n",
       "    <tr style=\"text-align: right;\">\n",
       "      <th></th>\n",
       "      <th>sentence1</th>\n",
       "      <th>sentence2</th>\n",
       "      <th>class</th>\n",
       "      <th>pred</th>\n",
       "      <th>actual</th>\n",
       "    </tr>\n",
       "  </thead>\n",
       "  <tbody>\n",
       "    <tr>\n",
       "      <th>11</th>\n",
       "      <td>इसमें लिक्विड प्रोपल्शन टि्वन इंजन लगे हैं।</td>\n",
       "      <td>एडवांस टेक्नोलॉजी वाली पृथ्वी-दो मिसाइल में दो...</td>\n",
       "      <td>P</td>\n",
       "      <td>1.0</td>\n",
       "      <td>0.0</td>\n",
       "    </tr>\n",
       "    <tr>\n",
       "      <th>179</th>\n",
       "      <td>इसके साथ ही   इसी हफ्ते  के अन्त  में सीबीआइ ए...</td>\n",
       "      <td>इस सप्ताह के अंत में वह त्यागी के रिश्तेदारों ...</td>\n",
       "      <td>P</td>\n",
       "      <td>1.0</td>\n",
       "      <td>0.0</td>\n",
       "    </tr>\n",
       "    <tr>\n",
       "      <th>183</th>\n",
       "      <td>इसरो (भारतीय अंतरिक्ष अनुसंधान संगठन) पहली बार...</td>\n",
       "      <td>आंध्र प्रदेश के श्रीहरिकोटा से आज सुबह पहला स्...</td>\n",
       "      <td>P</td>\n",
       "      <td>1.0</td>\n",
       "      <td>0.0</td>\n",
       "    </tr>\n",
       "    <tr>\n",
       "      <th>202</th>\n",
       "      <td>इसे दोबारा से यूज किया जा सकेगा।</td>\n",
       "      <td>ये एक रियूजेबल लॉन्च व्हीकल है</td>\n",
       "      <td>P</td>\n",
       "      <td>1.0</td>\n",
       "      <td>0.0</td>\n",
       "    </tr>\n",
       "    <tr>\n",
       "      <th>228</th>\n",
       "      <td>उत्तराखंड में जंगलों में लगी आग के विकराल रूप ...</td>\n",
       "      <td>उत्तराखंड में एनडीआरएफ, एसडीआरएफ और थलसेना के ...</td>\n",
       "      <td>P</td>\n",
       "      <td>1.0</td>\n",
       "      <td>0.0</td>\n",
       "    </tr>\n",
       "    <tr>\n",
       "      <th>257</th>\n",
       "      <td>उन्होंने कहा कि  हालिया घटनाक्रम यह दर्शाते है...</td>\n",
       "      <td>'हाल में हुई घटनाएं ये संकेत देती हैं कि मेरे ...</td>\n",
       "      <td>P</td>\n",
       "      <td>1.0</td>\n",
       "      <td>0.0</td>\n",
       "    </tr>\n",
       "    <tr>\n",
       "      <th>433</th>\n",
       "      <td>तीन सौ प्च्चास  किमी तक मार करने वाली पृथ्वी-द...</td>\n",
       "      <td>भारत ने आज परमाणु क्षमता संपन्न और स्वदेश में ...</td>\n",
       "      <td>P</td>\n",
       "      <td>1.0</td>\n",
       "      <td>0.0</td>\n",
       "    </tr>\n",
       "    <tr>\n",
       "      <th>512</th>\n",
       "      <td>पुलिस ने अनुसार, यह घटना दिन-दहाड़े हुई है</td>\n",
       "      <td>पुलिस को संदेह है कि उस पर दोपहर एक से पांच बज...</td>\n",
       "      <td>P</td>\n",
       "      <td>1.0</td>\n",
       "      <td>0.0</td>\n",
       "    </tr>\n",
       "    <tr>\n",
       "      <th>627</th>\n",
       "      <td>मामले में अब तक कोई गिरफ्तारी नहीं हुई है।</td>\n",
       "      <td>मामले में अब तक पुलीस ने किसी को भी अरेस्ट मही...</td>\n",
       "      <td>P</td>\n",
       "      <td>1.0</td>\n",
       "      <td>0.0</td>\n",
       "    </tr>\n",
       "    <tr>\n",
       "      <th>741</th>\n",
       "      <td>रियो ओलंपिक के लिए देश का सद्भावना दूत बनेंगे ...</td>\n",
       "      <td>सचिन तेंदुलकर होंगे रियो ओलंपिक के गुडविल ब्रा...</td>\n",
       "      <td>P</td>\n",
       "      <td>1.0</td>\n",
       "      <td>0.0</td>\n",
       "    </tr>\n",
       "    <tr>\n",
       "      <th>792</th>\n",
       "      <td>सचिन तेंदुलकर होंगे रियो ओलंपिक के गुडविल ब्रा...</td>\n",
       "      <td>रियो ओलंपिक के लिए देश का सद्भावना दूत बनेंगे ...</td>\n",
       "      <td>P</td>\n",
       "      <td>1.0</td>\n",
       "      <td>0.0</td>\n",
       "    </tr>\n",
       "    <tr>\n",
       "      <th>805</th>\n",
       "      <td>सतायीस  दिसंबर को जहां सलमान अपना इक्कावन वां ...</td>\n",
       "      <td>मीडिया में आई रिपोर्ट्स के मुताबिक, सतायीस  दि...</td>\n",
       "      <td>P</td>\n",
       "      <td>1.0</td>\n",
       "      <td>0.0</td>\n",
       "    </tr>\n",
       "    <tr>\n",
       "      <th>856</th>\n",
       "      <td>सोमैया ने दावा किया है कि ये सब घोटाले इनकी मि...</td>\n",
       "      <td>उन्होंने दावा किया है कि अगस्ता वैस्टलैंड हैली...</td>\n",
       "      <td>P</td>\n",
       "      <td>1.0</td>\n",
       "      <td>0.0</td>\n",
       "    </tr>\n",
       "    <tr>\n",
       "      <th>866</th>\n",
       "      <td>स्थित‌ि को देखकर लगता है कि उसके साथ निर्भयाका...</td>\n",
       "      <td>उसकी हत्या  दिसम्बर 2012 में दिल्ली में फिजियो...</td>\n",
       "      <td>P</td>\n",
       "      <td>1.0</td>\n",
       "      <td>0.0</td>\n",
       "    </tr>\n",
       "    <tr>\n",
       "      <th>878</th>\n",
       "      <td>हालांकि अब पुलिस उस व्यक्ति की तलाश में है जिस...</td>\n",
       "      <td>फिलहाल पुलिस द्वारा अफवाह फैलाने वाले नंबर की ...</td>\n",
       "      <td>P</td>\n",
       "      <td>1.0</td>\n",
       "      <td>0.0</td>\n",
       "    </tr>\n",
       "    <tr>\n",
       "      <th>881</th>\n",
       "      <td>हालिया घटनाक्रम से जाहिर होता है कि मुझे न्याय...</td>\n",
       "      <td>हाल में हुई घटनाएं ये संकेत देती हैं कि मेरे स...</td>\n",
       "      <td>P</td>\n",
       "      <td>1.0</td>\n",
       "      <td>0.0</td>\n",
       "    </tr>\n",
       "    <tr>\n",
       "      <th>892</th>\n",
       "      <td>हेलिकॉप्टर डील: खुद पर उठे सवाल तो राहुल ने कह...</td>\n",
       "      <td>अगस्ता वैस्टलैंड: 'मुझे निशाना बनाया जाता है फ...</td>\n",
       "      <td>P</td>\n",
       "      <td>1.0</td>\n",
       "      <td>0.0</td>\n",
       "    </tr>\n",
       "  </tbody>\n",
       "</table>\n",
       "</div>"
      ],
      "text/plain": [
       "                                             sentence1  \\\n",
       "11        इसमें लिक्विड प्रोपल्शन टि्वन इंजन लगे हैं।    \n",
       "179  इसके साथ ही   इसी हफ्ते  के अन्त  में सीबीआइ ए...   \n",
       "183  इसरो (भारतीय अंतरिक्ष अनुसंधान संगठन) पहली बार...   \n",
       "202                   इसे दोबारा से यूज किया जा सकेगा।   \n",
       "228  उत्तराखंड में जंगलों में लगी आग के विकराल रूप ...   \n",
       "257  उन्होंने कहा कि  हालिया घटनाक्रम यह दर्शाते है...   \n",
       "433  तीन सौ प्च्चास  किमी तक मार करने वाली पृथ्वी-द...   \n",
       "512        पुलिस ने अनुसार, यह घटना दिन-दहाड़े हुई है    \n",
       "627         मामले में अब तक कोई गिरफ्तारी नहीं हुई है।   \n",
       "741  रियो ओलंपिक के लिए देश का सद्भावना दूत बनेंगे ...   \n",
       "792  सचिन तेंदुलकर होंगे रियो ओलंपिक के गुडविल ब्रा...   \n",
       "805  सतायीस  दिसंबर को जहां सलमान अपना इक्कावन वां ...   \n",
       "856  सोमैया ने दावा किया है कि ये सब घोटाले इनकी मि...   \n",
       "866  स्थित‌ि को देखकर लगता है कि उसके साथ निर्भयाका...   \n",
       "878  हालांकि अब पुलिस उस व्यक्ति की तलाश में है जिस...   \n",
       "881  हालिया घटनाक्रम से जाहिर होता है कि मुझे न्याय...   \n",
       "892  हेलिकॉप्टर डील: खुद पर उठे सवाल तो राहुल ने कह...   \n",
       "\n",
       "                                             sentence2 class  pred  actual  \n",
       "11   एडवांस टेक्नोलॉजी वाली पृथ्वी-दो मिसाइल में दो...     P   1.0     0.0  \n",
       "179  इस सप्ताह के अंत में वह त्यागी के रिश्तेदारों ...     P   1.0     0.0  \n",
       "183  आंध्र प्रदेश के श्रीहरिकोटा से आज सुबह पहला स्...     P   1.0     0.0  \n",
       "202                     ये एक रियूजेबल लॉन्च व्हीकल है     P   1.0     0.0  \n",
       "228  उत्तराखंड में एनडीआरएफ, एसडीआरएफ और थलसेना के ...     P   1.0     0.0  \n",
       "257  'हाल में हुई घटनाएं ये संकेत देती हैं कि मेरे ...     P   1.0     0.0  \n",
       "433  भारत ने आज परमाणु क्षमता संपन्न और स्वदेश में ...     P   1.0     0.0  \n",
       "512  पुलिस को संदेह है कि उस पर दोपहर एक से पांच बज...     P   1.0     0.0  \n",
       "627  मामले में अब तक पुलीस ने किसी को भी अरेस्ट मही...     P   1.0     0.0  \n",
       "741  सचिन तेंदुलकर होंगे रियो ओलंपिक के गुडविल ब्रा...     P   1.0     0.0  \n",
       "792  रियो ओलंपिक के लिए देश का सद्भावना दूत बनेंगे ...     P   1.0     0.0  \n",
       "805  मीडिया में आई रिपोर्ट्स के मुताबिक, सतायीस  दि...     P   1.0     0.0  \n",
       "856  उन्होंने दावा किया है कि अगस्ता वैस्टलैंड हैली...     P   1.0     0.0  \n",
       "866  उसकी हत्या  दिसम्बर 2012 में दिल्ली में फिजियो...     P   1.0     0.0  \n",
       "878  फिलहाल पुलिस द्वारा अफवाह फैलाने वाले नंबर की ...     P   1.0     0.0  \n",
       "881  हाल में हुई घटनाएं ये संकेत देती हैं कि मेरे स...     P   1.0     0.0  \n",
       "892  अगस्ता वैस्टलैंड: 'मुझे निशाना बनाया जाता है फ...     P   1.0     0.0  "
      ]
     },
     "execution_count": 33,
     "metadata": {},
     "output_type": "execute_result"
    }
   ],
   "source": [
    "misclassified_hi_paraphrase"
   ]
  },
  {
   "cell_type": "code",
   "execution_count": 34,
   "metadata": {},
   "outputs": [],
   "source": [
    "misclassified_hi_paraphrase.to_csv('../misclassified_hi_paraphrase.csv', sep='\\t', encoding='utf-8')"
   ]
  },
  {
   "cell_type": "markdown",
   "metadata": {},
   "source": [
    "1. There is a lot of entity based context replacement: 'Liquid propulsion' is replaced by 'Advanced technology'\n",
    "2. 'Brothers' is replaced by the actual names of the brothers in sentence 2\n",
    "\n",
    "\n",
    "Some common themes why the model is misclassifying are:\n",
    "1. Contextual replacement of entities \n",
    "2. Introduction of entities\n",
    "3. Mislabeled "
   ]
  },
  {
   "cell_type": "code",
   "execution_count": null,
   "metadata": {},
   "outputs": [],
   "source": [
    "np.savetxt('../original_sentence-hi.txt', combined['Original_Sentence'], fmt='%s')\n",
    "np.savetxt('../mBART_translated-hi.txt', combined['mBART_Translated'], fmt='%s')\n",
    "np.savetxt('../indictrans_translated-hi.txt', combined['IndicTrans_Translated'], fmt='%s')\n",
    "np.savetxt('../selected_translation-hi.txt', combined['selected_translation'], fmt='%s')"
   ]
  },
  {
   "cell_type": "code",
   "execution_count": null,
   "metadata": {},
   "outputs": [],
   "source": [
    "!cp ../original_sentence-hi.txt ../../bleu_test/testing/indicTrans/\n",
    "!cp ../mBART_translated-hi.txt  ../../bleu_test/testing/indicTrans/\n",
    "!cp ../indictrans_translated-hi.txt  ../../bleu_test/testing/indicTrans/\n",
    "!cp ../selected_translation-hi.txt  ../../bleu_test/testing/indicTrans/"
   ]
  }
 ],
 "metadata": {
  "kernelspec": {
   "display_name": "Python 3",
   "language": "python",
   "name": "python3"
  },
  "language_info": {
   "codemirror_mode": {
    "name": "ipython",
    "version": 3
   },
   "file_extension": ".py",
   "mimetype": "text/x-python",
   "name": "python",
   "nbconvert_exporter": "python",
   "pygments_lexer": "ipython3",
   "version": "3.7.3"
  }
 },
 "nbformat": 4,
 "nbformat_minor": 4
}
