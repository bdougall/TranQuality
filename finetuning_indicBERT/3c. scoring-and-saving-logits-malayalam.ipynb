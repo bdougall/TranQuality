{
 "cells": [
  {
   "cell_type": "markdown",
   "metadata": {},
   "source": [
    "This note book has 5 main steps:\n",
    "\n",
    "\n",
    "1. Load the checkpoint\n",
    "2. Score the file created by mBART by translating `english` to `tamil`\n",
    "3. Score the file created by IndicTrans by translating `english` to `tamil`\n",
    "4. Combine the logits from step 2, step 3, with the original sentence and the translated senences. This is also saved for further analysis\n",
    "5. Apply `softmax` on the logits from step 2 and 3, resulting in `selecting` the better translations"
   ]
  },
  {
   "cell_type": "code",
   "execution_count": 1,
   "metadata": {},
   "outputs": [
    {
     "name": "stdout",
     "output_type": "stream",
     "text": [
      "/w266/w266/project/finetuning/indic-bert\n"
     ]
    }
   ],
   "source": [
    "%cd indic-bert"
   ]
  },
  {
   "cell_type": "code",
   "execution_count": 2,
   "metadata": {},
   "outputs": [],
   "source": [
    "import glob\n",
    "import os"
   ]
  },
  {
   "cell_type": "code",
   "execution_count": 3,
   "metadata": {},
   "outputs": [],
   "source": [
    "from fine_tune.modules import get_modules\n",
    "from fine_tune.data import load_dataset\n",
    "from fine_tune.data.examples import *\n",
    "from fine_tune.modules import base"
   ]
  },
  {
   "cell_type": "code",
   "execution_count": 4,
   "metadata": {},
   "outputs": [],
   "source": [
    "import pandas as pd\n",
    "import numpy as np\n",
    "np.set_printoptions(precision=5)"
   ]
  },
  {
   "cell_type": "code",
   "execution_count": 5,
   "metadata": {},
   "outputs": [],
   "source": [
    "from transformers import (\n",
    "    AdamW,\n",
    "    AutoConfig,\n",
    "    AutoModel,\n",
    "    AutoModelForSequenceClassification,\n",
    "    AutoTokenizer,\n",
    "    get_linear_schedule_with_warmup,\n",
    ")"
   ]
  },
  {
   "cell_type": "code",
   "execution_count": 6,
   "metadata": {},
   "outputs": [],
   "source": [
    "# Calculate softmax\n",
    "def _softmax(x1, x2, tog=0):\n",
    "    a = np.exp([x1,x2])/np.sum(np.exp([x1,x2]))\n",
    "    if tog == 1:\n",
    "        return a[0]\n",
    "    else:\n",
    "        return a[1]\n",
    "\n",
    "def apply_softmax(df, tog):\n",
    "    return df.apply(lambda row: _softmax(row[0], row[1], tog), axis=1)"
   ]
  },
  {
   "cell_type": "code",
   "execution_count": 7,
   "metadata": {},
   "outputs": [],
   "source": [
    "# Hyperparameters for testing\n",
    "hparams = {\n",
    "    'dataset': 'amrita-paraphrase-exact', \n",
    "    'model': 'ai4bharat/indic-bert', \n",
    "    'config_name': '', \n",
    "    'tokenizer_name': '', \n",
    "    'max_seq_length': 256, \n",
    "    'iglue_dir': '../indic-glue', \n",
    "    'overwrite_cache': True, \n",
    "    'cache_dir': '../ib-cache', \n",
    "    'fp16': False, \n",
    "    'fp16_opt_level': 'O1', \n",
    "    'n_gpu': 1, \n",
    "    'n_tpu_cores': 0, \n",
    "    'max_grad_norm': 1.0, \n",
    "    'do_train': True, \n",
    "    'do_predict': True, \n",
    "    'gradient_accumulation_steps': 1,\n",
    "    'seed': 8, \n",
    "    'learning_rate': 2e-05, \n",
    "    'weight_decay': 0.0, \n",
    "    'adam_epsilon': 1e-08, \n",
    "    'warmup_steps': 0, \n",
    "    'num_train_epochs': 1, \n",
    "    'train_batch_size': 16, \n",
    "    'eval_batch_size': 32, \n",
    "    'labels': '', \n",
    "    'model_name_or_path': 'ai4bharat/indic-bert', \n",
    "    'data_dir': '../indic-glue/amrita-paraphrase-exact', \n",
    "    'mode': 'sequence-classification', \n",
    "    'output_mode': 'regression', #'classification', \n",
    "    'example_type': 'text', \n",
    "    'num_labels': 2\n",
    "}"
   ]
  },
  {
   "cell_type": "code",
   "execution_count": 8,
   "metadata": {},
   "outputs": [],
   "source": [
    "# Set up parameters for malayalam\n",
    "hparams['out_dir'] = '../outputs/5/'\n",
    "hparams['lang'] = 'ma' \n",
    "hparams['train_lang'] = 'ma'\n",
    "hparams['dev_lang'] = 'ma'\n",
    "hparams['test_lang'] = 'ma'\n",
    "hparams['output_dir'] = '{}amrita-paraphrase-exact/train-{}/model-ai4bharat-indic-bert'.format(hparams['out_dir'],hparams['lang'] ) "
   ]
  },
  {
   "cell_type": "code",
   "execution_count": 9,
   "metadata": {},
   "outputs": [],
   "source": [
    "config_name = hparams['config_name'] or hparams['model_name_or_path']\n",
    "args = {'num_labels': hparams['num_labels']}\n",
    "config = AutoConfig.from_pretrained(\n",
    "    config_name,\n",
    "    **args,\n",
    "    cache_dir=hparams['cache_dir']\n",
    ")"
   ]
  },
  {
   "cell_type": "markdown",
   "metadata": {},
   "source": [
    "## Score mBART Tamil"
   ]
  },
  {
   "cell_type": "code",
   "execution_count": 10,
   "metadata": {},
   "outputs": [],
   "source": [
    "! rm ../indic-glue/amrita-paraphrase-exact/cached*"
   ]
  },
  {
   "cell_type": "code",
   "execution_count": 11,
   "metadata": {},
   "outputs": [],
   "source": [
    "!cp ../indic-glue/amrita-paraphrase-exact/ma/ma-bart-test.csv ../indic-glue/amrita-paraphrase-exact/ma/ma-test.csv "
   ]
  },
  {
   "cell_type": "code",
   "execution_count": 12,
   "metadata": {},
   "outputs": [
    {
     "data": {
      "text/plain": [
       "(1000, 3)"
      ]
     },
     "execution_count": 12,
     "metadata": {},
     "output_type": "execute_result"
    }
   ],
   "source": [
    "## Check if you have the right file\n",
    "mbart_test = pd.read_csv('../indic-glue/amrita-paraphrase-exact/ma/ma-test.csv', header=None)\n",
    "mbart_test.shape"
   ]
  },
  {
   "cell_type": "code",
   "execution_count": 13,
   "metadata": {},
   "outputs": [
    {
     "data": {
      "text/plain": [
       "fine_tune.modules.text_classification.TextClassification"
      ]
     },
     "execution_count": 13,
     "metadata": {},
     "output_type": "execute_result"
    }
   ],
   "source": [
    "# module_name = 'text_classification'\n",
    "\n",
    "text_classification_trainer = get_modules('text_classification')\n",
    "text_classification_trainer"
   ]
  },
  {
   "cell_type": "code",
   "execution_count": 14,
   "metadata": {
    "scrolled": false
   },
   "outputs": [
    {
     "name": "stderr",
     "output_type": "stream",
     "text": [
      "Some weights of the model checkpoint at ai4bharat/indic-bert were not used when initializing AlbertForSequenceClassification: ['predictions.bias', 'predictions.LayerNorm.weight', 'predictions.LayerNorm.bias', 'predictions.dense.weight', 'predictions.dense.bias', 'predictions.decoder.weight', 'predictions.decoder.bias', 'sop_classifier.classifier.weight', 'sop_classifier.classifier.bias']\n",
      "- This IS expected if you are initializing AlbertForSequenceClassification from the checkpoint of a model trained on another task or with another architecture (e.g. initializing a BertForSequenceClassification model from a BertForPreTraining model).\n",
      "- This IS NOT expected if you are initializing AlbertForSequenceClassification from the checkpoint of a model that you expect to be exactly identical (initializing a BertForSequenceClassification model from a BertForSequenceClassification model).\n",
      "Some weights of AlbertForSequenceClassification were not initialized from the model checkpoint at ai4bharat/indic-bert and are newly initialized: ['classifier.weight', 'classifier.bias']\n",
      "You should probably TRAIN this model on a down-stream task to be able to use it for predictions and inference.\n",
      "Some weights of the model checkpoint at ai4bharat/indic-bert were not used when initializing AlbertForSequenceClassification: ['predictions.bias', 'predictions.LayerNorm.weight', 'predictions.LayerNorm.bias', 'predictions.dense.weight', 'predictions.dense.bias', 'predictions.decoder.weight', 'predictions.decoder.bias', 'sop_classifier.classifier.weight', 'sop_classifier.classifier.bias']\n",
      "- This IS expected if you are initializing AlbertForSequenceClassification from the checkpoint of a model trained on another task or with another architecture (e.g. initializing a BertForSequenceClassification model from a BertForPreTraining model).\n",
      "- This IS NOT expected if you are initializing AlbertForSequenceClassification from the checkpoint of a model that you expect to be exactly identical (initializing a BertForSequenceClassification model from a BertForSequenceClassification model).\n",
      "Some weights of AlbertForSequenceClassification were not initialized from the model checkpoint at ai4bharat/indic-bert and are newly initialized: ['classifier.weight', 'classifier.bias']\n",
      "You should probably TRAIN this model on a down-stream task to be able to use it for predictions and inference.\n"
     ]
    }
   ],
   "source": [
    "tc_trainer_instance = text_classification_trainer(hparams)\n",
    "checkpoints = list(sorted(glob.glob(os.path.join(hparams['output_dir'], 'checkpointepoch=*.ckpt'), recursive=True)))\n",
    "trained_model = tc_trainer_instance.load_from_checkpoint(checkpoints[-1])"
   ]
  },
  {
   "cell_type": "code",
   "execution_count": 15,
   "metadata": {
    "scrolled": true
   },
   "outputs": [
    {
     "name": "stderr",
     "output_type": "stream",
     "text": [
      "/usr/local/lib/python3.6/dist-packages/pytorch_lightning/utilities/distributed.py:25: UserWarning: Checkpoint directory ../outputs/5/amrita-paraphrase-exact/train-ma/model-ai4bharat-indic-bert exists and is not empty with save_top_k != 0.All files in this directory will be deleted when a checkpoint is saved!\n",
      "  warnings.warn(*args, **kwargs)\n",
      "GPU available: True, used: True\n",
      "TPU available: False, using: 0 TPU cores\n",
      "CUDA_VISIBLE_DEVICES: [0]\n"
     ]
    }
   ],
   "source": [
    "trainer = base.create_trainer(trained_model, hparams) #BaseModule(hparams)"
   ]
  },
  {
   "cell_type": "code",
   "execution_count": 16,
   "metadata": {},
   "outputs": [
    {
     "name": "stderr",
     "output_type": "stream",
     "text": [
      "/usr/local/lib/python3.6/dist-packages/pytorch_lightning/utilities/distributed.py:25: UserWarning: The dataloader, test dataloader 0, does not have many workers which may be a bottleneck. Consider increasing the value of the `num_workers` argument` (try 12 which is the number of cpus on this machine) in the `DataLoader` init to improve performance.\n",
      "  warnings.warn(*args, **kwargs)\n"
     ]
    },
    {
     "data": {
      "application/vnd.jupyter.widget-view+json": {
       "model_id": "7fe2b8cfcd764c3899472ae59401826e",
       "version_major": 2,
       "version_minor": 0
      },
      "text/plain": [
       "HBox(children=(FloatProgress(value=1.0, bar_style='info', description='Testing', layout=Layout(flex='2'), max=…"
      ]
     },
     "metadata": {},
     "output_type": "display_data"
    },
    {
     "name": "stdout",
     "output_type": "stream",
     "text": [
      "Logits written to :../outputs/5/amrita-paraphrase-exact/train-ma/model-ai4bharat-indic-bert/test_results_ma.csv\n",
      "--------------------------------------------------------------------------------\n",
      "TEST RESULTS\n",
      "{'acc': 0.411,\n",
      " 'avg_test_loss': 1.637779712677002,\n",
      " 'val_loss': 1.637779712677002}\n",
      "--------------------------------------------------------------------------------\n",
      "{'avg_test_loss': 1.637779712677002, 'val_loss': 1.637779712677002, 'acc': 0.411}\n",
      "\n"
     ]
    }
   ],
   "source": [
    "trainer.test(trained_model)"
   ]
  },
  {
   "cell_type": "markdown",
   "metadata": {},
   "source": [
    "## Load the scores for mBART translations."
   ]
  },
  {
   "cell_type": "code",
   "execution_count": 17,
   "metadata": {},
   "outputs": [
    {
     "data": {
      "text/plain": [
       "'../outputs/5/amrita-paraphrase-exact/train-ma/model-ai4bharat-indic-bert/test_results_ma.csv'"
      ]
     },
     "execution_count": 17,
     "metadata": {},
     "output_type": "execute_result"
    }
   ],
   "source": [
    "hparams['results_file'] = '{}{}/train-{}/model-ai4bharat-indic-bert/test_results_{}.csv'.format(hparams['out_dir'],  hparams['dataset'] , hparams['lang'] , hparams['lang']) \n",
    "hparams['results_file']"
   ]
  },
  {
   "cell_type": "code",
   "execution_count": 18,
   "metadata": {},
   "outputs": [],
   "source": [
    "mbart = pd.read_csv(hparams['results_file'], header=None)"
   ]
  },
  {
   "cell_type": "code",
   "execution_count": 19,
   "metadata": {},
   "outputs": [
    {
     "data": {
      "text/plain": [
       "(1000, 4)"
      ]
     },
     "execution_count": 19,
     "metadata": {},
     "output_type": "execute_result"
    }
   ],
   "source": [
    "mbart.shape"
   ]
  },
  {
   "cell_type": "code",
   "execution_count": 20,
   "metadata": {},
   "outputs": [
    {
     "data": {
      "text/html": [
       "<div>\n",
       "<style scoped>\n",
       "    .dataframe tbody tr th:only-of-type {\n",
       "        vertical-align: middle;\n",
       "    }\n",
       "\n",
       "    .dataframe tbody tr th {\n",
       "        vertical-align: top;\n",
       "    }\n",
       "\n",
       "    .dataframe thead th {\n",
       "        text-align: right;\n",
       "    }\n",
       "</style>\n",
       "<table border=\"1\" class=\"dataframe\">\n",
       "  <thead>\n",
       "    <tr style=\"text-align: right;\">\n",
       "      <th></th>\n",
       "      <th>0</th>\n",
       "      <th>1</th>\n",
       "      <th>2</th>\n",
       "      <th>3</th>\n",
       "    </tr>\n",
       "  </thead>\n",
       "  <tbody>\n",
       "    <tr>\n",
       "      <th>0</th>\n",
       "      <td>-0.535944</td>\n",
       "      <td>0.373010</td>\n",
       "      <td>1.0</td>\n",
       "      <td>1.0</td>\n",
       "    </tr>\n",
       "    <tr>\n",
       "      <th>1</th>\n",
       "      <td>1.164668</td>\n",
       "      <td>-1.398593</td>\n",
       "      <td>0.0</td>\n",
       "      <td>1.0</td>\n",
       "    </tr>\n",
       "    <tr>\n",
       "      <th>2</th>\n",
       "      <td>1.247734</td>\n",
       "      <td>-1.467341</td>\n",
       "      <td>0.0</td>\n",
       "      <td>1.0</td>\n",
       "    </tr>\n",
       "    <tr>\n",
       "      <th>3</th>\n",
       "      <td>-0.645948</td>\n",
       "      <td>0.544526</td>\n",
       "      <td>1.0</td>\n",
       "      <td>1.0</td>\n",
       "    </tr>\n",
       "    <tr>\n",
       "      <th>4</th>\n",
       "      <td>-0.914935</td>\n",
       "      <td>0.929445</td>\n",
       "      <td>1.0</td>\n",
       "      <td>1.0</td>\n",
       "    </tr>\n",
       "  </tbody>\n",
       "</table>\n",
       "</div>"
      ],
      "text/plain": [
       "          0         1    2    3\n",
       "0 -0.535944  0.373010  1.0  1.0\n",
       "1  1.164668 -1.398593  0.0  1.0\n",
       "2  1.247734 -1.467341  0.0  1.0\n",
       "3 -0.645948  0.544526  1.0  1.0\n",
       "4 -0.914935  0.929445  1.0  1.0"
      ]
     },
     "execution_count": 20,
     "metadata": {},
     "output_type": "execute_result"
    }
   ],
   "source": [
    "mbart.head(5)"
   ]
  },
  {
   "cell_type": "markdown",
   "metadata": {},
   "source": [
    "## Score IndicTrans Tamil"
   ]
  },
  {
   "cell_type": "code",
   "execution_count": 21,
   "metadata": {},
   "outputs": [],
   "source": [
    "! rm ../indic-glue/amrita-paraphrase-exact/cached*"
   ]
  },
  {
   "cell_type": "code",
   "execution_count": 22,
   "metadata": {},
   "outputs": [],
   "source": [
    "!cp ../indic-glue/amrita-paraphrase-exact/ma/ma-indictrans-test.csv ../indic-glue/amrita-paraphrase-exact/ma/ma-test.csv \n"
   ]
  },
  {
   "cell_type": "code",
   "execution_count": 23,
   "metadata": {},
   "outputs": [
    {
     "data": {
      "text/plain": [
       "(1000, 3)"
      ]
     },
     "execution_count": 23,
     "metadata": {},
     "output_type": "execute_result"
    }
   ],
   "source": [
    "## Check if you have the right file\n",
    "mbart_test = pd.read_csv('../indic-glue/amrita-paraphrase-exact/ma/ma-test.csv', header=None)\n",
    "mbart_test.shape"
   ]
  },
  {
   "cell_type": "code",
   "execution_count": 24,
   "metadata": {},
   "outputs": [
    {
     "data": {
      "text/plain": [
       "fine_tune.modules.text_classification.TextClassification"
      ]
     },
     "execution_count": 24,
     "metadata": {},
     "output_type": "execute_result"
    }
   ],
   "source": [
    "# module_name = 'text_classification'\n",
    "\n",
    "text_classification_trainer = get_modules('text_classification')\n",
    "text_classification_trainer"
   ]
  },
  {
   "cell_type": "code",
   "execution_count": 25,
   "metadata": {
    "scrolled": true
   },
   "outputs": [
    {
     "name": "stderr",
     "output_type": "stream",
     "text": [
      "Some weights of the model checkpoint at ai4bharat/indic-bert were not used when initializing AlbertForSequenceClassification: ['predictions.bias', 'predictions.LayerNorm.weight', 'predictions.LayerNorm.bias', 'predictions.dense.weight', 'predictions.dense.bias', 'predictions.decoder.weight', 'predictions.decoder.bias', 'sop_classifier.classifier.weight', 'sop_classifier.classifier.bias']\n",
      "- This IS expected if you are initializing AlbertForSequenceClassification from the checkpoint of a model trained on another task or with another architecture (e.g. initializing a BertForSequenceClassification model from a BertForPreTraining model).\n",
      "- This IS NOT expected if you are initializing AlbertForSequenceClassification from the checkpoint of a model that you expect to be exactly identical (initializing a BertForSequenceClassification model from a BertForSequenceClassification model).\n",
      "Some weights of AlbertForSequenceClassification were not initialized from the model checkpoint at ai4bharat/indic-bert and are newly initialized: ['classifier.weight', 'classifier.bias']\n",
      "You should probably TRAIN this model on a down-stream task to be able to use it for predictions and inference.\n",
      "Some weights of the model checkpoint at ai4bharat/indic-bert were not used when initializing AlbertForSequenceClassification: ['predictions.bias', 'predictions.LayerNorm.weight', 'predictions.LayerNorm.bias', 'predictions.dense.weight', 'predictions.dense.bias', 'predictions.decoder.weight', 'predictions.decoder.bias', 'sop_classifier.classifier.weight', 'sop_classifier.classifier.bias']\n",
      "- This IS expected if you are initializing AlbertForSequenceClassification from the checkpoint of a model trained on another task or with another architecture (e.g. initializing a BertForSequenceClassification model from a BertForPreTraining model).\n",
      "- This IS NOT expected if you are initializing AlbertForSequenceClassification from the checkpoint of a model that you expect to be exactly identical (initializing a BertForSequenceClassification model from a BertForSequenceClassification model).\n",
      "Some weights of AlbertForSequenceClassification were not initialized from the model checkpoint at ai4bharat/indic-bert and are newly initialized: ['classifier.weight', 'classifier.bias']\n",
      "You should probably TRAIN this model on a down-stream task to be able to use it for predictions and inference.\n"
     ]
    }
   ],
   "source": [
    "tc_trainer_instance = text_classification_trainer(hparams)\n",
    "checkpoints = list(sorted(glob.glob(os.path.join(hparams['output_dir'], 'checkpointepoch=*.ckpt'), recursive=True)))\n",
    "trained_model = tc_trainer_instance.load_from_checkpoint(checkpoints[-1])"
   ]
  },
  {
   "cell_type": "code",
   "execution_count": 26,
   "metadata": {
    "scrolled": true
   },
   "outputs": [
    {
     "name": "stderr",
     "output_type": "stream",
     "text": [
      "/usr/local/lib/python3.6/dist-packages/pytorch_lightning/utilities/distributed.py:25: UserWarning: Checkpoint directory ../outputs/5/amrita-paraphrase-exact/train-ma/model-ai4bharat-indic-bert exists and is not empty with save_top_k != 0.All files in this directory will be deleted when a checkpoint is saved!\n",
      "  warnings.warn(*args, **kwargs)\n",
      "GPU available: True, used: True\n",
      "TPU available: False, using: 0 TPU cores\n",
      "CUDA_VISIBLE_DEVICES: [0]\n"
     ]
    }
   ],
   "source": [
    "trainer = base.create_trainer(trained_model, hparams) #BaseModule(hparams)"
   ]
  },
  {
   "cell_type": "code",
   "execution_count": 27,
   "metadata": {
    "scrolled": true
   },
   "outputs": [
    {
     "name": "stderr",
     "output_type": "stream",
     "text": [
      "/usr/local/lib/python3.6/dist-packages/pytorch_lightning/utilities/distributed.py:25: UserWarning: The dataloader, test dataloader 0, does not have many workers which may be a bottleneck. Consider increasing the value of the `num_workers` argument` (try 12 which is the number of cpus on this machine) in the `DataLoader` init to improve performance.\n",
      "  warnings.warn(*args, **kwargs)\n"
     ]
    },
    {
     "data": {
      "application/vnd.jupyter.widget-view+json": {
       "model_id": "287db3caabc345a3afbdbf86c1ab2f75",
       "version_major": 2,
       "version_minor": 0
      },
      "text/plain": [
       "HBox(children=(FloatProgress(value=1.0, bar_style='info', description='Testing', layout=Layout(flex='2'), max=…"
      ]
     },
     "metadata": {},
     "output_type": "display_data"
    },
    {
     "name": "stdout",
     "output_type": "stream",
     "text": [
      "Logits written to :../outputs/5/amrita-paraphrase-exact/train-ma/model-ai4bharat-indic-bert/test_results_ma.csv\n",
      "--------------------------------------------------------------------------------\n",
      "TEST RESULTS\n",
      "{'acc': 0.22,\n",
      " 'avg_test_loss': 1.5316938161849976,\n",
      " 'val_loss': 1.5316938161849976}\n",
      "--------------------------------------------------------------------------------\n",
      "{'avg_test_loss': 1.5316938161849976, 'val_loss': 1.5316938161849976, 'acc': 0.22}\n",
      "\n"
     ]
    }
   ],
   "source": [
    "trainer.test(trained_model)"
   ]
  },
  {
   "cell_type": "markdown",
   "metadata": {},
   "source": [
    "## Load the scores for IndicTrans translations."
   ]
  },
  {
   "cell_type": "code",
   "execution_count": 28,
   "metadata": {},
   "outputs": [
    {
     "data": {
      "text/plain": [
       "'../outputs/5/amrita-paraphrase-exact/train-ma/model-ai4bharat-indic-bert/test_results_ma.csv'"
      ]
     },
     "execution_count": 28,
     "metadata": {},
     "output_type": "execute_result"
    }
   ],
   "source": [
    "hparams['results_file'] = '{}{}/train-{}/model-ai4bharat-indic-bert/test_results_{}.csv'.format(hparams['out_dir'],  hparams['dataset'] , hparams['lang'] , hparams['lang']) \n",
    "hparams['results_file']"
   ]
  },
  {
   "cell_type": "code",
   "execution_count": 29,
   "metadata": {},
   "outputs": [],
   "source": [
    "indictrans = pd.read_csv(hparams['results_file'], header=None)"
   ]
  },
  {
   "cell_type": "code",
   "execution_count": 30,
   "metadata": {},
   "outputs": [
    {
     "data": {
      "text/plain": [
       "(1000, 4)"
      ]
     },
     "execution_count": 30,
     "metadata": {},
     "output_type": "execute_result"
    }
   ],
   "source": [
    "indictrans.shape"
   ]
  },
  {
   "cell_type": "code",
   "execution_count": 31,
   "metadata": {},
   "outputs": [
    {
     "data": {
      "text/html": [
       "<div>\n",
       "<style scoped>\n",
       "    .dataframe tbody tr th:only-of-type {\n",
       "        vertical-align: middle;\n",
       "    }\n",
       "\n",
       "    .dataframe tbody tr th {\n",
       "        vertical-align: top;\n",
       "    }\n",
       "\n",
       "    .dataframe thead th {\n",
       "        text-align: right;\n",
       "    }\n",
       "</style>\n",
       "<table border=\"1\" class=\"dataframe\">\n",
       "  <thead>\n",
       "    <tr style=\"text-align: right;\">\n",
       "      <th></th>\n",
       "      <th>0</th>\n",
       "      <th>1</th>\n",
       "      <th>2</th>\n",
       "      <th>3</th>\n",
       "    </tr>\n",
       "  </thead>\n",
       "  <tbody>\n",
       "    <tr>\n",
       "      <th>0</th>\n",
       "      <td>-1.021923</td>\n",
       "      <td>0.976919</td>\n",
       "      <td>1.0</td>\n",
       "      <td>0.0</td>\n",
       "    </tr>\n",
       "    <tr>\n",
       "      <th>1</th>\n",
       "      <td>0.506923</td>\n",
       "      <td>-0.750715</td>\n",
       "      <td>0.0</td>\n",
       "      <td>0.0</td>\n",
       "    </tr>\n",
       "    <tr>\n",
       "      <th>2</th>\n",
       "      <td>-0.971697</td>\n",
       "      <td>0.945597</td>\n",
       "      <td>1.0</td>\n",
       "      <td>0.0</td>\n",
       "    </tr>\n",
       "    <tr>\n",
       "      <th>3</th>\n",
       "      <td>-1.004650</td>\n",
       "      <td>0.952055</td>\n",
       "      <td>1.0</td>\n",
       "      <td>0.0</td>\n",
       "    </tr>\n",
       "    <tr>\n",
       "      <th>4</th>\n",
       "      <td>-0.951616</td>\n",
       "      <td>0.937276</td>\n",
       "      <td>1.0</td>\n",
       "      <td>0.0</td>\n",
       "    </tr>\n",
       "  </tbody>\n",
       "</table>\n",
       "</div>"
      ],
      "text/plain": [
       "          0         1    2    3\n",
       "0 -1.021923  0.976919  1.0  0.0\n",
       "1  0.506923 -0.750715  0.0  0.0\n",
       "2 -0.971697  0.945597  1.0  0.0\n",
       "3 -1.004650  0.952055  1.0  0.0\n",
       "4 -0.951616  0.937276  1.0  0.0"
      ]
     },
     "execution_count": 31,
     "metadata": {},
     "output_type": "execute_result"
    }
   ],
   "source": [
    "indictrans.head(5)"
   ]
  },
  {
   "cell_type": "markdown",
   "metadata": {},
   "source": [
    "## Combine logits, original sentence, and translations"
   ]
  },
  {
   "cell_type": "code",
   "execution_count": 32,
   "metadata": {},
   "outputs": [],
   "source": [
    "indic_orig = pd.read_csv('../indic-glue/amrita-paraphrase-exact/ma/ma-indictrans-test.csv', header=None)"
   ]
  },
  {
   "cell_type": "code",
   "execution_count": 33,
   "metadata": {},
   "outputs": [
    {
     "data": {
      "text/html": [
       "<div>\n",
       "<style scoped>\n",
       "    .dataframe tbody tr th:only-of-type {\n",
       "        vertical-align: middle;\n",
       "    }\n",
       "\n",
       "    .dataframe tbody tr th {\n",
       "        vertical-align: top;\n",
       "    }\n",
       "\n",
       "    .dataframe thead th {\n",
       "        text-align: right;\n",
       "    }\n",
       "</style>\n",
       "<table border=\"1\" class=\"dataframe\">\n",
       "  <thead>\n",
       "    <tr style=\"text-align: right;\">\n",
       "      <th></th>\n",
       "      <th>0</th>\n",
       "      <th>1</th>\n",
       "      <th>2</th>\n",
       "    </tr>\n",
       "  </thead>\n",
       "  <tbody>\n",
       "    <tr>\n",
       "      <th>0</th>\n",
       "      <td>കോടിക്കണക്കിന് ജനങ്ങളുടെ മനസില്‍ അഭിലാഷങ്ങള്‍ ...</td>\n",
       "      <td>കോടിക്കണക്കിന് ജനങ്ങളുടെ മനസ്സിലും ഹൃദയത്തിലും...</td>\n",
       "      <td>NP</td>\n",
       "    </tr>\n",
       "    <tr>\n",
       "      <th>1</th>\n",
       "      <td>രാജ്യത്തിന്റെ വികസയാത്രയില്‍ പിന്നോക്കം വിട്ടു...</td>\n",
       "      <td>\"ബിജാപ്പൂരിൽ ഇന്ന് ഈ പരിപാടി സംഘടിപ്പിക്കുന്നത...</td>\n",
       "      <td>NP</td>\n",
       "    </tr>\n",
       "    <tr>\n",
       "      <th>2</th>\n",
       "      <td>2022 ഓടെ ഈ ലക്ഷ്യം പൂര്‍ത്തീകരിക്കുകയാണ് ലക്ഷ്...</td>\n",
       "      <td>2022 ഓടെ ഈ ദൌത്യം പൂർത്തിയാക്കുകയാണ് ലക്ഷ്യമെന...</td>\n",
       "      <td>NP</td>\n",
       "    </tr>\n",
       "    <tr>\n",
       "      <th>3</th>\n",
       "      <td>സമയബന്ധിതമായും കൃത്യമായ ലക്ഷ്യങ്ങളോടുംകൂടി ഗവണ...</td>\n",
       "      <td>വ്യക്തമായ ലക്ഷ്യത്തോടെയും സമയക്രമത്തോടെയുമാണ് ...</td>\n",
       "      <td>NP</td>\n",
       "    </tr>\n",
       "    <tr>\n",
       "      <th>4</th>\n",
       "      <td>ജന്‍ ധന്‍ അക്കൗണ്ടുകള്‍ തുറക്കുന്നതിലും ദരിദ്ര...</td>\n",
       "      <td>\"ജൻധൻ അക്കൌണ്ടുകൾ തുറക്കൽ, പാവപ്പെട്ടവരുടെ ഇൻഷ...</td>\n",
       "      <td>NP</td>\n",
       "    </tr>\n",
       "  </tbody>\n",
       "</table>\n",
       "</div>"
      ],
      "text/plain": [
       "                                                   0  \\\n",
       "0  കോടിക്കണക്കിന് ജനങ്ങളുടെ മനസില്‍ അഭിലാഷങ്ങള്‍ ...   \n",
       "1  രാജ്യത്തിന്റെ വികസയാത്രയില്‍ പിന്നോക്കം വിട്ടു...   \n",
       "2  2022 ഓടെ ഈ ലക്ഷ്യം പൂര്‍ത്തീകരിക്കുകയാണ് ലക്ഷ്...   \n",
       "3  സമയബന്ധിതമായും കൃത്യമായ ലക്ഷ്യങ്ങളോടുംകൂടി ഗവണ...   \n",
       "4  ജന്‍ ധന്‍ അക്കൗണ്ടുകള്‍ തുറക്കുന്നതിലും ദരിദ്ര...   \n",
       "\n",
       "                                                   1   2  \n",
       "0  കോടിക്കണക്കിന് ജനങ്ങളുടെ മനസ്സിലും ഹൃദയത്തിലും...  NP  \n",
       "1  \"ബിജാപ്പൂരിൽ ഇന്ന് ഈ പരിപാടി സംഘടിപ്പിക്കുന്നത...  NP  \n",
       "2  2022 ഓടെ ഈ ദൌത്യം പൂർത്തിയാക്കുകയാണ് ലക്ഷ്യമെന...  NP  \n",
       "3  വ്യക്തമായ ലക്ഷ്യത്തോടെയും സമയക്രമത്തോടെയുമാണ് ...  NP  \n",
       "4  \"ജൻധൻ അക്കൌണ്ടുകൾ തുറക്കൽ, പാവപ്പെട്ടവരുടെ ഇൻഷ...  NP  "
      ]
     },
     "execution_count": 33,
     "metadata": {},
     "output_type": "execute_result"
    }
   ],
   "source": [
    "indic_orig.head()"
   ]
  },
  {
   "cell_type": "code",
   "execution_count": 34,
   "metadata": {},
   "outputs": [],
   "source": [
    "bart_orig = pd.read_csv('../indic-glue/amrita-paraphrase-exact/ma/ma-bart-test.csv', header=None)"
   ]
  },
  {
   "cell_type": "code",
   "execution_count": 35,
   "metadata": {},
   "outputs": [
    {
     "data": {
      "text/html": [
       "<div>\n",
       "<style scoped>\n",
       "    .dataframe tbody tr th:only-of-type {\n",
       "        vertical-align: middle;\n",
       "    }\n",
       "\n",
       "    .dataframe tbody tr th {\n",
       "        vertical-align: top;\n",
       "    }\n",
       "\n",
       "    .dataframe thead th {\n",
       "        text-align: right;\n",
       "    }\n",
       "</style>\n",
       "<table border=\"1\" class=\"dataframe\">\n",
       "  <thead>\n",
       "    <tr style=\"text-align: right;\">\n",
       "      <th></th>\n",
       "      <th>0</th>\n",
       "      <th>1</th>\n",
       "      <th>2</th>\n",
       "    </tr>\n",
       "  </thead>\n",
       "  <tbody>\n",
       "    <tr>\n",
       "      <th>0</th>\n",
       "      <td>കോടിക്കണക്കിന് ജനങ്ങളുടെ മനസില്‍ അഭിലാഷങ്ങള്‍ ...</td>\n",
       "      <td>കോടിക്കണക്കിന് ജനങ്ങളുടെ മനസ്സിലും മനസ്സിലും അ...</td>\n",
       "      <td>P</td>\n",
       "    </tr>\n",
       "    <tr>\n",
       "      <th>1</th>\n",
       "      <td>രാജ്യത്തിന്റെ വികസയാത്രയില്‍ പിന്നോക്കം വിട്ടു...</td>\n",
       "      <td>ഇന്ന് ബിജ്യപ്പூரில் ഈ പരിപാടി നടത്തുന്നതിന് റെ...</td>\n",
       "      <td>P</td>\n",
       "    </tr>\n",
       "    <tr>\n",
       "      <th>2</th>\n",
       "      <td>2022 ഓടെ ഈ ലക്ഷ്യം പൂര്‍ത്തീകരിക്കുകയാണ് ലക്ഷ്...</td>\n",
       "      <td>അദ്ധേഹത്തിന് റെ ലക്ഷ്യം 2022-ല് ഈ ജോലി പൂര് ത്...</td>\n",
       "      <td>P</td>\n",
       "    </tr>\n",
       "    <tr>\n",
       "      <th>3</th>\n",
       "      <td>സമയബന്ധിതമായും കൃത്യമായ ലക്ഷ്യങ്ങളോടുംകൂടി ഗവണ...</td>\n",
       "      <td>കൃത്യമായ ലക്ഷ്യങ്ങളും കൃത്യസമയങ്ങളും ഉള്ള பல்வ...</td>\n",
       "      <td>P</td>\n",
       "    </tr>\n",
       "    <tr>\n",
       "      <th>4</th>\n",
       "      <td>ജന്‍ ധന്‍ അക്കൗണ്ടുകള്‍ തുറക്കുന്നതിലും ദരിദ്ര...</td>\n",
       "      <td>ഈ കാര്യത്തില് അദ്ദേഹം, ജാന് ദന് അക്കൗണ്ട് തുറക...</td>\n",
       "      <td>P</td>\n",
       "    </tr>\n",
       "  </tbody>\n",
       "</table>\n",
       "</div>"
      ],
      "text/plain": [
       "                                                   0  \\\n",
       "0  കോടിക്കണക്കിന് ജനങ്ങളുടെ മനസില്‍ അഭിലാഷങ്ങള്‍ ...   \n",
       "1  രാജ്യത്തിന്റെ വികസയാത്രയില്‍ പിന്നോക്കം വിട്ടു...   \n",
       "2  2022 ഓടെ ഈ ലക്ഷ്യം പൂര്‍ത്തീകരിക്കുകയാണ് ലക്ഷ്...   \n",
       "3  സമയബന്ധിതമായും കൃത്യമായ ലക്ഷ്യങ്ങളോടുംകൂടി ഗവണ...   \n",
       "4  ജന്‍ ധന്‍ അക്കൗണ്ടുകള്‍ തുറക്കുന്നതിലും ദരിദ്ര...   \n",
       "\n",
       "                                                   1  2  \n",
       "0  കോടിക്കണക്കിന് ജനങ്ങളുടെ മനസ്സിലും മനസ്സിലും അ...  P  \n",
       "1  ഇന്ന് ബിജ്യപ്പூரில் ഈ പരിപാടി നടത്തുന്നതിന് റെ...  P  \n",
       "2  അദ്ധേഹത്തിന് റെ ലക്ഷ്യം 2022-ല് ഈ ജോലി പൂര് ത്...  P  \n",
       "3  കൃത്യമായ ലക്ഷ്യങ്ങളും കൃത്യസമയങ്ങളും ഉള്ള பல்வ...  P  \n",
       "4  ഈ കാര്യത്തില് അദ്ദേഹം, ജാന് ദന് അക്കൗണ്ട് തുറക...  P  "
      ]
     },
     "execution_count": 35,
     "metadata": {},
     "output_type": "execute_result"
    }
   ],
   "source": [
    "bart_orig.head()"
   ]
  },
  {
   "cell_type": "code",
   "execution_count": 36,
   "metadata": {},
   "outputs": [],
   "source": [
    "combined = bart_orig[[0, 1]]"
   ]
  },
  {
   "cell_type": "code",
   "execution_count": 37,
   "metadata": {},
   "outputs": [],
   "source": [
    "combined.columns =['Original_Sentence', 'mBART_Translated', ]"
   ]
  },
  {
   "cell_type": "code",
   "execution_count": 38,
   "metadata": {},
   "outputs": [],
   "source": [
    "combined['IndicTrans_Translated'] = indic_orig[[1]]"
   ]
  },
  {
   "cell_type": "code",
   "execution_count": 39,
   "metadata": {},
   "outputs": [
    {
     "data": {
      "text/html": [
       "<div>\n",
       "<style scoped>\n",
       "    .dataframe tbody tr th:only-of-type {\n",
       "        vertical-align: middle;\n",
       "    }\n",
       "\n",
       "    .dataframe tbody tr th {\n",
       "        vertical-align: top;\n",
       "    }\n",
       "\n",
       "    .dataframe thead th {\n",
       "        text-align: right;\n",
       "    }\n",
       "</style>\n",
       "<table border=\"1\" class=\"dataframe\">\n",
       "  <thead>\n",
       "    <tr style=\"text-align: right;\">\n",
       "      <th></th>\n",
       "      <th>Original_Sentence</th>\n",
       "      <th>mBART_Translated</th>\n",
       "      <th>IndicTrans_Translated</th>\n",
       "    </tr>\n",
       "  </thead>\n",
       "  <tbody>\n",
       "    <tr>\n",
       "      <th>0</th>\n",
       "      <td>കോടിക്കണക്കിന് ജനങ്ങളുടെ മനസില്‍ അഭിലാഷങ്ങള്‍ ...</td>\n",
       "      <td>കോടിക്കണക്കിന് ജനങ്ങളുടെ മനസ്സിലും മനസ്സിലും അ...</td>\n",
       "      <td>കോടിക്കണക്കിന് ജനങ്ങളുടെ മനസ്സിലും ഹൃദയത്തിലും...</td>\n",
       "    </tr>\n",
       "    <tr>\n",
       "      <th>1</th>\n",
       "      <td>രാജ്യത്തിന്റെ വികസയാത്രയില്‍ പിന്നോക്കം വിട്ടു...</td>\n",
       "      <td>ഇന്ന് ബിജ്യപ്പூரில் ഈ പരിപാടി നടത്തുന്നതിന് റെ...</td>\n",
       "      <td>\"ബിജാപ്പൂരിൽ ഇന്ന് ഈ പരിപാടി സംഘടിപ്പിക്കുന്നത...</td>\n",
       "    </tr>\n",
       "    <tr>\n",
       "      <th>2</th>\n",
       "      <td>2022 ഓടെ ഈ ലക്ഷ്യം പൂര്‍ത്തീകരിക്കുകയാണ് ലക്ഷ്...</td>\n",
       "      <td>അദ്ധേഹത്തിന് റെ ലക്ഷ്യം 2022-ല് ഈ ജോലി പൂര് ത്...</td>\n",
       "      <td>2022 ഓടെ ഈ ദൌത്യം പൂർത്തിയാക്കുകയാണ് ലക്ഷ്യമെന...</td>\n",
       "    </tr>\n",
       "    <tr>\n",
       "      <th>3</th>\n",
       "      <td>സമയബന്ധിതമായും കൃത്യമായ ലക്ഷ്യങ്ങളോടുംകൂടി ഗവണ...</td>\n",
       "      <td>കൃത്യമായ ലക്ഷ്യങ്ങളും കൃത്യസമയങ്ങളും ഉള്ള பல்வ...</td>\n",
       "      <td>വ്യക്തമായ ലക്ഷ്യത്തോടെയും സമയക്രമത്തോടെയുമാണ് ...</td>\n",
       "    </tr>\n",
       "    <tr>\n",
       "      <th>4</th>\n",
       "      <td>ജന്‍ ധന്‍ അക്കൗണ്ടുകള്‍ തുറക്കുന്നതിലും ദരിദ്ര...</td>\n",
       "      <td>ഈ കാര്യത്തില് അദ്ദേഹം, ജാന് ദന് അക്കൗണ്ട് തുറക...</td>\n",
       "      <td>\"ജൻധൻ അക്കൌണ്ടുകൾ തുറക്കൽ, പാവപ്പെട്ടവരുടെ ഇൻഷ...</td>\n",
       "    </tr>\n",
       "  </tbody>\n",
       "</table>\n",
       "</div>"
      ],
      "text/plain": [
       "                                   Original_Sentence  \\\n",
       "0  കോടിക്കണക്കിന് ജനങ്ങളുടെ മനസില്‍ അഭിലാഷങ്ങള്‍ ...   \n",
       "1  രാജ്യത്തിന്റെ വികസയാത്രയില്‍ പിന്നോക്കം വിട്ടു...   \n",
       "2  2022 ഓടെ ഈ ലക്ഷ്യം പൂര്‍ത്തീകരിക്കുകയാണ് ലക്ഷ്...   \n",
       "3  സമയബന്ധിതമായും കൃത്യമായ ലക്ഷ്യങ്ങളോടുംകൂടി ഗവണ...   \n",
       "4  ജന്‍ ധന്‍ അക്കൗണ്ടുകള്‍ തുറക്കുന്നതിലും ദരിദ്ര...   \n",
       "\n",
       "                                    mBART_Translated  \\\n",
       "0  കോടിക്കണക്കിന് ജനങ്ങളുടെ മനസ്സിലും മനസ്സിലും അ...   \n",
       "1  ഇന്ന് ബിജ്യപ്പூரில் ഈ പരിപാടി നടത്തുന്നതിന് റെ...   \n",
       "2  അദ്ധേഹത്തിന് റെ ലക്ഷ്യം 2022-ല് ഈ ജോലി പൂര് ത്...   \n",
       "3  കൃത്യമായ ലക്ഷ്യങ്ങളും കൃത്യസമയങ്ങളും ഉള്ള பல்வ...   \n",
       "4  ഈ കാര്യത്തില് അദ്ദേഹം, ജാന് ദന് അക്കൗണ്ട് തുറക...   \n",
       "\n",
       "                               IndicTrans_Translated  \n",
       "0  കോടിക്കണക്കിന് ജനങ്ങളുടെ മനസ്സിലും ഹൃദയത്തിലും...  \n",
       "1  \"ബിജാപ്പൂരിൽ ഇന്ന് ഈ പരിപാടി സംഘടിപ്പിക്കുന്നത...  \n",
       "2  2022 ഓടെ ഈ ദൌത്യം പൂർത്തിയാക്കുകയാണ് ലക്ഷ്യമെന...  \n",
       "3  വ്യക്തമായ ലക്ഷ്യത്തോടെയും സമയക്രമത്തോടെയുമാണ് ...  \n",
       "4  \"ജൻധൻ അക്കൌണ്ടുകൾ തുറക്കൽ, പാവപ്പെട്ടവരുടെ ഇൻഷ...  "
      ]
     },
     "execution_count": 39,
     "metadata": {},
     "output_type": "execute_result"
    }
   ],
   "source": [
    "combined.head()"
   ]
  },
  {
   "cell_type": "code",
   "execution_count": 41,
   "metadata": {},
   "outputs": [],
   "source": [
    "combined['mBART_NP_prob'] = mbart[[0]]\n",
    "combined['mBART_P_prob'] = mbart[[1]]\n",
    "combined['model_pred_mbart'] = ['NP' if x==0 else 'P' for x in mbart[2]]\n",
    "combined['mbart_P'] = apply_softmax(mbart, 0)\n",
    "combined['mbart_NP'] = apply_softmax(mbart, 1)"
   ]
  },
  {
   "cell_type": "code",
   "execution_count": 42,
   "metadata": {
    "scrolled": true
   },
   "outputs": [
    {
     "data": {
      "text/html": [
       "<div>\n",
       "<style scoped>\n",
       "    .dataframe tbody tr th:only-of-type {\n",
       "        vertical-align: middle;\n",
       "    }\n",
       "\n",
       "    .dataframe tbody tr th {\n",
       "        vertical-align: top;\n",
       "    }\n",
       "\n",
       "    .dataframe thead th {\n",
       "        text-align: right;\n",
       "    }\n",
       "</style>\n",
       "<table border=\"1\" class=\"dataframe\">\n",
       "  <thead>\n",
       "    <tr style=\"text-align: right;\">\n",
       "      <th></th>\n",
       "      <th>Original_Sentence</th>\n",
       "      <th>mBART_Translated</th>\n",
       "      <th>IndicTrans_Translated</th>\n",
       "      <th>mBART_NP_prob</th>\n",
       "      <th>mBART_P_prob</th>\n",
       "      <th>model_pred_mbart</th>\n",
       "      <th>mbart_P</th>\n",
       "      <th>mbart_NP</th>\n",
       "    </tr>\n",
       "  </thead>\n",
       "  <tbody>\n",
       "    <tr>\n",
       "      <th>0</th>\n",
       "      <td>കോടിക്കണക്കിന് ജനങ്ങളുടെ മനസില്‍ അഭിലാഷങ്ങള്‍ ...</td>\n",
       "      <td>കോടിക്കണക്കിന് ജനങ്ങളുടെ മനസ്സിലും മനസ്സിലും അ...</td>\n",
       "      <td>കോടിക്കണക്കിന് ജനങ്ങളുടെ മനസ്സിലും ഹൃദയത്തിലും...</td>\n",
       "      <td>-0.535944</td>\n",
       "      <td>0.373010</td>\n",
       "      <td>P</td>\n",
       "      <td>0.712786</td>\n",
       "      <td>0.287214</td>\n",
       "    </tr>\n",
       "    <tr>\n",
       "      <th>1</th>\n",
       "      <td>രാജ്യത്തിന്റെ വികസയാത്രയില്‍ പിന്നോക്കം വിട്ടു...</td>\n",
       "      <td>ഇന്ന് ബിജ്യപ്പூரில் ഈ പരിപാടി നടത്തുന്നതിന് റെ...</td>\n",
       "      <td>\"ബിജാപ്പൂരിൽ ഇന്ന് ഈ പരിപാടി സംഘടിപ്പിക്കുന്നത...</td>\n",
       "      <td>1.164668</td>\n",
       "      <td>-1.398593</td>\n",
       "      <td>NP</td>\n",
       "      <td>0.071541</td>\n",
       "      <td>0.928459</td>\n",
       "    </tr>\n",
       "    <tr>\n",
       "      <th>2</th>\n",
       "      <td>2022 ഓടെ ഈ ലക്ഷ്യം പൂര്‍ത്തീകരിക്കുകയാണ് ലക്ഷ്...</td>\n",
       "      <td>അദ്ധേഹത്തിന് റെ ലക്ഷ്യം 2022-ല് ഈ ജോലി പൂര് ത്...</td>\n",
       "      <td>2022 ഓടെ ഈ ദൌത്യം പൂർത്തിയാക്കുകയാണ് ലക്ഷ്യമെന...</td>\n",
       "      <td>1.247734</td>\n",
       "      <td>-1.467341</td>\n",
       "      <td>NP</td>\n",
       "      <td>0.062090</td>\n",
       "      <td>0.937910</td>\n",
       "    </tr>\n",
       "    <tr>\n",
       "      <th>3</th>\n",
       "      <td>സമയബന്ധിതമായും കൃത്യമായ ലക്ഷ്യങ്ങളോടുംകൂടി ഗവണ...</td>\n",
       "      <td>കൃത്യമായ ലക്ഷ്യങ്ങളും കൃത്യസമയങ്ങളും ഉള്ള பல்வ...</td>\n",
       "      <td>വ്യക്തമായ ലക്ഷ്യത്തോടെയും സമയക്രമത്തോടെയുമാണ് ...</td>\n",
       "      <td>-0.645948</td>\n",
       "      <td>0.544526</td>\n",
       "      <td>P</td>\n",
       "      <td>0.766826</td>\n",
       "      <td>0.233174</td>\n",
       "    </tr>\n",
       "    <tr>\n",
       "      <th>4</th>\n",
       "      <td>ജന്‍ ധന്‍ അക്കൗണ്ടുകള്‍ തുറക്കുന്നതിലും ദരിദ്ര...</td>\n",
       "      <td>ഈ കാര്യത്തില് അദ്ദേഹം, ജാന് ദന് അക്കൗണ്ട് തുറക...</td>\n",
       "      <td>\"ജൻധൻ അക്കൌണ്ടുകൾ തുറക്കൽ, പാവപ്പെട്ടവരുടെ ഇൻഷ...</td>\n",
       "      <td>-0.914935</td>\n",
       "      <td>0.929445</td>\n",
       "      <td>P</td>\n",
       "      <td>0.863466</td>\n",
       "      <td>0.136534</td>\n",
       "    </tr>\n",
       "  </tbody>\n",
       "</table>\n",
       "</div>"
      ],
      "text/plain": [
       "                                   Original_Sentence  \\\n",
       "0  കോടിക്കണക്കിന് ജനങ്ങളുടെ മനസില്‍ അഭിലാഷങ്ങള്‍ ...   \n",
       "1  രാജ്യത്തിന്റെ വികസയാത്രയില്‍ പിന്നോക്കം വിട്ടു...   \n",
       "2  2022 ഓടെ ഈ ലക്ഷ്യം പൂര്‍ത്തീകരിക്കുകയാണ് ലക്ഷ്...   \n",
       "3  സമയബന്ധിതമായും കൃത്യമായ ലക്ഷ്യങ്ങളോടുംകൂടി ഗവണ...   \n",
       "4  ജന്‍ ധന്‍ അക്കൗണ്ടുകള്‍ തുറക്കുന്നതിലും ദരിദ്ര...   \n",
       "\n",
       "                                    mBART_Translated  \\\n",
       "0  കോടിക്കണക്കിന് ജനങ്ങളുടെ മനസ്സിലും മനസ്സിലും അ...   \n",
       "1  ഇന്ന് ബിജ്യപ്പூரில் ഈ പരിപാടി നടത്തുന്നതിന് റെ...   \n",
       "2  അദ്ധേഹത്തിന് റെ ലക്ഷ്യം 2022-ല് ഈ ജോലി പൂര് ത്...   \n",
       "3  കൃത്യമായ ലക്ഷ്യങ്ങളും കൃത്യസമയങ്ങളും ഉള്ള பல்வ...   \n",
       "4  ഈ കാര്യത്തില് അദ്ദേഹം, ജാന് ദന് അക്കൗണ്ട് തുറക...   \n",
       "\n",
       "                               IndicTrans_Translated  mBART_NP_prob  \\\n",
       "0  കോടിക്കണക്കിന് ജനങ്ങളുടെ മനസ്സിലും ഹൃദയത്തിലും...      -0.535944   \n",
       "1  \"ബിജാപ്പൂരിൽ ഇന്ന് ഈ പരിപാടി സംഘടിപ്പിക്കുന്നത...       1.164668   \n",
       "2  2022 ഓടെ ഈ ദൌത്യം പൂർത്തിയാക്കുകയാണ് ലക്ഷ്യമെന...       1.247734   \n",
       "3  വ്യക്തമായ ലക്ഷ്യത്തോടെയും സമയക്രമത്തോടെയുമാണ് ...      -0.645948   \n",
       "4  \"ജൻധൻ അക്കൌണ്ടുകൾ തുറക്കൽ, പാവപ്പെട്ടവരുടെ ഇൻഷ...      -0.914935   \n",
       "\n",
       "   mBART_P_prob model_pred_mbart   mbart_P  mbart_NP  \n",
       "0      0.373010                P  0.712786  0.287214  \n",
       "1     -1.398593               NP  0.071541  0.928459  \n",
       "2     -1.467341               NP  0.062090  0.937910  \n",
       "3      0.544526                P  0.766826  0.233174  \n",
       "4      0.929445                P  0.863466  0.136534  "
      ]
     },
     "execution_count": 42,
     "metadata": {},
     "output_type": "execute_result"
    }
   ],
   "source": [
    "combined.head()"
   ]
  },
  {
   "cell_type": "code",
   "execution_count": 43,
   "metadata": {},
   "outputs": [],
   "source": [
    "combined['IndicT_NP_prob'] = indictrans[[0]]\n",
    "combined['IndicT_P_prob'] = indictrans[[1]]\n",
    "combined['model_pred_IndicT'] = ['NP' if x==0 else 'P' for x in indictrans[2]]\n",
    "combined['indicT_P'] = apply_softmax(indictrans, 0)\n",
    "combined['indicT_NP'] = apply_softmax(indictrans, 1)"
   ]
  },
  {
   "cell_type": "code",
   "execution_count": 44,
   "metadata": {},
   "outputs": [
    {
     "data": {
      "text/html": [
       "<div>\n",
       "<style scoped>\n",
       "    .dataframe tbody tr th:only-of-type {\n",
       "        vertical-align: middle;\n",
       "    }\n",
       "\n",
       "    .dataframe tbody tr th {\n",
       "        vertical-align: top;\n",
       "    }\n",
       "\n",
       "    .dataframe thead th {\n",
       "        text-align: right;\n",
       "    }\n",
       "</style>\n",
       "<table border=\"1\" class=\"dataframe\">\n",
       "  <thead>\n",
       "    <tr style=\"text-align: right;\">\n",
       "      <th></th>\n",
       "      <th>Original_Sentence</th>\n",
       "      <th>mBART_Translated</th>\n",
       "      <th>IndicTrans_Translated</th>\n",
       "      <th>mBART_NP_prob</th>\n",
       "      <th>mBART_P_prob</th>\n",
       "      <th>model_pred_mbart</th>\n",
       "      <th>mbart_P</th>\n",
       "      <th>mbart_NP</th>\n",
       "      <th>IndicT_NP_prob</th>\n",
       "      <th>IndicT_P_prob</th>\n",
       "      <th>model_pred_IndicT</th>\n",
       "      <th>indicT_P</th>\n",
       "      <th>indicT_NP</th>\n",
       "    </tr>\n",
       "  </thead>\n",
       "  <tbody>\n",
       "    <tr>\n",
       "      <th>0</th>\n",
       "      <td>കോടിക്കണക്കിന് ജനങ്ങളുടെ മനസില്‍ അഭിലാഷങ്ങള്‍ ...</td>\n",
       "      <td>കോടിക്കണക്കിന് ജനങ്ങളുടെ മനസ്സിലും മനസ്സിലും അ...</td>\n",
       "      <td>കോടിക്കണക്കിന് ജനങ്ങളുടെ മനസ്സിലും ഹൃദയത്തിലും...</td>\n",
       "      <td>-0.535944</td>\n",
       "      <td>0.373010</td>\n",
       "      <td>P</td>\n",
       "      <td>0.712786</td>\n",
       "      <td>0.287214</td>\n",
       "      <td>-1.021923</td>\n",
       "      <td>0.976919</td>\n",
       "      <td>P</td>\n",
       "      <td>0.880675</td>\n",
       "      <td>0.119325</td>\n",
       "    </tr>\n",
       "    <tr>\n",
       "      <th>1</th>\n",
       "      <td>രാജ്യത്തിന്റെ വികസയാത്രയില്‍ പിന്നോക്കം വിട്ടു...</td>\n",
       "      <td>ഇന്ന് ബിജ്യപ്പூரில் ഈ പരിപാടി നടത്തുന്നതിന് റെ...</td>\n",
       "      <td>\"ബിജാപ്പൂരിൽ ഇന്ന് ഈ പരിപാടി സംഘടിപ്പിക്കുന്നത...</td>\n",
       "      <td>1.164668</td>\n",
       "      <td>-1.398593</td>\n",
       "      <td>NP</td>\n",
       "      <td>0.071541</td>\n",
       "      <td>0.928459</td>\n",
       "      <td>0.506923</td>\n",
       "      <td>-0.750715</td>\n",
       "      <td>NP</td>\n",
       "      <td>0.221381</td>\n",
       "      <td>0.778619</td>\n",
       "    </tr>\n",
       "    <tr>\n",
       "      <th>2</th>\n",
       "      <td>2022 ഓടെ ഈ ലക്ഷ്യം പൂര്‍ത്തീകരിക്കുകയാണ് ലക്ഷ്...</td>\n",
       "      <td>അദ്ധേഹത്തിന് റെ ലക്ഷ്യം 2022-ല് ഈ ജോലി പൂര് ത്...</td>\n",
       "      <td>2022 ഓടെ ഈ ദൌത്യം പൂർത്തിയാക്കുകയാണ് ലക്ഷ്യമെന...</td>\n",
       "      <td>1.247734</td>\n",
       "      <td>-1.467341</td>\n",
       "      <td>NP</td>\n",
       "      <td>0.062090</td>\n",
       "      <td>0.937910</td>\n",
       "      <td>-0.971697</td>\n",
       "      <td>0.945597</td>\n",
       "      <td>P</td>\n",
       "      <td>0.871836</td>\n",
       "      <td>0.128164</td>\n",
       "    </tr>\n",
       "    <tr>\n",
       "      <th>3</th>\n",
       "      <td>സമയബന്ധിതമായും കൃത്യമായ ലക്ഷ്യങ്ങളോടുംകൂടി ഗവണ...</td>\n",
       "      <td>കൃത്യമായ ലക്ഷ്യങ്ങളും കൃത്യസമയങ്ങളും ഉള്ള பல்வ...</td>\n",
       "      <td>വ്യക്തമായ ലക്ഷ്യത്തോടെയും സമയക്രമത്തോടെയുമാണ് ...</td>\n",
       "      <td>-0.645948</td>\n",
       "      <td>0.544526</td>\n",
       "      <td>P</td>\n",
       "      <td>0.766826</td>\n",
       "      <td>0.233174</td>\n",
       "      <td>-1.004650</td>\n",
       "      <td>0.952055</td>\n",
       "      <td>P</td>\n",
       "      <td>0.876176</td>\n",
       "      <td>0.123824</td>\n",
       "    </tr>\n",
       "    <tr>\n",
       "      <th>4</th>\n",
       "      <td>ജന്‍ ധന്‍ അക്കൗണ്ടുകള്‍ തുറക്കുന്നതിലും ദരിദ്ര...</td>\n",
       "      <td>ഈ കാര്യത്തില് അദ്ദേഹം, ജാന് ദന് അക്കൗണ്ട് തുറക...</td>\n",
       "      <td>\"ജൻധൻ അക്കൌണ്ടുകൾ തുറക്കൽ, പാവപ്പെട്ടവരുടെ ഇൻഷ...</td>\n",
       "      <td>-0.914935</td>\n",
       "      <td>0.929445</td>\n",
       "      <td>P</td>\n",
       "      <td>0.863466</td>\n",
       "      <td>0.136534</td>\n",
       "      <td>-0.951616</td>\n",
       "      <td>0.937276</td>\n",
       "      <td>P</td>\n",
       "      <td>0.868629</td>\n",
       "      <td>0.131371</td>\n",
       "    </tr>\n",
       "  </tbody>\n",
       "</table>\n",
       "</div>"
      ],
      "text/plain": [
       "                                   Original_Sentence  \\\n",
       "0  കോടിക്കണക്കിന് ജനങ്ങളുടെ മനസില്‍ അഭിലാഷങ്ങള്‍ ...   \n",
       "1  രാജ്യത്തിന്റെ വികസയാത്രയില്‍ പിന്നോക്കം വിട്ടു...   \n",
       "2  2022 ഓടെ ഈ ലക്ഷ്യം പൂര്‍ത്തീകരിക്കുകയാണ് ലക്ഷ്...   \n",
       "3  സമയബന്ധിതമായും കൃത്യമായ ലക്ഷ്യങ്ങളോടുംകൂടി ഗവണ...   \n",
       "4  ജന്‍ ധന്‍ അക്കൗണ്ടുകള്‍ തുറക്കുന്നതിലും ദരിദ്ര...   \n",
       "\n",
       "                                    mBART_Translated  \\\n",
       "0  കോടിക്കണക്കിന് ജനങ്ങളുടെ മനസ്സിലും മനസ്സിലും അ...   \n",
       "1  ഇന്ന് ബിജ്യപ്പூரில் ഈ പരിപാടി നടത്തുന്നതിന് റെ...   \n",
       "2  അദ്ധേഹത്തിന് റെ ലക്ഷ്യം 2022-ല് ഈ ജോലി പൂര് ത്...   \n",
       "3  കൃത്യമായ ലക്ഷ്യങ്ങളും കൃത്യസമയങ്ങളും ഉള്ള பல்வ...   \n",
       "4  ഈ കാര്യത്തില് അദ്ദേഹം, ജാന് ദന് അക്കൗണ്ട് തുറക...   \n",
       "\n",
       "                               IndicTrans_Translated  mBART_NP_prob  \\\n",
       "0  കോടിക്കണക്കിന് ജനങ്ങളുടെ മനസ്സിലും ഹൃദയത്തിലും...      -0.535944   \n",
       "1  \"ബിജാപ്പൂരിൽ ഇന്ന് ഈ പരിപാടി സംഘടിപ്പിക്കുന്നത...       1.164668   \n",
       "2  2022 ഓടെ ഈ ദൌത്യം പൂർത്തിയാക്കുകയാണ് ലക്ഷ്യമെന...       1.247734   \n",
       "3  വ്യക്തമായ ലക്ഷ്യത്തോടെയും സമയക്രമത്തോടെയുമാണ് ...      -0.645948   \n",
       "4  \"ജൻധൻ അക്കൌണ്ടുകൾ തുറക്കൽ, പാവപ്പെട്ടവരുടെ ഇൻഷ...      -0.914935   \n",
       "\n",
       "   mBART_P_prob model_pred_mbart   mbart_P  mbart_NP  IndicT_NP_prob  \\\n",
       "0      0.373010                P  0.712786  0.287214       -1.021923   \n",
       "1     -1.398593               NP  0.071541  0.928459        0.506923   \n",
       "2     -1.467341               NP  0.062090  0.937910       -0.971697   \n",
       "3      0.544526                P  0.766826  0.233174       -1.004650   \n",
       "4      0.929445                P  0.863466  0.136534       -0.951616   \n",
       "\n",
       "   IndicT_P_prob model_pred_IndicT  indicT_P  indicT_NP  \n",
       "0       0.976919                 P  0.880675   0.119325  \n",
       "1      -0.750715                NP  0.221381   0.778619  \n",
       "2       0.945597                 P  0.871836   0.128164  \n",
       "3       0.952055                 P  0.876176   0.123824  \n",
       "4       0.937276                 P  0.868629   0.131371  "
      ]
     },
     "execution_count": 44,
     "metadata": {},
     "output_type": "execute_result"
    }
   ],
   "source": [
    "combined.head()"
   ]
  },
  {
   "cell_type": "code",
   "execution_count": 45,
   "metadata": {},
   "outputs": [],
   "source": [
    "def select_trasnlation(row):\n",
    "    if row['indicT_P']>=row['mbart_P']:\n",
    "        return row['IndicTrans_Translated']\n",
    "    else:\n",
    "        return row['mBART_Translated']\n",
    "\n",
    "combined['selected_translation'] = combined.apply(lambda row : select_trasnlation(row), axis=1) "
   ]
  },
  {
   "cell_type": "code",
   "execution_count": 46,
   "metadata": {},
   "outputs": [],
   "source": [
    "combined['mBART_avg'] = combined.iloc[:,3:5].mean(axis=1)"
   ]
  },
  {
   "cell_type": "code",
   "execution_count": 47,
   "metadata": {},
   "outputs": [
    {
     "data": {
      "text/html": [
       "<div>\n",
       "<style scoped>\n",
       "    .dataframe tbody tr th:only-of-type {\n",
       "        vertical-align: middle;\n",
       "    }\n",
       "\n",
       "    .dataframe tbody tr th {\n",
       "        vertical-align: top;\n",
       "    }\n",
       "\n",
       "    .dataframe thead th {\n",
       "        text-align: right;\n",
       "    }\n",
       "</style>\n",
       "<table border=\"1\" class=\"dataframe\">\n",
       "  <thead>\n",
       "    <tr style=\"text-align: right;\">\n",
       "      <th></th>\n",
       "      <th>Original_Sentence</th>\n",
       "      <th>mBART_Translated</th>\n",
       "      <th>IndicTrans_Translated</th>\n",
       "      <th>mBART_NP_prob</th>\n",
       "      <th>mBART_P_prob</th>\n",
       "      <th>model_pred_mbart</th>\n",
       "      <th>mbart_P</th>\n",
       "      <th>mbart_NP</th>\n",
       "      <th>IndicT_NP_prob</th>\n",
       "      <th>IndicT_P_prob</th>\n",
       "      <th>model_pred_IndicT</th>\n",
       "      <th>indicT_P</th>\n",
       "      <th>indicT_NP</th>\n",
       "      <th>selected_translation</th>\n",
       "      <th>mBART_avg</th>\n",
       "    </tr>\n",
       "  </thead>\n",
       "  <tbody>\n",
       "    <tr>\n",
       "      <th>0</th>\n",
       "      <td>കോടിക്കണക്കിന് ജനങ്ങളുടെ മനസില്‍ അഭിലാഷങ്ങള്‍ ...</td>\n",
       "      <td>കോടിക്കണക്കിന് ജനങ്ങളുടെ മനസ്സിലും മനസ്സിലും അ...</td>\n",
       "      <td>കോടിക്കണക്കിന് ജനങ്ങളുടെ മനസ്സിലും ഹൃദയത്തിലും...</td>\n",
       "      <td>-0.535944</td>\n",
       "      <td>0.373010</td>\n",
       "      <td>P</td>\n",
       "      <td>0.712786</td>\n",
       "      <td>0.287214</td>\n",
       "      <td>-1.021923</td>\n",
       "      <td>0.976919</td>\n",
       "      <td>P</td>\n",
       "      <td>0.880675</td>\n",
       "      <td>0.119325</td>\n",
       "      <td>കോടിക്കണക്കിന് ജനങ്ങളുടെ മനസ്സിലും ഹൃദയത്തിലും...</td>\n",
       "      <td>-0.081467</td>\n",
       "    </tr>\n",
       "    <tr>\n",
       "      <th>1</th>\n",
       "      <td>രാജ്യത്തിന്റെ വികസയാത്രയില്‍ പിന്നോക്കം വിട്ടു...</td>\n",
       "      <td>ഇന്ന് ബിജ്യപ്പூரில் ഈ പരിപാടി നടത്തുന്നതിന് റെ...</td>\n",
       "      <td>\"ബിജാപ്പൂരിൽ ഇന്ന് ഈ പരിപാടി സംഘടിപ്പിക്കുന്നത...</td>\n",
       "      <td>1.164668</td>\n",
       "      <td>-1.398593</td>\n",
       "      <td>NP</td>\n",
       "      <td>0.071541</td>\n",
       "      <td>0.928459</td>\n",
       "      <td>0.506923</td>\n",
       "      <td>-0.750715</td>\n",
       "      <td>NP</td>\n",
       "      <td>0.221381</td>\n",
       "      <td>0.778619</td>\n",
       "      <td>\"ബിജാപ്പൂരിൽ ഇന്ന് ഈ പരിപാടി സംഘടിപ്പിക്കുന്നത...</td>\n",
       "      <td>-0.116963</td>\n",
       "    </tr>\n",
       "    <tr>\n",
       "      <th>2</th>\n",
       "      <td>2022 ഓടെ ഈ ലക്ഷ്യം പൂര്‍ത്തീകരിക്കുകയാണ് ലക്ഷ്...</td>\n",
       "      <td>അദ്ധേഹത്തിന് റെ ലക്ഷ്യം 2022-ല് ഈ ജോലി പൂര് ത്...</td>\n",
       "      <td>2022 ഓടെ ഈ ദൌത്യം പൂർത്തിയാക്കുകയാണ് ലക്ഷ്യമെന...</td>\n",
       "      <td>1.247734</td>\n",
       "      <td>-1.467341</td>\n",
       "      <td>NP</td>\n",
       "      <td>0.062090</td>\n",
       "      <td>0.937910</td>\n",
       "      <td>-0.971697</td>\n",
       "      <td>0.945597</td>\n",
       "      <td>P</td>\n",
       "      <td>0.871836</td>\n",
       "      <td>0.128164</td>\n",
       "      <td>2022 ഓടെ ഈ ദൌത്യം പൂർത്തിയാക്കുകയാണ് ലക്ഷ്യമെന...</td>\n",
       "      <td>-0.109803</td>\n",
       "    </tr>\n",
       "    <tr>\n",
       "      <th>3</th>\n",
       "      <td>സമയബന്ധിതമായും കൃത്യമായ ലക്ഷ്യങ്ങളോടുംകൂടി ഗവണ...</td>\n",
       "      <td>കൃത്യമായ ലക്ഷ്യങ്ങളും കൃത്യസമയങ്ങളും ഉള്ള பல்வ...</td>\n",
       "      <td>വ്യക്തമായ ലക്ഷ്യത്തോടെയും സമയക്രമത്തോടെയുമാണ് ...</td>\n",
       "      <td>-0.645948</td>\n",
       "      <td>0.544526</td>\n",
       "      <td>P</td>\n",
       "      <td>0.766826</td>\n",
       "      <td>0.233174</td>\n",
       "      <td>-1.004650</td>\n",
       "      <td>0.952055</td>\n",
       "      <td>P</td>\n",
       "      <td>0.876176</td>\n",
       "      <td>0.123824</td>\n",
       "      <td>വ്യക്തമായ ലക്ഷ്യത്തോടെയും സമയക്രമത്തോടെയുമാണ് ...</td>\n",
       "      <td>-0.050711</td>\n",
       "    </tr>\n",
       "    <tr>\n",
       "      <th>4</th>\n",
       "      <td>ജന്‍ ധന്‍ അക്കൗണ്ടുകള്‍ തുറക്കുന്നതിലും ദരിദ്ര...</td>\n",
       "      <td>ഈ കാര്യത്തില് അദ്ദേഹം, ജാന് ദന് അക്കൗണ്ട് തുറക...</td>\n",
       "      <td>\"ജൻധൻ അക്കൌണ്ടുകൾ തുറക്കൽ, പാവപ്പെട്ടവരുടെ ഇൻഷ...</td>\n",
       "      <td>-0.914935</td>\n",
       "      <td>0.929445</td>\n",
       "      <td>P</td>\n",
       "      <td>0.863466</td>\n",
       "      <td>0.136534</td>\n",
       "      <td>-0.951616</td>\n",
       "      <td>0.937276</td>\n",
       "      <td>P</td>\n",
       "      <td>0.868629</td>\n",
       "      <td>0.131371</td>\n",
       "      <td>\"ജൻധൻ അക്കൌണ്ടുകൾ തുറക്കൽ, പാവപ്പെട്ടവരുടെ ഇൻഷ...</td>\n",
       "      <td>0.007255</td>\n",
       "    </tr>\n",
       "  </tbody>\n",
       "</table>\n",
       "</div>"
      ],
      "text/plain": [
       "                                   Original_Sentence  \\\n",
       "0  കോടിക്കണക്കിന് ജനങ്ങളുടെ മനസില്‍ അഭിലാഷങ്ങള്‍ ...   \n",
       "1  രാജ്യത്തിന്റെ വികസയാത്രയില്‍ പിന്നോക്കം വിട്ടു...   \n",
       "2  2022 ഓടെ ഈ ലക്ഷ്യം പൂര്‍ത്തീകരിക്കുകയാണ് ലക്ഷ്...   \n",
       "3  സമയബന്ധിതമായും കൃത്യമായ ലക്ഷ്യങ്ങളോടുംകൂടി ഗവണ...   \n",
       "4  ജന്‍ ധന്‍ അക്കൗണ്ടുകള്‍ തുറക്കുന്നതിലും ദരിദ്ര...   \n",
       "\n",
       "                                    mBART_Translated  \\\n",
       "0  കോടിക്കണക്കിന് ജനങ്ങളുടെ മനസ്സിലും മനസ്സിലും അ...   \n",
       "1  ഇന്ന് ബിജ്യപ്പூரில் ഈ പരിപാടി നടത്തുന്നതിന് റെ...   \n",
       "2  അദ്ധേഹത്തിന് റെ ലക്ഷ്യം 2022-ല് ഈ ജോലി പൂര് ത്...   \n",
       "3  കൃത്യമായ ലക്ഷ്യങ്ങളും കൃത്യസമയങ്ങളും ഉള്ള பல்வ...   \n",
       "4  ഈ കാര്യത്തില് അദ്ദേഹം, ജാന് ദന് അക്കൗണ്ട് തുറക...   \n",
       "\n",
       "                               IndicTrans_Translated  mBART_NP_prob  \\\n",
       "0  കോടിക്കണക്കിന് ജനങ്ങളുടെ മനസ്സിലും ഹൃദയത്തിലും...      -0.535944   \n",
       "1  \"ബിജാപ്പൂരിൽ ഇന്ന് ഈ പരിപാടി സംഘടിപ്പിക്കുന്നത...       1.164668   \n",
       "2  2022 ഓടെ ഈ ദൌത്യം പൂർത്തിയാക്കുകയാണ് ലക്ഷ്യമെന...       1.247734   \n",
       "3  വ്യക്തമായ ലക്ഷ്യത്തോടെയും സമയക്രമത്തോടെയുമാണ് ...      -0.645948   \n",
       "4  \"ജൻധൻ അക്കൌണ്ടുകൾ തുറക്കൽ, പാവപ്പെട്ടവരുടെ ഇൻഷ...      -0.914935   \n",
       "\n",
       "   mBART_P_prob model_pred_mbart   mbart_P  mbart_NP  IndicT_NP_prob  \\\n",
       "0      0.373010                P  0.712786  0.287214       -1.021923   \n",
       "1     -1.398593               NP  0.071541  0.928459        0.506923   \n",
       "2     -1.467341               NP  0.062090  0.937910       -0.971697   \n",
       "3      0.544526                P  0.766826  0.233174       -1.004650   \n",
       "4      0.929445                P  0.863466  0.136534       -0.951616   \n",
       "\n",
       "   IndicT_P_prob model_pred_IndicT  indicT_P  indicT_NP  \\\n",
       "0       0.976919                 P  0.880675   0.119325   \n",
       "1      -0.750715                NP  0.221381   0.778619   \n",
       "2       0.945597                 P  0.871836   0.128164   \n",
       "3       0.952055                 P  0.876176   0.123824   \n",
       "4       0.937276                 P  0.868629   0.131371   \n",
       "\n",
       "                                selected_translation  mBART_avg  \n",
       "0  കോടിക്കണക്കിന് ജനങ്ങളുടെ മനസ്സിലും ഹൃദയത്തിലും...  -0.081467  \n",
       "1  \"ബിജാപ്പൂരിൽ ഇന്ന് ഈ പരിപാടി സംഘടിപ്പിക്കുന്നത...  -0.116963  \n",
       "2  2022 ഓടെ ഈ ദൌത്യം പൂർത്തിയാക്കുകയാണ് ലക്ഷ്യമെന...  -0.109803  \n",
       "3  വ്യക്തമായ ലക്ഷ്യത്തോടെയും സമയക്രമത്തോടെയുമാണ് ...  -0.050711  \n",
       "4  \"ജൻധൻ അക്കൌണ്ടുകൾ തുറക്കൽ, പാവപ്പെട്ടവരുടെ ഇൻഷ...   0.007255  "
      ]
     },
     "execution_count": 47,
     "metadata": {},
     "output_type": "execute_result"
    }
   ],
   "source": [
    "combined.head()"
   ]
  },
  {
   "cell_type": "code",
   "execution_count": 48,
   "metadata": {},
   "outputs": [],
   "source": [
    "combined['IT_avg'] = combined.iloc[:,5:7].mean(axis=1)"
   ]
  },
  {
   "cell_type": "code",
   "execution_count": 49,
   "metadata": {},
   "outputs": [
    {
     "data": {
      "text/html": [
       "<div>\n",
       "<style scoped>\n",
       "    .dataframe tbody tr th:only-of-type {\n",
       "        vertical-align: middle;\n",
       "    }\n",
       "\n",
       "    .dataframe tbody tr th {\n",
       "        vertical-align: top;\n",
       "    }\n",
       "\n",
       "    .dataframe thead th {\n",
       "        text-align: right;\n",
       "    }\n",
       "</style>\n",
       "<table border=\"1\" class=\"dataframe\">\n",
       "  <thead>\n",
       "    <tr style=\"text-align: right;\">\n",
       "      <th></th>\n",
       "      <th>Original_Sentence</th>\n",
       "      <th>mBART_Translated</th>\n",
       "      <th>IndicTrans_Translated</th>\n",
       "      <th>mBART_NP_prob</th>\n",
       "      <th>mBART_P_prob</th>\n",
       "      <th>model_pred_mbart</th>\n",
       "      <th>mbart_P</th>\n",
       "      <th>mbart_NP</th>\n",
       "      <th>IndicT_NP_prob</th>\n",
       "      <th>IndicT_P_prob</th>\n",
       "      <th>model_pred_IndicT</th>\n",
       "      <th>indicT_P</th>\n",
       "      <th>indicT_NP</th>\n",
       "      <th>selected_translation</th>\n",
       "      <th>mBART_avg</th>\n",
       "      <th>IT_avg</th>\n",
       "    </tr>\n",
       "  </thead>\n",
       "  <tbody>\n",
       "    <tr>\n",
       "      <th>0</th>\n",
       "      <td>കോടിക്കണക്കിന് ജനങ്ങളുടെ മനസില്‍ അഭിലാഷങ്ങള്‍ ...</td>\n",
       "      <td>കോടിക്കണക്കിന് ജനങ്ങളുടെ മനസ്സിലും മനസ്സിലും അ...</td>\n",
       "      <td>കോടിക്കണക്കിന് ജനങ്ങളുടെ മനസ്സിലും ഹൃദയത്തിലും...</td>\n",
       "      <td>-0.535944</td>\n",
       "      <td>0.373010</td>\n",
       "      <td>P</td>\n",
       "      <td>0.712786</td>\n",
       "      <td>0.287214</td>\n",
       "      <td>-1.021923</td>\n",
       "      <td>0.976919</td>\n",
       "      <td>P</td>\n",
       "      <td>0.880675</td>\n",
       "      <td>0.119325</td>\n",
       "      <td>കോടിക്കണക്കിന് ജനങ്ങളുടെ മനസ്സിലും ഹൃദയത്തിലും...</td>\n",
       "      <td>-0.081467</td>\n",
       "      <td>0.712786</td>\n",
       "    </tr>\n",
       "    <tr>\n",
       "      <th>1</th>\n",
       "      <td>രാജ്യത്തിന്റെ വികസയാത്രയില്‍ പിന്നോക്കം വിട്ടു...</td>\n",
       "      <td>ഇന്ന് ബിജ്യപ്പூரில் ഈ പരിപാടി നടത്തുന്നതിന് റെ...</td>\n",
       "      <td>\"ബിജാപ്പൂരിൽ ഇന്ന് ഈ പരിപാടി സംഘടിപ്പിക്കുന്നത...</td>\n",
       "      <td>1.164668</td>\n",
       "      <td>-1.398593</td>\n",
       "      <td>NP</td>\n",
       "      <td>0.071541</td>\n",
       "      <td>0.928459</td>\n",
       "      <td>0.506923</td>\n",
       "      <td>-0.750715</td>\n",
       "      <td>NP</td>\n",
       "      <td>0.221381</td>\n",
       "      <td>0.778619</td>\n",
       "      <td>\"ബിജാപ്പൂരിൽ ഇന്ന് ഈ പരിപാടി സംഘടിപ്പിക്കുന്നത...</td>\n",
       "      <td>-0.116963</td>\n",
       "      <td>0.071541</td>\n",
       "    </tr>\n",
       "    <tr>\n",
       "      <th>2</th>\n",
       "      <td>2022 ഓടെ ഈ ലക്ഷ്യം പൂര്‍ത്തീകരിക്കുകയാണ് ലക്ഷ്...</td>\n",
       "      <td>അദ്ധേഹത്തിന് റെ ലക്ഷ്യം 2022-ല് ഈ ജോലി പൂര് ത്...</td>\n",
       "      <td>2022 ഓടെ ഈ ദൌത്യം പൂർത്തിയാക്കുകയാണ് ലക്ഷ്യമെന...</td>\n",
       "      <td>1.247734</td>\n",
       "      <td>-1.467341</td>\n",
       "      <td>NP</td>\n",
       "      <td>0.062090</td>\n",
       "      <td>0.937910</td>\n",
       "      <td>-0.971697</td>\n",
       "      <td>0.945597</td>\n",
       "      <td>P</td>\n",
       "      <td>0.871836</td>\n",
       "      <td>0.128164</td>\n",
       "      <td>2022 ഓടെ ഈ ദൌത്യം പൂർത്തിയാക്കുകയാണ് ലക്ഷ്യമെന...</td>\n",
       "      <td>-0.109803</td>\n",
       "      <td>0.062090</td>\n",
       "    </tr>\n",
       "    <tr>\n",
       "      <th>3</th>\n",
       "      <td>സമയബന്ധിതമായും കൃത്യമായ ലക്ഷ്യങ്ങളോടുംകൂടി ഗവണ...</td>\n",
       "      <td>കൃത്യമായ ലക്ഷ്യങ്ങളും കൃത്യസമയങ്ങളും ഉള്ള பல்வ...</td>\n",
       "      <td>വ്യക്തമായ ലക്ഷ്യത്തോടെയും സമയക്രമത്തോടെയുമാണ് ...</td>\n",
       "      <td>-0.645948</td>\n",
       "      <td>0.544526</td>\n",
       "      <td>P</td>\n",
       "      <td>0.766826</td>\n",
       "      <td>0.233174</td>\n",
       "      <td>-1.004650</td>\n",
       "      <td>0.952055</td>\n",
       "      <td>P</td>\n",
       "      <td>0.876176</td>\n",
       "      <td>0.123824</td>\n",
       "      <td>വ്യക്തമായ ലക്ഷ്യത്തോടെയും സമയക്രമത്തോടെയുമാണ് ...</td>\n",
       "      <td>-0.050711</td>\n",
       "      <td>0.766826</td>\n",
       "    </tr>\n",
       "    <tr>\n",
       "      <th>4</th>\n",
       "      <td>ജന്‍ ധന്‍ അക്കൗണ്ടുകള്‍ തുറക്കുന്നതിലും ദരിദ്ര...</td>\n",
       "      <td>ഈ കാര്യത്തില് അദ്ദേഹം, ജാന് ദന് അക്കൗണ്ട് തുറക...</td>\n",
       "      <td>\"ജൻധൻ അക്കൌണ്ടുകൾ തുറക്കൽ, പാവപ്പെട്ടവരുടെ ഇൻഷ...</td>\n",
       "      <td>-0.914935</td>\n",
       "      <td>0.929445</td>\n",
       "      <td>P</td>\n",
       "      <td>0.863466</td>\n",
       "      <td>0.136534</td>\n",
       "      <td>-0.951616</td>\n",
       "      <td>0.937276</td>\n",
       "      <td>P</td>\n",
       "      <td>0.868629</td>\n",
       "      <td>0.131371</td>\n",
       "      <td>\"ജൻധൻ അക്കൌണ്ടുകൾ തുറക്കൽ, പാവപ്പെട്ടവരുടെ ഇൻഷ...</td>\n",
       "      <td>0.007255</td>\n",
       "      <td>0.863466</td>\n",
       "    </tr>\n",
       "  </tbody>\n",
       "</table>\n",
       "</div>"
      ],
      "text/plain": [
       "                                   Original_Sentence  \\\n",
       "0  കോടിക്കണക്കിന് ജനങ്ങളുടെ മനസില്‍ അഭിലാഷങ്ങള്‍ ...   \n",
       "1  രാജ്യത്തിന്റെ വികസയാത്രയില്‍ പിന്നോക്കം വിട്ടു...   \n",
       "2  2022 ഓടെ ഈ ലക്ഷ്യം പൂര്‍ത്തീകരിക്കുകയാണ് ലക്ഷ്...   \n",
       "3  സമയബന്ധിതമായും കൃത്യമായ ലക്ഷ്യങ്ങളോടുംകൂടി ഗവണ...   \n",
       "4  ജന്‍ ധന്‍ അക്കൗണ്ടുകള്‍ തുറക്കുന്നതിലും ദരിദ്ര...   \n",
       "\n",
       "                                    mBART_Translated  \\\n",
       "0  കോടിക്കണക്കിന് ജനങ്ങളുടെ മനസ്സിലും മനസ്സിലും അ...   \n",
       "1  ഇന്ന് ബിജ്യപ്പூரில் ഈ പരിപാടി നടത്തുന്നതിന് റെ...   \n",
       "2  അദ്ധേഹത്തിന് റെ ലക്ഷ്യം 2022-ല് ഈ ജോലി പൂര് ത്...   \n",
       "3  കൃത്യമായ ലക്ഷ്യങ്ങളും കൃത്യസമയങ്ങളും ഉള്ള பல்வ...   \n",
       "4  ഈ കാര്യത്തില് അദ്ദേഹം, ജാന് ദന് അക്കൗണ്ട് തുറക...   \n",
       "\n",
       "                               IndicTrans_Translated  mBART_NP_prob  \\\n",
       "0  കോടിക്കണക്കിന് ജനങ്ങളുടെ മനസ്സിലും ഹൃദയത്തിലും...      -0.535944   \n",
       "1  \"ബിജാപ്പൂരിൽ ഇന്ന് ഈ പരിപാടി സംഘടിപ്പിക്കുന്നത...       1.164668   \n",
       "2  2022 ഓടെ ഈ ദൌത്യം പൂർത്തിയാക്കുകയാണ് ലക്ഷ്യമെന...       1.247734   \n",
       "3  വ്യക്തമായ ലക്ഷ്യത്തോടെയും സമയക്രമത്തോടെയുമാണ് ...      -0.645948   \n",
       "4  \"ജൻധൻ അക്കൌണ്ടുകൾ തുറക്കൽ, പാവപ്പെട്ടവരുടെ ഇൻഷ...      -0.914935   \n",
       "\n",
       "   mBART_P_prob model_pred_mbart   mbart_P  mbart_NP  IndicT_NP_prob  \\\n",
       "0      0.373010                P  0.712786  0.287214       -1.021923   \n",
       "1     -1.398593               NP  0.071541  0.928459        0.506923   \n",
       "2     -1.467341               NP  0.062090  0.937910       -0.971697   \n",
       "3      0.544526                P  0.766826  0.233174       -1.004650   \n",
       "4      0.929445                P  0.863466  0.136534       -0.951616   \n",
       "\n",
       "   IndicT_P_prob model_pred_IndicT  indicT_P  indicT_NP  \\\n",
       "0       0.976919                 P  0.880675   0.119325   \n",
       "1      -0.750715                NP  0.221381   0.778619   \n",
       "2       0.945597                 P  0.871836   0.128164   \n",
       "3       0.952055                 P  0.876176   0.123824   \n",
       "4       0.937276                 P  0.868629   0.131371   \n",
       "\n",
       "                                selected_translation  mBART_avg    IT_avg  \n",
       "0  കോടിക്കണക്കിന് ജനങ്ങളുടെ മനസ്സിലും ഹൃദയത്തിലും...  -0.081467  0.712786  \n",
       "1  \"ബിജാപ്പൂരിൽ ഇന്ന് ഈ പരിപാടി സംഘടിപ്പിക്കുന്നത...  -0.116963  0.071541  \n",
       "2  2022 ഓടെ ഈ ദൌത്യം പൂർത്തിയാക്കുകയാണ് ലക്ഷ്യമെന...  -0.109803  0.062090  \n",
       "3  വ്യക്തമായ ലക്ഷ്യത്തോടെയും സമയക്രമത്തോടെയുമാണ് ...  -0.050711  0.766826  \n",
       "4  \"ജൻധൻ അക്കൌണ്ടുകൾ തുറക്കൽ, പാവപ്പെട്ടവരുടെ ഇൻഷ...   0.007255  0.863466  "
      ]
     },
     "execution_count": 49,
     "metadata": {},
     "output_type": "execute_result"
    }
   ],
   "source": [
    "combined.head()"
   ]
  },
  {
   "cell_type": "code",
   "execution_count": 50,
   "metadata": {},
   "outputs": [],
   "source": [
    "combined.to_csv('../combined-ma.csv', sep='\\t', encoding='utf-8')"
   ]
  },
  {
   "cell_type": "code",
   "execution_count": 51,
   "metadata": {},
   "outputs": [],
   "source": [
    "np.savetxt('../original_sentence-ma.txt', combined['Original_Sentence'], fmt='%s')\n",
    "np.savetxt('../mBART_translated-ma.txt', combined['mBART_Translated'], fmt='%s')\n",
    "np.savetxt('../indictrans_translated-ma.txt', combined['IndicTrans_Translated'], fmt='%s')\n",
    "np.savetxt('../selected_translation-ma.txt', combined['selected_translation'], fmt='%s')"
   ]
  },
  {
   "cell_type": "code",
   "execution_count": 52,
   "metadata": {},
   "outputs": [],
   "source": [
    "!cp ../original_sentence-ma.txt ../../bleu_test/testing/indicTrans/\n",
    "!cp ../mBART_translated-ma.txt  ../../bleu_test/testing/indicTrans/\n",
    "!cp ../indictrans_translated-ma.txt  ../../bleu_test/testing/indicTrans/\n",
    "!cp ../selected_translation-ma.txt  ../../bleu_test/testing/indicTrans/"
   ]
  },
  {
   "cell_type": "code",
   "execution_count": 53,
   "metadata": {},
   "outputs": [
    {
     "name": "stdout",
     "output_type": "stream",
     "text": [
      "-rw-r--r-- 1 root root 286510 Dec  4 16:00 ../../bleu_test/testing/indicTrans/selected_translation-ma.txt\r\n",
      "-rw-r--r-- 1 root root 288675 Dec  4 16:00 ../../bleu_test/testing/indicTrans/indictrans_translated-ma.txt\r\n",
      "-rw-r--r-- 1 root root 266470 Dec  4 16:00 ../../bleu_test/testing/indicTrans/mBART_translated-ma.txt\r\n",
      "-rw-r--r-- 1 root root 314011 Dec  4 16:00 ../../bleu_test/testing/indicTrans/original_sentence-ma.txt\r\n",
      "-rw-r--r-- 1 root root 311164 Dec  4 15:54 ../../bleu_test/testing/indicTrans/selected_translation-ta.txt\r\n",
      "-rw-r--r-- 1 root root 306457 Dec  4 15:54 ../../bleu_test/testing/indicTrans/indictrans_translated-ta.txt\r\n",
      "-rw-r--r-- 1 root root 310154 Dec  4 15:54 ../../bleu_test/testing/indicTrans/mBART_translated-ta.txt\r\n",
      "-rw-r--r-- 1 root root 321208 Dec  4 15:54 ../../bleu_test/testing/indicTrans/original_sentence-ta.txt\r\n",
      "-rw-r--r-- 1 root root   1000 Dec  4 12:57 ../../bleu_test/testing/indicTrans/mBART_translated.txt\r\n",
      "-rw-r--r-- 1 root root      3 Dec  4 12:52 ../../bleu_test/testing/indicTrans/ta_outputs.txt\r\n",
      "-rw-r--r-- 1 root root 248536 Dec  4 12:39 ../../bleu_test/testing/indicTrans/selected_translation.txt\r\n",
      "-rw-r--r-- 1 root root 248606 Dec  4 12:39 ../../bleu_test/testing/indicTrans/indictrans_translated.txt\r\n",
      "-rw-r--r-- 1 root root 254214 Dec  4 12:39 ../../bleu_test/testing/indicTrans/original_sentence.txt\r\n",
      "-rw-r--r-- 1 root root    555 Oct 30 16:10 ../../bleu_test/testing/indicTrans/hi_sent_new_dt.txt\r\n",
      "-rw-r--r-- 1 root root    244 Oct 30 16:09 ../../bleu_test/testing/indicTrans/en_outputs_new.txt\r\n",
      "-rw-r--r-- 1 root root    696 Oct 30 16:08 ../../bleu_test/testing/indicTrans/ta_sent_new.txt\r\n",
      "-rw-r--r-- 1 root root    558 Oct 30 16:08 ../../bleu_test/testing/indicTrans/hi_sent_new.txt\r\n",
      "-rw-r--r-- 1 root root   1248 Oct 30 16:07 ../../bleu_test/testing/indicTrans/ta_sentences.txt\r\n",
      "-rw-r--r-- 1 root root    840 Oct 30 16:07 ../../bleu_test/testing/indicTrans/ta_sent.txt\r\n",
      "-rw-r--r-- 1 root root   1179 Oct 30 16:07 ../../bleu_test/testing/indicTrans/hi_sentences.txt\r\n",
      "-rw-r--r-- 1 root root    495 Oct 30 16:07 ../../bleu_test/testing/indicTrans/hi_sent.txt\r\n",
      "-rw-r--r-- 1 root root    800 Oct 30 16:05 ../../bleu_test/testing/indicTrans/hi_sent_dt.txt\r\n",
      "-rw-r--r-- 1 root root    342 Oct 30 16:04 ../../bleu_test/testing/indicTrans/en_outputs.txt\r\n",
      "-rw-r--r-- 1 root root    243 Oct 30 14:56 ../../bleu_test/testing/indicTrans/ta_outp.txt\r\n",
      "-rw-r--r-- 1 root root   1038 Oct 30 14:42 ../../bleu_test/testing/indicTrans/ta_outputs1.txt\r\n",
      "-rw-r--r-- 1 root root    322 Oct 30 03:38 ../../bleu_test/testing/indicTrans/en_sentences.txt\r\n"
     ]
    }
   ],
   "source": [
    "!ls -lt ../../bleu_test/testing/indicTrans/*.txt "
   ]
  }
 ],
 "metadata": {
  "kernelspec": {
   "display_name": "Python 3",
   "language": "python",
   "name": "python3"
  },
  "language_info": {
   "codemirror_mode": {
    "name": "ipython",
    "version": 3
   },
   "file_extension": ".py",
   "mimetype": "text/x-python",
   "name": "python",
   "nbconvert_exporter": "python",
   "pygments_lexer": "ipython3",
   "version": "3.7.3"
  }
 },
 "nbformat": 4,
 "nbformat_minor": 4
}
