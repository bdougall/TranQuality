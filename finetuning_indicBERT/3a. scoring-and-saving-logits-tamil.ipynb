{
 "cells": [
  {
   "cell_type": "markdown",
   "metadata": {},
   "source": [
    "This note book has 5 main steps:\n",
    "\n",
    "\n",
    "1. Load the checkpoint\n",
    "2. Score the file created by mBART by translating `english` to `tamil`\n",
    "3. Score the file created by IndicTrans by translating `english` to `tamil`\n",
    "4. Combine the logits from step 2, step 3, with the original sentence and the translated senences. This is also saved for further analysis\n",
    "5. Apply `softmax` on the logits from step 2 and 3, resulting in `selecting` the better translations"
   ]
  },
  {
   "cell_type": "markdown",
   "metadata": {},
   "source": [
    "### Step 1"
   ]
  },
  {
   "cell_type": "code",
   "execution_count": 1,
   "metadata": {},
   "outputs": [
    {
     "name": "stdout",
     "output_type": "stream",
     "text": [
      "/w266/ucb/w266_project/TranQuality/finetuning_indicBERT/indic-bert\n"
     ]
    }
   ],
   "source": [
    "%cd indic-bert"
   ]
  },
  {
   "cell_type": "code",
   "execution_count": 2,
   "metadata": {},
   "outputs": [],
   "source": [
    "import glob\n",
    "import os"
   ]
  },
  {
   "cell_type": "code",
   "execution_count": 3,
   "metadata": {},
   "outputs": [],
   "source": [
    "from fine_tune.modules import get_modules\n",
    "from fine_tune.data import load_dataset\n",
    "from fine_tune.data.examples import *\n",
    "from fine_tune.modules import base"
   ]
  },
  {
   "cell_type": "code",
   "execution_count": 4,
   "metadata": {},
   "outputs": [],
   "source": [
    "import pandas as pd\n",
    "import numpy as np\n",
    "np.set_printoptions(precision=5)"
   ]
  },
  {
   "cell_type": "code",
   "execution_count": 5,
   "metadata": {},
   "outputs": [],
   "source": [
    "from transformers import (\n",
    "    AdamW,\n",
    "    AutoConfig,\n",
    "    AutoModel,\n",
    "    AutoModelForSequenceClassification,\n",
    "    AutoTokenizer,\n",
    "    get_linear_schedule_with_warmup,\n",
    ")"
   ]
  },
  {
   "cell_type": "code",
   "execution_count": 6,
   "metadata": {},
   "outputs": [],
   "source": [
    "# Softmax calculation\n",
    "def _softmax(x1, x2, tog=0):\n",
    "    a = np.exp([x1,x2])/np.sum(np.exp([x1,x2]))\n",
    "    if tog == 1:\n",
    "        return a[0]\n",
    "    else:\n",
    "        return a[1]\n",
    "\n",
    "def apply_softmax(df, tog):\n",
    "    return df.apply(lambda row: _softmax(row[0], row[1], tog), axis=1)"
   ]
  },
  {
   "cell_type": "code",
   "execution_count": 7,
   "metadata": {},
   "outputs": [],
   "source": [
    "# Define hyperparameters for testing\n",
    "hparams = {\n",
    "    'dataset': 'amrita-paraphrase-exact', \n",
    "    'model': 'ai4bharat/indic-bert', \n",
    "    'config_name': '', \n",
    "    'tokenizer_name': '', \n",
    "    'max_seq_length': 256, \n",
    "    'iglue_dir': '../indic-glue', \n",
    "    'overwrite_cache': True, \n",
    "    'cache_dir': '../ib-cache', \n",
    "    'fp16': False, \n",
    "    'fp16_opt_level': 'O1', \n",
    "    'n_gpu': 1, \n",
    "    'n_tpu_cores': 0, \n",
    "    'max_grad_norm': 1.0, \n",
    "    'do_train': True, \n",
    "    'do_predict': True, \n",
    "    'gradient_accumulation_steps': 1,\n",
    "    'seed': 8, \n",
    "    'learning_rate': 2e-05, \n",
    "    'weight_decay': 0.0, \n",
    "    'adam_epsilon': 1e-08, \n",
    "    'warmup_steps': 0, \n",
    "    'num_train_epochs': 1, \n",
    "    'train_batch_size': 16, \n",
    "    'eval_batch_size': 32, \n",
    "    'labels': '', \n",
    "    'model_name_or_path': 'ai4bharat/indic-bert', \n",
    "    'data_dir': '../indic-glue/amrita-paraphrase-exact', \n",
    "    'mode': 'sequence-classification', \n",
    "    'output_mode': 'regression', #'classification', \n",
    "    'example_type': 'text', \n",
    "    'num_labels': 2\n",
    "}"
   ]
  },
  {
   "cell_type": "code",
   "execution_count": 8,
   "metadata": {},
   "outputs": [],
   "source": [
    "# Set up parameters for Tamil\n",
    "hparams['out_dir'] = '../outputs/3/'\n",
    "hparams['lang'] = 'ta' \n",
    "hparams['train_lang'] = 'ta'\n",
    "hparams['dev_lang'] = 'ta'\n",
    "hparams['test_lang'] = 'ta'\n",
    "hparams['output_dir'] = '{}amrita-paraphrase-exact/train-{}/model-ai4bharat-indic-bert'.format(hparams['out_dir'],hparams['lang'] ) "
   ]
  },
  {
   "cell_type": "code",
   "execution_count": 9,
   "metadata": {},
   "outputs": [],
   "source": [
    "config_name = hparams['config_name'] or hparams['model_name_or_path']\n",
    "args = {'num_labels': hparams['num_labels']}\n",
    "config = AutoConfig.from_pretrained(\n",
    "    config_name,\n",
    "    **args,\n",
    "    cache_dir=hparams['cache_dir']\n",
    ")"
   ]
  },
  {
   "cell_type": "markdown",
   "metadata": {},
   "source": [
    "## Step 2 - Score mBART Tamil"
   ]
  },
  {
   "cell_type": "code",
   "execution_count": 10,
   "metadata": {},
   "outputs": [],
   "source": [
    "! rm ../indic-glue/amrita-paraphrase-exact/cached*"
   ]
  },
  {
   "cell_type": "code",
   "execution_count": 11,
   "metadata": {},
   "outputs": [],
   "source": [
    "!cp ../indic-glue/amrita-paraphrase-exact/ta/ta-bart-test.csv ../indic-glue/amrita-paraphrase-exact/ta/ta-test.csv "
   ]
  },
  {
   "cell_type": "code",
   "execution_count": 12,
   "metadata": {},
   "outputs": [
    {
     "data": {
      "text/plain": [
       "(1000, 3)"
      ]
     },
     "execution_count": 12,
     "metadata": {},
     "output_type": "execute_result"
    }
   ],
   "source": [
    "## Check if you have the right file\n",
    "mbart_test = pd.read_csv('../indic-glue/amrita-paraphrase-exact/ta/ta-test.csv', header=None)\n",
    "mbart_test.shape"
   ]
  },
  {
   "cell_type": "code",
   "execution_count": 13,
   "metadata": {},
   "outputs": [
    {
     "data": {
      "text/plain": [
       "fine_tune.modules.text_classification.TextClassification"
      ]
     },
     "execution_count": 13,
     "metadata": {},
     "output_type": "execute_result"
    }
   ],
   "source": [
    "# module_name = 'text_classification'\n",
    "\n",
    "text_classification_trainer = get_modules('text_classification')\n",
    "text_classification_trainer"
   ]
  },
  {
   "cell_type": "code",
   "execution_count": 14,
   "metadata": {
    "scrolled": false
   },
   "outputs": [
    {
     "name": "stderr",
     "output_type": "stream",
     "text": [
      "Some weights of the model checkpoint at ai4bharat/indic-bert were not used when initializing AlbertForSequenceClassification: ['predictions.bias', 'predictions.LayerNorm.weight', 'predictions.LayerNorm.bias', 'predictions.dense.weight', 'predictions.dense.bias', 'predictions.decoder.weight', 'predictions.decoder.bias', 'sop_classifier.classifier.weight', 'sop_classifier.classifier.bias']\n",
      "- This IS expected if you are initializing AlbertForSequenceClassification from the checkpoint of a model trained on another task or with another architecture (e.g. initializing a BertForSequenceClassification model from a BertForPreTraining model).\n",
      "- This IS NOT expected if you are initializing AlbertForSequenceClassification from the checkpoint of a model that you expect to be exactly identical (initializing a BertForSequenceClassification model from a BertForSequenceClassification model).\n",
      "Some weights of AlbertForSequenceClassification were not initialized from the model checkpoint at ai4bharat/indic-bert and are newly initialized: ['classifier.weight', 'classifier.bias']\n",
      "You should probably TRAIN this model on a down-stream task to be able to use it for predictions and inference.\n",
      "Some weights of the model checkpoint at ai4bharat/indic-bert were not used when initializing AlbertForSequenceClassification: ['predictions.bias', 'predictions.LayerNorm.weight', 'predictions.LayerNorm.bias', 'predictions.dense.weight', 'predictions.dense.bias', 'predictions.decoder.weight', 'predictions.decoder.bias', 'sop_classifier.classifier.weight', 'sop_classifier.classifier.bias']\n",
      "- This IS expected if you are initializing AlbertForSequenceClassification from the checkpoint of a model trained on another task or with another architecture (e.g. initializing a BertForSequenceClassification model from a BertForPreTraining model).\n",
      "- This IS NOT expected if you are initializing AlbertForSequenceClassification from the checkpoint of a model that you expect to be exactly identical (initializing a BertForSequenceClassification model from a BertForSequenceClassification model).\n",
      "Some weights of AlbertForSequenceClassification were not initialized from the model checkpoint at ai4bharat/indic-bert and are newly initialized: ['classifier.weight', 'classifier.bias']\n",
      "You should probably TRAIN this model on a down-stream task to be able to use it for predictions and inference.\n"
     ]
    }
   ],
   "source": [
    "tc_trainer_instance = text_classification_trainer(hparams)\n",
    "checkpoints = list(sorted(glob.glob(os.path.join(hparams['output_dir'], 'checkpointepoch=*.ckpt'), recursive=True)))\n",
    "trained_model = tc_trainer_instance.load_from_checkpoint(checkpoints[-1])"
   ]
  },
  {
   "cell_type": "code",
   "execution_count": 15,
   "metadata": {
    "scrolled": true
   },
   "outputs": [
    {
     "name": "stderr",
     "output_type": "stream",
     "text": [
      "/usr/local/lib/python3.6/dist-packages/pytorch_lightning/utilities/distributed.py:25: UserWarning: Checkpoint directory ../outputs/3/amrita-paraphrase-exact/train-ta/model-ai4bharat-indic-bert exists and is not empty with save_top_k != 0.All files in this directory will be deleted when a checkpoint is saved!\n",
      "  warnings.warn(*args, **kwargs)\n",
      "GPU available: True, used: True\n",
      "TPU available: False, using: 0 TPU cores\n",
      "CUDA_VISIBLE_DEVICES: [0]\n"
     ]
    }
   ],
   "source": [
    "trainer = base.create_trainer(trained_model, hparams) #BaseModule(hparams)"
   ]
  },
  {
   "cell_type": "code",
   "execution_count": 16,
   "metadata": {},
   "outputs": [
    {
     "name": "stderr",
     "output_type": "stream",
     "text": [
      "/usr/local/lib/python3.6/dist-packages/pytorch_lightning/utilities/distributed.py:25: UserWarning: The dataloader, test dataloader 0, does not have many workers which may be a bottleneck. Consider increasing the value of the `num_workers` argument` (try 12 which is the number of cpus on this machine) in the `DataLoader` init to improve performance.\n",
      "  warnings.warn(*args, **kwargs)\n"
     ]
    },
    {
     "data": {
      "application/vnd.jupyter.widget-view+json": {
       "model_id": "6eddfad7935b4bed906b5b02f69eb996",
       "version_major": 2,
       "version_minor": 0
      },
      "text/plain": [
       "HBox(children=(FloatProgress(value=1.0, bar_style='info', description='Testing', layout=Layout(flex='2'), max=…"
      ]
     },
     "metadata": {},
     "output_type": "display_data"
    },
    {
     "name": "stdout",
     "output_type": "stream",
     "text": [
      "Logits written to :../outputs/3/amrita-paraphrase-exact/train-ta/model-ai4bharat-indic-bert/test_results_ta.csv\n",
      "--------------------------------------------------------------------------------\n",
      "TEST RESULTS\n",
      "{'acc': 0.594,\n",
      " 'avg_test_loss': 1.5797350406646729,\n",
      " 'val_loss': 1.5797350406646729}\n",
      "--------------------------------------------------------------------------------\n",
      "{'avg_test_loss': 1.5797350406646729, 'val_loss': 1.5797350406646729, 'acc': 0.594}\n",
      "\n"
     ]
    }
   ],
   "source": [
    "trainer.test(trained_model)"
   ]
  },
  {
   "cell_type": "markdown",
   "metadata": {},
   "source": [
    "## Load the scores for mBART translations."
   ]
  },
  {
   "cell_type": "code",
   "execution_count": 17,
   "metadata": {},
   "outputs": [
    {
     "data": {
      "text/plain": [
       "'../outputs/3/amrita-paraphrase-exact/train-ta/model-ai4bharat-indic-bert/test_results_ta.csv'"
      ]
     },
     "execution_count": 17,
     "metadata": {},
     "output_type": "execute_result"
    }
   ],
   "source": [
    "hparams['results_file'] = '{}{}/train-{}/model-ai4bharat-indic-bert/test_results_{}.csv'.format(hparams['out_dir'],  hparams['dataset'] , hparams['lang'] , hparams['lang']) \n",
    "hparams['results_file']"
   ]
  },
  {
   "cell_type": "code",
   "execution_count": 18,
   "metadata": {},
   "outputs": [],
   "source": [
    "mbart = pd.read_csv(hparams['results_file'], header=None)"
   ]
  },
  {
   "cell_type": "code",
   "execution_count": 19,
   "metadata": {},
   "outputs": [
    {
     "data": {
      "text/plain": [
       "(1000, 4)"
      ]
     },
     "execution_count": 19,
     "metadata": {},
     "output_type": "execute_result"
    }
   ],
   "source": [
    "mbart.shape"
   ]
  },
  {
   "cell_type": "code",
   "execution_count": 20,
   "metadata": {},
   "outputs": [
    {
     "data": {
      "text/html": [
       "<div>\n",
       "<style scoped>\n",
       "    .dataframe tbody tr th:only-of-type {\n",
       "        vertical-align: middle;\n",
       "    }\n",
       "\n",
       "    .dataframe tbody tr th {\n",
       "        vertical-align: top;\n",
       "    }\n",
       "\n",
       "    .dataframe thead th {\n",
       "        text-align: right;\n",
       "    }\n",
       "</style>\n",
       "<table border=\"1\" class=\"dataframe\">\n",
       "  <thead>\n",
       "    <tr style=\"text-align: right;\">\n",
       "      <th></th>\n",
       "      <th>0</th>\n",
       "      <th>1</th>\n",
       "      <th>2</th>\n",
       "      <th>3</th>\n",
       "    </tr>\n",
       "  </thead>\n",
       "  <tbody>\n",
       "    <tr>\n",
       "      <th>0</th>\n",
       "      <td>-0.129751</td>\n",
       "      <td>0.201876</td>\n",
       "      <td>1.0</td>\n",
       "      <td>1.0</td>\n",
       "    </tr>\n",
       "    <tr>\n",
       "      <th>1</th>\n",
       "      <td>1.858723</td>\n",
       "      <td>-2.035915</td>\n",
       "      <td>0.0</td>\n",
       "      <td>1.0</td>\n",
       "    </tr>\n",
       "    <tr>\n",
       "      <th>2</th>\n",
       "      <td>-0.164003</td>\n",
       "      <td>0.236660</td>\n",
       "      <td>1.0</td>\n",
       "      <td>1.0</td>\n",
       "    </tr>\n",
       "    <tr>\n",
       "      <th>3</th>\n",
       "      <td>-0.170018</td>\n",
       "      <td>0.243252</td>\n",
       "      <td>1.0</td>\n",
       "      <td>1.0</td>\n",
       "    </tr>\n",
       "    <tr>\n",
       "      <th>4</th>\n",
       "      <td>-0.093489</td>\n",
       "      <td>0.150331</td>\n",
       "      <td>1.0</td>\n",
       "      <td>1.0</td>\n",
       "    </tr>\n",
       "  </tbody>\n",
       "</table>\n",
       "</div>"
      ],
      "text/plain": [
       "          0         1    2    3\n",
       "0 -0.129751  0.201876  1.0  1.0\n",
       "1  1.858723 -2.035915  0.0  1.0\n",
       "2 -0.164003  0.236660  1.0  1.0\n",
       "3 -0.170018  0.243252  1.0  1.0\n",
       "4 -0.093489  0.150331  1.0  1.0"
      ]
     },
     "execution_count": 20,
     "metadata": {},
     "output_type": "execute_result"
    }
   ],
   "source": [
    "mbart.head(5)"
   ]
  },
  {
   "cell_type": "markdown",
   "metadata": {},
   "source": [
    "## Step 3 - Score IndicTrans Tamil"
   ]
  },
  {
   "cell_type": "code",
   "execution_count": 21,
   "metadata": {},
   "outputs": [],
   "source": [
    "! rm ../indic-glue/amrita-paraphrase-exact/cached*"
   ]
  },
  {
   "cell_type": "code",
   "execution_count": 22,
   "metadata": {},
   "outputs": [],
   "source": [
    "!cp ../indic-glue/amrita-paraphrase-exact/ta/ta-indictrans-test.csv ../indic-glue/amrita-paraphrase-exact/ta/ta-test.csv \n"
   ]
  },
  {
   "cell_type": "code",
   "execution_count": 23,
   "metadata": {},
   "outputs": [
    {
     "data": {
      "text/plain": [
       "(1000, 3)"
      ]
     },
     "execution_count": 23,
     "metadata": {},
     "output_type": "execute_result"
    }
   ],
   "source": [
    "## Check if you have the right file\n",
    "mbart_test = pd.read_csv('../indic-glue/amrita-paraphrase-exact/ta/ta-test.csv', header=None)\n",
    "mbart_test.shape"
   ]
  },
  {
   "cell_type": "code",
   "execution_count": 24,
   "metadata": {},
   "outputs": [
    {
     "data": {
      "text/plain": [
       "fine_tune.modules.text_classification.TextClassification"
      ]
     },
     "execution_count": 24,
     "metadata": {},
     "output_type": "execute_result"
    }
   ],
   "source": [
    "# module_name = 'text_classification'\n",
    "\n",
    "text_classification_trainer = get_modules('text_classification')\n",
    "text_classification_trainer"
   ]
  },
  {
   "cell_type": "code",
   "execution_count": 25,
   "metadata": {
    "scrolled": true
   },
   "outputs": [
    {
     "name": "stderr",
     "output_type": "stream",
     "text": [
      "Some weights of the model checkpoint at ai4bharat/indic-bert were not used when initializing AlbertForSequenceClassification: ['predictions.bias', 'predictions.LayerNorm.weight', 'predictions.LayerNorm.bias', 'predictions.dense.weight', 'predictions.dense.bias', 'predictions.decoder.weight', 'predictions.decoder.bias', 'sop_classifier.classifier.weight', 'sop_classifier.classifier.bias']\n",
      "- This IS expected if you are initializing AlbertForSequenceClassification from the checkpoint of a model trained on another task or with another architecture (e.g. initializing a BertForSequenceClassification model from a BertForPreTraining model).\n",
      "- This IS NOT expected if you are initializing AlbertForSequenceClassification from the checkpoint of a model that you expect to be exactly identical (initializing a BertForSequenceClassification model from a BertForSequenceClassification model).\n",
      "Some weights of AlbertForSequenceClassification were not initialized from the model checkpoint at ai4bharat/indic-bert and are newly initialized: ['classifier.weight', 'classifier.bias']\n",
      "You should probably TRAIN this model on a down-stream task to be able to use it for predictions and inference.\n",
      "Some weights of the model checkpoint at ai4bharat/indic-bert were not used when initializing AlbertForSequenceClassification: ['predictions.bias', 'predictions.LayerNorm.weight', 'predictions.LayerNorm.bias', 'predictions.dense.weight', 'predictions.dense.bias', 'predictions.decoder.weight', 'predictions.decoder.bias', 'sop_classifier.classifier.weight', 'sop_classifier.classifier.bias']\n",
      "- This IS expected if you are initializing AlbertForSequenceClassification from the checkpoint of a model trained on another task or with another architecture (e.g. initializing a BertForSequenceClassification model from a BertForPreTraining model).\n",
      "- This IS NOT expected if you are initializing AlbertForSequenceClassification from the checkpoint of a model that you expect to be exactly identical (initializing a BertForSequenceClassification model from a BertForSequenceClassification model).\n",
      "Some weights of AlbertForSequenceClassification were not initialized from the model checkpoint at ai4bharat/indic-bert and are newly initialized: ['classifier.weight', 'classifier.bias']\n",
      "You should probably TRAIN this model on a down-stream task to be able to use it for predictions and inference.\n"
     ]
    }
   ],
   "source": [
    "tc_trainer_instance = text_classification_trainer(hparams)\n",
    "checkpoints = list(sorted(glob.glob(os.path.join(hparams['output_dir'], 'checkpointepoch=*.ckpt'), recursive=True)))\n",
    "trained_model = tc_trainer_instance.load_from_checkpoint(checkpoints[-1])"
   ]
  },
  {
   "cell_type": "code",
   "execution_count": 26,
   "metadata": {
    "scrolled": true
   },
   "outputs": [
    {
     "name": "stderr",
     "output_type": "stream",
     "text": [
      "/usr/local/lib/python3.6/dist-packages/pytorch_lightning/utilities/distributed.py:25: UserWarning: Checkpoint directory ../outputs/3/amrita-paraphrase-exact/train-ta/model-ai4bharat-indic-bert exists and is not empty with save_top_k != 0.All files in this directory will be deleted when a checkpoint is saved!\n",
      "  warnings.warn(*args, **kwargs)\n",
      "GPU available: True, used: True\n",
      "TPU available: False, using: 0 TPU cores\n",
      "CUDA_VISIBLE_DEVICES: [0]\n"
     ]
    }
   ],
   "source": [
    "trainer = base.create_trainer(trained_model, hparams) #BaseModule(hparams)"
   ]
  },
  {
   "cell_type": "code",
   "execution_count": 27,
   "metadata": {
    "scrolled": true
   },
   "outputs": [
    {
     "name": "stderr",
     "output_type": "stream",
     "text": [
      "/usr/local/lib/python3.6/dist-packages/pytorch_lightning/utilities/distributed.py:25: UserWarning: The dataloader, test dataloader 0, does not have many workers which may be a bottleneck. Consider increasing the value of the `num_workers` argument` (try 12 which is the number of cpus on this machine) in the `DataLoader` init to improve performance.\n",
      "  warnings.warn(*args, **kwargs)\n"
     ]
    },
    {
     "data": {
      "application/vnd.jupyter.widget-view+json": {
       "model_id": "1c65304fd2154dcf8172ddc675ae08c6",
       "version_major": 2,
       "version_minor": 0
      },
      "text/plain": [
       "HBox(children=(FloatProgress(value=1.0, bar_style='info', description='Testing', layout=Layout(flex='2'), max=…"
      ]
     },
     "metadata": {},
     "output_type": "display_data"
    },
    {
     "name": "stdout",
     "output_type": "stream",
     "text": [
      "Logits written to :../outputs/3/amrita-paraphrase-exact/train-ta/model-ai4bharat-indic-bert/test_results_ta.csv\n",
      "--------------------------------------------------------------------------------\n",
      "TEST RESULTS\n",
      "{'acc': 0.346,\n",
      " 'avg_test_loss': 0.6001479029655457,\n",
      " 'val_loss': 0.6001479029655457}\n",
      "--------------------------------------------------------------------------------\n",
      "{'avg_test_loss': 0.6001479029655457, 'val_loss': 0.6001479029655457, 'acc': 0.346}\n",
      "\n"
     ]
    }
   ],
   "source": [
    "trainer.test(trained_model)"
   ]
  },
  {
   "cell_type": "markdown",
   "metadata": {},
   "source": [
    "## Load the scores for IndicTrans translations."
   ]
  },
  {
   "cell_type": "code",
   "execution_count": 28,
   "metadata": {},
   "outputs": [
    {
     "data": {
      "text/plain": [
       "'../outputs/3/amrita-paraphrase-exact/train-ta/model-ai4bharat-indic-bert/test_results_ta.csv'"
      ]
     },
     "execution_count": 28,
     "metadata": {},
     "output_type": "execute_result"
    }
   ],
   "source": [
    "hparams['results_file'] = '{}{}/train-{}/model-ai4bharat-indic-bert/test_results_{}.csv'.format(hparams['out_dir'],  hparams['dataset'] , hparams['lang'] , hparams['lang']) \n",
    "hparams['results_file']"
   ]
  },
  {
   "cell_type": "code",
   "execution_count": 29,
   "metadata": {},
   "outputs": [],
   "source": [
    "indictrans = pd.read_csv(hparams['results_file'], header=None)"
   ]
  },
  {
   "cell_type": "code",
   "execution_count": 30,
   "metadata": {},
   "outputs": [
    {
     "data": {
      "text/plain": [
       "(1000, 4)"
      ]
     },
     "execution_count": 30,
     "metadata": {},
     "output_type": "execute_result"
    }
   ],
   "source": [
    "indictrans.shape"
   ]
  },
  {
   "cell_type": "code",
   "execution_count": 31,
   "metadata": {},
   "outputs": [
    {
     "data": {
      "text/html": [
       "<div>\n",
       "<style scoped>\n",
       "    .dataframe tbody tr th:only-of-type {\n",
       "        vertical-align: middle;\n",
       "    }\n",
       "\n",
       "    .dataframe tbody tr th {\n",
       "        vertical-align: top;\n",
       "    }\n",
       "\n",
       "    .dataframe thead th {\n",
       "        text-align: right;\n",
       "    }\n",
       "</style>\n",
       "<table border=\"1\" class=\"dataframe\">\n",
       "  <thead>\n",
       "    <tr style=\"text-align: right;\">\n",
       "      <th></th>\n",
       "      <th>0</th>\n",
       "      <th>1</th>\n",
       "      <th>2</th>\n",
       "      <th>3</th>\n",
       "    </tr>\n",
       "  </thead>\n",
       "  <tbody>\n",
       "    <tr>\n",
       "      <th>0</th>\n",
       "      <td>-0.138827</td>\n",
       "      <td>0.210006</td>\n",
       "      <td>1.0</td>\n",
       "      <td>0.0</td>\n",
       "    </tr>\n",
       "    <tr>\n",
       "      <th>1</th>\n",
       "      <td>1.857611</td>\n",
       "      <td>-2.018302</td>\n",
       "      <td>0.0</td>\n",
       "      <td>0.0</td>\n",
       "    </tr>\n",
       "    <tr>\n",
       "      <th>2</th>\n",
       "      <td>1.786160</td>\n",
       "      <td>-1.915916</td>\n",
       "      <td>0.0</td>\n",
       "      <td>0.0</td>\n",
       "    </tr>\n",
       "    <tr>\n",
       "      <th>3</th>\n",
       "      <td>-0.167744</td>\n",
       "      <td>0.239971</td>\n",
       "      <td>1.0</td>\n",
       "      <td>0.0</td>\n",
       "    </tr>\n",
       "    <tr>\n",
       "      <th>4</th>\n",
       "      <td>-0.104022</td>\n",
       "      <td>0.164458</td>\n",
       "      <td>1.0</td>\n",
       "      <td>0.0</td>\n",
       "    </tr>\n",
       "  </tbody>\n",
       "</table>\n",
       "</div>"
      ],
      "text/plain": [
       "          0         1    2    3\n",
       "0 -0.138827  0.210006  1.0  0.0\n",
       "1  1.857611 -2.018302  0.0  0.0\n",
       "2  1.786160 -1.915916  0.0  0.0\n",
       "3 -0.167744  0.239971  1.0  0.0\n",
       "4 -0.104022  0.164458  1.0  0.0"
      ]
     },
     "execution_count": 31,
     "metadata": {},
     "output_type": "execute_result"
    }
   ],
   "source": [
    "indictrans.head(5)"
   ]
  },
  {
   "cell_type": "markdown",
   "metadata": {},
   "source": [
    "## Step 4 -  Combine logits, original sentence, and translations"
   ]
  },
  {
   "cell_type": "code",
   "execution_count": 32,
   "metadata": {},
   "outputs": [],
   "source": [
    "indic_orig = pd.read_csv('../indic-glue/amrita-paraphrase-exact/ta/ta-indictrans-test.csv', header=None)"
   ]
  },
  {
   "cell_type": "code",
   "execution_count": 33,
   "metadata": {},
   "outputs": [
    {
     "data": {
      "text/html": [
       "<div>\n",
       "<style scoped>\n",
       "    .dataframe tbody tr th:only-of-type {\n",
       "        vertical-align: middle;\n",
       "    }\n",
       "\n",
       "    .dataframe tbody tr th {\n",
       "        vertical-align: top;\n",
       "    }\n",
       "\n",
       "    .dataframe thead th {\n",
       "        text-align: right;\n",
       "    }\n",
       "</style>\n",
       "<table border=\"1\" class=\"dataframe\">\n",
       "  <thead>\n",
       "    <tr style=\"text-align: right;\">\n",
       "      <th></th>\n",
       "      <th>0</th>\n",
       "      <th>1</th>\n",
       "      <th>2</th>\n",
       "    </tr>\n",
       "  </thead>\n",
       "  <tbody>\n",
       "    <tr>\n",
       "      <th>0</th>\n",
       "      <td>கோடிக்கணக்கான மக்களின் மனங்களிலும் மற்றும் இதய...</td>\n",
       "      <td>கோடிக்கணக்கான மக்களின் மனதிலும் இதயத்திலும் வி...</td>\n",
       "      <td>NP</td>\n",
       "    </tr>\n",
       "    <tr>\n",
       "      <th>1</th>\n",
       "      <td>பீஜப்பூர் பகுதியில் இந்த நிகழ்ச்சியை நடத்துவதன...</td>\n",
       "      <td>\"பீஜப்பூரில் இன்று இந்த நிகழ்ச்சியை நடத்துவதன்...</td>\n",
       "      <td>NP</td>\n",
       "    </tr>\n",
       "    <tr>\n",
       "      <th>2</th>\n",
       "      <td>இந்தப் பணியை 2022-ம் ஆண்டுக்குள் நிறைவேற்றுவதே...</td>\n",
       "      <td>இந்தப் பணியை 2022-க்குள் முடிக்க இலக்கு நிர்ணய...</td>\n",
       "      <td>NP</td>\n",
       "    </tr>\n",
       "    <tr>\n",
       "      <th>3</th>\n",
       "      <td>மத்திய அரசு பல்வேறு திட்டங்கைளை தெளிவான இலக்கு...</td>\n",
       "      <td>தெளிவான இலக்குகள் மற்றும் காலக்கெடுவுடன் பல்வே...</td>\n",
       "      <td>NP</td>\n",
       "    </tr>\n",
       "    <tr>\n",
       "      <th>4</th>\n",
       "      <td>இது தொடர்பாக ஜன் தன் கணக்குகள், ஏழை மக்களுக்கா...</td>\n",
       "      <td>\"இந்த சூழலில், ஜன் தன் கணக்குகளைத் தொடங்குதல்,...</td>\n",
       "      <td>NP</td>\n",
       "    </tr>\n",
       "  </tbody>\n",
       "</table>\n",
       "</div>"
      ],
      "text/plain": [
       "                                                   0  \\\n",
       "0  கோடிக்கணக்கான மக்களின் மனங்களிலும் மற்றும் இதய...   \n",
       "1  பீஜப்பூர் பகுதியில் இந்த நிகழ்ச்சியை நடத்துவதன...   \n",
       "2  இந்தப் பணியை 2022-ம் ஆண்டுக்குள் நிறைவேற்றுவதே...   \n",
       "3  மத்திய அரசு பல்வேறு திட்டங்கைளை தெளிவான இலக்கு...   \n",
       "4  இது தொடர்பாக ஜன் தன் கணக்குகள், ஏழை மக்களுக்கா...   \n",
       "\n",
       "                                                   1   2  \n",
       "0  கோடிக்கணக்கான மக்களின் மனதிலும் இதயத்திலும் வி...  NP  \n",
       "1  \"பீஜப்பூரில் இன்று இந்த நிகழ்ச்சியை நடத்துவதன்...  NP  \n",
       "2  இந்தப் பணியை 2022-க்குள் முடிக்க இலக்கு நிர்ணய...  NP  \n",
       "3  தெளிவான இலக்குகள் மற்றும் காலக்கெடுவுடன் பல்வே...  NP  \n",
       "4  \"இந்த சூழலில், ஜன் தன் கணக்குகளைத் தொடங்குதல்,...  NP  "
      ]
     },
     "execution_count": 33,
     "metadata": {},
     "output_type": "execute_result"
    }
   ],
   "source": [
    "indic_orig.head()"
   ]
  },
  {
   "cell_type": "code",
   "execution_count": 34,
   "metadata": {},
   "outputs": [],
   "source": [
    "bart_orig = pd.read_csv('../indic-glue/amrita-paraphrase-exact/ta/ta-bart-test.csv', header=None)"
   ]
  },
  {
   "cell_type": "code",
   "execution_count": 35,
   "metadata": {},
   "outputs": [
    {
     "data": {
      "text/html": [
       "<div>\n",
       "<style scoped>\n",
       "    .dataframe tbody tr th:only-of-type {\n",
       "        vertical-align: middle;\n",
       "    }\n",
       "\n",
       "    .dataframe tbody tr th {\n",
       "        vertical-align: top;\n",
       "    }\n",
       "\n",
       "    .dataframe thead th {\n",
       "        text-align: right;\n",
       "    }\n",
       "</style>\n",
       "<table border=\"1\" class=\"dataframe\">\n",
       "  <thead>\n",
       "    <tr style=\"text-align: right;\">\n",
       "      <th></th>\n",
       "      <th>0</th>\n",
       "      <th>1</th>\n",
       "      <th>2</th>\n",
       "    </tr>\n",
       "  </thead>\n",
       "  <tbody>\n",
       "    <tr>\n",
       "      <th>0</th>\n",
       "      <td>கோடிக்கணக்கான மக்களின் மனங்களிலும் மற்றும் இதய...</td>\n",
       "      <td>கோடிக்கணக்கான மக்களின் இதயங்களிலும், மனங்களிலு...</td>\n",
       "      <td>P</td>\n",
       "    </tr>\n",
       "    <tr>\n",
       "      <th>1</th>\n",
       "      <td>பீஜப்பூர் பகுதியில் இந்த நிகழ்ச்சியை நடத்துவதன...</td>\n",
       "      <td>இந்த நிகழ்ச்சியை இன்று பிஜப்பூர் நகரில் நடத்து...</td>\n",
       "      <td>P</td>\n",
       "    </tr>\n",
       "    <tr>\n",
       "      <th>2</th>\n",
       "      <td>இந்தப் பணியை 2022-ம் ஆண்டுக்குள் நிறைவேற்றுவதே...</td>\n",
       "      <td>2022-ம் ஆண்டுக்குள் இந்த பணியை நிறைவேற்றுவதை ந...</td>\n",
       "      <td>P</td>\n",
       "    </tr>\n",
       "    <tr>\n",
       "      <th>3</th>\n",
       "      <td>மத்திய அரசு பல்வேறு திட்டங்கைளை தெளிவான இலக்கு...</td>\n",
       "      <td>தெளிவான இலக்குகள் மற்றும் காலக்கெடுகளுடன் பல்வ...</td>\n",
       "      <td>P</td>\n",
       "    </tr>\n",
       "    <tr>\n",
       "      <th>4</th>\n",
       "      <td>இது தொடர்பாக ஜன் தன் கணக்குகள், ஏழை மக்களுக்கா...</td>\n",
       "      <td>இந்த வகையில் ஜன் தன் கணக்குகள், ஏழைகளுக்கு காப...</td>\n",
       "      <td>P</td>\n",
       "    </tr>\n",
       "  </tbody>\n",
       "</table>\n",
       "</div>"
      ],
      "text/plain": [
       "                                                   0  \\\n",
       "0  கோடிக்கணக்கான மக்களின் மனங்களிலும் மற்றும் இதய...   \n",
       "1  பீஜப்பூர் பகுதியில் இந்த நிகழ்ச்சியை நடத்துவதன...   \n",
       "2  இந்தப் பணியை 2022-ம் ஆண்டுக்குள் நிறைவேற்றுவதே...   \n",
       "3  மத்திய அரசு பல்வேறு திட்டங்கைளை தெளிவான இலக்கு...   \n",
       "4  இது தொடர்பாக ஜன் தன் கணக்குகள், ஏழை மக்களுக்கா...   \n",
       "\n",
       "                                                   1  2  \n",
       "0  கோடிக்கணக்கான மக்களின் இதயங்களிலும், மனங்களிலு...  P  \n",
       "1  இந்த நிகழ்ச்சியை இன்று பிஜப்பூர் நகரில் நடத்து...  P  \n",
       "2  2022-ம் ஆண்டுக்குள் இந்த பணியை நிறைவேற்றுவதை ந...  P  \n",
       "3  தெளிவான இலக்குகள் மற்றும் காலக்கெடுகளுடன் பல்வ...  P  \n",
       "4  இந்த வகையில் ஜன் தன் கணக்குகள், ஏழைகளுக்கு காப...  P  "
      ]
     },
     "execution_count": 35,
     "metadata": {},
     "output_type": "execute_result"
    }
   ],
   "source": [
    "bart_orig.head()"
   ]
  },
  {
   "cell_type": "code",
   "execution_count": 36,
   "metadata": {},
   "outputs": [],
   "source": [
    "combined = bart_orig[[0, 1]]"
   ]
  },
  {
   "cell_type": "code",
   "execution_count": 37,
   "metadata": {},
   "outputs": [],
   "source": [
    "combined.columns =['Original_Sentence', 'mBART_Translated', ]"
   ]
  },
  {
   "cell_type": "code",
   "execution_count": 38,
   "metadata": {},
   "outputs": [],
   "source": [
    "combined['IndicTrans_Translated'] = indic_orig[[1]]"
   ]
  },
  {
   "cell_type": "code",
   "execution_count": 39,
   "metadata": {},
   "outputs": [
    {
     "data": {
      "text/html": [
       "<div>\n",
       "<style scoped>\n",
       "    .dataframe tbody tr th:only-of-type {\n",
       "        vertical-align: middle;\n",
       "    }\n",
       "\n",
       "    .dataframe tbody tr th {\n",
       "        vertical-align: top;\n",
       "    }\n",
       "\n",
       "    .dataframe thead th {\n",
       "        text-align: right;\n",
       "    }\n",
       "</style>\n",
       "<table border=\"1\" class=\"dataframe\">\n",
       "  <thead>\n",
       "    <tr style=\"text-align: right;\">\n",
       "      <th></th>\n",
       "      <th>Original_Sentence</th>\n",
       "      <th>mBART_Translated</th>\n",
       "      <th>IndicTrans_Translated</th>\n",
       "    </tr>\n",
       "  </thead>\n",
       "  <tbody>\n",
       "    <tr>\n",
       "      <th>0</th>\n",
       "      <td>கோடிக்கணக்கான மக்களின் மனங்களிலும் மற்றும் இதய...</td>\n",
       "      <td>கோடிக்கணக்கான மக்களின் இதயங்களிலும், மனங்களிலு...</td>\n",
       "      <td>கோடிக்கணக்கான மக்களின் மனதிலும் இதயத்திலும் வி...</td>\n",
       "    </tr>\n",
       "    <tr>\n",
       "      <th>1</th>\n",
       "      <td>பீஜப்பூர் பகுதியில் இந்த நிகழ்ச்சியை நடத்துவதன...</td>\n",
       "      <td>இந்த நிகழ்ச்சியை இன்று பிஜப்பூர் நகரில் நடத்து...</td>\n",
       "      <td>\"பீஜப்பூரில் இன்று இந்த நிகழ்ச்சியை நடத்துவதன்...</td>\n",
       "    </tr>\n",
       "    <tr>\n",
       "      <th>2</th>\n",
       "      <td>இந்தப் பணியை 2022-ம் ஆண்டுக்குள் நிறைவேற்றுவதே...</td>\n",
       "      <td>2022-ம் ஆண்டுக்குள் இந்த பணியை நிறைவேற்றுவதை ந...</td>\n",
       "      <td>இந்தப் பணியை 2022-க்குள் முடிக்க இலக்கு நிர்ணய...</td>\n",
       "    </tr>\n",
       "    <tr>\n",
       "      <th>3</th>\n",
       "      <td>மத்திய அரசு பல்வேறு திட்டங்கைளை தெளிவான இலக்கு...</td>\n",
       "      <td>தெளிவான இலக்குகள் மற்றும் காலக்கெடுகளுடன் பல்வ...</td>\n",
       "      <td>தெளிவான இலக்குகள் மற்றும் காலக்கெடுவுடன் பல்வே...</td>\n",
       "    </tr>\n",
       "    <tr>\n",
       "      <th>4</th>\n",
       "      <td>இது தொடர்பாக ஜன் தன் கணக்குகள், ஏழை மக்களுக்கா...</td>\n",
       "      <td>இந்த வகையில் ஜன் தன் கணக்குகள், ஏழைகளுக்கு காப...</td>\n",
       "      <td>\"இந்த சூழலில், ஜன் தன் கணக்குகளைத் தொடங்குதல்,...</td>\n",
       "    </tr>\n",
       "  </tbody>\n",
       "</table>\n",
       "</div>"
      ],
      "text/plain": [
       "                                   Original_Sentence  \\\n",
       "0  கோடிக்கணக்கான மக்களின் மனங்களிலும் மற்றும் இதய...   \n",
       "1  பீஜப்பூர் பகுதியில் இந்த நிகழ்ச்சியை நடத்துவதன...   \n",
       "2  இந்தப் பணியை 2022-ம் ஆண்டுக்குள் நிறைவேற்றுவதே...   \n",
       "3  மத்திய அரசு பல்வேறு திட்டங்கைளை தெளிவான இலக்கு...   \n",
       "4  இது தொடர்பாக ஜன் தன் கணக்குகள், ஏழை மக்களுக்கா...   \n",
       "\n",
       "                                    mBART_Translated  \\\n",
       "0  கோடிக்கணக்கான மக்களின் இதயங்களிலும், மனங்களிலு...   \n",
       "1  இந்த நிகழ்ச்சியை இன்று பிஜப்பூர் நகரில் நடத்து...   \n",
       "2  2022-ம் ஆண்டுக்குள் இந்த பணியை நிறைவேற்றுவதை ந...   \n",
       "3  தெளிவான இலக்குகள் மற்றும் காலக்கெடுகளுடன் பல்வ...   \n",
       "4  இந்த வகையில் ஜன் தன் கணக்குகள், ஏழைகளுக்கு காப...   \n",
       "\n",
       "                               IndicTrans_Translated  \n",
       "0  கோடிக்கணக்கான மக்களின் மனதிலும் இதயத்திலும் வி...  \n",
       "1  \"பீஜப்பூரில் இன்று இந்த நிகழ்ச்சியை நடத்துவதன்...  \n",
       "2  இந்தப் பணியை 2022-க்குள் முடிக்க இலக்கு நிர்ணய...  \n",
       "3  தெளிவான இலக்குகள் மற்றும் காலக்கெடுவுடன் பல்வே...  \n",
       "4  \"இந்த சூழலில், ஜன் தன் கணக்குகளைத் தொடங்குதல்,...  "
      ]
     },
     "execution_count": 39,
     "metadata": {},
     "output_type": "execute_result"
    }
   ],
   "source": [
    "combined.head()"
   ]
  },
  {
   "cell_type": "markdown",
   "metadata": {},
   "source": [
    "### Step 5 - `apply_softmax`"
   ]
  },
  {
   "cell_type": "code",
   "execution_count": 41,
   "metadata": {},
   "outputs": [],
   "source": [
    "combined['mBART_NP_prob'] = mbart[[0]]\n",
    "combined['mBART_P_prob'] = mbart[[1]]\n",
    "combined['model_pred_mbart'] = ['NP' if x==0 else 'P' for x in mbart[2]]\n",
    "combined['mbart_P'] = apply_softmax(mbart, 0)\n",
    "combined['mbart_NP'] = apply_softmax(mbart, 1)"
   ]
  },
  {
   "cell_type": "code",
   "execution_count": 42,
   "metadata": {
    "scrolled": true
   },
   "outputs": [
    {
     "data": {
      "text/html": [
       "<div>\n",
       "<style scoped>\n",
       "    .dataframe tbody tr th:only-of-type {\n",
       "        vertical-align: middle;\n",
       "    }\n",
       "\n",
       "    .dataframe tbody tr th {\n",
       "        vertical-align: top;\n",
       "    }\n",
       "\n",
       "    .dataframe thead th {\n",
       "        text-align: right;\n",
       "    }\n",
       "</style>\n",
       "<table border=\"1\" class=\"dataframe\">\n",
       "  <thead>\n",
       "    <tr style=\"text-align: right;\">\n",
       "      <th></th>\n",
       "      <th>Original_Sentence</th>\n",
       "      <th>mBART_Translated</th>\n",
       "      <th>IndicTrans_Translated</th>\n",
       "      <th>mBART_NP_prob</th>\n",
       "      <th>mBART_P_prob</th>\n",
       "      <th>model_pred_mbart</th>\n",
       "      <th>mbart_P</th>\n",
       "      <th>mbart_NP</th>\n",
       "    </tr>\n",
       "  </thead>\n",
       "  <tbody>\n",
       "    <tr>\n",
       "      <th>0</th>\n",
       "      <td>கோடிக்கணக்கான மக்களின் மனங்களிலும் மற்றும் இதய...</td>\n",
       "      <td>கோடிக்கணக்கான மக்களின் இதயங்களிலும், மனங்களிலு...</td>\n",
       "      <td>கோடிக்கணக்கான மக்களின் மனதிலும் இதயத்திலும் வி...</td>\n",
       "      <td>-0.129751</td>\n",
       "      <td>0.201876</td>\n",
       "      <td>P</td>\n",
       "      <td>0.582155</td>\n",
       "      <td>0.417845</td>\n",
       "    </tr>\n",
       "    <tr>\n",
       "      <th>1</th>\n",
       "      <td>பீஜப்பூர் பகுதியில் இந்த நிகழ்ச்சியை நடத்துவதன...</td>\n",
       "      <td>இந்த நிகழ்ச்சியை இன்று பிஜப்பூர் நகரில் நடத்து...</td>\n",
       "      <td>\"பீஜப்பூரில் இன்று இந்த நிகழ்ச்சியை நடத்துவதன்...</td>\n",
       "      <td>1.858723</td>\n",
       "      <td>-2.035915</td>\n",
       "      <td>NP</td>\n",
       "      <td>0.019945</td>\n",
       "      <td>0.980055</td>\n",
       "    </tr>\n",
       "    <tr>\n",
       "      <th>2</th>\n",
       "      <td>இந்தப் பணியை 2022-ம் ஆண்டுக்குள் நிறைவேற்றுவதே...</td>\n",
       "      <td>2022-ம் ஆண்டுக்குள் இந்த பணியை நிறைவேற்றுவதை ந...</td>\n",
       "      <td>இந்தப் பணியை 2022-க்குள் முடிக்க இலக்கு நிர்ணய...</td>\n",
       "      <td>-0.164003</td>\n",
       "      <td>0.236660</td>\n",
       "      <td>P</td>\n",
       "      <td>0.598847</td>\n",
       "      <td>0.401153</td>\n",
       "    </tr>\n",
       "    <tr>\n",
       "      <th>3</th>\n",
       "      <td>மத்திய அரசு பல்வேறு திட்டங்கைளை தெளிவான இலக்கு...</td>\n",
       "      <td>தெளிவான இலக்குகள் மற்றும் காலக்கெடுகளுடன் பல்வ...</td>\n",
       "      <td>தெளிவான இலக்குகள் மற்றும் காலக்கெடுவுடன் பல்வே...</td>\n",
       "      <td>-0.170018</td>\n",
       "      <td>0.243252</td>\n",
       "      <td>P</td>\n",
       "      <td>0.601872</td>\n",
       "      <td>0.398128</td>\n",
       "    </tr>\n",
       "    <tr>\n",
       "      <th>4</th>\n",
       "      <td>இது தொடர்பாக ஜன் தன் கணக்குகள், ஏழை மக்களுக்கா...</td>\n",
       "      <td>இந்த வகையில் ஜன் தன் கணக்குகள், ஏழைகளுக்கு காப...</td>\n",
       "      <td>\"இந்த சூழலில், ஜன் தன் கணக்குகளைத் தொடங்குதல்,...</td>\n",
       "      <td>-0.093489</td>\n",
       "      <td>0.150331</td>\n",
       "      <td>P</td>\n",
       "      <td>0.560655</td>\n",
       "      <td>0.439345</td>\n",
       "    </tr>\n",
       "  </tbody>\n",
       "</table>\n",
       "</div>"
      ],
      "text/plain": [
       "                                   Original_Sentence  \\\n",
       "0  கோடிக்கணக்கான மக்களின் மனங்களிலும் மற்றும் இதய...   \n",
       "1  பீஜப்பூர் பகுதியில் இந்த நிகழ்ச்சியை நடத்துவதன...   \n",
       "2  இந்தப் பணியை 2022-ம் ஆண்டுக்குள் நிறைவேற்றுவதே...   \n",
       "3  மத்திய அரசு பல்வேறு திட்டங்கைளை தெளிவான இலக்கு...   \n",
       "4  இது தொடர்பாக ஜன் தன் கணக்குகள், ஏழை மக்களுக்கா...   \n",
       "\n",
       "                                    mBART_Translated  \\\n",
       "0  கோடிக்கணக்கான மக்களின் இதயங்களிலும், மனங்களிலு...   \n",
       "1  இந்த நிகழ்ச்சியை இன்று பிஜப்பூர் நகரில் நடத்து...   \n",
       "2  2022-ம் ஆண்டுக்குள் இந்த பணியை நிறைவேற்றுவதை ந...   \n",
       "3  தெளிவான இலக்குகள் மற்றும் காலக்கெடுகளுடன் பல்வ...   \n",
       "4  இந்த வகையில் ஜன் தன் கணக்குகள், ஏழைகளுக்கு காப...   \n",
       "\n",
       "                               IndicTrans_Translated  mBART_NP_prob  \\\n",
       "0  கோடிக்கணக்கான மக்களின் மனதிலும் இதயத்திலும் வி...      -0.129751   \n",
       "1  \"பீஜப்பூரில் இன்று இந்த நிகழ்ச்சியை நடத்துவதன்...       1.858723   \n",
       "2  இந்தப் பணியை 2022-க்குள் முடிக்க இலக்கு நிர்ணய...      -0.164003   \n",
       "3  தெளிவான இலக்குகள் மற்றும் காலக்கெடுவுடன் பல்வே...      -0.170018   \n",
       "4  \"இந்த சூழலில், ஜன் தன் கணக்குகளைத் தொடங்குதல்,...      -0.093489   \n",
       "\n",
       "   mBART_P_prob model_pred_mbart   mbart_P  mbart_NP  \n",
       "0      0.201876                P  0.582155  0.417845  \n",
       "1     -2.035915               NP  0.019945  0.980055  \n",
       "2      0.236660                P  0.598847  0.401153  \n",
       "3      0.243252                P  0.601872  0.398128  \n",
       "4      0.150331                P  0.560655  0.439345  "
      ]
     },
     "execution_count": 42,
     "metadata": {},
     "output_type": "execute_result"
    }
   ],
   "source": [
    "combined.head()"
   ]
  },
  {
   "cell_type": "code",
   "execution_count": 43,
   "metadata": {},
   "outputs": [],
   "source": [
    "combined['IndicT_NP_prob'] = indictrans[[0]]\n",
    "combined['IndicT_P_prob'] = indictrans[[1]]\n",
    "combined['model_pred_IndicT'] = ['NP' if x==0 else 'P' for x in indictrans[2]]\n",
    "combined['indicT_P'] = apply_softmax(indictrans, 0)\n",
    "combined['indicT_NP'] = apply_softmax(indictrans, 1)"
   ]
  },
  {
   "cell_type": "code",
   "execution_count": 44,
   "metadata": {},
   "outputs": [
    {
     "data": {
      "text/html": [
       "<div>\n",
       "<style scoped>\n",
       "    .dataframe tbody tr th:only-of-type {\n",
       "        vertical-align: middle;\n",
       "    }\n",
       "\n",
       "    .dataframe tbody tr th {\n",
       "        vertical-align: top;\n",
       "    }\n",
       "\n",
       "    .dataframe thead th {\n",
       "        text-align: right;\n",
       "    }\n",
       "</style>\n",
       "<table border=\"1\" class=\"dataframe\">\n",
       "  <thead>\n",
       "    <tr style=\"text-align: right;\">\n",
       "      <th></th>\n",
       "      <th>Original_Sentence</th>\n",
       "      <th>mBART_Translated</th>\n",
       "      <th>IndicTrans_Translated</th>\n",
       "      <th>mBART_NP_prob</th>\n",
       "      <th>mBART_P_prob</th>\n",
       "      <th>model_pred_mbart</th>\n",
       "      <th>mbart_P</th>\n",
       "      <th>mbart_NP</th>\n",
       "      <th>IndicT_NP_prob</th>\n",
       "      <th>IndicT_P_prob</th>\n",
       "      <th>model_pred_IndicT</th>\n",
       "      <th>indicT_P</th>\n",
       "      <th>indicT_NP</th>\n",
       "    </tr>\n",
       "  </thead>\n",
       "  <tbody>\n",
       "    <tr>\n",
       "      <th>0</th>\n",
       "      <td>கோடிக்கணக்கான மக்களின் மனங்களிலும் மற்றும் இதய...</td>\n",
       "      <td>கோடிக்கணக்கான மக்களின் இதயங்களிலும், மனங்களிலு...</td>\n",
       "      <td>கோடிக்கணக்கான மக்களின் மனதிலும் இதயத்திலும் வி...</td>\n",
       "      <td>-0.129751</td>\n",
       "      <td>0.201876</td>\n",
       "      <td>P</td>\n",
       "      <td>0.582155</td>\n",
       "      <td>0.417845</td>\n",
       "      <td>-0.138827</td>\n",
       "      <td>0.210006</td>\n",
       "      <td>P</td>\n",
       "      <td>0.586335</td>\n",
       "      <td>0.413665</td>\n",
       "    </tr>\n",
       "    <tr>\n",
       "      <th>1</th>\n",
       "      <td>பீஜப்பூர் பகுதியில் இந்த நிகழ்ச்சியை நடத்துவதன...</td>\n",
       "      <td>இந்த நிகழ்ச்சியை இன்று பிஜப்பூர் நகரில் நடத்து...</td>\n",
       "      <td>\"பீஜப்பூரில் இன்று இந்த நிகழ்ச்சியை நடத்துவதன்...</td>\n",
       "      <td>1.858723</td>\n",
       "      <td>-2.035915</td>\n",
       "      <td>NP</td>\n",
       "      <td>0.019945</td>\n",
       "      <td>0.980055</td>\n",
       "      <td>1.857611</td>\n",
       "      <td>-2.018302</td>\n",
       "      <td>NP</td>\n",
       "      <td>0.020314</td>\n",
       "      <td>0.979686</td>\n",
       "    </tr>\n",
       "    <tr>\n",
       "      <th>2</th>\n",
       "      <td>இந்தப் பணியை 2022-ம் ஆண்டுக்குள் நிறைவேற்றுவதே...</td>\n",
       "      <td>2022-ம் ஆண்டுக்குள் இந்த பணியை நிறைவேற்றுவதை ந...</td>\n",
       "      <td>இந்தப் பணியை 2022-க்குள் முடிக்க இலக்கு நிர்ணய...</td>\n",
       "      <td>-0.164003</td>\n",
       "      <td>0.236660</td>\n",
       "      <td>P</td>\n",
       "      <td>0.598847</td>\n",
       "      <td>0.401153</td>\n",
       "      <td>1.786160</td>\n",
       "      <td>-1.915916</td>\n",
       "      <td>NP</td>\n",
       "      <td>0.024078</td>\n",
       "      <td>0.975922</td>\n",
       "    </tr>\n",
       "    <tr>\n",
       "      <th>3</th>\n",
       "      <td>மத்திய அரசு பல்வேறு திட்டங்கைளை தெளிவான இலக்கு...</td>\n",
       "      <td>தெளிவான இலக்குகள் மற்றும் காலக்கெடுகளுடன் பல்வ...</td>\n",
       "      <td>தெளிவான இலக்குகள் மற்றும் காலக்கெடுவுடன் பல்வே...</td>\n",
       "      <td>-0.170018</td>\n",
       "      <td>0.243252</td>\n",
       "      <td>P</td>\n",
       "      <td>0.601872</td>\n",
       "      <td>0.398128</td>\n",
       "      <td>-0.167744</td>\n",
       "      <td>0.239971</td>\n",
       "      <td>P</td>\n",
       "      <td>0.600540</td>\n",
       "      <td>0.399460</td>\n",
       "    </tr>\n",
       "    <tr>\n",
       "      <th>4</th>\n",
       "      <td>இது தொடர்பாக ஜன் தன் கணக்குகள், ஏழை மக்களுக்கா...</td>\n",
       "      <td>இந்த வகையில் ஜன் தன் கணக்குகள், ஏழைகளுக்கு காப...</td>\n",
       "      <td>\"இந்த சூழலில், ஜன் தன் கணக்குகளைத் தொடங்குதல்,...</td>\n",
       "      <td>-0.093489</td>\n",
       "      <td>0.150331</td>\n",
       "      <td>P</td>\n",
       "      <td>0.560655</td>\n",
       "      <td>0.439345</td>\n",
       "      <td>-0.104022</td>\n",
       "      <td>0.164458</td>\n",
       "      <td>P</td>\n",
       "      <td>0.566720</td>\n",
       "      <td>0.433280</td>\n",
       "    </tr>\n",
       "  </tbody>\n",
       "</table>\n",
       "</div>"
      ],
      "text/plain": [
       "                                   Original_Sentence  \\\n",
       "0  கோடிக்கணக்கான மக்களின் மனங்களிலும் மற்றும் இதய...   \n",
       "1  பீஜப்பூர் பகுதியில் இந்த நிகழ்ச்சியை நடத்துவதன...   \n",
       "2  இந்தப் பணியை 2022-ம் ஆண்டுக்குள் நிறைவேற்றுவதே...   \n",
       "3  மத்திய அரசு பல்வேறு திட்டங்கைளை தெளிவான இலக்கு...   \n",
       "4  இது தொடர்பாக ஜன் தன் கணக்குகள், ஏழை மக்களுக்கா...   \n",
       "\n",
       "                                    mBART_Translated  \\\n",
       "0  கோடிக்கணக்கான மக்களின் இதயங்களிலும், மனங்களிலு...   \n",
       "1  இந்த நிகழ்ச்சியை இன்று பிஜப்பூர் நகரில் நடத்து...   \n",
       "2  2022-ம் ஆண்டுக்குள் இந்த பணியை நிறைவேற்றுவதை ந...   \n",
       "3  தெளிவான இலக்குகள் மற்றும் காலக்கெடுகளுடன் பல்வ...   \n",
       "4  இந்த வகையில் ஜன் தன் கணக்குகள், ஏழைகளுக்கு காப...   \n",
       "\n",
       "                               IndicTrans_Translated  mBART_NP_prob  \\\n",
       "0  கோடிக்கணக்கான மக்களின் மனதிலும் இதயத்திலும் வி...      -0.129751   \n",
       "1  \"பீஜப்பூரில் இன்று இந்த நிகழ்ச்சியை நடத்துவதன்...       1.858723   \n",
       "2  இந்தப் பணியை 2022-க்குள் முடிக்க இலக்கு நிர்ணய...      -0.164003   \n",
       "3  தெளிவான இலக்குகள் மற்றும் காலக்கெடுவுடன் பல்வே...      -0.170018   \n",
       "4  \"இந்த சூழலில், ஜன் தன் கணக்குகளைத் தொடங்குதல்,...      -0.093489   \n",
       "\n",
       "   mBART_P_prob model_pred_mbart   mbart_P  mbart_NP  IndicT_NP_prob  \\\n",
       "0      0.201876                P  0.582155  0.417845       -0.138827   \n",
       "1     -2.035915               NP  0.019945  0.980055        1.857611   \n",
       "2      0.236660                P  0.598847  0.401153        1.786160   \n",
       "3      0.243252                P  0.601872  0.398128       -0.167744   \n",
       "4      0.150331                P  0.560655  0.439345       -0.104022   \n",
       "\n",
       "   IndicT_P_prob model_pred_IndicT  indicT_P  indicT_NP  \n",
       "0       0.210006                 P  0.586335   0.413665  \n",
       "1      -2.018302                NP  0.020314   0.979686  \n",
       "2      -1.915916                NP  0.024078   0.975922  \n",
       "3       0.239971                 P  0.600540   0.399460  \n",
       "4       0.164458                 P  0.566720   0.433280  "
      ]
     },
     "execution_count": 44,
     "metadata": {},
     "output_type": "execute_result"
    }
   ],
   "source": [
    "combined.head()"
   ]
  },
  {
   "cell_type": "code",
   "execution_count": 45,
   "metadata": {},
   "outputs": [],
   "source": [
    "def select_trasnlation(row):\n",
    "    if row['indicT_P']>=row['mbart_P']:\n",
    "        return row['IndicTrans_Translated']\n",
    "    else:\n",
    "        return row['mBART_Translated']\n",
    "\n",
    "combined['selected_translation'] = combined.apply(lambda row : select_trasnlation(row), axis=1) "
   ]
  },
  {
   "cell_type": "code",
   "execution_count": 46,
   "metadata": {},
   "outputs": [],
   "source": [
    "combined['mBART_avg'] = combined.iloc[:,3:5].mean(axis=1)"
   ]
  },
  {
   "cell_type": "code",
   "execution_count": 47,
   "metadata": {},
   "outputs": [
    {
     "data": {
      "text/html": [
       "<div>\n",
       "<style scoped>\n",
       "    .dataframe tbody tr th:only-of-type {\n",
       "        vertical-align: middle;\n",
       "    }\n",
       "\n",
       "    .dataframe tbody tr th {\n",
       "        vertical-align: top;\n",
       "    }\n",
       "\n",
       "    .dataframe thead th {\n",
       "        text-align: right;\n",
       "    }\n",
       "</style>\n",
       "<table border=\"1\" class=\"dataframe\">\n",
       "  <thead>\n",
       "    <tr style=\"text-align: right;\">\n",
       "      <th></th>\n",
       "      <th>Original_Sentence</th>\n",
       "      <th>mBART_Translated</th>\n",
       "      <th>IndicTrans_Translated</th>\n",
       "      <th>mBART_NP_prob</th>\n",
       "      <th>mBART_P_prob</th>\n",
       "      <th>model_pred_mbart</th>\n",
       "      <th>mbart_P</th>\n",
       "      <th>mbart_NP</th>\n",
       "      <th>IndicT_NP_prob</th>\n",
       "      <th>IndicT_P_prob</th>\n",
       "      <th>model_pred_IndicT</th>\n",
       "      <th>indicT_P</th>\n",
       "      <th>indicT_NP</th>\n",
       "      <th>selected_translation</th>\n",
       "      <th>mBART_avg</th>\n",
       "    </tr>\n",
       "  </thead>\n",
       "  <tbody>\n",
       "    <tr>\n",
       "      <th>0</th>\n",
       "      <td>கோடிக்கணக்கான மக்களின் மனங்களிலும் மற்றும் இதய...</td>\n",
       "      <td>கோடிக்கணக்கான மக்களின் இதயங்களிலும், மனங்களிலு...</td>\n",
       "      <td>கோடிக்கணக்கான மக்களின் மனதிலும் இதயத்திலும் வி...</td>\n",
       "      <td>-0.129751</td>\n",
       "      <td>0.201876</td>\n",
       "      <td>P</td>\n",
       "      <td>0.582155</td>\n",
       "      <td>0.417845</td>\n",
       "      <td>-0.138827</td>\n",
       "      <td>0.210006</td>\n",
       "      <td>P</td>\n",
       "      <td>0.586335</td>\n",
       "      <td>0.413665</td>\n",
       "      <td>கோடிக்கணக்கான மக்களின் மனதிலும் இதயத்திலும் வி...</td>\n",
       "      <td>0.036063</td>\n",
       "    </tr>\n",
       "    <tr>\n",
       "      <th>1</th>\n",
       "      <td>பீஜப்பூர் பகுதியில் இந்த நிகழ்ச்சியை நடத்துவதன...</td>\n",
       "      <td>இந்த நிகழ்ச்சியை இன்று பிஜப்பூர் நகரில் நடத்து...</td>\n",
       "      <td>\"பீஜப்பூரில் இன்று இந்த நிகழ்ச்சியை நடத்துவதன்...</td>\n",
       "      <td>1.858723</td>\n",
       "      <td>-2.035915</td>\n",
       "      <td>NP</td>\n",
       "      <td>0.019945</td>\n",
       "      <td>0.980055</td>\n",
       "      <td>1.857611</td>\n",
       "      <td>-2.018302</td>\n",
       "      <td>NP</td>\n",
       "      <td>0.020314</td>\n",
       "      <td>0.979686</td>\n",
       "      <td>\"பீஜப்பூரில் இன்று இந்த நிகழ்ச்சியை நடத்துவதன்...</td>\n",
       "      <td>-0.088596</td>\n",
       "    </tr>\n",
       "    <tr>\n",
       "      <th>2</th>\n",
       "      <td>இந்தப் பணியை 2022-ம் ஆண்டுக்குள் நிறைவேற்றுவதே...</td>\n",
       "      <td>2022-ம் ஆண்டுக்குள் இந்த பணியை நிறைவேற்றுவதை ந...</td>\n",
       "      <td>இந்தப் பணியை 2022-க்குள் முடிக்க இலக்கு நிர்ணய...</td>\n",
       "      <td>-0.164003</td>\n",
       "      <td>0.236660</td>\n",
       "      <td>P</td>\n",
       "      <td>0.598847</td>\n",
       "      <td>0.401153</td>\n",
       "      <td>1.786160</td>\n",
       "      <td>-1.915916</td>\n",
       "      <td>NP</td>\n",
       "      <td>0.024078</td>\n",
       "      <td>0.975922</td>\n",
       "      <td>2022-ம் ஆண்டுக்குள் இந்த பணியை நிறைவேற்றுவதை ந...</td>\n",
       "      <td>0.036329</td>\n",
       "    </tr>\n",
       "    <tr>\n",
       "      <th>3</th>\n",
       "      <td>மத்திய அரசு பல்வேறு திட்டங்கைளை தெளிவான இலக்கு...</td>\n",
       "      <td>தெளிவான இலக்குகள் மற்றும் காலக்கெடுகளுடன் பல்வ...</td>\n",
       "      <td>தெளிவான இலக்குகள் மற்றும் காலக்கெடுவுடன் பல்வே...</td>\n",
       "      <td>-0.170018</td>\n",
       "      <td>0.243252</td>\n",
       "      <td>P</td>\n",
       "      <td>0.601872</td>\n",
       "      <td>0.398128</td>\n",
       "      <td>-0.167744</td>\n",
       "      <td>0.239971</td>\n",
       "      <td>P</td>\n",
       "      <td>0.600540</td>\n",
       "      <td>0.399460</td>\n",
       "      <td>தெளிவான இலக்குகள் மற்றும் காலக்கெடுகளுடன் பல்வ...</td>\n",
       "      <td>0.036617</td>\n",
       "    </tr>\n",
       "    <tr>\n",
       "      <th>4</th>\n",
       "      <td>இது தொடர்பாக ஜன் தன் கணக்குகள், ஏழை மக்களுக்கா...</td>\n",
       "      <td>இந்த வகையில் ஜன் தன் கணக்குகள், ஏழைகளுக்கு காப...</td>\n",
       "      <td>\"இந்த சூழலில், ஜன் தன் கணக்குகளைத் தொடங்குதல்,...</td>\n",
       "      <td>-0.093489</td>\n",
       "      <td>0.150331</td>\n",
       "      <td>P</td>\n",
       "      <td>0.560655</td>\n",
       "      <td>0.439345</td>\n",
       "      <td>-0.104022</td>\n",
       "      <td>0.164458</td>\n",
       "      <td>P</td>\n",
       "      <td>0.566720</td>\n",
       "      <td>0.433280</td>\n",
       "      <td>\"இந்த சூழலில், ஜன் தன் கணக்குகளைத் தொடங்குதல்,...</td>\n",
       "      <td>0.028421</td>\n",
       "    </tr>\n",
       "  </tbody>\n",
       "</table>\n",
       "</div>"
      ],
      "text/plain": [
       "                                   Original_Sentence  \\\n",
       "0  கோடிக்கணக்கான மக்களின் மனங்களிலும் மற்றும் இதய...   \n",
       "1  பீஜப்பூர் பகுதியில் இந்த நிகழ்ச்சியை நடத்துவதன...   \n",
       "2  இந்தப் பணியை 2022-ம் ஆண்டுக்குள் நிறைவேற்றுவதே...   \n",
       "3  மத்திய அரசு பல்வேறு திட்டங்கைளை தெளிவான இலக்கு...   \n",
       "4  இது தொடர்பாக ஜன் தன் கணக்குகள், ஏழை மக்களுக்கா...   \n",
       "\n",
       "                                    mBART_Translated  \\\n",
       "0  கோடிக்கணக்கான மக்களின் இதயங்களிலும், மனங்களிலு...   \n",
       "1  இந்த நிகழ்ச்சியை இன்று பிஜப்பூர் நகரில் நடத்து...   \n",
       "2  2022-ம் ஆண்டுக்குள் இந்த பணியை நிறைவேற்றுவதை ந...   \n",
       "3  தெளிவான இலக்குகள் மற்றும் காலக்கெடுகளுடன் பல்வ...   \n",
       "4  இந்த வகையில் ஜன் தன் கணக்குகள், ஏழைகளுக்கு காப...   \n",
       "\n",
       "                               IndicTrans_Translated  mBART_NP_prob  \\\n",
       "0  கோடிக்கணக்கான மக்களின் மனதிலும் இதயத்திலும் வி...      -0.129751   \n",
       "1  \"பீஜப்பூரில் இன்று இந்த நிகழ்ச்சியை நடத்துவதன்...       1.858723   \n",
       "2  இந்தப் பணியை 2022-க்குள் முடிக்க இலக்கு நிர்ணய...      -0.164003   \n",
       "3  தெளிவான இலக்குகள் மற்றும் காலக்கெடுவுடன் பல்வே...      -0.170018   \n",
       "4  \"இந்த சூழலில், ஜன் தன் கணக்குகளைத் தொடங்குதல்,...      -0.093489   \n",
       "\n",
       "   mBART_P_prob model_pred_mbart   mbart_P  mbart_NP  IndicT_NP_prob  \\\n",
       "0      0.201876                P  0.582155  0.417845       -0.138827   \n",
       "1     -2.035915               NP  0.019945  0.980055        1.857611   \n",
       "2      0.236660                P  0.598847  0.401153        1.786160   \n",
       "3      0.243252                P  0.601872  0.398128       -0.167744   \n",
       "4      0.150331                P  0.560655  0.439345       -0.104022   \n",
       "\n",
       "   IndicT_P_prob model_pred_IndicT  indicT_P  indicT_NP  \\\n",
       "0       0.210006                 P  0.586335   0.413665   \n",
       "1      -2.018302                NP  0.020314   0.979686   \n",
       "2      -1.915916                NP  0.024078   0.975922   \n",
       "3       0.239971                 P  0.600540   0.399460   \n",
       "4       0.164458                 P  0.566720   0.433280   \n",
       "\n",
       "                                selected_translation  mBART_avg  \n",
       "0  கோடிக்கணக்கான மக்களின் மனதிலும் இதயத்திலும் வி...   0.036063  \n",
       "1  \"பீஜப்பூரில் இன்று இந்த நிகழ்ச்சியை நடத்துவதன்...  -0.088596  \n",
       "2  2022-ம் ஆண்டுக்குள் இந்த பணியை நிறைவேற்றுவதை ந...   0.036329  \n",
       "3  தெளிவான இலக்குகள் மற்றும் காலக்கெடுகளுடன் பல்வ...   0.036617  \n",
       "4  \"இந்த சூழலில், ஜன் தன் கணக்குகளைத் தொடங்குதல்,...   0.028421  "
      ]
     },
     "execution_count": 47,
     "metadata": {},
     "output_type": "execute_result"
    }
   ],
   "source": [
    "combined.head()"
   ]
  },
  {
   "cell_type": "code",
   "execution_count": 48,
   "metadata": {},
   "outputs": [],
   "source": [
    "combined['IT_avg'] = combined.iloc[:,5:7].mean(axis=1)"
   ]
  },
  {
   "cell_type": "code",
   "execution_count": 49,
   "metadata": {},
   "outputs": [
    {
     "data": {
      "text/html": [
       "<div>\n",
       "<style scoped>\n",
       "    .dataframe tbody tr th:only-of-type {\n",
       "        vertical-align: middle;\n",
       "    }\n",
       "\n",
       "    .dataframe tbody tr th {\n",
       "        vertical-align: top;\n",
       "    }\n",
       "\n",
       "    .dataframe thead th {\n",
       "        text-align: right;\n",
       "    }\n",
       "</style>\n",
       "<table border=\"1\" class=\"dataframe\">\n",
       "  <thead>\n",
       "    <tr style=\"text-align: right;\">\n",
       "      <th></th>\n",
       "      <th>Original_Sentence</th>\n",
       "      <th>mBART_Translated</th>\n",
       "      <th>IndicTrans_Translated</th>\n",
       "      <th>mBART_NP_prob</th>\n",
       "      <th>mBART_P_prob</th>\n",
       "      <th>model_pred_mbart</th>\n",
       "      <th>mbart_P</th>\n",
       "      <th>mbart_NP</th>\n",
       "      <th>IndicT_NP_prob</th>\n",
       "      <th>IndicT_P_prob</th>\n",
       "      <th>model_pred_IndicT</th>\n",
       "      <th>indicT_P</th>\n",
       "      <th>indicT_NP</th>\n",
       "      <th>selected_translation</th>\n",
       "      <th>mBART_avg</th>\n",
       "      <th>IT_avg</th>\n",
       "    </tr>\n",
       "  </thead>\n",
       "  <tbody>\n",
       "    <tr>\n",
       "      <th>0</th>\n",
       "      <td>கோடிக்கணக்கான மக்களின் மனங்களிலும் மற்றும் இதய...</td>\n",
       "      <td>கோடிக்கணக்கான மக்களின் இதயங்களிலும், மனங்களிலு...</td>\n",
       "      <td>கோடிக்கணக்கான மக்களின் மனதிலும் இதயத்திலும் வி...</td>\n",
       "      <td>-0.129751</td>\n",
       "      <td>0.201876</td>\n",
       "      <td>P</td>\n",
       "      <td>0.582155</td>\n",
       "      <td>0.417845</td>\n",
       "      <td>-0.138827</td>\n",
       "      <td>0.210006</td>\n",
       "      <td>P</td>\n",
       "      <td>0.586335</td>\n",
       "      <td>0.413665</td>\n",
       "      <td>கோடிக்கணக்கான மக்களின் மனதிலும் இதயத்திலும் வி...</td>\n",
       "      <td>0.036063</td>\n",
       "      <td>0.582155</td>\n",
       "    </tr>\n",
       "    <tr>\n",
       "      <th>1</th>\n",
       "      <td>பீஜப்பூர் பகுதியில் இந்த நிகழ்ச்சியை நடத்துவதன...</td>\n",
       "      <td>இந்த நிகழ்ச்சியை இன்று பிஜப்பூர் நகரில் நடத்து...</td>\n",
       "      <td>\"பீஜப்பூரில் இன்று இந்த நிகழ்ச்சியை நடத்துவதன்...</td>\n",
       "      <td>1.858723</td>\n",
       "      <td>-2.035915</td>\n",
       "      <td>NP</td>\n",
       "      <td>0.019945</td>\n",
       "      <td>0.980055</td>\n",
       "      <td>1.857611</td>\n",
       "      <td>-2.018302</td>\n",
       "      <td>NP</td>\n",
       "      <td>0.020314</td>\n",
       "      <td>0.979686</td>\n",
       "      <td>\"பீஜப்பூரில் இன்று இந்த நிகழ்ச்சியை நடத்துவதன்...</td>\n",
       "      <td>-0.088596</td>\n",
       "      <td>0.019945</td>\n",
       "    </tr>\n",
       "    <tr>\n",
       "      <th>2</th>\n",
       "      <td>இந்தப் பணியை 2022-ம் ஆண்டுக்குள் நிறைவேற்றுவதே...</td>\n",
       "      <td>2022-ம் ஆண்டுக்குள் இந்த பணியை நிறைவேற்றுவதை ந...</td>\n",
       "      <td>இந்தப் பணியை 2022-க்குள் முடிக்க இலக்கு நிர்ணய...</td>\n",
       "      <td>-0.164003</td>\n",
       "      <td>0.236660</td>\n",
       "      <td>P</td>\n",
       "      <td>0.598847</td>\n",
       "      <td>0.401153</td>\n",
       "      <td>1.786160</td>\n",
       "      <td>-1.915916</td>\n",
       "      <td>NP</td>\n",
       "      <td>0.024078</td>\n",
       "      <td>0.975922</td>\n",
       "      <td>2022-ம் ஆண்டுக்குள் இந்த பணியை நிறைவேற்றுவதை ந...</td>\n",
       "      <td>0.036329</td>\n",
       "      <td>0.598847</td>\n",
       "    </tr>\n",
       "    <tr>\n",
       "      <th>3</th>\n",
       "      <td>மத்திய அரசு பல்வேறு திட்டங்கைளை தெளிவான இலக்கு...</td>\n",
       "      <td>தெளிவான இலக்குகள் மற்றும் காலக்கெடுகளுடன் பல்வ...</td>\n",
       "      <td>தெளிவான இலக்குகள் மற்றும் காலக்கெடுவுடன் பல்வே...</td>\n",
       "      <td>-0.170018</td>\n",
       "      <td>0.243252</td>\n",
       "      <td>P</td>\n",
       "      <td>0.601872</td>\n",
       "      <td>0.398128</td>\n",
       "      <td>-0.167744</td>\n",
       "      <td>0.239971</td>\n",
       "      <td>P</td>\n",
       "      <td>0.600540</td>\n",
       "      <td>0.399460</td>\n",
       "      <td>தெளிவான இலக்குகள் மற்றும் காலக்கெடுகளுடன் பல்வ...</td>\n",
       "      <td>0.036617</td>\n",
       "      <td>0.601872</td>\n",
       "    </tr>\n",
       "    <tr>\n",
       "      <th>4</th>\n",
       "      <td>இது தொடர்பாக ஜன் தன் கணக்குகள், ஏழை மக்களுக்கா...</td>\n",
       "      <td>இந்த வகையில் ஜன் தன் கணக்குகள், ஏழைகளுக்கு காப...</td>\n",
       "      <td>\"இந்த சூழலில், ஜன் தன் கணக்குகளைத் தொடங்குதல்,...</td>\n",
       "      <td>-0.093489</td>\n",
       "      <td>0.150331</td>\n",
       "      <td>P</td>\n",
       "      <td>0.560655</td>\n",
       "      <td>0.439345</td>\n",
       "      <td>-0.104022</td>\n",
       "      <td>0.164458</td>\n",
       "      <td>P</td>\n",
       "      <td>0.566720</td>\n",
       "      <td>0.433280</td>\n",
       "      <td>\"இந்த சூழலில், ஜன் தன் கணக்குகளைத் தொடங்குதல்,...</td>\n",
       "      <td>0.028421</td>\n",
       "      <td>0.560655</td>\n",
       "    </tr>\n",
       "  </tbody>\n",
       "</table>\n",
       "</div>"
      ],
      "text/plain": [
       "                                   Original_Sentence  \\\n",
       "0  கோடிக்கணக்கான மக்களின் மனங்களிலும் மற்றும் இதய...   \n",
       "1  பீஜப்பூர் பகுதியில் இந்த நிகழ்ச்சியை நடத்துவதன...   \n",
       "2  இந்தப் பணியை 2022-ம் ஆண்டுக்குள் நிறைவேற்றுவதே...   \n",
       "3  மத்திய அரசு பல்வேறு திட்டங்கைளை தெளிவான இலக்கு...   \n",
       "4  இது தொடர்பாக ஜன் தன் கணக்குகள், ஏழை மக்களுக்கா...   \n",
       "\n",
       "                                    mBART_Translated  \\\n",
       "0  கோடிக்கணக்கான மக்களின் இதயங்களிலும், மனங்களிலு...   \n",
       "1  இந்த நிகழ்ச்சியை இன்று பிஜப்பூர் நகரில் நடத்து...   \n",
       "2  2022-ம் ஆண்டுக்குள் இந்த பணியை நிறைவேற்றுவதை ந...   \n",
       "3  தெளிவான இலக்குகள் மற்றும் காலக்கெடுகளுடன் பல்வ...   \n",
       "4  இந்த வகையில் ஜன் தன் கணக்குகள், ஏழைகளுக்கு காப...   \n",
       "\n",
       "                               IndicTrans_Translated  mBART_NP_prob  \\\n",
       "0  கோடிக்கணக்கான மக்களின் மனதிலும் இதயத்திலும் வி...      -0.129751   \n",
       "1  \"பீஜப்பூரில் இன்று இந்த நிகழ்ச்சியை நடத்துவதன்...       1.858723   \n",
       "2  இந்தப் பணியை 2022-க்குள் முடிக்க இலக்கு நிர்ணய...      -0.164003   \n",
       "3  தெளிவான இலக்குகள் மற்றும் காலக்கெடுவுடன் பல்வே...      -0.170018   \n",
       "4  \"இந்த சூழலில், ஜன் தன் கணக்குகளைத் தொடங்குதல்,...      -0.093489   \n",
       "\n",
       "   mBART_P_prob model_pred_mbart   mbart_P  mbart_NP  IndicT_NP_prob  \\\n",
       "0      0.201876                P  0.582155  0.417845       -0.138827   \n",
       "1     -2.035915               NP  0.019945  0.980055        1.857611   \n",
       "2      0.236660                P  0.598847  0.401153        1.786160   \n",
       "3      0.243252                P  0.601872  0.398128       -0.167744   \n",
       "4      0.150331                P  0.560655  0.439345       -0.104022   \n",
       "\n",
       "   IndicT_P_prob model_pred_IndicT  indicT_P  indicT_NP  \\\n",
       "0       0.210006                 P  0.586335   0.413665   \n",
       "1      -2.018302                NP  0.020314   0.979686   \n",
       "2      -1.915916                NP  0.024078   0.975922   \n",
       "3       0.239971                 P  0.600540   0.399460   \n",
       "4       0.164458                 P  0.566720   0.433280   \n",
       "\n",
       "                                selected_translation  mBART_avg    IT_avg  \n",
       "0  கோடிக்கணக்கான மக்களின் மனதிலும் இதயத்திலும் வி...   0.036063  0.582155  \n",
       "1  \"பீஜப்பூரில் இன்று இந்த நிகழ்ச்சியை நடத்துவதன்...  -0.088596  0.019945  \n",
       "2  2022-ம் ஆண்டுக்குள் இந்த பணியை நிறைவேற்றுவதை ந...   0.036329  0.598847  \n",
       "3  தெளிவான இலக்குகள் மற்றும் காலக்கெடுகளுடன் பல்வ...   0.036617  0.601872  \n",
       "4  \"இந்த சூழலில், ஜன் தன் கணக்குகளைத் தொடங்குதல்,...   0.028421  0.560655  "
      ]
     },
     "execution_count": 49,
     "metadata": {},
     "output_type": "execute_result"
    }
   ],
   "source": [
    "combined.head()"
   ]
  },
  {
   "cell_type": "code",
   "execution_count": 50,
   "metadata": {},
   "outputs": [],
   "source": [
    "combined.to_csv('../combined-ta.csv', sep='\\t', encoding='utf-8')"
   ]
  },
  {
   "cell_type": "code",
   "execution_count": 51,
   "metadata": {},
   "outputs": [],
   "source": [
    "np.savetxt('../original_sentence-ta.txt', combined['Original_Sentence'], fmt='%s')\n",
    "np.savetxt('../mBART_translated-ta.txt', combined['mBART_Translated'], fmt='%s')\n",
    "np.savetxt('../indictrans_translated-ta.txt', combined['IndicTrans_Translated'], fmt='%s')\n",
    "np.savetxt('../selected_translation-ta.txt', combined['selected_translation'], fmt='%s')"
   ]
  },
  {
   "cell_type": "code",
   "execution_count": 52,
   "metadata": {},
   "outputs": [],
   "source": [
    "!cp ../original_sentence-ta.txt ../../bleu_test/testing/indicTrans/\n",
    "!cp ../mBART_translated-ta.txt  ../../bleu_test/testing/indicTrans/\n",
    "!cp ../indictrans_translated-ta.txt  ../../bleu_test/testing/indicTrans/\n",
    "!cp ../selected_translation-ta.txt  ../../bleu_test/testing/indicTrans/"
   ]
  }
 ],
 "metadata": {
  "kernelspec": {
   "display_name": "Python 3",
   "language": "python",
   "name": "python3"
  },
  "language_info": {
   "codemirror_mode": {
    "name": "ipython",
    "version": 3
   },
   "file_extension": ".py",
   "mimetype": "text/x-python",
   "name": "python",
   "nbconvert_exporter": "python",
   "pygments_lexer": "ipython3",
   "version": "3.7.3"
  }
 },
 "nbformat": 4,
 "nbformat_minor": 4
}
