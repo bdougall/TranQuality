{
 "cells": [
  {
   "cell_type": "markdown",
   "metadata": {},
   "source": [
    "## Final Model\n"
   ]
  },
  {
   "cell_type": "code",
   "execution_count": 1,
   "metadata": {},
   "outputs": [
    {
     "name": "stdout",
     "output_type": "stream",
     "text": [
      "/w266/w266/project/finetuning/indic-bert\n"
     ]
    }
   ],
   "source": [
    "%cd indic-bert"
   ]
  },
  {
   "cell_type": "code",
   "execution_count": 2,
   "metadata": {},
   "outputs": [],
   "source": [
    "import pandas as pd\n",
    "from sklearn.model_selection import train_test_split"
   ]
  },
  {
   "cell_type": "code",
   "execution_count": 3,
   "metadata": {},
   "outputs": [],
   "source": [
    "!cp ../indic-glue/amrita-paraphrase-exact/ma/ma-test-orig.csv ../indic-glue/amrita-paraphrase-exact/ma/ma-test.csv"
   ]
  },
  {
   "cell_type": "code",
   "execution_count": 4,
   "metadata": {},
   "outputs": [],
   "source": [
    "test = pd.read_csv('../indic-glue/amrita-paraphrase-exact/ma/ma-test.csv', header=None )\n",
    "test.drop_duplicates(inplace=True)\n",
    "test.to_csv('../indic-glue/amrita-paraphrase-exact/ma/ma-test.csv', sep=',', encoding='utf-8', header=None,index=False)\n",
    "test.to_csv('../indic-glue/amrita-paraphrase-exact/ma/ma-valid.csv', sep=',', encoding='utf-8', header=None,index=False)\n"
   ]
  },
  {
   "cell_type": "code",
   "execution_count": 5,
   "metadata": {},
   "outputs": [
    {
     "data": {
      "text/plain": [
       "(900, 3)"
      ]
     },
     "execution_count": 5,
     "metadata": {},
     "output_type": "execute_result"
    }
   ],
   "source": [
    "valid = pd.read_csv('../indic-glue/amrita-paraphrase-exact/ma/ma-valid.csv', header=None )\n",
    "valid.shape"
   ]
  },
  {
   "cell_type": "code",
   "execution_count": 6,
   "metadata": {},
   "outputs": [
    {
     "data": {
      "text/plain": [
       "(900, 3)"
      ]
     },
     "execution_count": 6,
     "metadata": {},
     "output_type": "execute_result"
    }
   ],
   "source": [
    "# Check if you have the right file\n",
    "test = pd.read_csv('../indic-glue/amrita-paraphrase-exact/ma/ma-test.csv', header=None )\n",
    "test.shape"
   ]
  },
  {
   "cell_type": "code",
   "execution_count": 7,
   "metadata": {},
   "outputs": [
    {
     "data": {
      "text/plain": [
       "(2500, 3)"
      ]
     },
     "execution_count": 7,
     "metadata": {},
     "output_type": "execute_result"
    }
   ],
   "source": [
    "train = pd.read_csv('../indic-glue/amrita-paraphrase-exact/ma/ma-train.csv', header=None)\n",
    "train.shape"
   ]
  },
  {
   "cell_type": "code",
   "execution_count": 8,
   "metadata": {},
   "outputs": [
    {
     "name": "stdout",
     "output_type": "stream",
     "text": [
      "rm: cannot remove '../outputs_ma_final/*': No such file or directory\r\n"
     ]
    }
   ],
   "source": [
    "! rm ../indic-glue/amrita-paraphrase-exact/cached*\n",
    "! rm ../outputs_ma_final/*"
   ]
  },
  {
   "cell_type": "code",
   "execution_count": 9,
   "metadata": {
    "scrolled": false
   },
   "outputs": [
    {
     "name": "stderr",
     "output_type": "stream",
     "text": [
      "Some weights of the model checkpoint at ai4bharat/indic-bert were not used when initializing AlbertForSequenceClassification: ['predictions.bias', 'predictions.LayerNorm.weight', 'predictions.LayerNorm.bias', 'predictions.dense.weight', 'predictions.dense.bias', 'predictions.decoder.weight', 'predictions.decoder.bias', 'sop_classifier.classifier.weight', 'sop_classifier.classifier.bias']\n",
      "- This IS expected if you are initializing AlbertForSequenceClassification from the checkpoint of a model trained on another task or with another architecture (e.g. initializing a BertForSequenceClassification model from a BertForPreTraining model).\n",
      "- This IS NOT expected if you are initializing AlbertForSequenceClassification from the checkpoint of a model that you expect to be exactly identical (initializing a BertForSequenceClassification model from a BertForSequenceClassification model).\n",
      "Some weights of AlbertForSequenceClassification were not initialized from the model checkpoint at ai4bharat/indic-bert and are newly initialized: ['classifier.weight', 'classifier.bias']\n",
      "You should probably TRAIN this model on a down-stream task to be able to use it for predictions and inference.\n",
      "GPU available: True, used: True\n",
      "TPU available: False, using: 0 TPU cores\n",
      "CUDA_VISIBLE_DEVICES: [0]\n",
      "\n",
      "  | Name  | Type                            | Params\n",
      "----------------------------------------------------------\n",
      "0 | model | AlbertForSequenceClassification | 33 M  \n",
      "/usr/local/lib/python3.6/dist-packages/pytorch_lightning/utilities/distributed.py:25: UserWarning: The dataloader, val dataloader 0, does not have many workers which may be a bottleneck. Consider increasing the value of the `num_workers` argument` (try 12 which is the number of cpus on this machine) in the `DataLoader` init to improve performance.\n",
      "  warnings.warn(*args, **kwargs)\n"
     ]
    },
    {
     "data": {
      "application/vnd.jupyter.widget-view+json": {
       "model_id": "",
       "version_major": 2,
       "version_minor": 0
      },
      "text/plain": [
       "HBox(children=(FloatProgress(value=1.0, bar_style='info', description='Validation sanity check', layout=Layout…"
      ]
     },
     "metadata": {},
     "output_type": "display_data"
    },
    {
     "name": "stderr",
     "output_type": "stream",
     "text": [
      "/usr/local/lib/python3.6/dist-packages/pytorch_lightning/utilities/distributed.py:25: UserWarning: The dataloader, train dataloader, does not have many workers which may be a bottleneck. Consider increasing the value of the `num_workers` argument` (try 12 which is the number of cpus on this machine) in the `DataLoader` init to improve performance.\n",
      "  warnings.warn(*args, **kwargs)\n"
     ]
    },
    {
     "data": {
      "application/vnd.jupyter.widget-view+json": {
       "model_id": "d813606e70524761a9f0feb2a240002c",
       "version_major": 2,
       "version_minor": 0
      },
      "text/plain": [
       "HBox(children=(FloatProgress(value=1.0, bar_style='info', description='Training', layout=Layout(flex='2'), max…"
      ]
     },
     "metadata": {},
     "output_type": "display_data"
    },
    {
     "data": {
      "application/vnd.jupyter.widget-view+json": {
       "model_id": "",
       "version_major": 2,
       "version_minor": 0
      },
      "text/plain": [
       "HBox(children=(FloatProgress(value=1.0, bar_style='info', description='Validating', layout=Layout(flex='2'), m…"
      ]
     },
     "metadata": {},
     "output_type": "display_data"
    },
    {
     "name": "stderr",
     "output_type": "stream",
     "text": [
      "/usr/local/lib/python3.6/dist-packages/pytorch_lightning/utilities/distributed.py:25: RuntimeWarning: The metric you returned 0.44132402539253235 must be a `torch.Tensor` instance, checkpoint not saved HINT: what is the value of val_loss in validation_epoch_end()?\n",
      "  warnings.warn(*args, **kwargs)\n"
     ]
    },
    {
     "name": "stdout",
     "output_type": "stream",
     "text": [
      "\n"
     ]
    },
    {
     "name": "stderr",
     "output_type": "stream",
     "text": [
      "Some weights of the model checkpoint at ai4bharat/indic-bert were not used when initializing AlbertForSequenceClassification: ['predictions.bias', 'predictions.LayerNorm.weight', 'predictions.LayerNorm.bias', 'predictions.dense.weight', 'predictions.dense.bias', 'predictions.decoder.weight', 'predictions.decoder.bias', 'sop_classifier.classifier.weight', 'sop_classifier.classifier.bias']\n",
      "- This IS expected if you are initializing AlbertForSequenceClassification from the checkpoint of a model trained on another task or with another architecture (e.g. initializing a BertForSequenceClassification model from a BertForPreTraining model).\n",
      "- This IS NOT expected if you are initializing AlbertForSequenceClassification from the checkpoint of a model that you expect to be exactly identical (initializing a BertForSequenceClassification model from a BertForSequenceClassification model).\n",
      "Some weights of AlbertForSequenceClassification were not initialized from the model checkpoint at ai4bharat/indic-bert and are newly initialized: ['classifier.weight', 'classifier.bias']\n",
      "You should probably TRAIN this model on a down-stream task to be able to use it for predictions and inference.\n",
      "/usr/local/lib/python3.6/dist-packages/pytorch_lightning/utilities/distributed.py:25: UserWarning: The dataloader, test dataloader 0, does not have many workers which may be a bottleneck. Consider increasing the value of the `num_workers` argument` (try 12 which is the number of cpus on this machine) in the `DataLoader` init to improve performance.\n",
      "  warnings.warn(*args, **kwargs)\n"
     ]
    },
    {
     "data": {
      "application/vnd.jupyter.widget-view+json": {
       "model_id": "93cf843ad1b645019f25ff7c9083df02",
       "version_major": 2,
       "version_minor": 0
      },
      "text/plain": [
       "HBox(children=(FloatProgress(value=1.0, bar_style='info', description='Testing', layout=Layout(flex='2'), max=…"
      ]
     },
     "metadata": {},
     "output_type": "display_data"
    },
    {
     "name": "stdout",
     "output_type": "stream",
     "text": [
      "Logits written to :../outputs_ma_final/amrita-paraphrase-exact/train-ma/model-ai4bharat-indic-bert/test_results_ma.csv\n",
      "--------------------------------------------------------------------------------\n",
      "TEST RESULTS\n",
      "{'acc': 0.8755555555555555,\n",
      " 'avg_test_loss': 0.44132402539253235,\n",
      " 'val_loss': 0.44132402539253235}\n",
      "--------------------------------------------------------------------------------\n",
      "{'loss': tensor(0.0551, device='cuda:0'), 'rate': 0.0, 'val_loss': 0.44132402539253235, 'acc': 0.8755555555555555, 'epoch': 1, 'avg_test_loss': 0.44132402539253235}\n",
      "\n"
     ]
    },
    {
     "data": {
      "text/plain": [
       "TextClassification(\n",
       "  (model): AlbertForSequenceClassification(\n",
       "    (albert): AlbertModel(\n",
       "      (embeddings): AlbertEmbeddings(\n",
       "        (word_embeddings): Embedding(200000, 128, padding_idx=0)\n",
       "        (position_embeddings): Embedding(512, 128)\n",
       "        (token_type_embeddings): Embedding(2, 128)\n",
       "        (LayerNorm): LayerNorm((128,), eps=1e-12, elementwise_affine=True)\n",
       "        (dropout): Dropout(p=0, inplace=False)\n",
       "      )\n",
       "      (encoder): AlbertTransformer(\n",
       "        (embedding_hidden_mapping_in): Linear(in_features=128, out_features=768, bias=True)\n",
       "        (albert_layer_groups): ModuleList(\n",
       "          (0): AlbertLayerGroup(\n",
       "            (albert_layers): ModuleList(\n",
       "              (0): AlbertLayer(\n",
       "                (full_layer_layer_norm): LayerNorm((768,), eps=1e-12, elementwise_affine=True)\n",
       "                (attention): AlbertAttention(\n",
       "                  (query): Linear(in_features=768, out_features=768, bias=True)\n",
       "                  (key): Linear(in_features=768, out_features=768, bias=True)\n",
       "                  (value): Linear(in_features=768, out_features=768, bias=True)\n",
       "                  (attention_dropout): Dropout(p=0, inplace=False)\n",
       "                  (output_dropout): Dropout(p=0, inplace=False)\n",
       "                  (dense): Linear(in_features=768, out_features=768, bias=True)\n",
       "                  (LayerNorm): LayerNorm((768,), eps=1e-12, elementwise_affine=True)\n",
       "                )\n",
       "                (ffn): Linear(in_features=768, out_features=3072, bias=True)\n",
       "                (ffn_output): Linear(in_features=3072, out_features=768, bias=True)\n",
       "                (dropout): Dropout(p=0, inplace=False)\n",
       "              )\n",
       "            )\n",
       "          )\n",
       "        )\n",
       "      )\n",
       "      (pooler): Linear(in_features=768, out_features=768, bias=True)\n",
       "      (pooler_activation): Tanh()\n",
       "    )\n",
       "    (dropout): Dropout(p=0.1, inplace=False)\n",
       "    (classifier): Linear(in_features=768, out_features=2, bias=True)\n",
       "  )\n",
       "  (trained_model): TextClassification(\n",
       "    (model): AlbertForSequenceClassification(\n",
       "      (albert): AlbertModel(\n",
       "        (embeddings): AlbertEmbeddings(\n",
       "          (word_embeddings): Embedding(200000, 128, padding_idx=0)\n",
       "          (position_embeddings): Embedding(512, 128)\n",
       "          (token_type_embeddings): Embedding(2, 128)\n",
       "          (LayerNorm): LayerNorm((128,), eps=1e-12, elementwise_affine=True)\n",
       "          (dropout): Dropout(p=0, inplace=False)\n",
       "        )\n",
       "        (encoder): AlbertTransformer(\n",
       "          (embedding_hidden_mapping_in): Linear(in_features=128, out_features=768, bias=True)\n",
       "          (albert_layer_groups): ModuleList(\n",
       "            (0): AlbertLayerGroup(\n",
       "              (albert_layers): ModuleList(\n",
       "                (0): AlbertLayer(\n",
       "                  (full_layer_layer_norm): LayerNorm((768,), eps=1e-12, elementwise_affine=True)\n",
       "                  (attention): AlbertAttention(\n",
       "                    (query): Linear(in_features=768, out_features=768, bias=True)\n",
       "                    (key): Linear(in_features=768, out_features=768, bias=True)\n",
       "                    (value): Linear(in_features=768, out_features=768, bias=True)\n",
       "                    (attention_dropout): Dropout(p=0, inplace=False)\n",
       "                    (output_dropout): Dropout(p=0, inplace=False)\n",
       "                    (dense): Linear(in_features=768, out_features=768, bias=True)\n",
       "                    (LayerNorm): LayerNorm((768,), eps=1e-12, elementwise_affine=True)\n",
       "                  )\n",
       "                  (ffn): Linear(in_features=768, out_features=3072, bias=True)\n",
       "                  (ffn_output): Linear(in_features=3072, out_features=768, bias=True)\n",
       "                  (dropout): Dropout(p=0, inplace=False)\n",
       "                )\n",
       "              )\n",
       "            )\n",
       "          )\n",
       "        )\n",
       "        (pooler): Linear(in_features=768, out_features=768, bias=True)\n",
       "        (pooler_activation): Tanh()\n",
       "      )\n",
       "      (dropout): Dropout(p=0.1, inplace=False)\n",
       "      (classifier): Linear(in_features=768, out_features=2, bias=True)\n",
       "    )\n",
       "  )\n",
       ")"
      ]
     },
     "execution_count": 9,
     "metadata": {},
     "output_type": "execute_result"
    }
   ],
   "source": [
    "import os\n",
    "from pathlib import Path\n",
    "\n",
    "\n",
    "from fine_tune.cli import main as finetune_main\n",
    "\n",
    "argvec = ['--lang', 'ma',\n",
    "          '--train_lang', 'ma',\n",
    "          '--dataset', 'amrita-paraphrase-exact', \n",
    "          '--model', 'ai4bharat/indic-bert',\n",
    "          '--iglue_dir', '../indic-glue/',\n",
    "          '--output_dir', '../outputs_ma_final',\n",
    "          '--max_seq_length', '256', #'128', # '512',\n",
    "          '--learning_rate', '2e-5',\n",
    "          '--num_train_epochs', '1',\n",
    "          '--cache_dir', '../ib-cache',\n",
    "          '--train_batch_size', '16',\n",
    "          '--seed', '5',\n",
    "\n",
    "]\n",
    "\n",
    "p = Path('../outputs_ma_final')\n",
    "Path(p).mkdir(parents=True, exist_ok=True)\n",
    "finetune_main(argvec)\n",
    "\n"
   ]
  },
  {
   "cell_type": "markdown",
   "metadata": {},
   "source": [
    "### Following code is for reproducing the test, val results"
   ]
  },
  {
   "cell_type": "code",
   "execution_count": null,
   "metadata": {},
   "outputs": [],
   "source": [
    "%cd indic-bert"
   ]
  },
  {
   "cell_type": "code",
   "execution_count": null,
   "metadata": {},
   "outputs": [],
   "source": [
    "test = pd.read_csv('../indic-glue/amrita-paraphrase-exact/ma/ma-test-orig.csv', header=None )\n",
    "test.drop_duplicates(inplace=True)\n",
    "dev, test = train_test_split(test, test_size=0.5, random_state=42 )\n",
    "dev.to_csv('../indic-glue/amrita-paraphrase-exact/ma/ma-valid.csv', sep=',', encoding='utf-8', header=None,index=False)\n",
    "test.to_csv('../indic-glue/amrita-paraphrase-exact/ma/ma-test.csv', sep=',', encoding='utf-8', header=None,index=False)\n"
   ]
  },
  {
   "cell_type": "code",
   "execution_count": null,
   "metadata": {},
   "outputs": [],
   "source": [
    "# Check if you have the right file\n",
    "valid = pd.read_csv('../indic-glue/amrita-paraphrase-exact/ma/ma-valid.csv', header=None )\n",
    "valid.shape"
   ]
  },
  {
   "cell_type": "code",
   "execution_count": null,
   "metadata": {},
   "outputs": [],
   "source": [
    "valid.head()"
   ]
  },
  {
   "cell_type": "code",
   "execution_count": null,
   "metadata": {},
   "outputs": [],
   "source": [
    "# Check if you have the right file\n",
    "test = pd.read_csv('../indic-glue/amrita-paraphrase-exact/ma/ma-test.csv', header=None )\n",
    "test.shape"
   ]
  },
  {
   "cell_type": "code",
   "execution_count": null,
   "metadata": {},
   "outputs": [],
   "source": [
    "train = pd.read_csv('../indic-glue/amrita-paraphrase-exact/ma/ma-train.csv', header=None)\n",
    "train.shape"
   ]
  },
  {
   "cell_type": "code",
   "execution_count": null,
   "metadata": {},
   "outputs": [],
   "source": [
    "train.head()"
   ]
  },
  {
   "cell_type": "code",
   "execution_count": null,
   "metadata": {},
   "outputs": [],
   "source": [
    "! rm ../indic-glue/amrita-paraphrase-exact/cached*"
   ]
  },
  {
   "cell_type": "code",
   "execution_count": null,
   "metadata": {
    "scrolled": true
   },
   "outputs": [],
   "source": [
    "# %rm -dr outputs0 outputs1\n",
    "\n",
    "\n",
    "import os\n",
    "from pathlib import Path\n",
    "\n",
    "\n",
    "from fine_tune.cli import main as finetune_main\n",
    "\n",
    "argvec = ['--lang', 'ma',\n",
    "          '--train_lang', 'ma',\n",
    "          '--dataset', 'amrita-paraphrase-exact', \n",
    "          '--model', 'ai4bharat/indic-bert',\n",
    "          '--iglue_dir', '../indic-glue/',\n",
    "          '--output_dir', '../outputs_ma_final',\n",
    "          '--max_seq_length', '256', #'128', # '512',\n",
    "          '--learning_rate', '2e-5',\n",
    "          '--num_train_epochs', '1',\n",
    "          '--cache_dir', '../ib-cache',\n",
    "          '--train_batch_size', '16',\n",
    "          '--seed', '5',\n",
    "\n",
    "]\n",
    "\n",
    "p = Path('../outputs_ma_final')\n",
    "Path(p).mkdir(parents=True, exist_ok=True)\n",
    "finetune_main(argvec)\n",
    "\n"
   ]
  }
 ],
 "metadata": {
  "kernelspec": {
   "display_name": "Python 3",
   "language": "python",
   "name": "python3"
  },
  "language_info": {
   "codemirror_mode": {
    "name": "ipython",
    "version": 3
   },
   "file_extension": ".py",
   "mimetype": "text/x-python",
   "name": "python",
   "nbconvert_exporter": "python",
   "pygments_lexer": "ipython3",
   "version": "3.7.3"
  }
 },
 "nbformat": 4,
 "nbformat_minor": 2
}
