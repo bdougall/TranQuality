{
  "nbformat": 4,
  "nbformat_minor": 0,
  "metadata": {
    "colab": {
      "name": "layernorm_final_record_quality_eval.ipynb",
      "provenance": [],
      "collapsed_sections": []
    },
    "kernelspec": {
      "name": "python3",
      "display_name": "Python 3"
    },
    "language_info": {
      "name": "python"
    }
  },
  "cells": [
    {
      "cell_type": "code",
      "metadata": {
        "colab": {
          "base_uri": "https://localhost:8080/"
        },
        "id": "PKI46xwG_s9w",
        "outputId": "429ed0a6-35c8-456d-9ec3-1c4953284854"
      },
      "source": [
        "!pip install editdistance -q\n",
        "!pip install sacrebleu -q"
      ],
      "execution_count": 1,
      "outputs": [
        {
          "output_type": "stream",
          "name": "stdout",
          "text": [
            "\u001b[?25l\r\u001b[K     |███▋                            | 10 kB 22.1 MB/s eta 0:00:01\r\u001b[K     |███████▏                        | 20 kB 27.0 MB/s eta 0:00:01\r\u001b[K     |██████████▉                     | 30 kB 12.6 MB/s eta 0:00:01\r\u001b[K     |██████████████▍                 | 40 kB 9.8 MB/s eta 0:00:01\r\u001b[K     |██████████████████              | 51 kB 5.1 MB/s eta 0:00:01\r\u001b[K     |█████████████████████▋          | 61 kB 5.2 MB/s eta 0:00:01\r\u001b[K     |█████████████████████████▎      | 71 kB 5.8 MB/s eta 0:00:01\r\u001b[K     |████████████████████████████▉   | 81 kB 6.6 MB/s eta 0:00:01\r\u001b[K     |████████████████████████████████| 90 kB 4.0 MB/s \n",
            "\u001b[?25h"
          ]
        }
      ]
    },
    {
      "cell_type": "code",
      "metadata": {
        "colab": {
          "base_uri": "https://localhost:8080/"
        },
        "id": "5iLUODzYUmlX",
        "outputId": "3691c286-651b-4f53-c725-7768eea5fa52"
      },
      "source": [
        "# Mount Google drive to upload datasets\n",
        "from google.colab import drive\n",
        "drive.mount('/content/drive')"
      ],
      "execution_count": 2,
      "outputs": [
        {
          "output_type": "stream",
          "name": "stdout",
          "text": [
            "Mounted at /content/drive\n"
          ]
        }
      ]
    },
    {
      "cell_type": "code",
      "metadata": {
        "id": "xn8OyIVSWD3H"
      },
      "source": [
        "# The path to the data on my drive\n",
        "D = '/content/drive/My Drive/W266_Project_Data/pmi_data'"
      ],
      "execution_count": 3,
      "outputs": []
    },
    {
      "cell_type": "code",
      "metadata": {
        "id": "T52H4_SuiXJj"
      },
      "source": [
        "import pandas as pd\n",
        "import numpy as np\n",
        "import editdistance\n",
        "import seaborn as sns\n",
        "import matplotlib.pyplot as plt"
      ],
      "execution_count": 4,
      "outputs": []
    },
    {
      "cell_type": "code",
      "metadata": {
        "id": "pkEKYkxhh3tn"
      },
      "source": [
        "# Load the eval files for each model's translations\n",
        "final = pd.read_csv(D+\"/predicted_text/siamese_evaluations_of_translations/record_comparison_layernorm.csv\")\n",
        "final.drop(columns={'Unnamed: 0'}, inplace=True)"
      ],
      "execution_count": 5,
      "outputs": []
    },
    {
      "cell_type": "code",
      "metadata": {
        "colab": {
          "base_uri": "https://localhost:8080/",
          "height": 293
        },
        "id": "Myrlu_7Yid3N",
        "outputId": "c9f71aee-5d12-45a7-bd49-b7041c58516b"
      },
      "source": [
        "# View the first few records in each file\n",
        "final.head()"
      ],
      "execution_count": 6,
      "outputs": [
        {
          "output_type": "execute_result",
          "data": {
            "text/html": [
              "<div>\n",
              "<style scoped>\n",
              "    .dataframe tbody tr th:only-of-type {\n",
              "        vertical-align: middle;\n",
              "    }\n",
              "\n",
              "    .dataframe tbody tr th {\n",
              "        vertical-align: top;\n",
              "    }\n",
              "\n",
              "    .dataframe thead th {\n",
              "        text-align: right;\n",
              "    }\n",
              "</style>\n",
              "<table border=\"1\" class=\"dataframe\">\n",
              "  <thead>\n",
              "    <tr style=\"text-align: right;\">\n",
              "      <th></th>\n",
              "      <th>language_task</th>\n",
              "      <th>target_sentence</th>\n",
              "      <th>bart_translation</th>\n",
              "      <th>bart_paraphrase_score</th>\n",
              "      <th>bart_cosine_score</th>\n",
              "      <th>indictrans_translation</th>\n",
              "      <th>indictrans_paraphrase_score</th>\n",
              "      <th>indictrans_cosine_score</th>\n",
              "      <th>best_trans</th>\n",
              "    </tr>\n",
              "  </thead>\n",
              "  <tbody>\n",
              "    <tr>\n",
              "      <th>0</th>\n",
              "      <td>translate English to Hindi</td>\n",
              "      <td>प्रधानमंत्री ने कहा कि बाबा साहेब अम्बेडकर की ...</td>\n",
              "      <td>Prime Minister said Babasaheb Ambedkar has a k...</td>\n",
              "      <td>0.296427</td>\n",
              "      <td>0.770237</td>\n",
              "      <td>प्रधानमंत्री ने कहा कि करोड़ों लोगों के दिलों ...</td>\n",
              "      <td>0.964050</td>\n",
              "      <td>0.948379</td>\n",
              "      <td>प्रधानमंत्री ने कहा कि करोड़ों लोगों के दिलों ...</td>\n",
              "    </tr>\n",
              "    <tr>\n",
              "      <th>1</th>\n",
              "      <td>translate English to Hindi</td>\n",
              "      <td>इस समारोह को आज बीजापुर में आयोजित करने के महत...</td>\n",
              "      <td>आज बीजापुर में इस समारोह को आयोजित करने के महत...</td>\n",
              "      <td>0.961452</td>\n",
              "      <td>0.946777</td>\n",
              "      <td>आज बीजापुर में इस कार्यक्रम के आयोजन के महत्व ...</td>\n",
              "      <td>0.975653</td>\n",
              "      <td>0.973164</td>\n",
              "      <td>आज बीजापुर में इस कार्यक्रम के आयोजन के महत्व ...</td>\n",
              "    </tr>\n",
              "    <tr>\n",
              "      <th>2</th>\n",
              "      <td>translate English to Hindi</td>\n",
              "      <td>उन्होंने कहा कि इस कार्य को 2022 तक पूरा कर ले...</td>\n",
              "      <td>उन्होंने कहा कि लक्ष्य 2022 तक इस कार्य को पूर...</td>\n",
              "      <td>0.984172</td>\n",
              "      <td>0.956433</td>\n",
              "      <td>उन्होंने कहा कि इस कार्य को 2022 तक पूरा करने ...</td>\n",
              "      <td>0.987264</td>\n",
              "      <td>0.985965</td>\n",
              "      <td>उन्होंने कहा कि इस कार्य को 2022 तक पूरा करने ...</td>\n",
              "    </tr>\n",
              "    <tr>\n",
              "      <th>3</th>\n",
              "      <td>translate English to Hindi</td>\n",
              "      <td>प्रधानमंत्री ने कहा कि सरकार स्पष्ट लक्ष्यों औ...</td>\n",
              "      <td>प्रधानमंत्री ने कहा कि सरकार स्पष्ट लक्ष्यों औ...</td>\n",
              "      <td>0.987658</td>\n",
              "      <td>0.965325</td>\n",
              "      <td>प्रधानमंत्री ने कहा कि सरकार स्पष्ट लक्ष्यों औ...</td>\n",
              "      <td>0.989116</td>\n",
              "      <td>0.986373</td>\n",
              "      <td>प्रधानमंत्री ने कहा कि सरकार स्पष्ट लक्ष्यों औ...</td>\n",
              "    </tr>\n",
              "    <tr>\n",
              "      <th>4</th>\n",
              "      <td>translate English to Hindi</td>\n",
              "      <td>उन्होंने इस संदर्भ में जन धन खाता खोलने, गरीबो...</td>\n",
              "      <td>इस संदर्भ में उन्होंने जनधन खाते खोलने, गरीबों...</td>\n",
              "      <td>0.979594</td>\n",
              "      <td>0.979276</td>\n",
              "      <td>इस संदर्भ में उन्होंने जन धन खाते खोलने, गरीबो...</td>\n",
              "      <td>0.986208</td>\n",
              "      <td>0.992806</td>\n",
              "      <td>इस संदर्भ में उन्होंने जन धन खाते खोलने, गरीबो...</td>\n",
              "    </tr>\n",
              "  </tbody>\n",
              "</table>\n",
              "</div>"
            ],
            "text/plain": [
              "                language_task  ...                                         best_trans\n",
              "0  translate English to Hindi  ...  प्रधानमंत्री ने कहा कि करोड़ों लोगों के दिलों ...\n",
              "1  translate English to Hindi  ...  आज बीजापुर में इस कार्यक्रम के आयोजन के महत्व ...\n",
              "2  translate English to Hindi  ...  उन्होंने कहा कि इस कार्य को 2022 तक पूरा करने ...\n",
              "3  translate English to Hindi  ...  प्रधानमंत्री ने कहा कि सरकार स्पष्ट लक्ष्यों औ...\n",
              "4  translate English to Hindi  ...  इस संदर्भ में उन्होंने जन धन खाते खोलने, गरीबो...\n",
              "\n",
              "[5 rows x 9 columns]"
            ]
          },
          "metadata": {},
          "execution_count": 6
        }
      ]
    },
    {
      "cell_type": "code",
      "metadata": {
        "id": "-UiBfTRtwSsp"
      },
      "source": [
        "# Add a new column for the source of the best translation\n",
        "final['best_trans_source'] = np.where(final.best_trans == final.indictrans_translation, \"indictrans\", \"mbart\")"
      ],
      "execution_count": 7,
      "outputs": []
    },
    {
      "cell_type": "code",
      "metadata": {
        "id": "VScHdVCewuLX"
      },
      "source": [
        "# Add a new column based upon whether or not cosine similarity score went up or down\n",
        "conditions = [\n",
        "    (final['best_trans_source'] == 'indictrans') & (final['indictrans_cosine_score'] > final['bart_cosine_score']),\n",
        "    (final['best_trans_source'] == 'indictrans') & (final['indictrans_cosine_score'] < final['bart_cosine_score']),\n",
        "    (final['best_trans_source'] == 'indictrans') & (final['indictrans_cosine_score'] == final['bart_cosine_score']),\n",
        "    (final['best_trans_source'] == 'mbart') & (final['bart_cosine_score'] > final['indictrans_cosine_score']),\n",
        "    (final['best_trans_source'] == 'mbart') & (final['bart_cosine_score'] < final['indictrans_cosine_score']),\n",
        "    (final['best_trans_source'] == 'mbart') & (final['bart_cosine_score'] == final['bart_cosine_score'])\n",
        "    ]\n",
        "values = ['score increased', 'score decreased', 'no change', 'score increased', 'score decreased', 'no change']\n",
        "\n",
        "final['cos_change'] = np.select(conditions, values)"
      ],
      "execution_count": 8,
      "outputs": []
    },
    {
      "cell_type": "code",
      "metadata": {
        "id": "15xPcWw2Fm-M"
      },
      "source": [
        "# Create a scatterplot of cosine similarity scores and paraphrase probability scores\n",
        "# Add a column for the best translation cosine similarity score and another for best translation paraphrase score\n",
        "final['best_paraphrase_cos'] = np.where(final.best_trans_source == 'mbart', final.bart_cosine_score, final.indictrans_cosine_score)\n",
        "final['best_paraphrase_para'] = np.where(final.best_trans_source == 'mbart', final.bart_paraphrase_score, final.indictrans_paraphrase_score)"
      ],
      "execution_count": 9,
      "outputs": []
    },
    {
      "cell_type": "code",
      "metadata": {
        "id": "1D8hqI3TIBDA"
      },
      "source": [
        "final.language_task = final['language_task'].str.replace('translate English to Hindi', 'Hindi').str.replace('translate English to Tamil', 'Tamil').str.replace('translate English to Malayalam', 'Malayalam')"
      ],
      "execution_count": 10,
      "outputs": []
    },
    {
      "cell_type": "code",
      "metadata": {
        "colab": {
          "base_uri": "https://localhost:8080/"
        },
        "id": "whcY05lFy6b9",
        "outputId": "8487a02d-3b58-41bd-e379-8913e90ab855"
      },
      "source": [
        "# The cosine similarity score of the sentence chosen by the paraphrase evaluator was higher than that of the non-chosen sentence 74% of the time\n",
        "# 2,195 of 2,967 times\n",
        "# in 772 cases, the cosine similarity score of the chosen sentence was lower than that of the non-chosen sentence\n",
        "final.cos_change.value_counts()"
      ],
      "execution_count": 11,
      "outputs": [
        {
          "output_type": "execute_result",
          "data": {
            "text/plain": [
              "score increased    2195\n",
              "score decreased     772\n",
              "no change            33\n",
              "Name: cos_change, dtype: int64"
            ]
          },
          "metadata": {},
          "execution_count": 11
        }
      ]
    },
    {
      "cell_type": "code",
      "metadata": {
        "id": "Htxc49kc9duy"
      },
      "source": [
        "# Add 2 new columns to calculate the character edit distance\n",
        "# 1 between IndicTrans translation and target\n",
        "# 1 for MBart translation and target\n",
        "final['indictrans_edit'] = final.apply(lambda x: editdistance.eval(x['target_sentence'], x['indictrans_translation']), axis=1)\n",
        "final['bart_edit'] = final.apply(lambda x: editdistance.eval(x['target_sentence'], x['bart_translation']), axis=1)"
      ],
      "execution_count": 12,
      "outputs": []
    },
    {
      "cell_type": "code",
      "metadata": {
        "id": "KU05yEVhL_K5"
      },
      "source": [
        "# Create a new column for the difference in edit distances between the translation chosen vs not chosen\n",
        "final[\"editd_chosen\"] = np.where(final.best_trans_source == 'mbart', final.bart_edit - final.indictrans_edit, \n",
        "                              final.indictrans_edit - final.bart_edit)"
      ],
      "execution_count": 13,
      "outputs": []
    },
    {
      "cell_type": "code",
      "metadata": {
        "id": "rErxa3Ind3He"
      },
      "source": [
        "# Set a column for the edit distance of the translation labeled as best by our classifier\n",
        "final['best_paraphrase_edit'] = np.where(final.best_trans_source == 'mbart', final.bart_edit, final.indictrans_edit)"
      ],
      "execution_count": 16,
      "outputs": []
    },
    {
      "cell_type": "code",
      "metadata": {
        "id": "2U2f4bx0zpIw"
      },
      "source": [
        "# Create sub dataframes for each translator when it was chosen as the best translation\n",
        "indic_chosen = final[final.best_trans_source == 'indictrans']\n",
        "mbart_chosen = final[final.best_trans_source == 'mbart']"
      ],
      "execution_count": 17,
      "outputs": []
    },
    {
      "cell_type": "code",
      "metadata": {
        "colab": {
          "base_uri": "https://localhost:8080/"
        },
        "id": "DdHrbExXz6W-",
        "outputId": "786b9b83-7910-47eb-e209-5a3ebbf62e19"
      },
      "source": [
        "# When Indictrans was chosen as the translation, the cosine similarity was higher than that the Bart translation 1,485 times out of 1,928\n",
        "# 77% of the time\n",
        "# The 33 times that there was no change was when the translators produced the same translation, so we'll exclude these from the percentage\n",
        "indic_chosen.cos_change.value_counts()"
      ],
      "execution_count": 18,
      "outputs": [
        {
          "output_type": "execute_result",
          "data": {
            "text/plain": [
              "score increased    1485\n",
              "score decreased     443\n",
              "no change            33\n",
              "Name: cos_change, dtype: int64"
            ]
          },
          "metadata": {},
          "execution_count": 18
        }
      ]
    },
    {
      "cell_type": "code",
      "metadata": {
        "colab": {
          "base_uri": "https://localhost:8080/"
        },
        "id": "tw3UZ0Mw0VO6",
        "outputId": "ff2ee355-4de5-4210-dc11-30f97ee7de9a"
      },
      "source": [
        "# Mbart's translation was chosen as the better translation 710 of 1039 times\n",
        "# 68% of the time, this replacement resulted in an increase in sentence similarity as measured by cosine similarity score\n",
        "mbart_chosen.cos_change.value_counts()"
      ],
      "execution_count": 19,
      "outputs": [
        {
          "output_type": "execute_result",
          "data": {
            "text/plain": [
              "score increased    710\n",
              "score decreased    329\n",
              "Name: cos_change, dtype: int64"
            ]
          },
          "metadata": {},
          "execution_count": 19
        }
      ]
    },
    {
      "cell_type": "code",
      "metadata": {
        "colab": {
          "base_uri": "https://localhost:8080/"
        },
        "id": "-RB5cWvg1PDe",
        "outputId": "125aa2b4-b522-47d0-bb7d-70e751fe11d4"
      },
      "source": [
        "final.columns"
      ],
      "execution_count": 20,
      "outputs": [
        {
          "output_type": "execute_result",
          "data": {
            "text/plain": [
              "Index(['language_task', 'target_sentence', 'bart_translation',\n",
              "       'bart_paraphrase_score', 'bart_cosine_score', 'indictrans_translation',\n",
              "       'indictrans_paraphrase_score', 'indictrans_cosine_score', 'best_trans',\n",
              "       'best_trans_source', 'cos_change', 'best_paraphrase_cos',\n",
              "       'best_paraphrase_para', 'indictrans_edit', 'bart_edit', 'editd_chosen',\n",
              "       'best_paraphrase_edit'],\n",
              "      dtype='object')"
            ]
          },
          "metadata": {},
          "execution_count": 20
        }
      ]
    },
    {
      "cell_type": "code",
      "metadata": {
        "id": "dqiNhyzl0_Ro"
      },
      "source": [
        "# Look at langage specific changes in cosine sentence similarity, then by language + translator used\n",
        "# Initial Sacre Bleu scores were highest for Hindi from IndicTrans, MBart for Tamil, and IndicTrans for Malayalam\n",
        "hi_cos_change = final[final.language_task == 'Hindi']\n",
        "ta_cos_change = final[final.language_task == 'Tamil']\n",
        "ml_cos_change = final[final.language_task == 'Malayalam']"
      ],
      "execution_count": 21,
      "outputs": []
    },
    {
      "cell_type": "code",
      "metadata": {
        "colab": {
          "base_uri": "https://localhost:8080/"
        },
        "id": "dZPkkwCW174P",
        "outputId": "75b9ae6b-7eca-4693-97c4-cd9731f7fe75"
      },
      "source": [
        "# 786 of 976 times, the cosine similarity score for Hindi increased\n",
        "# an additional 24 times there was no change\n",
        "hi_cos_change.cos_change.value_counts()"
      ],
      "execution_count": 22,
      "outputs": [
        {
          "output_type": "execute_result",
          "data": {
            "text/plain": [
              "score increased    786\n",
              "score decreased    190\n",
              "no change           24\n",
              "Name: cos_change, dtype: int64"
            ]
          },
          "metadata": {},
          "execution_count": 22
        }
      ]
    },
    {
      "cell_type": "code",
      "metadata": {
        "colab": {
          "base_uri": "https://localhost:8080/"
        },
        "id": "YojMCj6e2fZz",
        "outputId": "11d9dccd-6114-40f9-8be9-5573279a5781"
      },
      "source": [
        "print(hi_cos_change[hi_cos_change.best_trans_source == 'indictrans'].cos_change.value_counts(), \"\\n\")\n",
        "print(hi_cos_change[hi_cos_change.best_trans_source == 'mbart'].cos_change.value_counts())"
      ],
      "execution_count": 23,
      "outputs": [
        {
          "output_type": "stream",
          "name": "stdout",
          "text": [
            "score increased    569\n",
            "score decreased    102\n",
            "no change           24\n",
            "Name: cos_change, dtype: int64 \n",
            "\n",
            "score increased    217\n",
            "score decreased     88\n",
            "Name: cos_change, dtype: int64\n"
          ]
        }
      ]
    },
    {
      "cell_type": "code",
      "metadata": {
        "colab": {
          "base_uri": "https://localhost:8080/"
        },
        "id": "iMNRkcWZ22Mb",
        "outputId": "8ce59bb0-f189-4ee7-a0be-2916379fde89"
      },
      "source": [
        "print(ta_cos_change.cos_change.value_counts(), \"\\n\")\n",
        "print(ta_cos_change[ta_cos_change.best_trans_source == 'indictrans'].cos_change.value_counts(), \"\\n\")\n",
        "print(ta_cos_change[ta_cos_change.best_trans_source == 'mbart'].cos_change.value_counts())"
      ],
      "execution_count": 24,
      "outputs": [
        {
          "output_type": "stream",
          "name": "stdout",
          "text": [
            "score increased    703\n",
            "score decreased    288\n",
            "no change            9\n",
            "Name: cos_change, dtype: int64 \n",
            "\n",
            "score increased    396\n",
            "score decreased    132\n",
            "no change            9\n",
            "Name: cos_change, dtype: int64 \n",
            "\n",
            "score increased    307\n",
            "score decreased    156\n",
            "Name: cos_change, dtype: int64\n"
          ]
        }
      ]
    },
    {
      "cell_type": "code",
      "metadata": {
        "colab": {
          "base_uri": "https://localhost:8080/"
        },
        "id": "eVcyTHSQ3Hql",
        "outputId": "4dedb38a-3177-430e-b618-3ab4fefc7336"
      },
      "source": [
        "print(ml_cos_change.cos_change.value_counts(), \"\\n\")\n",
        "print(ml_cos_change[ml_cos_change.best_trans_source == 'indictrans'].cos_change.value_counts(), \"\\n\")\n",
        "print(ml_cos_change[ml_cos_change.best_trans_source == 'mbart'].cos_change.value_counts())"
      ],
      "execution_count": 25,
      "outputs": [
        {
          "output_type": "stream",
          "name": "stdout",
          "text": [
            "score increased    706\n",
            "score decreased    294\n",
            "Name: cos_change, dtype: int64 \n",
            "\n",
            "score increased    520\n",
            "score decreased    209\n",
            "Name: cos_change, dtype: int64 \n",
            "\n",
            "score increased    186\n",
            "score decreased     85\n",
            "Name: cos_change, dtype: int64\n"
          ]
        }
      ]
    },
    {
      "cell_type": "code",
      "metadata": {
        "colab": {
          "base_uri": "https://localhost:8080/"
        },
        "id": "O5bkUWx3ACMF",
        "outputId": "c808a7f3-e18e-4388-c43d-a460724de6b2"
      },
      "source": [
        "# See if the chosen translation has a higher/lower/the same character edit distance as the translation not chosen\n",
        "print(len(indic_chosen[indic_chosen.indictrans_edit < indic_chosen.bart_edit]))\n",
        "print(len(indic_chosen[indic_chosen.indictrans_edit == indic_chosen.bart_edit]))\n",
        "print(len(indic_chosen[indic_chosen.indictrans_edit > indic_chosen.bart_edit]))"
      ],
      "execution_count": 26,
      "outputs": [
        {
          "output_type": "stream",
          "name": "stdout",
          "text": [
            "1509\n",
            "84\n",
            "368\n"
          ]
        }
      ]
    },
    {
      "cell_type": "code",
      "metadata": {
        "colab": {
          "base_uri": "https://localhost:8080/"
        },
        "id": "X4vXzBFoAc9Z",
        "outputId": "186d573b-a325-4f7d-cc41-09c335a391d5"
      },
      "source": [
        "print(len(mbart_chosen[mbart_chosen.bart_edit < mbart_chosen.indictrans_edit]))\n",
        "print(len(mbart_chosen[mbart_chosen.bart_edit == mbart_chosen.indictrans_edit]))\n",
        "print(len(mbart_chosen[mbart_chosen.bart_edit > mbart_chosen.indictrans_edit]))"
      ],
      "execution_count": 27,
      "outputs": [
        {
          "output_type": "stream",
          "name": "stdout",
          "text": [
            "416\n",
            "47\n",
            "576\n"
          ]
        }
      ]
    },
    {
      "cell_type": "code",
      "metadata": {
        "colab": {
          "base_uri": "https://localhost:8080/"
        },
        "id": "uSLTDcMiCk46",
        "outputId": "93c05a8f-9e56-47b7-e081-e273ab27ab5c"
      },
      "source": [
        "hi_cos_change.columns"
      ],
      "execution_count": 28,
      "outputs": [
        {
          "output_type": "execute_result",
          "data": {
            "text/plain": [
              "Index(['language_task', 'target_sentence', 'bart_translation',\n",
              "       'bart_paraphrase_score', 'bart_cosine_score', 'indictrans_translation',\n",
              "       'indictrans_paraphrase_score', 'indictrans_cosine_score', 'best_trans',\n",
              "       'best_trans_source', 'cos_change', 'best_paraphrase_cos',\n",
              "       'best_paraphrase_para', 'indictrans_edit', 'bart_edit', 'editd_chosen',\n",
              "       'best_paraphrase_edit'],\n",
              "      dtype='object')"
            ]
          },
          "metadata": {},
          "execution_count": 28
        }
      ]
    },
    {
      "cell_type": "code",
      "metadata": {
        "colab": {
          "base_uri": "https://localhost:8080/",
          "height": 487
        },
        "id": "mevESydmCwI3",
        "outputId": "df86860f-c03e-4f8c-bc1e-7fbc0eb07c2c"
      },
      "source": [
        "hi_cos_change.head()"
      ],
      "execution_count": 29,
      "outputs": [
        {
          "output_type": "execute_result",
          "data": {
            "text/html": [
              "<div>\n",
              "<style scoped>\n",
              "    .dataframe tbody tr th:only-of-type {\n",
              "        vertical-align: middle;\n",
              "    }\n",
              "\n",
              "    .dataframe tbody tr th {\n",
              "        vertical-align: top;\n",
              "    }\n",
              "\n",
              "    .dataframe thead th {\n",
              "        text-align: right;\n",
              "    }\n",
              "</style>\n",
              "<table border=\"1\" class=\"dataframe\">\n",
              "  <thead>\n",
              "    <tr style=\"text-align: right;\">\n",
              "      <th></th>\n",
              "      <th>language_task</th>\n",
              "      <th>target_sentence</th>\n",
              "      <th>bart_translation</th>\n",
              "      <th>bart_paraphrase_score</th>\n",
              "      <th>bart_cosine_score</th>\n",
              "      <th>indictrans_translation</th>\n",
              "      <th>indictrans_paraphrase_score</th>\n",
              "      <th>indictrans_cosine_score</th>\n",
              "      <th>best_trans</th>\n",
              "      <th>best_trans_source</th>\n",
              "      <th>cos_change</th>\n",
              "      <th>best_paraphrase_cos</th>\n",
              "      <th>best_paraphrase_para</th>\n",
              "      <th>indictrans_edit</th>\n",
              "      <th>bart_edit</th>\n",
              "      <th>editd_chosen</th>\n",
              "      <th>best_paraphrase_edit</th>\n",
              "    </tr>\n",
              "  </thead>\n",
              "  <tbody>\n",
              "    <tr>\n",
              "      <th>0</th>\n",
              "      <td>Hindi</td>\n",
              "      <td>प्रधानमंत्री ने कहा कि बाबा साहेब अम्बेडकर की ...</td>\n",
              "      <td>Prime Minister said Babasaheb Ambedkar has a k...</td>\n",
              "      <td>0.296427</td>\n",
              "      <td>0.770237</td>\n",
              "      <td>प्रधानमंत्री ने कहा कि करोड़ों लोगों के दिलों ...</td>\n",
              "      <td>0.964050</td>\n",
              "      <td>0.948379</td>\n",
              "      <td>प्रधानमंत्री ने कहा कि करोड़ों लोगों के दिलों ...</td>\n",
              "      <td>indictrans</td>\n",
              "      <td>score increased</td>\n",
              "      <td>0.948379</td>\n",
              "      <td>0.964050</td>\n",
              "      <td>67</td>\n",
              "      <td>126</td>\n",
              "      <td>-59</td>\n",
              "      <td>67</td>\n",
              "    </tr>\n",
              "    <tr>\n",
              "      <th>1</th>\n",
              "      <td>Hindi</td>\n",
              "      <td>इस समारोह को आज बीजापुर में आयोजित करने के महत...</td>\n",
              "      <td>आज बीजापुर में इस समारोह को आयोजित करने के महत...</td>\n",
              "      <td>0.961452</td>\n",
              "      <td>0.946777</td>\n",
              "      <td>आज बीजापुर में इस कार्यक्रम के आयोजन के महत्व ...</td>\n",
              "      <td>0.975653</td>\n",
              "      <td>0.973164</td>\n",
              "      <td>आज बीजापुर में इस कार्यक्रम के आयोजन के महत्व ...</td>\n",
              "      <td>indictrans</td>\n",
              "      <td>score increased</td>\n",
              "      <td>0.973164</td>\n",
              "      <td>0.975653</td>\n",
              "      <td>56</td>\n",
              "      <td>43</td>\n",
              "      <td>13</td>\n",
              "      <td>56</td>\n",
              "    </tr>\n",
              "    <tr>\n",
              "      <th>2</th>\n",
              "      <td>Hindi</td>\n",
              "      <td>उन्होंने कहा कि इस कार्य को 2022 तक पूरा कर ले...</td>\n",
              "      <td>उन्होंने कहा कि लक्ष्य 2022 तक इस कार्य को पूर...</td>\n",
              "      <td>0.984172</td>\n",
              "      <td>0.956433</td>\n",
              "      <td>उन्होंने कहा कि इस कार्य को 2022 तक पूरा करने ...</td>\n",
              "      <td>0.987264</td>\n",
              "      <td>0.985965</td>\n",
              "      <td>उन्होंने कहा कि इस कार्य को 2022 तक पूरा करने ...</td>\n",
              "      <td>indictrans</td>\n",
              "      <td>score increased</td>\n",
              "      <td>0.985965</td>\n",
              "      <td>0.987264</td>\n",
              "      <td>3</td>\n",
              "      <td>26</td>\n",
              "      <td>-23</td>\n",
              "      <td>3</td>\n",
              "    </tr>\n",
              "    <tr>\n",
              "      <th>3</th>\n",
              "      <td>Hindi</td>\n",
              "      <td>प्रधानमंत्री ने कहा कि सरकार स्पष्ट लक्ष्यों औ...</td>\n",
              "      <td>प्रधानमंत्री ने कहा कि सरकार स्पष्ट लक्ष्यों औ...</td>\n",
              "      <td>0.987658</td>\n",
              "      <td>0.965325</td>\n",
              "      <td>प्रधानमंत्री ने कहा कि सरकार स्पष्ट लक्ष्यों औ...</td>\n",
              "      <td>0.989116</td>\n",
              "      <td>0.986373</td>\n",
              "      <td>प्रधानमंत्री ने कहा कि सरकार स्पष्ट लक्ष्यों औ...</td>\n",
              "      <td>indictrans</td>\n",
              "      <td>score increased</td>\n",
              "      <td>0.986373</td>\n",
              "      <td>0.989116</td>\n",
              "      <td>3</td>\n",
              "      <td>3</td>\n",
              "      <td>0</td>\n",
              "      <td>3</td>\n",
              "    </tr>\n",
              "    <tr>\n",
              "      <th>4</th>\n",
              "      <td>Hindi</td>\n",
              "      <td>उन्होंने इस संदर्भ में जन धन खाता खोलने, गरीबो...</td>\n",
              "      <td>इस संदर्भ में उन्होंने जनधन खाते खोलने, गरीबों...</td>\n",
              "      <td>0.979594</td>\n",
              "      <td>0.979276</td>\n",
              "      <td>इस संदर्भ में उन्होंने जन धन खाते खोलने, गरीबो...</td>\n",
              "      <td>0.986208</td>\n",
              "      <td>0.992806</td>\n",
              "      <td>इस संदर्भ में उन्होंने जन धन खाते खोलने, गरीबो...</td>\n",
              "      <td>indictrans</td>\n",
              "      <td>score increased</td>\n",
              "      <td>0.992806</td>\n",
              "      <td>0.986208</td>\n",
              "      <td>38</td>\n",
              "      <td>58</td>\n",
              "      <td>-20</td>\n",
              "      <td>38</td>\n",
              "    </tr>\n",
              "  </tbody>\n",
              "</table>\n",
              "</div>"
            ],
            "text/plain": [
              "  language_task  ... best_paraphrase_edit\n",
              "0         Hindi  ...                   67\n",
              "1         Hindi  ...                   56\n",
              "2         Hindi  ...                    3\n",
              "3         Hindi  ...                    3\n",
              "4         Hindi  ...                   38\n",
              "\n",
              "[5 rows x 17 columns]"
            ]
          },
          "metadata": {},
          "execution_count": 29
        }
      ]
    },
    {
      "cell_type": "code",
      "metadata": {
        "colab": {
          "base_uri": "https://localhost:8080/"
        },
        "id": "8ieGQM9WCZu8",
        "outputId": "58241eff-0691-47dd-c02e-5c5d92d29573"
      },
      "source": [
        "# Print the edit distance for Hindi by translator chosen\n",
        "# For Hindi, when IndicTrans was chosen as the best translator, it usually had a shorter edit distance\n",
        "print(len(hi_cos_change[(hi_cos_change.best_trans_source == 'indictrans') & (hi_cos_change.indictrans_edit < hi_cos_change.bart_edit)]))\n",
        "print(len(hi_cos_change[(hi_cos_change.best_trans_source == 'indictrans') & (hi_cos_change.indictrans_edit == hi_cos_change.bart_edit)]))\n",
        "print(len(hi_cos_change[(hi_cos_change.best_trans_source == 'indictrans') & (hi_cos_change.indictrans_edit > hi_cos_change.bart_edit)]), \"\\n\")\n",
        "\n",
        "# For Hindi, when Bart was chosen as the best translator, 49% of the time, the IndicTrans translation had a smaller edit distance\n",
        "print(len(hi_cos_change[(hi_cos_change.best_trans_source == 'mbart') & (hi_cos_change.bart_edit < hi_cos_change.indictrans_edit)]))\n",
        "print(len(hi_cos_change[(hi_cos_change.best_trans_source == 'mbart') & (hi_cos_change.bart_edit == hi_cos_change.indictrans_edit)]))\n",
        "print(len(hi_cos_change[(hi_cos_change.best_trans_source == 'mbart') & (hi_cos_change.bart_edit > hi_cos_change.indictrans_edit)]))"
      ],
      "execution_count": 30,
      "outputs": [
        {
          "output_type": "stream",
          "name": "stdout",
          "text": [
            "535\n",
            "47\n",
            "113 \n",
            "\n",
            "145\n",
            "11\n",
            "149\n"
          ]
        }
      ]
    },
    {
      "cell_type": "code",
      "metadata": {
        "colab": {
          "base_uri": "https://localhost:8080/"
        },
        "id": "56N8ezTpEJVg",
        "outputId": "8b52d162-2e88-4c99-9f2e-7c9863018e7d"
      },
      "source": [
        "# Print the edit distance for Tamil by translator chosen\n",
        "# For Tamil, when IndicTrans was chosen as the best translator, it usually had a shorter edit distance\n",
        "print(len(ta_cos_change[(ta_cos_change.best_trans_source == 'indictrans') & (ta_cos_change.indictrans_edit < ta_cos_change.bart_edit)]))\n",
        "print(len(ta_cos_change[(ta_cos_change.best_trans_source == 'indictrans') & (ta_cos_change.indictrans_edit == ta_cos_change.bart_edit)]))\n",
        "print(len(ta_cos_change[(ta_cos_change.best_trans_source == 'indictrans') & (ta_cos_change.indictrans_edit > ta_cos_change.bart_edit)]), \"\\n\")\n",
        "\n",
        "# For Tamil, when Bart was chosen as the best translator, 49% of the time, the IndicTrans translation had a smaller edit distance\n",
        "print(len(ta_cos_change[(ta_cos_change.best_trans_source == 'mbart') & (ta_cos_change.bart_edit < ta_cos_change.indictrans_edit)]))\n",
        "print(len(ta_cos_change[(ta_cos_change.best_trans_source == 'mbart') & (ta_cos_change.bart_edit == ta_cos_change.indictrans_edit)]))\n",
        "print(len(ta_cos_change[(ta_cos_change.best_trans_source == 'mbart') & (ta_cos_change.bart_edit > ta_cos_change.indictrans_edit)]))"
      ],
      "execution_count": 31,
      "outputs": [
        {
          "output_type": "stream",
          "name": "stdout",
          "text": [
            "339\n",
            "24\n",
            "174 \n",
            "\n",
            "209\n",
            "25\n",
            "229\n"
          ]
        }
      ]
    },
    {
      "cell_type": "code",
      "metadata": {
        "colab": {
          "base_uri": "https://localhost:8080/"
        },
        "id": "GzlCf4eHEuSI",
        "outputId": "01aa6477-ca42-46ca-ed0f-337012e0f993"
      },
      "source": [
        "# For Malayalam, when IndicTrans was chosen as the best translator, it usually had a shorter edit distance\n",
        "print(len(ml_cos_change[(ml_cos_change.best_trans_source == 'indictrans') & (ml_cos_change.indictrans_edit < ml_cos_change.bart_edit)]))\n",
        "print(len(ml_cos_change[(ml_cos_change.best_trans_source == 'indictrans') & (ml_cos_change.indictrans_edit == ml_cos_change.bart_edit)]))\n",
        "print(len(ml_cos_change[(ml_cos_change.best_trans_source == 'indictrans') & (ml_cos_change.indictrans_edit > ml_cos_change.bart_edit)]), \"\\n\")\n",
        "\n",
        "# For Malayalam, when Bart was chosen as the best translator, the edit distance from the translated sentence to the target\n",
        "# tends to be greater than the edit distances of the translated sentences from IndicTrans\n",
        "print(len(ml_cos_change[(ml_cos_change.best_trans_source == 'mbart') & (ml_cos_change.bart_edit < ml_cos_change.indictrans_edit)]))\n",
        "print(len(ml_cos_change[(ml_cos_change.best_trans_source == 'mbart') & (ml_cos_change.bart_edit == ml_cos_change.indictrans_edit)]))\n",
        "print(len(ml_cos_change[(ml_cos_change.best_trans_source == 'mbart') & (ml_cos_change.bart_edit > ml_cos_change.indictrans_edit)]))"
      ],
      "execution_count": 32,
      "outputs": [
        {
          "output_type": "stream",
          "name": "stdout",
          "text": [
            "635\n",
            "13\n",
            "81 \n",
            "\n",
            "62\n",
            "11\n",
            "198\n"
          ]
        }
      ]
    },
    {
      "cell_type": "code",
      "metadata": {
        "id": "HGDFTdnhP3Vk"
      },
      "source": [
        "# We'll now create corpuses for each language - for IndicTrans translations when chosen and their target texts\n",
        "hi_indict = indic_chosen[indic_chosen.language_task == 'Hindi']\n",
        "ta_indict = indic_chosen[indic_chosen.language_task == 'Tamil']\n",
        "ml_indict = indic_chosen[indic_chosen.language_task == 'Malayalam']\n",
        "\n",
        "# And again for the MBart translations when chosen and their target texts\n",
        "hi_mbart = mbart_chosen[mbart_chosen.language_task == 'Hindi']\n",
        "ta_mbart = mbart_chosen[mbart_chosen.language_task == 'Tamil']\n",
        "ml_mbart = mbart_chosen[mbart_chosen.language_task == 'Malayalam']\n",
        "\n",
        "# Save the target translations and the best translations for each language to a separate txt file\n",
        "np.savetxt(D+\"/predicted_text/siamese_evaluations_of_translations/indict_hi_target_layernorm.txt\", hi_indict.target_sentence.values, fmt='%s', newline='\\n')\n",
        "np.savetxt(D+\"/predicted_text/siamese_evaluations_of_translations/indict_hi_trans_layernorm.txt\", hi_indict.best_trans.values, fmt='%s', newline='\\n')\n",
        "np.savetxt(D+\"/predicted_text/siamese_evaluations_of_translations/indict_ta_target_layernorm.txt\", ta_indict.target_sentence.values, fmt='%s', newline='\\n')\n",
        "np.savetxt(D+\"/predicted_text/siamese_evaluations_of_translations/indict_ta_trans_layernorm.txt\", ta_indict.best_trans.values, fmt='%s', newline='\\n')\n",
        "np.savetxt(D+\"/predicted_text/siamese_evaluations_of_translations/indict_ml_target_layernorm.txt\", ml_indict.target_sentence.values, fmt='%s', newline='\\n')\n",
        "np.savetxt(D+\"/predicted_text/siamese_evaluations_of_translations/indict_ml_trans_layernorm.txt\", ml_indict.best_trans.values, fmt='%s', newline='\\n')\n",
        "\n",
        "np.savetxt(D+\"/predicted_text/siamese_evaluations_of_translations/mbart_hi_target_layernorm.txt\", hi_mbart.target_sentence.values, fmt='%s', newline='\\n')\n",
        "np.savetxt(D+\"/predicted_text/siamese_evaluations_of_translations/mbart_hi_trans_layernorm.txt\", hi_mbart.best_trans.values, fmt='%s', newline='\\n')\n",
        "np.savetxt(D+\"/predicted_text/siamese_evaluations_of_translations/mbart_ta_target_layernorm.txt\", ta_mbart.target_sentence.values, fmt='%s', newline='\\n')\n",
        "np.savetxt(D+\"/predicted_text/siamese_evaluations_of_translations/mbart_ta_trans_layernorm.txt\", ta_mbart.best_trans.values, fmt='%s', newline='\\n')\n",
        "np.savetxt(D+\"/predicted_text/siamese_evaluations_of_translations/mbart_ml_target_layernorm.txt\", ml_mbart.target_sentence.values, fmt='%s', newline='\\n')\n",
        "np.savetxt(D+\"/predicted_text/siamese_evaluations_of_translations/mbart_ml_trans_layernorm.txt\", ml_mbart.best_trans.values, fmt='%s', newline='\\n')"
      ],
      "execution_count": 33,
      "outputs": []
    },
    {
      "cell_type": "code",
      "metadata": {
        "colab": {
          "base_uri": "https://localhost:8080/"
        },
        "id": "Er8glBzlQ0Rf",
        "outputId": "c4070607-bb32-42fd-e587-6e10fd8d2b70"
      },
      "source": [
        "# cd into the directory where the files are saved then compute Sacre Bleu scores\n",
        "%cd /content/drive/MyDrive/W266_Project_Data/pmi_data/predicted_text/siamese_evaluations_of_translations/"
      ],
      "execution_count": 34,
      "outputs": [
        {
          "output_type": "stream",
          "name": "stdout",
          "text": [
            "/content/drive/MyDrive/W266_Project_Data/pmi_data/predicted_text/siamese_evaluations_of_translations\n"
          ]
        }
      ]
    },
    {
      "cell_type": "code",
      "metadata": {
        "colab": {
          "base_uri": "https://localhost:8080/"
        },
        "id": "1YLqlMihQ4ji",
        "outputId": "4b99c158-7a48-4591-c799-2dffa0b5d276"
      },
      "source": [
        "# Get the Hindi Sacre Bleu scores when IndicTrans is chosen as the \"better translation\"\n",
        "!sacrebleu indict_hi_trans_layernorm.txt -i indict_hi_target_layernorm.txt --tokenize intl\n",
        "\n",
        "# Get the Hindi Sacre Bleu scores when MBart is chosen as the \"better translation\"\n",
        "!sacrebleu mbart_hi_trans_layernorm.txt -i mbart_hi_target_layernorm.txt --tokenize intl"
      ],
      "execution_count": 35,
      "outputs": [
        {
          "output_type": "stream",
          "name": "stdout",
          "text": [
            "{\n",
            " \"name\": \"BLEU\",\n",
            " \"score\": 42.7,\n",
            " \"signature\": \"nrefs:1|case:mixed|eff:no|tok:intl|smooth:exp|version:2.0.0\",\n",
            " \"verbose_score\": \"70.6/49.5/35.7/26.5 (BP = 1.000 ratio = 1.027 hyp_len = 13765 ref_len = 13402)\",\n",
            " \"nrefs\": \"1\",\n",
            " \"case\": \"mixed\",\n",
            " \"eff\": \"no\",\n",
            " \"tok\": \"intl\",\n",
            " \"smooth\": \"exp\",\n",
            " \"version\": \"2.0.0\"\n",
            "}\n",
            "\u001b[0m{\n",
            " \"name\": \"BLEU\",\n",
            " \"score\": 28.8,\n",
            " \"signature\": \"nrefs:1|case:mixed|eff:no|tok:intl|smooth:exp|version:2.0.0\",\n",
            " \"verbose_score\": \"61.2/36.0/22.3/13.9 (BP = 1.000 ratio = 1.008 hyp_len = 5792 ref_len = 5745)\",\n",
            " \"nrefs\": \"1\",\n",
            " \"case\": \"mixed\",\n",
            " \"eff\": \"no\",\n",
            " \"tok\": \"intl\",\n",
            " \"smooth\": \"exp\",\n",
            " \"version\": \"2.0.0\"\n",
            "}\n",
            "\u001b[0m"
          ]
        }
      ]
    },
    {
      "cell_type": "code",
      "metadata": {
        "colab": {
          "base_uri": "https://localhost:8080/"
        },
        "id": "3iZKIIxwTUth",
        "outputId": "69c0ddc7-4ec0-4d65-a894-48c9a619e48c"
      },
      "source": [
        "# Repeat for Malayalam\n",
        "!sacrebleu indict_ml_trans_layernorm.txt -i indict_ml_target_layernorm.txt --tokenize intl\n",
        "!sacrebleu mbart_ml_trans_layernorm.txt -i mbart_ml_target_layernorm.txt --tokenize intl"
      ],
      "execution_count": 36,
      "outputs": [
        {
          "output_type": "stream",
          "name": "stdout",
          "text": [
            "{\n",
            " \"name\": \"BLEU\",\n",
            " \"score\": 9.2,\n",
            " \"signature\": \"nrefs:1|case:mixed|eff:no|tok:intl|smooth:exp|version:2.0.0\",\n",
            " \"verbose_score\": \"38.5/13.2/5.7/2.4 (BP = 1.000 ratio = 1.007 hyp_len = 8762 ref_len = 8705)\",\n",
            " \"nrefs\": \"1\",\n",
            " \"case\": \"mixed\",\n",
            " \"eff\": \"no\",\n",
            " \"tok\": \"intl\",\n",
            " \"smooth\": \"exp\",\n",
            " \"version\": \"2.0.0\"\n",
            "}\n",
            "\u001b[0m{\n",
            " \"name\": \"BLEU\",\n",
            " \"score\": 1.7,\n",
            " \"signature\": \"nrefs:1|case:mixed|eff:no|tok:intl|smooth:exp|version:2.0.0\",\n",
            " \"verbose_score\": \"25.2/3.4/0.7/0.3 (BP = 0.852 ratio = 0.862 hyp_len = 3167 ref_len = 3676)\",\n",
            " \"nrefs\": \"1\",\n",
            " \"case\": \"mixed\",\n",
            " \"eff\": \"no\",\n",
            " \"tok\": \"intl\",\n",
            " \"smooth\": \"exp\",\n",
            " \"version\": \"2.0.0\"\n",
            "}\n",
            "\u001b[0m"
          ]
        }
      ]
    },
    {
      "cell_type": "code",
      "metadata": {
        "colab": {
          "base_uri": "https://localhost:8080/"
        },
        "id": "e5BgXiVSTkGF",
        "outputId": "7888ed82-6484-4ff4-c855-8a43e32fe74d"
      },
      "source": [
        "# Repeat for Tamil\n",
        "!sacrebleu indict_ta_trans_layernorm.txt -i indict_ta_target_layernorm.txt --tokenize intl\n",
        "!sacrebleu mbart_ta_trans_layernorm.txt -i mbart_ta_target_layernorm.txt --tokenize intl"
      ],
      "execution_count": 37,
      "outputs": [
        {
          "output_type": "stream",
          "name": "stdout",
          "text": [
            "{\n",
            " \"name\": \"BLEU\",\n",
            " \"score\": 17.1,\n",
            " \"signature\": \"nrefs:1|case:mixed|eff:no|tok:intl|smooth:exp|version:2.0.0\",\n",
            " \"verbose_score\": \"47.5/22.5/12.1/6.7 (BP = 1.000 ratio = 1.049 hyp_len = 7755 ref_len = 7391)\",\n",
            " \"nrefs\": \"1\",\n",
            " \"case\": \"mixed\",\n",
            " \"eff\": \"no\",\n",
            " \"tok\": \"intl\",\n",
            " \"smooth\": \"exp\",\n",
            " \"version\": \"2.0.0\"\n",
            "}\n",
            "\u001b[0m{\n",
            " \"name\": \"BLEU\",\n",
            " \"score\": 13.5,\n",
            " \"signature\": \"nrefs:1|case:mixed|eff:no|tok:intl|smooth:exp|version:2.0.0\",\n",
            " \"verbose_score\": \"43.4/18.5/9.0/4.6 (BP = 1.000 ratio = 1.042 hyp_len = 6670 ref_len = 6400)\",\n",
            " \"nrefs\": \"1\",\n",
            " \"case\": \"mixed\",\n",
            " \"eff\": \"no\",\n",
            " \"tok\": \"intl\",\n",
            " \"smooth\": \"exp\",\n",
            " \"version\": \"2.0.0\"\n",
            "}\n",
            "\u001b[0m"
          ]
        }
      ]
    },
    {
      "cell_type": "markdown",
      "metadata": {
        "id": "Ip-yVd6sUZ20"
      },
      "source": [
        "So when Bart is considered to have produced the better translation, its sentences have less overlap with the target than do the translated sentences from IndicTrans when it is considered the better translator.\n",
        "Let's look at scores for the same sentences."
      ]
    },
    {
      "cell_type": "code",
      "metadata": {
        "id": "NLnC4BILUlJX"
      },
      "source": [
        "# Save the Bart translations when IndicTrans is considered the better translator\n",
        "np.savetxt(D+\"/predicted_text/siamese_evaluations_of_translations/hi_bart_bestindic_layernorm.txt\", \n",
        "           hi_indict.bart_translation.values, fmt='%s', newline='\\n')\n",
        "np.savetxt(D+\"/predicted_text/siamese_evaluations_of_translations/ml_bart_bestindic_layernorm.txt\", \n",
        "           ml_indict.bart_translation.values, fmt='%s', newline='\\n')\n",
        "np.savetxt(D+\"/predicted_text/siamese_evaluations_of_translations/ta_bart_bestindic_layernorm.txt\", \n",
        "           ta_indict.bart_translation.values, fmt='%s', newline='\\n')"
      ],
      "execution_count": 38,
      "outputs": []
    },
    {
      "cell_type": "markdown",
      "metadata": {
        "id": "9mwpYcwiZjmK"
      },
      "source": [
        "When IndicTrans translations are chosen as the \"better\" translation, their Sacre Bleu scores are higher than the MBart sentences that were not chosen (as seen below). However (as seen below), MBart chosen sentences have lower Sacre Bleu scores for Hindi than their IndicTrans counterparts that were not chosen. The SacreBleu scores of MBart chosen and IndicTrans not chosen sentences are equivalent for Tamil."
      ]
    },
    {
      "cell_type": "code",
      "metadata": {
        "colab": {
          "base_uri": "https://localhost:8080/"
        },
        "id": "X8XafNAXVT2j",
        "outputId": "8d7da819-701f-4a16-ebfc-424b4ff7fd53"
      },
      "source": [
        "# Get the Sacre Bleu scores for the MBart translations for Hindi, Tamil, and Malayam, when IndicTrans is considered better\n",
        "# The Hindi score is 27.8 vs 42.7 from IndicTrans\n",
        "!sacrebleu hi_bart_bestindic_layernorm.txt -i indict_hi_target_layernorm.txt --tokenize intl\n",
        "# The Malayalam score is 1.1 vs 9.2 from IndicTrans\n",
        "!sacrebleu ml_bart_bestindic_layernorm.txt -i indict_ml_target_layernorm.txt --tokenize intl\n",
        "# The Tamil score is 12.5 vs 17.1 from IndicTrans\n",
        "!sacrebleu ta_bart_bestindic_layernorm.txt -i indict_ta_target_layernorm.txt --tokenize intl"
      ],
      "execution_count": 39,
      "outputs": [
        {
          "output_type": "stream",
          "name": "stdout",
          "text": [
            "{\n",
            " \"name\": \"BLEU\",\n",
            " \"score\": 27.8,\n",
            " \"signature\": \"nrefs:1|case:mixed|eff:no|tok:intl|smooth:exp|version:2.0.0\",\n",
            " \"verbose_score\": \"58.7/34.6/21.4/13.6 (BP = 1.000 ratio = 1.029 hyp_len = 13765 ref_len = 13372)\",\n",
            " \"nrefs\": \"1\",\n",
            " \"case\": \"mixed\",\n",
            " \"eff\": \"no\",\n",
            " \"tok\": \"intl\",\n",
            " \"smooth\": \"exp\",\n",
            " \"version\": \"2.0.0\"\n",
            "}\n",
            "\u001b[0m{\n",
            " \"name\": \"BLEU\",\n",
            " \"score\": 1.1,\n",
            " \"signature\": \"nrefs:1|case:mixed|eff:no|tok:intl|smooth:exp|version:2.0.0\",\n",
            " \"verbose_score\": \"22.8/2.9/0.5/0.1 (BP = 0.797 ratio = 0.815 hyp_len = 8762 ref_len = 10753)\",\n",
            " \"nrefs\": \"1\",\n",
            " \"case\": \"mixed\",\n",
            " \"eff\": \"no\",\n",
            " \"tok\": \"intl\",\n",
            " \"smooth\": \"exp\",\n",
            " \"version\": \"2.0.0\"\n",
            "}\n",
            "\u001b[0m{\n",
            " \"name\": \"BLEU\",\n",
            " \"score\": 12.5,\n",
            " \"signature\": \"nrefs:1|case:mixed|eff:no|tok:intl|smooth:exp|version:2.0.0\",\n",
            " \"verbose_score\": \"41.3/16.8/8.3/4.2 (BP = 1.000 ratio = 1.062 hyp_len = 7755 ref_len = 7305)\",\n",
            " \"nrefs\": \"1\",\n",
            " \"case\": \"mixed\",\n",
            " \"eff\": \"no\",\n",
            " \"tok\": \"intl\",\n",
            " \"smooth\": \"exp\",\n",
            " \"version\": \"2.0.0\"\n",
            "}\n",
            "\u001b[0m"
          ]
        }
      ]
    },
    {
      "cell_type": "code",
      "metadata": {
        "id": "otVYpUBNWSGn"
      },
      "source": [
        "# Save the IndicTrans translations when MBart is considered the better translator\n",
        "np.savetxt(D+\"/predicted_text/siamese_evaluations_of_translations/hi_indict_bestbart_layernorm.txt\", \n",
        "           hi_mbart.indictrans_translation.values, fmt='%s', newline='\\n')\n",
        "np.savetxt(D+\"/predicted_text/siamese_evaluations_of_translations/ml_indict_bestbart_layernorm.txt\", \n",
        "           ml_mbart.bart_translation.values, fmt='%s', newline='\\n')\n",
        "np.savetxt(D+\"/predicted_text/siamese_evaluations_of_translations/ta_indict_bestbart_layernorm.txt\", \n",
        "           ta_mbart.bart_translation.values, fmt='%s', newline='\\n')"
      ],
      "execution_count": 40,
      "outputs": []
    },
    {
      "cell_type": "code",
      "metadata": {
        "colab": {
          "base_uri": "https://localhost:8080/"
        },
        "id": "W1Sxr5uWWrmW",
        "outputId": "02f65ab0-4cd7-41a5-ddc4-3218e0c8ab3c"
      },
      "source": [
        "# When MBart is considered to have produced the better translation\n",
        "# The Hindi IndicTrans scores are 30.2 vs 28.8 from MBart\n",
        "!sacrebleu hi_indict_bestbart_layernorm.txt -i mbart_hi_target_layernorm.txt --tokenize intl\n",
        "# The Malayalam IndicTrans scores are 1.7 vs 1.7 from MBart\n",
        "!sacrebleu ml_indict_bestbart_layernorm.txt -i mbart_ml_target_layernorm.txt --tokenize intl\n",
        "# The Tamil IndicTrans scores are 13.5 vs 13.5 from MBart\n",
        "!sacrebleu ta_indict_bestbart_layernorm.txt -i mbart_ta_target_layernorm.txt --tokenize intl"
      ],
      "execution_count": 41,
      "outputs": [
        {
          "output_type": "stream",
          "name": "stdout",
          "text": [
            "{\n",
            " \"name\": \"BLEU\",\n",
            " \"score\": 30.2,\n",
            " \"signature\": \"nrefs:1|case:mixed|eff:no|tok:intl|smooth:exp|version:2.0.0\",\n",
            " \"verbose_score\": \"62.1/37.7/23.5/15.2 (BP = 1.000 ratio = 1.004 hyp_len = 5792 ref_len = 5771)\",\n",
            " \"nrefs\": \"1\",\n",
            " \"case\": \"mixed\",\n",
            " \"eff\": \"no\",\n",
            " \"tok\": \"intl\",\n",
            " \"smooth\": \"exp\",\n",
            " \"version\": \"2.0.0\"\n",
            "}\n",
            "\u001b[0m{\n",
            " \"name\": \"BLEU\",\n",
            " \"score\": 1.7,\n",
            " \"signature\": \"nrefs:1|case:mixed|eff:no|tok:intl|smooth:exp|version:2.0.0\",\n",
            " \"verbose_score\": \"25.2/3.4/0.7/0.3 (BP = 0.852 ratio = 0.862 hyp_len = 3167 ref_len = 3676)\",\n",
            " \"nrefs\": \"1\",\n",
            " \"case\": \"mixed\",\n",
            " \"eff\": \"no\",\n",
            " \"tok\": \"intl\",\n",
            " \"smooth\": \"exp\",\n",
            " \"version\": \"2.0.0\"\n",
            "}\n",
            "\u001b[0m{\n",
            " \"name\": \"BLEU\",\n",
            " \"score\": 13.5,\n",
            " \"signature\": \"nrefs:1|case:mixed|eff:no|tok:intl|smooth:exp|version:2.0.0\",\n",
            " \"verbose_score\": \"43.4/18.5/9.0/4.6 (BP = 1.000 ratio = 1.042 hyp_len = 6670 ref_len = 6400)\",\n",
            " \"nrefs\": \"1\",\n",
            " \"case\": \"mixed\",\n",
            " \"eff\": \"no\",\n",
            " \"tok\": \"intl\",\n",
            " \"smooth\": \"exp\",\n",
            " \"version\": \"2.0.0\"\n",
            "}\n",
            "\u001b[0m"
          ]
        }
      ]
    },
    {
      "cell_type": "code",
      "metadata": {
        "colab": {
          "base_uri": "https://localhost:8080/"
        },
        "id": "7Ts1EgIvjXQv",
        "outputId": "97f017dc-ffe3-4e7f-885b-951971db8a49"
      },
      "source": [
        "mbart_chosen.columns"
      ],
      "execution_count": 42,
      "outputs": [
        {
          "output_type": "execute_result",
          "data": {
            "text/plain": [
              "Index(['language_task', 'target_sentence', 'bart_translation',\n",
              "       'bart_paraphrase_score', 'bart_cosine_score', 'indictrans_translation',\n",
              "       'indictrans_paraphrase_score', 'indictrans_cosine_score', 'best_trans',\n",
              "       'best_trans_source', 'cos_change', 'best_paraphrase_cos',\n",
              "       'best_paraphrase_para', 'indictrans_edit', 'bart_edit', 'editd_chosen',\n",
              "       'best_paraphrase_edit'],\n",
              "      dtype='object')"
            ]
          },
          "metadata": {},
          "execution_count": 42
        }
      ]
    },
    {
      "cell_type": "code",
      "metadata": {
        "id": "s-YH5hf5hcjC"
      },
      "source": [
        "# Look at cosine similarity scores for each language when MBart was chosen as the better translator\n",
        "# Select only the cosine similarity scores for both MBart and IndicTrans\n",
        "df = mbart_chosen[[\"language_task\", \"bart_cosine_score\", \"indictrans_cosine_score\"]]\n",
        "\n",
        "# Use melt to reshape the values and allow for multiple column plotting\n",
        "df = df.melt('language_task', var_name='cols',  value_name='vals')"
      ],
      "execution_count": 43,
      "outputs": []
    },
    {
      "cell_type": "code",
      "metadata": {
        "colab": {
          "base_uri": "https://localhost:8080/",
          "height": 206
        },
        "id": "R1AM_jfzjvUv",
        "outputId": "47422eec-c1e0-4815-b76d-27b350cf4510"
      },
      "source": [
        "df.head()"
      ],
      "execution_count": 44,
      "outputs": [
        {
          "output_type": "execute_result",
          "data": {
            "text/html": [
              "<div>\n",
              "<style scoped>\n",
              "    .dataframe tbody tr th:only-of-type {\n",
              "        vertical-align: middle;\n",
              "    }\n",
              "\n",
              "    .dataframe tbody tr th {\n",
              "        vertical-align: top;\n",
              "    }\n",
              "\n",
              "    .dataframe thead th {\n",
              "        text-align: right;\n",
              "    }\n",
              "</style>\n",
              "<table border=\"1\" class=\"dataframe\">\n",
              "  <thead>\n",
              "    <tr style=\"text-align: right;\">\n",
              "      <th></th>\n",
              "      <th>language_task</th>\n",
              "      <th>cols</th>\n",
              "      <th>vals</th>\n",
              "    </tr>\n",
              "  </thead>\n",
              "  <tbody>\n",
              "    <tr>\n",
              "      <th>0</th>\n",
              "      <td>Hindi</td>\n",
              "      <td>bart_cosine_score</td>\n",
              "      <td>0.949312</td>\n",
              "    </tr>\n",
              "    <tr>\n",
              "      <th>1</th>\n",
              "      <td>Hindi</td>\n",
              "      <td>bart_cosine_score</td>\n",
              "      <td>0.960936</td>\n",
              "    </tr>\n",
              "    <tr>\n",
              "      <th>2</th>\n",
              "      <td>Hindi</td>\n",
              "      <td>bart_cosine_score</td>\n",
              "      <td>0.986871</td>\n",
              "    </tr>\n",
              "    <tr>\n",
              "      <th>3</th>\n",
              "      <td>Hindi</td>\n",
              "      <td>bart_cosine_score</td>\n",
              "      <td>0.945159</td>\n",
              "    </tr>\n",
              "    <tr>\n",
              "      <th>4</th>\n",
              "      <td>Hindi</td>\n",
              "      <td>bart_cosine_score</td>\n",
              "      <td>0.775883</td>\n",
              "    </tr>\n",
              "  </tbody>\n",
              "</table>\n",
              "</div>"
            ],
            "text/plain": [
              "  language_task               cols      vals\n",
              "0         Hindi  bart_cosine_score  0.949312\n",
              "1         Hindi  bart_cosine_score  0.960936\n",
              "2         Hindi  bart_cosine_score  0.986871\n",
              "3         Hindi  bart_cosine_score  0.945159\n",
              "4         Hindi  bart_cosine_score  0.775883"
            ]
          },
          "metadata": {},
          "execution_count": 44
        }
      ]
    },
    {
      "cell_type": "markdown",
      "metadata": {
        "id": "sh8bB02bkKAa"
      },
      "source": [
        "When MBart's translation is chosen as the better translation, it tends to have produced the more semantically similar sentence to the target translation, as measured by cosine similarity (despite having a higher edit distance). "
      ]
    },
    {
      "cell_type": "code",
      "metadata": {
        "colab": {
          "base_uri": "https://localhost:8080/",
          "height": 427
        },
        "id": "40GeUp89jDkQ",
        "outputId": "0677182c-f4ed-4447-f9e9-800abb3179ee"
      },
      "source": [
        "# Plot the reshaped values\n",
        "sns.set(rc={'figure.figsize':(11,6)})\n",
        "sns.boxplot(x = df['language_task'],\n",
        "            y = df['vals'],\n",
        "            hue = df['cols'], palette=\"colorblind\").set_title('Cosine Similarity Scores by Language and Translator for MBart Best')"
      ],
      "execution_count": 45,
      "outputs": [
        {
          "output_type": "execute_result",
          "data": {
            "text/plain": [
              "Text(0.5, 1.0, 'Cosine Similarity Scores by Language and Translator for MBart Best')"
            ]
          },
          "metadata": {},
          "execution_count": 45
        },
        {
          "output_type": "display_data",
          "data": {
            "image/png": "[encoded data removed]",
            "text/plain": [
              "<Figure size 792x432 with 1 Axes>"
            ]
          },
          "metadata": {}
        }
      ]
    },
    {
      "cell_type": "markdown",
      "metadata": {
        "id": "MhY_JrIOk9V3"
      },
      "source": [
        "When IndicTrans' translations are chosen as being \"better\", they too are more semantically similar to the target text as measured by cosine similarity than the MBart translations that were not chosen."
      ]
    },
    {
      "cell_type": "code",
      "metadata": {
        "colab": {
          "base_uri": "https://localhost:8080/",
          "height": 427
        },
        "id": "WZ91OejZkgRm",
        "outputId": "ca74ce03-4b9f-4334-dccd-72f6d043db06"
      },
      "source": [
        "# Repeat for IndicTrans cosine scores when IndicTrans' translations are chosen as better\n",
        "df2 = indic_chosen[[\"language_task\", \"bart_cosine_score\", \"indictrans_cosine_score\"]]\n",
        "\n",
        "# Use melt to reshape the values and allow for multiple column plotting\n",
        "df2 = df2.melt('language_task', var_name='cols',  value_name='vals')\n",
        "\n",
        "sns.boxplot(x = df2['language_task'],\n",
        "            y = df2['vals'],\n",
        "            hue = df2['cols'], palette=\"colorblind\").set_title('Cosine Similarity Scores by Language and Translator for IndicTrans Best')"
      ],
      "execution_count": 46,
      "outputs": [
        {
          "output_type": "execute_result",
          "data": {
            "text/plain": [
              "Text(0.5, 1.0, 'Cosine Similarity Scores by Language and Translator for IndicTrans Best')"
            ]
          },
          "metadata": {},
          "execution_count": 46
        },
        {
          "output_type": "display_data",
          "data": {
            "image/png": "[encoded data removed]",
            "text/plain": [
              "<Figure size 792x432 with 1 Axes>"
            ]
          },
          "metadata": {}
        }
      ]
    },
    {
      "cell_type": "code",
      "metadata": {
        "colab": {
          "base_uri": "https://localhost:8080/",
          "height": 427
        },
        "id": "cxU3ByZDegNX",
        "outputId": "709392c0-ea47-4282-d44e-e1175e7334f2"
      },
      "source": [
        "# Compare the MBart, IndicTrans, and Best Translation cosine similarity scores by language over the entire dataset\n",
        "translator_cos_compare = final[[\"language_task\", \"bart_cosine_score\", \"indictrans_cosine_score\", \"best_paraphrase_cos\"]]\n",
        "\n",
        "# Use melt to reshape the values and allow for multiple column plotting\n",
        "translator_cos_compare = translator_cos_compare.melt('language_task', var_name='cols',  value_name='vals')\n",
        "\n",
        "# The median cosine similarity score is highest when the ensemble method is used\n",
        "sns.boxplot(x = translator_cos_compare['language_task'],\n",
        "            y = translator_cos_compare['vals'],\n",
        "            hue = translator_cos_compare['cols'], palette=\"colorblind\").set_title('Cosine Similarity Scores by Language and Translator (Bart, IndicTrans, or Ensemble)')"
      ],
      "execution_count": 47,
      "outputs": [
        {
          "output_type": "execute_result",
          "data": {
            "text/plain": [
              "Text(0.5, 1.0, 'Cosine Similarity Scores by Language and Translator (Bart, IndicTrans, or Ensemble)')"
            ]
          },
          "metadata": {},
          "execution_count": 47
        },
        {
          "output_type": "display_data",
          "data": {
            "image/png": "[encoded data removed]",
            "text/plain": [
              "<Figure size 792x432 with 1 Axes>"
            ]
          },
          "metadata": {}
        }
      ]
    },
    {
      "cell_type": "code",
      "metadata": {
        "colab": {
          "base_uri": "https://localhost:8080/"
        },
        "id": "eLyPz0FTgaUU",
        "outputId": "3754c209-758a-499f-fff4-7314a7fa8e27"
      },
      "source": [
        "# Get the median cosine scores overall\n",
        "# The ensemble method results in a higher median cosine similarity score\n",
        "print(translator_cos_compare.groupby('cols', as_index=False)['vals'].median(), \"\\n\")\n",
        "\n",
        "#  Get the median cosine scores by language and translator\n",
        "# The ensemble method results in a higher median cosine similarity score for Hindi, Malayalam, and Tamil\n",
        "print(translator_cos_compare.groupby(['language_task', 'cols'], as_index=False)['vals'].median())\n"
      ],
      "execution_count": 55,
      "outputs": [
        {
          "output_type": "stream",
          "name": "stdout",
          "text": [
            "                      cols      vals\n",
            "0        bart_cosine_score  0.913600\n",
            "1      best_paraphrase_cos  0.929733\n",
            "2  indictrans_cosine_score  0.923634 \n",
            "\n",
            "  language_task                     cols      vals\n",
            "0         Hindi        bart_cosine_score  0.931233\n",
            "1         Hindi      best_paraphrase_cos  0.948123\n",
            "2         Hindi  indictrans_cosine_score  0.946205\n",
            "3     Malayalam        bart_cosine_score  0.859585\n",
            "4     Malayalam      best_paraphrase_cos  0.889961\n",
            "5     Malayalam  indictrans_cosine_score  0.881433\n",
            "6         Tamil        bart_cosine_score  0.930840\n",
            "7         Tamil      best_paraphrase_cos  0.942361\n",
            "8         Tamil  indictrans_cosine_score  0.935245\n"
          ]
        }
      ]
    },
    {
      "cell_type": "code",
      "metadata": {
        "colab": {
          "base_uri": "https://localhost:8080/",
          "height": 427
        },
        "id": "6tkmAigRfh7K",
        "outputId": "141581f5-215a-4330-baba-d337e2fe2775"
      },
      "source": [
        "# Compare the MBart, IndicTrans, and Best Translation cosine similarity scores by language over the entire dataset\n",
        "translator_edit_compare = final[[\"language_task\", \"bart_edit\", \"indictrans_edit\", \"best_paraphrase_edit\"]]\n",
        "\n",
        "# Use melt to reshape the values and allow for multiple column plotting\n",
        "translator_edit_compare = translator_edit_compare.melt('language_task', var_name='cols',  value_name='vals')\n",
        "\n",
        "# The median cosine similarity score is highest when the ensemble method is used\n",
        "sns.boxplot(x = translator_edit_compare['language_task'],\n",
        "            y = translator_edit_compare['vals'],\n",
        "            hue = translator_edit_compare['cols'], palette=\"colorblind\").set_title('Edit Distances by Language and Translator (Bart, IndicTrans, or Ensemble)')"
      ],
      "execution_count": 51,
      "outputs": [
        {
          "output_type": "execute_result",
          "data": {
            "text/plain": [
              "Text(0.5, 1.0, 'Edit Distances by Language and Translator (Bart, IndicTrans, or Ensemble)')"
            ]
          },
          "metadata": {},
          "execution_count": 51
        },
        {
          "output_type": "display_data",
          "data": {
            "image/png": "[encoded data removed]",
            "text/plain": [
              "<Figure size 792x432 with 1 Axes>"
            ]
          },
          "metadata": {}
        }
      ]
    },
    {
      "cell_type": "code",
      "metadata": {
        "colab": {
          "base_uri": "https://localhost:8080/"
        },
        "id": "ucnJsZWBhbhp",
        "outputId": "03a6da90-1c9d-44df-d9a9-0e7e3ef8c7c8"
      },
      "source": [
        "# Get the median edit distances overall\n",
        "# The ensemble method results in a higher median edit distance than IndicTrans, but less than MBart\n",
        "print(translator_edit_compare.groupby('cols', as_index=False)['vals'].median(), \"\\n\")\n",
        "\n",
        "#  Get the median edit distances by language and translator\n",
        "# The ensemble method results in a higher median cosine similarity score for Hindi and Malayalam, but has the same median edit distance as IndicTrans for Tamil (both are better than MBart)\n",
        "print(translator_edit_compare.groupby(['language_task', 'cols'], as_index=False)['vals'].median())"
      ],
      "execution_count": 56,
      "outputs": [
        {
          "output_type": "stream",
          "name": "stdout",
          "text": [
            "                   cols  vals\n",
            "0             bart_edit    54\n",
            "1  best_paraphrase_edit    46\n",
            "2       indictrans_edit    44 \n",
            "\n",
            "  language_task                  cols  vals\n",
            "0         Hindi             bart_edit  36.0\n",
            "1         Hindi  best_paraphrase_edit  29.0\n",
            "2         Hindi       indictrans_edit  28.5\n",
            "3     Malayalam             bart_edit  75.0\n",
            "4     Malayalam  best_paraphrase_edit  58.0\n",
            "5     Malayalam       indictrans_edit  55.0\n",
            "6         Tamil             bart_edit  55.5\n",
            "7         Tamil  best_paraphrase_edit  53.0\n",
            "8         Tamil       indictrans_edit  53.0\n"
          ]
        }
      ]
    }
  ]
}